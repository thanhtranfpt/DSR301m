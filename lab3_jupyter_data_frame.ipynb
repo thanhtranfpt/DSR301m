{
 "cells": [
  {
   "cell_type": "markdown",
<<<<<<< HEAD
   "id": "96ddacdc-3af7-48e7-b1a9-1b01f7c66692",
=======
>>>>>>> abe518e9c75bfbd56e1d4970cdeac31254a96a89
   "metadata": {},
   "source": [
    "<center>\n",
    "<img src=\"https://cf-courses-data.s3.us.cloud-object-storage.appdomain.cloud/IBMDeveloperSkillsNetwork-RP0101EN-Coursera/v2/M1_R_Basics/images/SN_web_lightmode.png\" width=\"300\"> \n",
    "<center/>\n"
   ]
  },
  {
   "cell_type": "markdown",
<<<<<<< HEAD
   "id": "753183cd-736d-43f4-83ef-ba16076afb66",
=======
>>>>>>> abe518e9c75bfbd56e1d4970cdeac31254a96a89
   "metadata": {},
   "source": [
    "<h1>List and Dataframe</h1>\n",
    "\n",
    "Estimated time needed: **15** minutes\n",
    "\n",
    "## Objectives\n",
    "\n",
    "After completing this lab you will be able to:\n",
    "\n",
    "-   Understand the list and how list correlated with dataframe\n",
    "-   Understand dataframe\n",
    "-   Operate on dataframes\n"
   ]
  },
  {
   "cell_type": "markdown",
<<<<<<< HEAD
   "id": "75f8cbde-ec4a-499c-80b6-74a010f7a8d6",
=======
>>>>>>> abe518e9c75bfbd56e1d4970cdeac31254a96a89
   "metadata": {},
   "source": [
    "\n",
    "## Table of Contents\n",
    "\n",
    "<div class=\"alert alert-block alert-info\" style=\"margin-top: 20px\">\n",
    "<li><a href=\"#About-the-Dataset\">About the Dataset</a></li>\n",
    "<li><a href=\"#Lists\">Lists</a></li>\n",
    "<li><a href=\"#DataFrames\">Data frames</a></li>\n",
    "</div>\n"
   ]
  },
  {
   "cell_type": "markdown",
<<<<<<< HEAD
   "id": "8af57566-17a7-4aa4-8aae-3db4dd3f06fb",
=======
>>>>>>> abe518e9c75bfbd56e1d4970cdeac31254a96a89
   "metadata": {},
   "source": [
    "<a id=\"ref0\"></a>\n",
    "<center><h2>About the Dataset</h2></center>\n"
   ]
  },
  {
   "cell_type": "markdown",
<<<<<<< HEAD
   "id": "3b7d7dce-8e57-440e-bf9c-f2b3a44651ac",
=======
>>>>>>> abe518e9c75bfbd56e1d4970cdeac31254a96a89
   "metadata": {},
   "source": [
    "Imagine you got many movie recomendations from your friends and compiled all of the recomendations in a table, with specific info about each movie.\n",
    "\n",
    "The table has one row for each movie and several columns\n",
    "\n",
    "- **name** - The name of the movie\n",
    "- **year** - The year the movie was released\n",
    "- **length_min** - The lenght of the movie in minutes\n",
    "- **genre** - The genre of the movie\n",
    "- **average_rating** - Average rating on Imdb\n",
    "- **cost_millions** - The movie's production cost in millions\n",
    "- **sequences** - The amount of sequences\n",
    "- **foreign** - Indicative of whether the movie is foreign (1) or domestic (0)\n",
    "- **age_restriction** - The age restriction for the movie\n",
    "<br>\n",
    "<br>\n",
    "\n",
    "Part of the dataset can be seen below\n",
    "\n",
    "<img src=\"https://ibm.box.com/shared/static/6kr8sg0n6pc40zd1xn6hjhtvy3k7cmeq.png\" align=\"center\">\n"
   ]
  },
  {
   "cell_type": "markdown",
<<<<<<< HEAD
   "id": "bd9a511c-cc9b-4dcb-a755-93b3ad0096a8",
=======
>>>>>>> abe518e9c75bfbd56e1d4970cdeac31254a96a89
   "metadata": {},
   "source": [
    "<hr>\n"
   ]
  },
  {
   "cell_type": "markdown",
<<<<<<< HEAD
   "id": "fd67cb29-017c-4a07-a3ff-8dadb218a984",
=======
>>>>>>> abe518e9c75bfbd56e1d4970cdeac31254a96a89
   "metadata": {},
   "source": [
    "<a id=\"ref1\"></a>\n",
    "<center><h2>Lists</h2></center>\n",
    "\n",
    "First of all, we're gonna take a look at lists in R. \n",
    "\n",
    "A list is a sequenced collection of different objects of R, like vectors, numbers, characters, other lists and so on. You can consider a list as a container of correlated information, well structured, and easy to read with a context. \n",
    "\n",
    "A list accepts items of different types, but a vector (or a matrix, which is a multidimensional vector) doesn't. To create a list just type __list()__ with your content inside the parenthesis and separated by commas. Let’s try it!\n"
   ]
  },
  {
   "cell_type": "code",
<<<<<<< HEAD
   "execution_count": 1,
   "id": "95b9ffef-38f5-4f86-9a13-1acbc349563b",
   "metadata": {},
   "outputs": [],
   "source": [
    "movie <- list(\"Toy Story\", 1995, c(\"Animation\", \"Adventure\", \"Comedy\"))"
=======
   "execution_count": 2,
   "metadata": {
    "tags": []
   },
   "outputs": [],
   "source": [
    "movie <- list(\"Toy Story\", 1995, c(\"Animation\", \"Adventure\", \"Comedy\")) "
>>>>>>> abe518e9c75bfbd56e1d4970cdeac31254a96a89
   ]
  },
  {
   "cell_type": "markdown",
<<<<<<< HEAD
   "id": "6ffc1899-4538-48a8-8e3d-7febc6e7af13",
=======
>>>>>>> abe518e9c75bfbd56e1d4970cdeac31254a96a89
   "metadata": {},
   "source": [
    "In the code above, the variable movie contains a list of 3 objects, which are a string, a numeric value, and a vector of strings. \n",
    "\n",
    "Easy, eh? Now let's print the content of the list. We just need to call its name.\n"
   ]
  },
  {
   "cell_type": "code",
<<<<<<< HEAD
   "execution_count": 2,
   "id": "156a9ed1-f6a3-4f74-a156-60806229cd06",
   "metadata": {},
=======
   "execution_count": 3,
   "metadata": {
    "tags": []
   },
>>>>>>> abe518e9c75bfbd56e1d4970cdeac31254a96a89
   "outputs": [
    {
     "data": {
      "text/html": [
       "<ol>\n",
       "\t<li>'Toy Story'</li>\n",
       "\t<li>1995</li>\n",
       "\t<li><style>\n",
       ".list-inline {list-style: none; margin:0; padding: 0}\n",
       ".list-inline>li {display: inline-block}\n",
       ".list-inline>li:not(:last-child)::after {content: \"\\00b7\"; padding: 0 .5ex}\n",
       "</style>\n",
       "<ol class=list-inline><li>'Animation'</li><li>'Adventure'</li><li>'Comedy'</li></ol>\n",
       "</li>\n",
       "</ol>\n"
      ],
      "text/latex": [
       "\\begin{enumerate}\n",
       "\\item 'Toy Story'\n",
       "\\item 1995\n",
       "\\item \\begin{enumerate*}\n",
       "\\item 'Animation'\n",
       "\\item 'Adventure'\n",
       "\\item 'Comedy'\n",
       "\\end{enumerate*}\n",
       "\n",
       "\\end{enumerate}\n"
      ],
      "text/markdown": [
       "1. 'Toy Story'\n",
       "2. 1995\n",
       "3. 1. 'Animation'\n",
       "2. 'Adventure'\n",
       "3. 'Comedy'\n",
       "\n",
       "\n",
       "\n",
       "\n",
       "\n"
      ],
      "text/plain": [
       "[[1]]\n",
       "[1] \"Toy Story\"\n",
       "\n",
       "[[2]]\n",
       "[1] 1995\n",
       "\n",
       "[[3]]\n",
       "[1] \"Animation\" \"Adventure\" \"Comedy\"   \n"
      ]
     },
     "metadata": {},
     "output_type": "display_data"
    }
   ],
   "source": [
    "movie"
   ]
  },
  {
   "cell_type": "markdown",
<<<<<<< HEAD
   "id": "03971c09-2f8e-4141-a6e1-0b16892516bc",
=======
>>>>>>> abe518e9c75bfbd56e1d4970cdeac31254a96a89
   "metadata": {},
   "source": [
    "### Accessing items in a list\n",
    "It is possible to retrieve only a part of a list using the **single square** bracket operator \"**[ ]**\". This operator can be also used to get a single element in a specific position. Take a look at the next example:\n"
   ]
  },
  {
   "cell_type": "markdown",
<<<<<<< HEAD
   "id": "97eb4adb-ef4e-4be9-81d7-24c0639bf8f6",
=======
>>>>>>> abe518e9c75bfbd56e1d4970cdeac31254a96a89
   "metadata": {},
   "source": [
    "The index number 2 returns the second element of a list, if that element exists:\n"
   ]
  },
  {
   "cell_type": "code",
<<<<<<< HEAD
   "execution_count": 3,
   "id": "1c19ef54-ec6a-4558-bd75-24409631e30f",
   "metadata": {},
=======
   "execution_count": 4,
   "metadata": {
    "tags": []
   },
>>>>>>> abe518e9c75bfbd56e1d4970cdeac31254a96a89
   "outputs": [
    {
     "data": {
      "text/html": [
       "<ol>\n",
       "\t<li>1995</li>\n",
       "</ol>\n"
      ],
      "text/latex": [
       "\\begin{enumerate}\n",
       "\\item 1995\n",
       "\\end{enumerate}\n"
      ],
      "text/markdown": [
       "1. 1995\n",
       "\n",
       "\n"
      ],
      "text/plain": [
       "[[1]]\n",
       "[1] 1995\n"
      ]
     },
     "metadata": {},
     "output_type": "display_data"
    }
   ],
   "source": [
    "movie[2]"
   ]
  },
  {
   "cell_type": "markdown",
<<<<<<< HEAD
   "id": "d02e2ef8-5e20-4779-9955-d20e383fe3fd",
=======
>>>>>>> abe518e9c75bfbd56e1d4970cdeac31254a96a89
   "metadata": {},
   "source": [
    "Or you can select a part or interval of elements of a list. In our next example we are retrieving the 1st, 2nd, and 3rd elements:\n"
   ]
  },
  {
   "cell_type": "code",
<<<<<<< HEAD
   "execution_count": 4,
   "id": "15a7a2b8-cc5c-4b05-a758-37b84fb81aa8",
   "metadata": {},
   "outputs": [
    {
     "data": {
      "text/html": [
       "<ol>\n",
       "\t<li>1995</li>\n",
       "\t<li><style>\n",
       ".list-inline {list-style: none; margin:0; padding: 0}\n",
       ".list-inline>li {display: inline-block}\n",
       ".list-inline>li:not(:last-child)::after {content: \"\\00b7\"; padding: 0 .5ex}\n",
       "</style>\n",
       "<ol class=list-inline><li>'Animation'</li><li>'Adventure'</li><li>'Comedy'</li></ol>\n",
       "</li>\n",
       "</ol>\n"
      ],
      "text/latex": [
       "\\begin{enumerate}\n",
       "\\item 1995\n",
       "\\item \\begin{enumerate*}\n",
       "\\item 'Animation'\n",
       "\\item 'Adventure'\n",
       "\\item 'Comedy'\n",
       "\\end{enumerate*}\n",
       "\n",
       "\\end{enumerate}\n"
      ],
      "text/markdown": [
       "1. 1995\n",
       "2. 1. 'Animation'\n",
       "2. 'Adventure'\n",
       "3. 'Comedy'\n",
       "\n",
       "\n",
       "\n",
       "\n",
       "\n"
      ],
      "text/plain": [
       "[[1]]\n",
       "[1] 1995\n",
       "\n",
       "[[2]]\n",
       "[1] \"Animation\" \"Adventure\" \"Comedy\"   \n"
      ]
     },
     "metadata": {},
     "output_type": "display_data"
    }
   ],
=======
   "execution_count": null,
   "metadata": {},
   "outputs": [],
>>>>>>> abe518e9c75bfbd56e1d4970cdeac31254a96a89
   "source": [
    "movie[2:3]"
   ]
  },
  {
   "cell_type": "markdown",
<<<<<<< HEAD
   "id": "e4634433-a98b-4821-8c2e-e021777b2cc9",
=======
>>>>>>> abe518e9c75bfbd56e1d4970cdeac31254a96a89
   "metadata": {},
   "source": [
    "It looks a little confusing, but lists can also store names for its elements.\n"
   ]
  },
  {
   "cell_type": "markdown",
<<<<<<< HEAD
   "id": "9ae07019-35a8-40c7-8b82-d689445928d8",
=======
>>>>>>> abe518e9c75bfbd56e1d4970cdeac31254a96a89
   "metadata": {},
   "source": [
    "### Named lists\n",
    "\n",
    "The following list is a named list:\n"
   ]
  },
  {
   "cell_type": "code",
   "execution_count": 5,
<<<<<<< HEAD
   "id": "de679945-799e-4f5c-a258-c41cd6402881",
   "metadata": {},
=======
   "metadata": {
    "tags": []
   },
>>>>>>> abe518e9c75bfbd56e1d4970cdeac31254a96a89
   "outputs": [],
   "source": [
    "movie <- list(name = \"Toy Story\",\n",
    "             year = 1995,\n",
    "             genre = c(\"Animation\", \"Adventure\", \"Comedy\"))"
   ]
  },
  {
   "cell_type": "markdown",
<<<<<<< HEAD
   "id": "c3525f66-20db-4dfd-802d-ac9ab9341e49",
=======
>>>>>>> abe518e9c75bfbd56e1d4970cdeac31254a96a89
   "metadata": {},
   "source": [
    "Let me explain that: the list **movie** has some named objects within it. **name**, for example, is an object of type **character**, **year** is an object of type **number**, and **genre** is a vector with objects of type **character**.\n",
    "\n",
    "\n",
    "Now take a look at this list. This time, it's full of information and well organized. It's clear what each element means. You can see that the elements have different types, and that's ok because it's a list.\n"
   ]
  },
  {
   "cell_type": "code",
   "execution_count": 6,
<<<<<<< HEAD
   "id": "21e37cd8-9bbc-4118-9c42-282dc312a9cd",
   "metadata": {},
=======
   "metadata": {
    "tags": []
   },
>>>>>>> abe518e9c75bfbd56e1d4970cdeac31254a96a89
   "outputs": [
    {
     "data": {
      "text/html": [
       "<dl>\n",
       "\t<dt>$name</dt>\n",
       "\t\t<dd>'Toy Story'</dd>\n",
       "\t<dt>$year</dt>\n",
       "\t\t<dd>1995</dd>\n",
       "\t<dt>$genre</dt>\n",
       "\t\t<dd><style>\n",
       ".list-inline {list-style: none; margin:0; padding: 0}\n",
       ".list-inline>li {display: inline-block}\n",
       ".list-inline>li:not(:last-child)::after {content: \"\\00b7\"; padding: 0 .5ex}\n",
       "</style>\n",
       "<ol class=list-inline><li>'Animation'</li><li>'Adventure'</li><li>'Comedy'</li></ol>\n",
       "</dd>\n",
       "</dl>\n"
      ],
      "text/latex": [
       "\\begin{description}\n",
       "\\item[\\$name] 'Toy Story'\n",
       "\\item[\\$year] 1995\n",
       "\\item[\\$genre] \\begin{enumerate*}\n",
       "\\item 'Animation'\n",
       "\\item 'Adventure'\n",
       "\\item 'Comedy'\n",
       "\\end{enumerate*}\n",
       "\n",
       "\\end{description}\n"
      ],
      "text/markdown": [
       "$name\n",
       ":   'Toy Story'\n",
       "$year\n",
       ":   1995\n",
       "$genre\n",
       ":   1. 'Animation'\n",
       "2. 'Adventure'\n",
       "3. 'Comedy'\n",
       "\n",
       "\n",
       "\n",
       "\n",
       "\n"
      ],
      "text/plain": [
       "$name\n",
       "[1] \"Toy Story\"\n",
       "\n",
       "$year\n",
       "[1] 1995\n",
       "\n",
       "$genre\n",
       "[1] \"Animation\" \"Adventure\" \"Comedy\"   \n"
      ]
     },
     "metadata": {},
     "output_type": "display_data"
    }
   ],
   "source": [
    "movie"
   ]
  },
  {
   "cell_type": "markdown",
<<<<<<< HEAD
   "id": "ead2472d-93f1-4207-8492-79009c8be0ff",
=======
>>>>>>> abe518e9c75bfbd56e1d4970cdeac31254a96a89
   "metadata": {},
   "source": [
    "You can also get separated information from the list. You can use **listName\\$selectorName**. The _dollar-sign operator_ **$** will give you the block of data that is related to selectorName.\n",
    "\n",
    "Let's get the genre part of our movies list, for example.\n"
   ]
  },
  {
   "cell_type": "code",
   "execution_count": 7,
<<<<<<< HEAD
   "id": "43d2fe27-bf4a-4d8f-9197-34ad47d81ce6",
   "metadata": {},
=======
   "metadata": {
    "tags": []
   },
>>>>>>> abe518e9c75bfbd56e1d4970cdeac31254a96a89
   "outputs": [
    {
     "data": {
      "text/html": [
       "<style>\n",
       ".list-inline {list-style: none; margin:0; padding: 0}\n",
       ".list-inline>li {display: inline-block}\n",
       ".list-inline>li:not(:last-child)::after {content: \"\\00b7\"; padding: 0 .5ex}\n",
       "</style>\n",
       "<ol class=list-inline><li>'Animation'</li><li>'Adventure'</li><li>'Comedy'</li></ol>\n"
      ],
      "text/latex": [
       "\\begin{enumerate*}\n",
       "\\item 'Animation'\n",
       "\\item 'Adventure'\n",
       "\\item 'Comedy'\n",
       "\\end{enumerate*}\n"
      ],
      "text/markdown": [
       "1. 'Animation'\n",
       "2. 'Adventure'\n",
       "3. 'Comedy'\n",
       "\n",
       "\n"
      ],
      "text/plain": [
       "[1] \"Animation\" \"Adventure\" \"Comedy\"   "
      ]
     },
     "metadata": {},
     "output_type": "display_data"
    }
   ],
   "source": [
    "movie$genre"
   ]
  },
  {
   "cell_type": "markdown",
<<<<<<< HEAD
   "id": "a7d23966-2454-41d1-8b24-23a60b692dcb",
=======
>>>>>>> abe518e9c75bfbd56e1d4970cdeac31254a96a89
   "metadata": {},
   "source": [
    "Another way of selecting the genre column:\n"
   ]
  },
  {
   "cell_type": "code",
   "execution_count": 8,
<<<<<<< HEAD
   "id": "f5580c77-b8aa-487e-8538-05ade0305750",
   "metadata": {},
=======
   "metadata": {
    "tags": []
   },
>>>>>>> abe518e9c75bfbd56e1d4970cdeac31254a96a89
   "outputs": [
    {
     "data": {
      "text/html": [
       "<strong>$genre</strong> = <style>\n",
       ".list-inline {list-style: none; margin:0; padding: 0}\n",
       ".list-inline>li {display: inline-block}\n",
       ".list-inline>li:not(:last-child)::after {content: \"\\00b7\"; padding: 0 .5ex}\n",
       "</style>\n",
       "<ol class=list-inline><li>'Animation'</li><li>'Adventure'</li><li>'Comedy'</li></ol>\n"
      ],
      "text/latex": [
       "\\textbf{\\$genre} = \\begin{enumerate*}\n",
       "\\item 'Animation'\n",
       "\\item 'Adventure'\n",
       "\\item 'Comedy'\n",
       "\\end{enumerate*}\n"
      ],
      "text/markdown": [
       "**$genre** = 1. 'Animation'\n",
       "2. 'Adventure'\n",
       "3. 'Comedy'\n",
       "\n",
       "\n"
      ],
      "text/plain": [
       "$genre\n",
       "[1] \"Animation\" \"Adventure\" \"Comedy\"   \n"
      ]
     },
     "metadata": {},
     "output_type": "display_data"
    }
   ],
   "source": [
    "movie[\"genre\"]"
   ]
  },
  {
   "cell_type": "markdown",
<<<<<<< HEAD
   "id": "f89adeba-5e78-464b-a296-56ffc2b8736d",
=======
>>>>>>> abe518e9c75bfbd56e1d4970cdeac31254a96a89
   "metadata": {},
   "source": [
    "<hr>\n",
    "\n",
    "**Coding Exercise:** in the code cell below, get the second element in the genre column\n"
   ]
  },
  {
   "cell_type": "code",
<<<<<<< HEAD
   "execution_count": 9,
   "id": "0df9d6ca-6d9b-46e7-b581-016af6c5001f",
   "metadata": {},
   "outputs": [
    {
     "data": {
      "text/html": [
       "'Adventure'"
      ],
      "text/latex": [
       "'Adventure'"
      ],
      "text/markdown": [
       "'Adventure'"
      ],
      "text/plain": [
       "[1] \"Adventure\""
      ]
     },
     "metadata": {},
     "output_type": "display_data"
    }
   ],
   "source": [
    "# Write your code below. Don't forget to press Shift+Enter to execute the cell\n",
    "movie$genre[2]"
=======
   "execution_count": null,
   "metadata": {},
   "outputs": [],
   "source": [
    "# Write your code below. Don't forget to press Shift+Enter to execute the cell\n"
>>>>>>> abe518e9c75bfbd56e1d4970cdeac31254a96a89
   ]
  },
  {
   "cell_type": "markdown",
<<<<<<< HEAD
   "id": "bab4f367-edc0-4719-a932-401a12bfae64",
=======
>>>>>>> abe518e9c75bfbd56e1d4970cdeac31254a96a89
   "metadata": {},
   "source": [
    "<details><summary>Click here for the solution</summary>\n",
    "\n",
    "```R\n",
    "movie$genre[2]\n",
    "\n",
    "```\n",
    "\n",
    "</details>\n",
    "\n",
    "<hr>\n"
   ]
  },
  {
   "cell_type": "markdown",
<<<<<<< HEAD
   "id": "e2f18f25-1555-449f-a288-d3494f8ddef2",
=======
>>>>>>> abe518e9c75bfbd56e1d4970cdeac31254a96a89
   "metadata": {},
   "source": [
    "You can also use numerical selectors like an array. Here we are selecting elements ranged from 2 to 3.\n"
   ]
  },
  {
   "cell_type": "code",
<<<<<<< HEAD
   "execution_count": 10,
   "id": "d8b2f9b6-6e28-436f-a377-91048bc278da",
   "metadata": {},
=======
   "execution_count": 9,
   "metadata": {
    "tags": []
   },
>>>>>>> abe518e9c75bfbd56e1d4970cdeac31254a96a89
   "outputs": [
    {
     "data": {
      "text/html": [
       "<dl>\n",
       "\t<dt>$year</dt>\n",
       "\t\t<dd>1995</dd>\n",
       "\t<dt>$genre</dt>\n",
       "\t\t<dd><style>\n",
       ".list-inline {list-style: none; margin:0; padding: 0}\n",
       ".list-inline>li {display: inline-block}\n",
       ".list-inline>li:not(:last-child)::after {content: \"\\00b7\"; padding: 0 .5ex}\n",
       "</style>\n",
       "<ol class=list-inline><li>'Animation'</li><li>'Adventure'</li><li>'Comedy'</li></ol>\n",
       "</dd>\n",
       "</dl>\n"
      ],
      "text/latex": [
       "\\begin{description}\n",
       "\\item[\\$year] 1995\n",
       "\\item[\\$genre] \\begin{enumerate*}\n",
       "\\item 'Animation'\n",
       "\\item 'Adventure'\n",
       "\\item 'Comedy'\n",
       "\\end{enumerate*}\n",
       "\n",
       "\\end{description}\n"
      ],
      "text/markdown": [
       "$year\n",
       ":   1995\n",
       "$genre\n",
       ":   1. 'Animation'\n",
       "2. 'Adventure'\n",
       "3. 'Comedy'\n",
       "\n",
       "\n",
       "\n",
       "\n",
       "\n"
      ],
      "text/plain": [
       "$year\n",
       "[1] 1995\n",
       "\n",
       "$genre\n",
       "[1] \"Animation\" \"Adventure\" \"Comedy\"   \n"
      ]
     },
     "metadata": {},
     "output_type": "display_data"
    }
   ],
   "source": [
    "movie[2:3]"
   ]
  },
  {
   "cell_type": "markdown",
<<<<<<< HEAD
   "id": "f66a84b4-3653-4b04-860e-809669f8a069",
=======
>>>>>>> abe518e9c75bfbd56e1d4970cdeac31254a96a89
   "metadata": {},
   "source": [
    "The function __class()__ returns the type of a object. You can use that function to retrieve the type of specific elements of a list:\n"
   ]
  },
  {
   "cell_type": "code",
<<<<<<< HEAD
   "execution_count": 11,
   "id": "74b80946-0c73-49d6-bf1b-d1da1e1c5d6f",
   "metadata": {},
=======
   "execution_count": 10,
   "metadata": {
    "tags": []
   },
>>>>>>> abe518e9c75bfbd56e1d4970cdeac31254a96a89
   "outputs": [
    {
     "data": {
      "text/html": [
       "'character'"
      ],
      "text/latex": [
       "'character'"
      ],
      "text/markdown": [
       "'character'"
      ],
      "text/plain": [
       "[1] \"character\""
      ]
     },
     "metadata": {},
     "output_type": "display_data"
    }
   ],
   "source": [
    "class(movie$name)"
   ]
  },
  {
   "cell_type": "markdown",
<<<<<<< HEAD
   "id": "1b936e76-40fa-42d6-88b1-80023d20b001",
=======
>>>>>>> abe518e9c75bfbd56e1d4970cdeac31254a96a89
   "metadata": {},
   "source": [
    "### Adding, modifying, and removing items\n"
   ]
  },
  {
   "cell_type": "markdown",
<<<<<<< HEAD
   "id": "c68241cf-51d6-4fcf-95b4-36f5adb33db6",
=======
>>>>>>> abe518e9c75bfbd56e1d4970cdeac31254a96a89
   "metadata": {},
   "source": [
    "Adding a new element is also very easy. The code below adds a new field named **age** and puts the numerical value 5 into it. \n",
    "\n",
    "In this case we use the double square brackets operator, because we are directly referencing a list member (and we want to change its content).\n"
   ]
  },
  {
   "cell_type": "code",
<<<<<<< HEAD
   "execution_count": 12,
   "id": "972efb30-8c79-4b0d-ad91-61a316fc1a9b",
   "metadata": {},
=======
   "execution_count": 11,
   "metadata": {
    "tags": []
   },
>>>>>>> abe518e9c75bfbd56e1d4970cdeac31254a96a89
   "outputs": [
    {
     "data": {
      "text/html": [
       "<dl>\n",
       "\t<dt>$name</dt>\n",
       "\t\t<dd>'Toy Story'</dd>\n",
       "\t<dt>$year</dt>\n",
       "\t\t<dd>1995</dd>\n",
       "\t<dt>$genre</dt>\n",
       "\t\t<dd><style>\n",
       ".list-inline {list-style: none; margin:0; padding: 0}\n",
       ".list-inline>li {display: inline-block}\n",
       ".list-inline>li:not(:last-child)::after {content: \"\\00b7\"; padding: 0 .5ex}\n",
       "</style>\n",
       "<ol class=list-inline><li>'Animation'</li><li>'Adventure'</li><li>'Comedy'</li></ol>\n",
       "</dd>\n",
       "\t<dt>$age</dt>\n",
       "\t\t<dd>5</dd>\n",
       "</dl>\n"
      ],
      "text/latex": [
       "\\begin{description}\n",
       "\\item[\\$name] 'Toy Story'\n",
       "\\item[\\$year] 1995\n",
       "\\item[\\$genre] \\begin{enumerate*}\n",
       "\\item 'Animation'\n",
       "\\item 'Adventure'\n",
       "\\item 'Comedy'\n",
       "\\end{enumerate*}\n",
       "\n",
       "\\item[\\$age] 5\n",
       "\\end{description}\n"
      ],
      "text/markdown": [
       "$name\n",
       ":   'Toy Story'\n",
       "$year\n",
       ":   1995\n",
       "$genre\n",
       ":   1. 'Animation'\n",
       "2. 'Adventure'\n",
       "3. 'Comedy'\n",
       "\n",
       "\n",
       "\n",
       "$age\n",
       ":   5\n",
       "\n",
       "\n"
      ],
      "text/plain": [
       "$name\n",
       "[1] \"Toy Story\"\n",
       "\n",
       "$year\n",
       "[1] 1995\n",
       "\n",
       "$genre\n",
       "[1] \"Animation\" \"Adventure\" \"Comedy\"   \n",
       "\n",
       "$age\n",
       "[1] 5\n"
      ]
     },
     "metadata": {},
     "output_type": "display_data"
    }
   ],
   "source": [
    "movie[[\"age\"]] <- 5\n",
    "movie"
   ]
  },
  {
   "cell_type": "markdown",
<<<<<<< HEAD
   "id": "eaeca769-f583-4278-a15f-3797397a5610",
=======
>>>>>>> abe518e9c75bfbd56e1d4970cdeac31254a96a89
   "metadata": {},
   "source": [
    "In order to modify, you just need to refer a list member that already exists, then change its content.\n"
   ]
  },
  {
   "cell_type": "code",
<<<<<<< HEAD
   "execution_count": 13,
   "id": "35b86cf9-4317-4b8b-80ee-ffbbe2fc8ab7",
   "metadata": {},
=======
   "execution_count": 12,
   "metadata": {
    "tags": []
   },
>>>>>>> abe518e9c75bfbd56e1d4970cdeac31254a96a89
   "outputs": [
    {
     "data": {
      "text/html": [
       "<dl>\n",
       "\t<dt>$name</dt>\n",
       "\t\t<dd>'Toy Story'</dd>\n",
       "\t<dt>$year</dt>\n",
       "\t\t<dd>1995</dd>\n",
       "\t<dt>$genre</dt>\n",
       "\t\t<dd><style>\n",
       ".list-inline {list-style: none; margin:0; padding: 0}\n",
       ".list-inline>li {display: inline-block}\n",
       ".list-inline>li:not(:last-child)::after {content: \"\\00b7\"; padding: 0 .5ex}\n",
       "</style>\n",
       "<ol class=list-inline><li>'Animation'</li><li>'Adventure'</li><li>'Comedy'</li></ol>\n",
       "</dd>\n",
       "\t<dt>$age</dt>\n",
       "\t\t<dd>6</dd>\n",
       "</dl>\n"
      ],
      "text/latex": [
       "\\begin{description}\n",
       "\\item[\\$name] 'Toy Story'\n",
       "\\item[\\$year] 1995\n",
       "\\item[\\$genre] \\begin{enumerate*}\n",
       "\\item 'Animation'\n",
       "\\item 'Adventure'\n",
       "\\item 'Comedy'\n",
       "\\end{enumerate*}\n",
       "\n",
       "\\item[\\$age] 6\n",
       "\\end{description}\n"
      ],
      "text/markdown": [
       "$name\n",
       ":   'Toy Story'\n",
       "$year\n",
       ":   1995\n",
       "$genre\n",
       ":   1. 'Animation'\n",
       "2. 'Adventure'\n",
       "3. 'Comedy'\n",
       "\n",
       "\n",
       "\n",
       "$age\n",
       ":   6\n",
       "\n",
       "\n"
      ],
      "text/plain": [
       "$name\n",
       "[1] \"Toy Story\"\n",
       "\n",
       "$year\n",
       "[1] 1995\n",
       "\n",
       "$genre\n",
       "[1] \"Animation\" \"Adventure\" \"Comedy\"   \n",
       "\n",
       "$age\n",
       "[1] 6\n"
      ]
     },
     "metadata": {},
     "output_type": "display_data"
    }
   ],
   "source": [
    "movie[[\"age\"]] <- 6\n",
    "# Now it's 6, not 5\n",
    "movie"
   ]
  },
  {
   "cell_type": "markdown",
<<<<<<< HEAD
   "id": "e2ca31c9-a4a3-4ff7-af80-b78f97d9e0ae",
=======
>>>>>>> abe518e9c75bfbd56e1d4970cdeac31254a96a89
   "metadata": {},
   "source": [
    "And removing is also easy! You just put **_NULL_**, which means missing value/data, into it.\n"
   ]
  },
  {
   "cell_type": "code",
<<<<<<< HEAD
   "execution_count": 14,
   "id": "b65c81b4-25a2-4ee1-9ad5-fd836565d27b",
   "metadata": {},
=======
   "execution_count": 13,
   "metadata": {
    "tags": []
   },
>>>>>>> abe518e9c75bfbd56e1d4970cdeac31254a96a89
   "outputs": [
    {
     "data": {
      "text/html": [
       "<dl>\n",
       "\t<dt>$name</dt>\n",
       "\t\t<dd>'Toy Story'</dd>\n",
       "\t<dt>$year</dt>\n",
       "\t\t<dd>1995</dd>\n",
       "\t<dt>$genre</dt>\n",
       "\t\t<dd><style>\n",
       ".list-inline {list-style: none; margin:0; padding: 0}\n",
       ".list-inline>li {display: inline-block}\n",
       ".list-inline>li:not(:last-child)::after {content: \"\\00b7\"; padding: 0 .5ex}\n",
       "</style>\n",
       "<ol class=list-inline><li>'Animation'</li><li>'Adventure'</li><li>'Comedy'</li></ol>\n",
       "</dd>\n",
       "</dl>\n"
      ],
      "text/latex": [
       "\\begin{description}\n",
       "\\item[\\$name] 'Toy Story'\n",
       "\\item[\\$year] 1995\n",
       "\\item[\\$genre] \\begin{enumerate*}\n",
       "\\item 'Animation'\n",
       "\\item 'Adventure'\n",
       "\\item 'Comedy'\n",
       "\\end{enumerate*}\n",
       "\n",
       "\\end{description}\n"
      ],
      "text/markdown": [
       "$name\n",
       ":   'Toy Story'\n",
       "$year\n",
       ":   1995\n",
       "$genre\n",
       ":   1. 'Animation'\n",
       "2. 'Adventure'\n",
       "3. 'Comedy'\n",
       "\n",
       "\n",
       "\n",
       "\n",
       "\n"
      ],
      "text/plain": [
       "$name\n",
       "[1] \"Toy Story\"\n",
       "\n",
       "$year\n",
       "[1] 1995\n",
       "\n",
       "$genre\n",
       "[1] \"Animation\" \"Adventure\" \"Comedy\"   \n"
      ]
     },
     "metadata": {},
     "output_type": "display_data"
    }
   ],
   "source": [
    "movie[[\"age\"]] <- NULL\n",
    "movie"
   ]
  },
  {
   "cell_type": "markdown",
<<<<<<< HEAD
   "id": "aa8c8126-d7a3-4ac0-8e8e-207d91f43722",
=======
>>>>>>> abe518e9c75bfbd56e1d4970cdeac31254a96a89
   "metadata": {},
   "source": [
    "**Coding Exercise:** in the code cell below, add a logical column with a name 'WillWatch' with value TRUE or T\n"
   ]
  },
  {
   "cell_type": "code",
<<<<<<< HEAD
   "execution_count": 17,
   "id": "d1a6080b-1fc7-4c78-a87f-60abdd69efe9",
   "metadata": {},
   "outputs": [
    {
     "data": {
      "text/html": [
       "<dl>\n",
       "\t<dt>$name</dt>\n",
       "\t\t<dd>'Toy Story'</dd>\n",
       "\t<dt>$year</dt>\n",
       "\t\t<dd>1995</dd>\n",
       "\t<dt>$genre</dt>\n",
       "\t\t<dd><style>\n",
       ".list-inline {list-style: none; margin:0; padding: 0}\n",
       ".list-inline>li {display: inline-block}\n",
       ".list-inline>li:not(:last-child)::after {content: \"\\00b7\"; padding: 0 .5ex}\n",
       "</style>\n",
       "<ol class=list-inline><li>'Animation'</li><li>'Adventure'</li><li>'Comedy'</li></ol>\n",
       "</dd>\n",
       "\t<dt>$WillWatch</dt>\n",
       "\t\t<dd>TRUE</dd>\n",
       "</dl>\n"
      ],
      "text/latex": [
       "\\begin{description}\n",
       "\\item[\\$name] 'Toy Story'\n",
       "\\item[\\$year] 1995\n",
       "\\item[\\$genre] \\begin{enumerate*}\n",
       "\\item 'Animation'\n",
       "\\item 'Adventure'\n",
       "\\item 'Comedy'\n",
       "\\end{enumerate*}\n",
       "\n",
       "\\item[\\$WillWatch] TRUE\n",
       "\\end{description}\n"
      ],
      "text/markdown": [
       "$name\n",
       ":   'Toy Story'\n",
       "$year\n",
       ":   1995\n",
       "$genre\n",
       ":   1. 'Animation'\n",
       "2. 'Adventure'\n",
       "3. 'Comedy'\n",
       "\n",
       "\n",
       "\n",
       "$WillWatch\n",
       ":   TRUE\n",
       "\n",
       "\n"
      ],
      "text/plain": [
       "$name\n",
       "[1] \"Toy Story\"\n",
       "\n",
       "$year\n",
       "[1] 1995\n",
       "\n",
       "$genre\n",
       "[1] \"Animation\" \"Adventure\" \"Comedy\"   \n",
       "\n",
       "$WillWatch\n",
       "[1] TRUE\n"
      ]
     },
     "metadata": {},
     "output_type": "display_data"
    }
   ],
   "source": [
    "# Write your code below. Don't forget to press Shift+Enter to execute the cell\n",
    "movie[['WillWatch']] <- T\n",
    "movie"
=======
   "execution_count": null,
   "metadata": {},
   "outputs": [],
   "source": [
    "# Write your code below. Don't forget to press Shift+Enter to execute the cell\n"
>>>>>>> abe518e9c75bfbd56e1d4970cdeac31254a96a89
   ]
  },
  {
   "cell_type": "markdown",
<<<<<<< HEAD
   "id": "0d277d50-55a6-40ab-b8cd-0b3454742dd8",
=======
>>>>>>> abe518e9c75bfbd56e1d4970cdeac31254a96a89
   "metadata": {},
   "source": [
    "<details><summary>Click here for the solution</summary>\n",
    "\n",
    "```R\n",
    "movie[[\"WillWatch\"]] <- T\n",
    "movie\n",
    "```\n",
    "\n",
    "</details>\n"
   ]
  },
  {
   "cell_type": "markdown",
<<<<<<< HEAD
   "id": "a46fcabc-6150-48ae-8bc9-5e0eef8101d5",
=======
>>>>>>> abe518e9c75bfbd56e1d4970cdeac31254a96a89
   "metadata": {},
   "source": [
    "### Concatenating lists\n",
    "\n",
    "Concatenation is the proccess of puting things together, in sequence. And yes, you can do it with lists. Just call the function **_c()_**. Take a look at the next example:\n"
   ]
  },
  {
   "cell_type": "code",
<<<<<<< HEAD
   "execution_count": 18,
   "id": "f3d1d03a-a18b-40f1-be3a-b4451d7f9edc",
   "metadata": {},
=======
   "execution_count": 14,
   "metadata": {
    "tags": []
   },
>>>>>>> abe518e9c75bfbd56e1d4970cdeac31254a96a89
   "outputs": [
    {
     "data": {
      "text/html": [
       "<dl>\n",
       "\t<dt>$name</dt>\n",
       "\t\t<dd>'Toy Story'</dd>\n",
       "\t<dt>$year</dt>\n",
       "\t\t<dd>1995</dd>\n",
       "\t<dt>$genre</dt>\n",
       "\t\t<dd><style>\n",
       ".list-inline {list-style: none; margin:0; padding: 0}\n",
       ".list-inline>li {display: inline-block}\n",
       ".list-inline>li:not(:last-child)::after {content: \"\\00b7\"; padding: 0 .5ex}\n",
       "</style>\n",
       "<ol class=list-inline><li>'Animation'</li><li>'Adventure'</li><li>'Comedy'</li></ol>\n",
       "</dd>\n",
       "</dl>\n"
      ],
      "text/latex": [
       "\\begin{description}\n",
       "\\item[\\$name] 'Toy Story'\n",
       "\\item[\\$year] 1995\n",
       "\\item[\\$genre] \\begin{enumerate*}\n",
       "\\item 'Animation'\n",
       "\\item 'Adventure'\n",
       "\\item 'Comedy'\n",
       "\\end{enumerate*}\n",
       "\n",
       "\\end{description}\n"
      ],
      "text/markdown": [
       "$name\n",
       ":   'Toy Story'\n",
       "$year\n",
       ":   1995\n",
       "$genre\n",
       ":   1. 'Animation'\n",
       "2. 'Adventure'\n",
       "3. 'Comedy'\n",
       "\n",
       "\n",
       "\n",
       "\n",
       "\n"
      ],
      "text/plain": [
       "$name\n",
       "[1] \"Toy Story\"\n",
       "\n",
       "$year\n",
       "[1] 1995\n",
       "\n",
       "$genre\n",
       "[1] \"Animation\" \"Adventure\" \"Comedy\"   \n"
      ]
     },
     "metadata": {},
     "output_type": "display_data"
    }
   ],
   "source": [
    "# We split our previous list in two sublists\n",
    "movie_part1 <- list(name = \"Toy Story\")\n",
    "movie_part2 <- list(year = 1995, genre = c(\"Animation\", \"Adventure\", \"Comedy\"))\n",
    "\n",
    "# Now we call the function c() to put everything together again\n",
    "movie_concatenated <- c(movie_part1, movie_part2)\n",
    "\n",
    "# Check it out\n",
    "movie_concatenated"
   ]
  },
  {
   "cell_type": "markdown",
<<<<<<< HEAD
   "id": "5f132a79-ca45-404d-985a-c093bf6253bf",
=======
>>>>>>> abe518e9c75bfbd56e1d4970cdeac31254a96a89
   "metadata": {},
   "source": [
    "Lists are really handy for organizing different types of elements in R, and also easy to use. \n",
    "\n",
    "Additionally, lists are also important since this type of data structure is essential to create data frames, our next covered topic.\n"
   ]
  },
  {
   "cell_type": "markdown",
<<<<<<< HEAD
   "id": "33dfa956-539e-4618-9247-b9dd2d47fbcc",
=======
>>>>>>> abe518e9c75bfbd56e1d4970cdeac31254a96a89
   "metadata": {},
   "source": [
    "<hr>\n"
   ]
  },
  {
   "cell_type": "markdown",
<<<<<<< HEAD
   "id": "2ce3f429-3d9a-4591-bccf-9f898af7df98",
=======
>>>>>>> abe518e9c75bfbd56e1d4970cdeac31254a96a89
   "metadata": {},
   "source": [
    "<a id=\"ref2\"></a>\n",
    "<center><h2>DataFrames</h2></center>\n"
   ]
  },
  {
   "cell_type": "markdown",
<<<<<<< HEAD
   "id": "3e3983d0-c9c1-410b-ae5b-d557a3edd767",
=======
>>>>>>> abe518e9c75bfbd56e1d4970cdeac31254a96a89
   "metadata": {},
   "source": [
    "A DataFrame is a structure that is used for storing data tables. Underneath it all, a data frame is a list of vectors of same length, exactly like a table (each vector is a column). \n",
    "\n",
    "We can use the function  __data.frame()__ to create a data frame and pass vector, which are our columns, as arguments. It is required to name the columns that will compose the data frame.\n"
   ]
  },
  {
   "cell_type": "code",
<<<<<<< HEAD
   "execution_count": 19,
   "id": "1f753381-a6cf-4eac-abfb-9ed04479e389",
=======
   "execution_count": null,
>>>>>>> abe518e9c75bfbd56e1d4970cdeac31254a96a89
   "metadata": {},
   "outputs": [],
   "source": [
    "movies <- data.frame(name = c(\"Toy Story\", \"Akira\", \"The Breakfast Club\", \"The Artist\",\n",
    "                              \"Modern Times\", \"Fight Club\", \"City of God\", \"The Untouchables\"),\n",
    "                    year = c(1995, 1998, 1985, 2011, 1936, 1999, 2002, 1987),\n",
    "                    stringsAsFactors=F)"
   ]
  },
  {
   "cell_type": "markdown",
<<<<<<< HEAD
   "id": "aeadab66-080b-459e-8e03-9d0006f5fed2",
=======
>>>>>>> abe518e9c75bfbd56e1d4970cdeac31254a96a89
   "metadata": {},
   "source": [
    "Let's print its content of our recently created data frame:\n"
   ]
  },
  {
   "cell_type": "code",
<<<<<<< HEAD
   "execution_count": 20,
   "id": "0885de36-49ae-4ec4-8462-103b076eadf3",
   "metadata": {},
   "outputs": [
    {
     "data": {
      "text/html": [
       "<table class=\"dataframe\">\n",
       "<caption>A data.frame: 8 × 2</caption>\n",
       "<thead>\n",
       "\t<tr><th scope=col>name</th><th scope=col>year</th></tr>\n",
       "\t<tr><th scope=col>&lt;chr&gt;</th><th scope=col>&lt;dbl&gt;</th></tr>\n",
       "</thead>\n",
       "<tbody>\n",
       "\t<tr><td>Toy Story         </td><td>1995</td></tr>\n",
       "\t<tr><td>Akira             </td><td>1998</td></tr>\n",
       "\t<tr><td>The Breakfast Club</td><td>1985</td></tr>\n",
       "\t<tr><td>The Artist        </td><td>2011</td></tr>\n",
       "\t<tr><td>Modern Times      </td><td>1936</td></tr>\n",
       "\t<tr><td>Fight Club        </td><td>1999</td></tr>\n",
       "\t<tr><td>City of God       </td><td>2002</td></tr>\n",
       "\t<tr><td>The Untouchables  </td><td>1987</td></tr>\n",
       "</tbody>\n",
       "</table>\n"
      ],
      "text/latex": [
       "A data.frame: 8 × 2\n",
       "\\begin{tabular}{ll}\n",
       " name & year\\\\\n",
       " <chr> & <dbl>\\\\\n",
       "\\hline\n",
       "\t Toy Story          & 1995\\\\\n",
       "\t Akira              & 1998\\\\\n",
       "\t The Breakfast Club & 1985\\\\\n",
       "\t The Artist         & 2011\\\\\n",
       "\t Modern Times       & 1936\\\\\n",
       "\t Fight Club         & 1999\\\\\n",
       "\t City of God        & 2002\\\\\n",
       "\t The Untouchables   & 1987\\\\\n",
       "\\end{tabular}\n"
      ],
      "text/markdown": [
       "\n",
       "A data.frame: 8 × 2\n",
       "\n",
       "| name &lt;chr&gt; | year &lt;dbl&gt; |\n",
       "|---|---|\n",
       "| Toy Story          | 1995 |\n",
       "| Akira              | 1998 |\n",
       "| The Breakfast Club | 1985 |\n",
       "| The Artist         | 2011 |\n",
       "| Modern Times       | 1936 |\n",
       "| Fight Club         | 1999 |\n",
       "| City of God        | 2002 |\n",
       "| The Untouchables   | 1987 |\n",
       "\n"
      ],
      "text/plain": [
       "  name               year\n",
       "1 Toy Story          1995\n",
       "2 Akira              1998\n",
       "3 The Breakfast Club 1985\n",
       "4 The Artist         2011\n",
       "5 Modern Times       1936\n",
       "6 Fight Club         1999\n",
       "7 City of God        2002\n",
       "8 The Untouchables   1987"
      ]
     },
     "metadata": {},
     "output_type": "display_data"
    }
   ],
=======
   "execution_count": null,
   "metadata": {},
   "outputs": [],
>>>>>>> abe518e9c75bfbd56e1d4970cdeac31254a96a89
   "source": [
    "movies"
   ]
  },
  {
   "cell_type": "markdown",
<<<<<<< HEAD
   "id": "317f5e5e-077b-40fb-8ea7-cff39e64667a",
=======
>>>>>>> abe518e9c75bfbd56e1d4970cdeac31254a96a89
   "metadata": {},
   "source": [
    "It's very easy! You can note how it looks like a table.\n",
    "\n",
    "We can also use the __\"$\"__ selector to get some type of information. This operator returns the content of a specific column of a data frame (that's why we have to choose a name for each column).\n"
   ]
  },
  {
   "cell_type": "code",
<<<<<<< HEAD
   "execution_count": 21,
   "id": "839fc382-e53c-42ac-94d4-67284465ee72",
   "metadata": {},
   "outputs": [
    {
     "data": {
      "text/html": [
       "<style>\n",
       ".list-inline {list-style: none; margin:0; padding: 0}\n",
       ".list-inline>li {display: inline-block}\n",
       ".list-inline>li:not(:last-child)::after {content: \"\\00b7\"; padding: 0 .5ex}\n",
       "</style>\n",
       "<ol class=list-inline><li>'Toy Story'</li><li>'Akira'</li><li>'The Breakfast Club'</li><li>'The Artist'</li><li>'Modern Times'</li><li>'Fight Club'</li><li>'City of God'</li><li>'The Untouchables'</li></ol>\n"
      ],
      "text/latex": [
       "\\begin{enumerate*}\n",
       "\\item 'Toy Story'\n",
       "\\item 'Akira'\n",
       "\\item 'The Breakfast Club'\n",
       "\\item 'The Artist'\n",
       "\\item 'Modern Times'\n",
       "\\item 'Fight Club'\n",
       "\\item 'City of God'\n",
       "\\item 'The Untouchables'\n",
       "\\end{enumerate*}\n"
      ],
      "text/markdown": [
       "1. 'Toy Story'\n",
       "2. 'Akira'\n",
       "3. 'The Breakfast Club'\n",
       "4. 'The Artist'\n",
       "5. 'Modern Times'\n",
       "6. 'Fight Club'\n",
       "7. 'City of God'\n",
       "8. 'The Untouchables'\n",
       "\n",
       "\n"
      ],
      "text/plain": [
       "[1] \"Toy Story\"          \"Akira\"              \"The Breakfast Club\"\n",
       "[4] \"The Artist\"         \"Modern Times\"       \"Fight Club\"        \n",
       "[7] \"City of God\"        \"The Untouchables\"  "
      ]
     },
     "metadata": {},
     "output_type": "display_data"
    }
   ],
=======
   "execution_count": null,
   "metadata": {},
   "outputs": [],
>>>>>>> abe518e9c75bfbd56e1d4970cdeac31254a96a89
   "source": [
    "movies$name"
   ]
  },
  {
   "cell_type": "markdown",
<<<<<<< HEAD
   "id": "4ee61c9b-189b-4438-9203-e372d4bc0165",
=======
>>>>>>> abe518e9c75bfbd56e1d4970cdeac31254a96a89
   "metadata": {},
   "source": [
    "You retrieve data using numeric indexing, like in lists:\n"
   ]
  },
  {
   "cell_type": "code",
<<<<<<< HEAD
   "execution_count": 22,
   "id": "e9075be8-d76a-4df2-9475-eee9c47a3bcb",
   "metadata": {},
   "outputs": [
    {
     "data": {
      "text/html": [
       "<table class=\"dataframe\">\n",
       "<caption>A data.frame: 8 × 1</caption>\n",
       "<thead>\n",
       "\t<tr><th scope=col>name</th></tr>\n",
       "\t<tr><th scope=col>&lt;chr&gt;</th></tr>\n",
       "</thead>\n",
       "<tbody>\n",
       "\t<tr><td>Toy Story         </td></tr>\n",
       "\t<tr><td>Akira             </td></tr>\n",
       "\t<tr><td>The Breakfast Club</td></tr>\n",
       "\t<tr><td>The Artist        </td></tr>\n",
       "\t<tr><td>Modern Times      </td></tr>\n",
       "\t<tr><td>Fight Club        </td></tr>\n",
       "\t<tr><td>City of God       </td></tr>\n",
       "\t<tr><td>The Untouchables  </td></tr>\n",
       "</tbody>\n",
       "</table>\n"
      ],
      "text/latex": [
       "A data.frame: 8 × 1\n",
       "\\begin{tabular}{l}\n",
       " name\\\\\n",
       " <chr>\\\\\n",
       "\\hline\n",
       "\t Toy Story         \\\\\n",
       "\t Akira             \\\\\n",
       "\t The Breakfast Club\\\\\n",
       "\t The Artist        \\\\\n",
       "\t Modern Times      \\\\\n",
       "\t Fight Club        \\\\\n",
       "\t City of God       \\\\\n",
       "\t The Untouchables  \\\\\n",
       "\\end{tabular}\n"
      ],
      "text/markdown": [
       "\n",
       "A data.frame: 8 × 1\n",
       "\n",
       "| name &lt;chr&gt; |\n",
       "|---|\n",
       "| Toy Story          |\n",
       "| Akira              |\n",
       "| The Breakfast Club |\n",
       "| The Artist         |\n",
       "| Modern Times       |\n",
       "| Fight Club         |\n",
       "| City of God        |\n",
       "| The Untouchables   |\n",
       "\n"
      ],
      "text/plain": [
       "  name              \n",
       "1 Toy Story         \n",
       "2 Akira             \n",
       "3 The Breakfast Club\n",
       "4 The Artist        \n",
       "5 Modern Times      \n",
       "6 Fight Club        \n",
       "7 City of God       \n",
       "8 The Untouchables  "
      ]
     },
     "metadata": {},
     "output_type": "display_data"
    }
   ],
=======
   "execution_count": null,
   "metadata": {},
   "outputs": [],
>>>>>>> abe518e9c75bfbd56e1d4970cdeac31254a96a89
   "source": [
    "# This returns the first (1st) column\n",
    "movies[1]"
   ]
  },
  {
   "cell_type": "markdown",
<<<<<<< HEAD
   "id": "7c7dbbe8-a480-4984-83d1-03d223903f75",
=======
>>>>>>> abe518e9c75bfbd56e1d4970cdeac31254a96a89
   "metadata": {},
   "source": [
    "<hr>\n",
    "\n",
    "**Coding Exercise:** in the code cell below, select the first row of movies data frame\n"
   ]
  },
  {
   "cell_type": "code",
<<<<<<< HEAD
   "execution_count": 23,
   "id": "27c5015f-1e51-405f-9bc7-f14b5e148249",
   "metadata": {},
   "outputs": [
    {
     "data": {
      "text/html": [
       "<table class=\"dataframe\">\n",
       "<caption>A data.frame: 1 × 2</caption>\n",
       "<thead>\n",
       "\t<tr><th></th><th scope=col>name</th><th scope=col>year</th></tr>\n",
       "\t<tr><th></th><th scope=col>&lt;chr&gt;</th><th scope=col>&lt;dbl&gt;</th></tr>\n",
       "</thead>\n",
       "<tbody>\n",
       "\t<tr><th scope=row>1</th><td>Toy Story</td><td>1995</td></tr>\n",
       "</tbody>\n",
       "</table>\n"
      ],
      "text/latex": [
       "A data.frame: 1 × 2\n",
       "\\begin{tabular}{r|ll}\n",
       "  & name & year\\\\\n",
       "  & <chr> & <dbl>\\\\\n",
       "\\hline\n",
       "\t1 & Toy Story & 1995\\\\\n",
       "\\end{tabular}\n"
      ],
      "text/markdown": [
       "\n",
       "A data.frame: 1 × 2\n",
       "\n",
       "| <!--/--> | name &lt;chr&gt; | year &lt;dbl&gt; |\n",
       "|---|---|---|\n",
       "| 1 | Toy Story | 1995 |\n",
       "\n"
      ],
      "text/plain": [
       "  name      year\n",
       "1 Toy Story 1995"
      ]
     },
     "metadata": {},
     "output_type": "display_data"
    }
   ],
   "source": [
    "# Write your code below. Don't forget to press Shift+Enter to execute the cell\n",
    "movies[1,]"
=======
   "execution_count": null,
   "metadata": {},
   "outputs": [],
   "source": [
    "# Write your code below. Don't forget to press Shift+Enter to execute the cell\n"
>>>>>>> abe518e9c75bfbd56e1d4970cdeac31254a96a89
   ]
  },
  {
   "cell_type": "markdown",
<<<<<<< HEAD
   "id": "db131866-5f11-4b89-b56a-f852a1f42f9e",
=======
>>>>>>> abe518e9c75bfbd56e1d4970cdeac31254a96a89
   "metadata": {},
   "source": [
    "<details><summary>Click here for the solution</summary>\n",
    "\n",
    "```R\n",
    "movies[1, ]\n",
    "\n",
    "```\n",
    "\n",
    "</details>\n",
    "\n",
    "<hr>\n"
   ]
  },
  {
   "cell_type": "markdown",
<<<<<<< HEAD
   "id": "05350bee-bb6b-4350-b3ab-9e71bb7f7e8a",
=======
>>>>>>> abe518e9c75bfbd56e1d4970cdeac31254a96a89
   "metadata": {},
   "source": [
    "\n",
    "**Coding Exercise:** in the code cell below, select the first and second rows but only with first column selected from the movies data frame\n"
   ]
  },
  {
   "cell_type": "code",
<<<<<<< HEAD
   "execution_count": 24,
   "id": "f7b967b3-b3f1-42bb-80be-29e7de8d5f2e",
   "metadata": {},
   "outputs": [
    {
     "data": {
      "text/html": [
       "<style>\n",
       ".list-inline {list-style: none; margin:0; padding: 0}\n",
       ".list-inline>li {display: inline-block}\n",
       ".list-inline>li:not(:last-child)::after {content: \"\\00b7\"; padding: 0 .5ex}\n",
       "</style>\n",
       "<ol class=list-inline><li>'Toy Story'</li><li>'Akira'</li></ol>\n"
      ],
      "text/latex": [
       "\\begin{enumerate*}\n",
       "\\item 'Toy Story'\n",
       "\\item 'Akira'\n",
       "\\end{enumerate*}\n"
      ],
      "text/markdown": [
       "1. 'Toy Story'\n",
       "2. 'Akira'\n",
       "\n",
       "\n"
      ],
      "text/plain": [
       "[1] \"Toy Story\" \"Akira\"    "
      ]
     },
     "metadata": {},
     "output_type": "display_data"
    }
   ],
   "source": [
    "# Write your code below. Don't forget to press Shift+Enter to execute the cell\n",
    "movies[1:2,1]"
=======
   "execution_count": null,
   "metadata": {},
   "outputs": [],
   "source": [
    "# Write your code below. Don't forget to press Shift+Enter to execute the cell\n"
>>>>>>> abe518e9c75bfbd56e1d4970cdeac31254a96a89
   ]
  },
  {
   "cell_type": "markdown",
<<<<<<< HEAD
   "id": "cf1516eb-bbe7-4ffb-8166-3012d7131c8c",
=======
>>>>>>> abe518e9c75bfbd56e1d4970cdeac31254a96a89
   "metadata": {},
   "source": [
    "<details><summary>Click here for the solution</summary>\n",
    "\n",
    "```R\n",
    "movies[1:2, 1]\n",
    "\n",
    "```\n",
    "\n",
    "</details>\n",
    "\n",
    "<hr>\n"
   ]
  },
  {
   "cell_type": "markdown",
<<<<<<< HEAD
   "id": "163c7e19-df00-4bf2-be44-be218d449423",
=======
>>>>>>> abe518e9c75bfbd56e1d4970cdeac31254a96a89
   "metadata": {},
   "source": [
    "The function called __str()__ is one of most useful functions in R. With this function you can obtain textual information about an object. In this case,  it delivers information about the objects whitin a data frame. Let's see what it returns:\n"
   ]
  },
  {
   "cell_type": "code",
<<<<<<< HEAD
   "execution_count": 25,
   "id": "774550f7-bd82-4b72-bada-9de6a37bbfeb",
   "metadata": {},
   "outputs": [
    {
     "name": "stdout",
     "output_type": "stream",
     "text": [
      "'data.frame':\t8 obs. of  2 variables:\n",
      " $ name: chr  \"Toy Story\" \"Akira\" \"The Breakfast Club\" \"The Artist\" ...\n",
      " $ year: num  1995 1998 1985 2011 1936 ...\n"
     ]
    }
   ],
=======
   "execution_count": null,
   "metadata": {},
   "outputs": [],
>>>>>>> abe518e9c75bfbd56e1d4970cdeac31254a96a89
   "source": [
    "str(movies)"
   ]
  },
  {
   "cell_type": "markdown",
<<<<<<< HEAD
   "id": "e60b3d52-65d8-468a-83ac-69337002dedd",
=======
>>>>>>> abe518e9c75bfbd56e1d4970cdeac31254a96a89
   "metadata": {},
   "source": [
    "It shows this data frame has 8 observations, for 2 columns, so called __name__ and __year__. The \"name\" column is a factor with 8 levels and \"year\" is a numerical column. \n"
   ]
  },
  {
   "cell_type": "markdown",
<<<<<<< HEAD
   "id": "00812d46-4a6d-4a02-bf47-b752599f5982",
=======
>>>>>>> abe518e9c75bfbd56e1d4970cdeac31254a96a89
   "metadata": {},
   "source": [
    "The class() function works for data frames as well. You can use it to determine the type of a column of a data frame.\n"
   ]
  },
  {
   "cell_type": "code",
<<<<<<< HEAD
   "execution_count": 26,
   "id": "cf0a6792-1ca3-45a7-b5e6-0a514da397a2",
   "metadata": {},
   "outputs": [
    {
     "data": {
      "text/html": [
       "'numeric'"
      ],
      "text/latex": [
       "'numeric'"
      ],
      "text/markdown": [
       "'numeric'"
      ],
      "text/plain": [
       "[1] \"numeric\""
      ]
     },
     "metadata": {},
     "output_type": "display_data"
    }
   ],
=======
   "execution_count": null,
   "metadata": {},
   "outputs": [],
>>>>>>> abe518e9c75bfbd56e1d4970cdeac31254a96a89
   "source": [
    "class(movies$year)"
   ]
  },
  {
   "cell_type": "markdown",
<<<<<<< HEAD
   "id": "e207d7cd-b992-4f39-893d-4668d20e059c",
=======
>>>>>>> abe518e9c75bfbd56e1d4970cdeac31254a96a89
   "metadata": {},
   "source": [
    "You can use numerical selectors to reach information inside the table.\n"
   ]
  },
  {
   "cell_type": "code",
<<<<<<< HEAD
   "execution_count": 27,
   "id": "1eb8cff8-5d2d-4139-a2be-862ab3ef3173",
   "metadata": {},
   "outputs": [
    {
     "data": {
      "text/html": [
       "1995"
      ],
      "text/latex": [
       "1995"
      ],
      "text/markdown": [
       "1995"
      ],
      "text/plain": [
       "[1] 1995"
      ]
     },
     "metadata": {},
     "output_type": "display_data"
    }
   ],
=======
   "execution_count": null,
   "metadata": {},
   "outputs": [],
>>>>>>> abe518e9c75bfbd56e1d4970cdeac31254a96a89
   "source": [
    "movies[1,2] #1-Toy Story, 2-1995"
   ]
  },
  {
   "cell_type": "markdown",
<<<<<<< HEAD
   "id": "9e4436d2-907b-4bd9-9e71-a9165e4d65a3",
=======
>>>>>>> abe518e9c75bfbd56e1d4970cdeac31254a96a89
   "metadata": {},
   "source": [
    "The **_head()_** function is very useful when you have a large table and you need to take a peek at the first elements. This function returns the first 6 values of a data frame (or event a list).\n"
   ]
  },
  {
   "cell_type": "code",
<<<<<<< HEAD
   "execution_count": 28,
   "id": "e4bdcf5e-d257-445c-81da-09d0c3c505d4",
   "metadata": {},
   "outputs": [
    {
     "data": {
      "text/html": [
       "<table class=\"dataframe\">\n",
       "<caption>A data.frame: 6 × 2</caption>\n",
       "<thead>\n",
       "\t<tr><th></th><th scope=col>name</th><th scope=col>year</th></tr>\n",
       "\t<tr><th></th><th scope=col>&lt;chr&gt;</th><th scope=col>&lt;dbl&gt;</th></tr>\n",
       "</thead>\n",
       "<tbody>\n",
       "\t<tr><th scope=row>1</th><td>Toy Story         </td><td>1995</td></tr>\n",
       "\t<tr><th scope=row>2</th><td>Akira             </td><td>1998</td></tr>\n",
       "\t<tr><th scope=row>3</th><td>The Breakfast Club</td><td>1985</td></tr>\n",
       "\t<tr><th scope=row>4</th><td>The Artist        </td><td>2011</td></tr>\n",
       "\t<tr><th scope=row>5</th><td>Modern Times      </td><td>1936</td></tr>\n",
       "\t<tr><th scope=row>6</th><td>Fight Club        </td><td>1999</td></tr>\n",
       "</tbody>\n",
       "</table>\n"
      ],
      "text/latex": [
       "A data.frame: 6 × 2\n",
       "\\begin{tabular}{r|ll}\n",
       "  & name & year\\\\\n",
       "  & <chr> & <dbl>\\\\\n",
       "\\hline\n",
       "\t1 & Toy Story          & 1995\\\\\n",
       "\t2 & Akira              & 1998\\\\\n",
       "\t3 & The Breakfast Club & 1985\\\\\n",
       "\t4 & The Artist         & 2011\\\\\n",
       "\t5 & Modern Times       & 1936\\\\\n",
       "\t6 & Fight Club         & 1999\\\\\n",
       "\\end{tabular}\n"
      ],
      "text/markdown": [
       "\n",
       "A data.frame: 6 × 2\n",
       "\n",
       "| <!--/--> | name &lt;chr&gt; | year &lt;dbl&gt; |\n",
       "|---|---|---|\n",
       "| 1 | Toy Story          | 1995 |\n",
       "| 2 | Akira              | 1998 |\n",
       "| 3 | The Breakfast Club | 1985 |\n",
       "| 4 | The Artist         | 2011 |\n",
       "| 5 | Modern Times       | 1936 |\n",
       "| 6 | Fight Club         | 1999 |\n",
       "\n"
      ],
      "text/plain": [
       "  name               year\n",
       "1 Toy Story          1995\n",
       "2 Akira              1998\n",
       "3 The Breakfast Club 1985\n",
       "4 The Artist         2011\n",
       "5 Modern Times       1936\n",
       "6 Fight Club         1999"
      ]
     },
     "metadata": {},
     "output_type": "display_data"
    }
   ],
=======
   "execution_count": null,
   "metadata": {},
   "outputs": [],
>>>>>>> abe518e9c75bfbd56e1d4970cdeac31254a96a89
   "source": [
    "head(movies)"
   ]
  },
  {
   "cell_type": "markdown",
<<<<<<< HEAD
   "id": "ec4a416a-5ccc-443b-be4f-1faa5141166e",
=======
>>>>>>> abe518e9c75bfbd56e1d4970cdeac31254a96a89
   "metadata": {},
   "source": [
    "Similar to the previous function, **_tail()_** returns the last 6 values of a data frame or list.\n"
   ]
  },
  {
   "cell_type": "code",
<<<<<<< HEAD
   "execution_count": 29,
   "id": "c9bcdf89-e608-4978-91d7-b86c51c5a05b",
   "metadata": {},
   "outputs": [
    {
     "data": {
      "text/html": [
       "<table class=\"dataframe\">\n",
       "<caption>A data.frame: 6 × 2</caption>\n",
       "<thead>\n",
       "\t<tr><th></th><th scope=col>name</th><th scope=col>year</th></tr>\n",
       "\t<tr><th></th><th scope=col>&lt;chr&gt;</th><th scope=col>&lt;dbl&gt;</th></tr>\n",
       "</thead>\n",
       "<tbody>\n",
       "\t<tr><th scope=row>3</th><td>The Breakfast Club</td><td>1985</td></tr>\n",
       "\t<tr><th scope=row>4</th><td>The Artist        </td><td>2011</td></tr>\n",
       "\t<tr><th scope=row>5</th><td>Modern Times      </td><td>1936</td></tr>\n",
       "\t<tr><th scope=row>6</th><td>Fight Club        </td><td>1999</td></tr>\n",
       "\t<tr><th scope=row>7</th><td>City of God       </td><td>2002</td></tr>\n",
       "\t<tr><th scope=row>8</th><td>The Untouchables  </td><td>1987</td></tr>\n",
       "</tbody>\n",
       "</table>\n"
      ],
      "text/latex": [
       "A data.frame: 6 × 2\n",
       "\\begin{tabular}{r|ll}\n",
       "  & name & year\\\\\n",
       "  & <chr> & <dbl>\\\\\n",
       "\\hline\n",
       "\t3 & The Breakfast Club & 1985\\\\\n",
       "\t4 & The Artist         & 2011\\\\\n",
       "\t5 & Modern Times       & 1936\\\\\n",
       "\t6 & Fight Club         & 1999\\\\\n",
       "\t7 & City of God        & 2002\\\\\n",
       "\t8 & The Untouchables   & 1987\\\\\n",
       "\\end{tabular}\n"
      ],
      "text/markdown": [
       "\n",
       "A data.frame: 6 × 2\n",
       "\n",
       "| <!--/--> | name &lt;chr&gt; | year &lt;dbl&gt; |\n",
       "|---|---|---|\n",
       "| 3 | The Breakfast Club | 1985 |\n",
       "| 4 | The Artist         | 2011 |\n",
       "| 5 | Modern Times       | 1936 |\n",
       "| 6 | Fight Club         | 1999 |\n",
       "| 7 | City of God        | 2002 |\n",
       "| 8 | The Untouchables   | 1987 |\n",
       "\n"
      ],
      "text/plain": [
       "  name               year\n",
       "3 The Breakfast Club 1985\n",
       "4 The Artist         2011\n",
       "5 Modern Times       1936\n",
       "6 Fight Club         1999\n",
       "7 City of God        2002\n",
       "8 The Untouchables   1987"
      ]
     },
     "metadata": {},
     "output_type": "display_data"
    }
   ],
=======
   "execution_count": null,
   "metadata": {},
   "outputs": [],
>>>>>>> abe518e9c75bfbd56e1d4970cdeac31254a96a89
   "source": [
    "tail(movies)"
   ]
  },
  {
   "cell_type": "markdown",
<<<<<<< HEAD
   "id": "bd3b0e7b-a0ee-4b41-9e1c-83d95d3b85ec",
=======
>>>>>>> abe518e9c75bfbd56e1d4970cdeac31254a96a89
   "metadata": {},
   "source": [
    "Now, let's try to get the row with name \"Toy Story\"\n"
   ]
  },
  {
   "cell_type": "code",
<<<<<<< HEAD
   "execution_count": 30,
   "id": "e665fc05-0f2e-49c9-a505-353185779a35",
   "metadata": {},
   "outputs": [
    {
     "data": {
      "text/html": [
       "<table class=\"dataframe\">\n",
       "<caption>A data.frame: 1 × 2</caption>\n",
       "<thead>\n",
       "\t<tr><th></th><th scope=col>name</th><th scope=col>year</th></tr>\n",
       "\t<tr><th></th><th scope=col>&lt;chr&gt;</th><th scope=col>&lt;dbl&gt;</th></tr>\n",
       "</thead>\n",
       "<tbody>\n",
       "\t<tr><th scope=row>1</th><td>Toy Story</td><td>1995</td></tr>\n",
       "</tbody>\n",
       "</table>\n"
      ],
      "text/latex": [
       "A data.frame: 1 × 2\n",
       "\\begin{tabular}{r|ll}\n",
       "  & name & year\\\\\n",
       "  & <chr> & <dbl>\\\\\n",
       "\\hline\n",
       "\t1 & Toy Story & 1995\\\\\n",
       "\\end{tabular}\n"
      ],
      "text/markdown": [
       "\n",
       "A data.frame: 1 × 2\n",
       "\n",
       "| <!--/--> | name &lt;chr&gt; | year &lt;dbl&gt; |\n",
       "|---|---|---|\n",
       "| 1 | Toy Story | 1995 |\n",
       "\n"
      ],
      "text/plain": [
       "  name      year\n",
       "1 Toy Story 1995"
      ]
     },
     "metadata": {},
     "output_type": "display_data"
    }
   ],
=======
   "execution_count": null,
   "metadata": {},
   "outputs": [],
>>>>>>> abe518e9c75bfbd56e1d4970cdeac31254a96a89
   "source": [
    "# Find the rows with name \"Toy Story\"\n",
    "selected <- movies[\"name\"] == \"Toy Story\"\n",
    "# Get the selected row(s) with 'name' and 'year' columns\n",
    "toy_story <- movies[selected, c(\"name\", \"year\")]\n",
    "toy_story"
   ]
  },
  {
   "cell_type": "markdown",
<<<<<<< HEAD
   "id": "c05899e8-ba83-4c4f-9c8d-c20703ac803b",
=======
>>>>>>> abe518e9c75bfbd56e1d4970cdeac31254a96a89
   "metadata": {},
   "source": [
    "Now let's try to add a new column to our data frame with the length of each movie in minutes.\n"
   ]
  },
  {
   "cell_type": "code",
<<<<<<< HEAD
   "execution_count": 32,
   "id": "8641bd73-d72d-4d5b-86cc-9f14b1f8fdd5",
   "metadata": {},
   "outputs": [
    {
     "data": {
      "text/html": [
       "<table class=\"dataframe\">\n",
       "<caption>A data.frame: 8 × 3</caption>\n",
       "<thead>\n",
       "\t<tr><th scope=col>name</th><th scope=col>year</th><th scope=col>length</th></tr>\n",
       "\t<tr><th scope=col>&lt;chr&gt;</th><th scope=col>&lt;dbl&gt;</th><th scope=col>&lt;dbl&gt;</th></tr>\n",
       "</thead>\n",
       "<tbody>\n",
       "\t<tr><td>Toy Story         </td><td>1995</td><td> 81</td></tr>\n",
       "\t<tr><td>Akira             </td><td>1998</td><td>125</td></tr>\n",
       "\t<tr><td>The Breakfast Club</td><td>1985</td><td> 97</td></tr>\n",
       "\t<tr><td>The Artist        </td><td>2011</td><td>100</td></tr>\n",
       "\t<tr><td>Modern Times      </td><td>1936</td><td> 87</td></tr>\n",
       "\t<tr><td>Fight Club        </td><td>1999</td><td>139</td></tr>\n",
       "\t<tr><td>City of God       </td><td>2002</td><td>130</td></tr>\n",
       "\t<tr><td>The Untouchables  </td><td>1987</td><td>119</td></tr>\n",
       "</tbody>\n",
       "</table>\n"
      ],
      "text/latex": [
       "A data.frame: 8 × 3\n",
       "\\begin{tabular}{lll}\n",
       " name & year & length\\\\\n",
       " <chr> & <dbl> & <dbl>\\\\\n",
       "\\hline\n",
       "\t Toy Story          & 1995 &  81\\\\\n",
       "\t Akira              & 1998 & 125\\\\\n",
       "\t The Breakfast Club & 1985 &  97\\\\\n",
       "\t The Artist         & 2011 & 100\\\\\n",
       "\t Modern Times       & 1936 &  87\\\\\n",
       "\t Fight Club         & 1999 & 139\\\\\n",
       "\t City of God        & 2002 & 130\\\\\n",
       "\t The Untouchables   & 1987 & 119\\\\\n",
       "\\end{tabular}\n"
      ],
      "text/markdown": [
       "\n",
       "A data.frame: 8 × 3\n",
       "\n",
       "| name &lt;chr&gt; | year &lt;dbl&gt; | length &lt;dbl&gt; |\n",
       "|---|---|---|\n",
       "| Toy Story          | 1995 |  81 |\n",
       "| Akira              | 1998 | 125 |\n",
       "| The Breakfast Club | 1985 |  97 |\n",
       "| The Artist         | 2011 | 100 |\n",
       "| Modern Times       | 1936 |  87 |\n",
       "| Fight Club         | 1999 | 139 |\n",
       "| City of God        | 2002 | 130 |\n",
       "| The Untouchables   | 1987 | 119 |\n",
       "\n"
      ],
      "text/plain": [
       "  name               year length\n",
       "1 Toy Story          1995  81   \n",
       "2 Akira              1998 125   \n",
       "3 The Breakfast Club 1985  97   \n",
       "4 The Artist         2011 100   \n",
       "5 Modern Times       1936  87   \n",
       "6 Fight Club         1999 139   \n",
       "7 City of God        2002 130   \n",
       "8 The Untouchables   1987 119   "
      ]
     },
     "metadata": {},
     "output_type": "display_data"
    }
   ],
=======
   "execution_count": null,
   "metadata": {},
   "outputs": [],
>>>>>>> abe518e9c75bfbd56e1d4970cdeac31254a96a89
   "source": [
    "movies['length'] <- c(81, 125, 97, 100, 87, 139, 130, 119)\n",
    "movies"
   ]
  },
  {
   "cell_type": "markdown",
<<<<<<< HEAD
   "id": "4d9b1a9f-c2fc-43a1-bbdf-946d6f272bd9",
=======
>>>>>>> abe518e9c75bfbd56e1d4970cdeac31254a96a89
   "metadata": {},
   "source": [
    "A new column was included into our data frame with just one line of code. We just needed to add a vector to data frame, then it will be our new column.\n"
   ]
  },
  {
   "cell_type": "markdown",
<<<<<<< HEAD
   "id": "eb516c17-a236-45d8-99ec-598e2eb9bcc9",
=======
>>>>>>> abe518e9c75bfbd56e1d4970cdeac31254a96a89
   "metadata": {},
   "source": [
    "Now let's try to add a new movie to our data set.\n"
   ]
  },
  {
   "cell_type": "code",
<<<<<<< HEAD
   "execution_count": 33,
   "id": "1b054373-5b03-47d8-98d5-103fc6ee34ba",
   "metadata": {},
   "outputs": [
    {
     "data": {
      "text/html": [
       "<table class=\"dataframe\">\n",
       "<caption>A data.frame: 9 × 3</caption>\n",
       "<thead>\n",
       "\t<tr><th scope=col>name</th><th scope=col>year</th><th scope=col>length</th></tr>\n",
       "\t<tr><th scope=col>&lt;chr&gt;</th><th scope=col>&lt;chr&gt;</th><th scope=col>&lt;chr&gt;</th></tr>\n",
       "</thead>\n",
       "<tbody>\n",
       "\t<tr><td>Toy Story         </td><td>1995</td><td>81 </td></tr>\n",
       "\t<tr><td>Akira             </td><td>1998</td><td>125</td></tr>\n",
       "\t<tr><td>The Breakfast Club</td><td>1985</td><td>97 </td></tr>\n",
       "\t<tr><td>The Artist        </td><td>2011</td><td>100</td></tr>\n",
       "\t<tr><td>Modern Times      </td><td>1936</td><td>87 </td></tr>\n",
       "\t<tr><td>Fight Club        </td><td>1999</td><td>139</td></tr>\n",
       "\t<tr><td>City of God       </td><td>2002</td><td>130</td></tr>\n",
       "\t<tr><td>The Untouchables  </td><td>1987</td><td>119</td></tr>\n",
       "\t<tr><td>Dr. Strangelove   </td><td>1964</td><td>94 </td></tr>\n",
       "</tbody>\n",
       "</table>\n"
      ],
      "text/latex": [
       "A data.frame: 9 × 3\n",
       "\\begin{tabular}{lll}\n",
       " name & year & length\\\\\n",
       " <chr> & <chr> & <chr>\\\\\n",
       "\\hline\n",
       "\t Toy Story          & 1995 & 81 \\\\\n",
       "\t Akira              & 1998 & 125\\\\\n",
       "\t The Breakfast Club & 1985 & 97 \\\\\n",
       "\t The Artist         & 2011 & 100\\\\\n",
       "\t Modern Times       & 1936 & 87 \\\\\n",
       "\t Fight Club         & 1999 & 139\\\\\n",
       "\t City of God        & 2002 & 130\\\\\n",
       "\t The Untouchables   & 1987 & 119\\\\\n",
       "\t Dr. Strangelove    & 1964 & 94 \\\\\n",
       "\\end{tabular}\n"
      ],
      "text/markdown": [
       "\n",
       "A data.frame: 9 × 3\n",
       "\n",
       "| name &lt;chr&gt; | year &lt;chr&gt; | length &lt;chr&gt; |\n",
       "|---|---|---|\n",
       "| Toy Story          | 1995 | 81  |\n",
       "| Akira              | 1998 | 125 |\n",
       "| The Breakfast Club | 1985 | 97  |\n",
       "| The Artist         | 2011 | 100 |\n",
       "| Modern Times       | 1936 | 87  |\n",
       "| Fight Club         | 1999 | 139 |\n",
       "| City of God        | 2002 | 130 |\n",
       "| The Untouchables   | 1987 | 119 |\n",
       "| Dr. Strangelove    | 1964 | 94  |\n",
       "\n"
      ],
      "text/plain": [
       "  name               year length\n",
       "1 Toy Story          1995 81    \n",
       "2 Akira              1998 125   \n",
       "3 The Breakfast Club 1985 97    \n",
       "4 The Artist         2011 100   \n",
       "5 Modern Times       1936 87    \n",
       "6 Fight Club         1999 139   \n",
       "7 City of God        2002 130   \n",
       "8 The Untouchables   1987 119   \n",
       "9 Dr. Strangelove    1964 94    "
      ]
     },
     "metadata": {},
     "output_type": "display_data"
    }
   ],
=======
   "execution_count": null,
   "metadata": {},
   "outputs": [],
>>>>>>> abe518e9c75bfbd56e1d4970cdeac31254a96a89
   "source": [
    "movies <- rbind(movies, c(name=\"Dr. Strangelove\", year=1964, length=94))\n",
    "movies"
   ]
  },
  {
   "cell_type": "markdown",
<<<<<<< HEAD
   "id": "22062e2a-214d-4f78-bd38-af13f7f1a162",
=======
>>>>>>> abe518e9c75bfbd56e1d4970cdeac31254a96a89
   "metadata": {},
   "source": [
    "Remember, you can't add a list with more variables than the data frame, and vice-versa.\n"
   ]
  },
  {
   "cell_type": "markdown",
<<<<<<< HEAD
   "id": "325e69f8-3fb7-486d-b8e3-c0d64eda6cf4",
=======
>>>>>>> abe518e9c75bfbd56e1d4970cdeac31254a96a89
   "metadata": {},
   "source": [
    "We don't need this movie anymore, so let's delete it. Here we are deleting row 12 by assigning to itself the movies dataframe without the 12th row.\n"
   ]
  },
  {
   "cell_type": "code",
<<<<<<< HEAD
   "execution_count": 34,
   "id": "2034295a-224d-4f35-b34d-0aba740181d9",
   "metadata": {},
   "outputs": [
    {
     "data": {
      "text/html": [
       "<table class=\"dataframe\">\n",
       "<caption>A data.frame: 9 × 3</caption>\n",
       "<thead>\n",
       "\t<tr><th></th><th scope=col>name</th><th scope=col>year</th><th scope=col>length</th></tr>\n",
       "\t<tr><th></th><th scope=col>&lt;chr&gt;</th><th scope=col>&lt;chr&gt;</th><th scope=col>&lt;chr&gt;</th></tr>\n",
       "</thead>\n",
       "<tbody>\n",
       "\t<tr><th scope=row>1</th><td>Toy Story         </td><td>1995</td><td>81 </td></tr>\n",
       "\t<tr><th scope=row>2</th><td>Akira             </td><td>1998</td><td>125</td></tr>\n",
       "\t<tr><th scope=row>3</th><td>The Breakfast Club</td><td>1985</td><td>97 </td></tr>\n",
       "\t<tr><th scope=row>4</th><td>The Artist        </td><td>2011</td><td>100</td></tr>\n",
       "\t<tr><th scope=row>5</th><td>Modern Times      </td><td>1936</td><td>87 </td></tr>\n",
       "\t<tr><th scope=row>6</th><td>Fight Club        </td><td>1999</td><td>139</td></tr>\n",
       "\t<tr><th scope=row>7</th><td>City of God       </td><td>2002</td><td>130</td></tr>\n",
       "\t<tr><th scope=row>8</th><td>The Untouchables  </td><td>1987</td><td>119</td></tr>\n",
       "\t<tr><th scope=row>9</th><td>Dr. Strangelove   </td><td>1964</td><td>94 </td></tr>\n",
       "</tbody>\n",
       "</table>\n"
      ],
      "text/latex": [
       "A data.frame: 9 × 3\n",
       "\\begin{tabular}{r|lll}\n",
       "  & name & year & length\\\\\n",
       "  & <chr> & <chr> & <chr>\\\\\n",
       "\\hline\n",
       "\t1 & Toy Story          & 1995 & 81 \\\\\n",
       "\t2 & Akira              & 1998 & 125\\\\\n",
       "\t3 & The Breakfast Club & 1985 & 97 \\\\\n",
       "\t4 & The Artist         & 2011 & 100\\\\\n",
       "\t5 & Modern Times       & 1936 & 87 \\\\\n",
       "\t6 & Fight Club         & 1999 & 139\\\\\n",
       "\t7 & City of God        & 2002 & 130\\\\\n",
       "\t8 & The Untouchables   & 1987 & 119\\\\\n",
       "\t9 & Dr. Strangelove    & 1964 & 94 \\\\\n",
       "\\end{tabular}\n"
      ],
      "text/markdown": [
       "\n",
       "A data.frame: 9 × 3\n",
       "\n",
       "| <!--/--> | name &lt;chr&gt; | year &lt;chr&gt; | length &lt;chr&gt; |\n",
       "|---|---|---|---|\n",
       "| 1 | Toy Story          | 1995 | 81  |\n",
       "| 2 | Akira              | 1998 | 125 |\n",
       "| 3 | The Breakfast Club | 1985 | 97  |\n",
       "| 4 | The Artist         | 2011 | 100 |\n",
       "| 5 | Modern Times       | 1936 | 87  |\n",
       "| 6 | Fight Club         | 1999 | 139 |\n",
       "| 7 | City of God        | 2002 | 130 |\n",
       "| 8 | The Untouchables   | 1987 | 119 |\n",
       "| 9 | Dr. Strangelove    | 1964 | 94  |\n",
       "\n"
      ],
      "text/plain": [
       "  name               year length\n",
       "1 Toy Story          1995 81    \n",
       "2 Akira              1998 125   \n",
       "3 The Breakfast Club 1985 97    \n",
       "4 The Artist         2011 100   \n",
       "5 Modern Times       1936 87    \n",
       "6 Fight Club         1999 139   \n",
       "7 City of God        2002 130   \n",
       "8 The Untouchables   1987 119   \n",
       "9 Dr. Strangelove    1964 94    "
      ]
     },
     "metadata": {},
     "output_type": "display_data"
    }
   ],
=======
   "execution_count": null,
   "metadata": {},
   "outputs": [],
>>>>>>> abe518e9c75bfbd56e1d4970cdeac31254a96a89
   "source": [
    "movies <- movies[-12,]\n",
    "movies"
   ]
  },
  {
   "cell_type": "markdown",
<<<<<<< HEAD
   "id": "8e48ef1a-3120-4d16-abc0-fe5d6aa31010",
=======
>>>>>>> abe518e9c75bfbd56e1d4970cdeac31254a96a89
   "metadata": {},
   "source": [
    "To delete a column you can just set it as **_NULL_**.\n"
   ]
  },
  {
   "cell_type": "code",
<<<<<<< HEAD
   "execution_count": 35,
   "id": "29f12948-0a2e-490c-b14a-29adf3d9d293",
   "metadata": {},
   "outputs": [
    {
     "data": {
      "text/html": [
       "<table class=\"dataframe\">\n",
       "<caption>A data.frame: 9 × 2</caption>\n",
       "<thead>\n",
       "\t<tr><th></th><th scope=col>name</th><th scope=col>year</th></tr>\n",
       "\t<tr><th></th><th scope=col>&lt;chr&gt;</th><th scope=col>&lt;chr&gt;</th></tr>\n",
       "</thead>\n",
       "<tbody>\n",
       "\t<tr><th scope=row>1</th><td>Toy Story         </td><td>1995</td></tr>\n",
       "\t<tr><th scope=row>2</th><td>Akira             </td><td>1998</td></tr>\n",
       "\t<tr><th scope=row>3</th><td>The Breakfast Club</td><td>1985</td></tr>\n",
       "\t<tr><th scope=row>4</th><td>The Artist        </td><td>2011</td></tr>\n",
       "\t<tr><th scope=row>5</th><td>Modern Times      </td><td>1936</td></tr>\n",
       "\t<tr><th scope=row>6</th><td>Fight Club        </td><td>1999</td></tr>\n",
       "\t<tr><th scope=row>7</th><td>City of God       </td><td>2002</td></tr>\n",
       "\t<tr><th scope=row>8</th><td>The Untouchables  </td><td>1987</td></tr>\n",
       "\t<tr><th scope=row>9</th><td>Dr. Strangelove   </td><td>1964</td></tr>\n",
       "</tbody>\n",
       "</table>\n"
      ],
      "text/latex": [
       "A data.frame: 9 × 2\n",
       "\\begin{tabular}{r|ll}\n",
       "  & name & year\\\\\n",
       "  & <chr> & <chr>\\\\\n",
       "\\hline\n",
       "\t1 & Toy Story          & 1995\\\\\n",
       "\t2 & Akira              & 1998\\\\\n",
       "\t3 & The Breakfast Club & 1985\\\\\n",
       "\t4 & The Artist         & 2011\\\\\n",
       "\t5 & Modern Times       & 1936\\\\\n",
       "\t6 & Fight Club         & 1999\\\\\n",
       "\t7 & City of God        & 2002\\\\\n",
       "\t8 & The Untouchables   & 1987\\\\\n",
       "\t9 & Dr. Strangelove    & 1964\\\\\n",
       "\\end{tabular}\n"
      ],
      "text/markdown": [
       "\n",
       "A data.frame: 9 × 2\n",
       "\n",
       "| <!--/--> | name &lt;chr&gt; | year &lt;chr&gt; |\n",
       "|---|---|---|\n",
       "| 1 | Toy Story          | 1995 |\n",
       "| 2 | Akira              | 1998 |\n",
       "| 3 | The Breakfast Club | 1985 |\n",
       "| 4 | The Artist         | 2011 |\n",
       "| 5 | Modern Times       | 1936 |\n",
       "| 6 | Fight Club         | 1999 |\n",
       "| 7 | City of God        | 2002 |\n",
       "| 8 | The Untouchables   | 1987 |\n",
       "| 9 | Dr. Strangelove    | 1964 |\n",
       "\n"
      ],
      "text/plain": [
       "  name               year\n",
       "1 Toy Story          1995\n",
       "2 Akira              1998\n",
       "3 The Breakfast Club 1985\n",
       "4 The Artist         2011\n",
       "5 Modern Times       1936\n",
       "6 Fight Club         1999\n",
       "7 City of God        2002\n",
       "8 The Untouchables   1987\n",
       "9 Dr. Strangelove    1964"
      ]
     },
     "metadata": {},
     "output_type": "display_data"
    }
   ],
=======
   "execution_count": null,
   "metadata": {},
   "outputs": [],
>>>>>>> abe518e9c75bfbd56e1d4970cdeac31254a96a89
   "source": [
    "movies[[\"length\"]] <- NULL\n",
    "movies"
   ]
  },
  {
   "cell_type": "markdown",
<<<<<<< HEAD
   "id": "3725a29e-5778-4d44-a2d5-fc3fa01471f7",
=======
>>>>>>> abe518e9c75bfbd56e1d4970cdeac31254a96a89
   "metadata": {},
   "source": [
    "That is it! You learned a lot about data frames and how easy it is to work with them. \n"
   ]
  },
  {
   "cell_type": "markdown",
<<<<<<< HEAD
   "id": "b8f79e9f-a8a7-49ea-81d1-1f8af73c72ed",
=======
>>>>>>> abe518e9c75bfbd56e1d4970cdeac31254a96a89
   "metadata": {},
   "source": [
    "<hr>\n"
   ]
  },
  {
   "cell_type": "markdown",
<<<<<<< HEAD
   "id": "241eb28b-5da6-4665-9554-6a96f2dddd6b",
=======
>>>>>>> abe518e9c75bfbd56e1d4970cdeac31254a96a89
   "metadata": {},
   "source": [
    "#### Scaling R with big data\n",
    "\n",
    "As you learn more about R, if you are interested in exploring platforms that can help you run analyses at scale, you might want to sign up for a free account on [IBM Watson Studio](http://cocl.us/dsx_rp0101en), which allows you to run analyses in R with two Spark executors for free.\n"
   ]
  },
  {
   "cell_type": "markdown",
<<<<<<< HEAD
   "id": "814e7970-e455-4487-b662-e053bb123998",
=======
>>>>>>> abe518e9c75bfbd56e1d4970cdeac31254a96a89
   "metadata": {},
   "source": [
    "---\n"
   ]
  },
  {
   "cell_type": "markdown",
<<<<<<< HEAD
   "id": "6aac737d-a29f-44ca-a96b-333098894c2c",
=======
>>>>>>> abe518e9c75bfbd56e1d4970cdeac31254a96a89
   "metadata": {},
   "source": [
    "## Authors\n",
    "Hi! It's [Thiago Felipe Correa Borges](https://www.linkedin.com/in/thiago-felipe-corr%C3%AAa-borges-a932bb114?utm_medium=Exinfluencer&utm_source=Exinfluencer&utm_content=000026UJ&utm_term=10006555&utm_id=NA-SkillsNetwork-Channel-SkillsNetworkCoursesIBMDeveloperSkillsNetworkRP0101ENCoursera889-2022-01-01&trk=nav_responsive_tab_profile), the author of this notebook. I hope you found R easy to learn! There's lots more to learn about R but you're well on your way. Feel free to connect with me if you have any questions.\n"
   ]
  },
  {
   "cell_type": "markdown",
<<<<<<< HEAD
   "id": "16d7e8fd-98a9-49b8-b66e-6b5653659a64",
=======
>>>>>>> abe518e9c75bfbd56e1d4970cdeac31254a96a89
   "metadata": {},
   "source": [
    "### Other Contributors\n",
    "\n",
    "<a href=\"https://www.linkedin.com/in/yan-luo-96288783/?utm_medium=Exinfluencer&utm_source=Exinfluencer&utm_content=000026UJ&utm_term=10006555&utm_id=NA-SkillsNetwork-Channel-SkillsNetworkCoursesIBMDeveloperSkillsNetworkRP0101ENCoursera889-2022-01-01\">Yan Luo</a>\n"
   ]
  },
  {
   "cell_type": "markdown",
<<<<<<< HEAD
   "id": "82b6a7b7-d93c-4973-93e6-005d9f0f97d1",
=======
>>>>>>> abe518e9c75bfbd56e1d4970cdeac31254a96a89
   "metadata": {},
   "source": [
    "## Change Log\n",
    "\n",
    "| Date (YYYY-MM-DD) | Version | Changed By | Change Description           |\n",
    "| ----------------- | ------- | ---------- | ---------------------------- |\n",
    "| 2021-03-03        | 2.0     | Yan        | Added coding tasks           |\n",
    "|                   |         |            |                              |\n",
    "|                   |         |            |                              |\n",
    "\n",
    "## <h3 align=\"center\"> © IBM Corporation 2021. All rights reserved. <h3/>\n"
   ]
  }
 ],
 "metadata": {
  "kernelspec": {
   "display_name": "R",
   "language": "R",
<<<<<<< HEAD
   "name": "ir"
=======
   "name": "conda-env-r-r"
>>>>>>> abe518e9c75bfbd56e1d4970cdeac31254a96a89
  },
  "language_info": {
   "codemirror_mode": "r",
   "file_extension": ".r",
   "mimetype": "text/x-r-source",
   "name": "R",
   "pygments_lexer": "r",
<<<<<<< HEAD
   "version": "4.2.1"
=======
   "version": "3.5.1"
>>>>>>> abe518e9c75bfbd56e1d4970cdeac31254a96a89
  }
 },
 "nbformat": 4,
 "nbformat_minor": 4
}
