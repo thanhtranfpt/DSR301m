{
 "cells": [
  {
   "cell_type": "markdown",
   "id": "f04ee555-1fbc-4437-9d1c-9c1a9232ac71",
   "metadata": {},
   "source": [
    "<center>\n",
    "<img src=\"https://cf-courses-data.s3.us.cloud-object-storage.appdomain.cloud/IBMDeveloperSkillsNetwork-RP0101EN-Coursera/v2/M1_R_Basics/images/SN_web_lightmode.png\" width=\"300\"> \n",
    "<center/>\n"
   ]
  },
  {
   "cell_type": "markdown",
   "id": "23df364b-a656-491a-8da6-bc1a21b2a937",
   "metadata": {},
   "source": [
    "<h1>Vectors and Factors</h1>\n",
    "\n",
    "### Welcome!\n",
    "\n",
    "By the end of this notebook, you will have learned about **vectors and factors**, two very important data structures in R.\n",
    "\n",
    "Estimated time needed: **30** minutes\n",
    "\n",
    "\n",
    "## Objectives\n",
    "\n",
    "After completing this lab you will be able to:\n",
    "-  Understand R vector via coding practices\n",
    "-  Perform vector operations\n",
    "-  Understand R factor via coding practices\n",
    "-  Perform factor operations\n"
   ]
  },
  {
   "cell_type": "markdown",
   "id": "29cae12b-37b2-4e73-a4ce-e4341858b7e4",
   "metadata": {},
   "source": [
    "## Table of Contents\n",
    "\n",
    "<ul>\n",
    "    <li><a href=\"#About-the-Dataset\">About the Dataset</a></li>\n",
    "    <li><a href=\"#Vectors\">Vectors</a></li>\n",
    "    <li><a href=\"#Vector-Operations\">Vector Operations</a></li>\n",
    "    <li><a href=\"#Subsetting-Vectors\">Subsetting Vectors</a></li>\n",
    "    <li><a href=\"#Factors\">Factors</a></li>\n",
    "</ul>\n",
    "\n",
    "<hr>\n"
   ]
  },
  {
   "cell_type": "markdown",
   "id": "9d0fe090-8501-4fda-9bce-0583a6b831b4",
   "metadata": {},
   "source": [
    "<a id=\"ref0\"></a>\n",
    "\n",
    "<h2 align=center>About the Dataset</h2>\n",
    "\n",
    "You have received many movie recomendations from your friends and compiled all of the recommendations into a table, with information about each movie. \n",
    "\n",
    "This table has one row for each movie and several columns.\n",
    "\n",
    "-   **name** - The name of the movie\n",
    "-   **year** - The year the movie was released\n",
    "-   **length_min** - The lenght of the movie in minutes\n",
    "-   **genre** - The genre of the movie\n",
    "-   **average_rating** - Average rating on Imdb\n",
    "-   **cost_millions** - The movie's production cost in millions\n",
    "-   **foreign** - Indicative of whether the movie is foreign (1) or domestic (0)\n",
    "-   **age_restriction** - The age restriction for the movie\n",
    "    <br>\n",
    "    <br>\n",
    "\n",
    "Here's what the data looks like:\n",
    "\n",
    "<img src=\"https://ibm.box.com/shared/static/6kr8sg0n6pc40zd1xn6hjhtvy3k7cmeq.png\" width=\"90%\" align=\"left\">\n"
   ]
  },
  {
   "cell_type": "markdown",
   "id": "c3793fd4-eb9f-457a-acbf-0aca286592a5",
   "metadata": {},
   "source": [
    "<hr>\n"
   ]
  },
  {
   "cell_type": "markdown",
   "id": "5fb5f64f-c516-4fa8-bd84-ec3171d3b388",
   "metadata": {},
   "source": [
    "<a id=\"ref1\"></a>\n",
    "\n",
    "<center><h2>Vectors</h2></center>\n"
   ]
  },
  {
   "cell_type": "markdown",
   "id": "901bf6b5-3799-4ae1-b2dc-81122b661d5a",
   "metadata": {},
   "source": [
    "**Vectors** are collections of numbers, characters or logical data organized in a one dimensional array. In other words, a vector is a simple tool to store your grouped data, element by element.\n",
    "\n",
    "In R, you create a vector with the combine function **c()**. You place the vector elements separated by a comma between the brackets. \n",
    "\n",
    "Vectors will be very useful in the future as they allow you to apply operations on a series of data easily. \n",
    "\n",
    "Note that the elements in a vector must be of the same class, for example all should be either number, character, or logical.\n"
   ]
  },
  {
   "cell_type": "markdown",
   "id": "84c5ce19-9858-4c61-8ac4-f9eb44232148",
   "metadata": {},
   "source": [
    "### Numeric, Character, and Logical Vectors\n"
   ]
  },
  {
   "cell_type": "markdown",
   "id": "7717714e-dee9-4932-9eb9-64a6f636b40b",
   "metadata": {},
   "source": [
    "Let's say we have four movie release dates (1985, 1999, 2015, 1964) and we want to assign them to a single variable, `release_year`. This means we'll need to create a vector using the **`c()`** function to **c**ombine them.\n",
    "\n",
    "Using numbers, this becomes a **numeric vector**.\n"
   ]
  },
  {
   "cell_type": "code",
   "execution_count": 1,
   "id": "c053a993-2f7b-47df-b39d-da9af5bb9656",
   "metadata": {},
   "outputs": [],
   "source": [
    "release_year <- c(1985, 1999, 2015, 1964)"
   ]
  },
  {
   "cell_type": "code",
   "execution_count": 2,
   "id": "7f8c50c0-5124-4d88-a027-a705e0e1750a",
   "metadata": {},
   "outputs": [
    {
     "data": {
      "text/html": [
       "<style>\n",
       ".list-inline {list-style: none; margin:0; padding: 0}\n",
       ".list-inline>li {display: inline-block}\n",
       ".list-inline>li:not(:last-child)::after {content: \"\\00b7\"; padding: 0 .5ex}\n",
       "</style>\n",
       "<ol class=list-inline><li>1985</li><li>1999</li><li>2015</li><li>1964</li></ol>\n"
      ],
      "text/latex": [
       "\\begin{enumerate*}\n",
       "\\item 1985\n",
       "\\item 1999\n",
       "\\item 2015\n",
       "\\item 1964\n",
       "\\end{enumerate*}\n"
      ],
      "text/markdown": [
       "1. 1985\n",
       "2. 1999\n",
       "3. 2015\n",
       "4. 1964\n",
       "\n",
       "\n"
      ],
      "text/plain": [
       "[1] 1985 1999 2015 1964"
      ]
     },
     "metadata": {},
     "output_type": "display_data"
    }
   ],
   "source": [
    "release_year"
   ]
  },
  {
   "cell_type": "markdown",
   "id": "df198d59-defa-4bd7-ae6b-cfa7cf28e85c",
   "metadata": {},
   "source": [
    "What if we use single or double quotation marks? Then this becomes a **character vector**.\n"
   ]
  },
  {
   "cell_type": "code",
   "execution_count": 3,
   "id": "de667f4a-0da2-4197-a098-0d33a7a0e392",
   "metadata": {},
   "outputs": [
    {
     "data": {
      "text/html": [
       "<style>\n",
       ".list-inline {list-style: none; margin:0; padding: 0}\n",
       ".list-inline>li {display: inline-block}\n",
       ".list-inline>li:not(:last-child)::after {content: \"\\00b7\"; padding: 0 .5ex}\n",
       "</style>\n",
       "<ol class=list-inline><li>'Toy Story'</li><li>'Akira'</li><li>'The Breakfast Club'</li></ol>\n"
      ],
      "text/latex": [
       "\\begin{enumerate*}\n",
       "\\item 'Toy Story'\n",
       "\\item 'Akira'\n",
       "\\item 'The Breakfast Club'\n",
       "\\end{enumerate*}\n"
      ],
      "text/markdown": [
       "1. 'Toy Story'\n",
       "2. 'Akira'\n",
       "3. 'The Breakfast Club'\n",
       "\n",
       "\n"
      ],
      "text/plain": [
       "[1] \"Toy Story\"          \"Akira\"              \"The Breakfast Club\""
      ]
     },
     "metadata": {},
     "output_type": "display_data"
    }
   ],
   "source": [
    "# Create genre vector and assign values to it \n",
    "titles <- c(\"Toy Story\", \"Akira\", \"The Breakfast Club\")\n",
    "titles"
   ]
  },
  {
   "cell_type": "markdown",
   "id": "77eedc79-77aa-4da5-9be4-4f466ee23259",
   "metadata": {},
   "source": [
    "There are also **logical vectors**, which consist of TRUEs and FALSEs. They're particular important when you want to check its contents\n"
   ]
  },
  {
   "cell_type": "code",
   "execution_count": 4,
   "id": "49474838-84db-4903-8fc5-03fc0eff8267",
   "metadata": {},
   "outputs": [
    {
     "data": {
      "text/html": [
       "<style>\n",
       ".list-inline {list-style: none; margin:0; padding: 0}\n",
       ".list-inline>li {display: inline-block}\n",
       ".list-inline>li:not(:last-child)::after {content: \"\\00b7\"; padding: 0 .5ex}\n",
       "</style>\n",
       "<ol class=list-inline><li>FALSE</li><li>TRUE</li><li>FALSE</li></ol>\n"
      ],
      "text/latex": [
       "\\begin{enumerate*}\n",
       "\\item FALSE\n",
       "\\item TRUE\n",
       "\\item FALSE\n",
       "\\end{enumerate*}\n"
      ],
      "text/markdown": [
       "1. FALSE\n",
       "2. TRUE\n",
       "3. FALSE\n",
       "\n",
       "\n"
      ],
      "text/plain": [
       "[1] FALSE  TRUE FALSE"
      ]
     },
     "metadata": {},
     "output_type": "display_data"
    }
   ],
   "source": [
    "titles == \"Akira\" # which item in `titles` is equal to \"Akira\"?"
   ]
  },
  {
   "cell_type": "markdown",
   "id": "9d119c12-be56-4bab-a526-62b21fea2a57",
   "metadata": {},
   "source": [
    "**Coding Exercise:** in the code cell below, find which item in `titles` equals to \"Toy Story\"\n"
   ]
  },
  {
   "cell_type": "code",
   "execution_count": 5,
   "id": "b1787421-a8a4-4a83-a381-2da375854a6f",
   "metadata": {},
   "outputs": [
    {
     "data": {
      "text/html": [
       "<style>\n",
       ".list-inline {list-style: none; margin:0; padding: 0}\n",
       ".list-inline>li {display: inline-block}\n",
       ".list-inline>li:not(:last-child)::after {content: \"\\00b7\"; padding: 0 .5ex}\n",
       "</style>\n",
       "<ol class=list-inline><li>TRUE</li><li>FALSE</li><li>FALSE</li></ol>\n"
      ],
      "text/latex": [
       "\\begin{enumerate*}\n",
       "\\item TRUE\n",
       "\\item FALSE\n",
       "\\item FALSE\n",
       "\\end{enumerate*}\n"
      ],
      "text/markdown": [
       "1. TRUE\n",
       "2. FALSE\n",
       "3. FALSE\n",
       "\n",
       "\n"
      ],
      "text/plain": [
       "[1]  TRUE FALSE FALSE"
      ]
     },
     "metadata": {},
     "output_type": "display_data"
    }
   ],
   "source": [
    "# Write your code below. Don't forget to press Shift+Enter to execute the cell\n",
    "titles == 'Toy Story'"
   ]
  },
  {
   "cell_type": "markdown",
   "id": "777f1ceb-4104-4a4e-81fd-91797a035d40",
   "metadata": {},
   "source": [
    "<details><summary>Click here for the solution</summary>\n",
    "\n",
    "```R\n",
    "titles == \"Toy Story\"\n",
    "\n",
    "```\n",
    "\n",
    "</details>\n"
   ]
  },
  {
   "cell_type": "markdown",
   "id": "b6719e42-386b-41e7-a8a2-424558ec0bb5",
   "metadata": {},
   "source": [
    "<hr></hr>\n",
    "<div class=\"alert alert-success alertsuccess\" style=\"margin-top: 20px\">\n",
    "<h4> [Tip] TRUE and FALSE in R </h4>  \n",
    "\n",
    "Did you know? R only recognizes `TRUE`, `FALSE`, `T` and `F` as special values for true and false. That means all other spellings, including _True_ and _true_, are not interpreted by R as logical values.\n",
    "\n",
    "<p></p>\n",
    "</div>\n",
    "\n",
    "<hr></hr>\n"
   ]
  },
  {
   "cell_type": "markdown",
   "id": "b3759231-da40-4834-a0e3-0d795e31f90b",
   "metadata": {},
   "source": [
    "<a id=\"ref2\"></a>\n",
    "\n",
    "<center><h2>Vector Operations</h2></center>\n"
   ]
  },
  {
   "cell_type": "markdown",
   "id": "c1ae11c8-c728-4df9-83d5-2acfabd27d6f",
   "metadata": {},
   "source": [
    "### Adding more elements to a vector\n"
   ]
  },
  {
   "cell_type": "markdown",
   "id": "330b24ea-0836-4041-ab50-e74e3ac232b7",
   "metadata": {},
   "source": [
    "You can add more elements to a vector with the same **`c()`** function you use the create vectors:\n"
   ]
  },
  {
   "cell_type": "code",
   "execution_count": 6,
   "id": "8d84d398-fbb9-42a0-8d44-e487f263a0b2",
   "metadata": {},
   "outputs": [
    {
     "data": {
      "text/html": [
       "<style>\n",
       ".list-inline {list-style: none; margin:0; padding: 0}\n",
       ".list-inline>li {display: inline-block}\n",
       ".list-inline>li:not(:last-child)::after {content: \"\\00b7\"; padding: 0 .5ex}\n",
       "</style>\n",
       "<ol class=list-inline><li>1985</li><li>1999</li><li>2015</li><li>1964</li></ol>\n"
      ],
      "text/latex": [
       "\\begin{enumerate*}\n",
       "\\item 1985\n",
       "\\item 1999\n",
       "\\item 2015\n",
       "\\item 1964\n",
       "\\end{enumerate*}\n"
      ],
      "text/markdown": [
       "1. 1985\n",
       "2. 1999\n",
       "3. 2015\n",
       "4. 1964\n",
       "\n",
       "\n"
      ],
      "text/plain": [
       "[1] 1985 1999 2015 1964"
      ]
     },
     "metadata": {},
     "output_type": "display_data"
    }
   ],
   "source": [
    "release_year <- c(1985, 1999, 2015, 1964)\n",
    "release_year"
   ]
  },
  {
   "cell_type": "code",
   "execution_count": 7,
   "id": "9f717b0e-78dc-4938-af8d-ffc8f6bbc8ba",
   "metadata": {},
   "outputs": [
    {
     "data": {
      "text/html": [
       "<style>\n",
       ".list-inline {list-style: none; margin:0; padding: 0}\n",
       ".list-inline>li {display: inline-block}\n",
       ".list-inline>li:not(:last-child)::after {content: \"\\00b7\"; padding: 0 .5ex}\n",
       "</style>\n",
       "<ol class=list-inline><li>1985</li><li>1999</li><li>2015</li><li>1964</li><li>2016</li><li>2017</li><li>2018</li></ol>\n"
      ],
      "text/latex": [
       "\\begin{enumerate*}\n",
       "\\item 1985\n",
       "\\item 1999\n",
       "\\item 2015\n",
       "\\item 1964\n",
       "\\item 2016\n",
       "\\item 2017\n",
       "\\item 2018\n",
       "\\end{enumerate*}\n"
      ],
      "text/markdown": [
       "1. 1985\n",
       "2. 1999\n",
       "3. 2015\n",
       "4. 1964\n",
       "5. 2016\n",
       "6. 2017\n",
       "7. 2018\n",
       "\n",
       "\n"
      ],
      "text/plain": [
       "[1] 1985 1999 2015 1964 2016 2017 2018"
      ]
     },
     "metadata": {},
     "output_type": "display_data"
    }
   ],
   "source": [
    "release_year <- c(release_year, 2016:2018)\n",
    "release_year"
   ]
  },
  {
   "cell_type": "markdown",
   "id": "e18a9e7d-53d8-4d30-b6a6-07104de0e8df",
   "metadata": {},
   "source": [
    "### Length of a vector\n"
   ]
  },
  {
   "cell_type": "markdown",
   "id": "777b4206-58fb-42e9-bfd6-f3f02e79a593",
   "metadata": {},
   "source": [
    "How do we check how many items there are in a vector? We can use the **length()** function:\n"
   ]
  },
  {
   "cell_type": "code",
   "execution_count": 8,
   "id": "896164b9-714c-47a7-b43c-f2a4f7796ab8",
   "metadata": {},
   "outputs": [
    {
     "data": {
      "text/html": [
       "<style>\n",
       ".list-inline {list-style: none; margin:0; padding: 0}\n",
       ".list-inline>li {display: inline-block}\n",
       ".list-inline>li:not(:last-child)::after {content: \"\\00b7\"; padding: 0 .5ex}\n",
       "</style>\n",
       "<ol class=list-inline><li>1985</li><li>1999</li><li>2015</li><li>1964</li><li>2016</li><li>2017</li><li>2018</li></ol>\n"
      ],
      "text/latex": [
       "\\begin{enumerate*}\n",
       "\\item 1985\n",
       "\\item 1999\n",
       "\\item 2015\n",
       "\\item 1964\n",
       "\\item 2016\n",
       "\\item 2017\n",
       "\\item 2018\n",
       "\\end{enumerate*}\n"
      ],
      "text/markdown": [
       "1. 1985\n",
       "2. 1999\n",
       "3. 2015\n",
       "4. 1964\n",
       "5. 2016\n",
       "6. 2017\n",
       "7. 2018\n",
       "\n",
       "\n"
      ],
      "text/plain": [
       "[1] 1985 1999 2015 1964 2016 2017 2018"
      ]
     },
     "metadata": {},
     "output_type": "display_data"
    },
    {
     "data": {
      "text/html": [
       "7"
      ],
      "text/latex": [
       "7"
      ],
      "text/markdown": [
       "7"
      ],
      "text/plain": [
       "[1] 7"
      ]
     },
     "metadata": {},
     "output_type": "display_data"
    }
   ],
   "source": [
    "release_year\n",
    "length(release_year)"
   ]
  },
  {
   "cell_type": "markdown",
   "id": "61ecc78e-321c-478c-8c7f-16ced480753f",
   "metadata": {},
   "source": [
    "### Head and Tail of a vector\n"
   ]
  },
  {
   "cell_type": "markdown",
   "id": "12c7578b-9030-414c-b3dd-eeacd1230196",
   "metadata": {},
   "source": [
    "We can also retrieve just the **first few items** using the **head()** function:\n"
   ]
  },
  {
   "cell_type": "code",
   "execution_count": 9,
   "id": "8fbd80e4-8379-468d-b5df-c02ef2201719",
   "metadata": {},
   "outputs": [
    {
     "data": {
      "text/html": [
       "<style>\n",
       ".list-inline {list-style: none; margin:0; padding: 0}\n",
       ".list-inline>li {display: inline-block}\n",
       ".list-inline>li:not(:last-child)::after {content: \"\\00b7\"; padding: 0 .5ex}\n",
       "</style>\n",
       "<ol class=list-inline><li>1985</li><li>1999</li><li>2015</li><li>1964</li><li>2016</li><li>2017</li></ol>\n"
      ],
      "text/latex": [
       "\\begin{enumerate*}\n",
       "\\item 1985\n",
       "\\item 1999\n",
       "\\item 2015\n",
       "\\item 1964\n",
       "\\item 2016\n",
       "\\item 2017\n",
       "\\end{enumerate*}\n"
      ],
      "text/markdown": [
       "1. 1985\n",
       "2. 1999\n",
       "3. 2015\n",
       "4. 1964\n",
       "5. 2016\n",
       "6. 2017\n",
       "\n",
       "\n"
      ],
      "text/plain": [
       "[1] 1985 1999 2015 1964 2016 2017"
      ]
     },
     "metadata": {},
     "output_type": "display_data"
    }
   ],
   "source": [
    "head(release_year) #first six items"
   ]
  },
  {
   "cell_type": "code",
   "execution_count": 10,
   "id": "d5570541-05bc-4774-8f07-1f305b3071ce",
   "metadata": {},
   "outputs": [
    {
     "data": {
      "text/html": [
       "<style>\n",
       ".list-inline {list-style: none; margin:0; padding: 0}\n",
       ".list-inline>li {display: inline-block}\n",
       ".list-inline>li:not(:last-child)::after {content: \"\\00b7\"; padding: 0 .5ex}\n",
       "</style>\n",
       "<ol class=list-inline><li>1985</li><li>1999</li></ol>\n"
      ],
      "text/latex": [
       "\\begin{enumerate*}\n",
       "\\item 1985\n",
       "\\item 1999\n",
       "\\end{enumerate*}\n"
      ],
      "text/markdown": [
       "1. 1985\n",
       "2. 1999\n",
       "\n",
       "\n"
      ],
      "text/plain": [
       "[1] 1985 1999"
      ]
     },
     "metadata": {},
     "output_type": "display_data"
    }
   ],
   "source": [
    "head(release_year, n = 2) #first n items"
   ]
  },
  {
   "cell_type": "code",
   "execution_count": 11,
   "id": "aa66290e-5b48-433d-a6dd-cc72f3ed73f2",
   "metadata": {},
   "outputs": [
    {
     "data": {
      "text/html": [
       "<style>\n",
       ".list-inline {list-style: none; margin:0; padding: 0}\n",
       ".list-inline>li {display: inline-block}\n",
       ".list-inline>li:not(:last-child)::after {content: \"\\00b7\"; padding: 0 .5ex}\n",
       "</style>\n",
       "<ol class=list-inline><li>1985</li><li>1999</li></ol>\n"
      ],
      "text/latex": [
       "\\begin{enumerate*}\n",
       "\\item 1985\n",
       "\\item 1999\n",
       "\\end{enumerate*}\n"
      ],
      "text/markdown": [
       "1. 1985\n",
       "2. 1999\n",
       "\n",
       "\n"
      ],
      "text/plain": [
       "[1] 1985 1999"
      ]
     },
     "metadata": {},
     "output_type": "display_data"
    }
   ],
   "source": [
    "head(release_year, 2)"
   ]
  },
  {
   "cell_type": "markdown",
   "id": "9681f6ce-1030-4a46-a57f-a7a570ad1e46",
   "metadata": {},
   "source": [
    "We can also retrieve just the **last few items** using the **tail()** function:\n"
   ]
  },
  {
   "cell_type": "code",
   "execution_count": 12,
   "id": "8c3e70e7-561b-44c5-ac51-91aec7fd46d6",
   "metadata": {},
   "outputs": [
    {
     "data": {
      "text/html": [
       "<style>\n",
       ".list-inline {list-style: none; margin:0; padding: 0}\n",
       ".list-inline>li {display: inline-block}\n",
       ".list-inline>li:not(:last-child)::after {content: \"\\00b7\"; padding: 0 .5ex}\n",
       "</style>\n",
       "<ol class=list-inline><li>1999</li><li>2015</li><li>1964</li><li>2016</li><li>2017</li><li>2018</li></ol>\n"
      ],
      "text/latex": [
       "\\begin{enumerate*}\n",
       "\\item 1999\n",
       "\\item 2015\n",
       "\\item 1964\n",
       "\\item 2016\n",
       "\\item 2017\n",
       "\\item 2018\n",
       "\\end{enumerate*}\n"
      ],
      "text/markdown": [
       "1. 1999\n",
       "2. 2015\n",
       "3. 1964\n",
       "4. 2016\n",
       "5. 2017\n",
       "6. 2018\n",
       "\n",
       "\n"
      ],
      "text/plain": [
       "[1] 1999 2015 1964 2016 2017 2018"
      ]
     },
     "metadata": {},
     "output_type": "display_data"
    }
   ],
   "source": [
    "tail(release_year) #last six items"
   ]
  },
  {
   "cell_type": "code",
   "execution_count": 13,
   "id": "389e6120-3140-4f41-bad5-51f3bedfa305",
   "metadata": {},
   "outputs": [
    {
     "data": {
      "text/html": [
       "<style>\n",
       ".list-inline {list-style: none; margin:0; padding: 0}\n",
       ".list-inline>li {display: inline-block}\n",
       ".list-inline>li:not(:last-child)::after {content: \"\\00b7\"; padding: 0 .5ex}\n",
       "</style>\n",
       "<ol class=list-inline><li>2017</li><li>2018</li></ol>\n"
      ],
      "text/latex": [
       "\\begin{enumerate*}\n",
       "\\item 2017\n",
       "\\item 2018\n",
       "\\end{enumerate*}\n"
      ],
      "text/markdown": [
       "1. 2017\n",
       "2. 2018\n",
       "\n",
       "\n"
      ],
      "text/plain": [
       "[1] 2017 2018"
      ]
     },
     "metadata": {},
     "output_type": "display_data"
    }
   ],
   "source": [
    "tail(release_year, 2) #last two items"
   ]
  },
  {
   "cell_type": "markdown",
   "id": "3c3d18c8-cdf8-4e58-9866-f02b48df30cb",
   "metadata": {},
   "source": [
    "### Sorting a vector\n"
   ]
  },
  {
   "cell_type": "markdown",
   "id": "c4f8c1a3-eacb-482e-b0da-07d6b4850a9c",
   "metadata": {},
   "source": [
    "We can also sort a vector:\n"
   ]
  },
  {
   "cell_type": "code",
   "execution_count": 14,
   "id": "95be02c5-51d3-4b8f-8879-772ce70ceb6f",
   "metadata": {},
   "outputs": [
    {
     "data": {
      "text/html": [
       "<style>\n",
       ".list-inline {list-style: none; margin:0; padding: 0}\n",
       ".list-inline>li {display: inline-block}\n",
       ".list-inline>li:not(:last-child)::after {content: \"\\00b7\"; padding: 0 .5ex}\n",
       "</style>\n",
       "<ol class=list-inline><li>1964</li><li>1985</li><li>1999</li><li>2015</li><li>2016</li><li>2017</li><li>2018</li></ol>\n"
      ],
      "text/latex": [
       "\\begin{enumerate*}\n",
       "\\item 1964\n",
       "\\item 1985\n",
       "\\item 1999\n",
       "\\item 2015\n",
       "\\item 2016\n",
       "\\item 2017\n",
       "\\item 2018\n",
       "\\end{enumerate*}\n"
      ],
      "text/markdown": [
       "1. 1964\n",
       "2. 1985\n",
       "3. 1999\n",
       "4. 2015\n",
       "5. 2016\n",
       "6. 2017\n",
       "7. 2018\n",
       "\n",
       "\n"
      ],
      "text/plain": [
       "[1] 1964 1985 1999 2015 2016 2017 2018"
      ]
     },
     "metadata": {},
     "output_type": "display_data"
    }
   ],
   "source": [
    "sort(release_year)"
   ]
  },
  {
   "cell_type": "markdown",
   "id": "bbe2c45d-2fe2-4fdd-b869-815d22a50111",
   "metadata": {},
   "source": [
    "We can also **sort in decreasing order**:\n"
   ]
  },
  {
   "cell_type": "code",
   "execution_count": 15,
   "id": "89a629f3-b219-4f53-9782-4e8aafb66cae",
   "metadata": {},
   "outputs": [
    {
     "data": {
      "text/html": [
       "<style>\n",
       ".list-inline {list-style: none; margin:0; padding: 0}\n",
       ".list-inline>li {display: inline-block}\n",
       ".list-inline>li:not(:last-child)::after {content: \"\\00b7\"; padding: 0 .5ex}\n",
       "</style>\n",
       "<ol class=list-inline><li>2018</li><li>2017</li><li>2016</li><li>2015</li><li>1999</li><li>1985</li><li>1964</li></ol>\n"
      ],
      "text/latex": [
       "\\begin{enumerate*}\n",
       "\\item 2018\n",
       "\\item 2017\n",
       "\\item 2016\n",
       "\\item 2015\n",
       "\\item 1999\n",
       "\\item 1985\n",
       "\\item 1964\n",
       "\\end{enumerate*}\n"
      ],
      "text/markdown": [
       "1. 2018\n",
       "2. 2017\n",
       "3. 2016\n",
       "4. 2015\n",
       "5. 1999\n",
       "6. 1985\n",
       "7. 1964\n",
       "\n",
       "\n"
      ],
      "text/plain": [
       "[1] 2018 2017 2016 2015 1999 1985 1964"
      ]
     },
     "metadata": {},
     "output_type": "display_data"
    }
   ],
   "source": [
    "sort(release_year, decreasing = TRUE)"
   ]
  },
  {
   "cell_type": "markdown",
   "id": "4909e3b6-23b2-4000-859d-3c7d603ac8eb",
   "metadata": {},
   "source": [
    "But if you just want the minimum and maximum values of a vector, you can use the **`min()`** and **`max()`** functions\n"
   ]
  },
  {
   "cell_type": "code",
   "execution_count": 16,
   "id": "9b506b66-f9db-4363-a080-26c810848cde",
   "metadata": {},
   "outputs": [
    {
     "data": {
      "text/html": [
       "1964"
      ],
      "text/latex": [
       "1964"
      ],
      "text/markdown": [
       "1964"
      ],
      "text/plain": [
       "[1] 1964"
      ]
     },
     "metadata": {},
     "output_type": "display_data"
    },
    {
     "data": {
      "text/html": [
       "2018"
      ],
      "text/latex": [
       "2018"
      ],
      "text/markdown": [
       "2018"
      ],
      "text/plain": [
       "[1] 2018"
      ]
     },
     "metadata": {},
     "output_type": "display_data"
    }
   ],
   "source": [
    "min(release_year)\n",
    "max(release_year)"
   ]
  },
  {
   "cell_type": "markdown",
   "id": "4e95ed86-feed-4809-af9e-211940e9b9e0",
   "metadata": {},
   "source": [
    "### Average of Numbers\n"
   ]
  },
  {
   "cell_type": "markdown",
   "id": "b619af24-2caf-40f6-adcb-e7d498552451",
   "metadata": {},
   "source": [
    "If you want to check the average cost of movies produced in 2014, what would you do? \n",
    "\n",
    "Of course, one way is to add all the numbers together, then divide by the number of movies:\n"
   ]
  },
  {
   "cell_type": "code",
   "execution_count": 17,
   "id": "8e1d631f-9c2d-4ebd-8233-cedc7155bf92",
   "metadata": {},
   "outputs": [
    {
     "data": {
      "text/html": [
       "8.4"
      ],
      "text/latex": [
       "8.4"
      ],
      "text/markdown": [
       "8.4"
      ],
      "text/plain": [
       "[1] 8.4"
      ]
     },
     "metadata": {},
     "output_type": "display_data"
    }
   ],
   "source": [
    "cost_2014 <- c(8.6, 8.5, 8.1)\n",
    "\n",
    "# sum results in the sum of all elements in the vector\n",
    "avg_cost_2014 <- sum(cost_2014)/3\n",
    "avg_cost_2014"
   ]
  },
  {
   "cell_type": "markdown",
   "id": "26abf9b1-9384-4287-9382-9a26faeb8e5f",
   "metadata": {},
   "source": [
    "You also can use the <b>mean</b> function to find the average of the numeric values in a vector:\n"
   ]
  },
  {
   "cell_type": "code",
   "execution_count": 18,
   "id": "81ffe4c1-eb80-4f81-b4eb-3170b5477a32",
   "metadata": {},
   "outputs": [
    {
     "data": {
      "text/html": [
       "8.4"
      ],
      "text/latex": [
       "8.4"
      ],
      "text/markdown": [
       "8.4"
      ],
      "text/plain": [
       "[1] 8.4"
      ]
     },
     "metadata": {},
     "output_type": "display_data"
    }
   ],
   "source": [
    "mean_cost_2014 <- mean(cost_2014)\n",
    "mean_cost_2014"
   ]
  },
  {
   "cell_type": "markdown",
   "id": "2f8f0fc3-8ba2-47cd-a749-1ba4196f5dc6",
   "metadata": {},
   "source": [
    "### Giving Names to Values in a Vector\n"
   ]
  },
  {
   "cell_type": "markdown",
   "id": "c8af87db-485c-4e81-89af-a8a51ba9f175",
   "metadata": {},
   "source": [
    "Suppose you want to remember which year corresponds to which movie.\n",
    "\n",
    "With vectors, you can give names to the elements of a vector using the `names()` function:\n"
   ]
  },
  {
   "cell_type": "code",
   "execution_count": 19,
   "id": "58c2e3b0-3399-4bf1-9b7e-99b41df246fc",
   "metadata": {},
   "outputs": [
    {
     "data": {
      "text/html": [
       "<style>\n",
       ".dl-inline {width: auto; margin:0; padding: 0}\n",
       ".dl-inline>dt, .dl-inline>dd {float: none; width: auto; display: inline-block}\n",
       ".dl-inline>dt::after {content: \":\\0020\"; padding-right: .5ex}\n",
       ".dl-inline>dt:not(:first-of-type) {padding-left: .5ex}\n",
       "</style><dl class=dl-inline><dt>The Breakfast Club</dt><dd>1985</dd><dt>American Beauty</dt><dd>1999</dd><dt>Black Swan</dt><dd>2010</dd><dt>Chicago</dt><dd>2002</dd></dl>\n"
      ],
      "text/latex": [
       "\\begin{description*}\n",
       "\\item[The Breakfast Club] 1985\n",
       "\\item[American Beauty] 1999\n",
       "\\item[Black Swan] 2010\n",
       "\\item[Chicago] 2002\n",
       "\\end{description*}\n"
      ],
      "text/markdown": [
       "The Breakfast Club\n",
       ":   1985American Beauty\n",
       ":   1999Black Swan\n",
       ":   2010Chicago\n",
       ":   2002\n",
       "\n"
      ],
      "text/plain": [
       "The Breakfast Club    American Beauty         Black Swan            Chicago \n",
       "              1985               1999               2010               2002 "
      ]
     },
     "metadata": {},
     "output_type": "display_data"
    }
   ],
   "source": [
    "#Creating a year vector\n",
    "release_year <- c(1985, 1999, 2010, 2002)\n",
    "\n",
    "#Assigning names\n",
    "names(release_year) <- c(\"The Breakfast Club\", \"American Beauty\", \"Black Swan\", \"Chicago\")\n",
    "\n",
    "release_year"
   ]
  },
  {
   "cell_type": "markdown",
   "id": "a07a2e6a-4f76-4f29-9e65-dedb4b645d45",
   "metadata": {},
   "source": [
    "Now, you can retrieve the values based on the names:\n"
   ]
  },
  {
   "cell_type": "code",
   "execution_count": 20,
   "id": "8de51388-6bbc-42dd-badd-0386467beb08",
   "metadata": {},
   "outputs": [
    {
     "data": {
      "text/html": [
       "<style>\n",
       ".dl-inline {width: auto; margin:0; padding: 0}\n",
       ".dl-inline>dt, .dl-inline>dd {float: none; width: auto; display: inline-block}\n",
       ".dl-inline>dt::after {content: \":\\0020\"; padding-right: .5ex}\n",
       ".dl-inline>dt:not(:first-of-type) {padding-left: .5ex}\n",
       "</style><dl class=dl-inline><dt>American Beauty</dt><dd>1999</dd><dt>Chicago</dt><dd>2002</dd></dl>\n"
      ],
      "text/latex": [
       "\\begin{description*}\n",
       "\\item[American Beauty] 1999\n",
       "\\item[Chicago] 2002\n",
       "\\end{description*}\n"
      ],
      "text/markdown": [
       "American Beauty\n",
       ":   1999Chicago\n",
       ":   2002\n",
       "\n"
      ],
      "text/plain": [
       "American Beauty         Chicago \n",
       "           1999            2002 "
      ]
     },
     "metadata": {},
     "output_type": "display_data"
    }
   ],
   "source": [
    "release_year[c(\"American Beauty\", \"Chicago\")]"
   ]
  },
  {
   "cell_type": "markdown",
   "id": "f88270a9-cbec-4939-8b78-d814372afc61",
   "metadata": {},
   "source": [
    "Note that the values of the vector are still the years. We can see this in action by adding a number to the first item:\n"
   ]
  },
  {
   "cell_type": "code",
   "execution_count": 21,
   "id": "2d0db799-4c3b-4a70-8e0d-ed8a99d5b0c5",
   "metadata": {},
   "outputs": [
    {
     "data": {
      "text/html": [
       "<strong>The Breakfast Club:</strong> 2085"
      ],
      "text/latex": [
       "\\textbf{The Breakfast Club:} 2085"
      ],
      "text/markdown": [
       "**The Breakfast Club:** 2085"
      ],
      "text/plain": [
       "The Breakfast Club \n",
       "              2085 "
      ]
     },
     "metadata": {},
     "output_type": "display_data"
    }
   ],
   "source": [
    "release_year[1] + 100 #adding 100 to the first item changes the year"
   ]
  },
  {
   "cell_type": "markdown",
   "id": "3da0961c-ef23-4765-aab0-a58a4ecb2bcb",
   "metadata": {},
   "source": [
    "And you can retrieve the names of the vector using **`names()`**\n"
   ]
  },
  {
   "cell_type": "code",
   "execution_count": 22,
   "id": "b26d4caf-88fe-4de5-957a-a2a890d743a5",
   "metadata": {},
   "outputs": [
    {
     "data": {
      "text/html": [
       "<style>\n",
       ".list-inline {list-style: none; margin:0; padding: 0}\n",
       ".list-inline>li {display: inline-block}\n",
       ".list-inline>li:not(:last-child)::after {content: \"\\00b7\"; padding: 0 .5ex}\n",
       "</style>\n",
       "<ol class=list-inline><li>'The Breakfast Club'</li><li>'American Beauty'</li><li>'Black Swan'</li><li>'Chicago'</li></ol>\n"
      ],
      "text/latex": [
       "\\begin{enumerate*}\n",
       "\\item 'The Breakfast Club'\n",
       "\\item 'American Beauty'\n",
       "\\item 'Black Swan'\n",
       "\\item 'Chicago'\n",
       "\\end{enumerate*}\n"
      ],
      "text/markdown": [
       "1. 'The Breakfast Club'\n",
       "2. 'American Beauty'\n",
       "3. 'Black Swan'\n",
       "4. 'Chicago'\n",
       "\n",
       "\n"
      ],
      "text/plain": [
       "[1] \"The Breakfast Club\" \"American Beauty\"    \"Black Swan\"        \n",
       "[4] \"Chicago\"           "
      ]
     },
     "metadata": {},
     "output_type": "display_data"
    }
   ],
   "source": [
    "names(release_year)"
   ]
  },
  {
   "cell_type": "markdown",
   "id": "196f70be-90c0-40d7-a1ef-aa487830c0c8",
   "metadata": {},
   "source": [
    "**Coding Exercise:** in the code cell below, calculate the release year difference between 'Black Swan' and 'The Breakfast Club' \n"
   ]
  },
  {
   "cell_type": "code",
   "execution_count": 25,
   "id": "6ce1ffe3-701b-48e1-9b85-d1d80b932d1d",
   "metadata": {},
   "outputs": [
    {
     "data": {
      "text/html": [
       "<strong>Black Swan:</strong> 25"
      ],
      "text/latex": [
       "\\textbf{Black Swan:} 25"
      ],
      "text/markdown": [
       "**Black Swan:** 25"
      ],
      "text/plain": [
       "Black Swan \n",
       "        25 "
      ]
     },
     "metadata": {},
     "output_type": "display_data"
    }
   ],
   "source": [
    "# Write your code below. Don't forget to press Shift+Enter to execute the cell\n",
    "year_difference = release_year['Black Swan'] - release_year['The Breakfast Club']\n",
    "year_difference"
   ]
  },
  {
   "cell_type": "markdown",
   "id": "6cc74ec1-c8bb-442c-8a2c-55098d0549bc",
   "metadata": {},
   "source": [
    "<details><summary>Click here for the solution</summary>\n",
    "\n",
    "```R\n",
    "year_difference <- release_year['Black Swan'] - release_year['The Breakfast Club']\n",
    "year_difference\n",
    "```\n",
    "\n",
    "</details>\n"
   ]
  },
  {
   "cell_type": "markdown",
   "id": "90d8ef02-41b8-4604-9925-ae35e08955a5",
   "metadata": {},
   "source": [
    "### Summarizing Vectors\n"
   ]
  },
  {
   "cell_type": "markdown",
   "id": "110a22c2-1996-486e-a439-4db9df5dc565",
   "metadata": {},
   "source": [
    "You can also use the **\"summary\"** function for simple descriptive statistics: minimum, first quartile, mean, third quartile, maximum:\n"
   ]
  },
  {
   "cell_type": "code",
   "execution_count": 27,
   "id": "55310e36-1ed0-4c26-970f-c1945702768f",
   "metadata": {},
   "outputs": [
    {
     "data": {
      "text/plain": [
       "   Min. 1st Qu.  Median    Mean 3rd Qu.    Max. \n",
       "   8.10    8.30    8.50    8.40    8.55    8.60 "
      ]
     },
     "metadata": {},
     "output_type": "display_data"
    }
   ],
   "source": [
    "summary(cost_2014)"
   ]
  },
  {
   "cell_type": "markdown",
   "id": "a67443fe-ea3d-4e10-8899-d4175cd5ff14",
   "metadata": {},
   "source": [
    "### Using Logical Operations on Vectors\n"
   ]
  },
  {
   "cell_type": "markdown",
   "id": "9f919f81-827c-43a9-8fad-b1ed4302fb33",
   "metadata": {},
   "source": [
    "A vector can also be comprised of **`TRUE`** and **`FALSE`**, which are the **logical values** in R. These boolean values are used to indicate whether a condition is true or false.  \n",
    "\n",
    "Let's check whether a movie year of 1997 is older than (**greater in value than**) 2000.\n"
   ]
  },
  {
   "cell_type": "code",
   "execution_count": 28,
   "id": "fa93bc37-96e9-44fe-a240-fa278207d9ea",
   "metadata": {},
   "outputs": [
    {
     "data": {
      "text/html": [
       "FALSE"
      ],
      "text/latex": [
       "FALSE"
      ],
      "text/markdown": [
       "FALSE"
      ],
      "text/plain": [
       "[1] FALSE"
      ]
     },
     "metadata": {},
     "output_type": "display_data"
    }
   ],
   "source": [
    "movie_year <- 1997\n",
    "movie_year > 2000"
   ]
  },
  {
   "cell_type": "markdown",
   "id": "50383568-73fa-4733-9c41-ef7d1e7bafe0",
   "metadata": {},
   "source": [
    "You can also make a logical comparison across multiple items in a vector. Which movie release years here are \"greater\" than 2014?\n"
   ]
  },
  {
   "cell_type": "code",
   "execution_count": 29,
   "id": "aa10520c-3d36-4983-980e-8ef5be01bc16",
   "metadata": {},
   "outputs": [
    {
     "data": {
      "text/html": [
       "<style>\n",
       ".list-inline {list-style: none; margin:0; padding: 0}\n",
       ".list-inline>li {display: inline-block}\n",
       ".list-inline>li:not(:last-child)::after {content: \"\\00b7\"; padding: 0 .5ex}\n",
       "</style>\n",
       "<ol class=list-inline><li>FALSE</li><li>FALSE</li><li>TRUE</li></ol>\n"
      ],
      "text/latex": [
       "\\begin{enumerate*}\n",
       "\\item FALSE\n",
       "\\item FALSE\n",
       "\\item TRUE\n",
       "\\end{enumerate*}\n"
      ],
      "text/markdown": [
       "1. FALSE\n",
       "2. FALSE\n",
       "3. TRUE\n",
       "\n",
       "\n"
      ],
      "text/plain": [
       "[1] FALSE FALSE  TRUE"
      ]
     },
     "metadata": {},
     "output_type": "display_data"
    }
   ],
   "source": [
    "movies_years <- c(1998, 2010, 2016)\n",
    "movies_years > 2014"
   ]
  },
  {
   "cell_type": "markdown",
   "id": "90050d51-6365-461e-96e9-76cd54a8ff96",
   "metadata": {},
   "source": [
    "We can also check for **equivalence**, using **`==`**. Let's check which movie year is equal to 2015.\n"
   ]
  },
  {
   "cell_type": "code",
   "execution_count": 30,
   "id": "7bd49090-604c-4be7-9798-afa88fbd430f",
   "metadata": {},
   "outputs": [
    {
     "data": {
      "text/html": [
       "<style>\n",
       ".list-inline {list-style: none; margin:0; padding: 0}\n",
       ".list-inline>li {display: inline-block}\n",
       ".list-inline>li:not(:last-child)::after {content: \"\\00b7\"; padding: 0 .5ex}\n",
       "</style>\n",
       "<ol class=list-inline><li>FALSE</li><li>FALSE</li><li>FALSE</li></ol>\n"
      ],
      "text/latex": [
       "\\begin{enumerate*}\n",
       "\\item FALSE\n",
       "\\item FALSE\n",
       "\\item FALSE\n",
       "\\end{enumerate*}\n"
      ],
      "text/markdown": [
       "1. FALSE\n",
       "2. FALSE\n",
       "3. FALSE\n",
       "\n",
       "\n"
      ],
      "text/plain": [
       "[1] FALSE FALSE FALSE"
      ]
     },
     "metadata": {},
     "output_type": "display_data"
    }
   ],
   "source": [
    "movies_years == 2015 # is equal to 2015?"
   ]
  },
  {
   "cell_type": "markdown",
   "id": "c2f395bf-a4c9-4480-addf-bca1688074dc",
   "metadata": {},
   "source": [
    "If you want to check which ones are **not equal** to 2015, you can use **`!=`**\n"
   ]
  },
  {
   "cell_type": "code",
   "execution_count": 31,
   "id": "b7521c4c-8884-457a-83cc-74ed385a969b",
   "metadata": {},
   "outputs": [
    {
     "data": {
      "text/html": [
       "<style>\n",
       ".list-inline {list-style: none; margin:0; padding: 0}\n",
       ".list-inline>li {display: inline-block}\n",
       ".list-inline>li:not(:last-child)::after {content: \"\\00b7\"; padding: 0 .5ex}\n",
       "</style>\n",
       "<ol class=list-inline><li>TRUE</li><li>TRUE</li><li>TRUE</li></ol>\n"
      ],
      "text/latex": [
       "\\begin{enumerate*}\n",
       "\\item TRUE\n",
       "\\item TRUE\n",
       "\\item TRUE\n",
       "\\end{enumerate*}\n"
      ],
      "text/markdown": [
       "1. TRUE\n",
       "2. TRUE\n",
       "3. TRUE\n",
       "\n",
       "\n"
      ],
      "text/plain": [
       "[1] TRUE TRUE TRUE"
      ]
     },
     "metadata": {},
     "output_type": "display_data"
    }
   ],
   "source": [
    "movies_years != 2015"
   ]
  },
  {
   "cell_type": "markdown",
   "id": "c634be7a-5c92-49e1-a9e9-5f0f29e01736",
   "metadata": {},
   "source": [
    "<hr></hr>\n",
    "<div class=\"alert alert-success alertsuccess\" style=\"margin-top: 20px\">\n",
    "<h4> [Tip] Logical Operators in R </h4>\n",
    "<p></p>\n",
    "You can do a variety of logical operations in R including:  \n",
    "<li> Checking equivalence: $1 == 2$ </li>\n",
    "<li> Checking non-equivalence: $TRUE != FALSE$ </li>\n",
    "<li> Greater than: $100 > 1$ </li>\n",
    "<li> Greater than or equal to: $100 >= 1$ </li>\n",
    "<li> Less than: $1 < 2$ </li>\n",
    "<li> Less than or equal to: $1 <= 2$ </li>\n",
    "</div>\n",
    "<hr></hr>\n"
   ]
  },
  {
   "cell_type": "markdown",
   "id": "383cd619-8990-4481-9ca6-ea8349935cbb",
   "metadata": {},
   "source": [
    "<a id=\"ref3\"></a>\n",
    "\n",
    "<center><h2>Subsetting Vectors</h2><center>\n"
   ]
  },
  {
   "cell_type": "markdown",
   "id": "f20b46f6-e251-40f2-ae1d-40aecf844d06",
   "metadata": {},
   "source": [
    "What if you wanted to retrieve the second year from the following **vector of movie years**?\n"
   ]
  },
  {
   "cell_type": "code",
   "execution_count": 32,
   "id": "e1d29666-6ea5-419a-a1a3-8c57813a9f9b",
   "metadata": {},
   "outputs": [
    {
     "data": {
      "text/html": [
       "<style>\n",
       ".list-inline {list-style: none; margin:0; padding: 0}\n",
       ".list-inline>li {display: inline-block}\n",
       ".list-inline>li:not(:last-child)::after {content: \"\\00b7\"; padding: 0 .5ex}\n",
       "</style>\n",
       "<ol class=list-inline><li>1985</li><li>1999</li><li>2002</li><li>2010</li><li>2012</li></ol>\n"
      ],
      "text/latex": [
       "\\begin{enumerate*}\n",
       "\\item 1985\n",
       "\\item 1999\n",
       "\\item 2002\n",
       "\\item 2010\n",
       "\\item 2012\n",
       "\\end{enumerate*}\n"
      ],
      "text/markdown": [
       "1. 1985\n",
       "2. 1999\n",
       "3. 2002\n",
       "4. 2010\n",
       "5. 2012\n",
       "\n",
       "\n"
      ],
      "text/plain": [
       "[1] 1985 1999 2002 2010 2012"
      ]
     },
     "metadata": {},
     "output_type": "display_data"
    }
   ],
   "source": [
    "movie_years <- c(1985, 1999, 2002, 2010, 2012)\n",
    "movie_years"
   ]
  },
  {
   "cell_type": "markdown",
   "id": "e755172d-e49e-480c-9a70-7d2b7c3ea5f8",
   "metadata": {},
   "source": [
    "To retrieve the **second year**, you can use square brackets **`[]`**:\n"
   ]
  },
  {
   "cell_type": "code",
   "execution_count": 33,
   "id": "30289a60-fce6-472a-9187-9295290e5cf7",
   "metadata": {},
   "outputs": [
    {
     "data": {
      "text/html": [
       "1999"
      ],
      "text/latex": [
       "1999"
      ],
      "text/markdown": [
       "1999"
      ],
      "text/plain": [
       "[1] 1999"
      ]
     },
     "metadata": {},
     "output_type": "display_data"
    }
   ],
   "source": [
    "movie_years[2] #second item"
   ]
  },
  {
   "cell_type": "markdown",
   "id": "316850b2-db5b-4e20-90cd-91e446c08a27",
   "metadata": {},
   "source": [
    "To retrieve the **third year**, you can use:\n"
   ]
  },
  {
   "cell_type": "code",
   "execution_count": 34,
   "id": "25b15078-d90c-462f-996b-075a74c11465",
   "metadata": {},
   "outputs": [
    {
     "data": {
      "text/html": [
       "2002"
      ],
      "text/latex": [
       "2002"
      ],
      "text/markdown": [
       "2002"
      ],
      "text/plain": [
       "[1] 2002"
      ]
     },
     "metadata": {},
     "output_type": "display_data"
    }
   ],
   "source": [
    "movie_years[3]"
   ]
  },
  {
   "cell_type": "markdown",
   "id": "9180b2d3-fd6b-448c-9d53-8d1f2fc6c814",
   "metadata": {},
   "source": [
    "And if you want to retrieve **multiple items**, you can pass in a vector:\n"
   ]
  },
  {
   "cell_type": "code",
   "execution_count": 35,
   "id": "f14e9cd2-32fe-4b9d-8f78-3e4ee922abaf",
   "metadata": {},
   "outputs": [
    {
     "data": {
      "text/html": [
       "<style>\n",
       ".list-inline {list-style: none; margin:0; padding: 0}\n",
       ".list-inline>li {display: inline-block}\n",
       ".list-inline>li:not(:last-child)::after {content: \"\\00b7\"; padding: 0 .5ex}\n",
       "</style>\n",
       "<ol class=list-inline><li>1985</li><li>2002</li></ol>\n"
      ],
      "text/latex": [
       "\\begin{enumerate*}\n",
       "\\item 1985\n",
       "\\item 2002\n",
       "\\end{enumerate*}\n"
      ],
      "text/markdown": [
       "1. 1985\n",
       "2. 2002\n",
       "\n",
       "\n"
      ],
      "text/plain": [
       "[1] 1985 2002"
      ]
     },
     "metadata": {},
     "output_type": "display_data"
    }
   ],
   "source": [
    "movie_years[c(1,3)] #first and third items"
   ]
  },
  {
   "cell_type": "markdown",
   "id": "2d415eed-ff13-48dc-8e5f-397958e73fc9",
   "metadata": {},
   "source": [
    "You can also get a sequential subset as follows:\n"
   ]
  },
  {
   "cell_type": "code",
   "execution_count": 36,
   "id": "e4af2adb-d886-48f7-a785-574096c2d81b",
   "metadata": {},
   "outputs": [
    {
     "data": {
      "text/html": [
       "<style>\n",
       ".list-inline {list-style: none; margin:0; padding: 0}\n",
       ".list-inline>li {display: inline-block}\n",
       ".list-inline>li:not(:last-child)::after {content: \"\\00b7\"; padding: 0 .5ex}\n",
       "</style>\n",
       "<ol class=list-inline><li>1999</li><li>2002</li><li>2010</li></ol>\n"
      ],
      "text/latex": [
       "\\begin{enumerate*}\n",
       "\\item 1999\n",
       "\\item 2002\n",
       "\\item 2010\n",
       "\\end{enumerate*}\n"
      ],
      "text/markdown": [
       "1. 1999\n",
       "2. 2002\n",
       "3. 2010\n",
       "\n",
       "\n"
      ],
      "text/plain": [
       "[1] 1999 2002 2010"
      ]
     },
     "metadata": {},
     "output_type": "display_data"
    }
   ],
   "source": [
    "movie_years[c(2:4)] #second to fourth items"
   ]
  },
  {
   "cell_type": "markdown",
   "id": "44edc6d7-7691-4b58-8ff7-ed358f9c2ea9",
   "metadata": {},
   "source": [
    "or, more succinctly:\n"
   ]
  },
  {
   "cell_type": "code",
   "execution_count": 37,
   "id": "754e69c0-9a2c-4ce8-bc53-a5fe12ad3170",
   "metadata": {},
   "outputs": [
    {
     "data": {
      "text/html": [
       "<style>\n",
       ".list-inline {list-style: none; margin:0; padding: 0}\n",
       ".list-inline>li {display: inline-block}\n",
       ".list-inline>li:not(:last-child)::after {content: \"\\00b7\"; padding: 0 .5ex}\n",
       "</style>\n",
       "<ol class=list-inline><li>1999</li><li>2002</li><li>2010</li></ol>\n"
      ],
      "text/latex": [
       "\\begin{enumerate*}\n",
       "\\item 1999\n",
       "\\item 2002\n",
       "\\item 2010\n",
       "\\end{enumerate*}\n"
      ],
      "text/markdown": [
       "1. 1999\n",
       "2. 2002\n",
       "3. 2010\n",
       "\n",
       "\n"
      ],
      "text/plain": [
       "[1] 1999 2002 2010"
      ]
     },
     "metadata": {},
     "output_type": "display_data"
    }
   ],
   "source": [
    "movie_years[2:4]"
   ]
  },
  {
   "cell_type": "markdown",
   "id": "a18d3bdf-0748-4a09-a1d4-11a2eb9860ff",
   "metadata": {},
   "source": [
    "**Retrieving a vector without some of its items**\n",
    "\n",
    "To retrieve a vector without an item, you can use negative indexing. For example, the following returns a vector slice **without the first item**.\n"
   ]
  },
  {
   "cell_type": "code",
   "execution_count": 38,
   "id": "fd72f909-30f7-4c64-a28b-3f4ffaa219a8",
   "metadata": {},
   "outputs": [
    {
     "data": {
      "text/html": [
       "<style>\n",
       ".list-inline {list-style: none; margin:0; padding: 0}\n",
       ".list-inline>li {display: inline-block}\n",
       ".list-inline>li:not(:last-child)::after {content: \"\\00b7\"; padding: 0 .5ex}\n",
       "</style>\n",
       "<ol class=list-inline><li>'Jumanji'</li><li>'City of God'</li><li>'Toy Story'</li><li>'Casino'</li></ol>\n"
      ],
      "text/latex": [
       "\\begin{enumerate*}\n",
       "\\item 'Jumanji'\n",
       "\\item 'City of God'\n",
       "\\item 'Toy Story'\n",
       "\\item 'Casino'\n",
       "\\end{enumerate*}\n"
      ],
      "text/markdown": [
       "1. 'Jumanji'\n",
       "2. 'City of God'\n",
       "3. 'Toy Story'\n",
       "4. 'Casino'\n",
       "\n",
       "\n"
      ],
      "text/plain": [
       "[1] \"Jumanji\"     \"City of God\" \"Toy Story\"   \"Casino\"     "
      ]
     },
     "metadata": {},
     "output_type": "display_data"
    }
   ],
   "source": [
    "titles <- c(\"Black Swan\", \"Jumanji\", \"City of God\", \"Toy Story\", \"Casino\")\n",
    "titles[-1]"
   ]
  },
  {
   "cell_type": "markdown",
   "id": "614e9c11-6f3e-4767-b96b-2564b6f65662",
   "metadata": {},
   "source": [
    "You can assign the new vector to a new variable:\n"
   ]
  },
  {
   "cell_type": "code",
   "execution_count": 39,
   "id": "10bc5789-1cea-4909-ac86-b57ea0462614",
   "metadata": {},
   "outputs": [
    {
     "data": {
      "text/html": [
       "<style>\n",
       ".list-inline {list-style: none; margin:0; padding: 0}\n",
       ".list-inline>li {display: inline-block}\n",
       ".list-inline>li:not(:last-child)::after {content: \"\\00b7\"; padding: 0 .5ex}\n",
       "</style>\n",
       "<ol class=list-inline><li>'Jumanji'</li><li>'City of God'</li><li>'Toy Story'</li><li>'Casino'</li></ol>\n"
      ],
      "text/latex": [
       "\\begin{enumerate*}\n",
       "\\item 'Jumanji'\n",
       "\\item 'City of God'\n",
       "\\item 'Toy Story'\n",
       "\\item 'Casino'\n",
       "\\end{enumerate*}\n"
      ],
      "text/markdown": [
       "1. 'Jumanji'\n",
       "2. 'City of God'\n",
       "3. 'Toy Story'\n",
       "4. 'Casino'\n",
       "\n",
       "\n"
      ],
      "text/plain": [
       "[1] \"Jumanji\"     \"City of God\" \"Toy Story\"   \"Casino\"     "
      ]
     },
     "metadata": {},
     "output_type": "display_data"
    }
   ],
   "source": [
    "new_titles <- titles[-1] #removes \"Black Swan\", the first item\n",
    "new_titles"
   ]
  },
  {
   "cell_type": "markdown",
   "id": "9f3f3dbc-eaac-4b36-b3ee-7dbb495890ce",
   "metadata": {},
   "source": [
    "**Missing Values (NA)**\n",
    "\n",
    "Sometimes values in a vector are missing and you have to show them using NA, which is a special value in R for \"Not Available\". For example, if you don't know the age restriction for some movies, you can use NA.\n"
   ]
  },
  {
   "cell_type": "code",
   "execution_count": 40,
   "id": "650703c1-40ff-4199-ab95-6611a7d8e61f",
   "metadata": {},
   "outputs": [
    {
     "data": {
      "text/html": [
       "<style>\n",
       ".list-inline {list-style: none; margin:0; padding: 0}\n",
       ".list-inline>li {display: inline-block}\n",
       ".list-inline>li:not(:last-child)::after {content: \"\\00b7\"; padding: 0 .5ex}\n",
       "</style>\n",
       "<ol class=list-inline><li>14</li><li>12</li><li>10</li><li>&lt;NA&gt;</li><li>18</li><li>&lt;NA&gt;</li></ol>\n"
      ],
      "text/latex": [
       "\\begin{enumerate*}\n",
       "\\item 14\n",
       "\\item 12\n",
       "\\item 10\n",
       "\\item <NA>\n",
       "\\item 18\n",
       "\\item <NA>\n",
       "\\end{enumerate*}\n"
      ],
      "text/markdown": [
       "1. 14\n",
       "2. 12\n",
       "3. 10\n",
       "4. &lt;NA&gt;\n",
       "5. 18\n",
       "6. &lt;NA&gt;\n",
       "\n",
       "\n"
      ],
      "text/plain": [
       "[1] 14 12 10 NA 18 NA"
      ]
     },
     "metadata": {},
     "output_type": "display_data"
    }
   ],
   "source": [
    "age_restric <- c(14, 12, 10, NA, 18, NA)\n",
    "age_restric"
   ]
  },
  {
   "cell_type": "code",
   "execution_count": 43,
   "metadata": {},
   "outputs": [
    {
     "data": {
      "text/html": [
       "TRUE"
      ],
      "text/latex": [
       "TRUE"
      ],
      "text/markdown": [
       "TRUE"
      ],
      "text/plain": [
       "[1] TRUE"
      ]
     },
     "metadata": {},
     "output_type": "display_data"
    }
   ],
   "source": [
    "#note\n",
    "!is.na(age_restric[3])"
   ]
  },
  {
   "cell_type": "markdown",
   "id": "04fe387c-87d2-4503-b99e-f0b7d44aa0ea",
   "metadata": {},
   "source": [
    "<div class=\"alert alert-success alertsuccess\" style=\"margin-top: 20px\">\n",
    "<h4> [Tip] Checking NA in R </h4>\n",
    "<p></p>\n",
    "You can check if a value is NA by using the **is.na()** function, which returns TRUE or FALSE. \n",
    "<li> Check if NA: is.na(NA)  </li>\n",
    "<li> Check if not NA:  !is.na(2) </li>\n",
    "</div>\n"
   ]
  },
  {
   "cell_type": "markdown",
   "id": "d3c04a71-6be1-4ac0-90be-a35ce3e1e37d",
   "metadata": {},
   "source": [
    "### Subsetting vectors based on a logical condition\n"
   ]
  },
  {
   "cell_type": "markdown",
   "id": "482b2f42-bd96-43c1-a343-53e2a55d0a49",
   "metadata": {},
   "source": [
    "What if we want to know which movies were created after year 2000? We can simply apply a logical comparison across all the items in a vector:\n"
   ]
  },
  {
   "cell_type": "code",
   "execution_count": 44,
   "id": "68bda6cc-da25-483c-b119-7a139e112f44",
   "metadata": {},
   "outputs": [
    {
     "data": {
      "text/html": [
       "<style>\n",
       ".dl-inline {width: auto; margin:0; padding: 0}\n",
       ".dl-inline>dt, .dl-inline>dd {float: none; width: auto; display: inline-block}\n",
       ".dl-inline>dt::after {content: \":\\0020\"; padding-right: .5ex}\n",
       ".dl-inline>dt:not(:first-of-type) {padding-left: .5ex}\n",
       "</style><dl class=dl-inline><dt>The Breakfast Club</dt><dd>FALSE</dd><dt>American Beauty</dt><dd>FALSE</dd><dt>Black Swan</dt><dd>TRUE</dd><dt>Chicago</dt><dd>TRUE</dd></dl>\n"
      ],
      "text/latex": [
       "\\begin{description*}\n",
       "\\item[The Breakfast Club] FALSE\n",
       "\\item[American Beauty] FALSE\n",
       "\\item[Black Swan] TRUE\n",
       "\\item[Chicago] TRUE\n",
       "\\end{description*}\n"
      ],
      "text/markdown": [
       "The Breakfast Club\n",
       ":   FALSEAmerican Beauty\n",
       ":   FALSEBlack Swan\n",
       ":   TRUEChicago\n",
       ":   TRUE\n",
       "\n"
      ],
      "text/plain": [
       "The Breakfast Club    American Beauty         Black Swan            Chicago \n",
       "             FALSE              FALSE               TRUE               TRUE "
      ]
     },
     "metadata": {},
     "output_type": "display_data"
    }
   ],
   "source": [
    "release_year > 2000"
   ]
  },
  {
   "cell_type": "markdown",
   "id": "bfe2c110-aca5-4360-9453-23fcb279a478",
   "metadata": {},
   "source": [
    "To retrieve the actual movie years after year 2000, you can simply subset the vector using the logical vector within **square brackets \"\\[]\"**:\n"
   ]
  },
  {
   "cell_type": "code",
   "execution_count": 45,
   "id": "458a8a25-3a8a-47f8-a464-a0321da2154a",
   "metadata": {},
   "outputs": [
    {
     "data": {
      "text/html": [
       "<style>\n",
       ".dl-inline {width: auto; margin:0; padding: 0}\n",
       ".dl-inline>dt, .dl-inline>dd {float: none; width: auto; display: inline-block}\n",
       ".dl-inline>dt::after {content: \":\\0020\"; padding-right: .5ex}\n",
       ".dl-inline>dt:not(:first-of-type) {padding-left: .5ex}\n",
       "</style><dl class=dl-inline><dt>Black Swan</dt><dd>2010</dd><dt>Chicago</dt><dd>2002</dd></dl>\n"
      ],
      "text/latex": [
       "\\begin{description*}\n",
       "\\item[Black Swan] 2010\n",
       "\\item[Chicago] 2002\n",
       "\\end{description*}\n"
      ],
      "text/markdown": [
       "Black Swan\n",
       ":   2010Chicago\n",
       ":   2002\n",
       "\n"
      ],
      "text/plain": [
       "Black Swan    Chicago \n",
       "      2010       2002 "
      ]
     },
     "metadata": {},
     "output_type": "display_data"
    }
   ],
   "source": [
    "release_year[release_year > 2000] #returns a vector for elements that returned TRUE for the condition"
   ]
  },
  {
   "cell_type": "markdown",
   "id": "6f2398e2-914a-4eb2-a71a-660e3c2efcc0",
   "metadata": {},
   "source": [
    "As you may notice, subsetting vectors in R works by retrieving items that were TRUE for the provided condition. For example, `year[year > 2000]` can be verbally explained as: _\"From the vector `year`, return only values where the values are TRUE for `year > 2000`\"_.\n",
    "\n",
    "You can even manually write out TRUE or T for the values you want to subset:\n"
   ]
  },
  {
   "cell_type": "code",
   "execution_count": 46,
   "id": "2b11cd98-96e2-4ed5-bca1-04f732ae62fe",
   "metadata": {},
   "outputs": [
    {
     "data": {
      "text/html": [
       "<style>\n",
       ".dl-inline {width: auto; margin:0; padding: 0}\n",
       ".dl-inline>dt, .dl-inline>dd {float: none; width: auto; display: inline-block}\n",
       ".dl-inline>dt::after {content: \":\\0020\"; padding-right: .5ex}\n",
       ".dl-inline>dt:not(:first-of-type) {padding-left: .5ex}\n",
       "</style><dl class=dl-inline><dt>The Breakfast Club</dt><dd>1985</dd><dt>American Beauty</dt><dd>1999</dd><dt>Black Swan</dt><dd>2010</dd><dt>Chicago</dt><dd>2002</dd></dl>\n"
      ],
      "text/latex": [
       "\\begin{description*}\n",
       "\\item[The Breakfast Club] 1985\n",
       "\\item[American Beauty] 1999\n",
       "\\item[Black Swan] 2010\n",
       "\\item[Chicago] 2002\n",
       "\\end{description*}\n"
      ],
      "text/markdown": [
       "The Breakfast Club\n",
       ":   1985American Beauty\n",
       ":   1999Black Swan\n",
       ":   2010Chicago\n",
       ":   2002\n",
       "\n"
      ],
      "text/plain": [
       "The Breakfast Club    American Beauty         Black Swan            Chicago \n",
       "              1985               1999               2010               2002 "
      ]
     },
     "metadata": {},
     "output_type": "display_data"
    },
    {
     "data": {
      "text/html": [
       "<strong>The Breakfast Club:</strong> 1985"
      ],
      "text/latex": [
       "\\textbf{The Breakfast Club:} 1985"
      ],
      "text/markdown": [
       "**The Breakfast Club:** 1985"
      ],
      "text/plain": [
       "The Breakfast Club \n",
       "              1985 "
      ]
     },
     "metadata": {},
     "output_type": "display_data"
    }
   ],
   "source": [
    "release_year\n",
    "release_year[c(T, F, F, F)] #returns the values for which the value's index is TRUE"
   ]
  },
  {
   "cell_type": "markdown",
   "id": "73f5bfe0-dc4c-44b4-bca6-e682659c30cd",
   "metadata": {},
   "source": [
    "**Coding Exercise:** in the code cell below, find movies whose release year in or prior to (include) 1999\n"
   ]
  },
  {
   "cell_type": "code",
   "execution_count": 47,
   "id": "78ef02d1-ddb9-4baa-a803-a7cbbda57a4d",
   "metadata": {},
   "outputs": [
    {
     "data": {
      "text/html": [
       "<style>\n",
       ".dl-inline {width: auto; margin:0; padding: 0}\n",
       ".dl-inline>dt, .dl-inline>dd {float: none; width: auto; display: inline-block}\n",
       ".dl-inline>dt::after {content: \":\\0020\"; padding-right: .5ex}\n",
       ".dl-inline>dt:not(:first-of-type) {padding-left: .5ex}\n",
       "</style><dl class=dl-inline><dt>The Breakfast Club</dt><dd>1985</dd><dt>American Beauty</dt><dd>1999</dd></dl>\n"
      ],
      "text/latex": [
       "\\begin{description*}\n",
       "\\item[The Breakfast Club] 1985\n",
       "\\item[American Beauty] 1999\n",
       "\\end{description*}\n"
      ],
      "text/markdown": [
       "The Breakfast Club\n",
       ":   1985American Beauty\n",
       ":   1999\n",
       "\n"
      ],
      "text/plain": [
       "The Breakfast Club    American Beauty \n",
       "              1985               1999 "
      ]
     },
     "metadata": {},
     "output_type": "display_data"
    }
   ],
   "source": [
    "# Write your code below. Don't forget to press Shift+Enter to execute the cell\n",
    "release_year[release_year <= 1999]"
   ]
  },
  {
   "cell_type": "markdown",
   "id": "47c897e2-7d20-48b5-a9a0-31aca3bece2e",
   "metadata": {},
   "source": [
    "<details><summary>Click here for the solution</summary>\n",
    "\n",
    "```R\n",
    "release_year[release_year <= 1999]\n",
    "\n",
    "```\n",
    "\n",
    "</details>\n"
   ]
  },
  {
   "cell_type": "markdown",
   "id": "8d88ca03-3c95-4695-b5d6-81b7a731610b",
   "metadata": {},
   "source": [
    "<a id=\"ref4\"></a>\n",
    "\n",
    "<center><h2>Factors</h2></center>\n"
   ]
  },
  {
   "cell_type": "markdown",
   "id": "32ff2062-9375-4422-adaa-d64613267878",
   "metadata": {},
   "source": [
    "Factors are variables in R which take values from a fixed, discrete set of values, or levels. Such variables are commonly referred to as  **categorical variables**. \n",
    "\n",
    "The difference between a categorical variable and a numeric variable is that a categorical variable expresses qualitative values --attributes such as ‘age group’, ‘gender’, or ‘favourite music genre’, while numerical variables express quantitative information – data that can be interpreted mathematically, such as ‘fuel economy in MPG’, ‘price per bushel’,‘age’. \n",
    "\n",
    "For example, the height of a tree is a measured numeric variable, but the titles of books held in a particular library, or the various species of animals on earth are categorical variables. Categorical variables need not be expressed as text. Indeed, factors in R are actually stored as a vector of integer values – they carry a corresponding set of character values but these are only used for display purposes.\n",
    "\n",
    "One of the most important uses of factors in statistical modeling; since categorical variables enter into statistical models differently than continuous variables, storing data as factors ensure that the modeling functions will treat such data correctly.\n"
   ]
  },
  {
   "cell_type": "markdown",
   "id": "fe8a9913-ba46-4d5a-ac46-bb8c0f4bba4b",
   "metadata": {},
   "source": [
    "Let's start with a _**vector**_ of genres:\n"
   ]
  },
  {
   "cell_type": "code",
   "execution_count": 48,
   "id": "36c96da8-5f03-46b4-9a8d-b6ad225b06ab",
   "metadata": {},
   "outputs": [
    {
     "data": {
      "text/html": [
       "<style>\n",
       ".list-inline {list-style: none; margin:0; padding: 0}\n",
       ".list-inline>li {display: inline-block}\n",
       ".list-inline>li:not(:last-child)::after {content: \"\\00b7\"; padding: 0 .5ex}\n",
       "</style>\n",
       "<ol class=list-inline><li>'Comedy'</li><li>'Animation'</li><li>'Crime'</li><li>'Comedy'</li><li>'Animation'</li></ol>\n"
      ],
      "text/latex": [
       "\\begin{enumerate*}\n",
       "\\item 'Comedy'\n",
       "\\item 'Animation'\n",
       "\\item 'Crime'\n",
       "\\item 'Comedy'\n",
       "\\item 'Animation'\n",
       "\\end{enumerate*}\n"
      ],
      "text/markdown": [
       "1. 'Comedy'\n",
       "2. 'Animation'\n",
       "3. 'Crime'\n",
       "4. 'Comedy'\n",
       "5. 'Animation'\n",
       "\n",
       "\n"
      ],
      "text/plain": [
       "[1] \"Comedy\"    \"Animation\" \"Crime\"     \"Comedy\"    \"Animation\""
      ]
     },
     "metadata": {},
     "output_type": "display_data"
    }
   ],
   "source": [
    "genre_vector <- c(\"Comedy\", \"Animation\", \"Crime\", \"Comedy\", \"Animation\")\n",
    "genre_vector"
   ]
  },
  {
   "cell_type": "markdown",
   "id": "b6915686-f3be-4aa0-9a9b-310537563e44",
   "metadata": {},
   "source": [
    "As you may have noticed, you can theoretically group the items above into three categories of genres: _Animation_, _Comedy_ and _Crime_. In R-terms, we call these categories **\"factor levels\"**.\n",
    "\n",
    "The function **factor()** converts a vector into a factor, and creates a factor level for each unique element.\n"
   ]
  },
  {
   "cell_type": "code",
   "execution_count": 49,
   "id": "d8a2f9c8-5a04-45a5-806e-798fe2b9efca",
   "metadata": {},
   "outputs": [
    {
     "data": {
      "text/html": [
       "<style>\n",
       ".list-inline {list-style: none; margin:0; padding: 0}\n",
       ".list-inline>li {display: inline-block}\n",
       ".list-inline>li:not(:last-child)::after {content: \"\\00b7\"; padding: 0 .5ex}\n",
       "</style>\n",
       "<ol class=list-inline><li>'Animation'</li><li>'Comedy'</li><li>'Crime'</li></ol>\n"
      ],
      "text/latex": [
       "\\begin{enumerate*}\n",
       "\\item 'Animation'\n",
       "\\item 'Comedy'\n",
       "\\item 'Crime'\n",
       "\\end{enumerate*}\n"
      ],
      "text/markdown": [
       "1. 'Animation'\n",
       "2. 'Comedy'\n",
       "3. 'Crime'\n",
       "\n",
       "\n"
      ],
      "text/plain": [
       "[1] \"Animation\" \"Comedy\"    \"Crime\"    "
      ]
     },
     "metadata": {},
     "output_type": "display_data"
    }
   ],
   "source": [
    "genre_factor <- as.factor(genre_vector)\n",
    "levels(genre_factor)"
   ]
  },
  {
   "cell_type": "markdown",
   "id": "6ccec8c2-7b06-4c87-9dcf-abc8e471139f",
   "metadata": {},
   "source": [
    "### Summarizing Factors\n"
   ]
  },
  {
   "cell_type": "markdown",
   "id": "bf00b59e-ed60-4b46-b0c3-50ff0281faff",
   "metadata": {},
   "source": [
    "When you have a large vector, it becomes difficult to identify which levels are most common (e.g., \"How many 'Comedy' movies are there?\").\n",
    "\n",
    "To answer this, we can use **summary()**, which produces a **frequency table**, as a named vector.\n"
   ]
  },
  {
   "cell_type": "code",
   "execution_count": 52,
   "id": "186dd59d-547c-4e29-809f-621e40ec5488",
   "metadata": {},
   "outputs": [
    {
     "data": {
      "text/html": [
       "<style>\n",
       ".dl-inline {width: auto; margin:0; padding: 0}\n",
       ".dl-inline>dt, .dl-inline>dd {float: none; width: auto; display: inline-block}\n",
       ".dl-inline>dt::after {content: \":\\0020\"; padding-right: .5ex}\n",
       ".dl-inline>dt:not(:first-of-type) {padding-left: .5ex}\n",
       "</style><dl class=dl-inline><dt>Animation</dt><dd>2</dd><dt>Comedy</dt><dd>2</dd><dt>Crime</dt><dd>1</dd></dl>\n"
      ],
      "text/latex": [
       "\\begin{description*}\n",
       "\\item[Animation] 2\n",
       "\\item[Comedy] 2\n",
       "\\item[Crime] 1\n",
       "\\end{description*}\n"
      ],
      "text/markdown": [
       "Animation\n",
       ":   2Comedy\n",
       ":   2Crime\n",
       ":   1\n",
       "\n"
      ],
      "text/plain": [
       "Animation    Comedy     Crime \n",
       "        2         2         1 "
      ]
     },
     "metadata": {},
     "output_type": "display_data"
    }
   ],
   "source": [
    "summary(genre_factor)"
   ]
  },
  {
   "cell_type": "code",
   "execution_count": 53,
   "metadata": {},
   "outputs": [
    {
     "data": {
      "text/html": [
       "<style>\n",
       ".list-inline {list-style: none; margin:0; padding: 0}\n",
       ".list-inline>li {display: inline-block}\n",
       ".list-inline>li:not(:last-child)::after {content: \"\\00b7\"; padding: 0 .5ex}\n",
       "</style>\n",
       "<ol class=list-inline><li>Comedy</li><li>Animation</li><li>Crime</li><li>Comedy</li><li>Animation</li></ol>\n",
       "\n",
       "<details>\n",
       "\t<summary style=display:list-item;cursor:pointer>\n",
       "\t\t<strong>Levels</strong>:\n",
       "\t</summary>\n",
       "\t<style>\n",
       "\t.list-inline {list-style: none; margin:0; padding: 0}\n",
       "\t.list-inline>li {display: inline-block}\n",
       "\t.list-inline>li:not(:last-child)::after {content: \"\\00b7\"; padding: 0 .5ex}\n",
       "\t</style>\n",
       "\t<ol class=list-inline><li>'Animation'</li><li>'Comedy'</li><li>'Crime'</li></ol>\n",
       "</details>"
      ],
      "text/latex": [
       "\\begin{enumerate*}\n",
       "\\item Comedy\n",
       "\\item Animation\n",
       "\\item Crime\n",
       "\\item Comedy\n",
       "\\item Animation\n",
       "\\end{enumerate*}\n",
       "\n",
       "\\emph{Levels}: \\begin{enumerate*}\n",
       "\\item 'Animation'\n",
       "\\item 'Comedy'\n",
       "\\item 'Crime'\n",
       "\\end{enumerate*}\n"
      ],
      "text/markdown": [
       "1. Comedy\n",
       "2. Animation\n",
       "3. Crime\n",
       "4. Comedy\n",
       "5. Animation\n",
       "\n",
       "\n",
       "\n",
       "**Levels**: 1. 'Animation'\n",
       "2. 'Comedy'\n",
       "3. 'Crime'\n",
       "\n",
       "\n"
      ],
      "text/plain": [
       "[1] Comedy    Animation Crime     Comedy    Animation\n",
       "Levels: Animation Comedy Crime"
      ]
     },
     "metadata": {},
     "output_type": "display_data"
    }
   ],
   "source": [
    "genre_factor"
   ]
  },
  {
   "cell_type": "markdown",
   "id": "2851342d-50ce-47b9-9d45-7c21595d9f56",
   "metadata": {},
   "source": [
    "And recall that you can sort the values of the table using **sort()**.\n"
   ]
  },
  {
   "cell_type": "code",
   "execution_count": 54,
   "id": "aa8246cf-4a4f-424a-b237-9c4a9fc0ee8e",
   "metadata": {},
   "outputs": [
    {
     "data": {
      "text/html": [
       "<style>\n",
       ".dl-inline {width: auto; margin:0; padding: 0}\n",
       ".dl-inline>dt, .dl-inline>dd {float: none; width: auto; display: inline-block}\n",
       ".dl-inline>dt::after {content: \":\\0020\"; padding-right: .5ex}\n",
       ".dl-inline>dt:not(:first-of-type) {padding-left: .5ex}\n",
       "</style><dl class=dl-inline><dt>Crime</dt><dd>1</dd><dt>Animation</dt><dd>2</dd><dt>Comedy</dt><dd>2</dd></dl>\n"
      ],
      "text/latex": [
       "\\begin{description*}\n",
       "\\item[Crime] 1\n",
       "\\item[Animation] 2\n",
       "\\item[Comedy] 2\n",
       "\\end{description*}\n"
      ],
      "text/markdown": [
       "Crime\n",
       ":   1Animation\n",
       ":   2Comedy\n",
       ":   2\n",
       "\n"
      ],
      "text/plain": [
       "    Crime Animation    Comedy \n",
       "        1         2         2 "
      ]
     },
     "metadata": {},
     "output_type": "display_data"
    }
   ],
   "source": [
    "sort(summary(genre_factor)) #sorts values by ascending order"
   ]
  },
  {
   "cell_type": "markdown",
   "id": "81c31ed4-43df-4689-bb1b-0da77fae51a5",
   "metadata": {},
   "source": [
    "### Ordered factors\n"
   ]
  },
  {
   "cell_type": "markdown",
   "id": "9e4bda4f-9e4b-4e11-97aa-93c82e35803d",
   "metadata": {},
   "source": [
    "There are two types of categorical variables: a **nominal categorical variable** and an **ordinal categorical variable**.\n",
    "\n",
    "A **nominal variable** is a categorical variable for names, without an implied order. This means that it is impossible to say that 'one is better or larger than the other'. For example, consider **movie genre** with the categories _Comedy_, _Animation_, _Crime_, _Comedy_, _Animation_. Here, there is no implicit order of low-to-high or high-to-low between the categories. \n",
    "\n",
    "In contrast, **ordinal variables** do have a natural ordering. Consider for example, **movie length** with the categories: _Very short_, _Short_ , _Medium_, _Long_, _Very long_. Here it is obvious that _Medium_ stands above _Short_, and _Long_ stands above _Medium_.\n"
   ]
  },
  {
   "cell_type": "code",
   "execution_count": 55,
   "id": "db14677e-1d34-4133-b866-f75c91d6b9d3",
   "metadata": {},
   "outputs": [
    {
     "data": {
      "text/html": [
       "<style>\n",
       ".list-inline {list-style: none; margin:0; padding: 0}\n",
       ".list-inline>li {display: inline-block}\n",
       ".list-inline>li:not(:last-child)::after {content: \"\\00b7\"; padding: 0 .5ex}\n",
       "</style>\n",
       "<ol class=list-inline><li>'Very Short'</li><li>'Short'</li><li>'Medium'</li><li>'Short'</li><li>'Long'</li><li>'Very Short'</li><li>'Very Long'</li></ol>\n"
      ],
      "text/latex": [
       "\\begin{enumerate*}\n",
       "\\item 'Very Short'\n",
       "\\item 'Short'\n",
       "\\item 'Medium'\n",
       "\\item 'Short'\n",
       "\\item 'Long'\n",
       "\\item 'Very Short'\n",
       "\\item 'Very Long'\n",
       "\\end{enumerate*}\n"
      ],
      "text/markdown": [
       "1. 'Very Short'\n",
       "2. 'Short'\n",
       "3. 'Medium'\n",
       "4. 'Short'\n",
       "5. 'Long'\n",
       "6. 'Very Short'\n",
       "7. 'Very Long'\n",
       "\n",
       "\n"
      ],
      "text/plain": [
       "[1] \"Very Short\" \"Short\"      \"Medium\"     \"Short\"      \"Long\"      \n",
       "[6] \"Very Short\" \"Very Long\" "
      ]
     },
     "metadata": {},
     "output_type": "display_data"
    }
   ],
   "source": [
    "movie_length <- c(\"Very Short\", \"Short\", \"Medium\",\"Short\", \"Long\",\n",
    "                        \"Very Short\", \"Very Long\")\n",
    "movie_length"
   ]
  },
  {
   "cell_type": "markdown",
   "id": "a3d91b8c-1c9d-46e0-97fa-aa178e353fd7",
   "metadata": {},
   "source": [
    "**`movie_length`** should be converted to an ordinal factor since its categories have a natural ordering. By default, the function <b>factor()</b> transforms `movie_length` into an unordered factor. \n",
    "\n",
    "To create an **ordered factor**, you have to add two additional arguments: `ordered` and `levels`. \n",
    "\n",
    "-   `ordered`: When set to `TRUE` in `factor()`, you indicate that the factor is ordered. \n",
    "-   `levels`: In this argument in `factor()`, you give the values of the factor in the correct order.\n"
   ]
  },
  {
   "cell_type": "code",
   "execution_count": 56,
   "id": "efa1886f-383f-4397-a74e-d92799f1f600",
   "metadata": {},
   "outputs": [
    {
     "data": {
      "text/html": [
       "<style>\n",
       ".list-inline {list-style: none; margin:0; padding: 0}\n",
       ".list-inline>li {display: inline-block}\n",
       ".list-inline>li:not(:last-child)::after {content: \"\\00b7\"; padding: 0 .5ex}\n",
       "</style>\n",
       "<ol class=list-inline><li>Very Short</li><li>Short</li><li>Medium</li><li>Short</li><li>Long</li><li>Very Short</li><li>Very Long</li></ol>\n",
       "\n",
       "<details>\n",
       "\t<summary style=display:list-item;cursor:pointer>\n",
       "\t\t<strong>Levels</strong>:\n",
       "\t</summary>\n",
       "\t<style>\n",
       "\t.list-inline {list-style: none; margin:0; padding: 0}\n",
       "\t.list-inline>li {display: inline-block}\n",
       "\t.list-inline>li:not(:last-child)::after {content: \"\\00b7\"; padding: 0 .5ex}\n",
       "\t</style>\n",
       "\t<ol class=list-inline><li>'Very Short'</li><li>'Short'</li><li>'Medium'</li><li>'Long'</li><li>'Very Long'</li></ol>\n",
       "</details>"
      ],
      "text/latex": [
       "\\begin{enumerate*}\n",
       "\\item Very Short\n",
       "\\item Short\n",
       "\\item Medium\n",
       "\\item Short\n",
       "\\item Long\n",
       "\\item Very Short\n",
       "\\item Very Long\n",
       "\\end{enumerate*}\n",
       "\n",
       "\\emph{Levels}: \\begin{enumerate*}\n",
       "\\item 'Very Short'\n",
       "\\item 'Short'\n",
       "\\item 'Medium'\n",
       "\\item 'Long'\n",
       "\\item 'Very Long'\n",
       "\\end{enumerate*}\n"
      ],
      "text/markdown": [
       "1. Very Short\n",
       "2. Short\n",
       "3. Medium\n",
       "4. Short\n",
       "5. Long\n",
       "6. Very Short\n",
       "7. Very Long\n",
       "\n",
       "\n",
       "\n",
       "**Levels**: 1. 'Very Short'\n",
       "2. 'Short'\n",
       "3. 'Medium'\n",
       "4. 'Long'\n",
       "5. 'Very Long'\n",
       "\n",
       "\n"
      ],
      "text/plain": [
       "[1] Very Short Short      Medium     Short      Long       Very Short Very Long \n",
       "Levels: Very Short < Short < Medium < Long < Very Long"
      ]
     },
     "metadata": {},
     "output_type": "display_data"
    }
   ],
   "source": [
    "movie_length_ordered <- factor(movie_length, ordered = TRUE, \n",
    "                               levels = c(\"Very Short\", \"Short\", \"Medium\", \"Long\", \"Very Long\"))\n",
    "movie_length_ordered"
   ]
  },
  {
   "cell_type": "markdown",
   "id": "efa5d1de-a71c-4d57-94b2-82f805c01131",
   "metadata": {},
   "source": [
    "Now, lets look at the summary of the ordered factor, <b>movie_length_ordered</b>:\n"
   ]
  },
  {
   "cell_type": "code",
   "execution_count": 57,
   "id": "f286b811-dc17-406b-a211-677cc345faf9",
   "metadata": {},
   "outputs": [
    {
     "data": {
      "text/html": [
       "<style>\n",
       ".dl-inline {width: auto; margin:0; padding: 0}\n",
       ".dl-inline>dt, .dl-inline>dd {float: none; width: auto; display: inline-block}\n",
       ".dl-inline>dt::after {content: \":\\0020\"; padding-right: .5ex}\n",
       ".dl-inline>dt:not(:first-of-type) {padding-left: .5ex}\n",
       "</style><dl class=dl-inline><dt>Very Short</dt><dd>2</dd><dt>Short</dt><dd>2</dd><dt>Medium</dt><dd>1</dd><dt>Long</dt><dd>1</dd><dt>Very Long</dt><dd>1</dd></dl>\n"
      ],
      "text/latex": [
       "\\begin{description*}\n",
       "\\item[Very Short] 2\n",
       "\\item[Short] 2\n",
       "\\item[Medium] 1\n",
       "\\item[Long] 1\n",
       "\\item[Very Long] 1\n",
       "\\end{description*}\n"
      ],
      "text/markdown": [
       "Very Short\n",
       ":   2Short\n",
       ":   2Medium\n",
       ":   1Long\n",
       ":   1Very Long\n",
       ":   1\n",
       "\n"
      ],
      "text/plain": [
       "Very Short      Short     Medium       Long  Very Long \n",
       "         2          2          1          1          1 "
      ]
     },
     "metadata": {},
     "output_type": "display_data"
    }
   ],
   "source": [
    "summary(movie_length_ordered)"
   ]
  },
  {
   "cell_type": "markdown",
   "id": "e7d90808-ed51-4822-befc-1a77377b18bf",
   "metadata": {},
   "source": [
    "**Coding Exercise:** in the code cell below, update the order of the movie_length factor from `Very Long` to `Very Short`\n"
   ]
  },
  {
   "cell_type": "code",
   "execution_count": 63,
   "id": "93b73168-d2c1-40cf-8206-45de3c8bc6ba",
   "metadata": {},
   "outputs": [
    {
     "data": {
      "text/html": [
       "<style>\n",
       ".list-inline {list-style: none; margin:0; padding: 0}\n",
       ".list-inline>li {display: inline-block}\n",
       ".list-inline>li:not(:last-child)::after {content: \"\\00b7\"; padding: 0 .5ex}\n",
       "</style>\n",
       "<ol class=list-inline><li>Very Short</li><li>Short</li><li>Medium</li><li>Short</li><li>Long</li><li>Very Short</li><li>Very Long</li></ol>\n",
       "\n",
       "<details>\n",
       "\t<summary style=display:list-item;cursor:pointer>\n",
       "\t\t<strong>Levels</strong>:\n",
       "\t</summary>\n",
       "\t<style>\n",
       "\t.list-inline {list-style: none; margin:0; padding: 0}\n",
       "\t.list-inline>li {display: inline-block}\n",
       "\t.list-inline>li:not(:last-child)::after {content: \"\\00b7\"; padding: 0 .5ex}\n",
       "\t</style>\n",
       "\t<ol class=list-inline><li>'Very Long'</li><li>'Long'</li><li>'Medium'</li><li>'Short'</li><li>'Very Short'</li></ol>\n",
       "</details>"
      ],
      "text/latex": [
       "\\begin{enumerate*}\n",
       "\\item Very Short\n",
       "\\item Short\n",
       "\\item Medium\n",
       "\\item Short\n",
       "\\item Long\n",
       "\\item Very Short\n",
       "\\item Very Long\n",
       "\\end{enumerate*}\n",
       "\n",
       "\\emph{Levels}: \\begin{enumerate*}\n",
       "\\item 'Very Long'\n",
       "\\item 'Long'\n",
       "\\item 'Medium'\n",
       "\\item 'Short'\n",
       "\\item 'Very Short'\n",
       "\\end{enumerate*}\n"
      ],
      "text/markdown": [
       "1. Very Short\n",
       "2. Short\n",
       "3. Medium\n",
       "4. Short\n",
       "5. Long\n",
       "6. Very Short\n",
       "7. Very Long\n",
       "\n",
       "\n",
       "\n",
       "**Levels**: 1. 'Very Long'\n",
       "2. 'Long'\n",
       "3. 'Medium'\n",
       "4. 'Short'\n",
       "5. 'Very Short'\n",
       "\n",
       "\n"
      ],
      "text/plain": [
       "[1] Very Short Short      Medium     Short      Long       Very Short Very Long \n",
       "Levels: Very Long < Long < Medium < Short < Very Short"
      ]
     },
     "metadata": {},
     "output_type": "display_data"
    }
   ],
   "source": [
    "# Write your code below. Don't forget to press Shift+Enter to execute the cell\n",
    "movie_length_ordered = factor(movie_length, ordered = TRUE,\n",
    "                             levels = c('Very Long','Long','Medium','Short','Very Short'))\n",
    "movie_length_ordered"
   ]
  },
  {
   "cell_type": "markdown",
   "id": "fb6ee4ca-9db8-4a22-8070-4e4ed753588b",
   "metadata": {},
   "source": [
    "<details><summary>Click here for the solution</summary>\n",
    "\n",
    "```R\n",
    "movie_length_ordered <- factor(movie_length, ordered = TRUE , \n",
    "                                 levels = c(\"Very Long\", \"Long\", \"Medium\", \n",
    "                                            \"Short\", \"Very Short\"))\n",
    "movie_length_ordered\n",
    "```\n",
    "\n",
    "</details>\n"
   ]
  },
  {
   "cell_type": "markdown",
   "id": "04db5be1-7281-41c4-9d6d-c688b9ff7bf7",
   "metadata": {},
   "source": [
    "### Excellent! You have just completed the Vectors and Factors lab\n"
   ]
  },
  {
   "cell_type": "markdown",
   "id": "ac3fe11e-5739-4401-95c5-0564250d6cd0",
   "metadata": {},
   "source": [
    "<hr>\n"
   ]
  },
  {
   "cell_type": "markdown",
   "id": "bda84705-8fee-4c0a-8d8a-a752f9ad0aea",
   "metadata": {},
   "source": [
    "#### Scaling R with big data\n",
    "\n",
    "As you learn more about R, if you are interested in exploring platforms that can help you run analyses at scale, you might want to sign up for a free account on [IBM Watson Studio](http://cocl.us/dsx_rp0101en), which allows you to run analyses in R with two Spark executors for free.\n"
   ]
  },
  {
   "cell_type": "markdown",
   "id": "48c44eb8-4c6e-4029-ae4e-26bf8510a083",
   "metadata": {},
   "source": [
    "\n",
    "## About the Author:  \n",
    "Hi! It's [Helly Patel](https://ca.linkedin.com/in/helly-patel-90344750?utm_medium=Exinfluencer&utm_source=Exinfluencer&utm_content=000026UJ&utm_term=10006555&utm_id=NA-SkillsNetwork-Channel-SkillsNetworkCoursesIBMDeveloperSkillsNetworkRP0101ENCoursera889-2022-01-01), the author of this notebook. I hope you found R easy to learn! There's lots more to learn about R but you're well on your way. Feel free to connect with me if you have any questions.\n"
   ]
  },
  {
   "cell_type": "markdown",
   "id": "ee8c5fe2-915e-4ed2-9379-6dc5176baf64",
   "metadata": {},
   "source": [
    "### Other Contributors\n",
    "\n",
    "<a href=\"https://www.linkedin.com/in/yan-luo-96288783/?utm_medium=Exinfluencer&utm_source=Exinfluencer&utm_content=000026UJ&utm_term=10006555&utm_id=NA-SkillsNetwork-Channel-SkillsNetworkCoursesIBMDeveloperSkillsNetworkRP0101ENCoursera889-2022-01-01\">Yan Luo</a>\n"
   ]
  },
  {
   "cell_type": "markdown",
   "id": "b3061af5-df31-4c1b-8f83-cb5b950b2efa",
   "metadata": {},
   "source": [
    "## Change Log\n",
    "\n",
    "| Date (YYYY-MM-DD) | Version | Changed By | Change Description           |\n",
    "| ----------------- | ------- | ---------- | ---------------------------- |\n",
    "| 2021-03-03        | 2.0     | Yan        | Added coding tasks           |\n",
    "|                   |         |            |                              |\n",
    "|                   |         |            |                              |\n",
    "\n",
    "## <h3 align=\"center\"> © IBM Corporation 2021. All rights reserved. <h3/>\n"
   ]
  }
 ],
 "metadata": {
  "kernelspec": {
   "display_name": "R",
   "language": "R",
   "name": "ir"
  },
  "language_info": {
   "codemirror_mode": "r",
   "file_extension": ".r",
   "mimetype": "text/x-r-source",
   "name": "R",
   "pygments_lexer": "r",
   "version": "4.2.1"
  }
 },
 "nbformat": 4,
 "nbformat_minor": 4
}
