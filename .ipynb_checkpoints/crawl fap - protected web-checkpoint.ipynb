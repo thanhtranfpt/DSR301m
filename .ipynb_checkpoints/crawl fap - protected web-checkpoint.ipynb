{
 "cells": [
  {
   "cell_type": "markdown",
   "id": "47f87cd2",
   "metadata": {},
   "source": [
    "<h2> Local *.html file </h2>"
   ]
  },
  {
   "cell_type": "code",
   "execution_count": 33,
   "id": "1d36775c",
   "metadata": {},
   "outputs": [],
   "source": [
    "library(rvest)\n",
    "\n",
    "# Read the HTML file\n",
    "html <- read_html(\"K:\\\\LEARN AI FPT\\\\TERM 5\\\\DSR301m\\\\View Schedule.html\")\n",
    "\n",
    "# Find the table element\n",
    "tables <- html_nodes(html,'table')\n",
    "timetable <- html_table(tables[[3]])"
   ]
  },
  {
   "cell_type": "code",
   "execution_count": 35,
   "id": "bbc56576",
   "metadata": {},
   "outputs": [],
   "source": [
    "timetable[1,1] <- 'Slot'"
   ]
  },
  {
   "cell_type": "code",
   "execution_count": 36,
   "id": "5ce4f2a7",
   "metadata": {},
   "outputs": [],
   "source": [
    "colnames(timetable)[1] <- 'Weekday'"
   ]
  },
  {
   "cell_type": "code",
   "execution_count": 37,
   "id": "04b3f00d",
   "metadata": {},
   "outputs": [
    {
     "data": {
      "text/html": [
       "<table class=\"dataframe\">\n",
       "<caption>A tibble: 9 × 8</caption>\n",
       "<thead>\n",
       "\t<tr><th scope=col>Weekday</th><th scope=col>Mon</th><th scope=col>Tue</th><th scope=col>Wed</th><th scope=col>Thu</th><th scope=col>Fri</th><th scope=col>Sat</th><th scope=col>Sun</th></tr>\n",
       "\t<tr><th scope=col>&lt;chr&gt;</th><th scope=col>&lt;chr&gt;</th><th scope=col>&lt;chr&gt;</th><th scope=col>&lt;chr&gt;</th><th scope=col>&lt;chr&gt;</th><th scope=col>&lt;chr&gt;</th><th scope=col>&lt;chr&gt;</th><th scope=col>&lt;chr&gt;</th></tr>\n",
       "</thead>\n",
       "<tbody>\n",
       "\t<tr><td>Slot  </td><td>29/05                                                           </td><td>30/05</td><td>31/05</td><td>01/06                                                                    </td><td>02/06</td><td>03/06</td><td>04/06</td></tr>\n",
       "\t<tr><td>Slot 1</td><td>DPL302m-View Materials at P.021  -EduNext (attended)(7:00-9:15) </td><td>-    </td><td>-    </td><td>DPL302m-View Materials at P.021  -EduNext (Not yet)(7:00-9:15)           </td><td>-    </td><td>-    </td><td>-    </td></tr>\n",
       "\t<tr><td>Slot 2</td><td>DSR301m-View Materials at P.024  -EduNext (attended)(9:30-11:45)</td><td>-    </td><td>-    </td><td>DSR301m-View Materials at P.024 - Meet URL -EduNext (Not yet)(9:30-11:45)</td><td>-    </td><td>-    </td><td>-    </td></tr>\n",
       "\t<tr><td>Slot 3</td><td>-                                                               </td><td>-    </td><td>-    </td><td>-                                                                        </td><td>-    </td><td>-    </td><td>-    </td></tr>\n",
       "\t<tr><td>Slot 4</td><td>-                                                               </td><td>-    </td><td>-    </td><td>-                                                                        </td><td>-    </td><td>-    </td><td>-    </td></tr>\n",
       "\t<tr><td>Slot 5</td><td>-                                                               </td><td>-    </td><td>-    </td><td>-                                                                        </td><td>-    </td><td>-    </td><td>-    </td></tr>\n",
       "\t<tr><td>Slot 6</td><td>-                                                               </td><td>-    </td><td>-    </td><td>-                                                                        </td><td>-    </td><td>-    </td><td>-    </td></tr>\n",
       "\t<tr><td>Slot 7</td><td>-                                                               </td><td>-    </td><td>-    </td><td>BDI302c-View Materials at 001 - Meet URL (Not yet)(17:45-19:15)Online    </td><td>-    </td><td>-    </td><td>-    </td></tr>\n",
       "\t<tr><td>Slot 8</td><td>-                                                               </td><td>-    </td><td>-    </td><td>-                                                                        </td><td>-    </td><td>-    </td><td>-    </td></tr>\n",
       "</tbody>\n",
       "</table>\n"
      ],
      "text/latex": [
       "A tibble: 9 × 8\n",
       "\\begin{tabular}{llllllll}\n",
       " Weekday & Mon & Tue & Wed & Thu & Fri & Sat & Sun\\\\\n",
       " <chr> & <chr> & <chr> & <chr> & <chr> & <chr> & <chr> & <chr>\\\\\n",
       "\\hline\n",
       "\t Slot   & 29/05                                                            & 30/05 & 31/05 & 01/06                                                                     & 02/06 & 03/06 & 04/06\\\\\n",
       "\t Slot 1 & DPL302m-View Materials at P.021  -EduNext (attended)(7:00-9:15)  & -     & -     & DPL302m-View Materials at P.021  -EduNext (Not yet)(7:00-9:15)            & -     & -     & -    \\\\\n",
       "\t Slot 2 & DSR301m-View Materials at P.024  -EduNext (attended)(9:30-11:45) & -     & -     & DSR301m-View Materials at P.024 - Meet URL -EduNext (Not yet)(9:30-11:45) & -     & -     & -    \\\\\n",
       "\t Slot 3 & -                                                                & -     & -     & -                                                                         & -     & -     & -    \\\\\n",
       "\t Slot 4 & -                                                                & -     & -     & -                                                                         & -     & -     & -    \\\\\n",
       "\t Slot 5 & -                                                                & -     & -     & -                                                                         & -     & -     & -    \\\\\n",
       "\t Slot 6 & -                                                                & -     & -     & -                                                                         & -     & -     & -    \\\\\n",
       "\t Slot 7 & -                                                                & -     & -     & BDI302c-View Materials at 001 - Meet URL (Not yet)(17:45-19:15)Online     & -     & -     & -    \\\\\n",
       "\t Slot 8 & -                                                                & -     & -     & -                                                                         & -     & -     & -    \\\\\n",
       "\\end{tabular}\n"
      ],
      "text/markdown": [
       "\n",
       "A tibble: 9 × 8\n",
       "\n",
       "| Weekday &lt;chr&gt; | Mon &lt;chr&gt; | Tue &lt;chr&gt; | Wed &lt;chr&gt; | Thu &lt;chr&gt; | Fri &lt;chr&gt; | Sat &lt;chr&gt; | Sun &lt;chr&gt; |\n",
       "|---|---|---|---|---|---|---|---|\n",
       "| Slot   | 29/05                                                            | 30/05 | 31/05 | 01/06                                                                     | 02/06 | 03/06 | 04/06 |\n",
       "| Slot 1 | DPL302m-View Materials at P.021  -EduNext (attended)(7:00-9:15)  | -     | -     | DPL302m-View Materials at P.021  -EduNext (Not yet)(7:00-9:15)            | -     | -     | -     |\n",
       "| Slot 2 | DSR301m-View Materials at P.024  -EduNext (attended)(9:30-11:45) | -     | -     | DSR301m-View Materials at P.024 - Meet URL -EduNext (Not yet)(9:30-11:45) | -     | -     | -     |\n",
       "| Slot 3 | -                                                                | -     | -     | -                                                                         | -     | -     | -     |\n",
       "| Slot 4 | -                                                                | -     | -     | -                                                                         | -     | -     | -     |\n",
       "| Slot 5 | -                                                                | -     | -     | -                                                                         | -     | -     | -     |\n",
       "| Slot 6 | -                                                                | -     | -     | -                                                                         | -     | -     | -     |\n",
       "| Slot 7 | -                                                                | -     | -     | BDI302c-View Materials at 001 - Meet URL (Not yet)(17:45-19:15)Online     | -     | -     | -     |\n",
       "| Slot 8 | -                                                                | -     | -     | -                                                                         | -     | -     | -     |\n",
       "\n"
      ],
      "text/plain": [
       "  Weekday Mon                                                             \n",
       "1 Slot    29/05                                                           \n",
       "2 Slot 1  DPL302m-View Materials at P.021  -EduNext (attended)(7:00-9:15) \n",
       "3 Slot 2  DSR301m-View Materials at P.024  -EduNext (attended)(9:30-11:45)\n",
       "4 Slot 3  -                                                               \n",
       "5 Slot 4  -                                                               \n",
       "6 Slot 5  -                                                               \n",
       "7 Slot 6  -                                                               \n",
       "8 Slot 7  -                                                               \n",
       "9 Slot 8  -                                                               \n",
       "  Tue   Wed  \n",
       "1 30/05 31/05\n",
       "2 -     -    \n",
       "3 -     -    \n",
       "4 -     -    \n",
       "5 -     -    \n",
       "6 -     -    \n",
       "7 -     -    \n",
       "8 -     -    \n",
       "9 -     -    \n",
       "  Thu                                                                      \n",
       "1 01/06                                                                    \n",
       "2 DPL302m-View Materials at P.021  -EduNext (Not yet)(7:00-9:15)           \n",
       "3 DSR301m-View Materials at P.024 - Meet URL -EduNext (Not yet)(9:30-11:45)\n",
       "4 -                                                                        \n",
       "5 -                                                                        \n",
       "6 -                                                                        \n",
       "7 -                                                                        \n",
       "8 BDI302c-View Materials at 001 - Meet URL (Not yet)(17:45-19:15)Online    \n",
       "9 -                                                                        \n",
       "  Fri   Sat   Sun  \n",
       "1 02/06 03/06 04/06\n",
       "2 -     -     -    \n",
       "3 -     -     -    \n",
       "4 -     -     -    \n",
       "5 -     -     -    \n",
       "6 -     -     -    \n",
       "7 -     -     -    \n",
       "8 -     -     -    \n",
       "9 -     -     -    "
      ]
     },
     "metadata": {},
     "output_type": "display_data"
    }
   ],
   "source": [
    "timetable"
   ]
  },
  {
   "cell_type": "markdown",
   "id": "225812cd",
   "metadata": {},
   "source": [
    "<h2> Simple protected website </h2>"
   ]
  },
  {
   "cell_type": "code",
   "execution_count": 38,
   "id": "2e187c8b",
   "metadata": {},
   "outputs": [
    {
     "name": "stdout",
     "output_type": "stream",
     "text": [
      "[1] \"Login successful\"\n"
     ]
    }
   ],
   "source": [
    "library(httr)\n",
    "\n",
    "# Create a session handle\n",
    "handle <- handle(\"https://violympic.vn/\")\n",
    "\n",
    "# Perform a POST request to login\n",
    "login_url <- \"https://violympic.vn/login\"\n",
    "login_payload <- list(\n",
    "  username = \"tpbd123\",\n",
    "  password = \"Phuc2009\"\n",
    ")\n",
    "response <- POST(url = login_url, body = login_payload, encode = \"form\", handle = handle)\n",
    "\n",
    "# Check if login was successful\n",
    "if (response$status_code == 200) {\n",
    "  # Access the page after login\n",
    "  print(\"Login successful\")\n",
    "  target_url <- \"https://violympic.vn/user-home\"\n",
    "  response <- GET(url = target_url, handle = handle)\n",
    "\n",
    "  # Extract the content or perform further operations\n",
    "  content <- content(response, \"text\")\n",
    "  # Process the content as needed\n",
    "    \n",
    "} else {\n",
    "  # Handle login failure\n",
    "  print(\"Login failed.\")\n",
    "}\n"
   ]
  },
  {
   "cell_type": "code",
   "execution_count": null,
   "id": "1d7d31e6",
   "metadata": {},
   "outputs": [],
   "source": []
  },
  {
   "cell_type": "code",
   "execution_count": 39,
   "id": "14000ab6",
   "metadata": {},
   "outputs": [
    {
     "data": {
      "text/html": [
       "<ol>\n",
       "\t<li><table class=\"dataframe\">\n",
       "<caption>A tibble: 3 × 5</caption>\n",
       "<thead>\n",
       "\t<tr><th scope=col>Môn thi</th><th scope=col>Lớp bạn đang dự thi</th><th scope=col>Vòng thi hiện tại ViOlympic</th><th scope=col>Vòng thi của bạn</th><th scope=col>Thao tác</th></tr>\n",
       "\t<tr><th scope=col>&lt;chr&gt;</th><th scope=col>&lt;chr&gt;</th><th scope=col>&lt;chr&gt;</th><th scope=col>&lt;chr&gt;</th><th scope=col>&lt;chr&gt;</th></tr>\n",
       "</thead>\n",
       "<tbody>\n",
       "\t<tr><td>Toán Tiếng Anh </td><td>Lớp 9</td><td>Vòng 10</td><td>2</td><td>Xếp hạng</td></tr>\n",
       "\t<tr><td>Vật lý         </td><td>Lớp 9</td><td>Vòng 10</td><td>-</td><td>        </td></tr>\n",
       "\t<tr><td>Toán Tiếng Việt</td><td>Lớp 9</td><td>Vòng 10</td><td>-</td><td>        </td></tr>\n",
       "</tbody>\n",
       "</table>\n",
       "</li>\n",
       "</ol>\n"
      ],
      "text/latex": [
       "\\begin{enumerate}\n",
       "\\item A tibble: 3 × 5\n",
       "\\begin{tabular}{lllll}\n",
       " Môn thi & Lớp bạn đang dự thi & Vòng thi hiện tại ViOlympic & Vòng thi của bạn & Thao tác\\\\\n",
       " <chr> & <chr> & <chr> & <chr> & <chr>\\\\\n",
       "\\hline\n",
       "\t Toán Tiếng Anh  & Lớp 9 & Vòng 10 & 2 & Xếp hạng\\\\\n",
       "\t Vật lý          & Lớp 9 & Vòng 10 & - &         \\\\\n",
       "\t Toán Tiếng Việt & Lớp 9 & Vòng 10 & - &         \\\\\n",
       "\\end{tabular}\n",
       "\n",
       "\\end{enumerate}\n"
      ],
      "text/markdown": [
       "1. \n",
       "A tibble: 3 × 5\n",
       "\n",
       "| Môn thi &lt;chr&gt; | Lớp bạn đang dự thi &lt;chr&gt; | Vòng thi hiện tại ViOlympic &lt;chr&gt; | Vòng thi của bạn &lt;chr&gt; | Thao tác &lt;chr&gt; |\n",
       "|---|---|---|---|---|\n",
       "| Toán Tiếng Anh  | Lớp 9 | Vòng 10 | 2 | Xếp hạng |\n",
       "| Vật lý          | Lớp 9 | Vòng 10 | - | <!----> |\n",
       "| Toán Tiếng Việt | Lớp 9 | Vòng 10 | - | <!----> |\n",
       "\n",
       "\n",
       "\n",
       "\n"
      ],
      "text/plain": [
       "[[1]]\n",
       "\u001b[90m# A tibble: 3 × 5\u001b[39m\n",
       "  `Môn thi`      `Lớp bạn đang dự thi` Vòng thi hiện tại Vi…¹ `Vòng thi của bạn`\n",
       "  \u001b[3m\u001b[90m<chr>\u001b[39m\u001b[23m          \u001b[3m\u001b[90m<chr>\u001b[39m\u001b[23m                 \u001b[3m\u001b[90m<chr>\u001b[39m\u001b[23m                  \u001b[3m\u001b[90m<chr>\u001b[39m\u001b[23m             \n",
       "\u001b[90m1\u001b[39m Toán Tiếng Anh Lớp 9                 Vòng 10                2                 \n",
       "\u001b[90m2\u001b[39m Vật lý         Lớp 9                 Vòng 10                -                 \n",
       "\u001b[90m3\u001b[39m Toán Tiếng Vi… Lớp 9                 Vòng 10                -                 \n",
       "\u001b[90m# ℹ abbreviated name: ¹​`Vòng thi hiện tại ViOlympic`\u001b[39m\n",
       "\u001b[90m# ℹ 1 more variable: `Thao tác` <chr>\u001b[39m\n"
      ]
     },
     "metadata": {},
     "output_type": "display_data"
    }
   ],
   "source": [
    "#content = content(response, \"text\")\n",
    "library(rvest)\n",
    "\n",
    "html <- read_html(content)\n",
    "\n",
    "tables = html_nodes(html,'table')\n",
    "\n",
    "timetable = html_table(tables[1])\n",
    "timetable"
   ]
  },
  {
   "cell_type": "code",
   "execution_count": 23,
   "id": "2524537c",
   "metadata": {},
   "outputs": [],
   "source": [
    "#######################################################"
   ]
  },
  {
   "cell_type": "code",
   "execution_count": null,
   "id": "27bcfa48",
   "metadata": {},
   "outputs": [],
   "source": []
  },
  {
   "cell_type": "code",
   "execution_count": null,
   "id": "d0e4cc4b",
   "metadata": {},
   "outputs": [],
   "source": []
  },
  {
   "cell_type": "markdown",
   "id": "b9ac1113",
   "metadata": {},
   "source": [
    "<h2> fap </h2>"
   ]
  },
  {
   "cell_type": "markdown",
   "id": "b34b3bda",
   "metadata": {},
   "source": [
    "<h3> Use in RStudio </h3>"
   ]
  },
  {
   "cell_type": "code",
   "execution_count": null,
   "id": "cd110fec",
   "metadata": {},
   "outputs": [],
   "source": [
    "library(httr)\n",
    "\n",
    "cookies <- c(\"ASP.NET_SessionId\" = \"djwvreeuqtgxhsrwlh1zlpqr\")\n",
    "url <- \"https://fap.fpt.edu.vn/Report/ScheduleOfWeek.aspx\"\n",
    "response <- GET(url, set_cookies(cookies))\n",
    "content = content(response, \"text\")\n",
    "content\n",
    "\n",
    "library(rvest)\n",
    "\n",
    "content = content(response, \"text\")\n",
    "\n",
    "html <- read_html(content)\n",
    "\n",
    "tables = html_nodes(html,'table')\n",
    "\n",
    "timetable = html_table(tables[3])\n",
    "timetable\n",
    "\n",
    "timetable <- as.data.frame(timetable)\n",
    "timetable[1,1] <- \"Slot\"\n",
    "colnames(timetable)[1] <- \"Weekday\"\n",
    "timetable\n",
    "write.csv(timetable, file = \"K:\\\\LEARN AI FPT\\\\TERM 5\\\\DSR301m\\\\DSR301m\\\\timetable.csv\", row.names = FALSE)\n"
   ]
  },
  {
   "cell_type": "code",
   "execution_count": null,
   "id": "1f86d748",
   "metadata": {},
   "outputs": [],
   "source": []
  },
  {
   "cell_type": "code",
   "execution_count": null,
   "id": "fe5ede56",
   "metadata": {},
   "outputs": [],
   "source": []
  }
 ],
 "metadata": {
  "kernelspec": {
   "display_name": "R",
   "language": "R",
   "name": "ir"
  },
  "language_info": {
   "codemirror_mode": "r",
   "file_extension": ".r",
   "mimetype": "text/x-r-source",
   "name": "R",
   "pygments_lexer": "r",
   "version": "4.2.1"
  }
 },
 "nbformat": 4,
 "nbformat_minor": 5
}
