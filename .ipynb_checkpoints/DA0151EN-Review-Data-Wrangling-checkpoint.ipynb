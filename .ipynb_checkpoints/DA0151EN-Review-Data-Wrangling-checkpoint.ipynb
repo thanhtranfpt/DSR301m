{
 "cells": [
  {
   "cell_type": "markdown",
   "id": "d445207b-76d1-4c77-a6c4-f623e8eb530e",
   "metadata": {},
   "source": [
    "<center><img src=\"https://cf-courses-data.s3.us.cloud-object-storage.appdomain.cloud/assets/logos/SN_web_lightmode.png\" width=\"300\"></center>\n"
   ]
  },
  {
   "cell_type": "markdown",
   "id": "7e4ad531-56bd-4436-a745-967c8e9088e1",
   "metadata": {},
   "source": [
    "<h1>Data Wrangling with Tidyverse</h1>\n"
   ]
  },
  {
   "cell_type": "markdown",
   "id": "2adb88a0-8631-4268-8963-7fe1fed1b10e",
   "metadata": {},
   "source": [
    "Estimated Time Needed: **40 min**\n",
    "\n",
    "<h3>Welcome!</h3>\n",
    "\n",
    "By the end of this notebook, you will have learned the basics of Data Wrangling! Data Wrangling is the process of converting data from the initial format to a format that may be better for analysis.\n"
   ]
  },
  {
   "cell_type": "markdown",
   "id": "d9638dc8-0860-40aa-aaba-a392458c880a",
   "metadata": {},
   "source": [
    "### Table of Contents:\n",
    "* [1. Missing Values and Formatting](#missing_values)\n",
    "    * [1.1 Identify Missing Values](#identify_missing_values)\n",
    "    * [1.2 Handle Missing Values](#handle_missing_values)\n",
    "    * [1.3 Correct Data Format](#correct_data_format)\n",
    "* [2. Data Normalization](#data_normalization)\n",
    "    * [2.1 Simple Scaling](#simple_scale)\n",
    "    * [2.2 Min-max](#min_max)\n",
    "    * [2.3 Standardization (Z-score)](#data_standardization)\n",
    "* [4. Binning](#binning)\n",
    "* [5. Indicator Variable](#indicator)\n"
   ]
  },
  {
   "cell_type": "markdown",
   "id": "87889b50-7d65-44b3-8156-d2d3ece60ed9",
   "metadata": {},
   "source": [
    "## Load Libraries and Data\n"
   ]
  },
  {
   "cell_type": "markdown",
   "id": "c231d66d-a4fb-4630-8041-3c2808e50827",
   "metadata": {},
   "source": [
    "First, load the tidyverse library. \n"
   ]
  },
  {
   "cell_type": "code",
   "execution_count": null,
   "metadata": {},
   "outputs": [],
   "source": []
  },
  {
   "cell_type": "code",
   "execution_count": 3,
   "id": "765cfbeb-970b-4476-b0a8-707aefed5011",
   "metadata": {},
   "outputs": [],
   "source": [
    "# Load tidyverse\n",
    "library(tidyverse)"
   ]
  },
  {
   "cell_type": "markdown",
   "id": "5428dc02-ceb6-467f-b653-c1575c723896",
   "metadata": {},
   "source": [
    "The original Airline dataset is hosted on <a href=\"https://developer.ibm.com/exchanges/data/all/airline/?utm_medium=Exinfluencer&utm_source=Exinfluencer&utm_content=000026UJ&utm_term=10006555&utm_id=NA-SkillsNetwork-Channel-SkillsNetworkCoursesIBMDA0151ENSkillsNetwork926-2022-01-01\">IBM Data Asset eXchange</a>. This sample dataset can be found <a href=\"https://dax-cdn.cdn.appdomain.cloud/dax-airline/1.0.1/lax_to_jfk.tar.gz\">here</a>.  We will be using a subset of the original dataset, which contains just LAX to JFK flights, throughout this course. \n",
    "\n",
    "Now using the subset dataset link, you can load it and store as a dataframe `sub_airline`:\n"
   ]
  },
  {
   "cell_type": "code",
   "execution_count": 6,
   "metadata": {},
   "outputs": [
    {
     "name": "stdout",
     "output_type": "stream",
     "text": [
      "package 'vroom' successfully unpacked and MD5 sums checked\n",
      "\n",
      "The downloaded binary packages are in\n",
      "\tC:\\Users\\Thanh Tran\\AppData\\Local\\Temp\\RtmpI1ot72\\downloaded_packages\n"
     ]
    }
   ],
   "source": [
    "install.packages('vroom')"
   ]
  },
  {
   "cell_type": "code",
   "execution_count": 7,
   "id": "62fc2e2c-89e0-4781-a0b3-26d74c7792d3",
   "metadata": {},
   "outputs": [
    {
     "name": "stderr",
     "output_type": "stream",
     "text": [
      "Warning message in untar2(tarfile, files, list, exdir, restore_times):\n",
      "\"using pax extended headers\"\n"
     ]
    }
   ],
   "source": [
    "# url where the data is located\n",
    "url <- \"https://dax-cdn.cdn.appdomain.cloud/dax-airline/1.0.1/lax_to_jfk.tar.gz\"\n",
    "\n",
    "# download the file\n",
    "download.file(url, destfile = \"lax_to_jfk.tar.gz\")\n",
    "\n",
    "# untar the file so we can get the csv only\n",
    "# if you run this on your local machine, then can remove tar = \"internal\" \n",
    "untar(\"lax_to_jfk.tar.gz\", tar = \"internal\")\n",
    "\n",
    "# read_csv only \n",
    "sub_airline <- read_csv(\"lax_to_jfk/lax_to_jfk.csv\",\n",
    "                     col_types = cols('DivDistance' = col_number(), \n",
    "                                      'DivArrDelay' = col_number()))"
   ]
  },
  {
   "cell_type": "markdown",
   "id": "a1ba77ec-3046-4679-b0d4-2666668a4cf3",
   "metadata": {},
   "source": [
    "<a id=\"missing_values\"></a>\n",
    "## 1. Missing Values and Formatting\n",
    "\n",
    "Now that we have the data loaded, let's first take a look at the data using the method `head()`. \n"
   ]
  },
  {
   "cell_type": "code",
   "execution_count": 8,
   "id": "944b9243-82ba-4a34-a66e-008824086548",
   "metadata": {},
   "outputs": [
    {
     "data": {
      "text/html": [
       "<table class=\"dataframe\">\n",
       "<caption>A tibble: 6 × 21</caption>\n",
       "<thead>\n",
       "\t<tr><th scope=col>Month</th><th scope=col>DayOfWeek</th><th scope=col>FlightDate</th><th scope=col>Reporting_Airline</th><th scope=col>Origin</th><th scope=col>Dest</th><th scope=col>CRSDepTime</th><th scope=col>CRSArrTime</th><th scope=col>DepTime</th><th scope=col>ArrTime</th><th scope=col>⋯</th><th scope=col>ArrDelayMinutes</th><th scope=col>CarrierDelay</th><th scope=col>WeatherDelay</th><th scope=col>NASDelay</th><th scope=col>SecurityDelay</th><th scope=col>LateAircraftDelay</th><th scope=col>DepDelay</th><th scope=col>DepDelayMinutes</th><th scope=col>DivDistance</th><th scope=col>DivArrDelay</th></tr>\n",
       "\t<tr><th scope=col>&lt;dbl&gt;</th><th scope=col>&lt;dbl&gt;</th><th scope=col>&lt;date&gt;</th><th scope=col>&lt;chr&gt;</th><th scope=col>&lt;chr&gt;</th><th scope=col>&lt;chr&gt;</th><th scope=col>&lt;chr&gt;</th><th scope=col>&lt;chr&gt;</th><th scope=col>&lt;chr&gt;</th><th scope=col>&lt;chr&gt;</th><th scope=col>⋯</th><th scope=col>&lt;dbl&gt;</th><th scope=col>&lt;dbl&gt;</th><th scope=col>&lt;dbl&gt;</th><th scope=col>&lt;dbl&gt;</th><th scope=col>&lt;dbl&gt;</th><th scope=col>&lt;dbl&gt;</th><th scope=col>&lt;dbl&gt;</th><th scope=col>&lt;dbl&gt;</th><th scope=col>&lt;dbl&gt;</th><th scope=col>&lt;dbl&gt;</th></tr>\n",
       "</thead>\n",
       "<tbody>\n",
       "\t<tr><td> 3</td><td>5</td><td>2003-03-28</td><td>UA</td><td>LAX</td><td>JFK</td><td>2210</td><td>0615</td><td>2209</td><td>0617</td><td>⋯</td><td>2</td><td>NA</td><td>NA</td><td>NA</td><td>NA</td><td>NA</td><td>-1</td><td>0</td><td>NA</td><td>NA</td></tr>\n",
       "\t<tr><td>11</td><td>4</td><td>2018-11-29</td><td>AS</td><td>LAX</td><td>JFK</td><td>1045</td><td>1912</td><td>1049</td><td>1851</td><td>⋯</td><td>0</td><td>NA</td><td>NA</td><td>NA</td><td>NA</td><td>NA</td><td> 4</td><td>4</td><td>NA</td><td>NA</td></tr>\n",
       "\t<tr><td> 8</td><td>5</td><td>2015-08-28</td><td>UA</td><td>LAX</td><td>JFK</td><td>0805</td><td>1634</td><td>0757</td><td>1620</td><td>⋯</td><td>0</td><td>NA</td><td>NA</td><td>NA</td><td>NA</td><td>NA</td><td>-8</td><td>0</td><td>NA</td><td>NA</td></tr>\n",
       "\t<tr><td> 4</td><td>7</td><td>2003-04-20</td><td>DL</td><td>LAX</td><td>JFK</td><td>2205</td><td>0619</td><td>2212</td><td>0616</td><td>⋯</td><td>0</td><td>NA</td><td>NA</td><td>NA</td><td>NA</td><td>NA</td><td> 7</td><td>7</td><td>NA</td><td>NA</td></tr>\n",
       "\t<tr><td>11</td><td>3</td><td>2005-11-30</td><td>UA</td><td>LAX</td><td>JFK</td><td>0840</td><td>1653</td><td>0836</td><td>1640</td><td>⋯</td><td>0</td><td>NA</td><td>NA</td><td>NA</td><td>NA</td><td>NA</td><td>-4</td><td>0</td><td>NA</td><td>NA</td></tr>\n",
       "\t<tr><td> 4</td><td>1</td><td>1992-04-06</td><td>UA</td><td>LAX</td><td>JFK</td><td>1450</td><td>2308</td><td>1452</td><td>2248</td><td>⋯</td><td>0</td><td>NA</td><td>NA</td><td>NA</td><td>NA</td><td>NA</td><td> 2</td><td>2</td><td>NA</td><td>NA</td></tr>\n",
       "</tbody>\n",
       "</table>\n"
      ],
      "text/latex": [
       "A tibble: 6 × 21\n",
       "\\begin{tabular}{lllllllllllllllllllll}\n",
       " Month & DayOfWeek & FlightDate & Reporting\\_Airline & Origin & Dest & CRSDepTime & CRSArrTime & DepTime & ArrTime & ⋯ & ArrDelayMinutes & CarrierDelay & WeatherDelay & NASDelay & SecurityDelay & LateAircraftDelay & DepDelay & DepDelayMinutes & DivDistance & DivArrDelay\\\\\n",
       " <dbl> & <dbl> & <date> & <chr> & <chr> & <chr> & <chr> & <chr> & <chr> & <chr> & ⋯ & <dbl> & <dbl> & <dbl> & <dbl> & <dbl> & <dbl> & <dbl> & <dbl> & <dbl> & <dbl>\\\\\n",
       "\\hline\n",
       "\t  3 & 5 & 2003-03-28 & UA & LAX & JFK & 2210 & 0615 & 2209 & 0617 & ⋯ & 2 & NA & NA & NA & NA & NA & -1 & 0 & NA & NA\\\\\n",
       "\t 11 & 4 & 2018-11-29 & AS & LAX & JFK & 1045 & 1912 & 1049 & 1851 & ⋯ & 0 & NA & NA & NA & NA & NA &  4 & 4 & NA & NA\\\\\n",
       "\t  8 & 5 & 2015-08-28 & UA & LAX & JFK & 0805 & 1634 & 0757 & 1620 & ⋯ & 0 & NA & NA & NA & NA & NA & -8 & 0 & NA & NA\\\\\n",
       "\t  4 & 7 & 2003-04-20 & DL & LAX & JFK & 2205 & 0619 & 2212 & 0616 & ⋯ & 0 & NA & NA & NA & NA & NA &  7 & 7 & NA & NA\\\\\n",
       "\t 11 & 3 & 2005-11-30 & UA & LAX & JFK & 0840 & 1653 & 0836 & 1640 & ⋯ & 0 & NA & NA & NA & NA & NA & -4 & 0 & NA & NA\\\\\n",
       "\t  4 & 1 & 1992-04-06 & UA & LAX & JFK & 1450 & 2308 & 1452 & 2248 & ⋯ & 0 & NA & NA & NA & NA & NA &  2 & 2 & NA & NA\\\\\n",
       "\\end{tabular}\n"
      ],
      "text/markdown": [
       "\n",
       "A tibble: 6 × 21\n",
       "\n",
       "| Month &lt;dbl&gt; | DayOfWeek &lt;dbl&gt; | FlightDate &lt;date&gt; | Reporting_Airline &lt;chr&gt; | Origin &lt;chr&gt; | Dest &lt;chr&gt; | CRSDepTime &lt;chr&gt; | CRSArrTime &lt;chr&gt; | DepTime &lt;chr&gt; | ArrTime &lt;chr&gt; | ⋯ ⋯ | ArrDelayMinutes &lt;dbl&gt; | CarrierDelay &lt;dbl&gt; | WeatherDelay &lt;dbl&gt; | NASDelay &lt;dbl&gt; | SecurityDelay &lt;dbl&gt; | LateAircraftDelay &lt;dbl&gt; | DepDelay &lt;dbl&gt; | DepDelayMinutes &lt;dbl&gt; | DivDistance &lt;dbl&gt; | DivArrDelay &lt;dbl&gt; |\n",
       "|---|---|---|---|---|---|---|---|---|---|---|---|---|---|---|---|---|---|---|---|---|\n",
       "|  3 | 5 | 2003-03-28 | UA | LAX | JFK | 2210 | 0615 | 2209 | 0617 | ⋯ | 2 | NA | NA | NA | NA | NA | -1 | 0 | NA | NA |\n",
       "| 11 | 4 | 2018-11-29 | AS | LAX | JFK | 1045 | 1912 | 1049 | 1851 | ⋯ | 0 | NA | NA | NA | NA | NA |  4 | 4 | NA | NA |\n",
       "|  8 | 5 | 2015-08-28 | UA | LAX | JFK | 0805 | 1634 | 0757 | 1620 | ⋯ | 0 | NA | NA | NA | NA | NA | -8 | 0 | NA | NA |\n",
       "|  4 | 7 | 2003-04-20 | DL | LAX | JFK | 2205 | 0619 | 2212 | 0616 | ⋯ | 0 | NA | NA | NA | NA | NA |  7 | 7 | NA | NA |\n",
       "| 11 | 3 | 2005-11-30 | UA | LAX | JFK | 0840 | 1653 | 0836 | 1640 | ⋯ | 0 | NA | NA | NA | NA | NA | -4 | 0 | NA | NA |\n",
       "|  4 | 1 | 1992-04-06 | UA | LAX | JFK | 1450 | 2308 | 1452 | 2248 | ⋯ | 0 | NA | NA | NA | NA | NA |  2 | 2 | NA | NA |\n",
       "\n"
      ],
      "text/plain": [
       "  Month DayOfWeek FlightDate Reporting_Airline Origin Dest CRSDepTime\n",
       "1  3    5         2003-03-28 UA                LAX    JFK  2210      \n",
       "2 11    4         2018-11-29 AS                LAX    JFK  1045      \n",
       "3  8    5         2015-08-28 UA                LAX    JFK  0805      \n",
       "4  4    7         2003-04-20 DL                LAX    JFK  2205      \n",
       "5 11    3         2005-11-30 UA                LAX    JFK  0840      \n",
       "6  4    1         1992-04-06 UA                LAX    JFK  1450      \n",
       "  CRSArrTime DepTime ArrTime ⋯ ArrDelayMinutes CarrierDelay WeatherDelay\n",
       "1 0615       2209    0617    ⋯ 2               NA           NA          \n",
       "2 1912       1049    1851    ⋯ 0               NA           NA          \n",
       "3 1634       0757    1620    ⋯ 0               NA           NA          \n",
       "4 0619       2212    0616    ⋯ 0               NA           NA          \n",
       "5 1653       0836    1640    ⋯ 0               NA           NA          \n",
       "6 2308       1452    2248    ⋯ 0               NA           NA          \n",
       "  NASDelay SecurityDelay LateAircraftDelay DepDelay DepDelayMinutes DivDistance\n",
       "1 NA       NA            NA                -1       0               NA         \n",
       "2 NA       NA            NA                 4       4               NA         \n",
       "3 NA       NA            NA                -8       0               NA         \n",
       "4 NA       NA            NA                 7       7               NA         \n",
       "5 NA       NA            NA                -4       0               NA         \n",
       "6 NA       NA            NA                 2       2               NA         \n",
       "  DivArrDelay\n",
       "1 NA         \n",
       "2 NA         \n",
       "3 NA         \n",
       "4 NA         \n",
       "5 NA         \n",
       "6 NA         "
      ]
     },
     "metadata": {},
     "output_type": "display_data"
    }
   ],
   "source": [
    "head(sub_airline)"
   ]
  },
  {
   "cell_type": "markdown",
   "id": "11dddf5d-71c5-4208-b1e2-32a0332575bd",
   "metadata": {},
   "source": [
    "As we can see, several NA (not available) appeared in the dataframe; those are missing values which may hinder our further analysis. \n",
    "So, how do we identify all those missing values and deal with them? \n",
    "\n",
    "In the following sections, we will go over the steps for working with missing data:\n",
    "- Identify missing data\n",
    "- Deal with missing data\n",
    "- Correct data format\n"
   ]
  },
  {
   "cell_type": "markdown",
   "id": "262d99bc-293d-4af1-9f1f-c95cb42662f1",
   "metadata": {},
   "source": [
    "<a id=\"identify_missing_values\"></a>\n",
    "### 1.1 Identify Missing Malues\n",
    "\n",
    "In R, there are some special symbols to represent special cases in data:\n",
    "* `NA`: missing values are represented by the symbol `NA` (not available), it is a special symbol in R. Note, that `\"NA\"` (a string) is not the same as `NA`. \n",
    "* `NaN`: Impossible values (e.g., dividing by zero) are represented by the symbol `NaN` (not a number).\n",
    "\n",
    "The missing values in airline dataset are already represented with R's `NA` symbol. We use R's built-in (also called **base R**) functions to identify these missing values. There are two methods to detect missing data:\n",
    "<ol>\n",
    "    <li><code>is.na(x)</code>: x can be a vector or list, this method returns a vector of TRUE or FALSE depending if the according element in x is <code>NA</code> or not. For example <code>is.na(c(1, NA))</code> returns <code>FALSE TRUE</code></li>\n",
    "    <li><code>anyNA(x, recursive = FALSE)</code>: x can be a vector or list, this method returns TRUE if x contains any NAs and FALSE otherwise. For example <code>is.na(c(1, NA))</code> returns <code>TRUE</code></li>\n",
    "</ol>\n"
   ]
  },
  {
   "cell_type": "code",
   "execution_count": null,
   "id": "664469c1-d760-43e0-b7de-23892a2d6dec",
   "metadata": {},
   "outputs": [],
   "source": [
    "is.na(c(1, NA))        #> FALSE  TRUE\n",
    "is.na(paste(c(1, NA))) #> FALSE FALSE"
   ]
  },
  {
   "cell_type": "markdown",
   "id": "f4c34deb-e378-4ae3-9663-c907975c5ef4",
   "metadata": {},
   "source": [
    "Again, the output for `is.na()` is a vector of logical values where`TRUE` stands for missing value, while `FALSE` stands for not missing value.\n"
   ]
  },
  {
   "cell_type": "code",
   "execution_count": null,
   "id": "ae1dae63-9a04-4360-97a6-0ebb1f8fb3d8",
   "metadata": {},
   "outputs": [],
   "source": [
    "anyNA(c(1, NA))   "
   ]
  },
  {
   "cell_type": "markdown",
   "id": "9ce869ef-ebc3-4574-81a2-452a538da2d0",
   "metadata": {},
   "source": [
    "The output for `anyNA()` is a vector of logical values where `TRUE` stands for at least one missing value in the vector, while `FALSE` stands for no missing values in the vector.\n"
   ]
  },
  {
   "cell_type": "markdown",
   "id": "2ef43ad8-e46f-408f-b06c-4209c9ad07d4",
   "metadata": {},
   "source": [
    "#### Counting Missing Values\n",
    "    \n",
    "We can quickly figure out the number of missing values in each column. As mentioned above, when using the function `is.na()`, `TRUE` represents a missing value while `FALSE` is otherwise.  The method  `sum()`  counts the number of `TRUE` values. \n",
    "    \n",
    "Let's check how many missing values in `CarrierDelay` column and also check how many missing values in each column:\n"
   ]
  },
  {
   "cell_type": "code",
   "execution_count": null,
   "id": "dd525a51-d153-4138-9b6d-fd5e64955cb7",
   "metadata": {},
   "outputs": [],
   "source": [
    "# counting missing values\n",
    "sub_airline %>%\n",
    "  summarize(count = sum(is.na(CarrierDelay)))"
   ]
  },
  {
   "cell_type": "markdown",
   "id": "b15ae813-b34d-4759-abf6-2a723c1f6092",
   "metadata": {},
   "source": [
    "We can use `purrr::map()` to count missing values in each of the columns. \n",
    "\n",
    "`map()` essentially maps (applies) a function or formula to each given element.\n",
    "In the code below, it is mapping a *formula*, `~sum(is.na(.))`, that sums the NAs to every column in `sub_airline`. Since it is using a *formula*, you will also notice two special operators dot `.` and tilde `~`:\n",
    "* The tilde `~` separates the left side of a formula with the right side. Normally formulas are two-sided like `y ~ x`, in this case in `map()`, the formula gets converted to a function so it only needs the right side.\n",
    "* The dot `.` refers to each column in the dataset. If you view the documentation with `?map`, you can see that you use `.` when the function takes in just one parameter (a column in this case).\n",
    "\n",
    "See `?formula` and `?map` for more information.\n"
   ]
  },
  {
   "cell_type": "code",
   "execution_count": null,
   "id": "bf15d685-80f6-4b0b-9a39-88bbf866b875",
   "metadata": {},
   "outputs": [],
   "source": [
    "map(sub_airline, ~sum(is.na(.)))"
   ]
  },
  {
   "cell_type": "code",
   "execution_count": null,
   "id": "14d1cdac-7ba7-4a3b-a8c9-55053ff72f5d",
   "metadata": {},
   "outputs": [],
   "source": [
    "# Check dimensions of the dataset\n",
    "dim(sub_airline)"
   ]
  },
  {
   "cell_type": "markdown",
   "id": "f12dbb67-c28e-4423-9d55-0d0b20b781d4",
   "metadata": {},
   "source": [
    "Based on the summary above, \"CarrierDelay\", \"WeatherDelay\", \"NASDelay\", \"SecurityDelay\" and \"LateAircraftDelay\" columns have 2486 rows of missing data, while \"DivDistance\" and \"DivArrDelay\" columns have 2855 rows of missing data. All other columns do not have missing data.\n",
    "<ol>\n",
    "    <li>\"CarrierDelay\": 2486 missing data</li>\n",
    "    <li>\"WeatherDelay\": 2486 missing data</li>\n",
    "    <li>\"NASDelay\": 2486 missing data</li>\n",
    "    <li>\"SecurityDelay\" : 2486 missing data</li>\n",
    "    <li>\"LateAircraftDelay\": 2486 missing data</li>\n",
    "    <li>\"DivDistance\": 2855 missing data</li>\n",
    "    <li>\"DivArrDelay\": 2855 missing data</li>\n",
    "</ol>\n"
   ]
  },
  {
   "cell_type": "markdown",
   "id": "b22c5114-02d6-4fbd-b495-c48afcbf471e",
   "metadata": {},
   "source": [
    "<a id=\"handle_missing_values\"></a>\n",
    "### 1.2 Handle Missing Data\n",
    "**How to deal with missing data?**\n",
    "\n",
    "<ol>\n",
    "    <li>Drop data<br>\n",
    "        a. Drop the whole column<br>\n",
    "        b. Drop the whole row\n",
    "    </li>\n",
    "    <li>Replace data<br>\n",
    "        a. Replace it by mean<br>\n",
    "        b. Replace it by frequency<br>\n",
    "        c. Replace it based on other functions\n",
    "    </li>\n",
    "</ol>\n"
   ]
  },
  {
   "cell_type": "markdown",
   "id": "cea67a5c-f6ee-491c-99f2-0efaf8c6506c",
   "metadata": {},
   "source": [
    "Generally, you should not blindly drop NAs. However if an entire column or almost the entire column contains NAs, then it may be a good idea to leave it out. In our dataset, columns `DivDistance` and `DivArrDelay` are nearly all empty so we will drop them entirely.\n",
    "\n",
    "**Drop the whole column:**\n",
    "<ul>\n",
    "    <li>\"DivDistance\": 2855 missing data</li>\n",
    "    <li>\"DivArrDelay\": 2855 missing data</li>\n",
    "</ul>\n"
   ]
  },
  {
   "cell_type": "code",
   "execution_count": null,
   "id": "be6c053b-3b48-41ef-b720-8de53639712e",
   "metadata": {},
   "outputs": [],
   "source": [
    "drop_na_cols <- sub_airline %>% select(-DivDistance, -DivArrDelay)\n",
    "dim(drop_na_cols)\n",
    "head(drop_na_cols)"
   ]
  },
  {
   "cell_type": "markdown",
   "id": "b943d32d-8f7f-4cdd-9d67-c645b09168da",
   "metadata": {},
   "source": [
    "**Drop the whole row:**\n",
    "<ul>\n",
    "    <li>\"CarrierDelay\": 2486 missing data</li>\n",
    "    <li>\"WeatherDelay\": 2486 missing data</li>\n",
    "    <li>\"NASDelay\": 2486 missing data</li>\n",
    "    <li>\"SecurityDelay\" : 2486 missing data</li>\n",
    "    <li>\"LateAircraftDelay\": 2486 missing data</li>   \n",
    "</ul>\n",
    "\n",
    "We see `CarrierDelay`, `WeatherDelay`, `NASDelay`, `SecurityDelay`, `LateAircraftDelay` have the same amount of missing values from the summary. By dropping the missing values in one column will also solve the missing value issues in the others.\n"
   ]
  },
  {
   "cell_type": "code",
   "execution_count": null,
   "id": "ad3443d9-7518-4e62-b2ce-717b5fd6789e",
   "metadata": {},
   "outputs": [],
   "source": [
    "# Drop the missing values\n",
    "drop_na_rows <- drop_na_cols %>% drop_na(CarrierDelay)\n",
    "dim(drop_na_rows)\n",
    "head(drop_na_rows)"
   ]
  },
  {
   "cell_type": "markdown",
   "id": "3b2ef472-7594-4a4f-ba43-ac8c924f5662",
   "metadata": {},
   "source": [
    "We have some freedom in choosing which method to replace data; however, some methods may seem more reasonable than others. In this scenario, we would like to replace missing values with 0.\n",
    "\n",
    "**Convert NA to 0**\n",
    "\n",
    "In the airline dataset, missing data for the different types of delay corresponds to no delay. So, we can replace these NAs with 0 in this case.\n",
    "To do this we use the function: \n",
    " <pre>tidyr::replace_na(data, replace, ...)</pre>\n",
    "\n",
    "The columns that corresponds with types of delays are CarrierDelay, WeatherDelay, NASDelay, SecurityDelay, and LateAircraftDelay. For example\n",
    "if `CarrierDelay = NA` then this means there is no delay in Carrier, so the delay in minutes can be changed to 0 or `CarrierDelay = 0`. Let's transform these columns and see the result:\n"
   ]
  },
  {
   "cell_type": "code",
   "execution_count": null,
   "id": "7dccf5d8-4a21-4e26-a22c-a6a3d9213e42",
   "metadata": {},
   "outputs": [],
   "source": [
    "# Replace the missing values in five columns\n",
    "replace_na <- drop_na_rows %>% replace_na(list(CarrierDelay = 0,\n",
    "                                              WeatherDelay = 0,\n",
    "                                              NASDelay = 0,\n",
    "                                              SecurityDelay = 0,\n",
    "                                              LateAircraftDelay = 0))\n",
    "head(replace_na)"
   ]
  },
  {
   "cell_type": "markdown",
   "id": "ca652e15-3504-44c3-b91c-cc1f1c054db8",
   "metadata": {},
   "source": [
    "<div class=\"alert alert-danger alertdanger\" style=\"margin-top: 20px\">\n",
    "<h1> Question  #1: </h1>\n",
    "\n",
    "<b>According to the example above, let's try to replace NA in \"CarrierDelay\" column by the mean value.</b>\n",
    "</div>\n"
   ]
  },
  {
   "cell_type": "code",
   "execution_count": null,
   "id": "81a5e8ce-63bb-43ee-aa7d-c059a0c6a8bf",
   "metadata": {},
   "outputs": [],
   "source": [
    "# Write your code below and press Shift+Enter to execute \n"
   ]
  },
  {
   "cell_type": "markdown",
   "id": "82c80d52-422a-4369-bd84-7eb753a564d1",
   "metadata": {},
   "source": [
    "<details>\n",
    "    <summary>Click here for the solution.</summary>\n",
    "\n",
    "```r\n",
    "# Calculate the mean vaule for \"CarrierDelay\" column\n",
    "carrier_mean <- mean(drop_na_rows$CarrierDelay)\n",
    "\n",
    "# Replace NA by mean value in \"CarrierDelay\" column\n",
    "sub_airline %>% replace_na(list(CarrierDelay = carrier_mean))\n",
    "```\n",
    "</details>\n"
   ]
  },
  {
   "cell_type": "markdown",
   "id": "4d71ec78-7c91-475e-8df5-f7efcb09708b",
   "metadata": {},
   "source": [
    "<b>Good!</b> Now, we obtain the dataset with no missing values.\n"
   ]
  },
  {
   "cell_type": "markdown",
   "id": "3e39e908-d593-45a4-be62-f8748159761d",
   "metadata": {},
   "source": [
    "<a id=\"correct_data_format\"></a>\n",
    "### 1.3 Correct Data Format\n",
    "**We are almost there!**\n",
    "\n",
    "<p>The last step in data cleaning is checking and making sure that all data is in the correct format.</p>\n",
    "\n",
    "#### Scoped dplyr Verbs\n",
    "In dplyr, you can add `_all` and `_if` to the end of it's main functions like `mutate`, `filter`, `group_by`, and `summarize`. \n",
    "\n",
    "| dply function  | _all           | _if             |\n",
    "| ------------- |:--------------:| ----------------:|\n",
    "| mutate         | `mutate_all()`  |`mutate_if()`     |\n",
    "| filter         | `filter_all()`  |`filter_if()`     |\n",
    "| group_by       |`group_by_all()` |`group_by_if()`   |\n",
    "| summarize      | `summarize_all()`  | `summarize_if()` |\n",
    "\n",
    "These are called **scoped** dplyr verbs. The `_all` variant applies an operation on *all* variaibles and the `_if` variant applies an operation to a variable if the given function is `TRUE`.\n",
    "\n",
    "\n",
    "Now that we understand these different versions of dplyr functions, let's list the data types for each column by using `summarize_all()` and `gather()`:\n"
   ]
  },
  {
   "cell_type": "code",
   "execution_count": null,
   "id": "b2d6d56c-3a26-4d85-b95b-ed435f84cb4b",
   "metadata": {},
   "outputs": [],
   "source": [
    "sub_airline %>% \n",
    "    summarize_all(class) %>% \n",
    "    gather(variable, class)"
   ]
  },
  {
   "cell_type": "markdown",
   "id": "d1463f7f-fe4b-4ee3-a3d5-64a70f537674",
   "metadata": {},
   "source": [
    "<p>It is important for later analysis to explore the feature’s data type and convert them to the correct data types; otherwise, the developed models later on may behave strangely, and totally valid data may end up being treated like missing data.</p> \n",
    "\n",
    "Let's re-format the `FlightDate` field into three separate fields (year, month, day) using `separate()`.\n"
   ]
  },
  {
   "cell_type": "code",
   "execution_count": null,
   "id": "87a59f5f-4b35-472f-b9c5-532a44f16b23",
   "metadata": {},
   "outputs": [],
   "source": [
    "date_airline <- replace_na %>% \n",
    "    separate(FlightDate, sep = \"-\", into = c(\"year\", \"month\", \"day\"))\n",
    "\n",
    "head(date_airline)"
   ]
  },
  {
   "cell_type": "markdown",
   "id": "513d1e07-9f73-4485-a771-44cef033fdb4",
   "metadata": {},
   "source": [
    "For a number of reasons, including when you import a dataset into R or process a variable, the data type may be incorrectly established. For example, here we notice that the assigned data type to for `year`, `month`, and `day` is “character” although the expected data type should really be numeric. You can change the type using `mutate_all()` and `mutate_if()`. \n",
    "\n",
    "In the below code, it is mutating `year`, `month`, and `day` values to numeric only if it is a character. Note that in `mutate_if()`, the first parameter is the function `is.character` that checks a *condition* while the second parameters is the function `as.numeric` that *modifies* the data *if* the condition is true.\n"
   ]
  },
  {
   "cell_type": "code",
   "execution_count": null,
   "id": "38f8fecb-6f78-4c32-9795-97c087198dec",
   "metadata": {},
   "outputs": [],
   "source": [
    "date_airline %>%\n",
    "    select(year, month, day) %>%\n",
    "    mutate_all(type.convert) %>%\n",
    "    mutate_if(is.character, as.numeric)"
   ]
  },
  {
   "cell_type": "markdown",
   "id": "9e22162c-20ff-4145-ac1f-db9b5634aaf4",
   "metadata": {},
   "source": [
    "<b>Wonderful!</b>\n",
    "\n",
    "Now, we finally obtain the cleaned dataset with no missing values and all data in its proper format.\n"
   ]
  },
  {
   "cell_type": "markdown",
   "id": "49e5a368-cd07-45b1-9696-4b22cb2d4ee6",
   "metadata": {},
   "source": [
    "<a id=\"data_normalization\"></a>\n",
    "\n",
    "## 2. Data Normalization\n",
    "\n",
    "**Why normalization?**\n",
    "\n",
    "Normalization is the process of transforming values of several features (variables) into a similar range. An example of why this could be important is if you have a variable for income and another variable for age. Income is likely much bigger values than age, so in a model, income would naturally influence the model more. Thus, normalization helps make comparisons between different variables more *fair*.\n",
    "\n",
    "There are different types of ways to normalize:\n",
    "* **Simple scaling**: divides each value by the maximum value in a feature. The new range is between 0 and 1.\n",
    "$$x_{new} = \\frac{x_{old}}{x_{max}}$$\n",
    "* **Min-max**: subtracts the minimum value from the original and divides by the maximum minus the minimum. The minimum becomes 0 and the maximum becomes 1.\n",
    "$$x_{new} = \\frac{x_{old} - x_{min}}{x_{max} - x_{min}}$$\n",
    "* **Standardization (Z-score)**: subtract the mean ($\\mu$) of the feature and divide by the standard deviation ($\\sigma$).\n",
    "$$x_{new} = \\frac{x_{old} - \\mu}{\\sigma}$$\n",
    "\n",
    "From these methods, you can see that typically normalizations include scaling the variable so that the range is from 0 to 1.\n"
   ]
  },
  {
   "cell_type": "markdown",
   "id": "e2d10b5b-ed27-48c2-abf0-cb313267379d",
   "metadata": {},
   "source": [
    "<a id=\"simple_scale\"></a>\n",
    "### 2.1 Simple scaling\n",
    "\n",
    "**Simple scaling** divides each value by the maximum value in a feature. The new range is between 0 and 1.\n",
    "$$x_{new} = \\frac{x_{old}}{x_{max}}$$\n",
    "\n",
    "**Example**\n",
    "\n",
    "To demonstrate simpling scaling, let's say we want to scale the column \"ArrDelay\".\n",
    "    \n",
    "* **Target:** Would like to Normalize those variables so their value ranges from 0 to 1.\n",
    "* **Approach:** Replace the original value by (original value)/(maximum value)\n"
   ]
  },
  {
   "cell_type": "code",
   "execution_count": null,
   "id": "eb341c5a-721b-40f5-9944-fe4f018cc530",
   "metadata": {},
   "outputs": [],
   "source": [
    "simple_scale <- sub_airline$ArrDelay / max(sub_airline$ArrDelay)\n",
    "head(simple_scale)"
   ]
  },
  {
   "cell_type": "markdown",
   "id": "c30e7b4e-326d-413a-bad3-cca0e6ad07ca",
   "metadata": {},
   "source": [
    "<div class=\"alert alert-danger alertdanger\" style=\"margin-top: 20px\">\n",
    "<h1> Question #2: </h1>\n",
    "\n",
    "<b>According to the example above, normalize the column \"DepDelay\" using the simple scaling technique.</b>\n",
    "</div>\n"
   ]
  },
  {
   "cell_type": "code",
   "execution_count": null,
   "id": "f9e05b97-3fe0-4b52-8547-714e18ca2e9c",
   "metadata": {},
   "outputs": [],
   "source": [
    "# Write your code below and press Shift+Enter to execute \n"
   ]
  },
  {
   "cell_type": "markdown",
   "id": "9c91af2b-c684-41c6-9848-4fd58645f9aa",
   "metadata": {},
   "source": [
    "<details>\n",
    "    <summary>Click here for the solution.</summary>\n",
    "\n",
    "```r\n",
    "simple_scale2 <- sub_airline$DepDelay/max(sub_airline$DepDelay)\n",
    "head(simple_scale2)\n",
    "```\n",
    "                 \n",
    "</details>\n"
   ]
  },
  {
   "cell_type": "markdown",
   "id": "fcb32c86-a1dd-4876-b434-dcf5dcda60c3",
   "metadata": {},
   "source": [
    "<a id=\"min_max\"></a>\n",
    "### 2.2 Min-max\n",
    "\n",
    "**Min-max** subtracts the minimum value from the original and divides by the maximum minus the minimum. The minimum becomes 0 and the maximum becomes 1.\n",
    "$$x_{new} = \\frac{x_{old} - x_{min}}{x_{max} - x_{min}}$$\n",
    "\n",
    "**Example**\n",
    "\n",
    "Using \"ArrDelay\" as an example again, you can transform this column using the min-max technique:\n"
   ]
  },
  {
   "cell_type": "code",
   "execution_count": null,
   "id": "1b17dfe9-d2d9-48ca-a6b8-e8cc236ad351",
   "metadata": {},
   "outputs": [],
   "source": [
    "minmax_scale <- (sub_airline$ArrDelay - min(sub_airline$ArrDelay)) /\n",
    "                (max(sub_airline$ArrDelay) - min(sub_airline$ArrDelay))\n",
    "head(minmax_scale)"
   ]
  },
  {
   "cell_type": "markdown",
   "id": "6ca71ece-6759-4315-a097-7e5be1f02fd5",
   "metadata": {},
   "source": [
    "<a id=\"data_standardization\"></a>\n",
    "### 2.3 Data Standardization (Z-score)\n",
    "\n",
    "**Standardization (Z-score)** subtracts the mean ($\\mu$) of the feature and divides by the standard deviation ($\\sigma$).\n",
    "$$x_{new} = \\frac{x_{old} - \\mu}{\\sigma}$$\n",
    "\n",
    "\n",
    "**Example**\n",
    "\n",
    "Let's use \"ArrDelay\" again. We can use `mean()` to find the mean of the feature and we can use `sd()` to find the standard deviation of the feature.\n"
   ]
  },
  {
   "cell_type": "code",
   "execution_count": null,
   "id": "c272903e-d9e8-453e-9352-c0b6ba285dc3",
   "metadata": {},
   "outputs": [],
   "source": [
    "z_scale <- (sub_airline$ArrDelay - mean(sub_airline$ArrDelay)) / sd(sub_airline$ArrDelay)\n",
    "head(z_scale)"
   ]
  },
  {
   "cell_type": "markdown",
   "id": "a764aae2-12a3-4014-ac97-944e686791ec",
   "metadata": {},
   "source": [
    "<div class=\"alert alert-danger alertdanger\" style=\"margin-top: 20px\">\n",
    "<h1> Question  #3: </h1>\n",
    "\n",
    "<b>According to the example above, standardize the \"DepDelay\" column.</b>\n",
    "</div>\n"
   ]
  },
  {
   "cell_type": "code",
   "execution_count": null,
   "id": "b8168dda-9b8c-4442-99c2-f0e930d7a83c",
   "metadata": {},
   "outputs": [],
   "source": [
    "# Write your code below and press Shift+Enter to execute \n"
   ]
  },
  {
   "cell_type": "markdown",
   "id": "0b6cd4cf-e065-4032-bd77-a409792e2834",
   "metadata": {},
   "source": [
    "<details>\n",
    "    <summary>Click here for the solution.</summary>\n",
    "\n",
    "```r\n",
    "z_scale2 <- (sub_airline$DepDelay - mean(sub_airline$DepDelay)) / sd(sub_airline$DepDelay)\n",
    "head(z_scale2)\n",
    "```\n",
    "                 \n",
    "</details>\n"
   ]
  },
  {
   "cell_type": "markdown",
   "id": "bcf2b03e-1503-48dc-b18a-549facd148c5",
   "metadata": {},
   "source": [
    "<a id=\"binning\"></a>\n",
    "## 4. Binning\n",
    "### Why use binning?\n",
    "<p>\n",
    "    Binning is a process of transforming continuous numerical variables into discrete categorical 'bins', for grouped analysis.\n",
    "</p>\n",
    "\n",
    "**Example:**\n",
    "<p>Using binning, we categorize arrival delays into four bins by quartiles. Quartiles refer to the boundaries that divide observations into four defined intervals. They are often determined based on the values of data points and how they are compared with the rest of the dataset. In the actual airline dataset, \"ArrDelay\" is a numerical variable ranging from -73 to 682, it has 2855 unique values. We can categorize them into 4 bins. Can we rearrange them into four ‘bins' to simplify analysis? </p>\n",
    "\n",
    "We will use the tidyverse method `mutate(quantile_rank = ntile())` to segment the \"ArrDelay\" column into 4 bins\n"
   ]
  },
  {
   "cell_type": "markdown",
   "id": "b4fa9ce7-1b51-45bd-a55e-199f6ef0e29b",
   "metadata": {},
   "source": [
    "### Example of Binning Data In Tidyverse\n"
   ]
  },
  {
   "cell_type": "markdown",
   "id": "11e8d392-54f0-4dc5-9d54-f67906ae79d2",
   "metadata": {},
   "source": [
    "Lets plot the histogram of flight arrival delays, to see what the distribution of \"ArrDelay\" looks like.\n"
   ]
  },
  {
   "cell_type": "code",
   "execution_count": null,
   "id": "e8a22805-b386-4dc8-992d-37f1eb4e1518",
   "metadata": {},
   "outputs": [],
   "source": [
    "ggplot(data = sub_airline, mapping = aes(x = ArrDelay)) +\n",
    "  geom_histogram(bins = 100, color = \"white\", fill = \"red\") +\n",
    "  coord_cartesian(xlim = c(-73, 682))"
   ]
  },
  {
   "cell_type": "markdown",
   "id": "70b30020-849f-4d3c-a074-9a249abd05cf",
   "metadata": {},
   "source": [
    "First we use the dplyr function `ntile` to break “ArrDelay” into 4 buckets, which have equal amount of observations of flight arrival delays. We then create a list “quantile_rank” that contains 4 bins, which are respectively labeled \"1\", \"2\", \"3\", \"4\". So bin 1 would contain the first 25% of data, bin 2 the next 25% of data and so on.\n"
   ]
  },
  {
   "cell_type": "code",
   "execution_count": null,
   "id": "c1d16543-0170-46d9-a5ad-fef91c5ad05a",
   "metadata": {},
   "outputs": [],
   "source": [
    "binning <- sub_airline %>%\n",
    "      mutate(quantile_rank = ntile(sub_airline$ArrDelay,4))\n",
    "\n",
    "head(binning)"
   ]
  },
  {
   "cell_type": "markdown",
   "id": "7d3d6102-2544-4f9c-b71f-84d1ca30ba47",
   "metadata": {},
   "source": [
    "The observations are put into different bins based on the flights' delay minutes. The larger the bin label is, the longer the flight was delayed. \n",
    "\n",
    "Now if we look at a histogram of the bins, you can see that all bins are equal.\n"
   ]
  },
  {
   "cell_type": "code",
   "execution_count": null,
   "id": "b333dbe0-f229-46ec-b6b0-4ba4b9034296",
   "metadata": {},
   "outputs": [],
   "source": [
    "ggplot(data = binning, mapping = aes(x = quantile_rank)) +\n",
    "  geom_histogram(bins = 4, color = \"white\", fill = \"red\")"
   ]
  },
  {
   "cell_type": "markdown",
   "id": "ca72a8b7-75dc-48ea-83d4-8948460a3def",
   "metadata": {},
   "source": [
    "<a id=\"indicator\"></a>\n",
    "## 5. Indicator variable\n",
    "#### What is an indicator variable?\n",
    "\n",
    "An indicator variable (or dummy variable) is a **numerical variable** used to **label categories**. They are called 'dummies' because the numbers themselves don't have inherent meaning. \n",
    "\n",
    "\n",
    "**Why we use indicator variables?**\n",
    "<p>\n",
    "Regression models need numerical variables, however categorical variables in their original forms are strings. Using indicator variables allows us to be able to use these categorical variables in regression models.\n",
    "</p>\n",
    "\n",
    "**Example**\n",
    "<p>\n",
    "    In the airline dataset, the \"Reporting_Airline\" feature is a categorical variable that has nine values, \"AA\", \"AS\", \"B6\", \"DL\", \"HP\", \"PA (1)\", \"TW\", \"UA\" or \"VX”, which are in character type. For further analysis, we need to convert these variables into some form of numeric format. \n",
    "</p>\n",
    "\n",
    "\n",
    "We will use the tidyverse's method `spread()` method to convert categorical variables to dummy variables. The parameters to use in the function are:\n",
    "* `key`: the column to convert into categorical values\n",
    "* `value`: the value you want to set the key to\n",
    "* `fill`: fills the missing values with this value\n",
    "\n",
    "Also keep in mind that the method will drop the \"Reporting_Airline\" column by default. So if you used \"ArrDelay\" as the key value instead, that column would get dropped.\n",
    "\n",
    "The below code does the following:\n",
    "1. `mutate` - creates a column `dummy` with all 1's then\n",
    "2. `spread` - creates new column for every `Reporting_Ariline` and sets the value to 1 from `dummy`. But replaces the 1 with a 0 if the corresponding value is `NA` in `Reporting_Airline` then\n",
    "3. `slice` - looks at the specified rows\n"
   ]
  },
  {
   "cell_type": "code",
   "execution_count": null,
   "id": "1732f1e2-b4ff-42a0-bb4e-2717fb1f2277",
   "metadata": {},
   "outputs": [],
   "source": [
    "sub_airline %>%\n",
    "  mutate(dummy = 1) %>% # column with single value\n",
    "  spread(\n",
    "    key = Reporting_Airline, # column to spread\n",
    "    value = dummy,\n",
    "    fill = 0) %>%\n",
    "  slice(1:5)"
   ]
  },
  {
   "cell_type": "markdown",
   "id": "2e5677c4-2070-4bc6-b164-5ea3187686a6",
   "metadata": {},
   "source": [
    "When a value occurs in the original feature, we set the corresponding value to one in the new feature; the rest of the features are set to zero. \n",
    "\n",
    "So in the output above, for the first row, the reporting airline is \"UA\". Therefore, the feature \"UA\" is set to one and the other features to zero. \n",
    "Similarly, for the second row, the reporting airline value is \"AS\". Therefore, the feature \"AS\" is set to one and the other features to zero.\n"
   ]
  },
  {
   "cell_type": "markdown",
   "id": "ffe44c34-9553-4b71-8cfc-f519f6c49627",
   "metadata": {},
   "source": [
    "Alternatively, instead of assigning dummy values 0 or 1, we can assign flight delay values to each feature. So this will also create new columns, one for each `Reporting_Airline`. Taking the first row for example, the column \"UA\" is now set to 2 because that is the value from ArrDelay.\n"
   ]
  },
  {
   "cell_type": "code",
   "execution_count": null,
   "id": "6b697151-316e-48d7-b818-8d1116617325",
   "metadata": {},
   "outputs": [],
   "source": [
    "sub_airline %>% \n",
    "  spread(Reporting_Airline, ArrDelay) %>% \n",
    "  slice(1:5)"
   ]
  },
  {
   "cell_type": "markdown",
   "id": "e0b7e173-5be5-4b24-80b7-c526b4ccf58b",
   "metadata": {},
   "source": [
    "\n",
    "**Visualize Airline Category**\n",
    "\n",
    "Let's visualize how many data points in each airline category.\n"
   ]
  },
  {
   "cell_type": "code",
   "execution_count": null,
   "id": "1f30fd15-f80c-45a0-8445-8345a83b5e75",
   "metadata": {},
   "outputs": [],
   "source": [
    "sub_airline %>% # start with data\n",
    "   mutate(Reporting_Airline = factor(Reporting_Airline,\n",
    "                                     labels = c(\"AA\", \"AS\", \"DL\", \"UA\", \"B6\", \"PA (1)\", \"HP\", \"TW\", \"VX\")))%>%\n",
    "  ggplot(aes(Reporting_Airline)) +\n",
    "  stat_count(width = 0.5) +\n",
    "  labs(x = \"Number of data points in each airline\")"
   ]
  },
  {
   "cell_type": "markdown",
   "id": "bf64f055-bf72-4fd7-b0d3-d5bae1979b01",
   "metadata": {},
   "source": [
    "<div class=\"alert alert-danger alertdanger\" style=\"margin-top: 20px\">\n",
    "<h1> Question  #4: </h1>\n",
    "\n",
    "<b>As above, create indicator variable to the column of \"Month\".</b>\n",
    "</div>\n"
   ]
  },
  {
   "cell_type": "code",
   "execution_count": null,
   "id": "3292fa03-5516-4153-ae9d-57054a946894",
   "metadata": {},
   "outputs": [],
   "source": [
    "# Write your code below and press Shift+Enter to execute\n"
   ]
  },
  {
   "cell_type": "markdown",
   "id": "ffb3dce7-33b3-4f1d-93fa-6783a3b1256a",
   "metadata": {},
   "source": [
    "<details>\n",
    "    <summary>Click here for the solution.</summary>\n",
    "\n",
    "```r\n",
    "sub_airline %>%\n",
    "  mutate(dummy = 1) %>% # column with single value\n",
    "  spread(\n",
    "    key = Month, # column to spread\n",
    "    value = dummy,\n",
    "    fill = 0) %>%\n",
    "  slice(1:5)\n",
    "```\n",
    "                 \n",
    "</details>\n"
   ]
  },
  {
   "cell_type": "markdown",
   "id": "40a81ede-529e-4bf7-a4f1-ec5047860319",
   "metadata": {},
   "source": [
    " <div class=\"alert alert-danger alertdanger\" style=\"margin-top: 20px\">\n",
    "<h1> Question  #5: </h1>\n",
    "\n",
    "<b>Now, create indicator variable to the column of \"Month\" by applying departure delay values</b>\n",
    "</div>\n"
   ]
  },
  {
   "cell_type": "code",
   "execution_count": null,
   "id": "c78f70dd-07b4-433a-b324-573885989ee4",
   "metadata": {},
   "outputs": [],
   "source": [
    "# Write your code below and press Shift+Enter to execute \n"
   ]
  },
  {
   "cell_type": "markdown",
   "id": "835e90bf-f632-4e7e-b387-61d7b2473025",
   "metadata": {},
   "source": [
    "<details>\n",
    "    <summary>Click here for the solution.</summary>\n",
    "\n",
    "```r\n",
    "sub_airline %>% \n",
    "  spread(Month, DepDelay) %>% \n",
    "  slice(1:5) # Show only the first 5 rows\n",
    "```\n",
    "                 \n",
    "</details>\n"
   ]
  },
  {
   "cell_type": "markdown",
   "id": "a3123717-88a8-4dc4-adf0-7b0e08c8a321",
   "metadata": {},
   "source": [
    "<h1>Thank you for completing this notebook</h1>\n"
   ]
  },
  {
   "cell_type": "markdown",
   "id": "a20ee5cc-deec-4ece-8528-54dee964d1f2",
   "metadata": {},
   "source": [
    "<h3>About the Authors:</h3>\n",
    "\n",
    "This notebook was written by <a href=\"https://www.linkedin.com/in/yiwen-li-47a019119/?utm_medium=Exinfluencer&utm_source=Exinfluencer&utm_content=000026UJ&utm_term=10006555&utm_id=NA-SkillsNetwork-Channel-SkillsNetworkCoursesIBMDA0151ENSkillsNetwork926-2022-01-01\" target=\"_blank\">Yiwen Li</a> and <a href=\"https://www.linkedin.com/in/gabrieladequeiroz/?utm_medium=Exinfluencer&utm_source=Exinfluencer&utm_content=000026UJ&utm_term=10006555&utm_id=NA-SkillsNetwork-Channel-SkillsNetworkCoursesIBMDA0151ENSkillsNetwork926-2022-01-01\" target=\"_blank\">Gabriela de Queiroz</a>.\n",
    "\n",
    "<p><a href=\"https://www.linkedin.com/in/yiwen-li-47a019119/?utm_medium=Exinfluencer&utm_source=Exinfluencer&utm_content=000026UJ&utm_term=10006555&utm_id=NA-SkillsNetwork-Channel-SkillsNetworkCoursesIBMDA0151ENSkillsNetwork926-2022-01-01\" target=\"_blank\">Yiwen Li</a> has approximately three year experiences in big tech industry. Currently, she is a developer advocate, a data scientist, a product manager at IBM, where she designs and develops data science solutions and Machine Learning models to solve real world problems. She has delivered talks this year in JupyterCon, PyCon, Pyjamas, CrowdCast.ai, Global AI on Tour 2020 and Belpy 2021 with hundreds of attendants per talk. \n",
    "    \n",
    "<a href=\"https://www.linkedin.com/in/gabrieladequeiroz/?utm_medium=Exinfluencer&utm_source=Exinfluencer&utm_content=000026UJ&utm_term=10006555&utm_id=NA-SkillsNetwork-Channel-SkillsNetworkCoursesIBMDA0151ENSkillsNetwork926-2022-01-01\" target=\"_blank\">Gabriela de Queiroz</a> is a Sr. Engineering & Data Science Manager at IBM where she manages and leads a team of developers working on Data & AI Open Source projects. She works to democratize AI by building tools and launching new open source projects.\n",
    "She is the founder of AI Inclusive, a global organization that is helping increase the representation and participation of gender minorities in Artificial Intelligence. She is also the founder of R-Ladies, a worldwide organization for promoting diversity in the R community with more than 190 chapters in 50+ countries.\n",
    "She has worked in several startups and where she built teams, developed statistical models, and employed a variety of techniques to derive insights and drive data-centric decisions\n"
   ]
  },
  {
   "cell_type": "markdown",
   "id": "4d2422ff-4849-4e37-a726-50de08d5000e",
   "metadata": {},
   "source": [
    "Copyright © 2021 IBM Corporation. All rights reserved.\n"
   ]
  }
 ],
 "metadata": {
  "kernelspec": {
   "display_name": "R",
   "language": "R",
   "name": "ir"
  },
  "language_info": {
   "codemirror_mode": "r",
   "file_extension": ".r",
   "mimetype": "text/x-r-source",
   "name": "R",
   "pygments_lexer": "r",
   "version": "4.2.1"
  }
 },
 "nbformat": 4,
 "nbformat_minor": 4
}
