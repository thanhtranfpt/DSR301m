{
 "cells": [
  {
   "cell_type": "markdown",
   "id": "f3593300-aa1f-4757-84cc-509728a61969",
   "metadata": {},
   "source": [
    "<center>\n",
    "<img src=\"https://cf-courses-data.s3.us.cloud-object-storage.appdomain.cloud/IBMDeveloperSkillsNetwork-RP0101EN-Coursera/v2/M1_R_Basics/images/SN_web_lightmode.png\" width=\"300\"> \n",
    "<center/>\n"
   ]
  },
  {
   "cell_type": "markdown",
   "id": "b96acaf2-f7cb-4df6-907c-d2ceb97401c6",
   "metadata": {},
   "source": [
    "<h1>Arrays and Matrices</h1>\n",
    "\n",
    "Estimated time needed: **20** minutes\n",
    "\n",
    "## Objectives\n",
    "\n",
    "After completing this lab you will be able to:\n",
    "\n",
    "-   Understand what is an array by coding practices\n",
    "-   Operate on arrays\n",
    "-   Understand what is a matrix by coding practices\n",
    "-   Operate on matrices\n"
   ]
  },
  {
   "cell_type": "markdown",
   "id": "f7de10f3-81f8-478a-bbd8-8f6ed9d78588",
   "metadata": {},
   "source": [
    "## Table of Contents\n",
    "\n",
    "<strong>This lesson will cover some basics concepts about vector and factors in R:</strong>\n",
    "\n",
    "<ul>\n",
    "<li> <a href=\"#What-is-an-Array?\">What is an Array?</a> </li>\n",
    "<li> <a href=\"#Array-Indexing\">Array Indexing</a> </li>\n",
    "<li> <a href=\"#What-is-a-Matrix?\">What is a Matrix?</a> </li>\n",
    "<li> <a href=\"#Concatenation-Function\">Concatenation Function</a> </li>\n",
    "\n",
    "</ul>\n",
    "<br>\n"
   ]
  },
  {
   "cell_type": "markdown",
   "id": "e0b064d1-8c44-41e7-a912-6eba50f65c84",
   "metadata": {},
   "source": [
    "<a id=\"ref0\"></a>\n",
    "\n",
    "# About the Dataset\n",
    "\n",
    "Imagine you got many movie recomendations from your friends and compiled all of the recomendations in a table, with specific info about each movie.\n",
    "\n",
    "The table has one row for each movie and several columns\n",
    "\n",
    "-   **name** - The name of the movie\n",
    "-   **year** - The year the movie was released\n",
    "-   **length_min** - The lenght of the movie in minutes\n",
    "-   **genre** - The genre of the movie\n",
    "-   **average_rating** - Average rating on Imdb\n",
    "-   **cost_millions** - The movie's production cost in millions\n",
    "-   **sequences** - The amount of sequences\n",
    "-   **foreign** - Indicative of whether the movie is foreign (1) or domestic (0)\n",
    "-   **age_restriction** - The age restriction for the movie\n",
    "    <br>\n",
    "\n",
    "You can see part of the dataset below\n",
    "\n",
    "<img src=\"https://ibm.box.com/shared/static/6kr8sg0n6pc40zd1xn6hjhtvy3k7cmeq.png\" align=\"center\">\n"
   ]
  },
  {
   "cell_type": "markdown",
   "id": "a44d1789-8c3f-47b5-b93b-e6acb425b1b5",
   "metadata": {},
   "source": [
    "<h2>What is an Array?</h2>\n",
    "<br>\n",
    "\n",
    "An array is a data structure that holds values grouped together, like a 2 x 2 table of 2 rows and 2 columns. Arrays can also be **multidimensional**, such as a 2 x 2 x 2 array.\n"
   ]
  },
  {
   "cell_type": "markdown",
   "id": "88795963-a58e-4e05-9356-2cf04d759c3a",
   "metadata": {},
   "source": [
    "#### What is the difference between an array and a vector?\n",
    "\n",
    "Vectors are always one dimensional like a single row of data. On the other hand, an array can be multidimensional (stored as rows and columns). The \"dimension\" indicates how many rows of data there are.\n"
   ]
  },
  {
   "cell_type": "markdown",
   "id": "bcfed98d-66ba-413f-a220-a12386ac57a2",
   "metadata": {},
   "source": [
    "#### Let's create a 4 x 3 array (4 rows, 3 columns)\n",
    "\n",
    "The example below is a vector of 9 movie names, hence the data type is the same for all the elements.\n"
   ]
  },
  {
   "cell_type": "code",
   "execution_count": 1,
   "id": "7217371f-c752-4b86-a101-2fc58aabc3ec",
   "metadata": {},
   "outputs": [
    {
     "ename": "NameError",
     "evalue": "name 'movie_vector' is not defined",
     "output_type": "error",
     "traceback": [
      "\u001b[1;31m---------------------------------------------------------------------------\u001b[0m",
      "\u001b[1;31mNameError\u001b[0m                                 Traceback (most recent call last)",
      "\u001b[1;32m~\\AppData\\Local\\Temp\\ipykernel_616\\640406834.py\u001b[0m in \u001b[0;36m<module>\u001b[1;34m\u001b[0m\n\u001b[0;32m      1\u001b[0m \u001b[1;31m#lets first create a vector of nine movies\u001b[0m\u001b[1;33m\u001b[0m\u001b[1;33m\u001b[0m\u001b[0m\n\u001b[1;32m----> 2\u001b[1;33m movie_vector <- c(\"Akira\", \"Toy Story\", \"Room\", \"The Wave\", \"Whiplash\",\n\u001b[0m\u001b[0;32m      3\u001b[0m                   \"Star Wars\", \"The Ring\", \"The Artist\", \"Jumanji\")\n\u001b[0;32m      4\u001b[0m \u001b[0mmovie_vector\u001b[0m\u001b[1;33m\u001b[0m\u001b[1;33m\u001b[0m\u001b[0m\n",
      "\u001b[1;31mNameError\u001b[0m: name 'movie_vector' is not defined"
     ]
    }
   ],
   "source": [
    "#lets first create a vector of nine movies\n",
    "movie_vector <- c(\"Akira\", \"Toy Story\", \"Room\", \"The Wave\", \"Whiplash\",\n",
    "                  \"Star Wars\", \"The Ring\", \"The Artist\", \"Jumanji\")\n",
    "movie_vector"
   ]
  },
  {
   "cell_type": "markdown",
   "id": "0a9c3fee-5f93-4ecc-9fa6-3d8b19bab032",
   "metadata": {},
   "source": [
    "To create an array, we can use the **array()** function.\n"
   ]
  },
  {
   "cell_type": "code",
   "execution_count": null,
   "id": "4c47cd98-c9dc-4e61-b666-a94ae36367b3",
   "metadata": {},
   "outputs": [],
   "source": [
    "movie_array <- array(movie_vector, dim = c(4,3))\n",
    "movie_array"
   ]
  },
  {
   "cell_type": "markdown",
   "id": "48e88699-ce05-4964-a356-6eb385cb4784",
   "metadata": {},
   "source": [
    "Note that **arrays are created column-wise**. Did you also notice that there were only 9 movie names, but the array was 4 x 3? The original **vector doesn't have enough elements** to fill the entire array (that should have 3 x 4 = 12 elements). So R simply fills rest of the empty values by going back to the beginning of the vector and starting again (\"Akira\", \"Toy story\", \"Room\" in this case).\n"
   ]
  },
  {
   "cell_type": "markdown",
   "id": "52334869-e807-49c5-b652-83d27fb1cee7",
   "metadata": {},
   "source": [
    "We also needed to provide **`c(4,3)`** as a second _argument_ to specify the number of rows (4) and columns (3) that we wanted.\n"
   ]
  },
  {
   "cell_type": "markdown",
   "id": "12053c25-33a1-428f-b2ca-07974920aa86",
   "metadata": {},
   "source": [
    "<div class=\"alert alert-success alertsuccess\" style=\"margin-top: 20px\">\n",
    "[Tip] What is an \"argument\"? How are \"arguments\" different from \"parameters\"?   \n",
    "    \n",
    "<br>\n",
    "Arguments and parameters are terms you will hear constantly when talking about \"functions\".  \n",
    "- The \"parameters\" are the input variables used in a function, like \"dim\" in the function \"array()\".   \n",
    "- The \"arguments\" refer to the \"values\" for those parameters that a function takes as inputs, like \"c(4,3)\"  \n",
    "<br>\n",
    "We actually don't need to write out the name of the parameter (dim) each time, as in:  \n",
    "`array(movie_vector, c(4,3))`  \n",
    "As long as we write the arguments out in the correct order, R can interpret the code.  \n",
    "\n",
    "<br>\n",
    "Arguments in a function may sometimes need to be of a \"specific type\". For more information on each function, you can open up the help file by running the function name with a ? beforehand, as in:  \n",
    "`?array`\n",
    "<p></p>\n",
    "\n",
    "</div>\n"
   ]
  },
  {
   "cell_type": "markdown",
   "id": "edcf6024-30e2-48af-ac21-7552428a018b",
   "metadata": {},
   "source": [
    "<h2 align=center>Array Indexing</h2>\n"
   ]
  },
  {
   "cell_type": "markdown",
   "id": "4b4361e4-e459-45a1-b63d-425702b026cb",
   "metadata": {},
   "source": [
    "Let's look at our array again:\n"
   ]
  },
  {
   "cell_type": "code",
   "execution_count": null,
   "id": "e59512bb-f931-4658-ae5f-f797ee12f674",
   "metadata": {},
   "outputs": [],
   "source": [
    "movie_array"
   ]
  },
  {
   "cell_type": "markdown",
   "id": "7e1ee901-0007-4e9c-bd90-33e3065d3afe",
   "metadata": {},
   "source": [
    "To access an element of an array, we should pass in **[row, column]** as the row and column number of that element.  \n",
    "For example, here we retrieve **Whiplash** from row 1 and column 2:\n"
   ]
  },
  {
   "cell_type": "code",
   "execution_count": null,
   "id": "2cad291c-3b3d-4fdb-b437-edb361f815bf",
   "metadata": {},
   "outputs": [],
   "source": [
    "movie_array[1,2] #[row, column]"
   ]
  },
  {
   "cell_type": "markdown",
   "id": "216ccf30-4fbe-4e9a-8a59-3b744dc08022",
   "metadata": {},
   "source": [
    "To display all the elements of the first row, we should put 1 in the row and nothing in the column part. Be sure to keep in the comma after the `1`.\n"
   ]
  },
  {
   "cell_type": "code",
   "execution_count": null,
   "id": "d831aa64-3adb-4254-9d4f-b129c49cf46c",
   "metadata": {},
   "outputs": [],
   "source": [
    "movie_array[1,]"
   ]
  },
  {
   "cell_type": "markdown",
   "id": "4334be64-499e-449f-8a65-22ed862d9989",
   "metadata": {},
   "source": [
    "Likewise, you can get the elements by column as below.\n"
   ]
  },
  {
   "cell_type": "code",
   "execution_count": null,
   "id": "0f4ee60f-aa55-49e3-a9ec-ad5f99cfc2ab",
   "metadata": {},
   "outputs": [],
   "source": [
    "movie_array[,2]"
   ]
  },
  {
   "cell_type": "markdown",
   "id": "50142615-60c3-4303-a9b4-50d7c6c7ac81",
   "metadata": {},
   "source": [
    "To get the dimension of the array, **dim()** should be used.\n"
   ]
  },
  {
   "cell_type": "code",
   "execution_count": null,
   "id": "7738b7df-c21a-4ed2-bb79-eaba3f86b63c",
   "metadata": {},
   "outputs": [],
   "source": [
    "dim(movie_array)"
   ]
  },
  {
   "cell_type": "markdown",
   "id": "4f26606c-557e-47f4-82ff-72d6ce73f7dc",
   "metadata": {},
   "source": [
    "We can also do math on arrays. Let's create an array of the lengths of each of the nine movies used earlier.\n"
   ]
  },
  {
   "cell_type": "code",
   "execution_count": null,
   "id": "c78322fb-9473-45a4-9806-57fb0cd8f711",
   "metadata": {},
   "outputs": [],
   "source": [
    "length_vector <- c(125, 81, 118, 81, 106, 121, 95, 100, 104)\n",
    "length_array <- array(length_vector, dim = c(3,3))\n",
    "length_array"
   ]
  },
  {
   "cell_type": "markdown",
   "id": "c53af9a2-1a5b-4ed9-8a4c-2c88650792dd",
   "metadata": {},
   "source": [
    "Let's add 5 to the array, to account for a 5-min bathroom break:\n"
   ]
  },
  {
   "cell_type": "code",
   "execution_count": null,
   "id": "54439832-5287-493e-a6e3-e3b282d1864a",
   "metadata": {},
   "outputs": [],
   "source": [
    "length_array + 5"
   ]
  },
  {
   "cell_type": "markdown",
   "id": "6767b05a-9cc5-43c8-8f69-9b6ed6e95dd2",
   "metadata": {},
   "source": [
    "**Coding Exercise:** in the code cell below, create a new length vector with 12 elements and create a 4 x 3 array from it\n"
   ]
  },
  {
   "cell_type": "code",
   "execution_count": null,
   "id": "c5713c22-a9d3-4f00-806a-2e280e511ff3",
   "metadata": {},
   "outputs": [],
   "source": [
    "# Write your code below. Don't forget to press Shift+Enter to execute the cell\n"
   ]
  },
  {
   "cell_type": "markdown",
   "id": "7c8aaada-bb7c-48ff-b199-1a64db8f5dbe",
   "metadata": {},
   "source": [
    "<details><summary>Click here for the solution</summary>\n",
    "\n",
    "```R\n",
    "new_length_vector <- c(125, 81, 118, 81, 106, 121, 95, 100, 104, 85, 64, 83)\n",
    "new_length_array <- array(new_length_vector, dim = c(4,3))\n",
    "new_length_array\n",
    "\n",
    "```\n",
    "\n",
    "</details>\n"
   ]
  },
  {
   "cell_type": "markdown",
   "id": "df726fbd-96a9-4336-8944-aaf8215528e2",
   "metadata": {},
   "source": [
    "<div class=\"alert alert-success alertsuccess\" style=\"margin-top: 20px\">\n",
    "Tip: Performing operations on objects, like adding 5 to an array, does not change the object.To change the object, we would need to assign the new result to itself.\n",
    "</div>\n"
   ]
  },
  {
   "cell_type": "markdown",
   "id": "8c55c1bc-718e-48a4-9125-da040b6e78dd",
   "metadata": {},
   "source": [
    "<a id=\"ref3\"></a>\n",
    "\n",
    "<h2 align=center>Using Logical Conditions to Subset Arrays</h2>\n"
   ]
  },
  {
   "cell_type": "markdown",
   "id": "39f46869-e72b-460a-9199-cdf4c8ec6851",
   "metadata": {},
   "source": [
    "Which movies can I finish watching in two hours? Using a logical condition, we can check which movies are less than 2 hours long.\n"
   ]
  },
  {
   "cell_type": "code",
   "execution_count": null,
   "id": "6c05f635-096c-4f2c-8491-1cb1380d2ec5",
   "metadata": {},
   "outputs": [],
   "source": [
    "mask_array <- length_array < 120\n",
    "mask_array"
   ]
  },
  {
   "cell_type": "markdown",
   "id": "ccf9ee30-0ca7-4f58-92a7-472203f820dd",
   "metadata": {},
   "source": [
    "Using this array of TRUEs and FALSEs, we can subset the array of movie names:\n"
   ]
  },
  {
   "cell_type": "code",
   "execution_count": null,
   "id": "dfc3ead3-dc6a-4221-8534-b85c3f2d55b2",
   "metadata": {},
   "outputs": [],
   "source": [
    "x_vector <- c(\"Akira\", \"Toy Story\", \"Room\", \"The Wave\", \"Whiplash\",\n",
    "              \"Star Wars\", \"The Ring\", \"The Artist\", \"Jumanji\")\n",
    "x_array <- array(x_vector, dim = c(3,3))\n",
    "\n",
    "x_array[mask_array]"
   ]
  },
  {
   "cell_type": "markdown",
   "id": "7f61aa7c-610c-4a8a-9e5a-ddebc20a7fdb",
   "metadata": {},
   "source": [
    "<hr>\n",
    "\n",
    "**Coding Exercise:** in the code cell below, find all movie titles with length less than or equal to 90 minutes\n"
   ]
  },
  {
   "cell_type": "code",
   "execution_count": null,
   "id": "2464a444-80ba-4b0b-b1b0-b37f69876932",
   "metadata": {},
   "outputs": [],
   "source": [
    "# Write your code below. Don't forget to press Shift+Enter to execute the cell\n"
   ]
  },
  {
   "cell_type": "markdown",
   "id": "1bbe491e-d7d8-43b5-96bf-dda0673dfd4d",
   "metadata": {},
   "source": [
    "<details><summary>Click here for the solution</summary>\n",
    "\n",
    "```R\n",
    "mask_array <- length_array <= 90\n",
    "x_array[mask_array]\n",
    "```\n",
    "\n",
    "</details>\n",
    "\n",
    "<hr>\n"
   ]
  },
  {
   "cell_type": "markdown",
   "id": "e996487b-b38f-472c-866d-6d358446cb3c",
   "metadata": {},
   "source": [
    "<h2 align=center>What is a Matrix?</h2>\n",
    "\n",
    "Matrices are a subtype of arrays. A matrix **must** have 2 dimensions, whereas arrays are more flexible and can have, one, two, or more dimensions.  \n",
    "\n",
    "To create a matrix out of a vector , you can use **matrix()**, which takes in an argument for the vector, an argument for the number of rows and another for the number of columns.\n"
   ]
  },
  {
   "cell_type": "code",
   "execution_count": null,
   "id": "f1c04d76-16ba-427d-85ff-401098aac869",
   "metadata": {},
   "outputs": [],
   "source": [
    "movie_matrix <- matrix(movie_vector, nrow = 3, ncol = 3)"
   ]
  },
  {
   "cell_type": "code",
   "execution_count": null,
   "id": "c02b748c-00a0-4aa4-9d37-0eca73730fa3",
   "metadata": {},
   "outputs": [],
   "source": [
    "movie_matrix"
   ]
  },
  {
   "cell_type": "markdown",
   "id": "8498a940-3264-4084-82c3-dd507d427c97",
   "metadata": {},
   "source": [
    "<hr>\n",
    "\n",
    "**Coding Exercise:** in the code cell below, create a new length vector with 12 elements and create a 4 x 3 matrix from it\n"
   ]
  },
  {
   "cell_type": "code",
   "execution_count": null,
   "id": "315703f7-6deb-4ba7-a089-025548ad7fa6",
   "metadata": {},
   "outputs": [],
   "source": [
    "# Write your code below. Don't forget to press Shift+Enter to execute the cell\n"
   ]
  },
  {
   "cell_type": "markdown",
   "id": "13cb2b00-3d97-48a9-bb42-176888bee0b3",
   "metadata": {},
   "source": [
    "<details><summary>Click here for the solution</summary>\n",
    "\n",
    "```R\n",
    "new_length_vector <- c(125, 81, 118, 81, 106, 121, 95, 100, 104, 85, 64, 80)\n",
    "new_movie_matrix <- matrix(new_length_vector, nrow = 4, ncol = 3)\n",
    "new_movie_matrix\n",
    "\n",
    "```\n",
    "\n",
    "</details>\n",
    "\n",
    "<hr>\n"
   ]
  },
  {
   "cell_type": "markdown",
   "id": "cb45a1e4-292a-45f0-9468-6c735919dc60",
   "metadata": {},
   "source": [
    "### Accessing elements of a matrix\n"
   ]
  },
  {
   "cell_type": "markdown",
   "id": "bd81b033-fbd2-44de-b530-a77ea9072e84",
   "metadata": {},
   "source": [
    "As with arrays, you can use **[row, column]** to access elements of a matrix. To retrieve \"Akira\", you should use [1,1] as it lies in the first row and first column.\n"
   ]
  },
  {
   "cell_type": "code",
   "execution_count": null,
   "id": "2890af2f-42fb-41a8-b552-54f48f36b5ca",
   "metadata": {},
   "outputs": [],
   "source": [
    "movie_matrix[1,1]"
   ]
  },
  {
   "cell_type": "markdown",
   "id": "6db0a274-1248-4db6-97c8-54c0c4744532",
   "metadata": {},
   "source": [
    "To get data from a certain range, the folowing code can help. This takes the elements from rows 2 to 3, and from columns 1 to 2.\n"
   ]
  },
  {
   "cell_type": "code",
   "execution_count": null,
   "id": "5d6bed79-44b5-4793-9e89-95480694f7c4",
   "metadata": {},
   "outputs": [],
   "source": [
    "movie_matrix[2:3, 1:2]"
   ]
  },
  {
   "cell_type": "markdown",
   "id": "dc1c0db6-aba8-45f3-89b0-72e8b1283010",
   "metadata": {},
   "source": [
    "<hr>\n",
    "\n",
    "**Coding Exercise:** in the code cell below, get the second row of the matrix\n"
   ]
  },
  {
   "cell_type": "code",
   "execution_count": null,
   "id": "ee3a066c-ea25-426b-9a16-bd2567f8a463",
   "metadata": {},
   "outputs": [],
   "source": [
    "# Write your code below. Don't forget to press Shift+Enter to execute the cell\n"
   ]
  },
  {
   "cell_type": "markdown",
   "id": "fd157faa-ad01-474a-8bd7-3eafb6f2af0e",
   "metadata": {},
   "source": [
    "<details><summary>Click here for the solution</summary>\n",
    "\n",
    "```R\n",
    "movie_matrix[2,]\n",
    "\n",
    "```\n",
    "\n",
    "</details>\n",
    "\n",
    "<hr>\n"
   ]
  },
  {
   "cell_type": "markdown",
   "id": "c847be6c-a642-4ab5-9fa3-a192f5d41f50",
   "metadata": {},
   "source": [
    "**Coding Exercise:** in the code cell below, get the second column of the matrix\n"
   ]
  },
  {
   "cell_type": "code",
   "execution_count": null,
   "id": "6ffd1c84-2962-456b-bfb9-d540f1948bc2",
   "metadata": {},
   "outputs": [],
   "source": [
    "# Write your code below. Don't forget to press Shift+Enter to execute the cell\n"
   ]
  },
  {
   "cell_type": "markdown",
   "id": "9da91424-2ee7-44cb-b89f-c87263f33f38",
   "metadata": {},
   "source": [
    "<details><summary>Click here for the solution</summary>\n",
    "\n",
    "```R\n",
    "movie_matrix[,2]\n",
    "\n",
    "```\n",
    "\n",
    "</details>\n",
    "\n",
    "<hr>\n"
   ]
  },
  {
   "cell_type": "markdown",
   "id": "9869f850-6ab2-46b2-afce-cc3576847297",
   "metadata": {},
   "source": [
    "<h2>Concatenation function</h2>\n",
    "\n",
    "A concatenation function is used to combine two vectors into one vector. It combines values of both vectors.<br>\n",
    "Lets create a new vector for the upcoming movies as a `upcoming_movie` variable and add them to the `movie_vector` variable to create a `new_vector` of movies.\n"
   ]
  },
  {
   "cell_type": "code",
   "execution_count": null,
   "id": "e87a4495-fe8e-4c99-a707-8c2295592473",
   "metadata": {},
   "outputs": [],
   "source": [
    "upcoming_movie <- c(\"Fast and Furious 8\", \"xXx: Return of Xander Cage\", \"Suicide Squad\")"
   ]
  },
  {
   "cell_type": "code",
   "execution_count": null,
   "id": "7824a4ff-fd2f-4ff9-8c0b-5b66fcaa8d01",
   "metadata": {},
   "outputs": [],
   "source": [
    "new_vector <- c(movie_vector, upcoming_movie)"
   ]
  },
  {
   "cell_type": "code",
   "execution_count": null,
   "id": "e91d3a6c-b7d8-4259-9152-bf1fe95c250d",
   "metadata": {},
   "outputs": [],
   "source": [
    "new_vector"
   ]
  },
  {
   "cell_type": "markdown",
   "id": "efc50795-65f5-43db-9f4c-e6976b20e3bb",
   "metadata": {},
   "source": [
    "<hr>\n",
    "Scaling R with big data\n",
    "\n",
    "As you learn more about R, if you are interested in exploring platforms that can help you run analyses at scale, you might want to sign up for a free account on [IBM Watson Studio](http://cocl.us/dsx_rp0101en), which allows you to run analyses in R with two Spark executors for free.\n"
   ]
  },
  {
   "cell_type": "markdown",
   "id": "4717a23a-0cc3-4711-83d1-1a2a01f13ec3",
   "metadata": {},
   "source": [
    "\n",
    "## Authors\n",
    "Hi! It's [Hiten Patel](https://ca.linkedin.com/in/hitenpatel161289?utm_medium=Exinfluencer&utm_source=Exinfluencer&utm_content=000026UJ&utm_term=10006555&utm_id=NA-SkillsNetwork-Channel-SkillsNetworkCoursesIBMDeveloperSkillsNetworkRP0101ENCoursera889-2022-01-01), the author of this notebook. I hope you found arrays and matrices easy to learn! As you start learning the foundations of R, feel free to connect with me if you have any questions.\n"
   ]
  },
  {
   "cell_type": "markdown",
   "id": "bacf9be6-4448-4b87-8284-1391eeefeeda",
   "metadata": {},
   "source": [
    "### Other Contributors\n",
    "\n",
    "<a href=\"https://www.linkedin.com/in/yan-luo-96288783/?utm_medium=Exinfluencer&utm_source=Exinfluencer&utm_content=000026UJ&utm_term=10006555&utm_id=NA-SkillsNetwork-Channel-SkillsNetworkCoursesIBMDeveloperSkillsNetworkRP0101ENCoursera889-2022-01-01\">Yan Luo</a>\n"
   ]
  },
  {
   "cell_type": "markdown",
   "id": "ceae66d7-d5c0-4c16-b4b5-b0571642c631",
   "metadata": {},
   "source": [
    "## Change Log\n",
    "\n",
    "| Date (YYYY-MM-DD) | Version | Changed By | Change Description           |\n",
    "| ----------------- | ------- | ---------- | ---------------------------- |\n",
    "| 2021-03-03        | 2.0     | Yan        | Added coding tasks           |\n",
    "|                   |         |            |                              |\n",
    "|                   |         |            |                              |\n",
    "\n",
    "## <h3 align=\"center\"> © IBM Corporation 2021. All rights reserved. <h3/>\n"
   ]
  }
 ],
 "metadata": {
  "kernelspec": {
   "display_name": "R",
   "language": "R",
   "name": "ir"
  },
  "language_info": {
   "codemirror_mode": {
    "name": "ipython",
    "version": 3
   },
   "file_extension": ".py",
   "mimetype": "text/x-python",
   "name": "python",
   "nbconvert_exporter": "python",
   "pygments_lexer": "ipython3",
   "version": "3.9.13"
  }
 },
 "nbformat": 4,
 "nbformat_minor": 4
}
