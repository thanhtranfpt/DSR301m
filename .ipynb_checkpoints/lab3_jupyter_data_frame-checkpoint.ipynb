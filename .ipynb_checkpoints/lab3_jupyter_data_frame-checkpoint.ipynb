{
 "cells": [
  {
   "cell_type": "markdown",
   "id": "96ddacdc-3af7-48e7-b1a9-1b01f7c66692",
   "metadata": {},
   "source": [
    "<center>\n",
    "<img src=\"https://cf-courses-data.s3.us.cloud-object-storage.appdomain.cloud/IBMDeveloperSkillsNetwork-RP0101EN-Coursera/v2/M1_R_Basics/images/SN_web_lightmode.png\" width=\"300\"> \n",
    "<center/>\n"
   ]
  },
  {
   "cell_type": "markdown",
   "id": "753183cd-736d-43f4-83ef-ba16076afb66",
   "metadata": {},
   "source": [
    "<h1>List and Dataframe</h1>\n",
    "\n",
    "Estimated time needed: **15** minutes\n",
    "\n",
    "## Objectives\n",
    "\n",
    "After completing this lab you will be able to:\n",
    "\n",
    "-   Understand the list and how list correlated with dataframe\n",
    "-   Understand dataframe\n",
    "-   Operate on dataframes\n"
   ]
  },
  {
   "cell_type": "markdown",
   "id": "75f8cbde-ec4a-499c-80b6-74a010f7a8d6",
   "metadata": {},
   "source": [
    "\n",
    "## Table of Contents\n",
    "\n",
    "<div class=\"alert alert-block alert-info\" style=\"margin-top: 20px\">\n",
    "<li><a href=\"#About-the-Dataset\">About the Dataset</a></li>\n",
    "<li><a href=\"#Lists\">Lists</a></li>\n",
    "<li><a href=\"#DataFrames\">Data frames</a></li>\n",
    "</div>\n"
   ]
  },
  {
   "cell_type": "markdown",
   "id": "8af57566-17a7-4aa4-8aae-3db4dd3f06fb",
   "metadata": {},
   "source": [
    "<a id=\"ref0\"></a>\n",
    "<center><h2>About the Dataset</h2></center>\n"
   ]
  },
  {
   "cell_type": "markdown",
   "id": "3b7d7dce-8e57-440e-bf9c-f2b3a44651ac",
   "metadata": {},
   "source": [
    "Imagine you got many movie recomendations from your friends and compiled all of the recomendations in a table, with specific info about each movie.\n",
    "\n",
    "The table has one row for each movie and several columns\n",
    "\n",
    "- **name** - The name of the movie\n",
    "- **year** - The year the movie was released\n",
    "- **length_min** - The lenght of the movie in minutes\n",
    "- **genre** - The genre of the movie\n",
    "- **average_rating** - Average rating on Imdb\n",
    "- **cost_millions** - The movie's production cost in millions\n",
    "- **sequences** - The amount of sequences\n",
    "- **foreign** - Indicative of whether the movie is foreign (1) or domestic (0)\n",
    "- **age_restriction** - The age restriction for the movie\n",
    "<br>\n",
    "<br>\n",
    "\n",
    "Part of the dataset can be seen below\n",
    "\n",
    "<img src=\"https://ibm.box.com/shared/static/6kr8sg0n6pc40zd1xn6hjhtvy3k7cmeq.png\" align=\"center\">\n"
   ]
  },
  {
   "cell_type": "markdown",
   "id": "bd9a511c-cc9b-4dcb-a755-93b3ad0096a8",
   "metadata": {},
   "source": [
    "<hr>\n"
   ]
  },
  {
   "cell_type": "markdown",
   "id": "fd67cb29-017c-4a07-a3ff-8dadb218a984",
   "metadata": {},
   "source": [
    "<a id=\"ref1\"></a>\n",
    "<center><h2>Lists</h2></center>\n",
    "\n",
    "First of all, we're gonna take a look at lists in R. \n",
    "\n",
    "A list is a sequenced collection of different objects of R, like vectors, numbers, characters, other lists and so on. You can consider a list as a container of correlated information, well structured, and easy to read with a context. \n",
    "\n",
    "A list accepts items of different types, but a vector (or a matrix, which is a multidimensional vector) doesn't. To create a list just type __list()__ with your content inside the parenthesis and separated by commas. Let’s try it!\n"
   ]
  },
  {
   "cell_type": "code",
   "execution_count": null,
   "id": "95b9ffef-38f5-4f86-9a13-1acbc349563b",
   "metadata": {},
   "outputs": [],
   "source": [
    "movie <- list(\"Toy Story\", 1995, c(\"Animation\", \"Adventure\", \"Comedy\"))"
   ]
  },
  {
   "cell_type": "markdown",
   "id": "6ffc1899-4538-48a8-8e3d-7febc6e7af13",
   "metadata": {},
   "source": [
    "In the code above, the variable movie contains a list of 3 objects, which are a string, a numeric value, and a vector of strings. \n",
    "\n",
    "Easy, eh? Now let's print the content of the list. We just need to call its name.\n"
   ]
  },
  {
   "cell_type": "code",
   "execution_count": null,
   "id": "156a9ed1-f6a3-4f74-a156-60806229cd06",
   "metadata": {},
   "outputs": [],
   "source": [
    "movie"
   ]
  },
  {
   "cell_type": "markdown",
   "id": "03971c09-2f8e-4141-a6e1-0b16892516bc",
   "metadata": {},
   "source": [
    "### Accessing items in a list\n",
    "It is possible to retrieve only a part of a list using the **single square** bracket operator \"**[ ]**\". This operator can be also used to get a single element in a specific position. Take a look at the next example:\n"
   ]
  },
  {
   "cell_type": "markdown",
   "id": "97eb4adb-ef4e-4be9-81d7-24c0639bf8f6",
   "metadata": {},
   "source": [
    "The index number 2 returns the second element of a list, if that element exists:\n"
   ]
  },
  {
   "cell_type": "code",
   "execution_count": null,
   "id": "1c19ef54-ec6a-4558-bd75-24409631e30f",
   "metadata": {},
   "outputs": [],
   "source": [
    "movie[2]"
   ]
  },
  {
   "cell_type": "markdown",
   "id": "d02e2ef8-5e20-4779-9955-d20e383fe3fd",
   "metadata": {},
   "source": [
    "Or you can select a part or interval of elements of a list. In our next example we are retrieving the 1st, 2nd, and 3rd elements:\n"
   ]
  },
  {
   "cell_type": "code",
   "execution_count": null,
   "id": "15a7a2b8-cc5c-4b05-a758-37b84fb81aa8",
   "metadata": {},
   "outputs": [],
   "source": [
    "movie[2:3]"
   ]
  },
  {
   "cell_type": "markdown",
   "id": "e4634433-a98b-4821-8c2e-e021777b2cc9",
   "metadata": {},
   "source": [
    "It looks a little confusing, but lists can also store names for its elements.\n"
   ]
  },
  {
   "cell_type": "markdown",
   "id": "9ae07019-35a8-40c7-8b82-d689445928d8",
   "metadata": {},
   "source": [
    "### Named lists\n",
    "\n",
    "The following list is a named list:\n"
   ]
  },
  {
   "cell_type": "code",
   "execution_count": null,
   "id": "de679945-799e-4f5c-a258-c41cd6402881",
   "metadata": {},
   "outputs": [],
   "source": [
    "movie <- list(name = \"Toy Story\",\n",
    "             year = 1995,\n",
    "             genre = c(\"Animation\", \"Adventure\", \"Comedy\"))"
   ]
  },
  {
   "cell_type": "markdown",
   "id": "c3525f66-20db-4dfd-802d-ac9ab9341e49",
   "metadata": {},
   "source": [
    "Let me explain that: the list **movie** has some named objects within it. **name**, for example, is an object of type **character**, **year** is an object of type **number**, and **genre** is a vector with objects of type **character**.\n",
    "\n",
    "\n",
    "Now take a look at this list. This time, it's full of information and well organized. It's clear what each element means. You can see that the elements have different types, and that's ok because it's a list.\n"
   ]
  },
  {
   "cell_type": "code",
   "execution_count": null,
   "id": "21e37cd8-9bbc-4118-9c42-282dc312a9cd",
   "metadata": {},
   "outputs": [],
   "source": [
    "movie"
   ]
  },
  {
   "cell_type": "markdown",
   "id": "ead2472d-93f1-4207-8492-79009c8be0ff",
   "metadata": {},
   "source": [
    "You can also get separated information from the list. You can use **listName\\$selectorName**. The _dollar-sign operator_ **$** will give you the block of data that is related to selectorName.\n",
    "\n",
    "Let's get the genre part of our movies list, for example.\n"
   ]
  },
  {
   "cell_type": "code",
   "execution_count": null,
   "id": "43d2fe27-bf4a-4d8f-9197-34ad47d81ce6",
   "metadata": {},
   "outputs": [],
   "source": [
    "movie$genre"
   ]
  },
  {
   "cell_type": "markdown",
   "id": "a7d23966-2454-41d1-8b24-23a60b692dcb",
   "metadata": {},
   "source": [
    "Another way of selecting the genre column:\n"
   ]
  },
  {
   "cell_type": "code",
   "execution_count": null,
   "id": "f5580c77-b8aa-487e-8538-05ade0305750",
   "metadata": {},
   "outputs": [],
   "source": [
    "movie[\"genre\"]"
   ]
  },
  {
   "cell_type": "markdown",
   "id": "f89adeba-5e78-464b-a296-56ffc2b8736d",
   "metadata": {},
   "source": [
    "<hr>\n",
    "\n",
    "**Coding Exercise:** in the code cell below, get the second element in the genre column\n"
   ]
  },
  {
   "cell_type": "code",
   "execution_count": null,
   "id": "0df9d6ca-6d9b-46e7-b581-016af6c5001f",
   "metadata": {},
   "outputs": [],
   "source": [
    "# Write your code below. Don't forget to press Shift+Enter to execute the cell\n"
   ]
  },
  {
   "cell_type": "markdown",
   "id": "bab4f367-edc0-4719-a932-401a12bfae64",
   "metadata": {},
   "source": [
    "<details><summary>Click here for the solution</summary>\n",
    "\n",
    "```R\n",
    "movie$genre[2]\n",
    "\n",
    "```\n",
    "\n",
    "</details>\n",
    "\n",
    "<hr>\n"
   ]
  },
  {
   "cell_type": "markdown",
   "id": "e2f18f25-1555-449f-a288-d3494f8ddef2",
   "metadata": {},
   "source": [
    "You can also use numerical selectors like an array. Here we are selecting elements ranged from 2 to 3.\n"
   ]
  },
  {
   "cell_type": "code",
   "execution_count": null,
   "id": "d8b2f9b6-6e28-436f-a377-91048bc278da",
   "metadata": {},
   "outputs": [],
   "source": [
    "movie[2:3]"
   ]
  },
  {
   "cell_type": "markdown",
   "id": "f66a84b4-3653-4b04-860e-809669f8a069",
   "metadata": {},
   "source": [
    "The function __class()__ returns the type of a object. You can use that function to retrieve the type of specific elements of a list:\n"
   ]
  },
  {
   "cell_type": "code",
   "execution_count": null,
   "id": "74b80946-0c73-49d6-bf1b-d1da1e1c5d6f",
   "metadata": {},
   "outputs": [],
   "source": [
    "class(movie$name)"
   ]
  },
  {
   "cell_type": "markdown",
   "id": "1b936e76-40fa-42d6-88b1-80023d20b001",
   "metadata": {},
   "source": [
    "### Adding, modifying, and removing items\n"
   ]
  },
  {
   "cell_type": "markdown",
   "id": "c68241cf-51d6-4fcf-95b4-36f5adb33db6",
   "metadata": {},
   "source": [
    "Adding a new element is also very easy. The code below adds a new field named **age** and puts the numerical value 5 into it. \n",
    "\n",
    "In this case we use the double square brackets operator, because we are directly referencing a list member (and we want to change its content).\n"
   ]
  },
  {
   "cell_type": "code",
   "execution_count": null,
   "id": "972efb30-8c79-4b0d-ad91-61a316fc1a9b",
   "metadata": {},
   "outputs": [],
   "source": [
    "movie[[\"age\"]] <- 5\n",
    "movie"
   ]
  },
  {
   "cell_type": "markdown",
   "id": "eaeca769-f583-4278-a15f-3797397a5610",
   "metadata": {},
   "source": [
    "In order to modify, you just need to refer a list member that already exists, then change its content.\n"
   ]
  },
  {
   "cell_type": "code",
   "execution_count": null,
   "id": "35b86cf9-4317-4b8b-80ee-ffbbe2fc8ab7",
   "metadata": {},
   "outputs": [],
   "source": [
    "movie[[\"age\"]] <- 6\n",
    "# Now it's 6, not 5\n",
    "movie"
   ]
  },
  {
   "cell_type": "markdown",
   "id": "e2ca31c9-a4a3-4ff7-af80-b78f97d9e0ae",
   "metadata": {},
   "source": [
    "And removing is also easy! You just put **_NULL_**, which means missing value/data, into it.\n"
   ]
  },
  {
   "cell_type": "code",
   "execution_count": null,
   "id": "b65c81b4-25a2-4ee1-9ad5-fd836565d27b",
   "metadata": {},
   "outputs": [],
   "source": [
    "movie[[\"age\"]] <- NULL\n",
    "movie"
   ]
  },
  {
   "cell_type": "markdown",
   "id": "aa8c8126-d7a3-4ac0-8e8e-207d91f43722",
   "metadata": {},
   "source": [
    "**Coding Exercise:** in the code cell below, add a logical column with a name 'WillWatch' with value TRUE or T\n"
   ]
  },
  {
   "cell_type": "code",
   "execution_count": null,
   "id": "d1a6080b-1fc7-4c78-a87f-60abdd69efe9",
   "metadata": {},
   "outputs": [],
   "source": [
    "# Write your code below. Don't forget to press Shift+Enter to execute the cell\n"
   ]
  },
  {
   "cell_type": "markdown",
   "id": "0d277d50-55a6-40ab-b8cd-0b3454742dd8",
   "metadata": {},
   "source": [
    "<details><summary>Click here for the solution</summary>\n",
    "\n",
    "```R\n",
    "movie[[\"WillWatch\"]] <- T\n",
    "movie\n",
    "```\n",
    "\n",
    "</details>\n"
   ]
  },
  {
   "cell_type": "markdown",
   "id": "a46fcabc-6150-48ae-8bc9-5e0eef8101d5",
   "metadata": {},
   "source": [
    "### Concatenating lists\n",
    "\n",
    "Concatenation is the proccess of puting things together, in sequence. And yes, you can do it with lists. Just call the function **_c()_**. Take a look at the next example:\n"
   ]
  },
  {
   "cell_type": "code",
   "execution_count": null,
   "id": "f3d1d03a-a18b-40f1-be3a-b4451d7f9edc",
   "metadata": {},
   "outputs": [],
   "source": [
    "# We split our previous list in two sublists\n",
    "movie_part1 <- list(name = \"Toy Story\")\n",
    "movie_part2 <- list(year = 1995, genre = c(\"Animation\", \"Adventure\", \"Comedy\"))\n",
    "\n",
    "# Now we call the function c() to put everything together again\n",
    "movie_concatenated <- c(movie_part1, movie_part2)\n",
    "\n",
    "# Check it out\n",
    "movie_concatenated"
   ]
  },
  {
   "cell_type": "markdown",
   "id": "5f132a79-ca45-404d-985a-c093bf6253bf",
   "metadata": {},
   "source": [
    "Lists are really handy for organizing different types of elements in R, and also easy to use. \n",
    "\n",
    "Additionally, lists are also important since this type of data structure is essential to create data frames, our next covered topic.\n"
   ]
  },
  {
   "cell_type": "markdown",
   "id": "33dfa956-539e-4618-9247-b9dd2d47fbcc",
   "metadata": {},
   "source": [
    "<hr>\n"
   ]
  },
  {
   "cell_type": "markdown",
   "id": "2ce3f429-3d9a-4591-bccf-9f898af7df98",
   "metadata": {},
   "source": [
    "<a id=\"ref2\"></a>\n",
    "<center><h2>DataFrames</h2></center>\n"
   ]
  },
  {
   "cell_type": "markdown",
   "id": "3e3983d0-c9c1-410b-ae5b-d557a3edd767",
   "metadata": {},
   "source": [
    "A DataFrame is a structure that is used for storing data tables. Underneath it all, a data frame is a list of vectors of same length, exactly like a table (each vector is a column). \n",
    "\n",
    "We can use the function  __data.frame()__ to create a data frame and pass vector, which are our columns, as arguments. It is required to name the columns that will compose the data frame.\n"
   ]
  },
  {
   "cell_type": "code",
   "execution_count": null,
   "id": "1f753381-a6cf-4eac-abfb-9ed04479e389",
   "metadata": {},
   "outputs": [],
   "source": [
    "movies <- data.frame(name = c(\"Toy Story\", \"Akira\", \"The Breakfast Club\", \"The Artist\",\n",
    "                              \"Modern Times\", \"Fight Club\", \"City of God\", \"The Untouchables\"),\n",
    "                    year = c(1995, 1998, 1985, 2011, 1936, 1999, 2002, 1987),\n",
    "                    stringsAsFactors=F)"
   ]
  },
  {
   "cell_type": "markdown",
   "id": "aeadab66-080b-459e-8e03-9d0006f5fed2",
   "metadata": {},
   "source": [
    "Let's print its content of our recently created data frame:\n"
   ]
  },
  {
   "cell_type": "code",
   "execution_count": null,
   "id": "0885de36-49ae-4ec4-8462-103b076eadf3",
   "metadata": {},
   "outputs": [],
   "source": [
    "movies"
   ]
  },
  {
   "cell_type": "markdown",
   "id": "317f5e5e-077b-40fb-8ea7-cff39e64667a",
   "metadata": {},
   "source": [
    "It's very easy! You can note how it looks like a table.\n",
    "\n",
    "We can also use the __\"$\"__ selector to get some type of information. This operator returns the content of a specific column of a data frame (that's why we have to choose a name for each column).\n"
   ]
  },
  {
   "cell_type": "code",
   "execution_count": null,
   "id": "839fc382-e53c-42ac-94d4-67284465ee72",
   "metadata": {},
   "outputs": [],
   "source": [
    "movies$name"
   ]
  },
  {
   "cell_type": "markdown",
   "id": "4ee61c9b-189b-4438-9203-e372d4bc0165",
   "metadata": {},
   "source": [
    "You retrieve data using numeric indexing, like in lists:\n"
   ]
  },
  {
   "cell_type": "code",
   "execution_count": null,
   "id": "e9075be8-d76a-4df2-9475-eee9c47a3bcb",
   "metadata": {},
   "outputs": [],
   "source": [
    "# This returns the first (1st) column\n",
    "movies[1]"
   ]
  },
  {
   "cell_type": "markdown",
   "id": "7c7dbbe8-a480-4984-83d1-03d223903f75",
   "metadata": {},
   "source": [
    "<hr>\n",
    "\n",
    "**Coding Exercise:** in the code cell below, select the first row of movies data frame\n"
   ]
  },
  {
   "cell_type": "code",
   "execution_count": null,
   "id": "27c5015f-1e51-405f-9bc7-f14b5e148249",
   "metadata": {},
   "outputs": [],
   "source": [
    "# Write your code below. Don't forget to press Shift+Enter to execute the cell\n"
   ]
  },
  {
   "cell_type": "markdown",
   "id": "db131866-5f11-4b89-b56a-f852a1f42f9e",
   "metadata": {},
   "source": [
    "<details><summary>Click here for the solution</summary>\n",
    "\n",
    "```R\n",
    "movies[1, ]\n",
    "\n",
    "```\n",
    "\n",
    "</details>\n",
    "\n",
    "<hr>\n"
   ]
  },
  {
   "cell_type": "markdown",
   "id": "05350bee-bb6b-4350-b3ab-9e71bb7f7e8a",
   "metadata": {},
   "source": [
    "\n",
    "**Coding Exercise:** in the code cell below, select the first and second rows but only with first column selected from the movies data frame\n"
   ]
  },
  {
   "cell_type": "code",
   "execution_count": null,
   "id": "f7b967b3-b3f1-42bb-80be-29e7de8d5f2e",
   "metadata": {},
   "outputs": [],
   "source": [
    "# Write your code below. Don't forget to press Shift+Enter to execute the cell\n"
   ]
  },
  {
   "cell_type": "markdown",
   "id": "cf1516eb-bbe7-4ffb-8166-3012d7131c8c",
   "metadata": {},
   "source": [
    "<details><summary>Click here for the solution</summary>\n",
    "\n",
    "```R\n",
    "movies[1:2, 1]\n",
    "\n",
    "```\n",
    "\n",
    "</details>\n",
    "\n",
    "<hr>\n"
   ]
  },
  {
   "cell_type": "markdown",
   "id": "163c7e19-df00-4bf2-be44-be218d449423",
   "metadata": {},
   "source": [
    "The function called __str()__ is one of most useful functions in R. With this function you can obtain textual information about an object. In this case,  it delivers information about the objects whitin a data frame. Let's see what it returns:\n"
   ]
  },
  {
   "cell_type": "code",
   "execution_count": null,
   "id": "774550f7-bd82-4b72-bada-9de6a37bbfeb",
   "metadata": {},
   "outputs": [],
   "source": [
    "str(movies)"
   ]
  },
  {
   "cell_type": "markdown",
   "id": "e60b3d52-65d8-468a-83ac-69337002dedd",
   "metadata": {},
   "source": [
    "It shows this data frame has 8 observations, for 2 columns, so called __name__ and __year__. The \"name\" column is a factor with 8 levels and \"year\" is a numerical column. \n"
   ]
  },
  {
   "cell_type": "markdown",
   "id": "00812d46-4a6d-4a02-bf47-b752599f5982",
   "metadata": {},
   "source": [
    "The class() function works for data frames as well. You can use it to determine the type of a column of a data frame.\n"
   ]
  },
  {
   "cell_type": "code",
   "execution_count": null,
   "id": "cf0a6792-1ca3-45a7-b5e6-0a514da397a2",
   "metadata": {},
   "outputs": [],
   "source": [
    "class(movies$year)"
   ]
  },
  {
   "cell_type": "markdown",
   "id": "e207d7cd-b992-4f39-893d-4668d20e059c",
   "metadata": {},
   "source": [
    "You can use numerical selectors to reach information inside the table.\n"
   ]
  },
  {
   "cell_type": "code",
   "execution_count": null,
   "id": "1eb8cff8-5d2d-4139-a2be-862ab3ef3173",
   "metadata": {},
   "outputs": [],
   "source": [
    "movies[1,2] #1-Toy Story, 2-1995"
   ]
  },
  {
   "cell_type": "markdown",
   "id": "9e4436d2-907b-4bd9-9e71-a9165e4d65a3",
   "metadata": {},
   "source": [
    "The **_head()_** function is very useful when you have a large table and you need to take a peek at the first elements. This function returns the first 6 values of a data frame (or event a list).\n"
   ]
  },
  {
   "cell_type": "code",
   "execution_count": null,
   "id": "e4bdcf5e-d257-445c-81da-09d0c3c505d4",
   "metadata": {},
   "outputs": [],
   "source": [
    "head(movies)"
   ]
  },
  {
   "cell_type": "markdown",
   "id": "ec4a416a-5ccc-443b-be4f-1faa5141166e",
   "metadata": {},
   "source": [
    "Similar to the previous function, **_tail()_** returns the last 6 values of a data frame or list.\n"
   ]
  },
  {
   "cell_type": "code",
   "execution_count": null,
   "id": "c9bcdf89-e608-4978-91d7-b86c51c5a05b",
   "metadata": {},
   "outputs": [],
   "source": [
    "tail(movies)"
   ]
  },
  {
   "cell_type": "markdown",
   "id": "bd3b0e7b-a0ee-4b41-9e1c-83d95d3b85ec",
   "metadata": {},
   "source": [
    "Now, let's try to get the row with name \"Toy Story\"\n"
   ]
  },
  {
   "cell_type": "code",
   "execution_count": null,
   "id": "e665fc05-0f2e-49c9-a505-353185779a35",
   "metadata": {},
   "outputs": [],
   "source": [
    "# Find the rows with name \"Toy Story\"\n",
    "selected <- movies[\"name\"] == \"Toy Story\"\n",
    "# Get the selected row(s) with 'name' and 'year' columns\n",
    "toy_story <- movies[selected, c(\"name\", \"year\")]\n",
    "toy_story"
   ]
  },
  {
   "cell_type": "markdown",
   "id": "c05899e8-ba83-4c4f-9c8d-c20703ac803b",
   "metadata": {},
   "source": [
    "Now let's try to add a new column to our data frame with the length of each movie in minutes.\n"
   ]
  },
  {
   "cell_type": "code",
   "execution_count": null,
   "id": "8641bd73-d72d-4d5b-86cc-9f14b1f8fdd5",
   "metadata": {},
   "outputs": [],
   "source": [
    "movies['length'] <- c(81, 125, 97, 100, 87, 139, 130, 119)\n",
    "movies"
   ]
  },
  {
   "cell_type": "markdown",
   "id": "4d9b1a9f-c2fc-43a1-bbdf-946d6f272bd9",
   "metadata": {},
   "source": [
    "A new column was included into our data frame with just one line of code. We just needed to add a vector to data frame, then it will be our new column.\n"
   ]
  },
  {
   "cell_type": "markdown",
   "id": "eb516c17-a236-45d8-99ec-598e2eb9bcc9",
   "metadata": {},
   "source": [
    "Now let's try to add a new movie to our data set.\n"
   ]
  },
  {
   "cell_type": "code",
   "execution_count": null,
   "id": "1b054373-5b03-47d8-98d5-103fc6ee34ba",
   "metadata": {},
   "outputs": [],
   "source": [
    "movies <- rbind(movies, c(name=\"Dr. Strangelove\", year=1964, length=94))\n",
    "movies"
   ]
  },
  {
   "cell_type": "markdown",
   "id": "22062e2a-214d-4f78-bd38-af13f7f1a162",
   "metadata": {},
   "source": [
    "Remember, you can't add a list with more variables than the data frame, and vice-versa.\n"
   ]
  },
  {
   "cell_type": "markdown",
   "id": "325e69f8-3fb7-486d-b8e3-c0d64eda6cf4",
   "metadata": {},
   "source": [
    "We don't need this movie anymore, so let's delete it. Here we are deleting row 12 by assigning to itself the movies dataframe without the 12th row.\n"
   ]
  },
  {
   "cell_type": "code",
   "execution_count": null,
   "id": "2034295a-224d-4f35-b34d-0aba740181d9",
   "metadata": {},
   "outputs": [],
   "source": [
    "movies <- movies[-12,]\n",
    "movies"
   ]
  },
  {
   "cell_type": "markdown",
   "id": "8e48ef1a-3120-4d16-abc0-fe5d6aa31010",
   "metadata": {},
   "source": [
    "To delete a column you can just set it as **_NULL_**.\n"
   ]
  },
  {
   "cell_type": "code",
   "execution_count": null,
   "id": "29f12948-0a2e-490c-b14a-29adf3d9d293",
   "metadata": {},
   "outputs": [],
   "source": [
    "movies[[\"length\"]] <- NULL\n",
    "movies"
   ]
  },
  {
   "cell_type": "markdown",
   "id": "3725a29e-5778-4d44-a2d5-fc3fa01471f7",
   "metadata": {},
   "source": [
    "That is it! You learned a lot about data frames and how easy it is to work with them. \n"
   ]
  },
  {
   "cell_type": "markdown",
   "id": "b8f79e9f-a8a7-49ea-81d1-1f8af73c72ed",
   "metadata": {},
   "source": [
    "<hr>\n"
   ]
  },
  {
   "cell_type": "markdown",
   "id": "241eb28b-5da6-4665-9554-6a96f2dddd6b",
   "metadata": {},
   "source": [
    "#### Scaling R with big data\n",
    "\n",
    "As you learn more about R, if you are interested in exploring platforms that can help you run analyses at scale, you might want to sign up for a free account on [IBM Watson Studio](http://cocl.us/dsx_rp0101en), which allows you to run analyses in R with two Spark executors for free.\n"
   ]
  },
  {
   "cell_type": "markdown",
   "id": "814e7970-e455-4487-b662-e053bb123998",
   "metadata": {},
   "source": [
    "---\n"
   ]
  },
  {
   "cell_type": "markdown",
   "id": "6aac737d-a29f-44ca-a96b-333098894c2c",
   "metadata": {},
   "source": [
    "## Authors\n",
    "Hi! It's [Thiago Felipe Correa Borges](https://www.linkedin.com/in/thiago-felipe-corr%C3%AAa-borges-a932bb114?utm_medium=Exinfluencer&utm_source=Exinfluencer&utm_content=000026UJ&utm_term=10006555&utm_id=NA-SkillsNetwork-Channel-SkillsNetworkCoursesIBMDeveloperSkillsNetworkRP0101ENCoursera889-2022-01-01&trk=nav_responsive_tab_profile), the author of this notebook. I hope you found R easy to learn! There's lots more to learn about R but you're well on your way. Feel free to connect with me if you have any questions.\n"
   ]
  },
  {
   "cell_type": "markdown",
   "id": "16d7e8fd-98a9-49b8-b66e-6b5653659a64",
   "metadata": {},
   "source": [
    "### Other Contributors\n",
    "\n",
    "<a href=\"https://www.linkedin.com/in/yan-luo-96288783/?utm_medium=Exinfluencer&utm_source=Exinfluencer&utm_content=000026UJ&utm_term=10006555&utm_id=NA-SkillsNetwork-Channel-SkillsNetworkCoursesIBMDeveloperSkillsNetworkRP0101ENCoursera889-2022-01-01\">Yan Luo</a>\n"
   ]
  },
  {
   "cell_type": "markdown",
   "id": "82b6a7b7-d93c-4973-93e6-005d9f0f97d1",
   "metadata": {},
   "source": [
    "## Change Log\n",
    "\n",
    "| Date (YYYY-MM-DD) | Version | Changed By | Change Description           |\n",
    "| ----------------- | ------- | ---------- | ---------------------------- |\n",
    "| 2021-03-03        | 2.0     | Yan        | Added coding tasks           |\n",
    "|                   |         |            |                              |\n",
    "|                   |         |            |                              |\n",
    "\n",
    "## <h3 align=\"center\"> © IBM Corporation 2021. All rights reserved. <h3/>\n"
   ]
  }
 ],
 "metadata": {
  "kernelspec": {
   "display_name": "Python 3 (ipykernel)",
   "language": "python",
   "name": "python3"
  },
  "language_info": {
   "codemirror_mode": {
    "name": "ipython",
    "version": 3
   },
   "file_extension": ".py",
   "mimetype": "text/x-python",
   "name": "python",
   "nbconvert_exporter": "python",
   "pygments_lexer": "ipython3",
   "version": "3.9.13"
  }
 },
 "nbformat": 4,
 "nbformat_minor": 4
}
