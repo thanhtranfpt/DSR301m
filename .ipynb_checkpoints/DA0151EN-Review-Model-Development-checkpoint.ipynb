{
 "cells": [
  {
   "cell_type": "markdown",
   "id": "720dc61a-bead-4093-8a27-8d8031616977",
   "metadata": {},
   "source": [
    "<center><img src=\"https://cf-courses-data.s3.us.cloud-object-storage.appdomain.cloud/assets/logos/SN_web_lightmode.png\" width=\"300\"></center>\n"
   ]
  },
  {
   "cell_type": "markdown",
   "id": "76c4fbe3-a998-4580-9e20-a6de5efb6cb5",
   "metadata": {},
   "source": [
    "# Model Development with Tidyverse\n",
    "\n",
    "Estimated Time Needed: **45 min**\n"
   ]
  },
  {
   "cell_type": "markdown",
   "id": "7810a297-5c68-4686-b8bc-b2a970a19cca",
   "metadata": {},
   "source": [
    "<h3>Welcome!</h3>\n",
    "<p>In this section, we will examine model development by trying to predict the arrival delay of a flight using our dataset. </p>\n",
    "    \n",
    "<p>A model or estimator can be thought of as a mathematical equation used to predict a value given one or more other values. Relating one or more independent variables or features to dependent variables. </p>\n",
    "    \n",
    "<p>For example, you input a flight’s departure delay as the independent variable or feature, the output of the model or dependent variable is the arrival delay. Usually the more relevant data you have the more accurate your model is.</p>\n"
   ]
  },
  {
   "cell_type": "markdown",
   "id": "cb52aabc-23fa-4363-80f8-c9b5e58735bd",
   "metadata": {},
   "source": [
    "<p>In data analysis, we often use <b>Model Development</b> to help us predict future observations from the data we have.</p>\n",
    "\n",
    "<p>A Model will help us understand the exact relationship between different variables and how these variables are used to predict the result.</p>\n",
    "\n",
    "<p>In this lab you will learn about:</p>\n",
    "\n",
    "- Simple Linear Regression\n",
    "\n",
    "- Multiple Linear Regression\n",
    "\n",
    "- Polynomial Regression\n"
   ]
  },
  {
   "cell_type": "markdown",
   "id": "5b573b85-e161-4317-b1f1-b66f997a33ec",
   "metadata": {},
   "source": [
    "## Table of Contents\n",
    "\n",
    "* [1. Simple Linear Regression](#slr)   \n",
    "* [2. Multiple Linear Regression](#mlr)\n",
    "* [3. Assessing the Model Visually](#assess_vis)\n",
    "* [4. Polynomial Regression](#poly_reg)\n",
    "* [5. Assessing the Model](#assess)\n",
    "* [6. Prediction and Decision Making](#pred)\n"
   ]
  },
  {
   "cell_type": "markdown",
   "id": "f107dab6-16de-4548-b31c-7f8c18478fa1",
   "metadata": {},
   "source": [
    "<a class=\"anchor\" id=\"import_data\"></a>\n",
    "## Load Libraries and Data\n"
   ]
  },
  {
   "cell_type": "markdown",
   "id": "3b2b8ff1-7d66-4500-9559-2bc270212750",
   "metadata": {},
   "source": [
    "First, load the tidyverse library.\n"
   ]
  },
  {
   "cell_type": "code",
   "execution_count": 1,
   "id": "e13f33c5-1389-4c34-92f5-b7437f56b1d4",
   "metadata": {},
   "outputs": [
    {
     "name": "stderr",
     "output_type": "stream",
     "text": [
      "Warning message:\n",
      "\"package 'tidyverse' was built under R version 4.2.3\"\n",
      "Warning message:\n",
      "\"package 'ggplot2' was built under R version 4.2.3\"\n",
      "Warning message:\n",
      "\"package 'tibble' was built under R version 4.2.3\"\n",
      "Warning message:\n",
      "\"package 'tidyr' was built under R version 4.2.3\"\n",
      "Warning message:\n",
      "\"package 'readr' was built under R version 4.2.3\"\n",
      "Warning message:\n",
      "\"package 'purrr' was built under R version 4.2.3\"\n",
      "Warning message:\n",
      "\"package 'dplyr' was built under R version 4.2.3\"\n",
      "Warning message:\n",
      "\"package 'stringr' was built under R version 4.2.3\"\n",
      "Warning message:\n",
      "\"package 'forcats' was built under R version 4.2.3\"\n",
      "Warning message:\n",
      "\"package 'lubridate' was built under R version 4.2.3\"\n",
      "── \u001b[1mAttaching core tidyverse packages\u001b[22m ──────────────────────────────────────────────────────────────── tidyverse 2.0.0 ──\n",
      "\u001b[32m✔\u001b[39m \u001b[34mdplyr    \u001b[39m 1.1.2     \u001b[32m✔\u001b[39m \u001b[34mreadr    \u001b[39m 2.1.4\n",
      "\u001b[32m✔\u001b[39m \u001b[34mforcats  \u001b[39m 1.0.0     \u001b[32m✔\u001b[39m \u001b[34mstringr  \u001b[39m 1.5.0\n",
      "\u001b[32m✔\u001b[39m \u001b[34mggplot2  \u001b[39m 3.4.2     \u001b[32m✔\u001b[39m \u001b[34mtibble   \u001b[39m 3.2.1\n",
      "\u001b[32m✔\u001b[39m \u001b[34mlubridate\u001b[39m 1.9.2     \u001b[32m✔\u001b[39m \u001b[34mtidyr    \u001b[39m 1.3.0\n",
      "\u001b[32m✔\u001b[39m \u001b[34mpurrr    \u001b[39m 1.0.1     \n",
      "── \u001b[1mConflicts\u001b[22m ────────────────────────────────────────────────────────────────────────────────── tidyverse_conflicts() ──\n",
      "\u001b[31m✖\u001b[39m \u001b[34mdplyr\u001b[39m::\u001b[32mfilter()\u001b[39m masks \u001b[34mstats\u001b[39m::filter()\n",
      "\u001b[31m✖\u001b[39m \u001b[34mdplyr\u001b[39m::\u001b[32mlag()\u001b[39m    masks \u001b[34mstats\u001b[39m::lag()\n",
      "\u001b[36mℹ\u001b[39m Use the conflicted package (\u001b[3m\u001b[34m<http://conflicted.r-lib.org/>\u001b[39m\u001b[23m) to force all conflicts to become errors\n"
     ]
    }
   ],
   "source": [
    "# Load tidyverse\n",
    "library(tidyverse)"
   ]
  },
  {
   "cell_type": "markdown",
   "id": "03b7611b-5db0-4b88-9a05-59ec862b7d89",
   "metadata": {},
   "source": [
    "The original Airline dataset is hosted on <a href=\"https://developer.ibm.com/exchanges/data/all/airline/?utm_medium=Exinfluencer&utm_source=Exinfluencer&utm_content=000026UJ&utm_term=10006555&utm_id=NA-SkillsNetwork-Channel-SkillsNetworkCoursesIBMDA0151ENSkillsNetwork926-2022-01-01\">IBM Data Asset eXchange</a>. This sample dataset can be found <a href=\"https://dax-cdn.cdn.appdomain.cloud/dax-airline/1.0.1/lax_to_jfk.tar.gz\">here</a>. \n",
    "\n",
    "Now using the subset dataset link, you can load it and store as a dataframe `sub_airline`:\n"
   ]
  },
  {
   "cell_type": "code",
   "execution_count": null,
   "id": "ddf29858-5e5a-401a-97a2-40c06c859a75",
   "metadata": {},
   "outputs": [],
   "source": [
    "# url where the data is located\n",
    "url <- \"https://dax-cdn.cdn.appdomain.cloud/dax-airline/1.0.1/lax_to_jfk.tar.gz\"\n",
    "\n",
    "# download the file\n",
    "download.file(url, destfile = \"lax_to_jfk.tar.gz\")\n",
    "\n",
    "# if you run this on your local machine, then can remove tar = \"internal\" \n",
    "untar(\"lax_to_jfk.tar.gz\", tar = \"internal\")\n",
    "\n",
    "# read_csv only \n",
    "sub_airline <- read_csv(\"lax_to_jfk/lax_to_jfk.csv\",\n",
    "                     col_types = cols('DivDistance' = col_number(), \n",
    "                                      'DivArrDelay' = col_number()))"
   ]
  },
  {
   "cell_type": "code",
   "execution_count": 2,
   "metadata": {},
   "outputs": [],
   "source": [
    "\n",
    "# read_csv only \n",
    "sub_airline <- read_csv(\"lax_to_jfk/lax_to_jfk.csv\",\n",
    "                     col_types = cols('DivDistance' = col_number(), \n",
    "                                      'DivArrDelay' = col_number()))"
   ]
  },
  {
   "cell_type": "markdown",
   "id": "ed2ae797-f615-4e08-b2dd-b909cc3357bb",
   "metadata": {},
   "source": [
    "<a class=\"anchor\" id=\"slr\"></a>\n",
    "## 1. Simple Linear Regression\n"
   ]
  },
  {
   "cell_type": "markdown",
   "id": "a6d7a15e-49c3-4a30-a309-8a69e1429be4",
   "metadata": {},
   "source": [
    "\n",
    "One example of a Data  Model that we will be using is **Simple Linear Regression**.\n",
    "\n",
    "<p>Simple Linear Regression is a method to help us understand the relationship between two variables:</p>\n",
    "<ul>\n",
    "    <li> $X$: The predictor/independent variable</li>\n",
    "    <li> $Y$: The response/dependent variable (that we want to predict)</li>\n",
    "</ul>\n",
    "\n",
    "<p>The result of Linear Regression is a <b>linear function</b> that predicts the response (dependent) variable as a function of the predictor (independent) variable.</p>\n",
    "\n"
   ]
  },
  {
   "cell_type": "markdown",
   "id": "b5d19535-9e5b-4634-a5fb-39cbb959d3f5",
   "metadata": {},
   "source": [
    "**Linear Model Function:**\n",
    "$$\n",
    "\\hat{Y} = b_0 + b_1  X\n",
    "$$\n"
   ]
  },
  {
   "cell_type": "markdown",
   "id": "0030f82a-1a54-4539-a96c-f3ebc054df37",
   "metadata": {},
   "source": [
    "<ul>\n",
    "    <li>$b_0$ refers to the <b>intercept</b> of the regression line, in other words: the value of Y when X is 0</li>\n",
    "    <li>$b_1$ refers to the <b>slope</b> of the regression line, in other words: the value with which Y changes when X increases by 1 unit</li>\n",
    "    <li>$\\hat{Y}$ (y-hat) is the predicted value from the linear model</li>\n",
    "</ul>\n"
   ]
  },
  {
   "cell_type": "markdown",
   "id": "6865302b-e56c-48e4-b498-d3fcb47c7ac1",
   "metadata": {},
   "source": [
    "<h4>Fit the data into a linear regression model</h4>\n",
    "\n",
    "First, let's just look at just Alaska Airline (AA) data, so filter the data first. We also filter out the NAs in CarrierDelay because you will use that variable later.\n"
   ]
  },
  {
   "cell_type": "code",
   "execution_count": 3,
   "id": "71e64278-7c66-4610-bd26-e7bb885de3a5",
   "metadata": {},
   "outputs": [
    {
     "data": {
      "text/html": [
       "<table class=\"dataframe\">\n",
       "<caption>A tibble: 6 × 21</caption>\n",
       "<thead>\n",
       "\t<tr><th scope=col>Month</th><th scope=col>DayOfWeek</th><th scope=col>FlightDate</th><th scope=col>Reporting_Airline</th><th scope=col>Origin</th><th scope=col>Dest</th><th scope=col>CRSDepTime</th><th scope=col>CRSArrTime</th><th scope=col>DepTime</th><th scope=col>ArrTime</th><th scope=col>⋯</th><th scope=col>ArrDelayMinutes</th><th scope=col>CarrierDelay</th><th scope=col>WeatherDelay</th><th scope=col>NASDelay</th><th scope=col>SecurityDelay</th><th scope=col>LateAircraftDelay</th><th scope=col>DepDelay</th><th scope=col>DepDelayMinutes</th><th scope=col>DivDistance</th><th scope=col>DivArrDelay</th></tr>\n",
       "\t<tr><th scope=col>&lt;dbl&gt;</th><th scope=col>&lt;dbl&gt;</th><th scope=col>&lt;date&gt;</th><th scope=col>&lt;chr&gt;</th><th scope=col>&lt;chr&gt;</th><th scope=col>&lt;chr&gt;</th><th scope=col>&lt;chr&gt;</th><th scope=col>&lt;chr&gt;</th><th scope=col>&lt;chr&gt;</th><th scope=col>&lt;chr&gt;</th><th scope=col>⋯</th><th scope=col>&lt;dbl&gt;</th><th scope=col>&lt;dbl&gt;</th><th scope=col>&lt;dbl&gt;</th><th scope=col>&lt;dbl&gt;</th><th scope=col>&lt;dbl&gt;</th><th scope=col>&lt;dbl&gt;</th><th scope=col>&lt;dbl&gt;</th><th scope=col>&lt;dbl&gt;</th><th scope=col>&lt;dbl&gt;</th><th scope=col>&lt;dbl&gt;</th></tr>\n",
       "</thead>\n",
       "<tbody>\n",
       "\t<tr><td> 6</td><td>4</td><td>2006-06-01</td><td>AA</td><td>LAX</td><td>JFK</td><td>1515</td><td>2332</td><td>1507</td><td>2353</td><td>⋯</td><td>21</td><td>0</td><td>0</td><td>21</td><td>0</td><td> 0</td><td>-8</td><td> 0</td><td>NA</td><td>NA</td></tr>\n",
       "\t<tr><td> 6</td><td>5</td><td>2013-06-28</td><td>AA</td><td>LAX</td><td>JFK</td><td>1200</td><td>2045</td><td>1328</td><td>2220</td><td>⋯</td><td>95</td><td>5</td><td>0</td><td> 7</td><td>0</td><td>83</td><td>88</td><td>88</td><td>NA</td><td>NA</td></tr>\n",
       "\t<tr><td>10</td><td>3</td><td>2005-10-12</td><td>AA</td><td>LAX</td><td>JFK</td><td>0930</td><td>1755</td><td>0958</td><td>1823</td><td>⋯</td><td>28</td><td>0</td><td>0</td><td>28</td><td>0</td><td> 0</td><td>28</td><td>28</td><td>NA</td><td>NA</td></tr>\n",
       "\t<tr><td> 4</td><td>6</td><td>2011-04-23</td><td>AA</td><td>LAX</td><td>JFK</td><td>0925</td><td>1800</td><td>1040</td><td>1850</td><td>⋯</td><td>50</td><td>0</td><td>0</td><td>50</td><td>0</td><td> 0</td><td>75</td><td>75</td><td>NA</td><td>NA</td></tr>\n",
       "\t<tr><td> 8</td><td>7</td><td>2011-08-14</td><td>AA</td><td>LAX</td><td>JFK</td><td>1100</td><td>1945</td><td>1200</td><td>2042</td><td>⋯</td><td>57</td><td>0</td><td>0</td><td>57</td><td>0</td><td> 0</td><td>60</td><td>60</td><td>NA</td><td>NA</td></tr>\n",
       "\t<tr><td> 2</td><td>5</td><td>2004-02-06</td><td>AA</td><td>LAX</td><td>JFK</td><td>1500</td><td>2306</td><td>1607</td><td>2348</td><td>⋯</td><td>42</td><td>0</td><td>0</td><td> 0</td><td>0</td><td>42</td><td>67</td><td>67</td><td>NA</td><td>NA</td></tr>\n",
       "</tbody>\n",
       "</table>\n"
      ],
      "text/latex": [
       "A tibble: 6 × 21\n",
       "\\begin{tabular}{lllllllllllllllllllll}\n",
       " Month & DayOfWeek & FlightDate & Reporting\\_Airline & Origin & Dest & CRSDepTime & CRSArrTime & DepTime & ArrTime & ⋯ & ArrDelayMinutes & CarrierDelay & WeatherDelay & NASDelay & SecurityDelay & LateAircraftDelay & DepDelay & DepDelayMinutes & DivDistance & DivArrDelay\\\\\n",
       " <dbl> & <dbl> & <date> & <chr> & <chr> & <chr> & <chr> & <chr> & <chr> & <chr> & ⋯ & <dbl> & <dbl> & <dbl> & <dbl> & <dbl> & <dbl> & <dbl> & <dbl> & <dbl> & <dbl>\\\\\n",
       "\\hline\n",
       "\t  6 & 4 & 2006-06-01 & AA & LAX & JFK & 1515 & 2332 & 1507 & 2353 & ⋯ & 21 & 0 & 0 & 21 & 0 &  0 & -8 &  0 & NA & NA\\\\\n",
       "\t  6 & 5 & 2013-06-28 & AA & LAX & JFK & 1200 & 2045 & 1328 & 2220 & ⋯ & 95 & 5 & 0 &  7 & 0 & 83 & 88 & 88 & NA & NA\\\\\n",
       "\t 10 & 3 & 2005-10-12 & AA & LAX & JFK & 0930 & 1755 & 0958 & 1823 & ⋯ & 28 & 0 & 0 & 28 & 0 &  0 & 28 & 28 & NA & NA\\\\\n",
       "\t  4 & 6 & 2011-04-23 & AA & LAX & JFK & 0925 & 1800 & 1040 & 1850 & ⋯ & 50 & 0 & 0 & 50 & 0 &  0 & 75 & 75 & NA & NA\\\\\n",
       "\t  8 & 7 & 2011-08-14 & AA & LAX & JFK & 1100 & 1945 & 1200 & 2042 & ⋯ & 57 & 0 & 0 & 57 & 0 &  0 & 60 & 60 & NA & NA\\\\\n",
       "\t  2 & 5 & 2004-02-06 & AA & LAX & JFK & 1500 & 2306 & 1607 & 2348 & ⋯ & 42 & 0 & 0 &  0 & 0 & 42 & 67 & 67 & NA & NA\\\\\n",
       "\\end{tabular}\n"
      ],
      "text/markdown": [
       "\n",
       "A tibble: 6 × 21\n",
       "\n",
       "| Month &lt;dbl&gt; | DayOfWeek &lt;dbl&gt; | FlightDate &lt;date&gt; | Reporting_Airline &lt;chr&gt; | Origin &lt;chr&gt; | Dest &lt;chr&gt; | CRSDepTime &lt;chr&gt; | CRSArrTime &lt;chr&gt; | DepTime &lt;chr&gt; | ArrTime &lt;chr&gt; | ⋯ ⋯ | ArrDelayMinutes &lt;dbl&gt; | CarrierDelay &lt;dbl&gt; | WeatherDelay &lt;dbl&gt; | NASDelay &lt;dbl&gt; | SecurityDelay &lt;dbl&gt; | LateAircraftDelay &lt;dbl&gt; | DepDelay &lt;dbl&gt; | DepDelayMinutes &lt;dbl&gt; | DivDistance &lt;dbl&gt; | DivArrDelay &lt;dbl&gt; |\n",
       "|---|---|---|---|---|---|---|---|---|---|---|---|---|---|---|---|---|---|---|---|---|\n",
       "|  6 | 4 | 2006-06-01 | AA | LAX | JFK | 1515 | 2332 | 1507 | 2353 | ⋯ | 21 | 0 | 0 | 21 | 0 |  0 | -8 |  0 | NA | NA |\n",
       "|  6 | 5 | 2013-06-28 | AA | LAX | JFK | 1200 | 2045 | 1328 | 2220 | ⋯ | 95 | 5 | 0 |  7 | 0 | 83 | 88 | 88 | NA | NA |\n",
       "| 10 | 3 | 2005-10-12 | AA | LAX | JFK | 0930 | 1755 | 0958 | 1823 | ⋯ | 28 | 0 | 0 | 28 | 0 |  0 | 28 | 28 | NA | NA |\n",
       "|  4 | 6 | 2011-04-23 | AA | LAX | JFK | 0925 | 1800 | 1040 | 1850 | ⋯ | 50 | 0 | 0 | 50 | 0 |  0 | 75 | 75 | NA | NA |\n",
       "|  8 | 7 | 2011-08-14 | AA | LAX | JFK | 1100 | 1945 | 1200 | 2042 | ⋯ | 57 | 0 | 0 | 57 | 0 |  0 | 60 | 60 | NA | NA |\n",
       "|  2 | 5 | 2004-02-06 | AA | LAX | JFK | 1500 | 2306 | 1607 | 2348 | ⋯ | 42 | 0 | 0 |  0 | 0 | 42 | 67 | 67 | NA | NA |\n",
       "\n"
      ],
      "text/plain": [
       "  Month DayOfWeek FlightDate Reporting_Airline Origin Dest CRSDepTime\n",
       "1  6    4         2006-06-01 AA                LAX    JFK  1515      \n",
       "2  6    5         2013-06-28 AA                LAX    JFK  1200      \n",
       "3 10    3         2005-10-12 AA                LAX    JFK  0930      \n",
       "4  4    6         2011-04-23 AA                LAX    JFK  0925      \n",
       "5  8    7         2011-08-14 AA                LAX    JFK  1100      \n",
       "6  2    5         2004-02-06 AA                LAX    JFK  1500      \n",
       "  CRSArrTime DepTime ArrTime ⋯ ArrDelayMinutes CarrierDelay WeatherDelay\n",
       "1 2332       1507    2353    ⋯ 21              0            0           \n",
       "2 2045       1328    2220    ⋯ 95              5            0           \n",
       "3 1755       0958    1823    ⋯ 28              0            0           \n",
       "4 1800       1040    1850    ⋯ 50              0            0           \n",
       "5 1945       1200    2042    ⋯ 57              0            0           \n",
       "6 2306       1607    2348    ⋯ 42              0            0           \n",
       "  NASDelay SecurityDelay LateAircraftDelay DepDelay DepDelayMinutes DivDistance\n",
       "1 21       0              0                -8        0              NA         \n",
       "2  7       0             83                88       88              NA         \n",
       "3 28       0              0                28       28              NA         \n",
       "4 50       0              0                75       75              NA         \n",
       "5 57       0              0                60       60              NA         \n",
       "6  0       0             42                67       67              NA         \n",
       "  DivArrDelay\n",
       "1 NA         \n",
       "2 NA         \n",
       "3 NA         \n",
       "4 NA         \n",
       "5 NA         \n",
       "6 NA         "
      ]
     },
     "metadata": {},
     "output_type": "display_data"
    }
   ],
   "source": [
    "# Define dataset with just AA as the Reporting_Airline\n",
    "aa_delays <- sub_airline %>%\n",
    "  filter(CarrierDelay != \"NA\", Reporting_Airline == \"AA\")\n",
    "\n",
    "head(aa_delays)"
   ]
  },
  {
   "cell_type": "markdown",
   "id": "4b6ff421-a00e-48c7-af97-fa45eaa95221",
   "metadata": {},
   "source": [
    "For this example, we want to look at how departure delay (DepDelayMinutes) can help us predict arrival delay (ArrDelayMinutes).\n",
    "Using simple linear regression, we will create a linear function with \"DepDelayMinutes\" as the predictor variable and the \"ArrDelayMinutes\" as the response variable. You can use base R's function `lm()` to create a linear model.\n"
   ]
  },
  {
   "cell_type": "code",
   "execution_count": 4,
   "id": "027954cc-3e39-4d39-8ddf-cb3adae0260e",
   "metadata": {},
   "outputs": [],
   "source": [
    "linear_model <- lm(ArrDelayMinutes ~ DepDelayMinutes, data = aa_delays)"
   ]
  },
  {
   "cell_type": "markdown",
   "id": "e837ae61-9d9b-4f8a-8d7e-76ea8fc8a3d1",
   "metadata": {},
   "source": [
    "Summarize the regression model using `summary()`. The output displays the learned coefficients (\"Estimate\" in the output) of the model, $b_0$ and $b_1$ as well as other information about the fitted model. \n"
   ]
  },
  {
   "cell_type": "code",
   "execution_count": null,
   "id": "64af0424-ca36-4928-bd20-958fdc742fa4",
   "metadata": {},
   "outputs": [],
   "source": [
    "summary(linear_model)"
   ]
  },
  {
   "cell_type": "markdown",
   "id": "421b6327-27fe-4c13-babf-be50c1af4a6e",
   "metadata": {},
   "source": [
    " We can output a prediction of three new data points.\n"
   ]
  },
  {
   "cell_type": "code",
   "execution_count": null,
   "id": "78ddd4d2-9dd9-43d9-b06d-2bd217cf4ffc",
   "metadata": {},
   "outputs": [],
   "source": [
    "# Input data we use to predict\n",
    "new_depdelay <- data.frame(\n",
    "  DepDelayMinutes = c(12, 19, 24))\n",
    "\n",
    "# Predict the data points\n",
    "pred <- predict(linear_model, newdata = new_depdelay, interval = \"confidence\")\n",
    "pred"
   ]
  },
  {
   "cell_type": "markdown",
   "id": "d4d29b1a-1da2-49fc-9150-b117702ed2a4",
   "metadata": {},
   "source": [
    "When we print the `pred` object, we can see that there are 3 columns: fit, lwr and upr. The \"fit\" column is the prediction results of the inputs. And \"lwr\" and \"upr\" are the lower bound and upper bound of the 95% confidence intervals of prediction results. The confidence interval reflects the uncertainty around the mean predictions. \n",
    "\n",
    "For example, given that the DepDelayMinutes is 12, then the model predicts the ArrDelayMinutes to be 26.38, and we are 95% confident that the interval (21.98, 30.77) captures the true mean arrival delay for this instance.\n",
    "\n",
    "<h4>What is the value of the intercept ($b_0$) and the Slope ($b_1$)?</h4>\n",
    "\n",
    "Using the fitted model, `linear_model`, you can grab the attribute `coefficients` using `$`. These coefficients correspond to $b_0$ (the intercept) and $b_1$ (the slope and coefficient of DepDealyMinutes).\n"
   ]
  },
  {
   "cell_type": "code",
   "execution_count": null,
   "id": "9f941ea5-2ae6-4c61-ad0f-46c09957d5a8",
   "metadata": {},
   "outputs": [],
   "source": [
    "linear_model$coefficients"
   ]
  },
  {
   "cell_type": "markdown",
   "id": "57428c10-9051-4cb9-afe1-88f506cfa567",
   "metadata": {},
   "source": [
    "<h3>What is the final estimated linear model we get?</h3>\n"
   ]
  },
  {
   "cell_type": "markdown",
   "id": "7bf306f2-4a7a-47e0-9a80-18c0c09bd97c",
   "metadata": {},
   "source": [
    "As we saw above, we should get a final linear model with the structure:\n"
   ]
  },
  {
   "cell_type": "markdown",
   "id": "4c7e0145-ce22-41cb-bce8-1df6ed363708",
   "metadata": {},
   "source": [
    "$$\n",
    "\\hat{Y} = b_0 + b_1  X\n",
    "$$\n"
   ]
  },
  {
   "cell_type": "markdown",
   "id": "a95f2500-5625-4346-927c-5021c5ccdb04",
   "metadata": {},
   "source": [
    "Remember that we are predicting ArrDelayMinutes using DepDealyMinutes. So, plugging in the actual values we get:\n"
   ]
  },
  {
   "cell_type": "markdown",
   "id": "743a2249-ac48-4a97-a8ae-653608b002b4",
   "metadata": {},
   "source": [
    "$$\n",
    "ArrDelayMinutes = 17.35 + 0.7523 *  DepDelayMinutes\n",
    "$$\n"
   ]
  },
  {
   "cell_type": "markdown",
   "id": "28993edf-f67c-4135-a72a-a654480d3638",
   "metadata": {},
   "source": [
    "<div class=\"alert alert-danger alertdanger\" style=\"margin-top: 20px\">\n",
    "<h1>Question #1 a): </h1>\n",
    "\n",
    "<b>Create a linear function with \"CarrierDelay\" as the predictor variable and the \"ArrDelayMinutes\" as the response variable. </b>\n",
    "</div>\n"
   ]
  },
  {
   "cell_type": "code",
   "execution_count": null,
   "id": "d1050ca7-9262-414e-a2d8-3a5fe9fe7a31",
   "metadata": {},
   "outputs": [],
   "source": [
    "# Write your code below and press Shift+Enter to execute \n"
   ]
  },
  {
   "cell_type": "markdown",
   "id": "5e8b2281-65e4-4e7f-9a4b-e0854e83ffb0",
   "metadata": {},
   "source": [
    "<details>\n",
    "    <summary>Click here for the solution.</summary>\n",
    "\n",
    "```r\n",
    "linear_model2 <- lm(ArrDelayMinutes ~ CarrierDelay, \n",
    "                 data = aa_delays)\n",
    "                 \n",
    "```\n",
    "               \n",
    "</details>\n"
   ]
  },
  {
   "cell_type": "markdown",
   "id": "1b3ed1d2-1e99-4af1-9220-6cdac54915f8",
   "metadata": {},
   "source": [
    "<div class=\"alert alert-danger alertdanger\" style=\"margin-top: 20px\">\n",
    "<h1>Question #1 b):</h1>\n",
    "\n",
    "<b>Find the coefficients (intercept and slope) of the model.</b>\n",
    "</div>\n"
   ]
  },
  {
   "cell_type": "code",
   "execution_count": null,
   "id": "aec9eea7-1abf-4f84-afdb-c8623a699212",
   "metadata": {},
   "outputs": [],
   "source": [
    "# Write your code below and press Shift+Enter to execute \n"
   ]
  },
  {
   "cell_type": "markdown",
   "id": "e3460dfd-6816-421e-a549-224282f3630c",
   "metadata": {},
   "source": [
    "<details>\n",
    "    <summary>Click here for the solution.</summary>\n",
    "\n",
    "```r\n",
    "linear_model2$coefficients              \n",
    "```\n",
    "               \n",
    "</details>\n"
   ]
  },
  {
   "cell_type": "markdown",
   "id": "e310fdee-44b2-422b-9e02-6a5eed0fbc4e",
   "metadata": {},
   "source": [
    "<div class=\"alert alert-danger alertdanger\" style=\"margin-top: 20px\">\n",
    "<h1>Question #1 c): </h1>\n",
    "\n",
    "<b>What is the equation of the predicted line. You can use x and yhat or 'CarrierDelay' or 'ArrDelayMinutes'?</b>\n",
    "</div>\n"
   ]
  },
  {
   "cell_type": "markdown",
   "id": "d53aa4f4-9afe-43d1-adc9-62e8249d84a0",
   "metadata": {},
   "source": [
    "*You can type you answer here*\n"
   ]
  },
  {
   "cell_type": "markdown",
   "id": "79ac0128-379c-4502-a54a-83495c27965a",
   "metadata": {},
   "source": [
    "<details>\n",
    "    <summary>Click here for the solution.</summary>\n",
    "\n",
    "```r\n",
    "# using X and Y  \n",
    "Yhat = 35.11 + 0.7032 * X\n",
    "\n",
    "ArrDelayMinutes = 35.11 + 0.7032 * CarrierDelay          \n",
    "```\n",
    "               \n",
    "</details>\n"
   ]
  },
  {
   "cell_type": "markdown",
   "id": "362e14d4-959d-4045-af68-12e0a152080f",
   "metadata": {},
   "source": [
    "<a class=\"anchor\" id=\"mlr\"></a>\n",
    "## 2. Multiple Linear Regression\n"
   ]
  },
  {
   "cell_type": "markdown",
   "id": "a0816f3d-e5e7-43ce-a75e-fd621b977ed6",
   "metadata": {},
   "source": [
    "What if we want to predict arrival delay minutes using *more than one* variable?\n",
    "\n",
    "<p>If we want to use more variables in our model to predict arrival delay minutes, we can use <b>Multiple Linear Regression</b>.\n",
    "Multiple Linear Regression is very similar to Simple Linear Regression, but this method is used to explain the relationship between one continuous response (dependent) variable and <b>two or more</b> predictor (independent) variables.\n",
    "Most of the real-world regression models involve multiple predictors. We will illustrate the structure by using two predictor variables, but these results can generalize to any amount of predictor variables:</p>\n"
   ]
  },
  {
   "cell_type": "markdown",
   "id": "94fbfa1f-53cf-4357-afc9-073824ee5b9a",
   "metadata": {},
   "source": [
    "* $Y$: Response Variable\n",
    "* $X_1$: Predictor Variable 1\n",
    "* $X_2$: Predictor Variable 2\n"
   ]
  },
  {
   "cell_type": "markdown",
   "id": "67c4ee9f-7b54-457b-83a1-fec92c202e71",
   "metadata": {},
   "source": [
    "The equation is given by\n"
   ]
  },
  {
   "cell_type": "markdown",
   "id": "60f4ea45-c29d-4479-9bb7-ce91893cc680",
   "metadata": {},
   "source": [
    "$$\n",
    "\\hat{Y} = b_0 + b_1 X_1 + b_2 X_2\n",
    "$$\n"
   ]
  },
  {
   "cell_type": "markdown",
   "id": "1c954f64-c36e-41f4-bf69-ad11d411f00b",
   "metadata": {},
   "source": [
    "where,\n",
    "* $b_0$: intercept\n",
    "* $b_1$:coefficient of Variable 1\n",
    "* $b_2$: coefficient of Variable 2\n"
   ]
  },
  {
   "cell_type": "markdown",
   "id": "7a0ac008-5f62-440c-a37b-c89a164d12a1",
   "metadata": {},
   "source": [
    "<p>From the previous lab we know that other good predictors of ArrDelayMinutes could be:</p>\n",
    "<ul>\n",
    "    <li>DepDelayMinutes</li>\n",
    "    <li>LateAircraftDelay</li>\n",
    "</ul>\n",
    "\n",
    "Let's develop a model using these variables as the predictor variables by fitting the data.\n"
   ]
  },
  {
   "cell_type": "code",
   "execution_count": null,
   "id": "ea7932d8-4ec7-4e77-bf89-7ef7e8be3c4a",
   "metadata": {},
   "outputs": [],
   "source": [
    "mlr <- lm(ArrDelayMinutes ~ DepDelayMinutes + LateAircraftDelay, data = aa_delays)\n",
    "\n",
    "summary(mlr)"
   ]
  },
  {
   "cell_type": "markdown",
   "id": "af890c1f-892c-44ff-9d26-f4bfbef485c9",
   "metadata": {},
   "source": [
    "What is the value of the intercept ($b_0$) and the coefficients ($b_1$, $b_2$)?\n"
   ]
  },
  {
   "cell_type": "code",
   "execution_count": null,
   "id": "be53f682-232a-406d-8692-62c89fc9552e",
   "metadata": {},
   "outputs": [],
   "source": [
    "mlr$coefficients"
   ]
  },
  {
   "cell_type": "markdown",
   "id": "2c2bc6cb-a342-4ef8-a940-fd18edd92187",
   "metadata": {},
   "source": [
    " What is the final estimated linear model that we get?\n"
   ]
  },
  {
   "cell_type": "markdown",
   "id": "58b4afc3-7eb4-4407-9da0-243e9991e197",
   "metadata": {},
   "source": [
    "As we saw above, we should get a final linear function with the structure:\n",
    "\n",
    "$$\n",
    "\\hat{Y} = b_0 + b_1 X_1 + b_2 X_2\n",
    "$$\n",
    "\n",
    "What is the linear function we get in this example?\n"
   ]
  },
  {
   "cell_type": "markdown",
   "id": "fe0cf218-ed8f-4905-bda6-8087a8c8cc0d",
   "metadata": {},
   "source": [
    "$$ ArrDelayMinutes = 17.32 + 0.7556 * DepDelayMinutes - 0.0103 *  LateAircraftDelay $$\n"
   ]
  },
  {
   "cell_type": "markdown",
   "id": "26051b57-d8da-4435-a7a3-b30b75680120",
   "metadata": {},
   "source": [
    "<div class=\"alert alert-danger alertdanger\" style=\"margin-top: 20px\">\n",
    "<h1> Question  #2 a): </h1>\n",
    "Create and train a Multiple Linear Regression model \"mlr2\" where the response variable is ArrDelayMinutes, and the predictor variable is 'DepDelayMinutes', 'LateAircraftDelay' and 'CarrierDelay'.\n",
    "</div>\n"
   ]
  },
  {
   "cell_type": "code",
   "execution_count": null,
   "id": "8ad6b6e5-2010-479e-a833-8c0cfa1d0bcb",
   "metadata": {},
   "outputs": [],
   "source": [
    "# Write your code below and press Shift+Enter to execute \n"
   ]
  },
  {
   "cell_type": "markdown",
   "id": "9139e287-ea80-4b49-9d71-87277aeed439",
   "metadata": {},
   "source": [
    "<details>\n",
    "    <summary>Click here for the solution.</summary>\n",
    "\n",
    "```r\n",
    "mlr2 <- lm(\n",
    "        ArrDelayMinutes ~ DepDelayMinutes + \n",
    "        LateAircraftDelay + CarrierDelay, \n",
    "        data = aa_delays)\n",
    "\n",
    "summary(mlr2)         \n",
    "```\n",
    "\n",
    "</details>\n"
   ]
  },
  {
   "cell_type": "markdown",
   "id": "fe6dc5ea-fe46-4c95-9968-c4dd94e95e09",
   "metadata": {},
   "source": [
    "<div class=\"alert alert-danger alertdanger\" style=\"margin-top: 20px\">\n",
    "<h1>Question  #2 b): </h1>\n",
    "<b>Find the coefficients of the model?</b>\n",
    "</div>\n"
   ]
  },
  {
   "cell_type": "code",
   "execution_count": null,
   "id": "b82726ae-5c6d-4343-9491-6ea2965297d9",
   "metadata": {},
   "outputs": [],
   "source": [
    "# Write your code below and press Shift+Enter to execute \n"
   ]
  },
  {
   "cell_type": "markdown",
   "id": "90d59210-d4c1-4123-9fd4-71ac159e5fb5",
   "metadata": {},
   "source": [
    "<details>\n",
    "    <summary>Click here for the solution.</summary>\n",
    "\n",
    "```r\n",
    "\n",
    "mlr2$coefficient        \n",
    "```\n",
    "\n",
    "</details>\n"
   ]
  },
  {
   "cell_type": "markdown",
   "id": "a40e0a25-e914-4275-b945-8fd0d79bcbf7",
   "metadata": {},
   "source": [
    "<div class=\"alert alert-danger alertdanger\" style=\"margin-top: 20px\">\n",
    "<h1>Question  #2 c): </h1>\n",
    "<b>Using the fitted model, mlr2, what are the predicted values for the following new data points?</b>\n",
    "</div>\n"
   ]
  },
  {
   "cell_type": "code",
   "execution_count": null,
   "id": "9d699ae0-19f1-43aa-af8c-7469f998948e",
   "metadata": {},
   "outputs": [],
   "source": [
    "# New data points\n",
    "DepDelayMinutes <- c(10, 20, 30)\n",
    "LateAircraftDelay <- c(20, 60, 30)\n",
    "new_multidelay <- data.frame(DepDelayMinutes, LateAircraftDelay)"
   ]
  },
  {
   "cell_type": "code",
   "execution_count": null,
   "id": "86393243-1137-4c35-9e54-342337b237cd",
   "metadata": {},
   "outputs": [],
   "source": [
    "# Write your code below and press Shift+Enter to execute \n"
   ]
  },
  {
   "cell_type": "markdown",
   "id": "d6e2a14d-d88b-45cc-908e-f2fd41e37691",
   "metadata": {},
   "source": [
    "<details>\n",
    "    <summary>Click here for the solution.</summary>\n",
    "\n",
    "```r\n",
    "\n",
    "pred <- predict(mlr, \n",
    "        newdata = new_multidelay, \n",
    "        interval = \"confidence\")  \n",
    "```\n",
    "\n",
    "</details>\n"
   ]
  },
  {
   "cell_type": "markdown",
   "id": "5157df7b-4cd9-44c8-b504-7090f0b1e5b8",
   "metadata": {},
   "source": [
    "<a class=\"anchor\" id=\"assess_vis\"></a>\n",
    "## 3. Assessing Models Visually\n"
   ]
  },
  {
   "cell_type": "markdown",
   "id": "8884543b-25d9-4095-9fc9-d3a5c8ee0d92",
   "metadata": {},
   "source": [
    "Now that we've developed some models, how do we evaluate our models and how do we choose the best one? One way to do this is by using visualization.\n"
   ]
  },
  {
   "cell_type": "markdown",
   "id": "2e57a12a-2e47-4dda-b70f-ea75b4f2992d",
   "metadata": {},
   "source": [
    "<h3>Regression Plot</h3>\n"
   ]
  },
  {
   "cell_type": "markdown",
   "id": "4b0e22a0-75b3-461c-9247-93901cc8c33c",
   "metadata": {},
   "source": [
    "<p>When it comes to simple linear regression, an excellent way to visualize the fit of our model is by using <b>regression plots</b>.</p>\n",
    "\n",
    "Regression plots are a good estimate of: \n",
    "* The relationship between two variables, \n",
    "* The strength of the correlation, and \n",
    "* The direction of the relationship (positive or negative). \n",
    "\n",
    "There are several ways to plot a regression plot; a simple way is to use \"ggplot\" from the tidyverse library.\n",
    "\n",
    "<p>This plot will show a combination of a scattered data points (a <b>scatter plot</b>), as well as the fitted <b>linear regression</b> line going through the data. This will give us a reasonable estimate of the relationship between the two variables, the strength of the correlation, as well as the direction (positive or negative correlation).</p>\n",
    "\n",
    "Let's visualize the DepDelayMinutes and ArrDelayMinutes of Alaska Airlines subset dataframe which we created earlier. Recall from the previous lab that to visualize a fitted linear model using `ggplot`, you can use `geom_smooth()`. Additionally, you can use `stat_smooth()` to create the same model. Like before, the default model if unspecified is `formula = y ~ x`. In this case, you will predict arrival delay minutes using depature delay minutes. So the predictor variable is \"DepDelayMinutes\" and the response variable is \"ArrDelayMinutes\". \n"
   ]
  },
  {
   "cell_type": "code",
   "execution_count": null,
   "id": "f9266ab6-78d1-40c0-ac4e-d65635cfadbd",
   "metadata": {},
   "outputs": [],
   "source": [
    "ggplot(aa_delays, aes(x = DepDelayMinutes, y = ArrDelayMinutes)) +\n",
    "  geom_point() + \n",
    "  stat_smooth(method = \"lm\", col = \"red\")"
   ]
  },
  {
   "cell_type": "markdown",
   "id": "8b472eee-95df-46fe-8bbd-7b57069bf190",
   "metadata": {},
   "source": [
    "<p>We can see from this plot that Arrival Delay Minutes (ArrDelayMinutes) is positively correlated to Departure Delay Minutes (DepDelayMinutes), since the regression slope is positive.</p>\n",
    "\n",
    "<p>One thing to keep in mind when looking at a regression plot is to pay attention to how scattered the data points are around the regression line. This will give you a good indication of the variance of the data, and whether a linear model would be the best fit or not. If the data is too far off from the line, this linear model might not be the best model for this data.</p>\n"
   ]
  },
  {
   "cell_type": "markdown",
   "id": "ed694d71-efb9-423f-a7cd-8d533589dbce",
   "metadata": {},
   "source": [
    "<div class=\"alert alert-danger alertdanger\" style=\"margin-top: 20px\">\n",
    "<h1>Question #3 a):</h1>\n",
    "<b>Create a regression plot of \"CarrierDelay\" and \"ArrDelayMinutes\" using \"aa_delays\" dataset</b>\n",
    "</div>\n"
   ]
  },
  {
   "cell_type": "code",
   "execution_count": null,
   "id": "f49c48bf-716f-4774-b301-4c77be4a5987",
   "metadata": {},
   "outputs": [],
   "source": [
    "# Write your code below and press Shift+Enter to execute \n"
   ]
  },
  {
   "cell_type": "markdown",
   "id": "7c7ea222-57ab-4569-a663-bb052967d10c",
   "metadata": {},
   "source": [
    "<details>\n",
    "    <summary>Click here for the solution.</summary>\n",
    "\n",
    "```r\n",
    "ggplot(\n",
    "    aa_delays, \n",
    "    aes(x = CarrierDelay, y = ArrDelayMinutes)) +\n",
    "  geom_point() + \n",
    "  stat_smooth(method = \"lm\", col = \"red\")\n",
    "  \n",
    "```\n",
    "\n",
    "</details>\n"
   ]
  },
  {
   "cell_type": "markdown",
   "id": "39e8fde2-8c7e-469e-a616-daf2884fbc46",
   "metadata": {},
   "source": [
    "<div class=\"alert alert-danger alertdanger\" style=\"margin-top: 20px\">\n",
    "<h1>Question #3 b):</h1>\n",
    "<b>Given the regression plots above is \"DepDelayMinutes\" or \"CarrierDelay\" more strongly correlated with \"ArrDelayMinutes\". Use the method  \"cor()\" to verify your answer.</b>\n",
    "</div>\n"
   ]
  },
  {
   "cell_type": "code",
   "execution_count": null,
   "id": "90d7933d-c3c1-47ce-8f0a-0562a4e8548b",
   "metadata": {},
   "outputs": [],
   "source": [
    "# Write your code below and press Shift+Enter to execute \n"
   ]
  },
  {
   "cell_type": "markdown",
   "id": "6ee7151b-c7ec-4f9e-914a-50b2702a7afb",
   "metadata": {},
   "source": [
    "<details>\n",
    "    <summary>Click here for the solution.</summary>\n",
    "\n",
    "```r\n",
    "# The variable \"DepDelayMinutes\" has a stronger correlation with \"ArrDelayMinutes\", it is approximately 0.871  compared to \"CarrierDelay\" which is approximately 0.624. You can verify it using the following commands:\n",
    "\n",
    "cor(aa_delays$DepDelayMinutes, \n",
    "    aa_delays$ArrDelayMinutes)\n",
    "cor(aa_delays$CarrierDelay, \n",
    "    aa_delays$ArrDelayMinutes)\n",
    "```\n",
    "\n",
    "</details>\n"
   ]
  },
  {
   "cell_type": "markdown",
   "id": "590b3b86-0b64-45d5-8b86-7840ba95fc12",
   "metadata": {},
   "source": [
    "<h3>Residual Plot</h3>\n",
    "\n",
    "<p>A good way to visualize the variance of the data is to use a residual plot. Before we start creating residual plots let's first answer the following questions:</p>\n",
    "\n",
    "* What is a **residual**?\n",
    "    * The difference between the observed value ($Y$) and the predicted value ($\\hat{Y}$) is called the residual (or error). When we look at a regression plot, the residual is the distance from the data point to the fitted regression line.\n",
    "* What is a **residual plot**?\n",
    "    * A residual plot is a graph that shows the residuals on the vertical y-axis and the independent variable on the horizontal x-axis.\n",
    "* What do we pay attention to when looking at a residual plot?\n",
    "    * **Homoscedasticity**: If the residual plot is homoscedastic, then the points in the plot are **randomly spread out around the x-axis**, which means that a **linear model is appropriate** for the data. Why is that? Randomly spread out residuals means that the variance is constant, and thus the linear model is a good fit for this data.</p>\n",
    "    \n",
    "Now, let's look again at the regression plot of ArrDelayMinutes as the response and DepDelayMinutes as the predictor. This time, let's visualize the residuals on this plot.\n",
    "* The red line is the regression line\n",
    "* The black dots represent the observed values of ArrDelayMinutes\n",
    "* The white dots are the predicted values from the linear regression model\n",
    "* The light gray lines are the residuals, or errors. It shows how far away the observed values are from the predicted values. So a longer line means a larger error.\n"
   ]
  },
  {
   "cell_type": "code",
   "execution_count": null,
   "id": "859d5d00-140b-418d-882a-a13a35d45d7c",
   "metadata": {},
   "outputs": [],
   "source": [
    "aa_delays <- sub_airline %>%\n",
    "  filter(CarrierDelay != \"NA\", Reporting_Airline == \"AA\")\n",
    "score_model <- lm(ArrDelayMinutes ~ DepDelayMinutes, data = aa_delays)\n",
    "aa_delays$predicted <- predict(score_model)\n",
    "\n",
    "ggplot(aa_delays, aes(x = DepDelayMinutes, y = ArrDelayMinutes)) +\n",
    "  geom_smooth(method = \"lm\", se = FALSE, color = \"red\") +  # Plot regression slope\n",
    "  geom_segment(aes(xend = DepDelayMinutes, yend = predicted), alpha = .2) +  # alpha to fade lines\n",
    "  geom_point() +\n",
    "  geom_point(aes(y = predicted), shape = 1) +\n",
    "  theme_bw()  # Add theme for cleaner look"
   ]
  },
  {
   "cell_type": "markdown",
   "id": "7789ab82-17eb-43a9-94bf-0387d7b68232",
   "metadata": {},
   "source": [
    "Next, you can create a residual plot, which graphs the residuals (light gray lines in the previous graph) against the observed DepDelayMinutes. The code to do this is similar to a normal scatterplot, but you pass in the linear model `lm(ArrDelayMinutes ~ DepDelayMinutes)` and when setting the y axis, you can use `.resid` which will use the residuals from the model you inputted. \n",
    "\n",
    "<p>We can see from this residual plot that the residuals are not randomly spread around the x-axis, which leads us to believe that maybe a non-linear model is more appropriate for this data.</p>\n"
   ]
  },
  {
   "cell_type": "code",
   "execution_count": null,
   "id": "54ce26fd-3394-4e4e-8f3f-00a4180c0451",
   "metadata": {},
   "outputs": [],
   "source": [
    "ggplot(lm(ArrDelayMinutes ~ DepDelayMinutes, data = aa_delays)) +\n",
    "  geom_point(aes(x=DepDelayMinutes, y=.resid))"
   ]
  },
  {
   "cell_type": "markdown",
   "id": "a3d6d533-1bf3-4061-80a9-f9e395eff29d",
   "metadata": {},
   "source": [
    "### Other Diagnostic Plots\n",
    "\n",
    "In addition to residual plots, there are other useful plots. \n",
    "A simple way to view diagnostic plots is to first create the linear model using `lm()`, then call base R's `plot()` function on the model. \n",
    "\n",
    "The below code will output four graphs:\n",
    "1. **Reisudal plot**: Identical to the graph we made with ggplot, here it again shows that the residuals are not randomly spread around the x-axis.\n",
    "2. **Q-Q plot**: The dotted diagonal line represents what normally distributed error (residual) values would follow. In this case, the residuals do not look normally distributed since there are many observations that fall above the line on the right side.\n",
    "3. **Scale-location plot**: This plot helps check the homoscedasticity assumption. Here, it shows a red line that is not straight and validates the homoscedasticity assumption is not satisfied.\n",
    "4. **Residuals vs leverage plot**: This helps determine **influential points**. Any points outside the dotted lines (Cook's distance) would make it influential. Here, none of the points cross the lines, however several points come close and could be removed or analyzed further.\n"
   ]
  },
  {
   "cell_type": "code",
   "execution_count": null,
   "id": "0629494d-e8fa-49ab-a55c-89449ef598f2",
   "metadata": {},
   "outputs": [],
   "source": [
    "linear_model <- lm(ArrDelayMinutes ~ DepDelayMinutes, data = aa_delays)\n",
    "plot(linear_model)"
   ]
  },
  {
   "cell_type": "markdown",
   "id": "e032ed3b-eadd-4b00-8e45-c39adfda4dcc",
   "metadata": {},
   "source": [
    "<a class=\"anchor\" id=\"poly_reg\"></a>\n",
    "\n",
    "## 4. Polynomial Regression\n"
   ]
  },
  {
   "cell_type": "markdown",
   "id": "d69bbb2d-7073-48e3-9eaa-ed8ec096ad19",
   "metadata": {},
   "source": [
    "**Polynomial regression** is a particular case of the general linear regression model or multiple linear regression models. That is, although the data is nonlinear in polynomial regression (the predicator variables have higher order terms), the model in all cases is **linear**. The model is always **linear** because it predicts the coefficients ($b_0, b_1, ...$) which are always of order 1.\n",
    "\n",
    "<p>There are different orders of polynomial regression:</p>\n"
   ]
  },
  {
   "cell_type": "markdown",
   "id": "10411734-d0ff-4d9e-83f7-237d6c617939",
   "metadata": {},
   "source": [
    "<center><b>Quadratic - 2nd order</b></center>\n",
    "$$\n",
    "Y = b_0 + b_1 X + b_2 X^2 \n",
    "$$\n",
    "<br>\n",
    "<center><b>Cubic - 3rd order</b></center>\n",
    "$$\n",
    "Y = b_0 + b_1 X +b_2 X^2 +b_3 X^3\n",
    "$$\n",
    "<br>\n",
    "<center><b>Higher ($n^{th}$) order</b>:</center>\n",
    "$$\n",
    "Y = b_0 + b_1 X +b_2 X^2 +b_3 X^3 .... + b_n X^n\\\\\\\\\n",
    "$$\n"
   ]
  },
  {
   "cell_type": "markdown",
   "id": "5d4c0058-caad-4f1b-b145-4039f5b9b062",
   "metadata": {},
   "source": [
    "Let's look at the below example. Here, we create random predictor variable `q` and random response variable `y` that follows a 3rd order polynomial but then we add some random noise to it to get `noise.y`. We set the seed so that this result can be reproduced. \n"
   ]
  },
  {
   "cell_type": "code",
   "execution_count": null,
   "id": "00758834-6d01-4820-ba6d-b4c010e77c39",
   "metadata": {},
   "outputs": [],
   "source": [
    "set.seed(20)\n",
    "x <- seq(from=0, to=20, by=0.1)\n",
    "\n",
    "# value to predict (y):\n",
    "y <- 500 + 0.4 * (x-10)^3\n",
    "\n",
    "# some noise is generated and added to the real signal (y):\n",
    "noise <- rnorm(length(x), mean=10, sd=80)\n",
    "noisy.y <- y + noise"
   ]
  },
  {
   "cell_type": "markdown",
   "id": "abdb535b-9f31-483f-beba-917a2b8713cd",
   "metadata": {},
   "source": [
    "In the graph below, we fit a first order linear model to this example dataset and can see that the model does not fit the data very well.\n"
   ]
  },
  {
   "cell_type": "code",
   "execution_count": null,
   "id": "80d57f12-6d42-4ba3-8973-ccf650b157d4",
   "metadata": {},
   "outputs": [],
   "source": [
    "# fit linear model\n",
    "ggplot(data=NULL,aes(x, noisy.y)) + \n",
    "    geom_point() + \n",
    "    geom_smooth(method = \"lm\")"
   ]
  },
  {
   "cell_type": "markdown",
   "id": "312c2497-9f14-403b-a222-70d7b7548390",
   "metadata": {},
   "source": [
    "Instead, we can use a polynomial model. It is similar to the first order linear model except that you include `poly()` within `geom_smooth()` to indicate what order polynomial to use. For example, using `poly(x, 5)` equates to having $b_0 + b_1 X^2 +b_2 X^2 +b_3 X^3 + b_4 X^4 + b_5 X^5$.\n"
   ]
  },
  {
   "cell_type": "code",
   "execution_count": null,
   "id": "22125a7a-9cae-43d9-bb03-c8e71576b859",
   "metadata": {},
   "outputs": [],
   "source": [
    "ggplot(data=NULL,aes(x, noisy.y)) + \n",
    "    geom_point() + \n",
    "    geom_smooth(method = \"lm\", formula = y ~ poly(x, 5))"
   ]
  },
  {
   "cell_type": "markdown",
   "id": "ddeb92a6-c374-4b76-a274-b7c8b64336fa",
   "metadata": {},
   "source": [
    "<p>We can already see from plotting that this polynomial model performs better than the linear model. This is because the generated polynomial function  \"hits\" more of the data points.</p>\n"
   ]
  },
  {
   "cell_type": "markdown",
   "id": "2b0fdc3c-e8a7-474b-b5d6-07d2a7ab688b",
   "metadata": {},
   "source": [
    "### Polynomial 2nd Order\n",
    "\n",
    "Now let's look at another example, this time using a 2nd order polynomial. Again, we use a toy dataset where `time` is the predictor and `temp` is the response.\n"
   ]
  },
  {
   "cell_type": "code",
   "execution_count": null,
   "id": "de0c03ea-c194-4262-a571-96a37996b7cd",
   "metadata": {},
   "outputs": [],
   "source": [
    "time <- 6:19\n",
    "temp <- c(4,6,7,9,10,11,11.5,12,12,11.5,11,10,9,8)\n",
    "\n",
    "ggplot(data = NULL, aes(time, temp)) + \n",
    "    geom_point() "
   ]
  },
  {
   "cell_type": "markdown",
   "id": "d3ab44ec-a7ef-4948-a65e-fa8f7a2fa9b4",
   "metadata": {},
   "source": [
    "We can create a model like how we saw before using `lm()` and to include higher order, you can used `poly()`. \n",
    "\n",
    "For this dataset, we try a 2nd order polynomial model to see how it fits. The equation the model follows is:\n",
    "$$\n",
    "temp = b_0 + b_1 * time + b_2 * time^2\n",
    "$$\n"
   ]
  },
  {
   "cell_type": "code",
   "execution_count": null,
   "id": "92f8a9f4-19ac-467d-a0ee-efb7104e60d5",
   "metadata": {},
   "outputs": [],
   "source": [
    "polyfit2 <- lm(temp ~ poly(time, 2, raw = TRUE))\n",
    "\n",
    "summary(polyfit2)"
   ]
  },
  {
   "cell_type": "markdown",
   "id": "dce09a50-9428-49b5-9d94-017322fdacd5",
   "metadata": {},
   "source": [
    "From the summary output of the model, you can find the coefficients, so to predict temp, you could use:\n",
    "$$\n",
    "temp = -13.7 + 3.76 * time - 0.138 * time^2\n",
    "$$\n",
    "\n",
    "Like for the first order linear models, you can use `ggplot` to graph the model.\n"
   ]
  },
  {
   "cell_type": "code",
   "execution_count": null,
   "id": "4da44e42-7cde-48c8-a1a3-3dfdd92af095",
   "metadata": {},
   "outputs": [],
   "source": [
    "ggplot(data = NULL, aes(time, temp)) + \n",
    "    geom_point() + \n",
    "    geom_smooth(method = \"lm\", formula = y ~ poly(x, 2)) "
   ]
  },
  {
   "cell_type": "markdown",
   "id": "5f73fd54-7fdf-479b-98f8-572e133ff1cf",
   "metadata": {},
   "source": [
    "<div class=\"alert alert-danger alertdanger\" style=\"margin-top: 20px\">\n",
    "<h1>Question  #4 a):</h1>\n",
    "<b>Create a 4th order polynomial model with the variables time and temp from above and display the summary of the model. </b>\n",
    "</div>\n"
   ]
  },
  {
   "cell_type": "code",
   "execution_count": null,
   "id": "9e18e369-eb67-4b8f-b3de-b3272d6865e3",
   "metadata": {},
   "outputs": [],
   "source": [
    "# Write your code below and press Shift+Enter to execute \n"
   ]
  },
  {
   "cell_type": "markdown",
   "id": "ff3a8efe-8a4d-430b-b170-e4196ddc7447",
   "metadata": {},
   "source": [
    "<details>\n",
    "    <summary>Click here for the solution.</summary>\n",
    "\n",
    "```r\n",
    "# calculate polynomial\n",
    "polyfit4 <- lm(temp ~ poly(time, 4, raw = TRUE))\n",
    "# print results\n",
    "summary(polyfit4)\n",
    "```\n",
    "\n",
    "</details>\n"
   ]
  },
  {
   "cell_type": "markdown",
   "id": "2227ecc6-faa4-471f-b360-9cecd6601860",
   "metadata": {},
   "source": [
    "<div class=\"alert alert-danger alertdanger\" style=\"margin-top: 20px\">\n",
    "<h1>Question  #4 b):</h1>\n",
    "<b>Using the predicted coefficients from the summary output for the 4th order model, write down the model equation.</b>\n",
    "</div>\n"
   ]
  },
  {
   "cell_type": "markdown",
   "id": "57570f9a-c798-4a19-bd76-d62bebe0fd07",
   "metadata": {},
   "source": [
    "*You can type your answer here.*\n"
   ]
  },
  {
   "cell_type": "markdown",
   "id": "8ed6b84f-d8d9-4c2a-9601-36568062a299",
   "metadata": {},
   "source": [
    "<details>\n",
    "    <summary>Click here for the solution.</summary>\n",
    "\n",
    "```r\n",
    "temp = 0.9580 -1.683 * time \n",
    "    + 0.5770 * time^2 \n",
    "    - 0.03971 * time^3 \n",
    "    + 0.0007906 * time^4\n",
    "```\n",
    "\n",
    "</details>\n"
   ]
  },
  {
   "cell_type": "markdown",
   "id": "c56bc616-6d77-4fec-9430-c11ecd68854b",
   "metadata": {},
   "source": [
    "<a class=\"anchor\" id=\"assess\"></a>\n",
    "## 5. Assessing the Model\n"
   ]
  },
  {
   "cell_type": "markdown",
   "id": "03f157af-b43e-4e38-9dda-0669117c5811",
   "metadata": {},
   "source": [
    "<p>When evaluating our models, not only do we want to visualize the results, but we also want a quantitative measure to determine how accurate the model is.</p>\n",
    "\n",
    "Two very important measures that are often used in Statistics to determine the accuracy of a model are:\n",
    "1. R^2 / R-squared \n",
    "2. Mean Squared Error (MSE)\n",
    "    \n",
    "**R-squared**\n",
    "\n",
    "<p>R squared, also known as the coefficient of determination, is a measure to indicate how close the data is to the fitted regression line. The value of the R-squared is the percentage of variation of the response variable (y) that is explained by a linear model.</p>\n",
    "\n",
    "\n",
    "**Mean Squared Error (MSE)**\n",
    "$$\n",
    "MSE = average((\\hat{y} - y)^2) \\\\\\\\\n",
    "RMSE = \\sqrt{MSE}\n",
    "$$\n",
    "The Mean Squared Error measures the average of the squares of errors, that is, the difference between actual value (y) and the estimated value (ŷ). Another metric that is related to MSE is **root mean squared error (RMSE)** and is simply the square root of MSE.\n"
   ]
  },
  {
   "cell_type": "markdown",
   "id": "72748893-da5a-4fa6-9528-a3c5213d701e",
   "metadata": {},
   "source": [
    "<h3>Model 1: Simple Linear Regression</h3>\n",
    "\n",
    "Let's use the simple linear regression model we created in section 2.\n"
   ]
  },
  {
   "cell_type": "code",
   "execution_count": null,
   "id": "cafae472-894c-4ef6-8dfa-7760d2f7c3dc",
   "metadata": {},
   "outputs": [],
   "source": [
    "linear_model <- lm(ArrDelayMinutes ~ DepDelayMinutes, aa_delays)"
   ]
  },
  {
   "cell_type": "markdown",
   "id": "96e30aca-399c-4c01-9385-cd208059e68c",
   "metadata": {},
   "source": [
    "Using this model, you can calculate MSE and RMSE. From below, MSE is 394 and RMSE is 19.85.\n"
   ]
  },
  {
   "cell_type": "code",
   "execution_count": null,
   "id": "9b1c40ab-7d50-4f8d-912c-85a56a9a33da",
   "metadata": {},
   "outputs": [],
   "source": [
    "mse <- mean(linear_model$residuals^2)\n",
    "mse"
   ]
  },
  {
   "cell_type": "code",
   "execution_count": null,
   "id": "8ecc90a5-84db-4bd1-a896-397bb73b9420",
   "metadata": {},
   "outputs": [],
   "source": [
    "rmse <- sqrt(mse)\n",
    "rmse"
   ]
  },
  {
   "cell_type": "markdown",
   "id": "74934400-a839-4f96-9eaf-9f8186ab1d42",
   "metadata": {},
   "source": [
    "R^2 can be obtained from the summary of the model. From the output below, we can say that approximately 75.9% of the variation of price is explained by this simple linear model. \n"
   ]
  },
  {
   "cell_type": "code",
   "execution_count": null,
   "id": "f8613cc4-5be5-49e2-9b61-7eacb5b5eb8c",
   "metadata": {},
   "outputs": [],
   "source": [
    "summary(linear_model)$r.squared"
   ]
  },
  {
   "cell_type": "markdown",
   "id": "aaa688f7-6ace-43b8-bcbe-4ed1319f4457",
   "metadata": {},
   "source": [
    "<h3>Model 2: Multiple Linear Regression</h3>\n",
    "\n",
    "Next, let's use the multiple linear regression model we created in section 3.\n"
   ]
  },
  {
   "cell_type": "code",
   "execution_count": null,
   "id": "be500c93-37e2-4ea7-adc1-be900e10ce9e",
   "metadata": {},
   "outputs": [],
   "source": [
    "mlr <- lm(ArrDelayMinutes ~ DepDelayMinutes + LateAircraftDelay, data = aa_delays)"
   ]
  },
  {
   "cell_type": "markdown",
   "id": "52c79ce6-d55d-490a-a4ba-bce01895f60f",
   "metadata": {},
   "source": [
    "Let's calculate MSE and RMSE. From below, MSE is 394 and RMSE is 19.849.\n"
   ]
  },
  {
   "cell_type": "code",
   "execution_count": null,
   "id": "40555e67-f3ef-4982-8c50-a8bb4be8d38c",
   "metadata": {},
   "outputs": [],
   "source": [
    "mse_mlr <- mean(mlr$residuals^2)\n",
    "mse_mlr"
   ]
  },
  {
   "cell_type": "code",
   "execution_count": null,
   "id": "a42c8c60-8275-46ae-8727-cef7241242eb",
   "metadata": {},
   "outputs": [],
   "source": [
    "rmse_mlr <- sqrt(mse_mlr)\n",
    "rmse_mlr"
   ]
  },
  {
   "cell_type": "markdown",
   "id": "93d1f300-1808-46ab-9c6b-f16631620dec",
   "metadata": {},
   "source": [
    "From the r-squared value belwo, we can say that approximately 75.9 % of the variation of Arrival Delay Minutes is explained by this multiple linear regression \"mlr\".\n"
   ]
  },
  {
   "cell_type": "code",
   "execution_count": null,
   "id": "e95d13f7-3501-49c4-9b7d-e1666a6d8a4e",
   "metadata": {},
   "outputs": [],
   "source": [
    "summary(mlr)$r.squared"
   ]
  },
  {
   "cell_type": "markdown",
   "id": "18b86b95-ae45-47fd-b72f-33922d8ab3ef",
   "metadata": {},
   "source": [
    "### Model 3: Polynomial Regression\n",
    "\n",
    "Finally, we can use a polynomial regression model using the skills from section 5.\n"
   ]
  },
  {
   "cell_type": "code",
   "execution_count": null,
   "id": "858d1090-fd52-4d64-91b7-34e904f169e1",
   "metadata": {},
   "outputs": [],
   "source": [
    "poly_reg <- lm(ArrDelayMinutes ~ poly(DepDelayMinutes, 3), data = aa_delays)"
   ]
  },
  {
   "cell_type": "markdown",
   "id": "903f70fe-1f09-4bcb-aa01-374cbcc007eb",
   "metadata": {},
   "source": [
    "Similar to model 1 and 2, you can find MSE, RMSE, and R^2. Here the MSE is 328.97, RMSE is 19.85, and R^2 is 0.798.\n"
   ]
  },
  {
   "cell_type": "code",
   "execution_count": null,
   "id": "d14e104b-f733-4ce3-90e3-cb47680d2caa",
   "metadata": {},
   "outputs": [],
   "source": [
    "mse_poly <- mean(poly_reg$residuals^2)\n",
    "mse_poly"
   ]
  },
  {
   "cell_type": "code",
   "execution_count": null,
   "id": "6b4054e2-aa79-41de-ae72-3954b120c606",
   "metadata": {},
   "outputs": [],
   "source": [
    "rmse_poly <- sqrt(mse)\n",
    "rmse_poly"
   ]
  },
  {
   "cell_type": "code",
   "execution_count": null,
   "id": "72ae8b56-d19f-4f95-8ce5-bb1fc65c33fd",
   "metadata": {},
   "outputs": [],
   "source": [
    "summary(poly_reg)$r.squared"
   ]
  },
  {
   "cell_type": "markdown",
   "id": "591ca7d9-b9a5-40ef-8ccb-ae6916844447",
   "metadata": {},
   "source": [
    "<a class=\"anchor\" id=\"pred\"></a>\n",
    "## 6. Prediction and Decision Making\n",
    "### Prediction\n",
    "\n",
    "Previously, we trained the model using the method `lm()` and we used the method `predict()` to produce a prediction.\n"
   ]
  },
  {
   "cell_type": "code",
   "execution_count": null,
   "id": "35566056-6f4d-4390-bae8-19054af40e7a",
   "metadata": {},
   "outputs": [],
   "source": [
    "# For example we want to predict the score model we created in a previous section\n",
    "head(predict(score_model))"
   ]
  },
  {
   "cell_type": "markdown",
   "id": "b68d0978-7c79-4834-a9c3-e569f41848d2",
   "metadata": {},
   "source": [
    "<h3>Decision Making: Determining a Good Model Fit</h3>\n"
   ]
  },
  {
   "cell_type": "markdown",
   "id": "f3c5e5cc-9f6d-4d43-bd6d-066858f0b227",
   "metadata": {},
   "source": [
    "Now that we have visualized the different models, and generated the R-squared and MSE values for the fits, how do we determine a good model fit?\n",
    "* What is a good **R-squared** value?\n",
    "    * When comparing models, the model with the *higher R-squared* value is a better fit for the data.\n",
    "* What is a good **MSE**?\n",
    "    * When comparing models, the model with the *smallest MSE* value is a better fit for the data.\n",
    "\n",
    "\n",
    "<h4>Let's take a look at the values for the different models.</h4>\n",
    "<p>Simple Linear Regression: Using DepDelayMinutes as a Predictor Variable of ArrDelayMinutes.\n",
    "<ul>\n",
    "    <li>R-squared: 0.7588</li>\n",
    "    <li>MSE: 394.063</li>\n",
    "</ul>\n",
    "</p>\n",
    "    \n",
    "<p>Multiple Linear Regression: Using DepDelayMinutes and LateAircraftDelay as Predictor Variables of ArrDelayMinutes.\n",
    "<ul>\n",
    "    <li>R-squared: 0.75883</li>\n",
    "    <li>MSE: 394.0113</li>\n",
    "</ul>\n",
    "</p>\n",
    "    \n",
    "<p>Polynomial Fit: Using 3rd Oder Polynomial of DepDelayMinutes as a Predictor Variable of ArrDelayMinutes\n",
    "<ul>\n",
    "    <li>R-squared: 0.7986</li>\n",
    "    <li>MSE: 328.9701</li>\n",
    "</ul>\n",
    "</p>\n"
   ]
  },
  {
   "cell_type": "markdown",
   "id": "2acde447-5b0c-45a5-9795-c67ef99ec7fb",
   "metadata": {},
   "source": [
    "<h3>Simple Linear Regression model (SLR) vs Multiple Linear Regression model (MLR)</h3>\n"
   ]
  },
  {
   "cell_type": "markdown",
   "id": "0d8a4a13-7bc1-42ed-9b71-9576630ec199",
   "metadata": {},
   "source": [
    "<p>Usually, the more variables you have, the better your model is at predicting, but this is not always true. Sometimes you may not have enough data, you may run into numerical problems, or many of the variables may not be useful and or even act as noise. As a result, you should always check the MSE and R^2.</p>\n",
    "\n",
    "So to be able to compare the results of the MLR vs SLR models, we look at a combination of both the R-squared and MSE to make the best conclusion about the fit of the model.\n",
    "* MSE: The MSE of SLR model is 394.063 while MLR has an MSE of 394.0113.  The MSE of MLR model is ever slightly smaller.\n",
    "* R-squared: In this case, we can see that the R-squared for the SLR is a little lower than the R-squared for the MLR model. \n",
    "\n",
    "This R-squared in combination with the MSE show that MLR seems like a slightly better model fit in this case, compared to SLR. However, you could try adding more predictor variables in the MLR model to see if that made a bigger improvement since in our example only two were used.\n"
   ]
  },
  {
   "cell_type": "markdown",
   "id": "64e13324-6c94-4728-801f-80c6551b6258",
   "metadata": {},
   "source": [
    "<h3>Simple Linear Model (SLR) vs Polynomial Fit</h3>\n"
   ]
  },
  {
   "cell_type": "markdown",
   "id": "0f51c172-593b-4d79-9dda-8cd0c3ffc71e",
   "metadata": {},
   "source": [
    "<ul>\n",
    "    <li><b>MSE</b>: We can see that Polynomial model brought down the MSE, since this MSE is smaller than the one from the SLR.</li> \n",
    "    <li><b>R-squared</b>: The R-squared for the Polyfit is larger than the R-squared for the SLR, so the Polynomial Fit also brought up the R-squared quite a bit.</li>\n",
    "</ul>\n",
    "<p>Since the Polynomial Fit resulted in a lower MSE and a higher R-squared, we can conclude that this was a better fit model than the simple linear regression for predicting ArrDelayMinutes.</p>\n"
   ]
  },
  {
   "cell_type": "markdown",
   "id": "77b5dbe0-ce08-47bc-9016-2549d85ce467",
   "metadata": {},
   "source": [
    "<h3>Multiple Linear Regression (MLR) vs Polynomial Fit</h3>\n"
   ]
  },
  {
   "cell_type": "markdown",
   "id": "69e12ae6-75f2-4775-bbdf-c48e081246d6",
   "metadata": {},
   "source": [
    "<ul>\n",
    "    <li><b>MSE</b>: The MSE for the polynomial model is smaller than the MSE for the MLR model.</li>\n",
    "    <li><b>R-squared</b>: The R-squared for the polynomial model is also larger than the MLR model's.</li>\n",
    "</ul>\n"
   ]
  },
  {
   "cell_type": "markdown",
   "id": "221a16cc-f1db-48c7-96df-f3f349cfa20d",
   "metadata": {},
   "source": [
    "<h2>Conclusion:</h2>\n"
   ]
  },
  {
   "cell_type": "markdown",
   "id": "aabf8e65-7b5f-47c1-9245-c356d2ca6d98",
   "metadata": {},
   "source": [
    "Comparing these three models, the MLR model performs slightly better than the SLR model. Perhaps if we tried adding some more predictor variables, the MLR model could do even better. Of the three models, we conclude that the *polynomial of order 3 model* seems to be the best fit it as it has the highest R^2 and the lowest MSE. \n",
    "\n",
    "As a bonus, you can try using more predictor variables and different order polynomials to perhaps find even better results.\n"
   ]
  },
  {
   "cell_type": "markdown",
   "id": "f611dfd6-836a-495c-b0de-5e68e2d11607",
   "metadata": {},
   "source": [
    "<h1>Thank you for completing this notebook</h1>\n"
   ]
  },
  {
   "cell_type": "markdown",
   "id": "094024c2-6a32-425e-8f11-f9066dd2859d",
   "metadata": {},
   "source": [
    "<h3>About the Authors:</h3>\n",
    "\n",
    "This notebook was written by <a href=\"https://www.linkedin.com/in/yiwen-li-47a019119/?utm_medium=Exinfluencer&utm_source=Exinfluencer&utm_content=000026UJ&utm_term=10006555&utm_id=NA-SkillsNetwork-Channel-SkillsNetworkCoursesIBMDA0151ENSkillsNetwork926-2022-01-01\" target=\"_blank\">Yiwen Li</a> and <a href=\"https://www.linkedin.com/in/gabrieladequeiroz/?utm_medium=Exinfluencer&utm_source=Exinfluencer&utm_content=000026UJ&utm_term=10006555&utm_id=NA-SkillsNetwork-Channel-SkillsNetworkCoursesIBMDA0151ENSkillsNetwork926-2022-01-01\" target=\"_blank\">Gabriela de Queiroz</a>.\n",
    "\n",
    "<a href=\"https://www.linkedin.com/in/yiwen-li-47a019119/?utm_medium=Exinfluencer&utm_source=Exinfluencer&utm_content=000026UJ&utm_term=10006555&utm_id=NA-SkillsNetwork-Channel-SkillsNetworkCoursesIBMDA0151ENSkillsNetwork926-2022-01-01\" target=\"_blank\">Yiwen Li</a> is a developer advocate and data scientist at IBM. She has been creating online content such as code patterns, tutorials, and blogs demonstrating the potential of products and services offered by IBM (like Watson Studio, Machine learning, Model Asset eXchange, Data Asset eXchange, etc.). She holds dual degree, including BS in Probability and Statistics and BA in Economics from the University of California, San Diego.\n",
    "    \n",
    "<a href=\"https://www.linkedin.com/in/gabrieladequeiroz/?utm_medium=Exinfluencer&utm_source=Exinfluencer&utm_content=000026UJ&utm_term=10006555&utm_id=NA-SkillsNetwork-Channel-SkillsNetworkCoursesIBMDA0151ENSkillsNetwork926-2022-01-01\" target=\"_blank\">Gabriela de Queiroz</a> is a Sr. Engineering & Data Science Manager at IBM where she manages and leads a team of developers working on Data & AI Open Source projects. She works to democratize AI by building tools and launching new open source projects.\n",
    "She is the founder of AI Inclusive, a global organization that is helping increase the representation and participation of gender minorities in Artificial Intelligence. She is also the founder of R-Ladies, a worldwide organization for promoting diversity in the R community with more than 190 chapters in 50+ countries.\n",
    "She has worked in several startups and where she built teams, developed statistical models, and employed a variety of techniques to derive insights and drive data-centric decisions.\n"
   ]
  },
  {
   "cell_type": "markdown",
   "id": "c2cd1dbe-5b68-4885-81d4-3c2acc65e05c",
   "metadata": {},
   "source": [
    "Copyright © 2021 IBM Corporation. All rights reserved.\n"
   ]
  }
 ],
 "metadata": {
  "kernelspec": {
   "display_name": "R",
   "language": "R",
   "name": "ir"
  },
  "language_info": {
   "codemirror_mode": "r",
   "file_extension": ".r",
   "mimetype": "text/x-r-source",
   "name": "R",
   "pygments_lexer": "r",
   "version": "4.2.1"
  }
 },
 "nbformat": 4,
 "nbformat_minor": 4
}
