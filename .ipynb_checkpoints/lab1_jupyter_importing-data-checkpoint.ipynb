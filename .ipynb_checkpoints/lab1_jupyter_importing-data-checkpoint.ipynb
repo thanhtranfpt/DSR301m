{
 "cells": [
  {
   "cell_type": "markdown",
   "id": "bcf7fec9-40ac-4258-a4eb-0246cbc86b84",
   "metadata": {},
   "source": [
    "<center>\n",
    "<img src=\"https://cf-courses-data.s3.us.cloud-object-storage.appdomain.cloud/IBMDeveloperSkillsNetwork-RP0101EN-Coursera/v2/M3_R_Foundamentals/images/SN_web_lightmode.png\" width=\"300\"> \n",
    "<center/>\n"
   ]
  },
  {
   "cell_type": "markdown",
   "id": "f144d5cc-ed90-4257-ac10-aa949f605bd2",
   "metadata": {},
   "source": [
    "<h1>Importing Data in R</h1>\n",
    "\n",
    "Estimated time needed: **15** minutes\n",
    "\n",
    "## Objectives\n",
    "\n",
    "After completing this lab you will be able to:\n",
    "\n",
    "-   Import csv and excel file\n",
    "-   Access rows and columns from dataset\n",
    "-   Access R built-in dataset\n"
   ]
  },
  {
   "cell_type": "markdown",
   "id": "57601497-f56d-4c6e-8b50-1561c3a21779",
   "metadata": {},
   "source": [
    "## Table of Contents\n",
    "\n",
    "<ul>\n",
    "<li><a href=\"#About-the-Dataset\">About the Dataset</a></li>\n",
    "<li><a href=\"#Reading-CSV-Files\">Reading CSV Files</a></li>\n",
    "<li><a href=\"#Reading-Excel-Files\">Reading Excel Files</a></li>\n",
    "<li><a href=\"#Accessing-Rows-and-Columns\">Accessing Rows and Columns from dataset</a></li>\n",
    "<li><a href=\"#Accessing-Built-in-Datasets-in-R\">Accessing Built-in Datasets in R</a></li>\n",
    "</ul>\n",
    "\n",
    "<hr>\n"
   ]
  },
  {
   "cell_type": "markdown",
   "id": "2097346e-639b-4a57-afae-b99586470df2",
   "metadata": {},
   "source": [
    "<a id=\"ref0\"></a>\n",
    "\n",
    "<h2 align=center>About the Dataset</h2>\n"
   ]
  },
  {
   "cell_type": "markdown",
   "id": "039e1b15-9452-4254-877b-c7a4cffb645a",
   "metadata": {},
   "source": [
    "**Movies dataset**\n",
    "\n",
    "Here we have a dataset that includes one row for each movie, with several columns for each movie characteristic:\n",
    "\n",
    "-   **name** - Name of the movie\n",
    "-   **year** - Year the movie was released\n",
    "-   **length_min** - Length of the movie (minutes)\n",
    "-   **genre** - Genre of the movie\n",
    "-   **average_rating** - Average rating on [IMDB](http://www.imdb.com?cm_mmc=Email_Newsletter-_-Developer_Ed%2BTech-_-WW_WW-_-SkillsNetwork-Courses-IBMDeveloperSkillsNetwork-RP0101EN-SkillsNetwork-20900564&cm_mmca1=000026UJ&cm_mmca2=10006555&cm_mmca3=M12345678&cvosrc=email.Newsletter.M12345678&cvo_campaign=000026UJ&cm_mmc=Email_Newsletter-_-Developer_Ed%2BTech-_-WW_WW-_-SkillsNetwork-Courses-IBMDeveloperSkillsNetwork-RP0101EN-SkillsNetwork-20900564&cm_mmca1=000026UJ&cm_mmca2=10006555&cm_mmca3=M12345678&cvosrc=email.Newsletter.M12345678&cvo_campaign=000026UJ&cm_mmc=Email_Newsletter-_-Developer_Ed%2BTech-_-WW_WW-_-SkillsNetwork-Courses-IBMDeveloperSkillsNetwork-RP0101EN-SkillsNetwork-20900564&cm_mmca1=000026UJ&cm_mmca2=10006555&cm_mmca3=M12345678&cvosrc=email.Newsletter.M12345678&cvo_campaign=000026UJ)\n",
    "-   **cost_millions** - Movie's production cost (millions in USD)\n",
    "-   **foreign** - Is the movie foreign (1) or domestic (0)?\n",
    "-   **age_restriction** - Age restriction for the movie\n",
    "    <br>\n"
   ]
  },
  {
   "cell_type": "markdown",
   "id": "0e5ef2a2-5100-479a-8197-95ca185b9f03",
   "metadata": {},
   "source": [
    "<img src=\"https://ibm.box.com/shared/static/6kr8sg0n6pc40zd1xn6hjhtvy3k7cmeq.png\" width=\"90%\" align=\"left\">\n"
   ]
  },
  {
   "cell_type": "markdown",
   "id": "d44d708f-f415-4037-8dbd-9fad4869f7c0",
   "metadata": {},
   "source": [
    "Let's learn how to **import and read data** from two common types of files used to store tabular data (when data is stored in a table or a spreadsheet.)\n",
    "\n",
    "-   **CSV files** (.csv)\n",
    "-   **Excel files** (.xls or .xlsx)\n",
    "\n",
    "To begin, we'll need to **download the data**!\n"
   ]
  },
  {
   "cell_type": "markdown",
   "id": "97500b88-0156-4c46-917f-67a5cccae13e",
   "metadata": {},
   "source": [
    "<a id=\"ref0\"></a>\n",
    "\n",
    "<h2 align=center>Download the Data</h2>\n"
   ]
  },
  {
   "cell_type": "markdown",
   "id": "72d95373-2496-47dd-b762-302000ac71a1",
   "metadata": {},
   "source": [
    "We've made it easy for you to get the data, which we've hosted online. Simply run the code cell below (Shift + Enter) to download the data to your current folder.\n"
   ]
  },
  {
   "cell_type": "code",
   "execution_count": null,
   "id": "c9073d49-42c7-45d9-b672-13f29a61af3e",
   "metadata": {},
   "outputs": [],
   "source": [
    "# Download datasets\n",
    "\n",
    "# CSV file\n",
    "download.file(\"https://cf-courses-data.s3.us.cloud-object-storage.appdomain.cloud/IBMDeveloperSkillsNetwork-RP0101EN-Coursera/v2/dataset/movies-db.csv\", \n",
    "              destfile=\"movies-db.csv\")\n",
    "\n",
    "# XLS file\n",
    "download.file(\"https://cf-courses-data.s3.us.cloud-object-storage.appdomain.cloud/IBMDeveloperSkillsNetwork-RP0101EN-Coursera/v2/dataset/movies-db.xls\", \n",
    "              destfile=\"movies-db.xls\")\n"
   ]
  },
  {
   "cell_type": "markdown",
   "id": "f046799d-a1fb-4e43-be5a-5ba30cc25af9",
   "metadata": {},
   "source": [
    "**If you ran the cell above, you have now downloaded the following files to your current folder:**\n",
    "\n",
    "> movies-db.csv  \n",
    "> movies-db.xls\n"
   ]
  },
  {
   "cell_type": "markdown",
   "id": "291fe92e-2da4-4816-8059-a4c640007887",
   "metadata": {},
   "source": [
    "<a id=\"ref1\"></a>\n",
    "\n",
    "<center><h2>Reading CSV Files</h2></center>\n"
   ]
  },
  {
   "cell_type": "markdown",
   "id": "5535a778-9b35-4d20-be40-52d5987b29ef",
   "metadata": {},
   "source": [
    "#### What are CSV files?\n"
   ]
  },
  {
   "cell_type": "markdown",
   "id": "9d1ec88d-9247-4c79-a3f6-94d2c8253659",
   "metadata": {},
   "source": [
    "Let's read data from a CSV file. CSV (Comma Separated Values) is one of the most common formats of structured data you will find. These files contain data in a table format, where in each row, columns are separated by a delimiter -- traditionally, a comma (hence comma-separated values).   \n",
    "\n",
    "Usually, the first line in a CSV file contains the column names for the table itself. CSV files are popular because you do not need a particular program to open it.\n"
   ]
  },
  {
   "cell_type": "markdown",
   "id": "0c14b563-33e8-46cf-b8cd-b3094ecebce1",
   "metadata": {},
   "source": [
    "#### Reading CSV files in R\n"
   ]
  },
  {
   "cell_type": "markdown",
   "id": "07f1c53f-ae0f-45e3-bbdd-84acfc47b805",
   "metadata": {},
   "source": [
    "In the **`movies-db.csv`** file, the first line of text is the header (names of each of the columns), followed by rows of movie information.\n",
    "\n",
    "To read CSV files into R, we use the core function **`read.csv`**.  \n",
    "\n",
    "`read.csv` easy to use. All you need is the filepath to the CSV file. Let's try loading the file using the filepath to the `movies-db.csv` file we downloaded earlier:\n"
   ]
  },
  {
   "cell_type": "code",
   "execution_count": null,
   "id": "80e7d623-04a1-4c82-bc17-859838932616",
   "metadata": {},
   "outputs": [],
   "source": [
    "# Load the CSV table into the my_data variable.\n",
    "my_data <- read.csv(\"movies-db.csv\")\n",
    "my_data"
   ]
  },
  {
   "cell_type": "markdown",
   "id": "781e3727-2948-4ee2-ba78-1c64d1a9f934",
   "metadata": {},
   "source": [
    "The data was loaded into the `my_data` variable. But instead of viewing all the data at once, we can use the `head` function to take a look at only the top six rows of our table, like so:\n"
   ]
  },
  {
   "cell_type": "code",
   "execution_count": null,
   "id": "72577b30-c909-4260-8fd8-2c7ed496e50f",
   "metadata": {},
   "outputs": [],
   "source": [
    "# Print out the first six rows of my_data\n",
    "head(my_data)"
   ]
  },
  {
   "cell_type": "markdown",
   "id": "08fc8a72-17f6-443e-8950-4a263ce8dee9",
   "metadata": {},
   "source": [
    "Additionally, you may want to take a look at the **structure** of your newly created table. R provides us with a function that summarizes an entire table's properties, called `str`. Let's try it out.\n"
   ]
  },
  {
   "cell_type": "code",
   "execution_count": null,
   "id": "080d7756-2f3c-4fe2-8dec-376927b543d0",
   "metadata": {},
   "outputs": [],
   "source": [
    "# Prints out the structure of your table.\n",
    "str(my_data)"
   ]
  },
  {
   "cell_type": "markdown",
   "id": "69c16d0a-af02-47f6-9462-9f4d5ada9bc1",
   "metadata": {},
   "source": [
    "When we loaded the file with the `read.csv` function, we had to only pass it one parameter -- the **path** to our desired file.\n"
   ]
  },
  {
   "cell_type": "markdown",
   "id": "66ca1149-8f1f-41aa-a3da-741a4f6522c9",
   "metadata": {},
   "source": [
    "<hr>\n",
    "\n",
    "**Coding Exercise:** in the code cell below, get the summary of my_data data frame\n"
   ]
  },
  {
   "cell_type": "code",
   "execution_count": null,
   "id": "ecd2c5f2-1729-44ba-b9d8-4295b459059e",
   "metadata": {},
   "outputs": [],
   "source": [
    "# Write your code below. Don't forget to press Shift+Enter to execute the cell\n"
   ]
  },
  {
   "cell_type": "markdown",
   "id": "f3f4af34-0ff4-4ebe-8e7a-30c165550cf1",
   "metadata": {},
   "source": [
    "<details><summary>Click here for the solution</summary>\n",
    "\n",
    "```R\n",
    "summary(my_data)\n",
    "\n",
    "```\n",
    "\n",
    "</details>\n",
    "\n",
    "<hr>\n"
   ]
  },
  {
   "cell_type": "markdown",
   "id": "43e88d3f-0c66-4a28-9f1d-d861fb57ce94",
   "metadata": {},
   "source": [
    "<a id=\"ref2\"></a>\n",
    "\n",
    "<center><h2>Reading Excel Files</h2></center>\n"
   ]
  },
  {
   "cell_type": "markdown",
   "id": "efe2348a-5404-477c-9cd5-07d1292788fc",
   "metadata": {},
   "source": [
    "Reading XLS (Excel Spreadsheet) files is similar to reading CSV files, but there's one catch -- R does not have a native function to read them. However, thankfully, R has an extremely large repository of user-created functions, called _CRAN_. From there, we can download a library package to make us able to read XLS files.\n",
    "\n",
    "To download a package, we use the `install.packages` function (may take minutes because it is a big library). Once installed, you do not need to install that same library ever again, unless, of course, you uninstall it.\n"
   ]
  },
  {
   "cell_type": "markdown",
   "id": "fb92c0c4-526e-4f00-9cf1-ea4a40493b39",
   "metadata": {},
   "source": [
    "Whenever you are going to use a library that is not native to R, you have to load it into the R environment after you install it. In other words, you need to install once only, but to use it, you must load it into R for every new session. To do so, use the `library` function, which loads up everything we can use in that library into R.\n"
   ]
  },
  {
   "cell_type": "code",
   "execution_count": null,
   "id": "48bb3c6f-eed7-48f6-a6cf-86b3a65ef819",
   "metadata": {},
   "outputs": [],
   "source": [
    "# Load the \"readxl\" library into the R environment.\n",
    "library(readxl)"
   ]
  },
  {
   "cell_type": "markdown",
   "id": "c67098a5-2b28-4175-b1cb-3c8ce762d2ba",
   "metadata": {},
   "source": [
    "Now that we have our library and its functions ready, we can move on to actually reading the file. In `readxl`, there is a function called `read_excel`, which does all the work for us. You can use it like this:\n"
   ]
  },
  {
   "cell_type": "code",
   "execution_count": null,
   "id": "8feb9461-381d-472e-8265-ac9eeab820a4",
   "metadata": {},
   "outputs": [],
   "source": [
    "# Read data from the XLS file and attribute the table to the my_excel_data variable.\n",
    "my_excel_data <- read_excel(\"movies-db.xls\")"
   ]
  },
  {
   "cell_type": "markdown",
   "id": "f7ff4852-d247-4a89-b6d9-c575057464ed",
   "metadata": {},
   "source": [
    "Since `my_excel_data` is now a dataframe in R, much like the one we created out of the CSV file, all of the native R functions can be applied to it, like `head` and `str`.\n"
   ]
  },
  {
   "cell_type": "code",
   "execution_count": null,
   "id": "30757170-fcae-4618-8468-7cfd4c6a4ae2",
   "metadata": {},
   "outputs": [],
   "source": [
    "# Prints out the structure of your table.\n",
    "# Tells you how many rows and columns there are, and the names and type of each column.\n",
    "# This should be the very same as the other table we created, as they are the same dataset.\n",
    "str(my_excel_data)"
   ]
  },
  {
   "cell_type": "markdown",
   "id": "2e6b7dfd-2ddb-476b-8877-ee9ae911ba53",
   "metadata": {},
   "source": [
    "Much like the `read.csv` function, `read_excel` takes as its main parameter the **path** to the desired file.\n"
   ]
  },
  {
   "cell_type": "markdown",
   "id": "de481a3d-6fe7-4db7-8f46-8121c182c91a",
   "metadata": {},
   "source": [
    "<div class=\"alert alert-success alertsuccess\">\n",
    "<b>[Tip]</b>   \n",
    "A library is basically a collection of different classes and functions which are used to perform some specific operations. You can install and use libraries to add more functions that are not included on the core R files.\n",
    "For example, the readxl library adds functions to read data from excel files.\n",
    "<br><br>\n",
    "It's important to know that there are many other libraries too which can be used for a variety of things. There are also plenty of other libraries to read Excel files -- readxl is just one of them.\n",
    "</div>\n"
   ]
  },
  {
   "cell_type": "markdown",
   "id": "c75e7e28-475c-4153-ae21-2c1719d7c7c8",
   "metadata": {},
   "source": [
    "* * *\n"
   ]
  },
  {
   "cell_type": "markdown",
   "id": "e1db2971-2309-46a7-9314-8e9290cfee6e",
   "metadata": {},
   "source": [
    "<center><h2>Accessing Rows and Columns</h2></center>\n"
   ]
  },
  {
   "cell_type": "markdown",
   "id": "8a7bb22a-08e1-484e-8f9d-0d2ffdfa7262",
   "metadata": {},
   "source": [
    "Whenever we use functions to read tabular data in R, the default method of structuring this data in the R environment is using Data Frames -- R's primary data structure. Data Frames are extremely versatile, and R presents us many options to manipulate them.\n",
    "\n",
    "Suppose we want to access the \"name\" column of our dataset. We can directly reference the column name on our data frame to retrieve this data, like this:\n"
   ]
  },
  {
   "cell_type": "code",
   "execution_count": null,
   "id": "2e188d34-a9bb-4ad6-8d5b-d169f72e3dbf",
   "metadata": {},
   "outputs": [],
   "source": [
    "# Retrieve a subset of the data frame consisting of the \"name\" columns\n",
    "my_data['name']"
   ]
  },
  {
   "cell_type": "markdown",
   "id": "02dbe074-c529-4c8a-8930-9fbfba6fbe6a",
   "metadata": {},
   "source": [
    "Another way to do this is by using the `$` notation which at the output will provide a vector:\n"
   ]
  },
  {
   "cell_type": "code",
   "execution_count": null,
   "id": "6db61da9-041d-4e37-8cfb-d828db868561",
   "metadata": {},
   "outputs": [],
   "source": [
    "# Retrieve the data for the \"name\" column in the data frame.\n",
    "my_data$name"
   ]
  },
  {
   "cell_type": "markdown",
   "id": "569b2d5d-3474-47eb-8575-653e0fd3bb58",
   "metadata": {},
   "source": [
    "You can also do the same thing using **double square brackets**, to get a vector of `names` column.\n"
   ]
  },
  {
   "cell_type": "code",
   "execution_count": null,
   "id": "50fc9c90-0ce5-4c69-b711-44f9d92af4c4",
   "metadata": {},
   "outputs": [],
   "source": [
    "my_data[[\"name\"]]"
   ]
  },
  {
   "cell_type": "markdown",
   "id": "0382a70a-afaa-442b-964a-afca68fa7a6a",
   "metadata": {},
   "source": [
    "Similarly, any particular row of the dataset can also be accessed. For example, to get the first row of the dataset with all column values, we can use:\n"
   ]
  },
  {
   "cell_type": "code",
   "execution_count": null,
   "id": "35c6ce22-7a37-4f9f-9955-5486b39c93c7",
   "metadata": {},
   "outputs": [],
   "source": [
    "# Retrieve the first row of the data frame.\n",
    "my_data[1,]"
   ]
  },
  {
   "cell_type": "markdown",
   "id": "492390b4-0bb5-435a-85e5-6710ea2b7bfe",
   "metadata": {},
   "source": [
    "The first value before the comma represents the **row** of the dataset and the second value (which is blank in the above example) represents the **column** of the dataset to be retrieved. By setting the first number as 1 we say we want data from row 1. By leaving the column blank we say we want all the columns in that row.\n",
    "\n",
    "We can specify more than one column or row by using **`c`**, the **concatenate** function. By using `c` to concatenate a list of elements, we tell R that we want these observations out of the data frame. Let's try it out.\n"
   ]
  },
  {
   "cell_type": "code",
   "execution_count": null,
   "id": "1fe9bb6d-8db1-4635-a5f3-6b3d6a838e4d",
   "metadata": {},
   "outputs": [],
   "source": [
    "# Retrieve the first row of the data frame, but only the \"name\" and \"length_min\" columns.\n",
    "my_data[1, c(\"name\",\"length_min\")]"
   ]
  },
  {
   "cell_type": "markdown",
   "id": "eacd3d43-1cec-4bad-a16e-7b8acfd74d2e",
   "metadata": {},
   "source": [
    "* * *\n"
   ]
  },
  {
   "cell_type": "markdown",
   "id": "690b98e6-1cb6-45a6-ba41-5bb26cb771f8",
   "metadata": {},
   "source": [
    "<a id=\"ref4\"></a>\n",
    "\n",
    "<center><h2>Accessing Built-in Datasets in R</h2></center>\n"
   ]
  },
  {
   "cell_type": "markdown",
   "id": "8b20ac0f-6ef1-4359-a39d-180596645962",
   "metadata": {},
   "source": [
    "R provides various built-in datasets for users to utilize for different purposes. To know which datasets are available, R provides a simple function -- `data` -- that returns all of the present datasets' names with a small description beside them. The ones in the `datasets` package are all inbuilt.\n"
   ]
  },
  {
   "cell_type": "code",
   "execution_count": null,
   "id": "105516fb-361f-4321-99e4-7b4d5c3a98ec",
   "metadata": {},
   "outputs": [],
   "source": [
    "# Displays a list of the inbuilt datasets. Opens in a new \"window\".\n",
    "data()"
   ]
  },
  {
   "cell_type": "markdown",
   "id": "80abb614-7021-4018-8e8c-4e0aeeda88ca",
   "metadata": {},
   "source": [
    "As you can see, there are many different datasets already inbuilt in the R environment. Having to go through each of them to take a look at their structure and try to find out what they represent might be very tiring. Thankfully, R has documentation present for each inbuilt dataset. You can take a look at that by using the `help` function.\n",
    "\n",
    "For example, if we want to know more about the `women` dataset, we can use the following function:\n"
   ]
  },
  {
   "cell_type": "code",
   "execution_count": null,
   "id": "36e8c329-a482-42b7-81f4-950f8b64e7ea",
   "metadata": {},
   "outputs": [],
   "source": [
    "# Opens up the documentation for the inbuilt \"women\" dataset.\n",
    "help(women)"
   ]
  },
  {
   "cell_type": "markdown",
   "id": "8674dbe9-53fe-4b6c-b272-a7a4a57a30f0",
   "metadata": {},
   "source": [
    "Since the datasets listed are inbuilt, you do not need to import or load them to use them. If you reference them by their name, R already has the data frame ready.\n"
   ]
  },
  {
   "cell_type": "code",
   "execution_count": null,
   "id": "616f11db-ea4d-4e63-9a9a-f2d5b79343a4",
   "metadata": {},
   "outputs": [],
   "source": [
    "women"
   ]
  },
  {
   "cell_type": "markdown",
   "id": "e889dcd2-57ce-4d7b-854b-cc2b437cadd5",
   "metadata": {},
   "source": [
    "<hr>\n",
    "\n",
    "**Coding Exercise:** in the code cell below, get the CO2 dataset\n"
   ]
  },
  {
   "cell_type": "code",
   "execution_count": null,
   "id": "89cb3a53-ca16-4c06-a16c-cfb4f1f54c3c",
   "metadata": {},
   "outputs": [],
   "source": [
    "# Write your code below. Don't forget to press Shift+Enter to execute the cell\n"
   ]
  },
  {
   "cell_type": "markdown",
   "id": "9a960ef9-3945-4fe3-ba6a-17907625d45f",
   "metadata": {},
   "source": [
    "<details><summary>Click here for the solution</summary>\n",
    "\n",
    "```R\n",
    "co2\n",
    "\n",
    "```\n",
    "\n",
    "</details>\n",
    "\n",
    "<hr>\n"
   ]
  },
  {
   "cell_type": "markdown",
   "id": "f4d475a9-e0a9-4fd0-b584-52df74b8c217",
   "metadata": {},
   "source": [
    "\n",
    "### Scaling R with big data\n",
    "\n",
    "As you learn more about R, if you are interested in exploring platforms that can help you run analyses at scale, you might want to sign up for a free account on [IBM Watson Studio](http://cocl.us/dsx_rp0101en), which allows you to run analyses in R with two Spark executors for free.\n",
    "\n",
    "<hr>\n"
   ]
  },
  {
   "cell_type": "markdown",
   "id": "4159d966-ae85-4ec5-8538-c4f6067ca29c",
   "metadata": {},
   "source": [
    "### Authors\n",
    "\n",
    "Hi! It's [Iqbal Singh](https://ca.linkedin.com/in/iqbalsingh15?utm_medium=Exinfluencer&utm_source=Exinfluencer&utm_content=000026UJ&utm_term=10006555&utm_id=NA-SkillsNetwork-Channel-SkillsNetworkCoursesIBMDeveloperSkillsNetworkRP0101ENCoursera889-2022-01-01&cm_mmc=Email_Newsletter-_-Developer_Ed%2BTech-_-WW_WW-_-SkillsNetwork-Courses-IBMDeveloperSkillsNetwork-RP0101EN-SkillsNetwork-20900564&cm_mmca1=000026UJ&cm_mmca2=10006555&cm_mmca3=M12345678&cvosrc=email.Newsletter.M12345678&cvo_campaign=000026UJ) and [Walter Gomes](https://br.linkedin.com/in/walter-gomes-de-amorim-junior-624726121?utm_medium=Exinfluencer&utm_source=Exinfluencer&utm_content=000026UJ&utm_term=10006555&utm_id=NA-SkillsNetwork-Channel-SkillsNetworkCoursesIBMDeveloperSkillsNetworkRP0101ENCoursera889-2022-01-01&cm_mmc=Email_Newsletter-_-Developer_Ed%2BTech-_-WW_WW-_-SkillsNetwork-Courses-IBMDeveloperSkillsNetwork-RP0101EN-SkillsNetwork-20900564&cm_mmca1=000026UJ&cm_mmca2=10006555&cm_mmca3=M12345678&cvosrc=email.Newsletter.M12345678&cvo_campaign=000026UJ), the authors of this notebook. \n",
    "I hope you found it easy to learn how to import data into R! Feel free to connect with us if you have any questions.\n"
   ]
  },
  {
   "cell_type": "markdown",
   "id": "469174f0-e588-4193-8213-b5f521166c67",
   "metadata": {},
   "source": [
    "### Other Contributors\n",
    "\n",
    "<a href=\"https://www.linkedin.com/in/yan-luo-96288783/?utm_medium=Exinfluencer&utm_source=Exinfluencer&utm_content=000026UJ&utm_term=10006555&utm_id=NA-SkillsNetwork-Channel-SkillsNetworkCoursesIBMDeveloperSkillsNetworkRP0101ENCoursera889-2022-01-01\">Yan Luo</a>\n"
   ]
  },
  {
   "cell_type": "markdown",
   "id": "dc86fb2a-6a92-4ecb-ab85-3ba441a32b78",
   "metadata": {},
   "source": [
    "## Change Log\n",
    "\n",
    "| Date (YYYY-MM-DD) | Version | Changed By | Change Description           |\n",
    "| ----------------- | ------- | ---------- | ---------------------------- |\n",
    "| 2021-03-04        | 2.0     | Yan        | Added coding tasks           |\n",
    "|                   |         |            |                              |\n",
    "|                   |         |            |                              |\n",
    "\n",
    "## <h3 align=\"center\"> © IBM Corporation 2021. All rights reserved. <h3/>\n"
   ]
  }
 ],
 "metadata": {
  "kernelspec": {
   "display_name": "Python 3 (ipykernel)",
   "language": "python",
   "name": "python3"
  },
  "language_info": {
   "codemirror_mode": {
    "name": "ipython",
    "version": 3
   },
   "file_extension": ".py",
   "mimetype": "text/x-python",
   "name": "python",
   "nbconvert_exporter": "python",
   "pygments_lexer": "ipython3",
   "version": "3.9.13"
  }
 },
 "nbformat": 4,
 "nbformat_minor": 4
}
