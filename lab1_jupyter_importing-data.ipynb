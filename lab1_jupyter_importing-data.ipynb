{
 "cells": [
  {
   "cell_type": "markdown",
   "id": "bcf7fec9-40ac-4258-a4eb-0246cbc86b84",
   "metadata": {},
   "source": [
    "<center>\n",
    "<img src=\"https://cf-courses-data.s3.us.cloud-object-storage.appdomain.cloud/IBMDeveloperSkillsNetwork-RP0101EN-Coursera/v2/M3_R_Foundamentals/images/SN_web_lightmode.png\" width=\"300\"> \n",
    "<center/>\n"
   ]
  },
  {
   "cell_type": "markdown",
   "id": "f144d5cc-ed90-4257-ac10-aa949f605bd2",
   "metadata": {},
   "source": [
    "<h1>Importing Data in R</h1>\n",
    "\n",
    "Estimated time needed: **15** minutes\n",
    "\n",
    "## Objectives\n",
    "\n",
    "After completing this lab you will be able to:\n",
    "\n",
    "-   Import csv and excel file\n",
    "-   Access rows and columns from dataset\n",
    "-   Access R built-in dataset\n"
   ]
  },
  {
   "cell_type": "markdown",
   "id": "57601497-f56d-4c6e-8b50-1561c3a21779",
   "metadata": {},
   "source": [
    "## Table of Contents\n",
    "\n",
    "<ul>\n",
    "<li><a href=\"#About-the-Dataset\">About the Dataset</a></li>\n",
    "<li><a href=\"#Reading-CSV-Files\">Reading CSV Files</a></li>\n",
    "<li><a href=\"#Reading-Excel-Files\">Reading Excel Files</a></li>\n",
    "<li><a href=\"#Accessing-Rows-and-Columns\">Accessing Rows and Columns from dataset</a></li>\n",
    "<li><a href=\"#Accessing-Built-in-Datasets-in-R\">Accessing Built-in Datasets in R</a></li>\n",
    "</ul>\n",
    "\n",
    "<hr>\n"
   ]
  },
  {
   "cell_type": "markdown",
   "id": "2097346e-639b-4a57-afae-b99586470df2",
   "metadata": {},
   "source": [
    "<a id=\"ref0\"></a>\n",
    "\n",
    "<h2 align=center>About the Dataset</h2>\n"
   ]
  },
  {
   "cell_type": "markdown",
   "id": "039e1b15-9452-4254-877b-c7a4cffb645a",
   "metadata": {},
   "source": [
    "**Movies dataset**\n",
    "\n",
    "Here we have a dataset that includes one row for each movie, with several columns for each movie characteristic:\n",
    "\n",
    "-   **name** - Name of the movie\n",
    "-   **year** - Year the movie was released\n",
    "-   **length_min** - Length of the movie (minutes)\n",
    "-   **genre** - Genre of the movie\n",
    "-   **average_rating** - Average rating on [IMDB](http://www.imdb.com?cm_mmc=Email_Newsletter-_-Developer_Ed%2BTech-_-WW_WW-_-SkillsNetwork-Courses-IBMDeveloperSkillsNetwork-RP0101EN-SkillsNetwork-20900564&cm_mmca1=000026UJ&cm_mmca2=10006555&cm_mmca3=M12345678&cvosrc=email.Newsletter.M12345678&cvo_campaign=000026UJ&cm_mmc=Email_Newsletter-_-Developer_Ed%2BTech-_-WW_WW-_-SkillsNetwork-Courses-IBMDeveloperSkillsNetwork-RP0101EN-SkillsNetwork-20900564&cm_mmca1=000026UJ&cm_mmca2=10006555&cm_mmca3=M12345678&cvosrc=email.Newsletter.M12345678&cvo_campaign=000026UJ&cm_mmc=Email_Newsletter-_-Developer_Ed%2BTech-_-WW_WW-_-SkillsNetwork-Courses-IBMDeveloperSkillsNetwork-RP0101EN-SkillsNetwork-20900564&cm_mmca1=000026UJ&cm_mmca2=10006555&cm_mmca3=M12345678&cvosrc=email.Newsletter.M12345678&cvo_campaign=000026UJ)\n",
    "-   **cost_millions** - Movie's production cost (millions in USD)\n",
    "-   **foreign** - Is the movie foreign (1) or domestic (0)?\n",
    "-   **age_restriction** - Age restriction for the movie\n",
    "    <br>\n"
   ]
  },
  {
   "cell_type": "markdown",
   "id": "0e5ef2a2-5100-479a-8197-95ca185b9f03",
   "metadata": {},
   "source": [
    "<img src=\"https://ibm.box.com/shared/static/6kr8sg0n6pc40zd1xn6hjhtvy3k7cmeq.png\" width=\"90%\" align=\"left\">\n"
   ]
  },
  {
   "cell_type": "markdown",
   "id": "d44d708f-f415-4037-8dbd-9fad4869f7c0",
   "metadata": {},
   "source": [
    "Let's learn how to **import and read data** from two common types of files used to store tabular data (when data is stored in a table or a spreadsheet.)\n",
    "\n",
    "-   **CSV files** (.csv)\n",
    "-   **Excel files** (.xls or .xlsx)\n",
    "\n",
    "To begin, we'll need to **download the data**!\n"
   ]
  },
  {
   "cell_type": "markdown",
   "id": "97500b88-0156-4c46-917f-67a5cccae13e",
   "metadata": {},
   "source": [
    "<a id=\"ref0\"></a>\n",
    "\n",
    "<h2 align=center>Download the Data</h2>\n"
   ]
  },
  {
   "cell_type": "markdown",
   "id": "72d95373-2496-47dd-b762-302000ac71a1",
   "metadata": {},
   "source": [
    "We've made it easy for you to get the data, which we've hosted online. Simply run the code cell below (Shift + Enter) to download the data to your current folder.\n"
   ]
  },
  {
   "cell_type": "code",
   "execution_count": 1,
   "id": "c9073d49-42c7-45d9-b672-13f29a61af3e",
   "metadata": {},
   "outputs": [],
   "source": [
    "# Download datasets\n",
    "\n",
    "# CSV file\n",
    "download.file(\"https://cf-courses-data.s3.us.cloud-object-storage.appdomain.cloud/IBMDeveloperSkillsNetwork-RP0101EN-Coursera/v2/dataset/movies-db.csv\", \n",
    "              destfile=\"movies-db.csv\")\n",
    "\n",
    "# XLS file\n",
    "download.file(\"https://cf-courses-data.s3.us.cloud-object-storage.appdomain.cloud/IBMDeveloperSkillsNetwork-RP0101EN-Coursera/v2/dataset/movies-db.xls\", \n",
    "              destfile=\"movies-db.xls\")\n"
   ]
  },
  {
   "cell_type": "markdown",
   "id": "f046799d-a1fb-4e43-be5a-5ba30cc25af9",
   "metadata": {},
   "source": [
    "**If you ran the cell above, you have now downloaded the following files to your current folder:**\n",
    "\n",
    "> movies-db.csv  \n",
    "> movies-db.xls\n"
   ]
  },
  {
   "cell_type": "markdown",
   "id": "291fe92e-2da4-4816-8059-a4c640007887",
   "metadata": {},
   "source": [
    "<a id=\"ref1\"></a>\n",
    "\n",
    "<center><h2>Reading CSV Files</h2></center>\n"
   ]
  },
  {
   "cell_type": "markdown",
   "id": "5535a778-9b35-4d20-be40-52d5987b29ef",
   "metadata": {},
   "source": [
    "#### What are CSV files?\n"
   ]
  },
  {
   "cell_type": "markdown",
   "id": "9d1ec88d-9247-4c79-a3f6-94d2c8253659",
   "metadata": {},
   "source": [
    "Let's read data from a CSV file. CSV (Comma Separated Values) is one of the most common formats of structured data you will find. These files contain data in a table format, where in each row, columns are separated by a delimiter -- traditionally, a comma (hence comma-separated values).   \n",
    "\n",
    "Usually, the first line in a CSV file contains the column names for the table itself. CSV files are popular because you do not need a particular program to open it.\n"
   ]
  },
  {
   "cell_type": "markdown",
   "id": "0c14b563-33e8-46cf-b8cd-b3094ecebce1",
   "metadata": {},
   "source": [
    "#### Reading CSV files in R\n"
   ]
  },
  {
   "cell_type": "markdown",
   "id": "07f1c53f-ae0f-45e3-bbdd-84acfc47b805",
   "metadata": {},
   "source": [
    "In the **`movies-db.csv`** file, the first line of text is the header (names of each of the columns), followed by rows of movie information.\n",
    "\n",
    "To read CSV files into R, we use the core function **`read.csv`**.  \n",
    "\n",
    "`read.csv` easy to use. All you need is the filepath to the CSV file. Let's try loading the file using the filepath to the `movies-db.csv` file we downloaded earlier:\n"
   ]
  },
  {
   "cell_type": "code",
   "execution_count": 2,
   "id": "80e7d623-04a1-4c82-bc17-859838932616",
   "metadata": {},
   "outputs": [
    {
     "data": {
      "text/html": [
       "<table class=\"dataframe\">\n",
       "<caption>A data.frame: 30 × 8</caption>\n",
       "<thead>\n",
       "\t<tr><th scope=col>name</th><th scope=col>year</th><th scope=col>length_min</th><th scope=col>genre</th><th scope=col>average_rating</th><th scope=col>cost_millions</th><th scope=col>foreign</th><th scope=col>age_restriction</th></tr>\n",
       "\t<tr><th scope=col>&lt;chr&gt;</th><th scope=col>&lt;int&gt;</th><th scope=col>&lt;int&gt;</th><th scope=col>&lt;chr&gt;</th><th scope=col>&lt;dbl&gt;</th><th scope=col>&lt;dbl&gt;</th><th scope=col>&lt;int&gt;</th><th scope=col>&lt;int&gt;</th></tr>\n",
       "</thead>\n",
       "<tbody>\n",
       "\t<tr><td>Toy Story                                </td><td>1995</td><td> 81</td><td>Animation</td><td>8.3</td><td> 30.0</td><td>0</td><td> 0</td></tr>\n",
       "\t<tr><td>Akira                                    </td><td>1998</td><td>125</td><td>Animation</td><td>8.1</td><td> 10.4</td><td>1</td><td>14</td></tr>\n",
       "\t<tr><td>The Breakfast Club                       </td><td>1985</td><td> 97</td><td>Drama    </td><td>7.9</td><td>  1.0</td><td>0</td><td>14</td></tr>\n",
       "\t<tr><td>The Artist                               </td><td>2011</td><td>100</td><td>Romance  </td><td>8.0</td><td> 15.0</td><td>1</td><td>12</td></tr>\n",
       "\t<tr><td>Modern Times                             </td><td>1936</td><td> 87</td><td>Comedy   </td><td>8.6</td><td>  1.5</td><td>0</td><td>10</td></tr>\n",
       "\t<tr><td>Fight Club                               </td><td>1999</td><td>139</td><td>Drama    </td><td>8.9</td><td> 63.0</td><td>0</td><td>18</td></tr>\n",
       "\t<tr><td>City of God                              </td><td>2002</td><td>130</td><td>Crime    </td><td>8.7</td><td>  3.3</td><td>1</td><td>18</td></tr>\n",
       "\t<tr><td>The Untouchables                         </td><td>1987</td><td>119</td><td>Drama    </td><td>7.9</td><td> 25.0</td><td>0</td><td>14</td></tr>\n",
       "\t<tr><td>Star Wars Episode IV                     </td><td>1977</td><td>121</td><td>Action   </td><td>8.7</td><td> 11.0</td><td>0</td><td>10</td></tr>\n",
       "\t<tr><td>American Beauty                          </td><td>1999</td><td>122</td><td>Drama    </td><td>8.4</td><td> 15.0</td><td>0</td><td>14</td></tr>\n",
       "\t<tr><td>Room                                     </td><td>2015</td><td>118</td><td>Drama    </td><td>8.3</td><td> 13.0</td><td>1</td><td>14</td></tr>\n",
       "\t<tr><td>Dr. Strangelove                          </td><td>1964</td><td> 94</td><td>Comedy   </td><td>8.5</td><td>  1.8</td><td>1</td><td>10</td></tr>\n",
       "\t<tr><td>The Ring                                 </td><td>1998</td><td> 95</td><td>Horror   </td><td>7.3</td><td>  1.2</td><td>1</td><td>18</td></tr>\n",
       "\t<tr><td>Monty Python and the Holy Grail          </td><td>1975</td><td> 91</td><td>Comedy   </td><td>8.3</td><td>  0.4</td><td>1</td><td>18</td></tr>\n",
       "\t<tr><td>High School Musical                      </td><td>2006</td><td> 98</td><td>Comedy   </td><td>5.2</td><td>  4.2</td><td>0</td><td> 0</td></tr>\n",
       "\t<tr><td>Shaun of the Dead                        </td><td>2004</td><td> 99</td><td>Horror   </td><td>8.0</td><td>  6.1</td><td>1</td><td>18</td></tr>\n",
       "\t<tr><td>Taxi Driver                              </td><td>1976</td><td>113</td><td>Crime    </td><td>8.3</td><td>  1.3</td><td>1</td><td>14</td></tr>\n",
       "\t<tr><td>The Shawshank Redemption                 </td><td>1994</td><td>142</td><td>Crime    </td><td>9.3</td><td> 25.0</td><td>0</td><td>16</td></tr>\n",
       "\t<tr><td>Interstellar                             </td><td>2014</td><td>169</td><td>Adventure</td><td>8.6</td><td>165.0</td><td>0</td><td>10</td></tr>\n",
       "\t<tr><td>Casino                                   </td><td>1995</td><td>178</td><td>Biography</td><td>8.2</td><td> 50.0</td><td>0</td><td>18</td></tr>\n",
       "\t<tr><td>The Goodfellas                           </td><td>1990</td><td>145</td><td>Biography</td><td>8.7</td><td> 25.0</td><td>0</td><td>14</td></tr>\n",
       "\t<tr><td>Blue is the Warmest Colour               </td><td>2013</td><td>179</td><td>Romance  </td><td>7.8</td><td>  4.5</td><td>1</td><td>18</td></tr>\n",
       "\t<tr><td>Black Swan                               </td><td>2010</td><td>108</td><td>Thriller </td><td>8.0</td><td> 13.0</td><td>0</td><td>16</td></tr>\n",
       "\t<tr><td>Back to the Future                       </td><td>1985</td><td>116</td><td>Sci-fi   </td><td>8.5</td><td> 19.0</td><td>0</td><td> 0</td></tr>\n",
       "\t<tr><td>The Wave                                 </td><td>2008</td><td>107</td><td>Thriller </td><td>7.6</td><td>  5.5</td><td>1</td><td>16</td></tr>\n",
       "\t<tr><td>Whiplash                                 </td><td>2014</td><td>106</td><td>Drama    </td><td>8.5</td><td>  3.3</td><td>1</td><td>12</td></tr>\n",
       "\t<tr><td>The Grand Hotel Budapest                 </td><td>2014</td><td>100</td><td>Crime    </td><td>8.1</td><td> 25.5</td><td>0</td><td>14</td></tr>\n",
       "\t<tr><td>Jumanji                                  </td><td>1995</td><td>104</td><td>Fantasy  </td><td>6.9</td><td> 65.0</td><td>0</td><td>12</td></tr>\n",
       "\t<tr><td>The Eternal Sunshine of the Spotless Mind</td><td>2004</td><td>108</td><td>Drama    </td><td>8.3</td><td> 20.0</td><td>0</td><td>14</td></tr>\n",
       "\t<tr><td>Chicago                                  </td><td>2002</td><td>113</td><td>Comedy   </td><td>7.2</td><td> 45.0</td><td>0</td><td>12</td></tr>\n",
       "</tbody>\n",
       "</table>\n"
      ],
      "text/latex": [
       "A data.frame: 30 × 8\n",
       "\\begin{tabular}{llllllll}\n",
       " name & year & length\\_min & genre & average\\_rating & cost\\_millions & foreign & age\\_restriction\\\\\n",
       " <chr> & <int> & <int> & <chr> & <dbl> & <dbl> & <int> & <int>\\\\\n",
       "\\hline\n",
       "\t Toy Story                                 & 1995 &  81 & Animation & 8.3 &  30.0 & 0 &  0\\\\\n",
       "\t Akira                                     & 1998 & 125 & Animation & 8.1 &  10.4 & 1 & 14\\\\\n",
       "\t The Breakfast Club                        & 1985 &  97 & Drama     & 7.9 &   1.0 & 0 & 14\\\\\n",
       "\t The Artist                                & 2011 & 100 & Romance   & 8.0 &  15.0 & 1 & 12\\\\\n",
       "\t Modern Times                              & 1936 &  87 & Comedy    & 8.6 &   1.5 & 0 & 10\\\\\n",
       "\t Fight Club                                & 1999 & 139 & Drama     & 8.9 &  63.0 & 0 & 18\\\\\n",
       "\t City of God                               & 2002 & 130 & Crime     & 8.7 &   3.3 & 1 & 18\\\\\n",
       "\t The Untouchables                          & 1987 & 119 & Drama     & 7.9 &  25.0 & 0 & 14\\\\\n",
       "\t Star Wars Episode IV                      & 1977 & 121 & Action    & 8.7 &  11.0 & 0 & 10\\\\\n",
       "\t American Beauty                           & 1999 & 122 & Drama     & 8.4 &  15.0 & 0 & 14\\\\\n",
       "\t Room                                      & 2015 & 118 & Drama     & 8.3 &  13.0 & 1 & 14\\\\\n",
       "\t Dr. Strangelove                           & 1964 &  94 & Comedy    & 8.5 &   1.8 & 1 & 10\\\\\n",
       "\t The Ring                                  & 1998 &  95 & Horror    & 7.3 &   1.2 & 1 & 18\\\\\n",
       "\t Monty Python and the Holy Grail           & 1975 &  91 & Comedy    & 8.3 &   0.4 & 1 & 18\\\\\n",
       "\t High School Musical                       & 2006 &  98 & Comedy    & 5.2 &   4.2 & 0 &  0\\\\\n",
       "\t Shaun of the Dead                         & 2004 &  99 & Horror    & 8.0 &   6.1 & 1 & 18\\\\\n",
       "\t Taxi Driver                               & 1976 & 113 & Crime     & 8.3 &   1.3 & 1 & 14\\\\\n",
       "\t The Shawshank Redemption                  & 1994 & 142 & Crime     & 9.3 &  25.0 & 0 & 16\\\\\n",
       "\t Interstellar                              & 2014 & 169 & Adventure & 8.6 & 165.0 & 0 & 10\\\\\n",
       "\t Casino                                    & 1995 & 178 & Biography & 8.2 &  50.0 & 0 & 18\\\\\n",
       "\t The Goodfellas                            & 1990 & 145 & Biography & 8.7 &  25.0 & 0 & 14\\\\\n",
       "\t Blue is the Warmest Colour                & 2013 & 179 & Romance   & 7.8 &   4.5 & 1 & 18\\\\\n",
       "\t Black Swan                                & 2010 & 108 & Thriller  & 8.0 &  13.0 & 0 & 16\\\\\n",
       "\t Back to the Future                        & 1985 & 116 & Sci-fi    & 8.5 &  19.0 & 0 &  0\\\\\n",
       "\t The Wave                                  & 2008 & 107 & Thriller  & 7.6 &   5.5 & 1 & 16\\\\\n",
       "\t Whiplash                                  & 2014 & 106 & Drama     & 8.5 &   3.3 & 1 & 12\\\\\n",
       "\t The Grand Hotel Budapest                  & 2014 & 100 & Crime     & 8.1 &  25.5 & 0 & 14\\\\\n",
       "\t Jumanji                                   & 1995 & 104 & Fantasy   & 6.9 &  65.0 & 0 & 12\\\\\n",
       "\t The Eternal Sunshine of the Spotless Mind & 2004 & 108 & Drama     & 8.3 &  20.0 & 0 & 14\\\\\n",
       "\t Chicago                                   & 2002 & 113 & Comedy    & 7.2 &  45.0 & 0 & 12\\\\\n",
       "\\end{tabular}\n"
      ],
      "text/markdown": [
       "\n",
       "A data.frame: 30 × 8\n",
       "\n",
       "| name &lt;chr&gt; | year &lt;int&gt; | length_min &lt;int&gt; | genre &lt;chr&gt; | average_rating &lt;dbl&gt; | cost_millions &lt;dbl&gt; | foreign &lt;int&gt; | age_restriction &lt;int&gt; |\n",
       "|---|---|---|---|---|---|---|---|\n",
       "| Toy Story                                 | 1995 |  81 | Animation | 8.3 |  30.0 | 0 |  0 |\n",
       "| Akira                                     | 1998 | 125 | Animation | 8.1 |  10.4 | 1 | 14 |\n",
       "| The Breakfast Club                        | 1985 |  97 | Drama     | 7.9 |   1.0 | 0 | 14 |\n",
       "| The Artist                                | 2011 | 100 | Romance   | 8.0 |  15.0 | 1 | 12 |\n",
       "| Modern Times                              | 1936 |  87 | Comedy    | 8.6 |   1.5 | 0 | 10 |\n",
       "| Fight Club                                | 1999 | 139 | Drama     | 8.9 |  63.0 | 0 | 18 |\n",
       "| City of God                               | 2002 | 130 | Crime     | 8.7 |   3.3 | 1 | 18 |\n",
       "| The Untouchables                          | 1987 | 119 | Drama     | 7.9 |  25.0 | 0 | 14 |\n",
       "| Star Wars Episode IV                      | 1977 | 121 | Action    | 8.7 |  11.0 | 0 | 10 |\n",
       "| American Beauty                           | 1999 | 122 | Drama     | 8.4 |  15.0 | 0 | 14 |\n",
       "| Room                                      | 2015 | 118 | Drama     | 8.3 |  13.0 | 1 | 14 |\n",
       "| Dr. Strangelove                           | 1964 |  94 | Comedy    | 8.5 |   1.8 | 1 | 10 |\n",
       "| The Ring                                  | 1998 |  95 | Horror    | 7.3 |   1.2 | 1 | 18 |\n",
       "| Monty Python and the Holy Grail           | 1975 |  91 | Comedy    | 8.3 |   0.4 | 1 | 18 |\n",
       "| High School Musical                       | 2006 |  98 | Comedy    | 5.2 |   4.2 | 0 |  0 |\n",
       "| Shaun of the Dead                         | 2004 |  99 | Horror    | 8.0 |   6.1 | 1 | 18 |\n",
       "| Taxi Driver                               | 1976 | 113 | Crime     | 8.3 |   1.3 | 1 | 14 |\n",
       "| The Shawshank Redemption                  | 1994 | 142 | Crime     | 9.3 |  25.0 | 0 | 16 |\n",
       "| Interstellar                              | 2014 | 169 | Adventure | 8.6 | 165.0 | 0 | 10 |\n",
       "| Casino                                    | 1995 | 178 | Biography | 8.2 |  50.0 | 0 | 18 |\n",
       "| The Goodfellas                            | 1990 | 145 | Biography | 8.7 |  25.0 | 0 | 14 |\n",
       "| Blue is the Warmest Colour                | 2013 | 179 | Romance   | 7.8 |   4.5 | 1 | 18 |\n",
       "| Black Swan                                | 2010 | 108 | Thriller  | 8.0 |  13.0 | 0 | 16 |\n",
       "| Back to the Future                        | 1985 | 116 | Sci-fi    | 8.5 |  19.0 | 0 |  0 |\n",
       "| The Wave                                  | 2008 | 107 | Thriller  | 7.6 |   5.5 | 1 | 16 |\n",
       "| Whiplash                                  | 2014 | 106 | Drama     | 8.5 |   3.3 | 1 | 12 |\n",
       "| The Grand Hotel Budapest                  | 2014 | 100 | Crime     | 8.1 |  25.5 | 0 | 14 |\n",
       "| Jumanji                                   | 1995 | 104 | Fantasy   | 6.9 |  65.0 | 0 | 12 |\n",
       "| The Eternal Sunshine of the Spotless Mind | 2004 | 108 | Drama     | 8.3 |  20.0 | 0 | 14 |\n",
       "| Chicago                                   | 2002 | 113 | Comedy    | 7.2 |  45.0 | 0 | 12 |\n",
       "\n"
      ],
      "text/plain": [
       "   name                                      year length_min genre    \n",
       "1  Toy Story                                 1995  81        Animation\n",
       "2  Akira                                     1998 125        Animation\n",
       "3  The Breakfast Club                        1985  97        Drama    \n",
       "4  The Artist                                2011 100        Romance  \n",
       "5  Modern Times                              1936  87        Comedy   \n",
       "6  Fight Club                                1999 139        Drama    \n",
       "7  City of God                               2002 130        Crime    \n",
       "8  The Untouchables                          1987 119        Drama    \n",
       "9  Star Wars Episode IV                      1977 121        Action   \n",
       "10 American Beauty                           1999 122        Drama    \n",
       "11 Room                                      2015 118        Drama    \n",
       "12 Dr. Strangelove                           1964  94        Comedy   \n",
       "13 The Ring                                  1998  95        Horror   \n",
       "14 Monty Python and the Holy Grail           1975  91        Comedy   \n",
       "15 High School Musical                       2006  98        Comedy   \n",
       "16 Shaun of the Dead                         2004  99        Horror   \n",
       "17 Taxi Driver                               1976 113        Crime    \n",
       "18 The Shawshank Redemption                  1994 142        Crime    \n",
       "19 Interstellar                              2014 169        Adventure\n",
       "20 Casino                                    1995 178        Biography\n",
       "21 The Goodfellas                            1990 145        Biography\n",
       "22 Blue is the Warmest Colour                2013 179        Romance  \n",
       "23 Black Swan                                2010 108        Thriller \n",
       "24 Back to the Future                        1985 116        Sci-fi   \n",
       "25 The Wave                                  2008 107        Thriller \n",
       "26 Whiplash                                  2014 106        Drama    \n",
       "27 The Grand Hotel Budapest                  2014 100        Crime    \n",
       "28 Jumanji                                   1995 104        Fantasy  \n",
       "29 The Eternal Sunshine of the Spotless Mind 2004 108        Drama    \n",
       "30 Chicago                                   2002 113        Comedy   \n",
       "   average_rating cost_millions foreign age_restriction\n",
       "1  8.3             30.0         0        0             \n",
       "2  8.1             10.4         1       14             \n",
       "3  7.9              1.0         0       14             \n",
       "4  8.0             15.0         1       12             \n",
       "5  8.6              1.5         0       10             \n",
       "6  8.9             63.0         0       18             \n",
       "7  8.7              3.3         1       18             \n",
       "8  7.9             25.0         0       14             \n",
       "9  8.7             11.0         0       10             \n",
       "10 8.4             15.0         0       14             \n",
       "11 8.3             13.0         1       14             \n",
       "12 8.5              1.8         1       10             \n",
       "13 7.3              1.2         1       18             \n",
       "14 8.3              0.4         1       18             \n",
       "15 5.2              4.2         0        0             \n",
       "16 8.0              6.1         1       18             \n",
       "17 8.3              1.3         1       14             \n",
       "18 9.3             25.0         0       16             \n",
       "19 8.6            165.0         0       10             \n",
       "20 8.2             50.0         0       18             \n",
       "21 8.7             25.0         0       14             \n",
       "22 7.8              4.5         1       18             \n",
       "23 8.0             13.0         0       16             \n",
       "24 8.5             19.0         0        0             \n",
       "25 7.6              5.5         1       16             \n",
       "26 8.5              3.3         1       12             \n",
       "27 8.1             25.5         0       14             \n",
       "28 6.9             65.0         0       12             \n",
       "29 8.3             20.0         0       14             \n",
       "30 7.2             45.0         0       12             "
      ]
     },
     "metadata": {},
     "output_type": "display_data"
    }
   ],
   "source": [
    "# Load the CSV table into the my_data variable.\n",
    "my_data <- read.csv(\"movies-db.csv\")\n",
    "my_data"
   ]
  },
  {
   "cell_type": "markdown",
   "id": "781e3727-2948-4ee2-ba78-1c64d1a9f934",
   "metadata": {},
   "source": [
    "The data was loaded into the `my_data` variable. But instead of viewing all the data at once, we can use the `head` function to take a look at only the top six rows of our table, like so:\n"
   ]
  },
  {
   "cell_type": "code",
   "execution_count": 3,
   "id": "72577b30-c909-4260-8fd8-2c7ed496e50f",
   "metadata": {},
   "outputs": [
    {
     "data": {
      "text/html": [
       "<table class=\"dataframe\">\n",
       "<caption>A data.frame: 6 × 8</caption>\n",
       "<thead>\n",
       "\t<tr><th></th><th scope=col>name</th><th scope=col>year</th><th scope=col>length_min</th><th scope=col>genre</th><th scope=col>average_rating</th><th scope=col>cost_millions</th><th scope=col>foreign</th><th scope=col>age_restriction</th></tr>\n",
       "\t<tr><th></th><th scope=col>&lt;chr&gt;</th><th scope=col>&lt;int&gt;</th><th scope=col>&lt;int&gt;</th><th scope=col>&lt;chr&gt;</th><th scope=col>&lt;dbl&gt;</th><th scope=col>&lt;dbl&gt;</th><th scope=col>&lt;int&gt;</th><th scope=col>&lt;int&gt;</th></tr>\n",
       "</thead>\n",
       "<tbody>\n",
       "\t<tr><th scope=row>1</th><td>Toy Story         </td><td>1995</td><td> 81</td><td>Animation</td><td>8.3</td><td>30.0</td><td>0</td><td> 0</td></tr>\n",
       "\t<tr><th scope=row>2</th><td>Akira             </td><td>1998</td><td>125</td><td>Animation</td><td>8.1</td><td>10.4</td><td>1</td><td>14</td></tr>\n",
       "\t<tr><th scope=row>3</th><td>The Breakfast Club</td><td>1985</td><td> 97</td><td>Drama    </td><td>7.9</td><td> 1.0</td><td>0</td><td>14</td></tr>\n",
       "\t<tr><th scope=row>4</th><td>The Artist        </td><td>2011</td><td>100</td><td>Romance  </td><td>8.0</td><td>15.0</td><td>1</td><td>12</td></tr>\n",
       "\t<tr><th scope=row>5</th><td>Modern Times      </td><td>1936</td><td> 87</td><td>Comedy   </td><td>8.6</td><td> 1.5</td><td>0</td><td>10</td></tr>\n",
       "\t<tr><th scope=row>6</th><td>Fight Club        </td><td>1999</td><td>139</td><td>Drama    </td><td>8.9</td><td>63.0</td><td>0</td><td>18</td></tr>\n",
       "</tbody>\n",
       "</table>\n"
      ],
      "text/latex": [
       "A data.frame: 6 × 8\n",
       "\\begin{tabular}{r|llllllll}\n",
       "  & name & year & length\\_min & genre & average\\_rating & cost\\_millions & foreign & age\\_restriction\\\\\n",
       "  & <chr> & <int> & <int> & <chr> & <dbl> & <dbl> & <int> & <int>\\\\\n",
       "\\hline\n",
       "\t1 & Toy Story          & 1995 &  81 & Animation & 8.3 & 30.0 & 0 &  0\\\\\n",
       "\t2 & Akira              & 1998 & 125 & Animation & 8.1 & 10.4 & 1 & 14\\\\\n",
       "\t3 & The Breakfast Club & 1985 &  97 & Drama     & 7.9 &  1.0 & 0 & 14\\\\\n",
       "\t4 & The Artist         & 2011 & 100 & Romance   & 8.0 & 15.0 & 1 & 12\\\\\n",
       "\t5 & Modern Times       & 1936 &  87 & Comedy    & 8.6 &  1.5 & 0 & 10\\\\\n",
       "\t6 & Fight Club         & 1999 & 139 & Drama     & 8.9 & 63.0 & 0 & 18\\\\\n",
       "\\end{tabular}\n"
      ],
      "text/markdown": [
       "\n",
       "A data.frame: 6 × 8\n",
       "\n",
       "| <!--/--> | name &lt;chr&gt; | year &lt;int&gt; | length_min &lt;int&gt; | genre &lt;chr&gt; | average_rating &lt;dbl&gt; | cost_millions &lt;dbl&gt; | foreign &lt;int&gt; | age_restriction &lt;int&gt; |\n",
       "|---|---|---|---|---|---|---|---|---|\n",
       "| 1 | Toy Story          | 1995 |  81 | Animation | 8.3 | 30.0 | 0 |  0 |\n",
       "| 2 | Akira              | 1998 | 125 | Animation | 8.1 | 10.4 | 1 | 14 |\n",
       "| 3 | The Breakfast Club | 1985 |  97 | Drama     | 7.9 |  1.0 | 0 | 14 |\n",
       "| 4 | The Artist         | 2011 | 100 | Romance   | 8.0 | 15.0 | 1 | 12 |\n",
       "| 5 | Modern Times       | 1936 |  87 | Comedy    | 8.6 |  1.5 | 0 | 10 |\n",
       "| 6 | Fight Club         | 1999 | 139 | Drama     | 8.9 | 63.0 | 0 | 18 |\n",
       "\n"
      ],
      "text/plain": [
       "  name               year length_min genre     average_rating cost_millions\n",
       "1 Toy Story          1995  81        Animation 8.3            30.0         \n",
       "2 Akira              1998 125        Animation 8.1            10.4         \n",
       "3 The Breakfast Club 1985  97        Drama     7.9             1.0         \n",
       "4 The Artist         2011 100        Romance   8.0            15.0         \n",
       "5 Modern Times       1936  87        Comedy    8.6             1.5         \n",
       "6 Fight Club         1999 139        Drama     8.9            63.0         \n",
       "  foreign age_restriction\n",
       "1 0        0             \n",
       "2 1       14             \n",
       "3 0       14             \n",
       "4 1       12             \n",
       "5 0       10             \n",
       "6 0       18             "
      ]
     },
     "metadata": {},
     "output_type": "display_data"
    }
   ],
   "source": [
    "# Print out the first six rows of my_data\n",
    "head(my_data)"
   ]
  },
  {
   "cell_type": "markdown",
   "id": "08fc8a72-17f6-443e-8950-4a263ce8dee9",
   "metadata": {},
   "source": [
    "Additionally, you may want to take a look at the **structure** of your newly created table. R provides us with a function that summarizes an entire table's properties, called `str`. Let's try it out.\n"
   ]
  },
  {
   "cell_type": "code",
   "execution_count": 4,
   "id": "080d7756-2f3c-4fe2-8dec-376927b543d0",
   "metadata": {},
   "outputs": [
    {
     "name": "stdout",
     "output_type": "stream",
     "text": [
      "'data.frame':\t30 obs. of  8 variables:\n",
      " $ name           : chr  \"Toy Story\" \"Akira\" \"The Breakfast Club\" \"The Artist\" ...\n",
      " $ year           : int  1995 1998 1985 2011 1936 1999 2002 1987 1977 1999 ...\n",
      " $ length_min     : int  81 125 97 100 87 139 130 119 121 122 ...\n",
      " $ genre          : chr  \"Animation\" \"Animation\" \"Drama\" \"Romance\" ...\n",
      " $ average_rating : num  8.3 8.1 7.9 8 8.6 8.9 8.7 7.9 8.7 8.4 ...\n",
      " $ cost_millions  : num  30 10.4 1 15 1.5 63 3.3 25 11 15 ...\n",
      " $ foreign        : int  0 1 0 1 0 0 1 0 0 0 ...\n",
      " $ age_restriction: int  0 14 14 12 10 18 18 14 10 14 ...\n"
     ]
    }
   ],
   "source": [
    "# Prints out the structure of your table.\n",
    "str(my_data)"
   ]
  },
  {
   "cell_type": "markdown",
   "id": "69c16d0a-af02-47f6-9462-9f4d5ada9bc1",
   "metadata": {},
   "source": [
    "When we loaded the file with the `read.csv` function, we had to only pass it one parameter -- the **path** to our desired file.\n"
   ]
  },
  {
   "cell_type": "markdown",
   "id": "66ca1149-8f1f-41aa-a3da-741a4f6522c9",
   "metadata": {},
   "source": [
    "<hr>\n",
    "\n",
    "**Coding Exercise:** in the code cell below, get the summary of my_data data frame\n"
   ]
  },
  {
   "cell_type": "code",
   "execution_count": 5,
   "id": "ecd2c5f2-1729-44ba-b9d8-4295b459059e",
   "metadata": {},
   "outputs": [
    {
     "data": {
      "text/plain": [
       "     name                year        length_min        genre          \n",
       " Length:30          Min.   :1936   Min.   : 81.00   Length:30         \n",
       " Class :character   1st Qu.:1988   1st Qu.: 99.25   Class :character  \n",
       " Mode  :character   Median :1998   Median :110.50   Mode  :character  \n",
       "                    Mean   :1996   Mean   :116.80                     \n",
       "                    3rd Qu.:2008   3rd Qu.:124.25                     \n",
       "                    Max.   :2015   Max.   :179.00                     \n",
       " average_rating  cost_millions        foreign    age_restriction\n",
       " Min.   :5.200   Min.   :  0.400   Min.   :0.0   Min.   : 0.00  \n",
       " 1st Qu.:7.925   1st Qu.:  3.525   1st Qu.:0.0   1st Qu.:12.00  \n",
       " Median :8.300   Median : 13.000   Median :0.0   Median :14.00  \n",
       " Mean   :8.103   Mean   : 22.300   Mean   :0.4   Mean   :12.93  \n",
       " 3rd Qu.:8.500   3rd Qu.: 25.000   3rd Qu.:1.0   3rd Qu.:16.00  \n",
       " Max.   :9.300   Max.   :165.000   Max.   :1.0   Max.   :18.00  "
      ]
     },
     "metadata": {},
     "output_type": "display_data"
    }
   ],
   "source": [
    "# Write your code below. Don't forget to press Shift+Enter to execute the cell\n",
    "summary(my_data)"
   ]
  },
  {
   "cell_type": "markdown",
   "id": "f3f4af34-0ff4-4ebe-8e7a-30c165550cf1",
   "metadata": {},
   "source": [
    "<details><summary>Click here for the solution</summary>\n",
    "\n",
    "```R\n",
    "summary(my_data)\n",
    "\n",
    "```\n",
    "\n",
    "</details>\n",
    "\n",
    "<hr>\n"
   ]
  },
  {
   "cell_type": "markdown",
   "id": "43e88d3f-0c66-4a28-9f1d-d861fb57ce94",
   "metadata": {},
   "source": [
    "<a id=\"ref2\"></a>\n",
    "\n",
    "<center><h2>Reading Excel Files</h2></center>\n"
   ]
  },
  {
   "cell_type": "markdown",
   "id": "efe2348a-5404-477c-9cd5-07d1292788fc",
   "metadata": {},
   "source": [
    "Reading XLS (Excel Spreadsheet) files is similar to reading CSV files, but there's one catch -- R does not have a native function to read them. However, thankfully, R has an extremely large repository of user-created functions, called _CRAN_. From there, we can download a library package to make us able to read XLS files.\n",
    "\n",
    "To download a package, we use the `install.packages` function (may take minutes because it is a big library). Once installed, you do not need to install that same library ever again, unless, of course, you uninstall it.\n"
   ]
  },
  {
   "cell_type": "markdown",
   "id": "fb92c0c4-526e-4f00-9cf1-ea4a40493b39",
   "metadata": {},
   "source": [
    "Whenever you are going to use a library that is not native to R, you have to load it into the R environment after you install it. In other words, you need to install once only, but to use it, you must load it into R for every new session. To do so, use the `library` function, which loads up everything we can use in that library into R.\n"
   ]
  },
  {
   "cell_type": "code",
   "execution_count": 8,
   "metadata": {},
   "outputs": [
    {
     "name": "stderr",
     "output_type": "stream",
     "text": [
      "Warning message:\n",
      "\"package 'readxl' is in use and will not be installed\"\n"
     ]
    }
   ],
   "source": [
    "install.packages('readxl')"
   ]
  },
  {
   "cell_type": "code",
   "execution_count": 12,
   "id": "48bb3c6f-eed7-48f6-a6cf-86b3a65ef819",
   "metadata": {},
   "outputs": [],
   "source": [
    "# Load the \"readxl\" library into the R environment.\n",
    "library(readxl)"
   ]
  },
  {
   "cell_type": "markdown",
   "id": "c67098a5-2b28-4175-b1cb-3c8ce762d2ba",
   "metadata": {},
   "source": [
    "Now that we have our library and its functions ready, we can move on to actually reading the file. In `readxl`, there is a function called `read_excel`, which does all the work for us. You can use it like this:\n"
   ]
  },
  {
   "cell_type": "code",
   "execution_count": 13,
   "id": "8feb9461-381d-472e-8265-ac9eeab820a4",
   "metadata": {},
   "outputs": [
    {
     "name": "stderr",
     "output_type": "stream",
     "text": [
      "\u001b[1m\u001b[22mNew names:\n",
      "\u001b[36m•\u001b[39m `` -> `...3`\n"
     ]
    }
   ],
   "source": [
    "# Read data from the XLS file and attribute the table to the my_excel_data variable.\n",
    "my_excel_data <- read_excel(\"movies-db.xls\",sheet=\"movies-db\")"
   ]
  },
  {
   "cell_type": "markdown",
   "id": "f7ff4852-d247-4a89-b6d9-c575057464ed",
   "metadata": {},
   "source": [
    "Since `my_excel_data` is now a dataframe in R, much like the one we created out of the CSV file, all of the native R functions can be applied to it, like `head` and `str`.\n"
   ]
  },
  {
   "cell_type": "code",
   "execution_count": 15,
   "id": "30757170-fcae-4618-8468-7cfd4c6a4ae2",
   "metadata": {},
   "outputs": [
    {
     "name": "stdout",
     "output_type": "stream",
     "text": [
      "tibble [30 × 8] (S3: tbl_df/tbl/data.frame)\n",
      " $ name           : chr [1:30] \"Toy Story\" \"Akira\" \"The Breakfast Club\" NA ...\n",
      " $ year           : num [1:30] 1995 1998 1985 2011 1936 ...\n",
      " $ ...3           : num [1:30] 81 125 97 100 87 139 130 119 121 NA ...\n",
      " $ genre          : chr [1:30] \"Animation\" \"Animation\" \"Drama\" \"Romance\" ...\n",
      " $ average_rating : num [1:30] 8.3 8.1 7.9 8 8.6 8.9 8.7 7.9 8.7 NA ...\n",
      " $ cost_millions  : num [1:30] 30 10.4 1 15 1.5 63 3.3 25 11 NA ...\n",
      " $ foreign        : num [1:30] 0 1 0 1 0 0 1 0 0 NA ...\n",
      " $ age_restriction: num [1:30] 0 14 14 12 10 18 18 14 10 NA ...\n"
     ]
    }
   ],
   "source": [
    "# Prints out the structure of your table.\n",
    "# Tells you how many rows and columns there are, and the names and type of each column.\n",
    "# This should be the very same as the other table we created, as they are the same dataset.\n",
    "str(my_excel_data)"
   ]
  },
  {
   "cell_type": "markdown",
   "id": "2e6b7dfd-2ddb-476b-8877-ee9ae911ba53",
   "metadata": {},
   "source": [
    "Much like the `read.csv` function, `read_excel` takes as its main parameter the **path** to the desired file.\n"
   ]
  },
  {
   "cell_type": "markdown",
   "id": "de481a3d-6fe7-4db7-8f46-8121c182c91a",
   "metadata": {},
   "source": [
    "<div class=\"alert alert-success alertsuccess\">\n",
    "<b>[Tip]</b>   \n",
    "A library is basically a collection of different classes and functions which are used to perform some specific operations. You can install and use libraries to add more functions that are not included on the core R files.\n",
    "For example, the readxl library adds functions to read data from excel files.\n",
    "<br><br>\n",
    "It's important to know that there are many other libraries too which can be used for a variety of things. There are also plenty of other libraries to read Excel files -- readxl is just one of them.\n",
    "</div>\n"
   ]
  },
  {
   "cell_type": "markdown",
   "id": "c75e7e28-475c-4153-ae21-2c1719d7c7c8",
   "metadata": {},
   "source": [
    "* * *\n"
   ]
  },
  {
   "cell_type": "markdown",
   "id": "e1db2971-2309-46a7-9314-8e9290cfee6e",
   "metadata": {},
   "source": [
    "<center><h2>Accessing Rows and Columns</h2></center>\n"
   ]
  },
  {
   "cell_type": "markdown",
   "id": "8a7bb22a-08e1-484e-8f9d-0d2ffdfa7262",
   "metadata": {},
   "source": [
    "Whenever we use functions to read tabular data in R, the default method of structuring this data in the R environment is using Data Frames -- R's primary data structure. Data Frames are extremely versatile, and R presents us many options to manipulate them.\n",
    "\n",
    "Suppose we want to access the \"name\" column of our dataset. We can directly reference the column name on our data frame to retrieve this data, like this:\n"
   ]
  },
  {
   "cell_type": "code",
   "execution_count": 16,
   "id": "2e188d34-a9bb-4ad6-8d5b-d169f72e3dbf",
   "metadata": {},
   "outputs": [
    {
     "data": {
      "text/html": [
       "<table class=\"dataframe\">\n",
       "<caption>A data.frame: 30 × 1</caption>\n",
       "<thead>\n",
       "\t<tr><th scope=col>name</th></tr>\n",
       "\t<tr><th scope=col>&lt;chr&gt;</th></tr>\n",
       "</thead>\n",
       "<tbody>\n",
       "\t<tr><td>Toy Story                                </td></tr>\n",
       "\t<tr><td>Akira                                    </td></tr>\n",
       "\t<tr><td>The Breakfast Club                       </td></tr>\n",
       "\t<tr><td>The Artist                               </td></tr>\n",
       "\t<tr><td>Modern Times                             </td></tr>\n",
       "\t<tr><td>Fight Club                               </td></tr>\n",
       "\t<tr><td>City of God                              </td></tr>\n",
       "\t<tr><td>The Untouchables                         </td></tr>\n",
       "\t<tr><td>Star Wars Episode IV                     </td></tr>\n",
       "\t<tr><td>American Beauty                          </td></tr>\n",
       "\t<tr><td>Room                                     </td></tr>\n",
       "\t<tr><td>Dr. Strangelove                          </td></tr>\n",
       "\t<tr><td>The Ring                                 </td></tr>\n",
       "\t<tr><td>Monty Python and the Holy Grail          </td></tr>\n",
       "\t<tr><td>High School Musical                      </td></tr>\n",
       "\t<tr><td>Shaun of the Dead                        </td></tr>\n",
       "\t<tr><td>Taxi Driver                              </td></tr>\n",
       "\t<tr><td>The Shawshank Redemption                 </td></tr>\n",
       "\t<tr><td>Interstellar                             </td></tr>\n",
       "\t<tr><td>Casino                                   </td></tr>\n",
       "\t<tr><td>The Goodfellas                           </td></tr>\n",
       "\t<tr><td>Blue is the Warmest Colour               </td></tr>\n",
       "\t<tr><td>Black Swan                               </td></tr>\n",
       "\t<tr><td>Back to the Future                       </td></tr>\n",
       "\t<tr><td>The Wave                                 </td></tr>\n",
       "\t<tr><td>Whiplash                                 </td></tr>\n",
       "\t<tr><td>The Grand Hotel Budapest                 </td></tr>\n",
       "\t<tr><td>Jumanji                                  </td></tr>\n",
       "\t<tr><td>The Eternal Sunshine of the Spotless Mind</td></tr>\n",
       "\t<tr><td>Chicago                                  </td></tr>\n",
       "</tbody>\n",
       "</table>\n"
      ],
      "text/latex": [
       "A data.frame: 30 × 1\n",
       "\\begin{tabular}{l}\n",
       " name\\\\\n",
       " <chr>\\\\\n",
       "\\hline\n",
       "\t Toy Story                                \\\\\n",
       "\t Akira                                    \\\\\n",
       "\t The Breakfast Club                       \\\\\n",
       "\t The Artist                               \\\\\n",
       "\t Modern Times                             \\\\\n",
       "\t Fight Club                               \\\\\n",
       "\t City of God                              \\\\\n",
       "\t The Untouchables                         \\\\\n",
       "\t Star Wars Episode IV                     \\\\\n",
       "\t American Beauty                          \\\\\n",
       "\t Room                                     \\\\\n",
       "\t Dr. Strangelove                          \\\\\n",
       "\t The Ring                                 \\\\\n",
       "\t Monty Python and the Holy Grail          \\\\\n",
       "\t High School Musical                      \\\\\n",
       "\t Shaun of the Dead                        \\\\\n",
       "\t Taxi Driver                              \\\\\n",
       "\t The Shawshank Redemption                 \\\\\n",
       "\t Interstellar                             \\\\\n",
       "\t Casino                                   \\\\\n",
       "\t The Goodfellas                           \\\\\n",
       "\t Blue is the Warmest Colour               \\\\\n",
       "\t Black Swan                               \\\\\n",
       "\t Back to the Future                       \\\\\n",
       "\t The Wave                                 \\\\\n",
       "\t Whiplash                                 \\\\\n",
       "\t The Grand Hotel Budapest                 \\\\\n",
       "\t Jumanji                                  \\\\\n",
       "\t The Eternal Sunshine of the Spotless Mind\\\\\n",
       "\t Chicago                                  \\\\\n",
       "\\end{tabular}\n"
      ],
      "text/markdown": [
       "\n",
       "A data.frame: 30 × 1\n",
       "\n",
       "| name &lt;chr&gt; |\n",
       "|---|\n",
       "| Toy Story                                 |\n",
       "| Akira                                     |\n",
       "| The Breakfast Club                        |\n",
       "| The Artist                                |\n",
       "| Modern Times                              |\n",
       "| Fight Club                                |\n",
       "| City of God                               |\n",
       "| The Untouchables                          |\n",
       "| Star Wars Episode IV                      |\n",
       "| American Beauty                           |\n",
       "| Room                                      |\n",
       "| Dr. Strangelove                           |\n",
       "| The Ring                                  |\n",
       "| Monty Python and the Holy Grail           |\n",
       "| High School Musical                       |\n",
       "| Shaun of the Dead                         |\n",
       "| Taxi Driver                               |\n",
       "| The Shawshank Redemption                  |\n",
       "| Interstellar                              |\n",
       "| Casino                                    |\n",
       "| The Goodfellas                            |\n",
       "| Blue is the Warmest Colour                |\n",
       "| Black Swan                                |\n",
       "| Back to the Future                        |\n",
       "| The Wave                                  |\n",
       "| Whiplash                                  |\n",
       "| The Grand Hotel Budapest                  |\n",
       "| Jumanji                                   |\n",
       "| The Eternal Sunshine of the Spotless Mind |\n",
       "| Chicago                                   |\n",
       "\n"
      ],
      "text/plain": [
       "   name                                     \n",
       "1  Toy Story                                \n",
       "2  Akira                                    \n",
       "3  The Breakfast Club                       \n",
       "4  The Artist                               \n",
       "5  Modern Times                             \n",
       "6  Fight Club                               \n",
       "7  City of God                              \n",
       "8  The Untouchables                         \n",
       "9  Star Wars Episode IV                     \n",
       "10 American Beauty                          \n",
       "11 Room                                     \n",
       "12 Dr. Strangelove                          \n",
       "13 The Ring                                 \n",
       "14 Monty Python and the Holy Grail          \n",
       "15 High School Musical                      \n",
       "16 Shaun of the Dead                        \n",
       "17 Taxi Driver                              \n",
       "18 The Shawshank Redemption                 \n",
       "19 Interstellar                             \n",
       "20 Casino                                   \n",
       "21 The Goodfellas                           \n",
       "22 Blue is the Warmest Colour               \n",
       "23 Black Swan                               \n",
       "24 Back to the Future                       \n",
       "25 The Wave                                 \n",
       "26 Whiplash                                 \n",
       "27 The Grand Hotel Budapest                 \n",
       "28 Jumanji                                  \n",
       "29 The Eternal Sunshine of the Spotless Mind\n",
       "30 Chicago                                  "
      ]
     },
     "metadata": {},
     "output_type": "display_data"
    }
   ],
   "source": [
    "# Retrieve a subset of the data frame consisting of the \"name\" columns\n",
    "my_data['name']"
   ]
  },
  {
   "cell_type": "markdown",
   "id": "02dbe074-c529-4c8a-8930-9fbfba6fbe6a",
   "metadata": {},
   "source": [
    "Another way to do this is by using the `$` notation which at the output will provide a vector:\n"
   ]
  },
  {
   "cell_type": "code",
   "execution_count": 17,
   "id": "6db61da9-041d-4e37-8cfb-d828db868561",
   "metadata": {},
   "outputs": [
    {
     "data": {
      "text/html": [
       "<style>\n",
       ".list-inline {list-style: none; margin:0; padding: 0}\n",
       ".list-inline>li {display: inline-block}\n",
       ".list-inline>li:not(:last-child)::after {content: \"\\00b7\"; padding: 0 .5ex}\n",
       "</style>\n",
       "<ol class=list-inline><li>'Toy Story'</li><li>'Akira'</li><li>'The Breakfast Club'</li><li>'The Artist'</li><li>'Modern Times'</li><li>'Fight Club'</li><li>'City of God'</li><li>'The Untouchables'</li><li>'Star Wars Episode IV'</li><li>'American Beauty'</li><li>'Room'</li><li>'Dr. Strangelove'</li><li>'The Ring'</li><li>'Monty Python and the Holy Grail'</li><li>'High School Musical'</li><li>'Shaun of the Dead'</li><li>'Taxi Driver'</li><li>'The Shawshank Redemption'</li><li>'Interstellar'</li><li>'Casino'</li><li>'The Goodfellas'</li><li>'Blue is the Warmest Colour'</li><li>'Black Swan'</li><li>'Back to the Future'</li><li>'The Wave'</li><li>'Whiplash'</li><li>'The Grand Hotel Budapest'</li><li>'Jumanji'</li><li>'The Eternal Sunshine of the Spotless Mind'</li><li>'Chicago'</li></ol>\n"
      ],
      "text/latex": [
       "\\begin{enumerate*}\n",
       "\\item 'Toy Story'\n",
       "\\item 'Akira'\n",
       "\\item 'The Breakfast Club'\n",
       "\\item 'The Artist'\n",
       "\\item 'Modern Times'\n",
       "\\item 'Fight Club'\n",
       "\\item 'City of God'\n",
       "\\item 'The Untouchables'\n",
       "\\item 'Star Wars Episode IV'\n",
       "\\item 'American Beauty'\n",
       "\\item 'Room'\n",
       "\\item 'Dr. Strangelove'\n",
       "\\item 'The Ring'\n",
       "\\item 'Monty Python and the Holy Grail'\n",
       "\\item 'High School Musical'\n",
       "\\item 'Shaun of the Dead'\n",
       "\\item 'Taxi Driver'\n",
       "\\item 'The Shawshank Redemption'\n",
       "\\item 'Interstellar'\n",
       "\\item 'Casino'\n",
       "\\item 'The Goodfellas'\n",
       "\\item 'Blue is the Warmest Colour'\n",
       "\\item 'Black Swan'\n",
       "\\item 'Back to the Future'\n",
       "\\item 'The Wave'\n",
       "\\item 'Whiplash'\n",
       "\\item 'The Grand Hotel Budapest'\n",
       "\\item 'Jumanji'\n",
       "\\item 'The Eternal Sunshine of the Spotless Mind'\n",
       "\\item 'Chicago'\n",
       "\\end{enumerate*}\n"
      ],
      "text/markdown": [
       "1. 'Toy Story'\n",
       "2. 'Akira'\n",
       "3. 'The Breakfast Club'\n",
       "4. 'The Artist'\n",
       "5. 'Modern Times'\n",
       "6. 'Fight Club'\n",
       "7. 'City of God'\n",
       "8. 'The Untouchables'\n",
       "9. 'Star Wars Episode IV'\n",
       "10. 'American Beauty'\n",
       "11. 'Room'\n",
       "12. 'Dr. Strangelove'\n",
       "13. 'The Ring'\n",
       "14. 'Monty Python and the Holy Grail'\n",
       "15. 'High School Musical'\n",
       "16. 'Shaun of the Dead'\n",
       "17. 'Taxi Driver'\n",
       "18. 'The Shawshank Redemption'\n",
       "19. 'Interstellar'\n",
       "20. 'Casino'\n",
       "21. 'The Goodfellas'\n",
       "22. 'Blue is the Warmest Colour'\n",
       "23. 'Black Swan'\n",
       "24. 'Back to the Future'\n",
       "25. 'The Wave'\n",
       "26. 'Whiplash'\n",
       "27. 'The Grand Hotel Budapest'\n",
       "28. 'Jumanji'\n",
       "29. 'The Eternal Sunshine of the Spotless Mind'\n",
       "30. 'Chicago'\n",
       "\n",
       "\n"
      ],
      "text/plain": [
       " [1] \"Toy Story\"                                \n",
       " [2] \"Akira\"                                    \n",
       " [3] \"The Breakfast Club\"                       \n",
       " [4] \"The Artist\"                               \n",
       " [5] \"Modern Times\"                             \n",
       " [6] \"Fight Club\"                               \n",
       " [7] \"City of God\"                              \n",
       " [8] \"The Untouchables\"                         \n",
       " [9] \"Star Wars Episode IV\"                     \n",
       "[10] \"American Beauty\"                          \n",
       "[11] \"Room\"                                     \n",
       "[12] \"Dr. Strangelove\"                          \n",
       "[13] \"The Ring\"                                 \n",
       "[14] \"Monty Python and the Holy Grail\"          \n",
       "[15] \"High School Musical\"                      \n",
       "[16] \"Shaun of the Dead\"                        \n",
       "[17] \"Taxi Driver\"                              \n",
       "[18] \"The Shawshank Redemption\"                 \n",
       "[19] \"Interstellar\"                             \n",
       "[20] \"Casino\"                                   \n",
       "[21] \"The Goodfellas\"                           \n",
       "[22] \"Blue is the Warmest Colour\"               \n",
       "[23] \"Black Swan\"                               \n",
       "[24] \"Back to the Future\"                       \n",
       "[25] \"The Wave\"                                 \n",
       "[26] \"Whiplash\"                                 \n",
       "[27] \"The Grand Hotel Budapest\"                 \n",
       "[28] \"Jumanji\"                                  \n",
       "[29] \"The Eternal Sunshine of the Spotless Mind\"\n",
       "[30] \"Chicago\"                                  "
      ]
     },
     "metadata": {},
     "output_type": "display_data"
    }
   ],
   "source": [
    "# Retrieve the data for the \"name\" column in the data frame.\n",
    "my_data$name"
   ]
  },
  {
   "cell_type": "markdown",
   "id": "569b2d5d-3474-47eb-8575-653e0fd3bb58",
   "metadata": {},
   "source": [
    "You can also do the same thing using **double square brackets**, to get a vector of `names` column.\n"
   ]
  },
  {
   "cell_type": "code",
   "execution_count": 18,
   "id": "50fc9c90-0ce5-4c69-b711-44f9d92af4c4",
   "metadata": {},
   "outputs": [
    {
     "data": {
      "text/html": [
       "<style>\n",
       ".list-inline {list-style: none; margin:0; padding: 0}\n",
       ".list-inline>li {display: inline-block}\n",
       ".list-inline>li:not(:last-child)::after {content: \"\\00b7\"; padding: 0 .5ex}\n",
       "</style>\n",
       "<ol class=list-inline><li>'Toy Story'</li><li>'Akira'</li><li>'The Breakfast Club'</li><li>'The Artist'</li><li>'Modern Times'</li><li>'Fight Club'</li><li>'City of God'</li><li>'The Untouchables'</li><li>'Star Wars Episode IV'</li><li>'American Beauty'</li><li>'Room'</li><li>'Dr. Strangelove'</li><li>'The Ring'</li><li>'Monty Python and the Holy Grail'</li><li>'High School Musical'</li><li>'Shaun of the Dead'</li><li>'Taxi Driver'</li><li>'The Shawshank Redemption'</li><li>'Interstellar'</li><li>'Casino'</li><li>'The Goodfellas'</li><li>'Blue is the Warmest Colour'</li><li>'Black Swan'</li><li>'Back to the Future'</li><li>'The Wave'</li><li>'Whiplash'</li><li>'The Grand Hotel Budapest'</li><li>'Jumanji'</li><li>'The Eternal Sunshine of the Spotless Mind'</li><li>'Chicago'</li></ol>\n"
      ],
      "text/latex": [
       "\\begin{enumerate*}\n",
       "\\item 'Toy Story'\n",
       "\\item 'Akira'\n",
       "\\item 'The Breakfast Club'\n",
       "\\item 'The Artist'\n",
       "\\item 'Modern Times'\n",
       "\\item 'Fight Club'\n",
       "\\item 'City of God'\n",
       "\\item 'The Untouchables'\n",
       "\\item 'Star Wars Episode IV'\n",
       "\\item 'American Beauty'\n",
       "\\item 'Room'\n",
       "\\item 'Dr. Strangelove'\n",
       "\\item 'The Ring'\n",
       "\\item 'Monty Python and the Holy Grail'\n",
       "\\item 'High School Musical'\n",
       "\\item 'Shaun of the Dead'\n",
       "\\item 'Taxi Driver'\n",
       "\\item 'The Shawshank Redemption'\n",
       "\\item 'Interstellar'\n",
       "\\item 'Casino'\n",
       "\\item 'The Goodfellas'\n",
       "\\item 'Blue is the Warmest Colour'\n",
       "\\item 'Black Swan'\n",
       "\\item 'Back to the Future'\n",
       "\\item 'The Wave'\n",
       "\\item 'Whiplash'\n",
       "\\item 'The Grand Hotel Budapest'\n",
       "\\item 'Jumanji'\n",
       "\\item 'The Eternal Sunshine of the Spotless Mind'\n",
       "\\item 'Chicago'\n",
       "\\end{enumerate*}\n"
      ],
      "text/markdown": [
       "1. 'Toy Story'\n",
       "2. 'Akira'\n",
       "3. 'The Breakfast Club'\n",
       "4. 'The Artist'\n",
       "5. 'Modern Times'\n",
       "6. 'Fight Club'\n",
       "7. 'City of God'\n",
       "8. 'The Untouchables'\n",
       "9. 'Star Wars Episode IV'\n",
       "10. 'American Beauty'\n",
       "11. 'Room'\n",
       "12. 'Dr. Strangelove'\n",
       "13. 'The Ring'\n",
       "14. 'Monty Python and the Holy Grail'\n",
       "15. 'High School Musical'\n",
       "16. 'Shaun of the Dead'\n",
       "17. 'Taxi Driver'\n",
       "18. 'The Shawshank Redemption'\n",
       "19. 'Interstellar'\n",
       "20. 'Casino'\n",
       "21. 'The Goodfellas'\n",
       "22. 'Blue is the Warmest Colour'\n",
       "23. 'Black Swan'\n",
       "24. 'Back to the Future'\n",
       "25. 'The Wave'\n",
       "26. 'Whiplash'\n",
       "27. 'The Grand Hotel Budapest'\n",
       "28. 'Jumanji'\n",
       "29. 'The Eternal Sunshine of the Spotless Mind'\n",
       "30. 'Chicago'\n",
       "\n",
       "\n"
      ],
      "text/plain": [
       " [1] \"Toy Story\"                                \n",
       " [2] \"Akira\"                                    \n",
       " [3] \"The Breakfast Club\"                       \n",
       " [4] \"The Artist\"                               \n",
       " [5] \"Modern Times\"                             \n",
       " [6] \"Fight Club\"                               \n",
       " [7] \"City of God\"                              \n",
       " [8] \"The Untouchables\"                         \n",
       " [9] \"Star Wars Episode IV\"                     \n",
       "[10] \"American Beauty\"                          \n",
       "[11] \"Room\"                                     \n",
       "[12] \"Dr. Strangelove\"                          \n",
       "[13] \"The Ring\"                                 \n",
       "[14] \"Monty Python and the Holy Grail\"          \n",
       "[15] \"High School Musical\"                      \n",
       "[16] \"Shaun of the Dead\"                        \n",
       "[17] \"Taxi Driver\"                              \n",
       "[18] \"The Shawshank Redemption\"                 \n",
       "[19] \"Interstellar\"                             \n",
       "[20] \"Casino\"                                   \n",
       "[21] \"The Goodfellas\"                           \n",
       "[22] \"Blue is the Warmest Colour\"               \n",
       "[23] \"Black Swan\"                               \n",
       "[24] \"Back to the Future\"                       \n",
       "[25] \"The Wave\"                                 \n",
       "[26] \"Whiplash\"                                 \n",
       "[27] \"The Grand Hotel Budapest\"                 \n",
       "[28] \"Jumanji\"                                  \n",
       "[29] \"The Eternal Sunshine of the Spotless Mind\"\n",
       "[30] \"Chicago\"                                  "
      ]
     },
     "metadata": {},
     "output_type": "display_data"
    }
   ],
   "source": [
    "my_data[[\"name\"]]"
   ]
  },
  {
   "cell_type": "markdown",
   "id": "0382a70a-afaa-442b-964a-afca68fa7a6a",
   "metadata": {},
   "source": [
    "Similarly, any particular row of the dataset can also be accessed. For example, to get the first row of the dataset with all column values, we can use:\n"
   ]
  },
  {
   "cell_type": "code",
   "execution_count": 19,
   "id": "35c6ce22-7a37-4f9f-9955-5486b39c93c7",
   "metadata": {},
   "outputs": [
    {
     "data": {
      "text/html": [
       "<table class=\"dataframe\">\n",
       "<caption>A data.frame: 1 × 8</caption>\n",
       "<thead>\n",
       "\t<tr><th></th><th scope=col>name</th><th scope=col>year</th><th scope=col>length_min</th><th scope=col>genre</th><th scope=col>average_rating</th><th scope=col>cost_millions</th><th scope=col>foreign</th><th scope=col>age_restriction</th></tr>\n",
       "\t<tr><th></th><th scope=col>&lt;chr&gt;</th><th scope=col>&lt;int&gt;</th><th scope=col>&lt;int&gt;</th><th scope=col>&lt;chr&gt;</th><th scope=col>&lt;dbl&gt;</th><th scope=col>&lt;dbl&gt;</th><th scope=col>&lt;int&gt;</th><th scope=col>&lt;int&gt;</th></tr>\n",
       "</thead>\n",
       "<tbody>\n",
       "\t<tr><th scope=row>1</th><td>Toy Story</td><td>1995</td><td>81</td><td>Animation</td><td>8.3</td><td>30</td><td>0</td><td>0</td></tr>\n",
       "</tbody>\n",
       "</table>\n"
      ],
      "text/latex": [
       "A data.frame: 1 × 8\n",
       "\\begin{tabular}{r|llllllll}\n",
       "  & name & year & length\\_min & genre & average\\_rating & cost\\_millions & foreign & age\\_restriction\\\\\n",
       "  & <chr> & <int> & <int> & <chr> & <dbl> & <dbl> & <int> & <int>\\\\\n",
       "\\hline\n",
       "\t1 & Toy Story & 1995 & 81 & Animation & 8.3 & 30 & 0 & 0\\\\\n",
       "\\end{tabular}\n"
      ],
      "text/markdown": [
       "\n",
       "A data.frame: 1 × 8\n",
       "\n",
       "| <!--/--> | name &lt;chr&gt; | year &lt;int&gt; | length_min &lt;int&gt; | genre &lt;chr&gt; | average_rating &lt;dbl&gt; | cost_millions &lt;dbl&gt; | foreign &lt;int&gt; | age_restriction &lt;int&gt; |\n",
       "|---|---|---|---|---|---|---|---|---|\n",
       "| 1 | Toy Story | 1995 | 81 | Animation | 8.3 | 30 | 0 | 0 |\n",
       "\n"
      ],
      "text/plain": [
       "  name      year length_min genre     average_rating cost_millions foreign\n",
       "1 Toy Story 1995 81         Animation 8.3            30            0      \n",
       "  age_restriction\n",
       "1 0              "
      ]
     },
     "metadata": {},
     "output_type": "display_data"
    }
   ],
   "source": [
    "# Retrieve the first row of the data frame.\n",
    "my_data[1,]"
   ]
  },
  {
   "cell_type": "markdown",
   "id": "492390b4-0bb5-435a-85e5-6710ea2b7bfe",
   "metadata": {},
   "source": [
    "The first value before the comma represents the **row** of the dataset and the second value (which is blank in the above example) represents the **column** of the dataset to be retrieved. By setting the first number as 1 we say we want data from row 1. By leaving the column blank we say we want all the columns in that row.\n",
    "\n",
    "We can specify more than one column or row by using **`c`**, the **concatenate** function. By using `c` to concatenate a list of elements, we tell R that we want these observations out of the data frame. Let's try it out.\n"
   ]
  },
  {
   "cell_type": "code",
   "execution_count": 20,
   "id": "1fe9bb6d-8db1-4635-a5f3-6b3d6a838e4d",
   "metadata": {},
   "outputs": [
    {
     "data": {
      "text/html": [
       "<table class=\"dataframe\">\n",
       "<caption>A data.frame: 1 × 2</caption>\n",
       "<thead>\n",
       "\t<tr><th></th><th scope=col>name</th><th scope=col>length_min</th></tr>\n",
       "\t<tr><th></th><th scope=col>&lt;chr&gt;</th><th scope=col>&lt;int&gt;</th></tr>\n",
       "</thead>\n",
       "<tbody>\n",
       "\t<tr><th scope=row>1</th><td>Toy Story</td><td>81</td></tr>\n",
       "</tbody>\n",
       "</table>\n"
      ],
      "text/latex": [
       "A data.frame: 1 × 2\n",
       "\\begin{tabular}{r|ll}\n",
       "  & name & length\\_min\\\\\n",
       "  & <chr> & <int>\\\\\n",
       "\\hline\n",
       "\t1 & Toy Story & 81\\\\\n",
       "\\end{tabular}\n"
      ],
      "text/markdown": [
       "\n",
       "A data.frame: 1 × 2\n",
       "\n",
       "| <!--/--> | name &lt;chr&gt; | length_min &lt;int&gt; |\n",
       "|---|---|---|\n",
       "| 1 | Toy Story | 81 |\n",
       "\n"
      ],
      "text/plain": [
       "  name      length_min\n",
       "1 Toy Story 81        "
      ]
     },
     "metadata": {},
     "output_type": "display_data"
    }
   ],
   "source": [
    "# Retrieve the first row of the data frame, but only the \"name\" and \"length_min\" columns.\n",
    "my_data[1, c(\"name\",\"length_min\")]"
   ]
  },
  {
   "cell_type": "markdown",
   "id": "eacd3d43-1cec-4bad-a16e-7b8acfd74d2e",
   "metadata": {},
   "source": [
    "* * *\n"
   ]
  },
  {
   "cell_type": "markdown",
   "id": "690b98e6-1cb6-45a6-ba41-5bb26cb771f8",
   "metadata": {},
   "source": [
    "<a id=\"ref4\"></a>\n",
    "\n",
    "<center><h2>Accessing Built-in Datasets in R</h2></center>\n"
   ]
  },
  {
   "cell_type": "markdown",
   "id": "8b20ac0f-6ef1-4359-a39d-180596645962",
   "metadata": {},
   "source": [
    "R provides various built-in datasets for users to utilize for different purposes. To know which datasets are available, R provides a simple function -- `data` -- that returns all of the present datasets' names with a small description beside them. The ones in the `datasets` package are all inbuilt.\n"
   ]
  },
  {
   "cell_type": "code",
   "execution_count": null,
   "id": "105516fb-361f-4321-99e4-7b4d5c3a98ec",
   "metadata": {},
   "outputs": [],
   "source": [
    "# Displays a list of the inbuilt datasets. Opens in a new \"window\".\n",
    "data()"
   ]
  },
  {
   "cell_type": "markdown",
   "id": "80abb614-7021-4018-8e8c-4e0aeeda88ca",
   "metadata": {},
   "source": [
    "As you can see, there are many different datasets already inbuilt in the R environment. Having to go through each of them to take a look at their structure and try to find out what they represent might be very tiring. Thankfully, R has documentation present for each inbuilt dataset. You can take a look at that by using the `help` function.\n",
    "\n",
    "For example, if we want to know more about the `women` dataset, we can use the following function:\n"
   ]
  },
  {
   "cell_type": "code",
   "execution_count": null,
   "id": "36e8c329-a482-42b7-81f4-950f8b64e7ea",
   "metadata": {},
   "outputs": [],
   "source": [
    "# Opens up the documentation for the inbuilt \"women\" dataset.\n",
    "help(women)"
   ]
  },
  {
   "cell_type": "markdown",
   "id": "8674dbe9-53fe-4b6c-b272-a7a4a57a30f0",
   "metadata": {},
   "source": [
    "Since the datasets listed are inbuilt, you do not need to import or load them to use them. If you reference them by their name, R already has the data frame ready.\n"
   ]
  },
  {
   "cell_type": "code",
   "execution_count": null,
   "id": "616f11db-ea4d-4e63-9a9a-f2d5b79343a4",
   "metadata": {},
   "outputs": [],
   "source": [
    "women"
   ]
  },
  {
   "cell_type": "markdown",
   "id": "e889dcd2-57ce-4d7b-854b-cc2b437cadd5",
   "metadata": {},
   "source": [
    "<hr>\n",
    "\n",
    "**Coding Exercise:** in the code cell below, get the CO2 dataset\n"
   ]
  },
  {
   "cell_type": "code",
   "execution_count": null,
   "id": "89cb3a53-ca16-4c06-a16c-cfb4f1f54c3c",
   "metadata": {},
   "outputs": [],
   "source": [
    "# Write your code below. Don't forget to press Shift+Enter to execute the cell\n"
   ]
  },
  {
   "cell_type": "markdown",
   "id": "9a960ef9-3945-4fe3-ba6a-17907625d45f",
   "metadata": {},
   "source": [
    "<details><summary>Click here for the solution</summary>\n",
    "\n",
    "```R\n",
    "co2\n",
    "\n",
    "```\n",
    "\n",
    "</details>\n",
    "\n",
    "<hr>\n"
   ]
  },
  {
   "cell_type": "markdown",
   "id": "f4d475a9-e0a9-4fd0-b584-52df74b8c217",
   "metadata": {},
   "source": [
    "\n",
    "### Scaling R with big data\n",
    "\n",
    "As you learn more about R, if you are interested in exploring platforms that can help you run analyses at scale, you might want to sign up for a free account on [IBM Watson Studio](http://cocl.us/dsx_rp0101en), which allows you to run analyses in R with two Spark executors for free.\n",
    "\n",
    "<hr>\n"
   ]
  },
  {
   "cell_type": "markdown",
   "id": "4159d966-ae85-4ec5-8538-c4f6067ca29c",
   "metadata": {},
   "source": [
    "### Authors\n",
    "\n",
    "Hi! It's [Iqbal Singh](https://ca.linkedin.com/in/iqbalsingh15?utm_medium=Exinfluencer&utm_source=Exinfluencer&utm_content=000026UJ&utm_term=10006555&utm_id=NA-SkillsNetwork-Channel-SkillsNetworkCoursesIBMDeveloperSkillsNetworkRP0101ENCoursera889-2022-01-01&cm_mmc=Email_Newsletter-_-Developer_Ed%2BTech-_-WW_WW-_-SkillsNetwork-Courses-IBMDeveloperSkillsNetwork-RP0101EN-SkillsNetwork-20900564&cm_mmca1=000026UJ&cm_mmca2=10006555&cm_mmca3=M12345678&cvosrc=email.Newsletter.M12345678&cvo_campaign=000026UJ) and [Walter Gomes](https://br.linkedin.com/in/walter-gomes-de-amorim-junior-624726121?utm_medium=Exinfluencer&utm_source=Exinfluencer&utm_content=000026UJ&utm_term=10006555&utm_id=NA-SkillsNetwork-Channel-SkillsNetworkCoursesIBMDeveloperSkillsNetworkRP0101ENCoursera889-2022-01-01&cm_mmc=Email_Newsletter-_-Developer_Ed%2BTech-_-WW_WW-_-SkillsNetwork-Courses-IBMDeveloperSkillsNetwork-RP0101EN-SkillsNetwork-20900564&cm_mmca1=000026UJ&cm_mmca2=10006555&cm_mmca3=M12345678&cvosrc=email.Newsletter.M12345678&cvo_campaign=000026UJ), the authors of this notebook. \n",
    "I hope you found it easy to learn how to import data into R! Feel free to connect with us if you have any questions.\n"
   ]
  },
  {
   "cell_type": "markdown",
   "id": "469174f0-e588-4193-8213-b5f521166c67",
   "metadata": {},
   "source": [
    "### Other Contributors\n",
    "\n",
    "<a href=\"https://www.linkedin.com/in/yan-luo-96288783/?utm_medium=Exinfluencer&utm_source=Exinfluencer&utm_content=000026UJ&utm_term=10006555&utm_id=NA-SkillsNetwork-Channel-SkillsNetworkCoursesIBMDeveloperSkillsNetworkRP0101ENCoursera889-2022-01-01\">Yan Luo</a>\n"
   ]
  },
  {
   "cell_type": "markdown",
   "id": "dc86fb2a-6a92-4ecb-ab85-3ba441a32b78",
   "metadata": {},
   "source": [
    "## Change Log\n",
    "\n",
    "| Date (YYYY-MM-DD) | Version | Changed By | Change Description           |\n",
    "| ----------------- | ------- | ---------- | ---------------------------- |\n",
    "| 2021-03-04        | 2.0     | Yan        | Added coding tasks           |\n",
    "|                   |         |            |                              |\n",
    "|                   |         |            |                              |\n",
    "\n",
    "## <h3 align=\"center\"> © IBM Corporation 2021. All rights reserved. <h3/>\n"
   ]
  }
 ],
 "metadata": {
  "kernelspec": {
   "display_name": "R",
   "language": "R",
   "name": "ir"
  },
  "language_info": {
   "codemirror_mode": "r",
   "file_extension": ".r",
   "mimetype": "text/x-r-source",
   "name": "R",
   "pygments_lexer": "r",
   "version": "4.2.1"
  }
 },
 "nbformat": 4,
 "nbformat_minor": 4
}
