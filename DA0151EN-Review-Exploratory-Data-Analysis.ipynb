{
 "cells": [
  {
   "cell_type": "markdown",
   "id": "93edfe76-b9fc-4ef5-a1b1-6250834ce8bc",
   "metadata": {},
   "source": [
    "<center><img src=\"https://cf-courses-data.s3.us.cloud-object-storage.appdomain.cloud/assets/logos/SN_web_lightmode.png\" width=\"300\"></center>\n"
   ]
  },
  {
   "cell_type": "markdown",
   "id": "56c0af40-a22b-4d07-bb28-4a59a291d8c0",
   "metadata": {},
   "source": [
    "# Exploratory Data Analysis with Tidyverse\n"
   ]
  },
  {
   "cell_type": "markdown",
   "id": "8887e02b-c39b-434a-8e74-f17bc53dd2d3",
   "metadata": {},
   "source": [
    "Estimated Time Needed: **40 min**\n",
    "\n",
    "<h3>Welcome!</h3>\n",
    "In this section, we will explore several methods to see if certain characteristics or features can be used to predict arrival delay minutes. The main question we will be trying to answer throughout this lab is: what are the main characteristics which have the most impact on how long a flight arrives late?\n"
   ]
  },
  {
   "cell_type": "markdown",
   "id": "eaac114c-4504-443b-9092-364b0d364309",
   "metadata": {},
   "source": [
    "\n",
    "## Table of Contents\n",
    "\n",
    "* [1. Analyzing Individual Feature Patterns using Visualization](#pattern_visualization)   \n",
    "* [2. Descriptive Statistical Analysis](#discriptive_statistics)\n",
    "* [3. Basics of Grouping](#basic_grouping)\n",
    "* [4. Correlation and Causation](#correlation_causation)\n",
    "* [5. ANOVA](#anova)\n"
   ]
  },
  {
   "cell_type": "markdown",
   "id": "65b1d027-1155-464f-beda-faea93f22345",
   "metadata": {},
   "source": [
    "<a class=\"anchor\" id=\"import_data\"></a>\n",
    "\n",
    "## Load Libraries and Data\n"
   ]
  },
  {
   "cell_type": "markdown",
   "id": "f51d3278-1bf3-4c4c-9578-0c4c8faf8fa9",
   "metadata": {},
   "source": [
    "First, load the tidyverse library. This lab will use `ggplot` which is already loaded when `tidyverse` is loaded.\n"
   ]
  },
  {
   "cell_type": "code",
   "execution_count": 1,
   "id": "81e85ee7-c160-49e9-910e-fd78dacc3b5d",
   "metadata": {},
   "outputs": [
    {
     "name": "stderr",
     "output_type": "stream",
     "text": [
      "Warning message:\n",
      "\"package 'tidyverse' was built under R version 4.2.3\"\n",
      "Warning message:\n",
      "\"package 'ggplot2' was built under R version 4.2.3\"\n",
      "Warning message:\n",
      "\"package 'tibble' was built under R version 4.2.3\"\n",
      "Warning message:\n",
      "\"package 'tidyr' was built under R version 4.2.3\"\n",
      "Warning message:\n",
      "\"package 'readr' was built under R version 4.2.3\"\n",
      "Warning message:\n",
      "\"package 'purrr' was built under R version 4.2.3\"\n",
      "Warning message:\n",
      "\"package 'dplyr' was built under R version 4.2.3\"\n",
      "Warning message:\n",
      "\"package 'stringr' was built under R version 4.2.3\"\n",
      "Warning message:\n",
      "\"package 'forcats' was built under R version 4.2.3\"\n",
      "Warning message:\n",
      "\"package 'lubridate' was built under R version 4.2.3\"\n",
      "── \u001b[1mAttaching core tidyverse packages\u001b[22m ──────────────────────────────────────────────────────────────── tidyverse 2.0.0 ──\n",
      "\u001b[32m✔\u001b[39m \u001b[34mdplyr    \u001b[39m 1.1.2     \u001b[32m✔\u001b[39m \u001b[34mreadr    \u001b[39m 2.1.4\n",
      "\u001b[32m✔\u001b[39m \u001b[34mforcats  \u001b[39m 1.0.0     \u001b[32m✔\u001b[39m \u001b[34mstringr  \u001b[39m 1.5.0\n",
      "\u001b[32m✔\u001b[39m \u001b[34mggplot2  \u001b[39m 3.4.2     \u001b[32m✔\u001b[39m \u001b[34mtibble   \u001b[39m 3.2.1\n",
      "\u001b[32m✔\u001b[39m \u001b[34mlubridate\u001b[39m 1.9.2     \u001b[32m✔\u001b[39m \u001b[34mtidyr    \u001b[39m 1.3.0\n",
      "\u001b[32m✔\u001b[39m \u001b[34mpurrr    \u001b[39m 1.0.1     \n",
      "── \u001b[1mConflicts\u001b[22m ────────────────────────────────────────────────────────────────────────────────── tidyverse_conflicts() ──\n",
      "\u001b[31m✖\u001b[39m \u001b[34mdplyr\u001b[39m::\u001b[32mfilter()\u001b[39m masks \u001b[34mstats\u001b[39m::filter()\n",
      "\u001b[31m✖\u001b[39m \u001b[34mdplyr\u001b[39m::\u001b[32mlag()\u001b[39m    masks \u001b[34mstats\u001b[39m::lag()\n",
      "\u001b[36mℹ\u001b[39m Use the conflicted package (\u001b[3m\u001b[34m<http://conflicted.r-lib.org/>\u001b[39m\u001b[23m) to force all conflicts to become errors\n"
     ]
    }
   ],
   "source": [
    "# Load tidyverse\n",
    "library(tidyverse)"
   ]
  },
  {
   "cell_type": "markdown",
   "id": "2a3d999a-ef4b-4924-a4d3-5b86051f86fa",
   "metadata": {},
   "source": [
    "The original Airline dataset is hosted on <a href=\"https://developer.ibm.com/exchanges/data/all/airline/?utm_medium=Exinfluencer&utm_source=Exinfluencer&utm_content=000026UJ&utm_term=10006555&utm_id=NA-SkillsNetwork-Channel-SkillsNetworkCoursesIBMDA0151ENSkillsNetwork926-2022-01-01\">IBM Data Asset eXchange</a>. This sample dataset can be found <a href=\"https://dax-cdn.cdn.appdomain.cloud/dax-airline/1.0.1/lax_to_jfk.tar.gz\">here</a>. \n",
    "\n",
    "Now using the subset dataset link, you can load it and store as a dataframe `sub_airline`:\n"
   ]
  },
  {
   "cell_type": "code",
   "execution_count": null,
   "id": "e4cb8b0f-29ad-4088-b48c-44179fd413ea",
   "metadata": {},
   "outputs": [],
   "source": [
    "# url where the data is located\n",
    "url <- \"https://dax-cdn.cdn.appdomain.cloud/dax-airline/1.0.1/lax_to_jfk.tar.gz\"\n",
    "\n",
    "# download the file\n",
    "download.file(url, destfile = \"lax_to_jfk.tar.gz\")\n",
    "\n",
    "# untar the file so we can get the csv only\n",
    "# if you run this on your local machine, then can remove tar = \"internal\" \n",
    "untar(\"lax_to_jfk.tar.gz\", tar = \"internal\")\n",
    "\n",
    "# read_csv only \n",
    "sub_airline <- read_csv(\"lax_to_jfk/lax_to_jfk.csv\",\n",
    "                     col_types = cols('DivDistance' = col_number(), \n",
    "                                      'DivArrDelay' = col_number()))"
   ]
  },
  {
   "cell_type": "code",
   "execution_count": 2,
   "metadata": {},
   "outputs": [],
   "source": [
    "\n",
    "# read_csv only \n",
    "sub_airline <- read_csv(\"lax_to_jfk/lax_to_jfk.csv\",\n",
    "                     col_types = cols('DivDistance' = col_number(), \n",
    "                                      'DivArrDelay' = col_number()))"
   ]
  },
  {
   "cell_type": "markdown",
   "id": "2103f941-e8a7-4c51-b530-b88fd274d9b8",
   "metadata": {},
   "source": [
    "<a class=\"anchor\" id=\"pattern_visualization\"></a>\n",
    "## 1. Analyzing Individual Feature Patterns using Visualization\n",
    "\n",
    "Boxplots are a great way to visualize numeric (or quantitative) data, since you can visualize the various distributions of the data. They are similar to histograms but can show more informatioin such as:\n",
    "* The median of the data, which represents the middle datapoint\n",
    "* The Upper Quartile, which is the 75th percentile\n",
    "* The Lower Quartile, which is the 25th percentile\n",
    "* The Interquartile Range, which is the data between the Upper and Lower Quartile\n",
    "\n",
    "Boxplots also display outliers as individual dots that occur outside the upper and lower extremes. With boxplots, you can easily spot outliers and also see the distribution and skewness of the data. \n"
   ]
  },
  {
   "cell_type": "markdown",
   "id": "7f368deb-d848-4b75-97ab-b655b5a8eba1",
   "metadata": {},
   "source": [
    "You will use the `ggplot` library to create plots, which is already loaded when the `tidyverse` library is loaded.\n",
    "\n",
    "To create boxplots, the main function to use is `geom_boxplot()`. In the below code we also use additional functions primarly to customize the aesthetics of the plot. You can check out the Data Visualization Course in R if you want to know more about customizing plots with `ggplot`.\n",
    "\n",
    "* `geom_boxplot()`: The boxplot compactly displays the distribution of a continuous variable. It visualises five summary statistics (the median, two hinges and two whiskers), and all \"outlying\" points individually.\n",
    "* `geom_jitter()`: The jitter geom is a convenient shortcut for geom_point(position = \"jitter\"). It adds a small amount of random variation to the location of each point, and is a useful way of handling overplotting caused by discreteness in smaller datasets.\n",
    "* `ggtitle()`: Modifies plot titles (main title, axis labels and legend titles).\n",
    "* `guides()`: Guides for each scale can be set scale-by-scale with the guide argument.\n",
    "* `theme_minimal()`: A minimalistic theme with no background annotations.\n",
    "* `coord_cartesian()`: The Cartesian coordinate system is the most familiar, and common, type of coordinate system. Setting limits on the coordinate system will zoom the plot (like you're looking at it with a magnifying glass), and will not change the underlying data like setting limits on a scale will.\n",
    "\n",
    "\n",
    "Below shows the distribution of arrival delays for each reporting airline. So here, ArrDelay is the numerica data.\n"
   ]
  },
  {
   "cell_type": "code",
   "execution_count": 3,
   "id": "bdaf56da-47b0-4dd5-b11d-dd051b7961c9",
   "metadata": {},
   "outputs": [
    {
     "name": "stderr",
     "output_type": "stream",
     "text": [
      "Warning message:\n",
      "\"\u001b[1m\u001b[22mThe `<scale>` argument of `guides()` cannot be `FALSE`. Use \"none\" instead as of ggplot2 3.3.4.\"\n"
     ]
    },
    {
     "data": {
      "image/png": "[encoded data removed]",
      "text/plain": [
       "plot without title"
      ]
     },
     "metadata": {
      "image/png": {
       "height": 420,
       "width": 420
      }
     },
     "output_type": "display_data"
    }
   ],
   "source": [
    "# Boxplot\n",
    "ggplot(data = sub_airline, mapping = aes(x = Reporting_Airline, y = ArrDelay)) +\n",
    "  geom_boxplot(fill = \"bisque\",color = \"black\", alpha = 0.3) +\n",
    "  geom_jitter(aes(color = 'blue'), alpha=0.2) +\n",
    "  labs(x = \"Airline\") +\n",
    "  ggtitle(\"Arrival Delays by Airline\") +\n",
    "  guides(color = FALSE) +\n",
    "  theme_minimal() +\n",
    "  coord_cartesian(ylim = quantile(sub_airline$ArrDelay, c(0, 0.99)))"
   ]
  },
  {
   "cell_type": "markdown",
   "id": "4cb1c4fd-6501-4cb6-aed0-c18f43319463",
   "metadata": {},
   "source": [
    "Often times we see continuous variables in our data. These data points are numbers contained in some range. \n",
    "\n",
    "For example, in our dataset, departure delays and arrival delays are continuous numeric variables. What if we want to understand the relationship between “DepDelay” and ”ArrDelay”? Could departure delay possibly predict arrival delay? \n",
    "\n",
    "One good way to visualize two continuous variables is to use a scatter plot. Each observation in a scatter plot is represented as a point. \n",
    "\n",
    "Using `ggplot`, you can input the two continuous variables to compare and add `gemo_point()` to show the points in a scatter plot.\n"
   ]
  },
  {
   "cell_type": "code",
   "execution_count": 4,
   "id": "76c1ce5c-45d0-46e0-b866-7b2ec6026ca7",
   "metadata": {},
   "outputs": [
    {
     "data": {
      "image/png": "[encoded data removed]",
      "text/plain": [
       "plot without title"
      ]
     },
     "metadata": {
      "image/png": {
       "height": 420,
       "width": 420
      }
     },
     "output_type": "display_data"
    }
   ],
   "source": [
    "# Load Alaska data, deleting rows that have missing departure delay or arrival delay data\n",
    "alaska_flights <- sub_airline %>%\n",
    "  filter(Reporting_Airline == \"AS\") %>%\n",
    "  filter(!is.na(DepDelay) & !is.na(ArrDelay)) %>%\n",
    "  filter(DepDelay < 40)\n",
    "\n",
    "ggplot(data = alaska_flights, mapping = aes(x = DepDelay, y = ArrDelay)) +\n",
    "   geom_point() +\n",
    "   ggtitle(\"Alaska Flight Depature Delays vs Arrival Delays\")"
   ]
  },
  {
   "cell_type": "markdown",
   "id": "769f38ce-0b0d-43c5-9509-202ec1ef5e70",
   "metadata": {},
   "source": [
    "<h4>How to choose the right visualization method?</h4>\n",
    "<p>When visualizing individual variables, it is important to first understand what type of variable you are dealing with. This will help us find the right visualization method for that variable.\n",
    "Below is a way to show each variable and their type in a dataframe.\n",
    "</p>\n"
   ]
  },
  {
   "cell_type": "code",
   "execution_count": 5,
   "id": "08142384-7b99-46e5-ab1d-9b1efa9b2fe2",
   "metadata": {},
   "outputs": [
    {
     "name": "stdout",
     "output_type": "stream",
     "text": [
      "spc_tbl_ [2,855 × 21] (S3: spec_tbl_df/tbl_df/tbl/data.frame)\n",
      " $ Month            : num [1:2855] 3 11 8 4 11 4 12 12 2 3 ...\n",
      " $ DayOfWeek        : num [1:2855] 5 4 5 7 3 1 1 3 4 4 ...\n",
      " $ FlightDate       : Date[1:2855], format: \"2003-03-28\" \"2018-11-29\" ...\n",
      " $ Reporting_Airline: chr [1:2855] \"UA\" \"AS\" \"UA\" \"DL\" ...\n",
      " $ Origin           : chr [1:2855] \"LAX\" \"LAX\" \"LAX\" \"LAX\" ...\n",
      " $ Dest             : chr [1:2855] \"JFK\" \"JFK\" \"JFK\" \"JFK\" ...\n",
      " $ CRSDepTime       : chr [1:2855] \"2210\" \"1045\" \"0805\" \"2205\" ...\n",
      " $ CRSArrTime       : chr [1:2855] \"0615\" \"1912\" \"1634\" \"0619\" ...\n",
      " $ DepTime          : chr [1:2855] \"2209\" \"1049\" \"0757\" \"2212\" ...\n",
      " $ ArrTime          : chr [1:2855] \"0617\" \"1851\" \"1620\" \"0616\" ...\n",
      " $ ArrDelay         : num [1:2855] 2 -21 -14 -3 -13 -20 1 -40 25 7 ...\n",
      " $ ArrDelayMinutes  : num [1:2855] 2 0 0 0 0 0 1 0 25 7 ...\n",
      " $ CarrierDelay     : num [1:2855] NA NA NA NA NA NA NA NA NA NA ...\n",
      " $ WeatherDelay     : num [1:2855] NA NA NA NA NA NA NA NA NA NA ...\n",
      " $ NASDelay         : num [1:2855] NA NA NA NA NA NA NA NA NA NA ...\n",
      " $ SecurityDelay    : num [1:2855] NA NA NA NA NA NA NA NA NA NA ...\n",
      " $ LateAircraftDelay: num [1:2855] NA NA NA NA NA NA NA NA NA NA ...\n",
      " $ DepDelay         : num [1:2855] -1 4 -8 7 -4 2 -2 -2 2 15 ...\n",
      " $ DepDelayMinutes  : num [1:2855] 0 4 0 7 0 2 0 0 2 15 ...\n",
      " $ DivDistance      : num [1:2855] NA NA NA NA NA NA NA NA NA NA ...\n",
      " $ DivArrDelay      : num [1:2855] NA NA NA NA NA NA NA NA NA NA ...\n",
      " - attr(*, \"spec\")=\n",
      "  .. cols(\n",
      "  ..   Month = \u001b[32mcol_double()\u001b[39m,\n",
      "  ..   DayOfWeek = \u001b[32mcol_double()\u001b[39m,\n",
      "  ..   FlightDate = \u001b[34mcol_date(format = \"\")\u001b[39m,\n",
      "  ..   Reporting_Airline = \u001b[31mcol_character()\u001b[39m,\n",
      "  ..   Origin = \u001b[31mcol_character()\u001b[39m,\n",
      "  ..   Dest = \u001b[31mcol_character()\u001b[39m,\n",
      "  ..   CRSDepTime = \u001b[31mcol_character()\u001b[39m,\n",
      "  ..   CRSArrTime = \u001b[31mcol_character()\u001b[39m,\n",
      "  ..   DepTime = \u001b[31mcol_character()\u001b[39m,\n",
      "  ..   ArrTime = \u001b[31mcol_character()\u001b[39m,\n",
      "  ..   ArrDelay = \u001b[32mcol_double()\u001b[39m,\n",
      "  ..   ArrDelayMinutes = \u001b[32mcol_double()\u001b[39m,\n",
      "  ..   CarrierDelay = \u001b[32mcol_double()\u001b[39m,\n",
      "  ..   WeatherDelay = \u001b[32mcol_double()\u001b[39m,\n",
      "  ..   NASDelay = \u001b[32mcol_double()\u001b[39m,\n",
      "  ..   SecurityDelay = \u001b[32mcol_double()\u001b[39m,\n",
      "  ..   LateAircraftDelay = \u001b[32mcol_double()\u001b[39m,\n",
      "  ..   DepDelay = \u001b[32mcol_double()\u001b[39m,\n",
      "  ..   DepDelayMinutes = \u001b[32mcol_double()\u001b[39m,\n",
      "  ..   DivDistance = \u001b[32mcol_number()\u001b[39m,\n",
      "  ..   DivArrDelay = \u001b[32mcol_number()\u001b[39m\n",
      "  .. )\n",
      " - attr(*, \"problems\")=<externalptr> \n"
     ]
    }
   ],
   "source": [
    "# list the data types for each column\n",
    "str(sub_airline)"
   ]
  },
  {
   "cell_type": "markdown",
   "id": "03884e42-4796-4305-bb22-d8b166cba9be",
   "metadata": {},
   "source": [
    "Now, we turn our focus to \"ArrDelayMinutes\" as we want to create models to predict this variable in lab 4. \n"
   ]
  },
  {
   "cell_type": "markdown",
   "id": "180df300-b116-4339-b33b-d6edebddfeb8",
   "metadata": {},
   "source": [
    "<div class=\"alert alert-danger alertdanger\" style=\"margin-top: 20px\">\n",
    "<h1>Question  #1:</h1>\n",
    "\n",
    "<b>What is the data type of the column \"ArrDelayMinutes\"? </b>\n",
    "</div>\n"
   ]
  },
  {
   "cell_type": "code",
   "execution_count": 23,
   "id": "b1bd82ca-b651-44fb-bada-573d2a1fa332",
   "metadata": {},
   "outputs": [
    {
     "data": {
      "text/html": [
       "'double'"
      ],
      "text/latex": [
       "'double'"
      ],
      "text/markdown": [
       "'double'"
      ],
      "text/plain": [
       "[1] \"double\""
      ]
     },
     "metadata": {},
     "output_type": "display_data"
    }
   ],
   "source": [
    "# Write your code below and press Shift+Enter to execute \n",
    "typeof(sub_airline$ArrDelayMinutes)"
   ]
  },
  {
   "cell_type": "code",
   "execution_count": null,
   "metadata": {},
   "outputs": [],
   "source": []
  },
  {
   "cell_type": "markdown",
   "id": "7c82af53-a418-41bf-ae85-02e126e834af",
   "metadata": {},
   "source": [
    "<details>\n",
    "    <summary>Click here for the solution.</summary>\n",
    "\n",
    "```r\n",
    "numerical (num)\n",
    "```\n",
    "                 \n",
    "</details>\n"
   ]
  },
  {
   "cell_type": "markdown",
   "id": "3757d24d-a51a-44e5-a6aa-c7c9b3162be8",
   "metadata": {},
   "source": [
    "Next, let's take a look at other variables, like \"DepDelayMinutes\" that could potentially help predict \"ArrDelayMinutes\".\n"
   ]
  },
  {
   "cell_type": "markdown",
   "id": "7bc5e62b-0213-4437-8e98-bf7a4a2f8f17",
   "metadata": {},
   "source": [
    "<div class=\"alert alert-danger alertdanger\" style=\"margin-top: 20px\">\n",
    "<h1> Question  #2: </h1>\n",
    "\n",
    "<p>Find the correlation between the following columns: DepDelayMinutes and ArrDelayMinutes.</p>\n",
    "<p>Hint: if you would like to select those columns, use the dollar sign ($) </p>\n",
    "</div>\n"
   ]
  },
  {
   "cell_type": "code",
   "execution_count": 20,
   "id": "0112fcf1-4043-4fc7-89ff-f2bedf5e6309",
   "metadata": {},
   "outputs": [
    {
     "data": {
      "text/html": [
       "0.921332811753729"
      ],
      "text/latex": [
       "0.921332811753729"
      ],
      "text/markdown": [
       "0.921332811753729"
      ],
      "text/plain": [
       "[1] 0.9213328"
      ]
     },
     "metadata": {},
     "output_type": "display_data"
    }
   ],
   "source": [
    "# Write your code below and press Shift+Enter to execute \n",
    "cor(sub_airline$DepDelayMinutes, sub_airline$ArrDelayMinutes)"
   ]
  },
  {
   "cell_type": "markdown",
   "id": "2f082082-6d41-465c-8727-f5fc52db12ff",
   "metadata": {},
   "source": [
    "<details>\n",
    "    <summary>Click here for the solution.</summary>\n",
    "\n",
    "```r\n",
    "cor(sub_airline$DepDelayMinutes, sub_airline$ArrDelayMinutes)\n",
    "```\n",
    "                 \n",
    "</details>\n"
   ]
  },
  {
   "cell_type": "markdown",
   "id": "89e35b9a-ccb8-41a6-af0f-523d9e76010c",
   "metadata": {},
   "source": [
    "<h2>Continuous numerical variables:</h2> \n",
    "\n",
    "<p>Continuous numerical variables are variables that may contain any value within some range. In R, continuous numerical variables can have the type \"integer\" or \"numeric\" (these are real numbers and sometimes are called \"float\" in other programming languages). A great way to visualize these variables is by using scatterplots with fitted lines.</p>\n",
    "\n",
    "With `ggplot`, we can visualize this by using `geom_point()` to plot the data points and `geom_smooth()` to plot a fitted linear regression line (by default the model uses `formula = y ~ x`).\n"
   ]
  },
  {
   "cell_type": "markdown",
   "id": "ab66b958-0f91-43d1-87e2-48fd391afea8",
   "metadata": {},
   "source": [
    " Let's see several examples of different linear relationships:\n"
   ]
  },
  {
   "cell_type": "markdown",
   "id": "09c9623d-a5d5-4a03-8baf-61fc4aae4ecd",
   "metadata": {},
   "source": [
    "<h3>Positive linear relationship</h3>\n"
   ]
  },
  {
   "cell_type": "markdown",
   "id": "01e16aab-8d09-4f98-a138-7776a188f6eb",
   "metadata": {},
   "source": [
    "Let's find the scatterplot of \"DepDelayMinutes\" and \"ArrDelayMinutes\" of all airlines. \n"
   ]
  },
  {
   "cell_type": "code",
   "execution_count": 24,
   "id": "68d528c6-9aea-443e-bd9d-00b8482a7814",
   "metadata": {},
   "outputs": [
    {
     "name": "stderr",
     "output_type": "stream",
     "text": [
      "\u001b[1m\u001b[22m`geom_smooth()` using formula = 'y ~ x'\n"
     ]
    },
    {
     "data": {
      "image/png": "[encoded data removed]",
      "text/plain": [
       "plot without title"
      ]
     },
     "metadata": {
      "image/png": {
       "height": 420,
       "width": 420
      }
     },
     "output_type": "display_data"
    }
   ],
   "source": [
    "# DepDelayMinutes as potential predictor variable of ArrDelayMinutes\n",
    "ggplot(data = sub_airline, mapping = aes(x = DepDelayMinutes, y = ArrDelayMinutes)) +\n",
    "    geom_point() + \n",
    "    geom_smooth(method = \"lm\", na.rm = TRUE)"
   ]
  },
  {
   "cell_type": "markdown",
   "id": "779d52fd-3ce8-4ddd-9b4e-2fe31bc0afb0",
   "metadata": {},
   "source": [
    "<p>From the plot, as the depature delay (\"DepDelayMinutes\") increases, the arrival delay (\"ArrDelayMinutes\") increases. This indicates a positive direct correlation between these two variables. \"DepDelayMinutes\" may be a decent predictor of \"ArrDelayMinutes\" since the regression line is increasing and generally matches the data points.</p>\n"
   ]
  },
  {
   "cell_type": "markdown",
   "id": "710c9452-a387-4c8d-873f-9381c0356faf",
   "metadata": {},
   "source": [
    "Next, we can examine the correlation between \"DepDelayMinutes\" and \"ArrDelayMinutes\" and see it's approximately  0.92\n"
   ]
  },
  {
   "cell_type": "code",
   "execution_count": 25,
   "id": "93c2d1da-ec20-48e8-a942-a8cdfd6fa884",
   "metadata": {},
   "outputs": [
    {
     "data": {
      "text/html": [
       "0.921332811753729"
      ],
      "text/latex": [
       "0.921332811753729"
      ],
      "text/markdown": [
       "0.921332811753729"
      ],
      "text/plain": [
       "[1] 0.9213328"
      ]
     },
     "metadata": {},
     "output_type": "display_data"
    }
   ],
   "source": [
    "cor(sub_airline$DepDelayMinutes, sub_airline$ArrDelayMinutes)"
   ]
  },
  {
   "cell_type": "code",
   "execution_count": 28,
   "metadata": {},
   "outputs": [
    {
     "data": {
      "text/html": [
       "<style>\n",
       ".dl-inline {width: auto; margin:0; padding: 0}\n",
       ".dl-inline>dt, .dl-inline>dd {float: none; width: auto; display: inline-block}\n",
       ".dl-inline>dt::after {content: \":\\0020\"; padding-right: .5ex}\n",
       ".dl-inline>dt:not(:first-of-type) {padding-left: .5ex}\n",
       "</style><dl class=dl-inline><dt>Month</dt><dd>'double'</dd><dt>DayOfWeek</dt><dd>'double'</dd><dt>FlightDate</dt><dd>'double'</dd><dt>Reporting_Airline</dt><dd>'character'</dd><dt>Origin</dt><dd>'character'</dd><dt>Dest</dt><dd>'character'</dd><dt>CRSDepTime</dt><dd>'character'</dd><dt>CRSArrTime</dt><dd>'character'</dd><dt>DepTime</dt><dd>'character'</dd><dt>ArrTime</dt><dd>'character'</dd><dt>ArrDelay</dt><dd>'double'</dd><dt>ArrDelayMinutes</dt><dd>'double'</dd><dt>CarrierDelay</dt><dd>'double'</dd><dt>WeatherDelay</dt><dd>'double'</dd><dt>NASDelay</dt><dd>'double'</dd><dt>SecurityDelay</dt><dd>'double'</dd><dt>LateAircraftDelay</dt><dd>'double'</dd><dt>DepDelay</dt><dd>'double'</dd><dt>DepDelayMinutes</dt><dd>'double'</dd><dt>DivDistance</dt><dd>'double'</dd><dt>DivArrDelay</dt><dd>'double'</dd></dl>\n"
      ],
      "text/latex": [
       "\\begin{description*}\n",
       "\\item[Month] 'double'\n",
       "\\item[DayOfWeek] 'double'\n",
       "\\item[FlightDate] 'double'\n",
       "\\item[Reporting\\textbackslash{}\\_Airline] 'character'\n",
       "\\item[Origin] 'character'\n",
       "\\item[Dest] 'character'\n",
       "\\item[CRSDepTime] 'character'\n",
       "\\item[CRSArrTime] 'character'\n",
       "\\item[DepTime] 'character'\n",
       "\\item[ArrTime] 'character'\n",
       "\\item[ArrDelay] 'double'\n",
       "\\item[ArrDelayMinutes] 'double'\n",
       "\\item[CarrierDelay] 'double'\n",
       "\\item[WeatherDelay] 'double'\n",
       "\\item[NASDelay] 'double'\n",
       "\\item[SecurityDelay] 'double'\n",
       "\\item[LateAircraftDelay] 'double'\n",
       "\\item[DepDelay] 'double'\n",
       "\\item[DepDelayMinutes] 'double'\n",
       "\\item[DivDistance] 'double'\n",
       "\\item[DivArrDelay] 'double'\n",
       "\\end{description*}\n"
      ],
      "text/markdown": [
       "Month\n",
       ":   'double'DayOfWeek\n",
       ":   'double'FlightDate\n",
       ":   'double'Reporting_Airline\n",
       ":   'character'Origin\n",
       ":   'character'Dest\n",
       ":   'character'CRSDepTime\n",
       ":   'character'CRSArrTime\n",
       ":   'character'DepTime\n",
       ":   'character'ArrTime\n",
       ":   'character'ArrDelay\n",
       ":   'double'ArrDelayMinutes\n",
       ":   'double'CarrierDelay\n",
       ":   'double'WeatherDelay\n",
       ":   'double'NASDelay\n",
       ":   'double'SecurityDelay\n",
       ":   'double'LateAircraftDelay\n",
       ":   'double'DepDelay\n",
       ":   'double'DepDelayMinutes\n",
       ":   'double'DivDistance\n",
       ":   'double'DivArrDelay\n",
       ":   'double'\n",
       "\n"
      ],
      "text/plain": [
       "            Month         DayOfWeek        FlightDate Reporting_Airline \n",
       "         \"double\"          \"double\"          \"double\"       \"character\" \n",
       "           Origin              Dest        CRSDepTime        CRSArrTime \n",
       "      \"character\"       \"character\"       \"character\"       \"character\" \n",
       "          DepTime           ArrTime          ArrDelay   ArrDelayMinutes \n",
       "      \"character\"       \"character\"          \"double\"          \"double\" \n",
       "     CarrierDelay      WeatherDelay          NASDelay     SecurityDelay \n",
       "         \"double\"          \"double\"          \"double\"          \"double\" \n",
       "LateAircraftDelay          DepDelay   DepDelayMinutes       DivDistance \n",
       "         \"double\"          \"double\"          \"double\"          \"double\" \n",
       "      DivArrDelay \n",
       "         \"double\" "
      ]
     },
     "metadata": {},
     "output_type": "display_data"
    }
   ],
   "source": [
    "sapply(sub_airline, typeof)"
   ]
  },
  {
   "cell_type": "markdown",
   "id": "b25cf237-ee41-46ea-8672-a7c016ef8f6e",
   "metadata": {},
   "source": [
    "<h3>Weak Linear Relationship</h3>\n"
   ]
  },
  {
   "cell_type": "markdown",
   "id": "7f5708c9-aff5-4745-a7cc-fbca7cd39fc0",
   "metadata": {},
   "source": [
    "Let's now look at if \"WeatherDelay\" is a good predictor variable of \"ArrDelayMinutes\".\n"
   ]
  },
  {
   "cell_type": "code",
   "execution_count": 29,
   "id": "1aa386db-6df4-456a-9af1-9da55d5f9c5b",
   "metadata": {},
   "outputs": [
    {
     "name": "stderr",
     "output_type": "stream",
     "text": [
      "\u001b[1m\u001b[22m`geom_smooth()` using formula = 'y ~ x'\n",
      "Warning message:\n",
      "\"\u001b[1m\u001b[22mRemoved 2486 rows containing missing values (`geom_point()`).\"\n"
     ]
    },
    {
     "data": {
      "image/png": "[encoded data removed]",
      "text/plain": [
       "plot without title"
      ]
     },
     "metadata": {
      "image/png": {
       "height": 420,
       "width": 420
      }
     },
     "output_type": "display_data"
    }
   ],
   "source": [
    "ggplot(data = sub_airline, mapping = aes(x = WeatherDelay, y = ArrDelayMinutes)) +\n",
    "    geom_point() + \n",
    "    geom_smooth(method = \"lm\", na.rm = TRUE)"
   ]
  },
  {
   "cell_type": "markdown",
   "id": "ff520220-9234-45fe-a3f3-de2bc917f65e",
   "metadata": {},
   "source": [
    "<p>Weather delay does not seem like a good predictor of arrival delay minutes since the regression line is close to horizontal. Also, for small values of \"WeatherDelay\", the data points are very scattered and far from the fitted line, showing lots of variability. Therefore it is not a reliable variable.</p>\n"
   ]
  },
  {
   "cell_type": "markdown",
   "id": "03c1463b-c655-4513-9610-393a0da1b603",
   "metadata": {},
   "source": [
    "In the `cor()` function, you can add `use = \"complete.obs\"` in order to only use complete observations, that is, exclude NAs. You can examine the correlation between \"WeatherDelay\" and \"ArrDelayMinutes\" and see that it's a very weak relationship since the value is close to 0.\n"
   ]
  },
  {
   "cell_type": "code",
   "execution_count": 30,
   "id": "678f6b23-e6ec-4f5a-82fd-1ab9449b0a7b",
   "metadata": {},
   "outputs": [
    {
     "data": {
      "text/html": [
       "0.0401910395421472"
      ],
      "text/latex": [
       "0.0401910395421472"
      ],
      "text/markdown": [
       "0.0401910395421472"
      ],
      "text/plain": [
       "[1] 0.04019104"
      ]
     },
     "metadata": {},
     "output_type": "display_data"
    }
   ],
   "source": [
    "cor(sub_airline$WeatherDelay, sub_airline$ArrDelayMinutes, use = \"complete.obs\")"
   ]
  },
  {
   "cell_type": "markdown",
   "id": "d8466176-ef47-4b20-a142-2d665db9a245",
   "metadata": {},
   "source": [
    " <div class=\"alert alert-danger alertdanger\" style=\"margin-top: 20px\">\n",
    "<h1> Question  3 a): </h1>\n",
    "\n",
    "<p>Find the correlation  between x=\"CarrierDelay\", y=\"ArrDelayMinutes\".</p>\n",
    "<p>Hint: if you would like to select those columns, use the dollar sign ($) </p>\n",
    "</div>\n"
   ]
  },
  {
   "cell_type": "code",
   "execution_count": 31,
   "id": "8fe10915-eb0f-4d8d-9c6a-923361f145ed",
   "metadata": {},
   "outputs": [
    {
     "data": {
      "text/html": [
       "0.728760119651287"
      ],
      "text/latex": [
       "0.728760119651287"
      ],
      "text/markdown": [
       "0.728760119651287"
      ],
      "text/plain": [
       "[1] 0.7287601"
      ]
     },
     "metadata": {},
     "output_type": "display_data"
    }
   ],
   "source": [
    "# Write your code below and press Shift+Enter to execute\n",
    "# The correlation is 0.728.\n",
    "# code\n",
    "cor(sub_airline$CarrierDelay, \n",
    "    sub_airline$ArrDelayMinutes, \n",
    "    use = \"complete.obs\")"
   ]
  },
  {
   "cell_type": "markdown",
   "id": "62b1e419-4965-4aaa-8266-3b8b3007da9a",
   "metadata": {},
   "source": [
    "<details>\n",
    "    <summary>Click here for the solution.</summary>\n",
    "\n",
    "```r\n",
    "# The correlation is 0.728.\n",
    "# code\n",
    "cor(sub_airline$CarrierDelay, \n",
    "    sub_airline$ArrDelayMinutes, \n",
    "    use = \"complete.obs\")\n",
    "    \n",
    "```\n",
    "                 \n",
    "</details>\n"
   ]
  },
  {
   "cell_type": "markdown",
   "id": "ab559ee7-0c6b-4fd5-b8d1-269081b3b97a",
   "metadata": {},
   "source": [
    "<div class=\"alert alert-danger alertdanger\" style=\"margin-top: 20px\">\n",
    "<h1>Question  3 b):</h1>\n",
    "\n",
    "<p>Given the correlation results between x=\"CarrierDelay\", y=\"ArrDelayMinutes\", do you expect a linear relationship?</p> \n",
    "<p>Verify your results using the function of ggplot.</p>\n",
    "</div>\n"
   ]
  },
  {
   "cell_type": "code",
   "execution_count": 32,
   "id": "93709f91-3617-42c5-88bd-506922a65ebe",
   "metadata": {},
   "outputs": [
    {
     "name": "stderr",
     "output_type": "stream",
     "text": [
      "\u001b[1m\u001b[22m`geom_smooth()` using formula = 'y ~ x'\n",
      "Warning message:\n",
      "\"\u001b[1m\u001b[22mRemoved 2486 rows containing missing values (`geom_point()`).\"\n"
     ]
    },
    {
     "data": {
      "image/png": "[encoded data removed]",
      "text/plain": [
       "plot without title"
      ]
     },
     "metadata": {
      "image/png": {
       "height": 420,
       "width": 420
      }
     },
     "output_type": "display_data"
    }
   ],
   "source": [
    "# Write your code below and press Shift+Enter to execute \n",
    "\n",
    "# There is a decent correlation between the variable \"CarrierDelay\" and \"ArrDelayMinutes\" since the correlation is somewhat close to 1. We can further demonstrate this using \"geom_point\" and \"geom_smooth\".\n",
    "\n",
    "# Code\n",
    "ggplot(data = sub_airline, mapping = aes(x = CarrierDelay, y = ArrDelayMinutes)) +\n",
    "    geom_point() + \n",
    "    geom_smooth(method = \"lm\", na.rm = TRUE)   "
   ]
  },
  {
   "cell_type": "markdown",
   "id": "4113815b-a6af-4176-a560-0e338777fba1",
   "metadata": {},
   "source": [
    "<details>\n",
    "    <summary>Click here for the solution.</summary>\n",
    "\n",
    "```r\n",
    "# There is a decent correlation between the variable \"CarrierDelay\" and \"ArrDelayMinutes\" since the correlation is somewhat close to 1. We can further demonstrate this using \"geom_point\" and \"geom_smooth\".\n",
    "\n",
    "# Code\n",
    "ggplot(data = sub_airline, mapping = aes(x = CarrierDelay, y = ArrDelayMinutes)) +\n",
    "    geom_point() + \n",
    "    geom_smooth(method = \"lm\", na.rm = TRUE)   \n",
    "```\n",
    "                 \n",
    "</details>\n"
   ]
  },
  {
   "cell_type": "markdown",
   "id": "4a67e59c-dc6f-4883-a461-8fa049ded5d8",
   "metadata": {},
   "source": [
    "<a class=\"anchor\" id=\"discriptive_statistics\"></a>\n",
    "\n",
    "## 2. Descriptive Statistical Analysis\n"
   ]
  },
  {
   "cell_type": "markdown",
   "id": "0e0f8b12-8f41-403c-8a38-9c07cc72a9a0",
   "metadata": {},
   "source": [
    "<p>When you begin to analyze data, it’s important to first explore your data before you spend time building complicated models. One easy way to do so is to calculate some descriptive statistics for your data. </p>\n",
    "\n",
    "<p>Descriptive statistical analysis helps to describe basic features of a dataset and generates a short summary about the sample and measures of the data. </p>\n",
    "\n",
    "Let's take a look at a couple of different useful methods. One way in which we can do this is by using the `summarize()` function in `tidyverse:dplyr()`. We introduced this method in previous modules. Method `group_by()` is often used together with `summarize()`, which summarizes each group into a single-row summary of that group. `group_by()` takes as arguments the column names that contain the categorical variables for which you want to calculate the summary statistics.\n",
    "\n",
    "This will show:\n",
    "<ul>\n",
    "    <li>the count of that variable</li>\n",
    "    <li>the mean</li>\n",
    "    <li>the standard deviation (std)</li> \n",
    "    <li>the minimum value</li>\n",
    "    <li>the median (50th percentile or quartile 2)</li>\n",
    "    <li>the IQR (Interquartile Range: quartile 3 minus quartile 1)</li>\n",
    "    <li>the maximum value</li>\n",
    "<ul>\n"
   ]
  },
  {
   "cell_type": "markdown",
   "id": "a4a4f64f-21eb-470c-ae31-3714ee04e63f",
   "metadata": {},
   "source": [
    " We can apply the method \"summarize\" and \"group_by\" as follows:\n"
   ]
  },
  {
   "cell_type": "code",
   "execution_count": 33,
   "id": "f1211207-9fa8-45b5-a40e-668a397ecf7e",
   "metadata": {},
   "outputs": [
    {
     "data": {
      "text/html": [
       "<table class=\"dataframe\">\n",
       "<caption>A tibble: 9 × 8</caption>\n",
       "<thead>\n",
       "\t<tr><th scope=col>Reporting_Airline</th><th scope=col>count</th><th scope=col>mean</th><th scope=col>std_dev</th><th scope=col>min</th><th scope=col>median</th><th scope=col>iqr</th><th scope=col>max</th></tr>\n",
       "\t<tr><th scope=col>&lt;chr&gt;</th><th scope=col>&lt;int&gt;</th><th scope=col>&lt;dbl&gt;</th><th scope=col>&lt;dbl&gt;</th><th scope=col>&lt;dbl&gt;</th><th scope=col>&lt;dbl&gt;</th><th scope=col>&lt;dbl&gt;</th><th scope=col>&lt;dbl&gt;</th></tr>\n",
       "</thead>\n",
       "<tbody>\n",
       "\t<tr><td>AA    </td><td>1096</td><td>10.12226</td><td> 24.95855</td><td>0</td><td> 0.0</td><td> 9.25</td><td>325</td></tr>\n",
       "\t<tr><td>AS    </td><td>  45</td><td>12.91111</td><td> 25.59903</td><td>0</td><td> 0.0</td><td>16.00</td><td>124</td></tr>\n",
       "\t<tr><td>B6    </td><td> 258</td><td>18.55039</td><td> 47.14758</td><td>0</td><td> 0.0</td><td>13.00</td><td>382</td></tr>\n",
       "\t<tr><td>DL    </td><td> 526</td><td>13.83650</td><td> 48.08742</td><td>0</td><td> 0.0</td><td>12.00</td><td>680</td></tr>\n",
       "\t<tr><td>HP    </td><td>  14</td><td>19.21429</td><td> 25.31700</td><td>0</td><td>12.5</td><td>24.50</td><td> 85</td></tr>\n",
       "\t<tr><td>PA (1)</td><td>  33</td><td>33.54545</td><td>118.73265</td><td>0</td><td> 1.0</td><td>16.00</td><td>682</td></tr>\n",
       "\t<tr><td>TW    </td><td> 185</td><td>15.59459</td><td> 36.82041</td><td>0</td><td> 2.0</td><td>13.00</td><td>270</td></tr>\n",
       "\t<tr><td>UA    </td><td> 569</td><td>11.73462</td><td> 27.09474</td><td>0</td><td> 0.0</td><td>11.00</td><td>191</td></tr>\n",
       "\t<tr><td>VX    </td><td> 129</td><td>14.93798</td><td> 31.14125</td><td>0</td><td> 0.0</td><td>15.00</td><td>188</td></tr>\n",
       "</tbody>\n",
       "</table>\n"
      ],
      "text/latex": [
       "A tibble: 9 × 8\n",
       "\\begin{tabular}{llllllll}\n",
       " Reporting\\_Airline & count & mean & std\\_dev & min & median & iqr & max\\\\\n",
       " <chr> & <int> & <dbl> & <dbl> & <dbl> & <dbl> & <dbl> & <dbl>\\\\\n",
       "\\hline\n",
       "\t AA     & 1096 & 10.12226 &  24.95855 & 0 &  0.0 &  9.25 & 325\\\\\n",
       "\t AS     &   45 & 12.91111 &  25.59903 & 0 &  0.0 & 16.00 & 124\\\\\n",
       "\t B6     &  258 & 18.55039 &  47.14758 & 0 &  0.0 & 13.00 & 382\\\\\n",
       "\t DL     &  526 & 13.83650 &  48.08742 & 0 &  0.0 & 12.00 & 680\\\\\n",
       "\t HP     &   14 & 19.21429 &  25.31700 & 0 & 12.5 & 24.50 &  85\\\\\n",
       "\t PA (1) &   33 & 33.54545 & 118.73265 & 0 &  1.0 & 16.00 & 682\\\\\n",
       "\t TW     &  185 & 15.59459 &  36.82041 & 0 &  2.0 & 13.00 & 270\\\\\n",
       "\t UA     &  569 & 11.73462 &  27.09474 & 0 &  0.0 & 11.00 & 191\\\\\n",
       "\t VX     &  129 & 14.93798 &  31.14125 & 0 &  0.0 & 15.00 & 188\\\\\n",
       "\\end{tabular}\n"
      ],
      "text/markdown": [
       "\n",
       "A tibble: 9 × 8\n",
       "\n",
       "| Reporting_Airline &lt;chr&gt; | count &lt;int&gt; | mean &lt;dbl&gt; | std_dev &lt;dbl&gt; | min &lt;dbl&gt; | median &lt;dbl&gt; | iqr &lt;dbl&gt; | max &lt;dbl&gt; |\n",
       "|---|---|---|---|---|---|---|---|\n",
       "| AA     | 1096 | 10.12226 |  24.95855 | 0 |  0.0 |  9.25 | 325 |\n",
       "| AS     |   45 | 12.91111 |  25.59903 | 0 |  0.0 | 16.00 | 124 |\n",
       "| B6     |  258 | 18.55039 |  47.14758 | 0 |  0.0 | 13.00 | 382 |\n",
       "| DL     |  526 | 13.83650 |  48.08742 | 0 |  0.0 | 12.00 | 680 |\n",
       "| HP     |   14 | 19.21429 |  25.31700 | 0 | 12.5 | 24.50 |  85 |\n",
       "| PA (1) |   33 | 33.54545 | 118.73265 | 0 |  1.0 | 16.00 | 682 |\n",
       "| TW     |  185 | 15.59459 |  36.82041 | 0 |  2.0 | 13.00 | 270 |\n",
       "| UA     |  569 | 11.73462 |  27.09474 | 0 |  0.0 | 11.00 | 191 |\n",
       "| VX     |  129 | 14.93798 |  31.14125 | 0 |  0.0 | 15.00 | 188 |\n",
       "\n"
      ],
      "text/plain": [
       "  Reporting_Airline count mean     std_dev   min median iqr   max\n",
       "1 AA                1096  10.12226  24.95855 0    0.0    9.25 325\n",
       "2 AS                  45  12.91111  25.59903 0    0.0   16.00 124\n",
       "3 B6                 258  18.55039  47.14758 0    0.0   13.00 382\n",
       "4 DL                 526  13.83650  48.08742 0    0.0   12.00 680\n",
       "5 HP                  14  19.21429  25.31700 0   12.5   24.50  85\n",
       "6 PA (1)              33  33.54545 118.73265 0    1.0   16.00 682\n",
       "7 TW                 185  15.59459  36.82041 0    2.0   13.00 270\n",
       "8 UA                 569  11.73462  27.09474 0    0.0   11.00 191\n",
       "9 VX                 129  14.93798  31.14125 0    0.0   15.00 188"
      ]
     },
     "metadata": {},
     "output_type": "display_data"
    }
   ],
   "source": [
    "summary_airline_delays <- sub_airline %>%\n",
    "  group_by(Reporting_Airline) %>%\n",
    "  summarize(count = n(), \n",
    "            mean = mean(ArrDelayMinutes, na.rm = TRUE),\n",
    "            std_dev = sd(ArrDelayMinutes, na.rm = TRUE), \n",
    "            min = min(ArrDelayMinutes, na.rm = TRUE), \n",
    "            median = median(ArrDelayMinutes, na.rm=TRUE),\n",
    "            iqr = IQR(ArrDelayMinutes, na.rm = TRUE), \n",
    "            max = max(ArrDelayMinutes, na.rm = TRUE))\n",
    "\n",
    "summary_airline_delays"
   ]
  },
  {
   "cell_type": "markdown",
   "id": "b6bc7e32-63ef-480a-91c8-bebe05e7642b",
   "metadata": {},
   "source": [
    "To identify the data type of each column in a dataframe, we can use `sapply()` with `typeof`, which finds the type of something. So here, you *apply* `typeof` to every column in sub_airline.\n"
   ]
  },
  {
   "cell_type": "code",
   "execution_count": 34,
   "id": "108aaea6-43c8-4870-9cfe-9d779d1e014a",
   "metadata": {},
   "outputs": [
    {
     "data": {
      "text/html": [
       "<style>\n",
       ".dl-inline {width: auto; margin:0; padding: 0}\n",
       ".dl-inline>dt, .dl-inline>dd {float: none; width: auto; display: inline-block}\n",
       ".dl-inline>dt::after {content: \":\\0020\"; padding-right: .5ex}\n",
       ".dl-inline>dt:not(:first-of-type) {padding-left: .5ex}\n",
       "</style><dl class=dl-inline><dt>Month</dt><dd>'double'</dd><dt>DayOfWeek</dt><dd>'double'</dd><dt>FlightDate</dt><dd>'double'</dd><dt>Reporting_Airline</dt><dd>'character'</dd><dt>Origin</dt><dd>'character'</dd><dt>Dest</dt><dd>'character'</dd><dt>CRSDepTime</dt><dd>'character'</dd><dt>CRSArrTime</dt><dd>'character'</dd><dt>DepTime</dt><dd>'character'</dd><dt>ArrTime</dt><dd>'character'</dd><dt>ArrDelay</dt><dd>'double'</dd><dt>ArrDelayMinutes</dt><dd>'double'</dd><dt>CarrierDelay</dt><dd>'double'</dd><dt>WeatherDelay</dt><dd>'double'</dd><dt>NASDelay</dt><dd>'double'</dd><dt>SecurityDelay</dt><dd>'double'</dd><dt>LateAircraftDelay</dt><dd>'double'</dd><dt>DepDelay</dt><dd>'double'</dd><dt>DepDelayMinutes</dt><dd>'double'</dd><dt>DivDistance</dt><dd>'double'</dd><dt>DivArrDelay</dt><dd>'double'</dd></dl>\n"
      ],
      "text/latex": [
       "\\begin{description*}\n",
       "\\item[Month] 'double'\n",
       "\\item[DayOfWeek] 'double'\n",
       "\\item[FlightDate] 'double'\n",
       "\\item[Reporting\\textbackslash{}\\_Airline] 'character'\n",
       "\\item[Origin] 'character'\n",
       "\\item[Dest] 'character'\n",
       "\\item[CRSDepTime] 'character'\n",
       "\\item[CRSArrTime] 'character'\n",
       "\\item[DepTime] 'character'\n",
       "\\item[ArrTime] 'character'\n",
       "\\item[ArrDelay] 'double'\n",
       "\\item[ArrDelayMinutes] 'double'\n",
       "\\item[CarrierDelay] 'double'\n",
       "\\item[WeatherDelay] 'double'\n",
       "\\item[NASDelay] 'double'\n",
       "\\item[SecurityDelay] 'double'\n",
       "\\item[LateAircraftDelay] 'double'\n",
       "\\item[DepDelay] 'double'\n",
       "\\item[DepDelayMinutes] 'double'\n",
       "\\item[DivDistance] 'double'\n",
       "\\item[DivArrDelay] 'double'\n",
       "\\end{description*}\n"
      ],
      "text/markdown": [
       "Month\n",
       ":   'double'DayOfWeek\n",
       ":   'double'FlightDate\n",
       ":   'double'Reporting_Airline\n",
       ":   'character'Origin\n",
       ":   'character'Dest\n",
       ":   'character'CRSDepTime\n",
       ":   'character'CRSArrTime\n",
       ":   'character'DepTime\n",
       ":   'character'ArrTime\n",
       ":   'character'ArrDelay\n",
       ":   'double'ArrDelayMinutes\n",
       ":   'double'CarrierDelay\n",
       ":   'double'WeatherDelay\n",
       ":   'double'NASDelay\n",
       ":   'double'SecurityDelay\n",
       ":   'double'LateAircraftDelay\n",
       ":   'double'DepDelay\n",
       ":   'double'DepDelayMinutes\n",
       ":   'double'DivDistance\n",
       ":   'double'DivArrDelay\n",
       ":   'double'\n",
       "\n"
      ],
      "text/plain": [
       "            Month         DayOfWeek        FlightDate Reporting_Airline \n",
       "         \"double\"          \"double\"          \"double\"       \"character\" \n",
       "           Origin              Dest        CRSDepTime        CRSArrTime \n",
       "      \"character\"       \"character\"       \"character\"       \"character\" \n",
       "          DepTime           ArrTime          ArrDelay   ArrDelayMinutes \n",
       "      \"character\"       \"character\"          \"double\"          \"double\" \n",
       "     CarrierDelay      WeatherDelay          NASDelay     SecurityDelay \n",
       "         \"double\"          \"double\"          \"double\"          \"double\" \n",
       "LateAircraftDelay          DepDelay   DepDelayMinutes       DivDistance \n",
       "         \"double\"          \"double\"          \"double\"          \"double\" \n",
       "      DivArrDelay \n",
       "         \"double\" "
      ]
     },
     "metadata": {},
     "output_type": "display_data"
    }
   ],
   "source": [
    "sapply(sub_airline, typeof)"
   ]
  },
  {
   "cell_type": "markdown",
   "id": "e19a7355-27f7-4c54-ad4f-203dfca81523",
   "metadata": {},
   "source": [
    "<h3>Value Counts</h3>\n",
    "\n",
    "One way you can summarize the categorical data is by using the function `count()`. \n",
    "As an example, you can get the count of each reporting airline in this dataset. \n",
    "We see that we have 1096 flights from AA - American Airlines, 45 flights from AS - Alaska Airlines, 258 from B6 - jetBlue airlines, etc.\n"
   ]
  },
  {
   "cell_type": "code",
   "execution_count": 35,
   "id": "089d3a2e-0bc0-4bd1-9255-709ccfb9b315",
   "metadata": {},
   "outputs": [
    {
     "data": {
      "text/html": [
       "<table class=\"dataframe\">\n",
       "<caption>A spec_tbl_df: 9 × 2</caption>\n",
       "<thead>\n",
       "\t<tr><th scope=col>Reporting_Airline</th><th scope=col>n</th></tr>\n",
       "\t<tr><th scope=col>&lt;chr&gt;</th><th scope=col>&lt;int&gt;</th></tr>\n",
       "</thead>\n",
       "<tbody>\n",
       "\t<tr><td>AA    </td><td>1096</td></tr>\n",
       "\t<tr><td>AS    </td><td>  45</td></tr>\n",
       "\t<tr><td>B6    </td><td> 258</td></tr>\n",
       "\t<tr><td>DL    </td><td> 526</td></tr>\n",
       "\t<tr><td>HP    </td><td>  14</td></tr>\n",
       "\t<tr><td>PA (1)</td><td>  33</td></tr>\n",
       "\t<tr><td>TW    </td><td> 185</td></tr>\n",
       "\t<tr><td>UA    </td><td> 569</td></tr>\n",
       "\t<tr><td>VX    </td><td> 129</td></tr>\n",
       "</tbody>\n",
       "</table>\n"
      ],
      "text/latex": [
       "A spec\\_tbl\\_df: 9 × 2\n",
       "\\begin{tabular}{ll}\n",
       " Reporting\\_Airline & n\\\\\n",
       " <chr> & <int>\\\\\n",
       "\\hline\n",
       "\t AA     & 1096\\\\\n",
       "\t AS     &   45\\\\\n",
       "\t B6     &  258\\\\\n",
       "\t DL     &  526\\\\\n",
       "\t HP     &   14\\\\\n",
       "\t PA (1) &   33\\\\\n",
       "\t TW     &  185\\\\\n",
       "\t UA     &  569\\\\\n",
       "\t VX     &  129\\\\\n",
       "\\end{tabular}\n"
      ],
      "text/markdown": [
       "\n",
       "A spec_tbl_df: 9 × 2\n",
       "\n",
       "| Reporting_Airline &lt;chr&gt; | n &lt;int&gt; |\n",
       "|---|---|\n",
       "| AA     | 1096 |\n",
       "| AS     |   45 |\n",
       "| B6     |  258 |\n",
       "| DL     |  526 |\n",
       "| HP     |   14 |\n",
       "| PA (1) |   33 |\n",
       "| TW     |  185 |\n",
       "| UA     |  569 |\n",
       "| VX     |  129 |\n",
       "\n"
      ],
      "text/plain": [
       "  Reporting_Airline n   \n",
       "1 AA                1096\n",
       "2 AS                  45\n",
       "3 B6                 258\n",
       "4 DL                 526\n",
       "5 HP                  14\n",
       "6 PA (1)              33\n",
       "7 TW                 185\n",
       "8 UA                 569\n",
       "9 VX                 129"
      ]
     },
     "metadata": {},
     "output_type": "display_data"
    }
   ],
   "source": [
    "sub_airline %>%\n",
    "  count(Reporting_Airline)"
   ]
  },
  {
   "cell_type": "markdown",
   "id": "676640ff-4663-4987-8a2a-5f186acd988f",
   "metadata": {},
   "source": [
    "<a class=\"anchor\" id=\"basic_grouping\"></a>\n",
    "\n",
    "## 3. Basics of Grouping\n"
   ]
  },
  {
   "cell_type": "markdown",
   "id": "fd4e3575-85eb-4e20-affb-52245e0ae585",
   "metadata": {},
   "source": [
    "<p>We often ask questions like: Is there any relationship between the reporting airline and the flight delays? If so, which day of the week do flights have relatively longer delay times? For example, people take flights most frequently on Monday and Friday for business trips. Would that impact how long the flight is delayed? It would be nice if we could group the data by the different reporting airline, and compare the results of these different day of week against each other.</p>\n",
    "\n",
    "<p>In tidyverse this can be done using the \"group_by\" method. The group by method is used on categorical variables, it groups the data into subsets according to the different categories of that variable. You can group by a single variable or you can group by multiple variables by passing in multiple variable names. </p>\n",
    "\n",
    "<p>Let’s say we are interested in finding the average delay minutes of flights and observe how they differ between different \"Reporting_Airline\" and \"DayOfWeeks\" variables. </p>\n",
    "\n",
    "To do this, you can use `group_by()` to group by \"Reporting_Airline\" and \"DayOfWeeks\", then use `summarize()` to calculate the mean delay minutes. Setting `.groups = 'keep'` keeps the grouping structure, if you instead were to set it to `\"drop\"` then the output would be ungrouped and essentially be a regualr tibble (dataframe).\n"
   ]
  },
  {
   "cell_type": "code",
   "execution_count": 38,
   "id": "d62360d2-2266-4f4c-bb41-9eb28a650d4a",
   "metadata": {},
   "outputs": [
    {
     "data": {
      "text/html": [
       "<table class=\"dataframe\">\n",
       "<caption>A grouped_df: 6 × 3</caption>\n",
       "<thead>\n",
       "\t<tr><th scope=col>Reporting_Airline</th><th scope=col>DayOfWeek</th><th scope=col>mean_delays</th></tr>\n",
       "\t<tr><th scope=col>&lt;chr&gt;</th><th scope=col>&lt;dbl&gt;</th><th scope=col>&lt;dbl&gt;</th></tr>\n",
       "</thead>\n",
       "<tbody>\n",
       "\t<tr><td>AA</td><td>1</td><td> 9.186813</td></tr>\n",
       "\t<tr><td>AA</td><td>2</td><td> 6.232558</td></tr>\n",
       "\t<tr><td>AA</td><td>3</td><td> 7.289157</td></tr>\n",
       "\t<tr><td>AA</td><td>4</td><td>12.387500</td></tr>\n",
       "\t<tr><td>AA</td><td>5</td><td>15.949640</td></tr>\n",
       "\t<tr><td>AA</td><td>6</td><td> 8.000000</td></tr>\n",
       "</tbody>\n",
       "</table>\n"
      ],
      "text/latex": [
       "A grouped\\_df: 6 × 3\n",
       "\\begin{tabular}{lll}\n",
       " Reporting\\_Airline & DayOfWeek & mean\\_delays\\\\\n",
       " <chr> & <dbl> & <dbl>\\\\\n",
       "\\hline\n",
       "\t AA & 1 &  9.186813\\\\\n",
       "\t AA & 2 &  6.232558\\\\\n",
       "\t AA & 3 &  7.289157\\\\\n",
       "\t AA & 4 & 12.387500\\\\\n",
       "\t AA & 5 & 15.949640\\\\\n",
       "\t AA & 6 &  8.000000\\\\\n",
       "\\end{tabular}\n"
      ],
      "text/markdown": [
       "\n",
       "A grouped_df: 6 × 3\n",
       "\n",
       "| Reporting_Airline &lt;chr&gt; | DayOfWeek &lt;dbl&gt; | mean_delays &lt;dbl&gt; |\n",
       "|---|---|---|\n",
       "| AA | 1 |  9.186813 |\n",
       "| AA | 2 |  6.232558 |\n",
       "| AA | 3 |  7.289157 |\n",
       "| AA | 4 | 12.387500 |\n",
       "| AA | 5 | 15.949640 |\n",
       "| AA | 6 |  8.000000 |\n",
       "\n"
      ],
      "text/plain": [
       "  Reporting_Airline DayOfWeek mean_delays\n",
       "1 AA                1          9.186813  \n",
       "2 AA                2          6.232558  \n",
       "3 AA                3          7.289157  \n",
       "4 AA                4         12.387500  \n",
       "5 AA                5         15.949640  \n",
       "6 AA                6          8.000000  "
      ]
     },
     "metadata": {},
     "output_type": "display_data"
    }
   ],
   "source": [
    "avg_delays <- sub_airline %>%\n",
    "  group_by(Reporting_Airline, DayOfWeek) %>%\n",
    "  summarize(mean_delays = mean(ArrDelayMinutes), .groups = 'keep')\n",
    "\n",
    "head(avg_delays)"
   ]
  },
  {
   "cell_type": "markdown",
   "id": "198c84dc-4b95-42c8-b071-16377f3a563f",
   "metadata": {},
   "source": [
    "The function `arrange()` will reorder the rows in an *ascending* order. However, using `arrange()` with `desc()` sorts data in *descending* order. \n",
    "\n",
    "So now, we sort the mean_delays column by descending order using `arrange(desc())` and print the output table to see the top airlines and day of the week pairs that have the highest average arrival delays.\n"
   ]
  },
  {
   "cell_type": "code",
   "execution_count": 39,
   "id": "8956f6c1-2735-471c-a0f2-ce67e7b20bdb",
   "metadata": {},
   "outputs": [
    {
     "data": {
      "text/html": [
       "<table class=\"dataframe\">\n",
       "<caption>A grouped_df: 6 × 3</caption>\n",
       "<thead>\n",
       "\t<tr><th scope=col>Reporting_Airline</th><th scope=col>DayOfWeek</th><th scope=col>mean_delays</th></tr>\n",
       "\t<tr><th scope=col>&lt;chr&gt;</th><th scope=col>&lt;dbl&gt;</th><th scope=col>&lt;dbl&gt;</th></tr>\n",
       "</thead>\n",
       "<tbody>\n",
       "\t<tr><td>PA (1)</td><td>6</td><td>121.83333</td></tr>\n",
       "\t<tr><td>PA (1)</td><td>5</td><td> 36.50000</td></tr>\n",
       "\t<tr><td>TW    </td><td>6</td><td> 34.80952</td></tr>\n",
       "\t<tr><td>B6    </td><td>7</td><td> 26.82051</td></tr>\n",
       "\t<tr><td>HP    </td><td>5</td><td> 26.00000</td></tr>\n",
       "\t<tr><td>VX    </td><td>2</td><td> 25.65217</td></tr>\n",
       "</tbody>\n",
       "</table>\n"
      ],
      "text/latex": [
       "A grouped\\_df: 6 × 3\n",
       "\\begin{tabular}{lll}\n",
       " Reporting\\_Airline & DayOfWeek & mean\\_delays\\\\\n",
       " <chr> & <dbl> & <dbl>\\\\\n",
       "\\hline\n",
       "\t PA (1) & 6 & 121.83333\\\\\n",
       "\t PA (1) & 5 &  36.50000\\\\\n",
       "\t TW     & 6 &  34.80952\\\\\n",
       "\t B6     & 7 &  26.82051\\\\\n",
       "\t HP     & 5 &  26.00000\\\\\n",
       "\t VX     & 2 &  25.65217\\\\\n",
       "\\end{tabular}\n"
      ],
      "text/markdown": [
       "\n",
       "A grouped_df: 6 × 3\n",
       "\n",
       "| Reporting_Airline &lt;chr&gt; | DayOfWeek &lt;dbl&gt; | mean_delays &lt;dbl&gt; |\n",
       "|---|---|---|\n",
       "| PA (1) | 6 | 121.83333 |\n",
       "| PA (1) | 5 |  36.50000 |\n",
       "| TW     | 6 |  34.80952 |\n",
       "| B6     | 7 |  26.82051 |\n",
       "| HP     | 5 |  26.00000 |\n",
       "| VX     | 2 |  25.65217 |\n",
       "\n"
      ],
      "text/plain": [
       "  Reporting_Airline DayOfWeek mean_delays\n",
       "1 PA (1)            6         121.83333  \n",
       "2 PA (1)            5          36.50000  \n",
       "3 TW                6          34.80952  \n",
       "4 B6                7          26.82051  \n",
       "5 HP                5          26.00000  \n",
       "6 VX                2          25.65217  "
      ]
     },
     "metadata": {},
     "output_type": "display_data"
    }
   ],
   "source": [
    "# sort the dataframe in R using multiple variables with Dplyr\n",
    "sorted <- avg_delays %>% \n",
    "    arrange(desc(mean_delays))\n",
    "\n",
    "head(sorted)"
   ]
  },
  {
   "cell_type": "markdown",
   "id": "c55c32cd-b05c-45ad-b3d3-d10bfa1a82ae",
   "metadata": {},
   "source": [
    "To make it easier to understand, we can transform this table to a **heatmap**.\n",
    "\n",
    "<p>A heatmap has one variable displayed along the x-axis and the other variable displayed along the y-axis. A heat map (or heatmap) is a data visualization technique that shows magnitude of a phenomenon as color in two dimensions. </p>\n",
    "    \n",
    "<p>The variation in color may be by hue or intensity, giving obvious visual cues to the reader about how the phenomenon is clustered or varied over space. It is a great way to plot the target variable over multiple variables and through this get visual clues of the relationship between these variables and the target. </p>\n",
    "\n",
    "With `ggplot`, you can use `geom_tile()` to create heatmaps and use `scale_fill_gradient()` to change the coloring of the heatmap. So to interpret the heatmap below, the closer a tile is to the color red, the higher the mean arrival delay for that particualr day of the week and airline pair.\n"
   ]
  },
  {
   "cell_type": "code",
   "execution_count": 40,
   "id": "fc0146a0-e563-415e-9ac0-40bcda21ab34",
   "metadata": {},
   "outputs": [
    {
     "name": "stderr",
     "output_type": "stream",
     "text": [
      "Warning message:\n",
      "\"\u001b[1m\u001b[22mUsing `size` aesthetic for lines was deprecated in ggplot2 3.4.0.\n",
      "\u001b[36mℹ\u001b[39m Please use `linewidth` instead.\"\n"
     ]
    },
    {
     "data": {
      "image/png": "[encoded data removed]",
      "text/plain": [
       "plot without title"
      ]
     },
     "metadata": {
      "image/png": {
       "height": 420,
       "width": 420
      }
     },
     "output_type": "display_data"
    }
   ],
   "source": [
    "# The color is still hard to see and identify,  let's change the color\n",
    "avg_delays %>% \n",
    "  ggplot(aes(x = Reporting_Airline, \n",
    "             y = DayOfWeek, \n",
    "             fill = mean_delays)) +\n",
    "  # set the tile's borders to be white with size 0.2\n",
    "  geom_tile(color = \"white\", size = 0.2) +\n",
    "  # define gradient color scales\n",
    "  scale_fill_gradient(low = \"yellow\", high = \"red\")"
   ]
  },
  {
   "cell_type": "markdown",
   "id": "e677065d-73cf-4e46-b492-eb693d1a60f8",
   "metadata": {},
   "source": [
    "**BONUS Heatmap**\n",
    "<p>For something more sophisticated, you can always add more blocks in your code. </p>\n"
   ]
  },
  {
   "cell_type": "code",
   "execution_count": 41,
   "id": "e1ab4456-9949-45a4-9504-253f2d109f5d",
   "metadata": {},
   "outputs": [
    {
     "data": {
      "image/png": "[encoded data removed]",
      "text/plain": [
       "plot without title"
      ]
     },
     "metadata": {
      "image/png": {
       "height": 420,
       "width": 420
      }
     },
     "output_type": "display_data"
    }
   ],
   "source": [
    "# This visualization will use lubridate package\n",
    "library(lubridate)\n",
    "# Let's take a simple average across Reporting_Airline and DayOfWeek\n",
    "avg_delays <- sub_airline %>%\n",
    "  group_by(Reporting_Airline, DayOfWeek) %>%\n",
    "  summarize(mean_delays = mean(ArrDelayMinutes), .groups = 'keep') %>%\n",
    "  # create a new variable \"bins\" from mean_delays\n",
    "  # make the first range -0.1 to 0.1 to include zero values\n",
    "  mutate(bins = cut(mean_delays,breaks = c(-0.1,0.1,10,20,30,50, max(mean_delays)),\n",
    "                         labels = c(\"0\",\"0-10\",\"10-20\",\"20-30\",\"30-50\",\">50\"))) %>%\n",
    "  mutate(bins = factor(as.character(bins),levels = rev(levels(bins))))\n",
    "\n",
    "\n",
    "ggplot(avg_delays, aes(x = Reporting_Airline, \n",
    "                      y = lubridate::wday(DayOfWeek, label = TRUE), \n",
    "                      fill = bins)) +\n",
    "    geom_tile(colour = \"white\", size = 0.2) +\n",
    "    geom_text(aes(label = round(mean_delays, 3))) +\n",
    "    guides(fill = guide_legend(title = \"Delays Time Scale\"))+\n",
    "    labs(x = \"Reporting Airline\",y = \"Day of Week\",title = \"Average Arrival Delays\")+\n",
    "    # Define color palette for the scale\n",
    "    scale_fill_manual(values = c(\"#d53e4f\", \"#f46d43\", \"#fdae61\", \"#fee08b\", \"#e6f598\", \"#abdda4\"))"
   ]
  },
  {
   "cell_type": "markdown",
   "id": "485105d3-4045-4290-96a1-b2b9b03a901c",
   "metadata": {},
   "source": [
    "<div class=\"alert alert-danger alertdanger\" style=\"margin-top: 20px\">\n",
    "<h1>Question 4:</h1>\n",
    "\n",
    "<p>Use the \"groupby\" and \"summarize\" function to find the average \"ArrDelayMinutes\" of each flight based on \"Reporting_Airline\" ? </p>\n",
    "</div>\n"
   ]
  },
  {
   "cell_type": "code",
   "execution_count": 42,
   "id": "10d1e32e-910a-465d-bcd2-78241fd2d121",
   "metadata": {},
   "outputs": [
    {
     "data": {
      "text/html": [
       "<table class=\"dataframe\">\n",
       "<caption>A tibble: 9 × 2</caption>\n",
       "<thead>\n",
       "\t<tr><th scope=col>Reporting_Airline</th><th scope=col>mean_delays</th></tr>\n",
       "\t<tr><th scope=col>&lt;chr&gt;</th><th scope=col>&lt;dbl&gt;</th></tr>\n",
       "</thead>\n",
       "<tbody>\n",
       "\t<tr><td>AA    </td><td>10.12226</td></tr>\n",
       "\t<tr><td>AS    </td><td>12.91111</td></tr>\n",
       "\t<tr><td>B6    </td><td>18.55039</td></tr>\n",
       "\t<tr><td>DL    </td><td>13.83650</td></tr>\n",
       "\t<tr><td>HP    </td><td>19.21429</td></tr>\n",
       "\t<tr><td>PA (1)</td><td>33.54545</td></tr>\n",
       "\t<tr><td>TW    </td><td>15.59459</td></tr>\n",
       "\t<tr><td>UA    </td><td>11.73462</td></tr>\n",
       "\t<tr><td>VX    </td><td>14.93798</td></tr>\n",
       "</tbody>\n",
       "</table>\n"
      ],
      "text/latex": [
       "A tibble: 9 × 2\n",
       "\\begin{tabular}{ll}\n",
       " Reporting\\_Airline & mean\\_delays\\\\\n",
       " <chr> & <dbl>\\\\\n",
       "\\hline\n",
       "\t AA     & 10.12226\\\\\n",
       "\t AS     & 12.91111\\\\\n",
       "\t B6     & 18.55039\\\\\n",
       "\t DL     & 13.83650\\\\\n",
       "\t HP     & 19.21429\\\\\n",
       "\t PA (1) & 33.54545\\\\\n",
       "\t TW     & 15.59459\\\\\n",
       "\t UA     & 11.73462\\\\\n",
       "\t VX     & 14.93798\\\\\n",
       "\\end{tabular}\n"
      ],
      "text/markdown": [
       "\n",
       "A tibble: 9 × 2\n",
       "\n",
       "| Reporting_Airline &lt;chr&gt; | mean_delays &lt;dbl&gt; |\n",
       "|---|---|\n",
       "| AA     | 10.12226 |\n",
       "| AS     | 12.91111 |\n",
       "| B6     | 18.55039 |\n",
       "| DL     | 13.83650 |\n",
       "| HP     | 19.21429 |\n",
       "| PA (1) | 33.54545 |\n",
       "| TW     | 15.59459 |\n",
       "| UA     | 11.73462 |\n",
       "| VX     | 14.93798 |\n",
       "\n"
      ],
      "text/plain": [
       "  Reporting_Airline mean_delays\n",
       "1 AA                10.12226   \n",
       "2 AS                12.91111   \n",
       "3 B6                18.55039   \n",
       "4 DL                13.83650   \n",
       "5 HP                19.21429   \n",
       "6 PA (1)            33.54545   \n",
       "7 TW                15.59459   \n",
       "8 UA                11.73462   \n",
       "9 VX                14.93798   "
      ]
     },
     "metadata": {},
     "output_type": "display_data"
    }
   ],
   "source": [
    "# Write your code below and press Shift+Enter to execute \n",
    "# grouping results\n",
    "sub_airline %>%\n",
    "  group_by(Reporting_Airline) %>%\n",
    "  summarize(mean_delays = mean(ArrDelayMinutes))   "
   ]
  },
  {
   "cell_type": "markdown",
   "id": "12eb8724-d554-45da-87f9-4e398ebafb01",
   "metadata": {},
   "source": [
    "<details>\n",
    "    <summary>Click here for the solution.</summary>\n",
    "\n",
    "```r\n",
    "# grouping results\n",
    "sub_airline %>%\n",
    "  group_by(Reporting_Airline) %>%\n",
    "  summarize(mean_delays = mean(ArrDelayMinutes))   \n",
    "```\n",
    "                 \n",
    "</details>\n"
   ]
  },
  {
   "cell_type": "markdown",
   "id": "74a6d5ae-dfa9-4bbf-9f5d-b96186fc40eb",
   "metadata": {},
   "source": [
    "Visualization is very important in data science and R visualization packages, namely `ggplot`, provide great freedom. We will go more in-depth in a separate R Data Visualization course.\n"
   ]
  },
  {
   "cell_type": "markdown",
   "id": "c4c96dd9-3d90-4c42-b333-9821088583d8",
   "metadata": {},
   "source": [
    "<a class=\"anchor\" id=\"correlation_causation\"></a>\n",
    "\n",
    "<h2>4. Correlation and Causation</h2>\n"
   ]
  },
  {
   "cell_type": "markdown",
   "id": "45ae430d-d2aa-4dd7-9373-9a89936df61c",
   "metadata": {},
   "source": [
    "<p>The main question we are trying to answer in this module is: \"What causes flight delays?\". To get a better measure of the important characteristics, we look at the correlation of these variables with the arrival delay, AKA, \"ArrDelayMinutes\", in other words: how is the arrival delay minutes dependent on this variable?</p>\n",
    "\n",
    "First, let's begin with some important definitions:\n",
    "* **Correlation**: a measure of the extent of interdependence between variables.\n",
    "* **Causation**: the relationship between cause and effect between two variables.\n",
    "\n",
    "<p>It is important to know the difference between these two and that correlation does not imply causation. Determining correlation is much simpler than determining causation as causation may require independent experimentation.</p>\n"
   ]
  },
  {
   "cell_type": "markdown",
   "id": "b7990f02-e200-4000-af6e-b7f76e02c349",
   "metadata": {},
   "source": [
    "<h3>Pearson Correlation</h3>\n",
    "<p>The Pearson Correlation measures the linear dependence between two variables X and Y.</p>\n",
    "<p>The resulting coefficient is a value between -1 and 1 inclusive, where:</p>\n",
    "<ul>\n",
    "    <li><b>1</b>: Total positive linear correlation.</li>\n",
    "    <li><b>0</b>: No linear correlation, the two variables most likely do not affect each other.</li>\n",
    "    <li><b>-1</b>: Total negative linear correlation.</li>\n",
    "</ul>\n"
   ]
  },
  {
   "cell_type": "markdown",
   "id": "c605033a-a77c-44bb-9423-535011f096c8",
   "metadata": {},
   "source": [
    "Pearson Correlation is the default method of the function `cor()`, but other methods can be specified by setting `method`.  Like before we can calculate the Pearson Correlation of the \"integer\" or \"numeric\"  variables.\n"
   ]
  },
  {
   "cell_type": "code",
   "execution_count": 43,
   "id": "9ddd343c-70a4-4071-b294-f0269dc98e54",
   "metadata": {},
   "outputs": [
    {
     "data": {
      "text/html": [
       "<table class=\"dataframe\">\n",
       "<caption>A matrix: 2 × 2 of type dbl</caption>\n",
       "<thead>\n",
       "\t<tr><th></th><th scope=col>DepDelayMinutes</th><th scope=col>ArrDelayMinutes</th></tr>\n",
       "</thead>\n",
       "<tbody>\n",
       "\t<tr><th scope=row>DepDelayMinutes</th><td>1.0000000</td><td>0.9213328</td></tr>\n",
       "\t<tr><th scope=row>ArrDelayMinutes</th><td>0.9213328</td><td>1.0000000</td></tr>\n",
       "</tbody>\n",
       "</table>\n"
      ],
      "text/latex": [
       "A matrix: 2 × 2 of type dbl\n",
       "\\begin{tabular}{r|ll}\n",
       "  & DepDelayMinutes & ArrDelayMinutes\\\\\n",
       "\\hline\n",
       "\tDepDelayMinutes & 1.0000000 & 0.9213328\\\\\n",
       "\tArrDelayMinutes & 0.9213328 & 1.0000000\\\\\n",
       "\\end{tabular}\n"
      ],
      "text/markdown": [
       "\n",
       "A matrix: 2 × 2 of type dbl\n",
       "\n",
       "| <!--/--> | DepDelayMinutes | ArrDelayMinutes |\n",
       "|---|---|---|\n",
       "| DepDelayMinutes | 1.0000000 | 0.9213328 |\n",
       "| ArrDelayMinutes | 0.9213328 | 1.0000000 |\n",
       "\n"
      ],
      "text/plain": [
       "                DepDelayMinutes ArrDelayMinutes\n",
       "DepDelayMinutes 1.0000000       0.9213328      \n",
       "ArrDelayMinutes 0.9213328       1.0000000      "
      ]
     },
     "metadata": {},
     "output_type": "display_data"
    }
   ],
   "source": [
    "sub_airline %>% \n",
    "  select(DepDelayMinutes, ArrDelayMinutes) %>% \n",
    "  cor(method = \"pearson\")"
   ]
  },
  {
   "cell_type": "markdown",
   "id": "43a99707-964e-4023-accd-c2071b9c0184",
   "metadata": {},
   "source": [
    "Sometimes, we would like to know the significant of the correlation estimate. \n"
   ]
  },
  {
   "cell_type": "markdown",
   "id": "fa4951af-3413-4b48-ad29-7e5964f0fcfc",
   "metadata": {},
   "source": [
    "**P-value**: \n",
    "<p>What is this P-value? The P-value is the probability value that the correlation between these two variables is statistically significant. Normally, we choose a significance level of 0.05, which means that we are 95% confident that the correlation between the variables is significant.</p>\n",
    "\n",
    "By convention, when the\n",
    "<ul>\n",
    "    <li>p-value is $<$ 0.001: we say there is strong evidence that the correlation is significant.</li>\n",
    "    <li>the p-value is $<$ 0.05: there is moderate evidence that the correlation is significant.</li>\n",
    "    <li>the p-value is $<$ 0.1: there is weak evidence that the correlation is significant.</li>\n",
    "    <li>the p-value is $>$ 0.1: there is no evidence that the correlation is significant.</li>\n",
    "</ul>\n",
    "\n",
    "In R, to conduct a significance test and get the p-values, you can use `cor.test()`.\n"
   ]
  },
  {
   "cell_type": "code",
   "execution_count": 44,
   "id": "79b144e5-9e78-4244-a6a6-2298e99d654d",
   "metadata": {},
   "outputs": [
    {
     "data": {
      "text/plain": [
       "\n",
       "\tPearson's product-moment correlation\n",
       "\n",
       "data:  DepDelayMinutes and ArrDelayMinutes\n",
       "t = 126.58, df = 2853, p-value < 2.2e-16\n",
       "alternative hypothesis: true correlation is not equal to 0\n",
       "95 percent confidence interval:\n",
       " 0.9155942 0.9266962\n",
       "sample estimates:\n",
       "      cor \n",
       "0.9213328 \n"
      ]
     },
     "metadata": {},
     "output_type": "display_data"
    }
   ],
   "source": [
    "sub_airline %>% \n",
    "  cor.test(~DepDelayMinutes + ArrDelayMinutes, data = .) "
   ]
  },
  {
   "cell_type": "markdown",
   "id": "283f4d6f-b1f7-4af1-8c2c-c7d01572f48f",
   "metadata": {},
   "source": [
    "**Conclusion**:\n",
    "<p>See that the P-value is very small, much smaller than .001. And so we can conclude that we are certain about the strong positive correlation. </p>\n"
   ]
  },
  {
   "cell_type": "markdown",
   "id": "71a328d8-549c-4b49-9ef9-dd34948e9cd1",
   "metadata": {},
   "source": [
    "<h3>Correlations between multiple variables</h3>\n"
   ]
  },
  {
   "cell_type": "markdown",
   "id": "be9b813f-b367-4e39-8061-861d70c9711d",
   "metadata": {},
   "source": [
    "To calculate correlations on multiple variables, you can `select` all the variable then use the `cor()` function but set `use = \"pairwise.complete.obs\"` so that the correlation of every pair of variables is calculated. This computes a matrix of Pearson's r correlation coefficients for all possible pairs of columns. \n"
   ]
  },
  {
   "cell_type": "code",
   "execution_count": 45,
   "id": "4a3cef52-4fb1-4181-8bac-9b06d6f32834",
   "metadata": {},
   "outputs": [
    {
     "data": {
      "text/html": [
       "<table class=\"dataframe\">\n",
       "<caption>A matrix: 7 × 7 of type dbl</caption>\n",
       "<thead>\n",
       "\t<tr><th></th><th scope=col>ArrDelayMinutes</th><th scope=col>DepDelayMinutes</th><th scope=col>CarrierDelay</th><th scope=col>WeatherDelay</th><th scope=col>NASDelay</th><th scope=col>SecurityDelay</th><th scope=col>LateAircraftDelay</th></tr>\n",
       "</thead>\n",
       "<tbody>\n",
       "\t<tr><th scope=row>ArrDelayMinutes</th><td>1.00000000</td><td>0.92133281</td><td> 0.72876012</td><td> 0.04019104</td><td> 0.26170778</td><td> 0.07702208</td><td> 0.41691413</td></tr>\n",
       "\t<tr><th scope=row>DepDelayMinutes</th><td>0.92133281</td><td>1.00000000</td><td> 0.75399335</td><td> 0.04304843</td><td> 0.07109447</td><td> 0.10683841</td><td> 0.44701937</td></tr>\n",
       "\t<tr><th scope=row>CarrierDelay</th><td>0.72876012</td><td>0.75399335</td><td> 1.00000000</td><td>-0.03943409</td><td>-0.18634695</td><td>-0.02396245</td><td>-0.04173491</td></tr>\n",
       "\t<tr><th scope=row>WeatherDelay</th><td>0.04019104</td><td>0.04304843</td><td>-0.03943409</td><td> 1.00000000</td><td>-0.03995573</td><td>-0.01024942</td><td>-0.02791712</td></tr>\n",
       "\t<tr><th scope=row>NASDelay</th><td>0.26170778</td><td>0.07109447</td><td>-0.18634695</td><td>-0.03995573</td><td> 1.00000000</td><td>-0.05276635</td><td>-0.15735914</td></tr>\n",
       "\t<tr><th scope=row>SecurityDelay</th><td>0.07702208</td><td>0.10683841</td><td>-0.02396245</td><td>-0.01024942</td><td>-0.05276635</td><td> 1.00000000</td><td>-0.02668880</td></tr>\n",
       "\t<tr><th scope=row>LateAircraftDelay</th><td>0.41691413</td><td>0.44701937</td><td>-0.04173491</td><td>-0.02791712</td><td>-0.15735914</td><td>-0.02668880</td><td> 1.00000000</td></tr>\n",
       "</tbody>\n",
       "</table>\n"
      ],
      "text/latex": [
       "A matrix: 7 × 7 of type dbl\n",
       "\\begin{tabular}{r|lllllll}\n",
       "  & ArrDelayMinutes & DepDelayMinutes & CarrierDelay & WeatherDelay & NASDelay & SecurityDelay & LateAircraftDelay\\\\\n",
       "\\hline\n",
       "\tArrDelayMinutes & 1.00000000 & 0.92133281 &  0.72876012 &  0.04019104 &  0.26170778 &  0.07702208 &  0.41691413\\\\\n",
       "\tDepDelayMinutes & 0.92133281 & 1.00000000 &  0.75399335 &  0.04304843 &  0.07109447 &  0.10683841 &  0.44701937\\\\\n",
       "\tCarrierDelay & 0.72876012 & 0.75399335 &  1.00000000 & -0.03943409 & -0.18634695 & -0.02396245 & -0.04173491\\\\\n",
       "\tWeatherDelay & 0.04019104 & 0.04304843 & -0.03943409 &  1.00000000 & -0.03995573 & -0.01024942 & -0.02791712\\\\\n",
       "\tNASDelay & 0.26170778 & 0.07109447 & -0.18634695 & -0.03995573 &  1.00000000 & -0.05276635 & -0.15735914\\\\\n",
       "\tSecurityDelay & 0.07702208 & 0.10683841 & -0.02396245 & -0.01024942 & -0.05276635 &  1.00000000 & -0.02668880\\\\\n",
       "\tLateAircraftDelay & 0.41691413 & 0.44701937 & -0.04173491 & -0.02791712 & -0.15735914 & -0.02668880 &  1.00000000\\\\\n",
       "\\end{tabular}\n"
      ],
      "text/markdown": [
       "\n",
       "A matrix: 7 × 7 of type dbl\n",
       "\n",
       "| <!--/--> | ArrDelayMinutes | DepDelayMinutes | CarrierDelay | WeatherDelay | NASDelay | SecurityDelay | LateAircraftDelay |\n",
       "|---|---|---|---|---|---|---|---|\n",
       "| ArrDelayMinutes | 1.00000000 | 0.92133281 |  0.72876012 |  0.04019104 |  0.26170778 |  0.07702208 |  0.41691413 |\n",
       "| DepDelayMinutes | 0.92133281 | 1.00000000 |  0.75399335 |  0.04304843 |  0.07109447 |  0.10683841 |  0.44701937 |\n",
       "| CarrierDelay | 0.72876012 | 0.75399335 |  1.00000000 | -0.03943409 | -0.18634695 | -0.02396245 | -0.04173491 |\n",
       "| WeatherDelay | 0.04019104 | 0.04304843 | -0.03943409 |  1.00000000 | -0.03995573 | -0.01024942 | -0.02791712 |\n",
       "| NASDelay | 0.26170778 | 0.07109447 | -0.18634695 | -0.03995573 |  1.00000000 | -0.05276635 | -0.15735914 |\n",
       "| SecurityDelay | 0.07702208 | 0.10683841 | -0.02396245 | -0.01024942 | -0.05276635 |  1.00000000 | -0.02668880 |\n",
       "| LateAircraftDelay | 0.41691413 | 0.44701937 | -0.04173491 | -0.02791712 | -0.15735914 | -0.02668880 |  1.00000000 |\n",
       "\n"
      ],
      "text/plain": [
       "                  ArrDelayMinutes DepDelayMinutes CarrierDelay WeatherDelay\n",
       "ArrDelayMinutes   1.00000000      0.92133281       0.72876012   0.04019104 \n",
       "DepDelayMinutes   0.92133281      1.00000000       0.75399335   0.04304843 \n",
       "CarrierDelay      0.72876012      0.75399335       1.00000000  -0.03943409 \n",
       "WeatherDelay      0.04019104      0.04304843      -0.03943409   1.00000000 \n",
       "NASDelay          0.26170778      0.07109447      -0.18634695  -0.03995573 \n",
       "SecurityDelay     0.07702208      0.10683841      -0.02396245  -0.01024942 \n",
       "LateAircraftDelay 0.41691413      0.44701937      -0.04173491  -0.02791712 \n",
       "                  NASDelay    SecurityDelay LateAircraftDelay\n",
       "ArrDelayMinutes    0.26170778  0.07702208    0.41691413      \n",
       "DepDelayMinutes    0.07109447  0.10683841    0.44701937      \n",
       "CarrierDelay      -0.18634695 -0.02396245   -0.04173491      \n",
       "WeatherDelay      -0.03995573 -0.01024942   -0.02791712      \n",
       "NASDelay           1.00000000 -0.05276635   -0.15735914      \n",
       "SecurityDelay     -0.05276635  1.00000000   -0.02668880      \n",
       "LateAircraftDelay -0.15735914 -0.02668880    1.00000000      "
      ]
     },
     "metadata": {},
     "output_type": "display_data"
    }
   ],
   "source": [
    "correlation <- sub_airline %>%\n",
    "  select(ArrDelayMinutes, DepDelayMinutes, \n",
    "         CarrierDelay, WeatherDelay, NASDelay, SecurityDelay, LateAircraftDelay) %>% \n",
    "  cor(use = \"pairwise.complete.obs\", method = \"pearson\")\n",
    "\n",
    "correlation"
   ]
  },
  {
   "cell_type": "markdown",
   "id": "fc2d083a-6790-4c04-9aec-e2d03d35121d",
   "metadata": {},
   "source": [
    "Taking all variables into account, we can now create a heatmap that visualizes the correlation between each of the variables with one another. \n",
    "\n",
    "Let's use the `corrplot()` function to plot an elegant graph of a correlation matrix, you may need to install the library `corrplot` first before loading it. The color scheme indicates the Pearson correlation coefficient, indicating the strength of the correlation between two variables. We can see a diagonal line with a dark blue color, indicating that all the values on this diagonal are highly correlated. This makes sense because when you look closer, the values on the diagonal are the correlation of all variables with themselves, which will always be 1. \n",
    "\n",
    "This correlation heatmap gives us a good overview of how the different variables are related to one another and, most importantly, how these variables are related to arrival delays.\n"
   ]
  },
  {
   "cell_type": "code",
   "execution_count": 51,
   "id": "8137b06b-7494-4e0c-83a8-3671bb57f076",
   "metadata": {},
   "outputs": [
    {
     "name": "stdout",
     "output_type": "stream",
     "text": [
      "package 'corrplot' successfully unpacked and MD5 sums checked\n",
      "\n",
      "The downloaded binary packages are in\n",
      "\tC:\\Users\\Thanh Tran\\AppData\\Local\\Temp\\RtmpeOdVLs\\downloaded_packages\n"
     ]
    }
   ],
   "source": [
    "# Download the corrplot library first if you have not already.\n",
    "install.packages(\"corrplot\")"
   ]
  },
  {
   "cell_type": "code",
   "execution_count": 50,
   "id": "4080d8fd-c47b-424b-8a2c-028f2ede4d66",
   "metadata": {},
   "outputs": [
    {
     "ename": "ERROR",
     "evalue": "Error in library(corrplot): there is no package called 'corrplot'\n",
     "output_type": "error",
     "traceback": [
      "Error in library(corrplot): there is no package called 'corrplot'\nTraceback:\n",
      "1. library(corrplot)"
     ]
    }
   ],
   "source": [
    "library(corrplot)\n",
    "\n",
    "numerics_airline <- sub_airline %>%\n",
    "  select(ArrDelayMinutes, DepDelayMinutes, CarrierDelay,\n",
    "         WeatherDelay, NASDelay, SecurityDelay, LateAircraftDelay)\n",
    "\n",
    "airlines_cor <- cor(numerics_airline, method = \"pearson\", use='pairwise.complete.obs')\n",
    "\n",
    "col <- colorRampPalette(c(\"#BB4444\", \"#EE9988\", \"#FFFFFF\", \"#77AADD\", \"#4477AA\"))\n",
    "\n",
    "corrplot(airlines_cor, method = \"color\", col = col(200),  \n",
    "         type = \"upper\", order = \"hclust\", \n",
    "         addCoef.col = \"black\", # Add coefficient of correlation\n",
    "         tl.col = \"black\", tl.srt = 45, #Text label color and rotation\n",
    "         )"
   ]
  },
  {
   "cell_type": "markdown",
   "id": "36ab7971-0a5a-444f-bf49-6f9802cfd2af",
   "metadata": {},
   "source": [
    "From the above correlation plot, you can see that of the features we used, \"CarrierDelay\", \"DepDelayMinutes\", and \"LateAircraftDelay\" have the highest correlations with \"ArrDelayMinutes\". The correlation between \"CarrierDelay\" and \"ArrDelayMinutes\" is 0.73, \"DepDelayMinutes\" and \"ArrDelayMinutes\" is 0.92, and so on.\n"
   ]
  },
  {
   "cell_type": "markdown",
   "id": "25d9b328-fc6c-4470-94e9-18b572581b95",
   "metadata": {},
   "source": [
    "<a class=\"anchor\" id=\"anova\"></a>\n",
    "\n",
    "## 5. ANOVA (Analysis of Variance)\n"
   ]
  },
  {
   "cell_type": "markdown",
   "id": "63b17f92-c950-4fb8-89e9-95c7ae2e1866",
   "metadata": {},
   "source": [
    "Let's say that we want to analyze a categorical variable and see the correlation among different categories. For example, consider the airline dataset, the question we may ask is, how do different categories of the reporting airline feature (as a categorical variable) impact flight delays?\n",
    "\n",
    "The bar graph below shows the average flight delays of different airlines. The code first groups the data by airline, then finds the average arrival delay for each airline, then it plots this as a bar chart. \n",
    "\n",
    "In `geom_bar()`, you should set `stat = \"identity\"` since you are passing in the y values (\"Average_Delays\"). If you left out this parameter then by default `stat = \"count\"`, which would instead count the frequency of each airline. \n"
   ]
  },
  {
   "cell_type": "code",
   "execution_count": null,
   "id": "3ddf3787-dce9-4ae3-b5ae-6957c1b316f2",
   "metadata": {},
   "outputs": [],
   "source": [
    "summary_airline_delays <- sub_airline %>%\n",
    "    group_by(Reporting_Airline) %>%\n",
    "    summarize(Average_Delays = mean(ArrDelayMinutes, na.rm = TRUE))\n",
    "\n",
    "summary_airline_delays %>%  \n",
    "    ggplot(aes(x = Reporting_Airline, y = Average_Delays)) + \n",
    "    geom_bar(stat = \"identity\") +\n",
    "    ggtitle(\"Average Arrival Delays by Airline\")"
   ]
  },
  {
   "cell_type": "markdown",
   "id": "276b1981-f1fe-4bd8-b225-f0a28142eead",
   "metadata": {},
   "source": [
    "To analyze categorical variables such as the \"Reporting_Airline\" variable, we can use a method such as the ANOVA method.\n",
    "\n",
    "<h3>ANOVA: Analysis of Variance</h3>\n",
    "<p>The Analysis of Variance  (ANOVA) is a statistical method used to test whether there are significant differences between the means of two or more groups. ANOVA returns two parameters:</p>\n",
    "\n",
    "* **F-test score**: ANOVA assumes the means of all groups are the same, calculates how much the actual means deviate from the assumption, and reports it as the F-test score. A larger score means there is a larger difference between the means.</p>\n",
    "\n",
    "* **P-value**: The p-value tells you how statistically significant the calculated score value is.</p>\n",
    "\n",
    "If our `ArrDelay` variable is strongly correlated with the variable we are analyzing, expect ANOVA to return a sizeable F-test score and a small p-value.\n",
    "\n",
    "**American Airline (AA) and Alaska Airline (AS)**\n",
    "\n",
    "The ANOVA test can be performed in base R's `stats` package using the `aov()` function. You can pass in the arrival delay data of the two airline groups that we want to compare and it calculates the ANOVA results. \n",
    "\n",
    "In this first example, you can compare American Airline and Alaska Airline. The results confirm what we guessed at first. The flight delay between \"AA\" and \"AS\" are not significantly different, as the F score (0.13) is less than 1 and p-value is larger than 0.05.\n"
   ]
  },
  {
   "cell_type": "code",
   "execution_count": null,
   "id": "1a38a946-45cf-40d3-ae0f-b222d599995a",
   "metadata": {},
   "outputs": [],
   "source": [
    "aa_as_subset <- sub_airline %>%\n",
    "  select(ArrDelay, Reporting_Airline) %>%\n",
    "  filter(Reporting_Airline == 'AA' | Reporting_Airline == 'AS')\n",
    "\n",
    "ad_aov <- aov(ArrDelay ~ Reporting_Airline, data = aa_as_subset)\n",
    "summary(ad_aov)"
   ]
  },
  {
   "cell_type": "markdown",
   "id": "2c180a4b-d4a1-41ce-b270-28b3c3131a85",
   "metadata": {},
   "source": [
    "**American Airline (AA) and Pan Am Airline (PA (1))**\n",
    "\n",
    "As another example, you can compare American Airline and Pan Am Airline. \n",
    "From the below output, the arrival delay between \"AA\" and \"PA (1)\" are significantly different, since the F-score is very large (F = 17.95) and the p-value is 0.0000245 which is smaller than 0.05. All in all, we can say that there is a strong correlation between a categorical variable and other variables, if the ANOVA test gives us a large F-test value and a small p-value.\n"
   ]
  },
  {
   "cell_type": "code",
   "execution_count": null,
   "id": "c1577d23-90dc-4781-a0b5-9af48d02ef15",
   "metadata": {},
   "outputs": [],
   "source": [
    "aa_pa_subset <- sub_airline %>%\n",
    "  select(ArrDelay, Reporting_Airline) %>%\n",
    "  filter(Reporting_Airline == 'AA' | Reporting_Airline == 'PA (1)')\n",
    "\n",
    "ad_aov <- aov(ArrDelay ~ Reporting_Airline, data = aa_pa_subset)\n",
    "summary(ad_aov)"
   ]
  },
  {
   "cell_type": "markdown",
   "id": "bbe37ebf-923b-4082-8bca-3e22de90d953",
   "metadata": {},
   "source": [
    "<h3>Conclusion: Important Variables</h3>\n"
   ]
  },
  {
   "cell_type": "markdown",
   "id": "b41b52c4-9c7f-4397-9071-043fc70d444c",
   "metadata": {},
   "source": [
    "<p>We now have a better idea of what our data looks like and which variables are important to take into account when predicting the arrival delay (ArrDelay). We have narrowed it down to the following variables:</p>\n",
    "\n",
    "Continuous numerical variables:\n",
    "<ul>\n",
    "    <li>DepDelayMinutes</li>\n",
    "    <li>CarrierDelay</li>\n",
    "    <li>LateAircraftDelay</li>\n",
    "</ul>\n",
    "    \n",
    "Categorical variables:\n",
    "<ul>\n",
    "    <li>ReportingAirline</li>\n",
    "</ul>\n",
    "\n",
    "<p>As we now move into building machine learning models to automate our analysis, feeding the model with variables that meaningfully affect our target variable will improve our model's prediction performance.</p>\n",
    "\n",
    "<h1>Thank you for completing this notebook</h1>\n"
   ]
  },
  {
   "cell_type": "markdown",
   "id": "d0b7f08a-e9ad-4a33-adff-e18c30f3ead1",
   "metadata": {},
   "source": [
    "<h3>About the Authors:</h3>\n",
    "\n",
    "This notebook was written by <a href=\"https://www.linkedin.com/in/yiwen-li-47a019119/?utm_medium=Exinfluencer&utm_source=Exinfluencer&utm_content=000026UJ&utm_term=10006555&utm_id=NA-SkillsNetwork-Channel-SkillsNetworkCoursesIBMDA0151ENSkillsNetwork926-2022-01-01\" target=\"_blank\">Yiwen Li</a> and <a href=\"https://www.linkedin.com/in/gabrieladequeiroz/?utm_medium=Exinfluencer&utm_source=Exinfluencer&utm_content=000026UJ&utm_term=10006555&utm_id=NA-SkillsNetwork-Channel-SkillsNetworkCoursesIBMDA0151ENSkillsNetwork926-2022-01-01\" target=\"_blank\">Gabriela de Queiroz</a>.\n",
    "\n",
    "<a href=\"https://www.linkedin.com/in/yiwen-li-47a019119/?utm_medium=Exinfluencer&utm_source=Exinfluencer&utm_content=000026UJ&utm_term=10006555&utm_id=NA-SkillsNetwork-Channel-SkillsNetworkCoursesIBMDA0151ENSkillsNetwork926-2022-01-01\" target=\"_blank\">Yiwen Li</a> is a developer advocate and data scientist at IBM. She has been creating online content such as code patterns, tutorials, and blogs demonstrating the potential of products and services offered by IBM (like Watson Studio, Machine learning, Model Asset eXchange, Data Asset eXchange, etc.). She holds dual degree, including BS in Probability and Statistics and BA in Economics from the University of California, San Diego.\n",
    "    \n",
    "<a href=\"https://www.linkedin.com/in/gabrieladequeiroz/?utm_medium=Exinfluencer&utm_source=Exinfluencer&utm_content=000026UJ&utm_term=10006555&utm_id=NA-SkillsNetwork-Channel-SkillsNetworkCoursesIBMDA0151ENSkillsNetwork926-2022-01-01\" target=\"_blank\">Gabriela de Queiroz</a> is a Sr. Engineering & Data Science Manager at IBM where she manages and leads a team of developers working on Data & AI Open Source projects. She works to democratize AI by building tools and launching new open source projects.\n",
    "She is the founder of AI Inclusive, a global organization that is helping increase the representation and participation of gender minorities in Artificial Intelligence. She is also the founder of R-Ladies, a worldwide organization for promoting diversity in the R community with more than 190 chapters in 50+ countries.\n",
    "She has worked in several startups and where she built teams, developed statistical models, and employed a variety of techniques to derive insights and drive data-centric decisions\n"
   ]
  },
  {
   "cell_type": "markdown",
   "id": "291c7202-da1f-448e-900c-96d3c0014a6a",
   "metadata": {},
   "source": [
    "Copyright © 2021 IBM Corporation. All rights reserved.\n"
   ]
  }
 ],
 "metadata": {
  "kernelspec": {
   "display_name": "R",
   "language": "R",
   "name": "ir"
  },
  "language_info": {
   "codemirror_mode": "r",
   "file_extension": ".r",
   "mimetype": "text/x-r-source",
   "name": "R",
   "pygments_lexer": "r",
   "version": "4.2.1"
  }
 },
 "nbformat": 4,
 "nbformat_minor": 4
}
