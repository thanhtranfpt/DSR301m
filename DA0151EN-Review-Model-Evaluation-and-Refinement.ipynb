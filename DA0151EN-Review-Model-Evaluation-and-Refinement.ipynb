{
 "cells": [
  {
   "cell_type": "markdown",
   "metadata": {},
   "source": [
    "<p style=\"text-align:center\">\n",
    "    <a href=\"https://skills.network/?utm_medium=Exinfluencer&utm_source=Exinfluencer&utm_content=000026UJ&utm_term=10006555&utm_id=NA-SkillsNetwork-Channel-SkillsNetworkCoursesIBMDA0151ENSkillsNetwork926-2023-01-01\">\n",
    "    <img src=\"https://cf-courses-data.s3.us.cloud-object-storage.appdomain.cloud/assets/logos/SN_web_lightmode.png\" width=\"200\" alt=\"Skills Network Logo\"  />\n",
    "    </a>\n",
    "</p>\n",
    "\n",
    "\n",
    "<h1>Model Evaluation and Refinement with Tidymodels</h1>\n",
    "\n",
    "Estimated Time Needed: **45 min**\n"
   ]
  },
  {
   "cell_type": "markdown",
   "metadata": {},
   "source": [
    "### Welcome!\n",
    "\n",
    "We have built models and made predictions of flight delays. Now we will determine how accurate these predictions are. \n",
    "\n",
    "You will learn techniques for evaluating the performance of your models. This inludes how to split your dataset into training and testing sets, build and train linear regression models with a training set, compute metrics to assess the performance of models, and tune hyperparameters. Moreover, you’ll also learn a technique for handling cases with small datasets.\n"
   ]
  },
  {
   "cell_type": "markdown",
   "metadata": {},
   "source": [
    "## Table of Contents\n",
    "\n",
    "* [1. Model Evaluation](#evaluation)\n",
    "* [2. Over-fitting, Under-fitting and Model Selection](#selection)   \n",
    "* [3. Regularization: Ridge regression, Lasso regression and Elastic Net](#ridge)\n",
    "* [4. Grid Search](#grid)\n"
   ]
  },
  {
   "cell_type": "markdown",
   "metadata": {},
   "source": [
    "## Setup\n",
    "<p>\n",
    "Before you can start diving into model evaluation, you first need to load the libraries and data.\n"
   ]
  },
  {
   "cell_type": "markdown",
   "metadata": {},
   "source": [
    "<h4>Load Libraries</h4> \n",
    "\n",
    "In the previous labs, you used base R's `lm()` to create linear regression models. In this lab, we will introduce another way to create models with **Tidymodels**. \n",
    "\n",
    "Tidymodels is a collection of packages that use tidyverse principles to easily do the entire modeling process from preprocessing initial data, to creating a model, to tunning hyperparameters. \n",
    "\n",
    "Below, install \"tidymodels\", additionally \"rlang\" should be updated in order to properly run \"tidymodels\". \n",
    "\n",
    "**Note**: The installation of \"rlang\" and \"tidymodels\" may take a while in the Skill Network Labs. Please give it some time or rerun the cell if you are waiting for more than 10 minutes.\n"
   ]
  },
  {
   "cell_type": "code",
   "execution_count": 1,
   "metadata": {
    "tags": []
   },
   "outputs": [],
   "source": [
    "# Install tidymodels if you haven't done so\n",
    "install.packages(\"rlang\")\n",
    "install.packages(\"tidymodels\")"
   ]
  },
  {
   "cell_type": "markdown",
   "metadata": {},
   "source": [
    "After installing the packages, load them. As with the other labs, we will be using \"tidyverse\" as well.\n"
   ]
  },
  {
   "cell_type": "code",
   "execution_count": 2,
   "metadata": {
    "tags": []
   },
   "outputs": [
    {
     "name": "stderr",
     "output_type": "stream",
     "text": [
      "── Attaching packages ────────────────────────────────────── tidymodels 0.1.0 ──\n",
      "✔ broom     0.5.6      ✔ recipes   0.1.12\n",
      "✔ dials     0.0.6      ✔ rsample   0.0.5 \n",
      "✔ dplyr     0.8.5      ✔ tibble    3.0.1 \n",
      "✔ ggplot2   3.3.0      ✔ tune      0.1.0 \n",
      "✔ infer     0.5.1      ✔ workflows 0.1.1 \n",
      "✔ parsnip   0.1.0      ✔ yardstick 0.0.6 \n",
      "✔ purrr     0.3.4      \n",
      "── Conflicts ───────────────────────────────────────── tidymodels_conflicts() ──\n",
      "✖ purrr::discard()  masks scales::discard()\n",
      "✖ dplyr::filter()   masks stats::filter()\n",
      "✖ dplyr::lag()      masks stats::lag()\n",
      "✖ ggplot2::margin() masks dials::margin()\n",
      "✖ recipes::step()   masks stats::step()\n",
      "── Attaching packages ─────────────────────────────────────── tidyverse 1.3.0 ──\n",
      "✔ readr   1.3.1     ✔ forcats 0.5.0\n",
      "✔ stringr 1.4.0     \n",
      "── Conflicts ────────────────────────────────────────── tidyverse_conflicts() ──\n",
      "✖ readr::col_factor() masks scales::col_factor()\n",
      "✖ purrr::discard()    masks scales::discard()\n",
      "✖ dplyr::filter()     masks stats::filter()\n",
      "✖ stringr::fixed()    masks recipes::fixed()\n",
      "✖ dplyr::lag()        masks stats::lag()\n",
      "✖ ggplot2::margin()   masks dials::margin()\n",
      "✖ readr::spec()       masks yardstick::spec()\n"
     ]
    }
   ],
   "source": [
    "# Library for modeling\n",
    "library(tidymodels)\n",
    "\n",
    "# Load tidyverse\n",
    "library(tidyverse)"
   ]
  },
  {
   "cell_type": "markdown",
   "metadata": {},
   "source": [
    "#### Load Data\n"
   ]
  },
  {
   "cell_type": "markdown",
   "metadata": {},
   "source": [
    "As a reminder, you can find the \"Airline Data Set\" from the following link: <a href=\"https://dax-cdn.cdn.appdomain.cloud/dax-airline/1.0.1/lax_to_jfk.tar.gz\">https://dax-cdn.cdn.appdomain.cloud/dax-airline/1.0.1/lax_to_jfk.tar.gz</a>. \n",
    "We will be using the LAX to JFK sample data set throughout this course.\n",
    "</p>\n"
   ]
  },
  {
   "cell_type": "code",
   "execution_count": 3,
   "metadata": {
    "tags": []
   },
   "outputs": [
    {
     "name": "stderr",
     "output_type": "stream",
     "text": [
      "Warning message in untar2(tarfile, files, list, exdir, restore_times):\n",
      "“using pax extended headers”"
     ]
    }
   ],
   "source": [
    "# url where the data is located\n",
    "url <- \"https://dax-cdn.cdn.appdomain.cloud/dax-airline/1.0.1/lax_to_jfk.tar.gz\"\n",
    "\n",
    "# download the file\n",
    "download.file(url, destfile = \"lax_to_jfk.tar.gz\")\n",
    "\n",
    "# untar the file so we can get the csv only\n",
    "# if you run this on your local machine, then can remove tar = \"internal\" \n",
    "untar(\"lax_to_jfk.tar.gz\", tar = \"internal\")\n",
    "\n",
    "# read_csv only \n",
    "sub_airline <- read_csv(\"lax_to_jfk/lax_to_jfk.csv\",\n",
    "                     col_types = cols('DivDistance' = col_number(), \n",
    "                                      'DivArrDelay' = col_number()))"
   ]
  },
  {
   "cell_type": "markdown",
   "metadata": {},
   "source": [
    "<a class=\"anchor\" id=\"evaluation\"></a>\n",
    "## 1. Model Evaluation\n",
    "### 1.1 Training and Testing Data\n",
    "\n",
    "An important step in testing your model is to split your data into training and testing data. The training data will be used to train (fit) models, while the testing data will not be touched until we are evaluating the model.\n",
    "\n",
    "Using other packages or programming languages may require to separate out the reponse variable (`ArrDelayMinutes` in this case) into another dataframe, but here that is not necessary. The response and predictor variables can all stay in one dataframe.\n",
    "\n",
    "Before splitting the data we:\n",
    "* Use the principles learned in module 2 and use `replace_na()` to replace the NAs in the variables we are using to predict. Here, we choose to replace the values with 0 because having NA in these variables mean that there was no delay. \n",
    "* Use `select()` to only include the variables we will use to create a final model.\n"
   ]
  },
  {
   "cell_type": "code",
   "execution_count": 5,
   "metadata": {
    "tags": []
   },
   "outputs": [],
   "source": [
    "flight_delays <- sub_airline %>% \n",
    "    replace_na(list(CarrierDelay = 0,\n",
    "                    WeatherDelay = 0,\n",
    "                    NASDelay = 0,\n",
    "                    SecurityDelay = 0,\n",
    "                    LateAircraftDelay = 0)) %>%\n",
    "    select(c(ArrDelayMinutes, DepDelayMinutes, CarrierDelay, WeatherDelay, NASDelay, SecurityDelay, LateAircraftDelay, DayOfWeek, Month))"
   ]
  },
  {
   "cell_type": "markdown",
   "metadata": {},
   "source": [
    "Now, with the prepared dataset `flight_delays`, you can split the data. A random seed is set so that the way the data is split will be the same every time this code is run, this helps create reproducible results. \n"
   ]
  },
  {
   "cell_type": "code",
   "execution_count": 6,
   "metadata": {
    "tags": []
   },
   "outputs": [],
   "source": [
    "set.seed(1234)\n",
    "flight_split <- initial_split(flight_delays)\n",
    "train_data <- training(flight_split)\n",
    "test_data <- testing(flight_split)"
   ]
  },
  {
   "cell_type": "markdown",
   "metadata": {},
   "source": [
    "In `initial_split()`, you can also set the `prop` parameter to set the proportion of the data to use for training. If it is unspecified like here in the example, then by default it is set to 0.75. This means that the proportion of data that is split into the training data is 75% (so the testing data is 25%).\n"
   ]
  },
  {
   "cell_type": "markdown",
   "metadata": {},
   "source": [
    "<div class=\"alert alert-danger alertdanger\" style=\"margin-top: 20px\">\n",
    "<h1> Question  #1):</h1>\n",
    "\n",
    "<b>Use the function \"initial_split\" to split up the data set such that 80% of the data samples will be utilized for training. The output of the function should be the following:  \"flight_split2\", \"train_data2\" , \"test_data2\".</b>\n",
    "</div>\n"
   ]
  },
  {
   "cell_type": "code",
   "execution_count": 7,
   "metadata": {
    "tags": []
   },
   "outputs": [],
   "source": [
    "# Write your code below and press Shift+Enter to execute \n",
    "set.seed(1234)\n",
    "flight_split2 <- initial_split(flight_delays)\n",
    "train_data2 <- training(flight_split2)\n",
    "test_data2 <- testing(flight_split2)"
   ]
  },
  {
   "cell_type": "markdown",
   "metadata": {},
   "source": [
    "<details>\n",
    "    <summary>Click here for the solution.</summary>\n",
    "\n",
    "```r\n",
    "flight_split2 <- initial_split(flight_delays, prop = 4/5)  # prop = 0.8 works as well\n",
    "train_data2 <- training(flight_split2)\n",
    "test_data2 <- testing(flight_split2)\n",
    "```\n",
    "\n",
    "</details>\n"
   ]
  },
  {
   "cell_type": "markdown",
   "metadata": {},
   "source": [
    "### 1.2 Training a Model\n",
    "\n",
    "After splitting the dataset, the next step is to create a Linear Regression object by using `linear_reg()` to specify linear regression and `set_engine()` to specify which package is used to create the model.\n"
   ]
  },
  {
   "cell_type": "code",
   "execution_count": 8,
   "metadata": {
    "tags": []
   },
   "outputs": [
    {
     "data": {
      "text/plain": [
       "Linear Regression Model Specification (regression)\n",
       "\n",
       "Computational engine: lm \n"
      ]
     },
     "metadata": {},
     "output_type": "display_data"
    }
   ],
   "source": [
    "# Pick linear regression\n",
    "lm_spec <- linear_reg() %>%\n",
    "  # Set engine\n",
    "  set_engine(engine = \"lm\")\n",
    "\n",
    "# Print the linear function\n",
    "lm_spec"
   ]
  },
  {
   "cell_type": "markdown",
   "metadata": {},
   "source": [
    "In this example, we will use Arrival Delay Minutes (\"ArrDelayMinutes\") as the response variable and Departure Delay Minutes (\"DepDelayMinutes\") as the predictor variable to fit (train) a model. We will use `train_data` because we are training the model. The `test_data` will be used later. \n",
    "\n",
    "Use `fit()` to fit the model we just specified in `lm_spec`. The output is the fitted (trained) model.\n"
   ]
  },
  {
   "cell_type": "code",
   "execution_count": 9,
   "metadata": {
    "tags": []
   },
   "outputs": [
    {
     "data": {
      "text/plain": [
       "parsnip model object\n",
       "\n",
       "Fit time:  4ms \n",
       "\n",
       "Call:\n",
       "stats::lm(formula = formula, data = data)\n",
       "\n",
       "Coefficients:\n",
       "    (Intercept)  DepDelayMinutes  \n",
       "         2.3770           0.9648  \n"
      ]
     },
     "metadata": {},
     "output_type": "display_data"
    }
   ],
   "source": [
    "train_fit <- lm_spec %>% \n",
    "    fit(ArrDelayMinutes ~ DepDelayMinutes, data = train_data)\n",
    "\n",
    "train_fit "
   ]
  },
  {
   "cell_type": "markdown",
   "metadata": {},
   "source": [
    "To look at some of the predictions of the fitted model, use `predict()`, which will output one column with predictions (`.pred`). Here, since `new_data = train_data`, you are looking at how well the model is predicting the original training data.\n"
   ]
  },
  {
   "cell_type": "code",
   "execution_count": 10,
   "metadata": {
    "tags": []
   },
   "outputs": [
    {
     "data": {
      "text/html": [
       "<table>\n",
       "<caption>A tibble: 6 × 2</caption>\n",
       "<thead>\n",
       "\t<tr><th scope=col>.pred</th><th scope=col>truth</th></tr>\n",
       "\t<tr><th scope=col>&lt;dbl&gt;</th><th scope=col>&lt;dbl&gt;</th></tr>\n",
       "</thead>\n",
       "<tbody>\n",
       "\t<tr><td> 2.377034</td><td>2</td></tr>\n",
       "\t<tr><td> 2.377034</td><td>0</td></tr>\n",
       "\t<tr><td> 9.130469</td><td>0</td></tr>\n",
       "\t<tr><td> 2.377034</td><td>0</td></tr>\n",
       "\t<tr><td> 2.377034</td><td>1</td></tr>\n",
       "\t<tr><td>16.848680</td><td>7</td></tr>\n",
       "</tbody>\n",
       "</table>\n"
      ],
      "text/latex": [
       "A tibble: 6 × 2\n",
       "\\begin{tabular}{ll}\n",
       " .pred & truth\\\\\n",
       " <dbl> & <dbl>\\\\\n",
       "\\hline\n",
       "\t  2.377034 & 2\\\\\n",
       "\t  2.377034 & 0\\\\\n",
       "\t  9.130469 & 0\\\\\n",
       "\t  2.377034 & 0\\\\\n",
       "\t  2.377034 & 1\\\\\n",
       "\t 16.848680 & 7\\\\\n",
       "\\end{tabular}\n"
      ],
      "text/markdown": [
       "\n",
       "A tibble: 6 × 2\n",
       "\n",
       "| .pred &lt;dbl&gt; | truth &lt;dbl&gt; |\n",
       "|---|---|\n",
       "|  2.377034 | 2 |\n",
       "|  2.377034 | 0 |\n",
       "|  9.130469 | 0 |\n",
       "|  2.377034 | 0 |\n",
       "|  2.377034 | 1 |\n",
       "| 16.848680 | 7 |\n",
       "\n"
      ],
      "text/plain": [
       "  .pred     truth\n",
       "1  2.377034 2    \n",
       "2  2.377034 0    \n",
       "3  9.130469 0    \n",
       "4  2.377034 0    \n",
       "5  2.377034 1    \n",
       "6 16.848680 7    "
      ]
     },
     "metadata": {},
     "output_type": "display_data"
    }
   ],
   "source": [
    "train_results <- train_fit %>%\n",
    "  # Make the predictions and save the predicted values\n",
    "  predict(new_data = train_data) %>%\n",
    "  # Create a new column to save the true values\n",
    "  mutate(truth = train_data$ArrDelayMinutes)\n",
    "\n",
    "head(train_results)"
   ]
  },
  {
   "cell_type": "markdown",
   "metadata": {},
   "source": [
    "Additionally, you can use the same fitted model to predict on test data and save to a dataset called `test_results`. There are two columns in the dataset, including both predicted values and true values. \n",
    "\n",
    "Now it is time to evaluate the models to estimate how well the models perform on new data, the test data. This example uses the same model in `train_fit` to make the predictions. Again, from `predict()`, the output is stored in a data frame with only one column, called `.pred`. You can then add a new column to this data frame using the `mutate()` function. This new column is named `truth` and contains values of \"ArrDelayMinutes\" from the `test_data`. In the end, you will have a dataframe with the predictions and the true values.\n"
   ]
  },
  {
   "cell_type": "code",
   "execution_count": 11,
   "metadata": {
    "tags": []
   },
   "outputs": [
    {
     "data": {
      "text/html": [
       "<table>\n",
       "<caption>A tibble: 6 × 2</caption>\n",
       "<thead>\n",
       "\t<tr><th scope=col>.pred</th><th scope=col>truth</th></tr>\n",
       "\t<tr><th scope=col>&lt;dbl&gt;</th><th scope=col>&lt;dbl&gt;</th></tr>\n",
       "</thead>\n",
       "<tbody>\n",
       "\t<tr><td>6.236140</td><td> 0</td></tr>\n",
       "\t<tr><td>4.306587</td><td> 0</td></tr>\n",
       "\t<tr><td>2.377034</td><td> 0</td></tr>\n",
       "\t<tr><td>4.306587</td><td>25</td></tr>\n",
       "\t<tr><td>2.377034</td><td> 0</td></tr>\n",
       "\t<tr><td>2.377034</td><td> 0</td></tr>\n",
       "</tbody>\n",
       "</table>\n"
      ],
      "text/latex": [
       "A tibble: 6 × 2\n",
       "\\begin{tabular}{ll}\n",
       " .pred & truth\\\\\n",
       " <dbl> & <dbl>\\\\\n",
       "\\hline\n",
       "\t 6.236140 &  0\\\\\n",
       "\t 4.306587 &  0\\\\\n",
       "\t 2.377034 &  0\\\\\n",
       "\t 4.306587 & 25\\\\\n",
       "\t 2.377034 &  0\\\\\n",
       "\t 2.377034 &  0\\\\\n",
       "\\end{tabular}\n"
      ],
      "text/markdown": [
       "\n",
       "A tibble: 6 × 2\n",
       "\n",
       "| .pred &lt;dbl&gt; | truth &lt;dbl&gt; |\n",
       "|---|---|\n",
       "| 6.236140 |  0 |\n",
       "| 4.306587 |  0 |\n",
       "| 2.377034 |  0 |\n",
       "| 4.306587 | 25 |\n",
       "| 2.377034 |  0 |\n",
       "| 2.377034 |  0 |\n",
       "\n"
      ],
      "text/plain": [
       "  .pred    truth\n",
       "1 6.236140  0   \n",
       "2 4.306587  0   \n",
       "3 2.377034  0   \n",
       "4 4.306587 25   \n",
       "5 2.377034  0   \n",
       "6 2.377034  0   "
      ]
     },
     "metadata": {},
     "output_type": "display_data"
    }
   ],
   "source": [
    "test_results <- train_fit %>%\n",
    "  # Make the predictions and save the predicted values\n",
    "  predict(new_data = test_data) %>%\n",
    "  # Create a new column to save the true values\n",
    "  mutate(truth = test_data$ArrDelayMinutes)\n",
    "\n",
    "head(test_results)"
   ]
  },
  {
   "cell_type": "markdown",
   "metadata": {},
   "source": [
    "### 1.3 Evaluating the Model\n",
    "\n",
    "Next, let's evaluate the model. Using metrics learned in previous lessons like RMSE or R$^2$ are good ways to evaluate *regression* models. \n",
    "\n",
    "In previous lessons you learned how to claculate RMSE with combinations of functions like `mean()` and `sqrt()`, which is a good exercise. However in practice, this may not be ideal. So more conveniently with \"tidymodels\", there are already functions like `rmse()` as well as many other metric functions (see https://yardstick.tidymodels.org/reference/index.html).\n"
   ]
  },
  {
   "cell_type": "code",
   "execution_count": 12,
   "metadata": {
    "tags": []
   },
   "outputs": [
    {
     "data": {
      "text/html": [
       "<table>\n",
       "<caption>A tibble: 1 × 3</caption>\n",
       "<thead>\n",
       "\t<tr><th scope=col>.metric</th><th scope=col>.estimator</th><th scope=col>.estimate</th></tr>\n",
       "\t<tr><th scope=col>&lt;chr&gt;</th><th scope=col>&lt;chr&gt;</th><th scope=col>&lt;dbl&gt;</th></tr>\n",
       "</thead>\n",
       "<tbody>\n",
       "\t<tr><td>rmse</td><td>standard</td><td>14.6296</td></tr>\n",
       "</tbody>\n",
       "</table>\n"
      ],
      "text/latex": [
       "A tibble: 1 × 3\n",
       "\\begin{tabular}{lll}\n",
       " .metric & .estimator & .estimate\\\\\n",
       " <chr> & <chr> & <dbl>\\\\\n",
       "\\hline\n",
       "\t rmse & standard & 14.6296\\\\\n",
       "\\end{tabular}\n"
      ],
      "text/markdown": [
       "\n",
       "A tibble: 1 × 3\n",
       "\n",
       "| .metric &lt;chr&gt; | .estimator &lt;chr&gt; | .estimate &lt;dbl&gt; |\n",
       "|---|---|---|\n",
       "| rmse | standard | 14.6296 |\n",
       "\n"
      ],
      "text/plain": [
       "  .metric .estimator .estimate\n",
       "1 rmse    standard   14.6296  "
      ]
     },
     "metadata": {},
     "output_type": "display_data"
    }
   ],
   "source": [
    "rmse(train_results, truth = truth,\n",
    "     estimate = .pred)"
   ]
  },
  {
   "cell_type": "code",
   "execution_count": 13,
   "metadata": {
    "tags": []
   },
   "outputs": [
    {
     "data": {
      "text/html": [
       "<table>\n",
       "<caption>A tibble: 1 × 3</caption>\n",
       "<thead>\n",
       "\t<tr><th scope=col>.metric</th><th scope=col>.estimator</th><th scope=col>.estimate</th></tr>\n",
       "\t<tr><th scope=col>&lt;chr&gt;</th><th scope=col>&lt;chr&gt;</th><th scope=col>&lt;dbl&gt;</th></tr>\n",
       "</thead>\n",
       "<tbody>\n",
       "\t<tr><td>rmse</td><td>standard</td><td>12.59509</td></tr>\n",
       "</tbody>\n",
       "</table>\n"
      ],
      "text/latex": [
       "A tibble: 1 × 3\n",
       "\\begin{tabular}{lll}\n",
       " .metric & .estimator & .estimate\\\\\n",
       " <chr> & <chr> & <dbl>\\\\\n",
       "\\hline\n",
       "\t rmse & standard & 12.59509\\\\\n",
       "\\end{tabular}\n"
      ],
      "text/markdown": [
       "\n",
       "A tibble: 1 × 3\n",
       "\n",
       "| .metric &lt;chr&gt; | .estimator &lt;chr&gt; | .estimate &lt;dbl&gt; |\n",
       "|---|---|---|\n",
       "| rmse | standard | 12.59509 |\n",
       "\n"
      ],
      "text/plain": [
       "  .metric .estimator .estimate\n",
       "1 rmse    standard   12.59509 "
      ]
     },
     "metadata": {},
     "output_type": "display_data"
    }
   ],
   "source": [
    "rmse(test_results, truth = truth,\n",
    "     estimate = .pred)"
   ]
  },
  {
   "cell_type": "markdown",
   "metadata": {},
   "source": [
    "Using `rsq()`, let's lalculate the R-squared on the training and test data:\n"
   ]
  },
  {
   "cell_type": "code",
   "execution_count": 14,
   "metadata": {
    "tags": []
   },
   "outputs": [
    {
     "data": {
      "text/html": [
       "<table>\n",
       "<caption>A tibble: 1 × 3</caption>\n",
       "<thead>\n",
       "\t<tr><th scope=col>.metric</th><th scope=col>.estimator</th><th scope=col>.estimate</th></tr>\n",
       "\t<tr><th scope=col>&lt;chr&gt;</th><th scope=col>&lt;chr&gt;</th><th scope=col>&lt;dbl&gt;</th></tr>\n",
       "</thead>\n",
       "<tbody>\n",
       "\t<tr><td>rsq</td><td>standard</td><td>0.845186</td></tr>\n",
       "</tbody>\n",
       "</table>\n"
      ],
      "text/latex": [
       "A tibble: 1 × 3\n",
       "\\begin{tabular}{lll}\n",
       " .metric & .estimator & .estimate\\\\\n",
       " <chr> & <chr> & <dbl>\\\\\n",
       "\\hline\n",
       "\t rsq & standard & 0.845186\\\\\n",
       "\\end{tabular}\n"
      ],
      "text/markdown": [
       "\n",
       "A tibble: 1 × 3\n",
       "\n",
       "| .metric &lt;chr&gt; | .estimator &lt;chr&gt; | .estimate &lt;dbl&gt; |\n",
       "|---|---|---|\n",
       "| rsq | standard | 0.845186 |\n",
       "\n"
      ],
      "text/plain": [
       "  .metric .estimator .estimate\n",
       "1 rsq     standard   0.845186 "
      ]
     },
     "metadata": {},
     "output_type": "display_data"
    }
   ],
   "source": [
    "rsq(train_results, truth = truth,\n",
    "    estimate = .pred)"
   ]
  },
  {
   "cell_type": "code",
   "execution_count": 15,
   "metadata": {
    "tags": []
   },
   "outputs": [
    {
     "data": {
      "text/html": [
       "<table>\n",
       "<caption>A tibble: 1 × 3</caption>\n",
       "<thead>\n",
       "\t<tr><th scope=col>.metric</th><th scope=col>.estimator</th><th scope=col>.estimate</th></tr>\n",
       "\t<tr><th scope=col>&lt;chr&gt;</th><th scope=col>&lt;chr&gt;</th><th scope=col>&lt;dbl&gt;</th></tr>\n",
       "</thead>\n",
       "<tbody>\n",
       "\t<tr><td>rsq</td><td>standard</td><td>0.8624149</td></tr>\n",
       "</tbody>\n",
       "</table>\n"
      ],
      "text/latex": [
       "A tibble: 1 × 3\n",
       "\\begin{tabular}{lll}\n",
       " .metric & .estimator & .estimate\\\\\n",
       " <chr> & <chr> & <dbl>\\\\\n",
       "\\hline\n",
       "\t rsq & standard & 0.8624149\\\\\n",
       "\\end{tabular}\n"
      ],
      "text/markdown": [
       "\n",
       "A tibble: 1 × 3\n",
       "\n",
       "| .metric &lt;chr&gt; | .estimator &lt;chr&gt; | .estimate &lt;dbl&gt; |\n",
       "|---|---|---|\n",
       "| rsq | standard | 0.8624149 |\n",
       "\n"
      ],
      "text/plain": [
       "  .metric .estimator .estimate\n",
       "1 rsq     standard   0.8624149"
      ]
     },
     "metadata": {},
     "output_type": "display_data"
    }
   ],
   "source": [
    "rsq(test_results, truth = truth,\n",
    "    estimate = .pred)"
   ]
  },
  {
   "cell_type": "markdown",
   "metadata": {},
   "source": [
    "You can also make a plot to visualize how well you predicted the Arrival Delay Minutes. \n",
    "\n",
    "This example plots the actual values (the true values of ArrDelayMinutes) versus the model predictions for both the testing and training datasets. It also plots the line y = x through the origin. This line is a visual representation of the perfect model where all predicted values are equal to the true values in the test set. The farther the points are from this line, the worse the model fit.\n",
    "\n",
    "Let's break down the code below:\n",
    "1. `mutate` - add column called `train` to test_results and set the values all to \"testing\"\n",
    "2. `bind_rows` - do the same to the train_results and bind these rows the test_results\n",
    "3. `ggplot` - plot the truth vs prediction values\n",
    "4. `geom_abline` - add the y=x line\n",
    "5. `geom_point` - add the truth vs prediction points to the plot\n",
    "6. `facet_wrap` - since `train` contains two values \"testing\" and \"training\", this splits the data into two graphs\n",
    "7. `labs` - add labels\n"
   ]
  },
  {
   "cell_type": "code",
   "execution_count": 16,
   "metadata": {
    "tags": []
   },
   "outputs": [
    {
     "data": {},
     "metadata": {},
     "output_type": "display_data"
    },
    {
     "data": {
      "image/png": "[encoded data removed]",
      "text/plain": [
       "plot without title"
      ]
     },
     "metadata": {},
     "output_type": "display_data",
     "source": "R display func"
    }
   ],
   "source": [
    "test_results %>%\n",
    "  mutate(train = \"testing\") %>%\n",
    "  bind_rows(train_results %>% mutate(train = \"training\")) %>%\n",
    "  ggplot(aes(truth, .pred)) +\n",
    "  geom_abline(lty = 2, color = \"orange\", \n",
    "              size = 1.5) +\n",
    "  geom_point(color = '#006EA1', \n",
    "             alpha = 0.5) +\n",
    "  facet_wrap(~train) +\n",
    "  labs(x = \"Truth\", \n",
    "       y = \"Predicted Arrival Delays (min)\")"
   ]
  },
  {
   "cell_type": "markdown",
   "metadata": {},
   "source": [
    "<div class=\"alert alert-danger alertdanger\" style=\"margin-top: 20px\">\n",
    "<h1> Question  #2): </h1>\n",
    "<p> \n",
    "Using \"ArrDelayMinutes\" as the response variable and \"DepDelayMinutes\" as the predictor variable, find the R^2  on the test data using 80% of the data for training data.\n",
    "</p>\n",
    "<p>Hint: use train_data2 from question 1. </p>\n",
    "</div>\n"
   ]
  },
  {
   "cell_type": "code",
   "execution_count": 17,
   "metadata": {
    "tags": []
   },
   "outputs": [
    {
     "data": {
      "text/html": [
       "<table>\n",
       "<caption>A tibble: 1 × 3</caption>\n",
       "<thead>\n",
       "\t<tr><th scope=col>.metric</th><th scope=col>.estimator</th><th scope=col>.estimate</th></tr>\n",
       "\t<tr><th scope=col>&lt;chr&gt;</th><th scope=col>&lt;chr&gt;</th><th scope=col>&lt;dbl&gt;</th></tr>\n",
       "</thead>\n",
       "<tbody>\n",
       "\t<tr><td>rsq</td><td>standard</td><td>0.8624149</td></tr>\n",
       "</tbody>\n",
       "</table>\n"
      ],
      "text/latex": [
       "A tibble: 1 × 3\n",
       "\\begin{tabular}{lll}\n",
       " .metric & .estimator & .estimate\\\\\n",
       " <chr> & <chr> & <dbl>\\\\\n",
       "\\hline\n",
       "\t rsq & standard & 0.8624149\\\\\n",
       "\\end{tabular}\n"
      ],
      "text/markdown": [
       "\n",
       "A tibble: 1 × 3\n",
       "\n",
       "| .metric &lt;chr&gt; | .estimator &lt;chr&gt; | .estimate &lt;dbl&gt; |\n",
       "|---|---|---|\n",
       "| rsq | standard | 0.8624149 |\n",
       "\n"
      ],
      "text/plain": [
       "  .metric .estimator .estimate\n",
       "1 rsq     standard   0.8624149"
      ]
     },
     "metadata": {},
     "output_type": "display_data"
    }
   ],
   "source": [
    "# Write your code below and press Shift+Enter to execute \n",
    "train_fit2 <- lm_spec %>% \n",
    "    fit(ArrDelayMinutes ~ DepDelayMinutes, \n",
    "    data = train_data2)\n",
    "test_results2 <- train_fit2 %>%\n",
    "  # Make the predictions and save the predicted values\n",
    "  predict(new_data = test_data2) %>%\n",
    "  # Create a new column to save the true values\n",
    "  mutate(truth = test_data2$ArrDelayMinutes)\n",
    "rsq(test_results2, truth = truth,\n",
    "    estimate = .pred)"
   ]
  },
  {
   "cell_type": "markdown",
   "metadata": {},
   "source": [
    "<details>\n",
    "    <summary>Click here for the solution.</summary>\n",
    "\n",
    "```r\n",
    "train_fit2 <- lm_spec %>% \n",
    "    fit(ArrDelayMinutes ~ DepDelayMinutes, \n",
    "    data = train_data2)\n",
    "test_results2 <- train_fit2 %>%\n",
    "  # Make the predictions and save the predicted values\n",
    "  predict(new_data = test_data2) %>%\n",
    "  # Create a new column to save the true values\n",
    "  mutate(truth = test_data2$ArrDelayMinutes)\n",
    "rsq(test_results2, truth = truth,\n",
    "    estimate = .pred)\n",
    "```\n",
    "\n",
    "</details>\n"
   ]
  },
  {
   "cell_type": "markdown",
   "metadata": {},
   "source": [
    "Sometimes you may not have a large enough testing data; as a result, you may want to perform cross validation. Let's  go over several methods that you can use for  cross validation. \n"
   ]
  },
  {
   "cell_type": "markdown",
   "metadata": {},
   "source": [
    "### 1.4 Cross validation\n"
   ]
  },
  {
   "cell_type": "markdown",
   "metadata": {},
   "source": [
    "One of the most common “out-of-sample” evaluation techniques is **cross validation**. \n",
    "\n",
    "Cross validation is an effective use of data because each observation is used for both training and testing. In cross validation, \n",
    "1. First, the dataset is split into k-equal groups; each group is referred to as a fold. \n",
    "2. k - 1 of the folds are used to train a model, and the remaining fold is used to test with an evaluation metric. \n",
    "3. This is **repeated** until each of the k groups is used as the test set.\n",
    "4. After all folds are used, there are k evaluation metric results. They are **averaged** to get an estimate of out-of-sample error\n",
    "\n",
    "For example, in 4-fold cross validation you would use three folds for training and then use one fold for testing. The same model would be trained and then tested 4 times using an evaluation metric. The evaluation metric that you use depends on the model, we will use RMSE and R-squared in our code example.\n",
    "\n",
    "\n",
    "#### Why is it worth the effort to perform cross validation?\n",
    "\n",
    "Using cross validation means that a model is trained and evaluated many (k) times, however it is still worth the computational cost because it is used to test the generalizability of the model. Generalizability is a measure of how useful the results of a study are for a broader group of people and situations. As you train a model on the training set, it tends to overfit most of the time. To avoid this situation, you can use regularization techniques. Cross validation provides a check on how the model is performing on a test data (new unseen data), and since you have limited training instances, you need to be careful while reducing the amount of training samples and reserving it for testing purposes.\n",
    "\n",
    "Moreover, cross validation still works well with a **small amount of data**. For example, assume that you only have 100 samples. If you do a train test with an 80 to 20 percent split, then you only have 20 samples in the test set, which is too small to generalize reliable results. With cross validation, you can have as many as k-folds, so you can build k different models. In this case, you can make predictions on all your data and then average out the model performance.\n",
    "\n",
    "#### Code Example\n",
    "To perform cross validation, you can use `vfold_cv()`. Setting `v = 10` means that it will use 10 folds. The function `fit_resamples()` will keep refitting the model specified on the samples specified by the cross validation object.\n"
   ]
  },
  {
   "cell_type": "code",
   "execution_count": 18,
   "metadata": {
    "tags": []
   },
   "outputs": [],
   "source": [
    "set.seed(1234)\n",
    "cv_folds <- vfold_cv(train_data, v = 10)\n",
    "results <- fit_resamples(lm_spec, \n",
    "                         ArrDelayMinutes ~ DepDelayMinutes,\n",
    "                         resamples = cv_folds)"
   ]
  },
  {
   "cell_type": "markdown",
   "metadata": {},
   "source": [
    " We can calculate the **average** RMSE and R-squared of our estimate:\n"
   ]
  },
  {
   "cell_type": "code",
   "execution_count": 19,
   "metadata": {
    "tags": []
   },
   "outputs": [
    {
     "data": {
      "text/html": [
       "<table>\n",
       "<caption>A tibble: 2 × 5</caption>\n",
       "<thead>\n",
       "\t<tr><th scope=col>.metric</th><th scope=col>.estimator</th><th scope=col>mean</th><th scope=col>n</th><th scope=col>std_err</th></tr>\n",
       "\t<tr><th scope=col>&lt;chr&gt;</th><th scope=col>&lt;chr&gt;</th><th scope=col>&lt;dbl&gt;</th><th scope=col>&lt;int&gt;</th><th scope=col>&lt;dbl&gt;</th></tr>\n",
       "</thead>\n",
       "<tbody>\n",
       "\t<tr><td>rmse</td><td>standard</td><td>14.2800777</td><td>10</td><td>1.31615657</td></tr>\n",
       "\t<tr><td>rsq </td><td>standard</td><td> 0.8086263</td><td>10</td><td>0.03439727</td></tr>\n",
       "</tbody>\n",
       "</table>\n"
      ],
      "text/latex": [
       "A tibble: 2 × 5\n",
       "\\begin{tabular}{lllll}\n",
       " .metric & .estimator & mean & n & std\\_err\\\\\n",
       " <chr> & <chr> & <dbl> & <int> & <dbl>\\\\\n",
       "\\hline\n",
       "\t rmse & standard & 14.2800777 & 10 & 1.31615657\\\\\n",
       "\t rsq  & standard &  0.8086263 & 10 & 0.03439727\\\\\n",
       "\\end{tabular}\n"
      ],
      "text/markdown": [
       "\n",
       "A tibble: 2 × 5\n",
       "\n",
       "| .metric &lt;chr&gt; | .estimator &lt;chr&gt; | mean &lt;dbl&gt; | n &lt;int&gt; | std_err &lt;dbl&gt; |\n",
       "|---|---|---|---|---|\n",
       "| rmse | standard | 14.2800777 | 10 | 1.31615657 |\n",
       "| rsq  | standard |  0.8086263 | 10 | 0.03439727 |\n",
       "\n"
      ],
      "text/plain": [
       "  .metric .estimator mean       n  std_err   \n",
       "1 rmse    standard   14.2800777 10 1.31615657\n",
       "2 rsq     standard    0.8086263 10 0.03439727"
      ]
     },
     "metadata": {},
     "output_type": "display_data"
    }
   ],
   "source": [
    "results %>% collect_metrics()"
   ]
  },
  {
   "cell_type": "markdown",
   "metadata": {},
   "source": [
    "<div class=\"alert alert-danger alertdanger\" style=\"margin-top: 20px\">\n",
    "<h1> Question  #3): </h1>\n",
    "<b> \n",
    "Calculate the average RMSE and R-squared using three folds utilizing DepDelayMinutes as a feature : \n",
    "</b>\n",
    "</div>\n"
   ]
  },
  {
   "cell_type": "code",
   "execution_count": 20,
   "metadata": {
    "tags": []
   },
   "outputs": [
    {
     "data": {
      "text/html": [
       "<table>\n",
       "<caption>A tibble: 2 × 5</caption>\n",
       "<thead>\n",
       "\t<tr><th scope=col>.metric</th><th scope=col>.estimator</th><th scope=col>mean</th><th scope=col>n</th><th scope=col>std_err</th></tr>\n",
       "\t<tr><th scope=col>&lt;chr&gt;</th><th scope=col>&lt;chr&gt;</th><th scope=col>&lt;dbl&gt;</th><th scope=col>&lt;int&gt;</th><th scope=col>&lt;dbl&gt;</th></tr>\n",
       "</thead>\n",
       "<tbody>\n",
       "\t<tr><td>rmse</td><td>standard</td><td>14.5334247</td><td>3</td><td>1.857002855</td></tr>\n",
       "\t<tr><td>rsq </td><td>standard</td><td> 0.8496191</td><td>3</td><td>0.007734797</td></tr>\n",
       "</tbody>\n",
       "</table>\n"
      ],
      "text/latex": [
       "A tibble: 2 × 5\n",
       "\\begin{tabular}{lllll}\n",
       " .metric & .estimator & mean & n & std\\_err\\\\\n",
       " <chr> & <chr> & <dbl> & <int> & <dbl>\\\\\n",
       "\\hline\n",
       "\t rmse & standard & 14.5334247 & 3 & 1.857002855\\\\\n",
       "\t rsq  & standard &  0.8496191 & 3 & 0.007734797\\\\\n",
       "\\end{tabular}\n"
      ],
      "text/markdown": [
       "\n",
       "A tibble: 2 × 5\n",
       "\n",
       "| .metric &lt;chr&gt; | .estimator &lt;chr&gt; | mean &lt;dbl&gt; | n &lt;int&gt; | std_err &lt;dbl&gt; |\n",
       "|---|---|---|---|---|\n",
       "| rmse | standard | 14.5334247 | 3 | 1.857002855 |\n",
       "| rsq  | standard |  0.8496191 | 3 | 0.007734797 |\n",
       "\n"
      ],
      "text/plain": [
       "  .metric .estimator mean       n std_err    \n",
       "1 rmse    standard   14.5334247 3 1.857002855\n",
       "2 rsq     standard    0.8496191 3 0.007734797"
      ]
     },
     "metadata": {},
     "output_type": "display_data"
    }
   ],
   "source": [
    "cv_folds_3 <- vfold_cv(train_data, v = 3)\n",
    "results <- fit_resamples(\n",
    "    lm_spec, \n",
    "    ArrDelayMinutes ~ DepDelayMinutes, \n",
    "    resamples = cv_folds_3)\n",
    "results %>% collect_metrics()"
   ]
  },
  {
   "cell_type": "markdown",
   "metadata": {},
   "source": [
    "<details>\n",
    "    <summary>Click here for the solution.</summary>\n",
    "\n",
    "```r\n",
    "cv_folds_3 <- vfold_cv(train_data, v = 3)\n",
    "results <- fit_resamples(\n",
    "    lm_spec, \n",
    "    ArrDelayMinutes ~ DepDelayMinutes, \n",
    "    resamples = cv_folds_3)\n",
    "results %>% collect_metrics()\n",
    "```\n",
    "\n",
    "</details>\n"
   ]
  },
  {
   "cell_type": "markdown",
   "metadata": {},
   "source": [
    "<a class=\"anchor\" id=\"selection\"></a>\n",
    "## 2. Overfitting, Underfitting and Model Selection\n",
    "\n",
    "It turns out that the test data sometimes referred to as the out of sample data is a much better measure of how well your model performs in the real world. One reason is **underfitting**. A model that is underfit will have high training and high testing error.\n",
    "\n",
    "#### How to prevent underfitting?\n",
    "\n",
    "- Increase the model complexity\n",
    "- Add more features to the training data \n",
    "- Try different models\n",
    "\n",
    "Let's go over an example of underfitting using a simple dataset included with R called \"cars\". We will predict the distance (`dist`) it takes for cars to stop using the car's speed (`speed`). \n",
    "\n",
    "In this first example model, the model is defined a line set to the mean of the car's stopping distance. Based on the plot, this model is underfitting because of the speeds less than 10 and greater than 20 are very far from the prediction line.\n"
   ]
  },
  {
   "cell_type": "code",
   "execution_count": 21,
   "metadata": {
    "tags": []
   },
   "outputs": [
    {
     "data": {},
     "metadata": {},
     "output_type": "display_data"
    },
    {
     "data": {
      "image/png": "[encoded data removed]",
      "text/plain": [
       "plot without title"
      ]
     },
     "metadata": {},
     "output_type": "display_data",
     "source": "R display func"
    }
   ],
   "source": [
    "ggplot(cars, aes(x = speed, y = dist)) + \n",
    "    geom_point() + \n",
    "    geom_hline(yintercept = mean(cars$dist), \n",
    "               col = \"red\") "
   ]
  },
  {
   "cell_type": "markdown",
   "metadata": {},
   "source": [
    "Another reason that using the test data to measure the performance of the model is because of **overfitting**. These differences are more apparent in Multiple Linear Regression and Polynomial Regression so we will explore overfitting in that context.\n",
    "\n",
    "#### How to prevent overfitting?\n",
    "- Reduce model complexity\n",
    "- Training with more data\n",
    "- Cross-validation\n",
    "- Regularization\n",
    "\n",
    "Let's take a look at an example. We use 8th degree polynomial here with `poly(x, 8)` to fit the \"car\" dataset.\n"
   ]
  },
  {
   "cell_type": "code",
   "execution_count": 22,
   "metadata": {
    "tags": []
   },
   "outputs": [
    {
     "data": {},
     "metadata": {},
     "output_type": "display_data"
    },
    {
     "data": {
      "image/png": "[encoded data removed]",
      "text/plain": [
       "plot without title"
      ]
     },
     "metadata": {},
     "output_type": "display_data",
     "source": "R display func"
    }
   ],
   "source": [
    "ggplot(cars, aes(x = speed, y = dist)) + \n",
    "    geom_point() + \n",
    "    geom_smooth(method = \"lm\", \n",
    "                formula = y ~ poly(x, 8), \n",
    "                col = \"red\", se = FALSE) "
   ]
  },
  {
   "cell_type": "markdown",
   "metadata": {},
   "source": [
    "The model is fitting to the points in the top right. If this model received new speeds, it may not be able to predict accurate distances.\n"
   ]
  },
  {
   "cell_type": "markdown",
   "metadata": {},
   "source": [
    "Going back to the example with the \"cars\" dataset, you can reduce the complexity of the model. In the previous overfitting example, a polynomial model of 8 degrees was used. Instead, you can use a polynomial of degree 1 or a simple linear regression model. In R, you can set the formula to y over x. In this example, we demonstrated how you can prevent overfitting and underfitting models by changing the model complexity.\n"
   ]
  },
  {
   "cell_type": "code",
   "execution_count": 23,
   "metadata": {
    "tags": []
   },
   "outputs": [
    {
     "data": {},
     "metadata": {},
     "output_type": "display_data"
    },
    {
     "data": {
      "image/png": "[encoded data removed]",
      "text/plain": [
       "plot without title"
      ]
     },
     "metadata": {},
     "output_type": "display_data",
     "source": "R display func"
    }
   ],
   "source": [
    "ggplot(cars, aes(x = speed, y = dist)) + \n",
    "    geom_point() + \n",
    "    geom_smooth(method = \"lm\", \n",
    "                formula = y ~ x, \n",
    "                col = \"red\", \n",
    "                se = FALSE) "
   ]
  },
  {
   "cell_type": "markdown",
   "metadata": {},
   "source": [
    "<a class=\"anchor\" id=\"ridge\"></a>\n",
    "\n",
    "## 3. Regularization\n",
    "\n",
    "Regularization is a way to handle the problem of overfitting. It is a technique you can use to reduce the complexity of the model by adding a penalty on the different parameters of the model. After it is applied, the model will be less likely to fit the noise of the training data and will improve the generalization abilities of the model. So, regularization is a way of *avoiding overfitting* by restricting the magnitude of model coefficients.\n",
    "\n",
    "There are a few methods of regularizing linear models including \n",
    "- Ridge (L2) regularization\n",
    "- Lasso (L1) regularization\n",
    "- Elastic net (mix of L1 and L2) regularization\n"
   ]
  },
  {
   "cell_type": "markdown",
   "metadata": {},
   "source": [
    "### Ridge (L2) regularization\n",
    "First, create a `recipe()` that includes the model formula. You could preprocess the data more in this step, but the data here is already preprocessed. The dot `.` in the formula is a special character that tells R to use all the variables in train_data.\n"
   ]
  },
  {
   "cell_type": "code",
   "execution_count": 24,
   "metadata": {
    "tags": []
   },
   "outputs": [],
   "source": [
    "flight_recipe <-\n",
    "  recipe(ArrDelayMinutes ~ ., data = train_data)"
   ]
  },
  {
   "cell_type": "markdown",
   "metadata": {},
   "source": [
    "Next, use the `linear_reg()` function from the tidymodels library to specify the model.\n",
    "\n",
    "“penalty” is the value of lambda. ”mixture” is the proportion of L1 penalty. For ridge regression, specify **`mixture = 0`**. This means there is no L1 penalty and only the L2 penalty is used. For lasso regression, you would use **`mixture = 1`**.\n"
   ]
  },
  {
   "cell_type": "code",
   "execution_count": 25,
   "metadata": {
    "tags": []
   },
   "outputs": [],
   "source": [
    "ridge_spec <- linear_reg(penalty = 0.1, mixture = 0) %>%\n",
    "  set_engine(\"glmnet\")"
   ]
  },
  {
   "cell_type": "markdown",
   "metadata": {},
   "source": [
    "Next, create a workflow object so you can more conveniently combine pre-processing, modeling, and post-processing requests.\n"
   ]
  },
  {
   "cell_type": "code",
   "execution_count": 26,
   "metadata": {
    "tags": []
   },
   "outputs": [],
   "source": [
    "ridge_wf <- workflow() %>%\n",
    "  add_recipe(flight_recipe)"
   ]
  },
  {
   "cell_type": "markdown",
   "metadata": {},
   "source": [
    "Finally, add the ridge model and fit the model.\n"
   ]
  },
  {
   "cell_type": "code",
   "execution_count": 27,
   "metadata": {
    "tags": []
   },
   "outputs": [],
   "source": [
    "ridge_fit <- ridge_wf %>%\n",
    "  add_model(ridge_spec) %>%\n",
    "  fit(data = train_data)"
   ]
  },
  {
   "cell_type": "markdown",
   "metadata": {},
   "source": [
    "To view the result of the fitted ridge regression model, use the `pull_workflow_fit()` function. \n"
   ]
  },
  {
   "cell_type": "code",
   "execution_count": 28,
   "metadata": {
    "tags": []
   },
   "outputs": [
    {
     "data": {
      "text/html": [
       "<table>\n",
       "<caption>A tibble: 900 × 5</caption>\n",
       "<thead>\n",
       "\t<tr><th scope=col>term</th><th scope=col>step</th><th scope=col>estimate</th><th scope=col>lambda</th><th scope=col>dev.ratio</th></tr>\n",
       "\t<tr><th scope=col>&lt;chr&gt;</th><th scope=col>&lt;dbl&gt;</th><th scope=col>&lt;dbl&gt;</th><th scope=col>&lt;dbl&gt;</th><th scope=col>&lt;dbl&gt;</th></tr>\n",
       "</thead>\n",
       "<tbody>\n",
       "\t<tr><td>(Intercept)      </td><td>1</td><td> 1.247386e+01</td><td>34182.46</td><td>3.071080e-36</td></tr>\n",
       "\t<tr><td>DepDelayMinutes  </td><td>1</td><td> 9.745216e-37</td><td>34182.46</td><td>3.071080e-36</td></tr>\n",
       "\t<tr><td>CarrierDelay     </td><td>1</td><td> 1.002458e-36</td><td>34182.46</td><td>3.071080e-36</td></tr>\n",
       "\t<tr><td>WeatherDelay     </td><td>1</td><td> 1.993863e-36</td><td>34182.46</td><td>3.071080e-36</td></tr>\n",
       "\t<tr><td>NASDelay         </td><td>1</td><td> 1.020732e-36</td><td>34182.46</td><td>3.071080e-36</td></tr>\n",
       "\t<tr><td>SecurityDelay    </td><td>1</td><td> 9.333620e-37</td><td>34182.46</td><td>3.071080e-36</td></tr>\n",
       "\t<tr><td>LateAircraftDelay</td><td>1</td><td> 1.110034e-36</td><td>34182.46</td><td>3.071080e-36</td></tr>\n",
       "\t<tr><td>DayOfWeek        </td><td>1</td><td> 7.290093e-37</td><td>34182.46</td><td>3.071080e-36</td></tr>\n",
       "\t<tr><td>Month            </td><td>1</td><td>-2.677597e-37</td><td>34182.46</td><td>3.071080e-36</td></tr>\n",
       "\t<tr><td>(Intercept)      </td><td>2</td><td> 1.245183e+01</td><td>31145.79</td><td>3.617542e-03</td></tr>\n",
       "\t<tr><td>DepDelayMinutes  </td><td>2</td><td> 1.149347e-03</td><td>31145.79</td><td>3.617542e-03</td></tr>\n",
       "\t<tr><td>CarrierDelay     </td><td>2</td><td> 1.181869e-03</td><td>31145.79</td><td>3.617542e-03</td></tr>\n",
       "\t<tr><td>WeatherDelay     </td><td>2</td><td> 2.350366e-03</td><td>31145.79</td><td>3.617542e-03</td></tr>\n",
       "\t<tr><td>NASDelay         </td><td>2</td><td> 1.203898e-03</td><td>31145.79</td><td>3.617542e-03</td></tr>\n",
       "\t<tr><td>SecurityDelay    </td><td>2</td><td> 1.100325e-03</td><td>31145.79</td><td>3.617542e-03</td></tr>\n",
       "\t<tr><td>LateAircraftDelay</td><td>2</td><td> 1.308528e-03</td><td>31145.79</td><td>3.617542e-03</td></tr>\n",
       "\t<tr><td>DayOfWeek        </td><td>2</td><td> 8.596155e-04</td><td>31145.79</td><td>3.617542e-03</td></tr>\n",
       "\t<tr><td>Month            </td><td>2</td><td>-3.158348e-04</td><td>31145.79</td><td>3.617542e-03</td></tr>\n",
       "\t<tr><td>(Intercept)      </td><td>3</td><td> 1.244969e+01</td><td>28378.88</td><td>3.968965e-03</td></tr>\n",
       "\t<tr><td>DepDelayMinutes  </td><td>3</td><td> 1.261151e-03</td><td>28378.88</td><td>3.968965e-03</td></tr>\n",
       "\t<tr><td>CarrierDelay     </td><td>3</td><td> 1.296792e-03</td><td>28378.88</td><td>3.968965e-03</td></tr>\n",
       "\t<tr><td>WeatherDelay     </td><td>3</td><td> 2.578874e-03</td><td>28378.88</td><td>3.968965e-03</td></tr>\n",
       "\t<tr><td>NASDelay         </td><td>3</td><td> 1.321015e-03</td><td>28378.88</td><td>3.968965e-03</td></tr>\n",
       "\t<tr><td>SecurityDelay    </td><td>3</td><td> 1.207309e-03</td><td>28378.88</td><td>3.968965e-03</td></tr>\n",
       "\t<tr><td>LateAircraftDelay</td><td>3</td><td> 1.435748e-03</td><td>28378.88</td><td>3.968965e-03</td></tr>\n",
       "\t<tr><td>DayOfWeek        </td><td>3</td><td> 9.432171e-04</td><td>28378.88</td><td>3.968965e-03</td></tr>\n",
       "\t<tr><td>Month            </td><td>3</td><td>-3.465623e-04</td><td>28378.88</td><td>3.968965e-03</td></tr>\n",
       "\t<tr><td>(Intercept)      </td><td>4</td><td> 1.244734e+01</td><td>25857.78</td><td>4.354391e-03</td></tr>\n",
       "\t<tr><td>DepDelayMinutes  </td><td>4</td><td> 1.383804e-03</td><td>25857.78</td><td>4.354391e-03</td></tr>\n",
       "\t<tr><td>CarrierDelay     </td><td>4</td><td> 1.422857e-03</td><td>25857.78</td><td>4.354391e-03</td></tr>\n",
       "\t<tr><td>⋮</td><td>⋮</td><td>⋮</td><td>⋮</td><td>⋮</td></tr>\n",
       "\t<tr><td>LateAircraftDelay</td><td> 97</td><td> 0.2038636</td><td>4.518721</td><td>0.8574056</td></tr>\n",
       "\t<tr><td>DayOfWeek        </td><td> 97</td><td> 0.2209971</td><td>4.518721</td><td>0.8574056</td></tr>\n",
       "\t<tr><td>Month            </td><td> 97</td><td>-0.1178589</td><td>4.518721</td><td>0.8574056</td></tr>\n",
       "\t<tr><td>(Intercept)      </td><td> 98</td><td> 2.5844502</td><td>4.117290</td><td>0.8589525</td></tr>\n",
       "\t<tr><td>DepDelayMinutes  </td><td> 98</td><td> 0.7117772</td><td>4.117290</td><td>0.8589525</td></tr>\n",
       "\t<tr><td>CarrierDelay     </td><td> 98</td><td> 0.2106362</td><td>4.117290</td><td>0.8589525</td></tr>\n",
       "\t<tr><td>WeatherDelay     </td><td> 98</td><td> 0.5211904</td><td>4.117290</td><td>0.8589525</td></tr>\n",
       "\t<tr><td>NASDelay         </td><td> 98</td><td> 0.4895922</td><td>4.117290</td><td>0.8589525</td></tr>\n",
       "\t<tr><td>SecurityDelay    </td><td> 98</td><td> 0.1374077</td><td>4.117290</td><td>0.8589525</td></tr>\n",
       "\t<tr><td>LateAircraftDelay</td><td> 98</td><td> 0.1937733</td><td>4.117290</td><td>0.8589525</td></tr>\n",
       "\t<tr><td>DayOfWeek        </td><td> 98</td><td> 0.2157662</td><td>4.117290</td><td>0.8589525</td></tr>\n",
       "\t<tr><td>Month            </td><td> 98</td><td>-0.1165710</td><td>4.117290</td><td>0.8589525</td></tr>\n",
       "\t<tr><td>(Intercept)      </td><td> 99</td><td> 2.5155747</td><td>3.751521</td><td>0.8603442</td></tr>\n",
       "\t<tr><td>DepDelayMinutes  </td><td> 99</td><td> 0.7235344</td><td>3.751521</td><td>0.8603442</td></tr>\n",
       "\t<tr><td>CarrierDelay     </td><td> 99</td><td> 0.2013027</td><td>3.751521</td><td>0.8603442</td></tr>\n",
       "\t<tr><td>WeatherDelay     </td><td> 99</td><td> 0.5153878</td><td>3.751521</td><td>0.8603442</td></tr>\n",
       "\t<tr><td>NASDelay         </td><td> 99</td><td> 0.4881327</td><td>3.751521</td><td>0.8603442</td></tr>\n",
       "\t<tr><td>SecurityDelay    </td><td> 99</td><td> 0.1266949</td><td>3.751521</td><td>0.8603442</td></tr>\n",
       "\t<tr><td>LateAircraftDelay</td><td> 99</td><td> 0.1837495</td><td>3.751521</td><td>0.8603442</td></tr>\n",
       "\t<tr><td>DayOfWeek        </td><td> 99</td><td> 0.2104838</td><td>3.751521</td><td>0.8603442</td></tr>\n",
       "\t<tr><td>Month            </td><td> 99</td><td>-0.1152240</td><td>3.751521</td><td>0.8603442</td></tr>\n",
       "\t<tr><td>(Intercept)      </td><td>100</td><td> 2.4509426</td><td>3.418246</td><td>0.8615927</td></tr>\n",
       "\t<tr><td>DepDelayMinutes  </td><td>100</td><td> 0.7348873</td><td>3.418246</td><td>0.8615927</td></tr>\n",
       "\t<tr><td>CarrierDelay     </td><td>100</td><td> 0.1920394</td><td>3.418246</td><td>0.8615927</td></tr>\n",
       "\t<tr><td>WeatherDelay     </td><td>100</td><td> 0.5097080</td><td>3.418246</td><td>0.8615927</td></tr>\n",
       "\t<tr><td>NASDelay         </td><td>100</td><td> 0.4864782</td><td>3.418246</td><td>0.8615927</td></tr>\n",
       "\t<tr><td>SecurityDelay    </td><td>100</td><td> 0.1161025</td><td>3.418246</td><td>0.8615927</td></tr>\n",
       "\t<tr><td>LateAircraftDelay</td><td>100</td><td> 0.1738491</td><td>3.418246</td><td>0.8615927</td></tr>\n",
       "\t<tr><td>DayOfWeek        </td><td>100</td><td> 0.2051912</td><td>3.418246</td><td>0.8615927</td></tr>\n",
       "\t<tr><td>Month            </td><td>100</td><td>-0.1138345</td><td>3.418246</td><td>0.8615927</td></tr>\n",
       "</tbody>\n",
       "</table>\n"
      ],
      "text/latex": [
       "A tibble: 900 × 5\n",
       "\\begin{tabular}{lllll}\n",
       " term & step & estimate & lambda & dev.ratio\\\\\n",
       " <chr> & <dbl> & <dbl> & <dbl> & <dbl>\\\\\n",
       "\\hline\n",
       "\t (Intercept)       & 1 &  1.247386e+01 & 34182.46 & 3.071080e-36\\\\\n",
       "\t DepDelayMinutes   & 1 &  9.745216e-37 & 34182.46 & 3.071080e-36\\\\\n",
       "\t CarrierDelay      & 1 &  1.002458e-36 & 34182.46 & 3.071080e-36\\\\\n",
       "\t WeatherDelay      & 1 &  1.993863e-36 & 34182.46 & 3.071080e-36\\\\\n",
       "\t NASDelay          & 1 &  1.020732e-36 & 34182.46 & 3.071080e-36\\\\\n",
       "\t SecurityDelay     & 1 &  9.333620e-37 & 34182.46 & 3.071080e-36\\\\\n",
       "\t LateAircraftDelay & 1 &  1.110034e-36 & 34182.46 & 3.071080e-36\\\\\n",
       "\t DayOfWeek         & 1 &  7.290093e-37 & 34182.46 & 3.071080e-36\\\\\n",
       "\t Month             & 1 & -2.677597e-37 & 34182.46 & 3.071080e-36\\\\\n",
       "\t (Intercept)       & 2 &  1.245183e+01 & 31145.79 & 3.617542e-03\\\\\n",
       "\t DepDelayMinutes   & 2 &  1.149347e-03 & 31145.79 & 3.617542e-03\\\\\n",
       "\t CarrierDelay      & 2 &  1.181869e-03 & 31145.79 & 3.617542e-03\\\\\n",
       "\t WeatherDelay      & 2 &  2.350366e-03 & 31145.79 & 3.617542e-03\\\\\n",
       "\t NASDelay          & 2 &  1.203898e-03 & 31145.79 & 3.617542e-03\\\\\n",
       "\t SecurityDelay     & 2 &  1.100325e-03 & 31145.79 & 3.617542e-03\\\\\n",
       "\t LateAircraftDelay & 2 &  1.308528e-03 & 31145.79 & 3.617542e-03\\\\\n",
       "\t DayOfWeek         & 2 &  8.596155e-04 & 31145.79 & 3.617542e-03\\\\\n",
       "\t Month             & 2 & -3.158348e-04 & 31145.79 & 3.617542e-03\\\\\n",
       "\t (Intercept)       & 3 &  1.244969e+01 & 28378.88 & 3.968965e-03\\\\\n",
       "\t DepDelayMinutes   & 3 &  1.261151e-03 & 28378.88 & 3.968965e-03\\\\\n",
       "\t CarrierDelay      & 3 &  1.296792e-03 & 28378.88 & 3.968965e-03\\\\\n",
       "\t WeatherDelay      & 3 &  2.578874e-03 & 28378.88 & 3.968965e-03\\\\\n",
       "\t NASDelay          & 3 &  1.321015e-03 & 28378.88 & 3.968965e-03\\\\\n",
       "\t SecurityDelay     & 3 &  1.207309e-03 & 28378.88 & 3.968965e-03\\\\\n",
       "\t LateAircraftDelay & 3 &  1.435748e-03 & 28378.88 & 3.968965e-03\\\\\n",
       "\t DayOfWeek         & 3 &  9.432171e-04 & 28378.88 & 3.968965e-03\\\\\n",
       "\t Month             & 3 & -3.465623e-04 & 28378.88 & 3.968965e-03\\\\\n",
       "\t (Intercept)       & 4 &  1.244734e+01 & 25857.78 & 4.354391e-03\\\\\n",
       "\t DepDelayMinutes   & 4 &  1.383804e-03 & 25857.78 & 4.354391e-03\\\\\n",
       "\t CarrierDelay      & 4 &  1.422857e-03 & 25857.78 & 4.354391e-03\\\\\n",
       "\t ⋮ & ⋮ & ⋮ & ⋮ & ⋮\\\\\n",
       "\t LateAircraftDelay &  97 &  0.2038636 & 4.518721 & 0.8574056\\\\\n",
       "\t DayOfWeek         &  97 &  0.2209971 & 4.518721 & 0.8574056\\\\\n",
       "\t Month             &  97 & -0.1178589 & 4.518721 & 0.8574056\\\\\n",
       "\t (Intercept)       &  98 &  2.5844502 & 4.117290 & 0.8589525\\\\\n",
       "\t DepDelayMinutes   &  98 &  0.7117772 & 4.117290 & 0.8589525\\\\\n",
       "\t CarrierDelay      &  98 &  0.2106362 & 4.117290 & 0.8589525\\\\\n",
       "\t WeatherDelay      &  98 &  0.5211904 & 4.117290 & 0.8589525\\\\\n",
       "\t NASDelay          &  98 &  0.4895922 & 4.117290 & 0.8589525\\\\\n",
       "\t SecurityDelay     &  98 &  0.1374077 & 4.117290 & 0.8589525\\\\\n",
       "\t LateAircraftDelay &  98 &  0.1937733 & 4.117290 & 0.8589525\\\\\n",
       "\t DayOfWeek         &  98 &  0.2157662 & 4.117290 & 0.8589525\\\\\n",
       "\t Month             &  98 & -0.1165710 & 4.117290 & 0.8589525\\\\\n",
       "\t (Intercept)       &  99 &  2.5155747 & 3.751521 & 0.8603442\\\\\n",
       "\t DepDelayMinutes   &  99 &  0.7235344 & 3.751521 & 0.8603442\\\\\n",
       "\t CarrierDelay      &  99 &  0.2013027 & 3.751521 & 0.8603442\\\\\n",
       "\t WeatherDelay      &  99 &  0.5153878 & 3.751521 & 0.8603442\\\\\n",
       "\t NASDelay          &  99 &  0.4881327 & 3.751521 & 0.8603442\\\\\n",
       "\t SecurityDelay     &  99 &  0.1266949 & 3.751521 & 0.8603442\\\\\n",
       "\t LateAircraftDelay &  99 &  0.1837495 & 3.751521 & 0.8603442\\\\\n",
       "\t DayOfWeek         &  99 &  0.2104838 & 3.751521 & 0.8603442\\\\\n",
       "\t Month             &  99 & -0.1152240 & 3.751521 & 0.8603442\\\\\n",
       "\t (Intercept)       & 100 &  2.4509426 & 3.418246 & 0.8615927\\\\\n",
       "\t DepDelayMinutes   & 100 &  0.7348873 & 3.418246 & 0.8615927\\\\\n",
       "\t CarrierDelay      & 100 &  0.1920394 & 3.418246 & 0.8615927\\\\\n",
       "\t WeatherDelay      & 100 &  0.5097080 & 3.418246 & 0.8615927\\\\\n",
       "\t NASDelay          & 100 &  0.4864782 & 3.418246 & 0.8615927\\\\\n",
       "\t SecurityDelay     & 100 &  0.1161025 & 3.418246 & 0.8615927\\\\\n",
       "\t LateAircraftDelay & 100 &  0.1738491 & 3.418246 & 0.8615927\\\\\n",
       "\t DayOfWeek         & 100 &  0.2051912 & 3.418246 & 0.8615927\\\\\n",
       "\t Month             & 100 & -0.1138345 & 3.418246 & 0.8615927\\\\\n",
       "\\end{tabular}\n"
      ],
      "text/markdown": [
       "\n",
       "A tibble: 900 × 5\n",
       "\n",
       "| term &lt;chr&gt; | step &lt;dbl&gt; | estimate &lt;dbl&gt; | lambda &lt;dbl&gt; | dev.ratio &lt;dbl&gt; |\n",
       "|---|---|---|---|---|\n",
       "| (Intercept)       | 1 |  1.247386e+01 | 34182.46 | 3.071080e-36 |\n",
       "| DepDelayMinutes   | 1 |  9.745216e-37 | 34182.46 | 3.071080e-36 |\n",
       "| CarrierDelay      | 1 |  1.002458e-36 | 34182.46 | 3.071080e-36 |\n",
       "| WeatherDelay      | 1 |  1.993863e-36 | 34182.46 | 3.071080e-36 |\n",
       "| NASDelay          | 1 |  1.020732e-36 | 34182.46 | 3.071080e-36 |\n",
       "| SecurityDelay     | 1 |  9.333620e-37 | 34182.46 | 3.071080e-36 |\n",
       "| LateAircraftDelay | 1 |  1.110034e-36 | 34182.46 | 3.071080e-36 |\n",
       "| DayOfWeek         | 1 |  7.290093e-37 | 34182.46 | 3.071080e-36 |\n",
       "| Month             | 1 | -2.677597e-37 | 34182.46 | 3.071080e-36 |\n",
       "| (Intercept)       | 2 |  1.245183e+01 | 31145.79 | 3.617542e-03 |\n",
       "| DepDelayMinutes   | 2 |  1.149347e-03 | 31145.79 | 3.617542e-03 |\n",
       "| CarrierDelay      | 2 |  1.181869e-03 | 31145.79 | 3.617542e-03 |\n",
       "| WeatherDelay      | 2 |  2.350366e-03 | 31145.79 | 3.617542e-03 |\n",
       "| NASDelay          | 2 |  1.203898e-03 | 31145.79 | 3.617542e-03 |\n",
       "| SecurityDelay     | 2 |  1.100325e-03 | 31145.79 | 3.617542e-03 |\n",
       "| LateAircraftDelay | 2 |  1.308528e-03 | 31145.79 | 3.617542e-03 |\n",
       "| DayOfWeek         | 2 |  8.596155e-04 | 31145.79 | 3.617542e-03 |\n",
       "| Month             | 2 | -3.158348e-04 | 31145.79 | 3.617542e-03 |\n",
       "| (Intercept)       | 3 |  1.244969e+01 | 28378.88 | 3.968965e-03 |\n",
       "| DepDelayMinutes   | 3 |  1.261151e-03 | 28378.88 | 3.968965e-03 |\n",
       "| CarrierDelay      | 3 |  1.296792e-03 | 28378.88 | 3.968965e-03 |\n",
       "| WeatherDelay      | 3 |  2.578874e-03 | 28378.88 | 3.968965e-03 |\n",
       "| NASDelay          | 3 |  1.321015e-03 | 28378.88 | 3.968965e-03 |\n",
       "| SecurityDelay     | 3 |  1.207309e-03 | 28378.88 | 3.968965e-03 |\n",
       "| LateAircraftDelay | 3 |  1.435748e-03 | 28378.88 | 3.968965e-03 |\n",
       "| DayOfWeek         | 3 |  9.432171e-04 | 28378.88 | 3.968965e-03 |\n",
       "| Month             | 3 | -3.465623e-04 | 28378.88 | 3.968965e-03 |\n",
       "| (Intercept)       | 4 |  1.244734e+01 | 25857.78 | 4.354391e-03 |\n",
       "| DepDelayMinutes   | 4 |  1.383804e-03 | 25857.78 | 4.354391e-03 |\n",
       "| CarrierDelay      | 4 |  1.422857e-03 | 25857.78 | 4.354391e-03 |\n",
       "| ⋮ | ⋮ | ⋮ | ⋮ | ⋮ |\n",
       "| LateAircraftDelay |  97 |  0.2038636 | 4.518721 | 0.8574056 |\n",
       "| DayOfWeek         |  97 |  0.2209971 | 4.518721 | 0.8574056 |\n",
       "| Month             |  97 | -0.1178589 | 4.518721 | 0.8574056 |\n",
       "| (Intercept)       |  98 |  2.5844502 | 4.117290 | 0.8589525 |\n",
       "| DepDelayMinutes   |  98 |  0.7117772 | 4.117290 | 0.8589525 |\n",
       "| CarrierDelay      |  98 |  0.2106362 | 4.117290 | 0.8589525 |\n",
       "| WeatherDelay      |  98 |  0.5211904 | 4.117290 | 0.8589525 |\n",
       "| NASDelay          |  98 |  0.4895922 | 4.117290 | 0.8589525 |\n",
       "| SecurityDelay     |  98 |  0.1374077 | 4.117290 | 0.8589525 |\n",
       "| LateAircraftDelay |  98 |  0.1937733 | 4.117290 | 0.8589525 |\n",
       "| DayOfWeek         |  98 |  0.2157662 | 4.117290 | 0.8589525 |\n",
       "| Month             |  98 | -0.1165710 | 4.117290 | 0.8589525 |\n",
       "| (Intercept)       |  99 |  2.5155747 | 3.751521 | 0.8603442 |\n",
       "| DepDelayMinutes   |  99 |  0.7235344 | 3.751521 | 0.8603442 |\n",
       "| CarrierDelay      |  99 |  0.2013027 | 3.751521 | 0.8603442 |\n",
       "| WeatherDelay      |  99 |  0.5153878 | 3.751521 | 0.8603442 |\n",
       "| NASDelay          |  99 |  0.4881327 | 3.751521 | 0.8603442 |\n",
       "| SecurityDelay     |  99 |  0.1266949 | 3.751521 | 0.8603442 |\n",
       "| LateAircraftDelay |  99 |  0.1837495 | 3.751521 | 0.8603442 |\n",
       "| DayOfWeek         |  99 |  0.2104838 | 3.751521 | 0.8603442 |\n",
       "| Month             |  99 | -0.1152240 | 3.751521 | 0.8603442 |\n",
       "| (Intercept)       | 100 |  2.4509426 | 3.418246 | 0.8615927 |\n",
       "| DepDelayMinutes   | 100 |  0.7348873 | 3.418246 | 0.8615927 |\n",
       "| CarrierDelay      | 100 |  0.1920394 | 3.418246 | 0.8615927 |\n",
       "| WeatherDelay      | 100 |  0.5097080 | 3.418246 | 0.8615927 |\n",
       "| NASDelay          | 100 |  0.4864782 | 3.418246 | 0.8615927 |\n",
       "| SecurityDelay     | 100 |  0.1161025 | 3.418246 | 0.8615927 |\n",
       "| LateAircraftDelay | 100 |  0.1738491 | 3.418246 | 0.8615927 |\n",
       "| DayOfWeek         | 100 |  0.2051912 | 3.418246 | 0.8615927 |\n",
       "| Month             | 100 | -0.1138345 | 3.418246 | 0.8615927 |\n",
       "\n"
      ],
      "text/plain": [
       "    term              step estimate      lambda   dev.ratio   \n",
       "1   (Intercept)       1     1.247386e+01 34182.46 3.071080e-36\n",
       "2   DepDelayMinutes   1     9.745216e-37 34182.46 3.071080e-36\n",
       "3   CarrierDelay      1     1.002458e-36 34182.46 3.071080e-36\n",
       "4   WeatherDelay      1     1.993863e-36 34182.46 3.071080e-36\n",
       "5   NASDelay          1     1.020732e-36 34182.46 3.071080e-36\n",
       "6   SecurityDelay     1     9.333620e-37 34182.46 3.071080e-36\n",
       "7   LateAircraftDelay 1     1.110034e-36 34182.46 3.071080e-36\n",
       "8   DayOfWeek         1     7.290093e-37 34182.46 3.071080e-36\n",
       "9   Month             1    -2.677597e-37 34182.46 3.071080e-36\n",
       "10  (Intercept)       2     1.245183e+01 31145.79 3.617542e-03\n",
       "11  DepDelayMinutes   2     1.149347e-03 31145.79 3.617542e-03\n",
       "12  CarrierDelay      2     1.181869e-03 31145.79 3.617542e-03\n",
       "13  WeatherDelay      2     2.350366e-03 31145.79 3.617542e-03\n",
       "14  NASDelay          2     1.203898e-03 31145.79 3.617542e-03\n",
       "15  SecurityDelay     2     1.100325e-03 31145.79 3.617542e-03\n",
       "16  LateAircraftDelay 2     1.308528e-03 31145.79 3.617542e-03\n",
       "17  DayOfWeek         2     8.596155e-04 31145.79 3.617542e-03\n",
       "18  Month             2    -3.158348e-04 31145.79 3.617542e-03\n",
       "19  (Intercept)       3     1.244969e+01 28378.88 3.968965e-03\n",
       "20  DepDelayMinutes   3     1.261151e-03 28378.88 3.968965e-03\n",
       "21  CarrierDelay      3     1.296792e-03 28378.88 3.968965e-03\n",
       "22  WeatherDelay      3     2.578874e-03 28378.88 3.968965e-03\n",
       "23  NASDelay          3     1.321015e-03 28378.88 3.968965e-03\n",
       "24  SecurityDelay     3     1.207309e-03 28378.88 3.968965e-03\n",
       "25  LateAircraftDelay 3     1.435748e-03 28378.88 3.968965e-03\n",
       "26  DayOfWeek         3     9.432171e-04 28378.88 3.968965e-03\n",
       "27  Month             3    -3.465623e-04 28378.88 3.968965e-03\n",
       "28  (Intercept)       4     1.244734e+01 25857.78 4.354391e-03\n",
       "29  DepDelayMinutes   4     1.383804e-03 25857.78 4.354391e-03\n",
       "30  CarrierDelay      4     1.422857e-03 25857.78 4.354391e-03\n",
       "⋮   ⋮                 ⋮    ⋮             ⋮        ⋮           \n",
       "871 LateAircraftDelay  97   0.2038636    4.518721 0.8574056   \n",
       "872 DayOfWeek          97   0.2209971    4.518721 0.8574056   \n",
       "873 Month              97  -0.1178589    4.518721 0.8574056   \n",
       "874 (Intercept)        98   2.5844502    4.117290 0.8589525   \n",
       "875 DepDelayMinutes    98   0.7117772    4.117290 0.8589525   \n",
       "876 CarrierDelay       98   0.2106362    4.117290 0.8589525   \n",
       "877 WeatherDelay       98   0.5211904    4.117290 0.8589525   \n",
       "878 NASDelay           98   0.4895922    4.117290 0.8589525   \n",
       "879 SecurityDelay      98   0.1374077    4.117290 0.8589525   \n",
       "880 LateAircraftDelay  98   0.1937733    4.117290 0.8589525   \n",
       "881 DayOfWeek          98   0.2157662    4.117290 0.8589525   \n",
       "882 Month              98  -0.1165710    4.117290 0.8589525   \n",
       "883 (Intercept)        99   2.5155747    3.751521 0.8603442   \n",
       "884 DepDelayMinutes    99   0.7235344    3.751521 0.8603442   \n",
       "885 CarrierDelay       99   0.2013027    3.751521 0.8603442   \n",
       "886 WeatherDelay       99   0.5153878    3.751521 0.8603442   \n",
       "887 NASDelay           99   0.4881327    3.751521 0.8603442   \n",
       "888 SecurityDelay      99   0.1266949    3.751521 0.8603442   \n",
       "889 LateAircraftDelay  99   0.1837495    3.751521 0.8603442   \n",
       "890 DayOfWeek          99   0.2104838    3.751521 0.8603442   \n",
       "891 Month              99  -0.1152240    3.751521 0.8603442   \n",
       "892 (Intercept)       100   2.4509426    3.418246 0.8615927   \n",
       "893 DepDelayMinutes   100   0.7348873    3.418246 0.8615927   \n",
       "894 CarrierDelay      100   0.1920394    3.418246 0.8615927   \n",
       "895 WeatherDelay      100   0.5097080    3.418246 0.8615927   \n",
       "896 NASDelay          100   0.4864782    3.418246 0.8615927   \n",
       "897 SecurityDelay     100   0.1161025    3.418246 0.8615927   \n",
       "898 LateAircraftDelay 100   0.1738491    3.418246 0.8615927   \n",
       "899 DayOfWeek         100   0.2051912    3.418246 0.8615927   \n",
       "900 Month             100  -0.1138345    3.418246 0.8615927   "
      ]
     },
     "metadata": {},
     "output_type": "display_data"
    }
   ],
   "source": [
    "ridge_fit %>%\n",
    "  pull_workflow_fit() %>%\n",
    "  tidy()"
   ]
  },
  {
   "cell_type": "markdown",
   "metadata": {},
   "source": [
    "There are two results columns. The estimate column contains the estimates of the coefficients learned by the model. Penalty contains the value of lambda, which in this example is 0.1.\n"
   ]
  },
  {
   "cell_type": "markdown",
   "metadata": {},
   "source": [
    "### Lasso (L1) regularization\n",
    "\n",
    "Similarly, here is the code for lasso regression.\n"
   ]
  },
  {
   "cell_type": "raw",
   "metadata": {},
   "source": [
    "lasso_spec <- linear_reg(penalty = 0.1, mixture = 1) %>%\n",
    "  set_engine(\"glmnet\")\n",
    "\n",
    "lasso_wf <- workflow() %>%\n",
    "  add_recipe(flight_recipe)\n",
    "\n",
    "lasso_fit <- lasso_wf %>%\n",
    "  add_model(lasso_spec) %>%\n",
    "  fit(data = train_data)"
   ]
  },
  {
   "cell_type": "markdown",
   "metadata": {},
   "source": [
    "### Elastic Net (L1 and L2) Regularization\n",
    "\n",
    "Moreover, here is the code for elastic net regularization. Like mentioned before, `mixture` is the proportion of L1 penalty used. Since elastic net uses a combination of L1 and L2 regularization, then when `mixture` is set to a value between 0 and 1 (not including 0 and 1) then it is considered elastic net regularization. In this example, it uses less L1 penalty than L2.\n"
   ]
  },
  {
   "cell_type": "raw",
   "metadata": {},
   "source": [
    "elasticnet_spec <- linear_reg(penalty = 0.1, mixture = 0.3) %>%\n",
    "  set_engine(\"glmnet\")\n",
    "\n",
    "elasticnet_wf <- workflow() %>%\n",
    "  add_recipe(flight_recipe)\n",
    "  \n",
    "elasticnet_fit <- elasticnet_wf %>%\n",
    "  add_model(elasticnet_spec) %>%\n",
    "  fit(data = train_data)"
   ]
  },
  {
   "cell_type": "markdown",
   "metadata": {},
   "source": [
    "<div class=\"alert alert-danger alertdanger\" style=\"margin-top: 20px\">\n",
    "<h1> Question  #4): </h1>\n",
    "\n",
    "Perform elastic net regression with \"mixture = 0.5\" and \"penalty = 0.2\" using all features (variables) in the training data, and then output the result of the fitted regression model.\n",
    "</div>\n"
   ]
  },
  {
   "cell_type": "code",
   "execution_count": 29,
   "metadata": {
    "tags": []
   },
   "outputs": [
    {
     "data": {
      "text/html": [
       "<table>\n",
       "<caption>A tibble: 428 × 5</caption>\n",
       "<thead>\n",
       "\t<tr><th scope=col>term</th><th scope=col>step</th><th scope=col>estimate</th><th scope=col>lambda</th><th scope=col>dev.ratio</th></tr>\n",
       "\t<tr><th scope=col>&lt;chr&gt;</th><th scope=col>&lt;dbl&gt;</th><th scope=col>&lt;dbl&gt;</th><th scope=col>&lt;dbl&gt;</th><th scope=col>&lt;dbl&gt;</th></tr>\n",
       "</thead>\n",
       "<tbody>\n",
       "\t<tr><td>(Intercept)    </td><td> 1</td><td>12.47385621</td><td>170.91232</td><td>0.00000000</td></tr>\n",
       "\t<tr><td>(Intercept)    </td><td> 2</td><td>12.26768725</td><td>155.72894</td><td>0.03416364</td></tr>\n",
       "\t<tr><td>DepDelayMinutes</td><td> 2</td><td> 0.01969996</td><td>155.72894</td><td>0.03416364</td></tr>\n",
       "\t<tr><td>(Intercept)    </td><td> 3</td><td>12.05089563</td><td>141.89441</td><td>0.06932733</td></tr>\n",
       "\t<tr><td>DepDelayMinutes</td><td> 3</td><td> 0.04041493</td><td>141.89441</td><td>0.06932733</td></tr>\n",
       "\t<tr><td>(Intercept)    </td><td> 4</td><td>11.82364884</td><td>129.28890</td><td>0.10535029</td></tr>\n",
       "\t<tr><td>DepDelayMinutes</td><td> 4</td><td> 0.06212893</td><td>129.28890</td><td>0.10535029</td></tr>\n",
       "\t<tr><td>(Intercept)    </td><td> 5</td><td>11.58622549</td><td>117.80323</td><td>0.14207178</td></tr>\n",
       "\t<tr><td>DepDelayMinutes</td><td> 5</td><td> 0.08481532</td><td>117.80323</td><td>0.14207178</td></tr>\n",
       "\t<tr><td>(Intercept)    </td><td> 6</td><td>11.33902143</td><td>107.33792</td><td>0.17931280</td></tr>\n",
       "\t<tr><td>DepDelayMinutes</td><td> 6</td><td> 0.10843628</td><td>107.33792</td><td>0.17931280</td></tr>\n",
       "\t<tr><td>(Intercept)    </td><td> 7</td><td>11.07203897</td><td> 97.80231</td><td>0.22268837</td></tr>\n",
       "\t<tr><td>DepDelayMinutes</td><td> 7</td><td> 0.13100524</td><td> 97.80231</td><td>0.22268837</td></tr>\n",
       "\t<tr><td>CarrierDelay   </td><td> 7</td><td> 0.01238228</td><td> 97.80231</td><td>0.22268837</td></tr>\n",
       "\t<tr><td>(Intercept)    </td><td> 8</td><td>10.79520283</td><td> 89.11383</td><td>0.26754997</td></tr>\n",
       "\t<tr><td>DepDelayMinutes</td><td> 8</td><td> 0.15329354</td><td> 89.11383</td><td>0.26754997</td></tr>\n",
       "\t<tr><td>CarrierDelay   </td><td> 8</td><td> 0.02990879</td><td> 89.11383</td><td>0.26754997</td></tr>\n",
       "\t<tr><td>(Intercept)    </td><td> 9</td><td>10.51459603</td><td> 81.19720</td><td>0.31093868</td></tr>\n",
       "\t<tr><td>DepDelayMinutes</td><td> 9</td><td> 0.17604215</td><td> 81.19720</td><td>0.31093868</td></tr>\n",
       "\t<tr><td>CarrierDelay   </td><td> 9</td><td> 0.04701435</td><td> 81.19720</td><td>0.31093868</td></tr>\n",
       "\t<tr><td>(Intercept)    </td><td>10</td><td>10.23116241</td><td> 73.98386</td><td>0.35266286</td></tr>\n",
       "\t<tr><td>DepDelayMinutes</td><td>10</td><td> 0.19919197</td><td> 73.98386</td><td>0.35266286</td></tr>\n",
       "\t<tr><td>CarrierDelay   </td><td>10</td><td> 0.06356810</td><td> 73.98386</td><td>0.35266286</td></tr>\n",
       "\t<tr><td>(Intercept)    </td><td>11</td><td> 9.94586039</td><td> 67.41134</td><td>0.39256038</td></tr>\n",
       "\t<tr><td>DepDelayMinutes</td><td>11</td><td> 0.22268208</td><td> 67.41134</td><td>0.39256038</td></tr>\n",
       "\t<tr><td>CarrierDelay   </td><td>11</td><td> 0.07944104</td><td> 67.41134</td><td>0.39256038</td></tr>\n",
       "\t<tr><td>(Intercept)    </td><td>12</td><td> 9.65964645</td><td> 61.42270</td><td>0.43050116</td></tr>\n",
       "\t<tr><td>DepDelayMinutes</td><td>12</td><td> 0.24645070</td><td> 61.42270</td><td>0.43050116</td></tr>\n",
       "\t<tr><td>CarrierDelay   </td><td>12</td><td> 0.09450844</td><td> 61.42270</td><td>0.43050116</td></tr>\n",
       "\t<tr><td>(Intercept)    </td><td>13</td><td> 9.33152881</td><td> 55.96608</td><td>0.46929473</td></tr>\n",
       "\t<tr><td>⋮</td><td>⋮</td><td>⋮</td><td>⋮</td><td>⋮</td></tr>\n",
       "\t<tr><td>LateAircraftDelay</td><td>71</td><td> 0.01322538</td><td>0.2537994</td><td>0.8704391</td></tr>\n",
       "\t<tr><td>DayOfWeek        </td><td>71</td><td> 0.08921531</td><td>0.2537994</td><td>0.8704391</td></tr>\n",
       "\t<tr><td>Month            </td><td>71</td><td>-0.07346837</td><td>0.2537994</td><td>0.8704391</td></tr>\n",
       "\t<tr><td>(Intercept)      </td><td>72</td><td> 1.71328982</td><td>0.2312525</td><td>0.8704513</td></tr>\n",
       "\t<tr><td>DepDelayMinutes  </td><td>72</td><td> 0.89607973</td><td>0.2312525</td><td>0.8704513</td></tr>\n",
       "\t<tr><td>CarrierDelay     </td><td>72</td><td> 0.03866133</td><td>0.2312525</td><td>0.8704513</td></tr>\n",
       "\t<tr><td>WeatherDelay     </td><td>72</td><td> 0.39588382</td><td>0.2312525</td><td>0.8704513</td></tr>\n",
       "\t<tr><td>NASDelay         </td><td>72</td><td> 0.44009044</td><td>0.2312525</td><td>0.8704513</td></tr>\n",
       "\t<tr><td>SecurityDelay    </td><td>72</td><td>-0.04160024</td><td>0.2312525</td><td>0.8704513</td></tr>\n",
       "\t<tr><td>LateAircraftDelay</td><td>72</td><td> 0.01229143</td><td>0.2312525</td><td>0.8704513</td></tr>\n",
       "\t<tr><td>DayOfWeek        </td><td>72</td><td> 0.09075233</td><td>0.2312525</td><td>0.8704513</td></tr>\n",
       "\t<tr><td>Month            </td><td>72</td><td>-0.07442037</td><td>0.2312525</td><td>0.8704513</td></tr>\n",
       "\t<tr><td>(Intercept)      </td><td>73</td><td> 1.70591922</td><td>0.2107087</td><td>0.8704616</td></tr>\n",
       "\t<tr><td>DepDelayMinutes  </td><td>73</td><td> 0.89721703</td><td>0.2107087</td><td>0.8704616</td></tr>\n",
       "\t<tr><td>CarrierDelay     </td><td>73</td><td> 0.03766031</td><td>0.2107087</td><td>0.8704616</td></tr>\n",
       "\t<tr><td>WeatherDelay     </td><td>73</td><td> 0.39789686</td><td>0.2107087</td><td>0.8704616</td></tr>\n",
       "\t<tr><td>NASDelay         </td><td>73</td><td> 0.43992670</td><td>0.2107087</td><td>0.8704616</td></tr>\n",
       "\t<tr><td>SecurityDelay    </td><td>73</td><td>-0.04399248</td><td>0.2107087</td><td>0.8704616</td></tr>\n",
       "\t<tr><td>LateAircraftDelay</td><td>73</td><td> 0.01142349</td><td>0.2107087</td><td>0.8704616</td></tr>\n",
       "\t<tr><td>DayOfWeek        </td><td>73</td><td> 0.09214362</td><td>0.2107087</td><td>0.8704616</td></tr>\n",
       "\t<tr><td>Month            </td><td>73</td><td>-0.07528481</td><td>0.2107087</td><td>0.8704616</td></tr>\n",
       "\t<tr><td>(Intercept)      </td><td>74</td><td> 1.69917676</td><td>0.1919899</td><td>0.8704701</td></tr>\n",
       "\t<tr><td>DepDelayMinutes  </td><td>74</td><td> 0.89826120</td><td>0.1919899</td><td>0.8704701</td></tr>\n",
       "\t<tr><td>CarrierDelay     </td><td>74</td><td> 0.03673924</td><td>0.1919899</td><td>0.8704701</td></tr>\n",
       "\t<tr><td>WeatherDelay     </td><td>74</td><td> 0.39972979</td><td>0.1919899</td><td>0.8704701</td></tr>\n",
       "\t<tr><td>NASDelay         </td><td>74</td><td> 0.43977335</td><td>0.1919899</td><td>0.8704701</td></tr>\n",
       "\t<tr><td>SecurityDelay    </td><td>74</td><td>-0.04618294</td><td>0.1919899</td><td>0.8704701</td></tr>\n",
       "\t<tr><td>LateAircraftDelay</td><td>74</td><td> 0.01062380</td><td>0.1919899</td><td>0.8704701</td></tr>\n",
       "\t<tr><td>DayOfWeek        </td><td>74</td><td> 0.09340708</td><td>0.1919899</td><td>0.8704701</td></tr>\n",
       "\t<tr><td>Month            </td><td>74</td><td>-0.07607116</td><td>0.1919899</td><td>0.8704701</td></tr>\n",
       "</tbody>\n",
       "</table>\n"
      ],
      "text/latex": [
       "A tibble: 428 × 5\n",
       "\\begin{tabular}{lllll}\n",
       " term & step & estimate & lambda & dev.ratio\\\\\n",
       " <chr> & <dbl> & <dbl> & <dbl> & <dbl>\\\\\n",
       "\\hline\n",
       "\t (Intercept)     &  1 & 12.47385621 & 170.91232 & 0.00000000\\\\\n",
       "\t (Intercept)     &  2 & 12.26768725 & 155.72894 & 0.03416364\\\\\n",
       "\t DepDelayMinutes &  2 &  0.01969996 & 155.72894 & 0.03416364\\\\\n",
       "\t (Intercept)     &  3 & 12.05089563 & 141.89441 & 0.06932733\\\\\n",
       "\t DepDelayMinutes &  3 &  0.04041493 & 141.89441 & 0.06932733\\\\\n",
       "\t (Intercept)     &  4 & 11.82364884 & 129.28890 & 0.10535029\\\\\n",
       "\t DepDelayMinutes &  4 &  0.06212893 & 129.28890 & 0.10535029\\\\\n",
       "\t (Intercept)     &  5 & 11.58622549 & 117.80323 & 0.14207178\\\\\n",
       "\t DepDelayMinutes &  5 &  0.08481532 & 117.80323 & 0.14207178\\\\\n",
       "\t (Intercept)     &  6 & 11.33902143 & 107.33792 & 0.17931280\\\\\n",
       "\t DepDelayMinutes &  6 &  0.10843628 & 107.33792 & 0.17931280\\\\\n",
       "\t (Intercept)     &  7 & 11.07203897 &  97.80231 & 0.22268837\\\\\n",
       "\t DepDelayMinutes &  7 &  0.13100524 &  97.80231 & 0.22268837\\\\\n",
       "\t CarrierDelay    &  7 &  0.01238228 &  97.80231 & 0.22268837\\\\\n",
       "\t (Intercept)     &  8 & 10.79520283 &  89.11383 & 0.26754997\\\\\n",
       "\t DepDelayMinutes &  8 &  0.15329354 &  89.11383 & 0.26754997\\\\\n",
       "\t CarrierDelay    &  8 &  0.02990879 &  89.11383 & 0.26754997\\\\\n",
       "\t (Intercept)     &  9 & 10.51459603 &  81.19720 & 0.31093868\\\\\n",
       "\t DepDelayMinutes &  9 &  0.17604215 &  81.19720 & 0.31093868\\\\\n",
       "\t CarrierDelay    &  9 &  0.04701435 &  81.19720 & 0.31093868\\\\\n",
       "\t (Intercept)     & 10 & 10.23116241 &  73.98386 & 0.35266286\\\\\n",
       "\t DepDelayMinutes & 10 &  0.19919197 &  73.98386 & 0.35266286\\\\\n",
       "\t CarrierDelay    & 10 &  0.06356810 &  73.98386 & 0.35266286\\\\\n",
       "\t (Intercept)     & 11 &  9.94586039 &  67.41134 & 0.39256038\\\\\n",
       "\t DepDelayMinutes & 11 &  0.22268208 &  67.41134 & 0.39256038\\\\\n",
       "\t CarrierDelay    & 11 &  0.07944104 &  67.41134 & 0.39256038\\\\\n",
       "\t (Intercept)     & 12 &  9.65964645 &  61.42270 & 0.43050116\\\\\n",
       "\t DepDelayMinutes & 12 &  0.24645070 &  61.42270 & 0.43050116\\\\\n",
       "\t CarrierDelay    & 12 &  0.09450844 &  61.42270 & 0.43050116\\\\\n",
       "\t (Intercept)     & 13 &  9.33152881 &  55.96608 & 0.46929473\\\\\n",
       "\t ⋮ & ⋮ & ⋮ & ⋮ & ⋮\\\\\n",
       "\t LateAircraftDelay & 71 &  0.01322538 & 0.2537994 & 0.8704391\\\\\n",
       "\t DayOfWeek         & 71 &  0.08921531 & 0.2537994 & 0.8704391\\\\\n",
       "\t Month             & 71 & -0.07346837 & 0.2537994 & 0.8704391\\\\\n",
       "\t (Intercept)       & 72 &  1.71328982 & 0.2312525 & 0.8704513\\\\\n",
       "\t DepDelayMinutes   & 72 &  0.89607973 & 0.2312525 & 0.8704513\\\\\n",
       "\t CarrierDelay      & 72 &  0.03866133 & 0.2312525 & 0.8704513\\\\\n",
       "\t WeatherDelay      & 72 &  0.39588382 & 0.2312525 & 0.8704513\\\\\n",
       "\t NASDelay          & 72 &  0.44009044 & 0.2312525 & 0.8704513\\\\\n",
       "\t SecurityDelay     & 72 & -0.04160024 & 0.2312525 & 0.8704513\\\\\n",
       "\t LateAircraftDelay & 72 &  0.01229143 & 0.2312525 & 0.8704513\\\\\n",
       "\t DayOfWeek         & 72 &  0.09075233 & 0.2312525 & 0.8704513\\\\\n",
       "\t Month             & 72 & -0.07442037 & 0.2312525 & 0.8704513\\\\\n",
       "\t (Intercept)       & 73 &  1.70591922 & 0.2107087 & 0.8704616\\\\\n",
       "\t DepDelayMinutes   & 73 &  0.89721703 & 0.2107087 & 0.8704616\\\\\n",
       "\t CarrierDelay      & 73 &  0.03766031 & 0.2107087 & 0.8704616\\\\\n",
       "\t WeatherDelay      & 73 &  0.39789686 & 0.2107087 & 0.8704616\\\\\n",
       "\t NASDelay          & 73 &  0.43992670 & 0.2107087 & 0.8704616\\\\\n",
       "\t SecurityDelay     & 73 & -0.04399248 & 0.2107087 & 0.8704616\\\\\n",
       "\t LateAircraftDelay & 73 &  0.01142349 & 0.2107087 & 0.8704616\\\\\n",
       "\t DayOfWeek         & 73 &  0.09214362 & 0.2107087 & 0.8704616\\\\\n",
       "\t Month             & 73 & -0.07528481 & 0.2107087 & 0.8704616\\\\\n",
       "\t (Intercept)       & 74 &  1.69917676 & 0.1919899 & 0.8704701\\\\\n",
       "\t DepDelayMinutes   & 74 &  0.89826120 & 0.1919899 & 0.8704701\\\\\n",
       "\t CarrierDelay      & 74 &  0.03673924 & 0.1919899 & 0.8704701\\\\\n",
       "\t WeatherDelay      & 74 &  0.39972979 & 0.1919899 & 0.8704701\\\\\n",
       "\t NASDelay          & 74 &  0.43977335 & 0.1919899 & 0.8704701\\\\\n",
       "\t SecurityDelay     & 74 & -0.04618294 & 0.1919899 & 0.8704701\\\\\n",
       "\t LateAircraftDelay & 74 &  0.01062380 & 0.1919899 & 0.8704701\\\\\n",
       "\t DayOfWeek         & 74 &  0.09340708 & 0.1919899 & 0.8704701\\\\\n",
       "\t Month             & 74 & -0.07607116 & 0.1919899 & 0.8704701\\\\\n",
       "\\end{tabular}\n"
      ],
      "text/markdown": [
       "\n",
       "A tibble: 428 × 5\n",
       "\n",
       "| term &lt;chr&gt; | step &lt;dbl&gt; | estimate &lt;dbl&gt; | lambda &lt;dbl&gt; | dev.ratio &lt;dbl&gt; |\n",
       "|---|---|---|---|---|\n",
       "| (Intercept)     |  1 | 12.47385621 | 170.91232 | 0.00000000 |\n",
       "| (Intercept)     |  2 | 12.26768725 | 155.72894 | 0.03416364 |\n",
       "| DepDelayMinutes |  2 |  0.01969996 | 155.72894 | 0.03416364 |\n",
       "| (Intercept)     |  3 | 12.05089563 | 141.89441 | 0.06932733 |\n",
       "| DepDelayMinutes |  3 |  0.04041493 | 141.89441 | 0.06932733 |\n",
       "| (Intercept)     |  4 | 11.82364884 | 129.28890 | 0.10535029 |\n",
       "| DepDelayMinutes |  4 |  0.06212893 | 129.28890 | 0.10535029 |\n",
       "| (Intercept)     |  5 | 11.58622549 | 117.80323 | 0.14207178 |\n",
       "| DepDelayMinutes |  5 |  0.08481532 | 117.80323 | 0.14207178 |\n",
       "| (Intercept)     |  6 | 11.33902143 | 107.33792 | 0.17931280 |\n",
       "| DepDelayMinutes |  6 |  0.10843628 | 107.33792 | 0.17931280 |\n",
       "| (Intercept)     |  7 | 11.07203897 |  97.80231 | 0.22268837 |\n",
       "| DepDelayMinutes |  7 |  0.13100524 |  97.80231 | 0.22268837 |\n",
       "| CarrierDelay    |  7 |  0.01238228 |  97.80231 | 0.22268837 |\n",
       "| (Intercept)     |  8 | 10.79520283 |  89.11383 | 0.26754997 |\n",
       "| DepDelayMinutes |  8 |  0.15329354 |  89.11383 | 0.26754997 |\n",
       "| CarrierDelay    |  8 |  0.02990879 |  89.11383 | 0.26754997 |\n",
       "| (Intercept)     |  9 | 10.51459603 |  81.19720 | 0.31093868 |\n",
       "| DepDelayMinutes |  9 |  0.17604215 |  81.19720 | 0.31093868 |\n",
       "| CarrierDelay    |  9 |  0.04701435 |  81.19720 | 0.31093868 |\n",
       "| (Intercept)     | 10 | 10.23116241 |  73.98386 | 0.35266286 |\n",
       "| DepDelayMinutes | 10 |  0.19919197 |  73.98386 | 0.35266286 |\n",
       "| CarrierDelay    | 10 |  0.06356810 |  73.98386 | 0.35266286 |\n",
       "| (Intercept)     | 11 |  9.94586039 |  67.41134 | 0.39256038 |\n",
       "| DepDelayMinutes | 11 |  0.22268208 |  67.41134 | 0.39256038 |\n",
       "| CarrierDelay    | 11 |  0.07944104 |  67.41134 | 0.39256038 |\n",
       "| (Intercept)     | 12 |  9.65964645 |  61.42270 | 0.43050116 |\n",
       "| DepDelayMinutes | 12 |  0.24645070 |  61.42270 | 0.43050116 |\n",
       "| CarrierDelay    | 12 |  0.09450844 |  61.42270 | 0.43050116 |\n",
       "| (Intercept)     | 13 |  9.33152881 |  55.96608 | 0.46929473 |\n",
       "| ⋮ | ⋮ | ⋮ | ⋮ | ⋮ |\n",
       "| LateAircraftDelay | 71 |  0.01322538 | 0.2537994 | 0.8704391 |\n",
       "| DayOfWeek         | 71 |  0.08921531 | 0.2537994 | 0.8704391 |\n",
       "| Month             | 71 | -0.07346837 | 0.2537994 | 0.8704391 |\n",
       "| (Intercept)       | 72 |  1.71328982 | 0.2312525 | 0.8704513 |\n",
       "| DepDelayMinutes   | 72 |  0.89607973 | 0.2312525 | 0.8704513 |\n",
       "| CarrierDelay      | 72 |  0.03866133 | 0.2312525 | 0.8704513 |\n",
       "| WeatherDelay      | 72 |  0.39588382 | 0.2312525 | 0.8704513 |\n",
       "| NASDelay          | 72 |  0.44009044 | 0.2312525 | 0.8704513 |\n",
       "| SecurityDelay     | 72 | -0.04160024 | 0.2312525 | 0.8704513 |\n",
       "| LateAircraftDelay | 72 |  0.01229143 | 0.2312525 | 0.8704513 |\n",
       "| DayOfWeek         | 72 |  0.09075233 | 0.2312525 | 0.8704513 |\n",
       "| Month             | 72 | -0.07442037 | 0.2312525 | 0.8704513 |\n",
       "| (Intercept)       | 73 |  1.70591922 | 0.2107087 | 0.8704616 |\n",
       "| DepDelayMinutes   | 73 |  0.89721703 | 0.2107087 | 0.8704616 |\n",
       "| CarrierDelay      | 73 |  0.03766031 | 0.2107087 | 0.8704616 |\n",
       "| WeatherDelay      | 73 |  0.39789686 | 0.2107087 | 0.8704616 |\n",
       "| NASDelay          | 73 |  0.43992670 | 0.2107087 | 0.8704616 |\n",
       "| SecurityDelay     | 73 | -0.04399248 | 0.2107087 | 0.8704616 |\n",
       "| LateAircraftDelay | 73 |  0.01142349 | 0.2107087 | 0.8704616 |\n",
       "| DayOfWeek         | 73 |  0.09214362 | 0.2107087 | 0.8704616 |\n",
       "| Month             | 73 | -0.07528481 | 0.2107087 | 0.8704616 |\n",
       "| (Intercept)       | 74 |  1.69917676 | 0.1919899 | 0.8704701 |\n",
       "| DepDelayMinutes   | 74 |  0.89826120 | 0.1919899 | 0.8704701 |\n",
       "| CarrierDelay      | 74 |  0.03673924 | 0.1919899 | 0.8704701 |\n",
       "| WeatherDelay      | 74 |  0.39972979 | 0.1919899 | 0.8704701 |\n",
       "| NASDelay          | 74 |  0.43977335 | 0.1919899 | 0.8704701 |\n",
       "| SecurityDelay     | 74 | -0.04618294 | 0.1919899 | 0.8704701 |\n",
       "| LateAircraftDelay | 74 |  0.01062380 | 0.1919899 | 0.8704701 |\n",
       "| DayOfWeek         | 74 |  0.09340708 | 0.1919899 | 0.8704701 |\n",
       "| Month             | 74 | -0.07607116 | 0.1919899 | 0.8704701 |\n",
       "\n"
      ],
      "text/plain": [
       "    term              step estimate    lambda    dev.ratio \n",
       "1   (Intercept)        1   12.47385621 170.91232 0.00000000\n",
       "2   (Intercept)        2   12.26768725 155.72894 0.03416364\n",
       "3   DepDelayMinutes    2    0.01969996 155.72894 0.03416364\n",
       "4   (Intercept)        3   12.05089563 141.89441 0.06932733\n",
       "5   DepDelayMinutes    3    0.04041493 141.89441 0.06932733\n",
       "6   (Intercept)        4   11.82364884 129.28890 0.10535029\n",
       "7   DepDelayMinutes    4    0.06212893 129.28890 0.10535029\n",
       "8   (Intercept)        5   11.58622549 117.80323 0.14207178\n",
       "9   DepDelayMinutes    5    0.08481532 117.80323 0.14207178\n",
       "10  (Intercept)        6   11.33902143 107.33792 0.17931280\n",
       "11  DepDelayMinutes    6    0.10843628 107.33792 0.17931280\n",
       "12  (Intercept)        7   11.07203897  97.80231 0.22268837\n",
       "13  DepDelayMinutes    7    0.13100524  97.80231 0.22268837\n",
       "14  CarrierDelay       7    0.01238228  97.80231 0.22268837\n",
       "15  (Intercept)        8   10.79520283  89.11383 0.26754997\n",
       "16  DepDelayMinutes    8    0.15329354  89.11383 0.26754997\n",
       "17  CarrierDelay       8    0.02990879  89.11383 0.26754997\n",
       "18  (Intercept)        9   10.51459603  81.19720 0.31093868\n",
       "19  DepDelayMinutes    9    0.17604215  81.19720 0.31093868\n",
       "20  CarrierDelay       9    0.04701435  81.19720 0.31093868\n",
       "21  (Intercept)       10   10.23116241  73.98386 0.35266286\n",
       "22  DepDelayMinutes   10    0.19919197  73.98386 0.35266286\n",
       "23  CarrierDelay      10    0.06356810  73.98386 0.35266286\n",
       "24  (Intercept)       11    9.94586039  67.41134 0.39256038\n",
       "25  DepDelayMinutes   11    0.22268208  67.41134 0.39256038\n",
       "26  CarrierDelay      11    0.07944104  67.41134 0.39256038\n",
       "27  (Intercept)       12    9.65964645  61.42270 0.43050116\n",
       "28  DepDelayMinutes   12    0.24645070  61.42270 0.43050116\n",
       "29  CarrierDelay      12    0.09450844  61.42270 0.43050116\n",
       "30  (Intercept)       13    9.33152881  55.96608 0.46929473\n",
       "⋮   ⋮                 ⋮    ⋮           ⋮         ⋮         \n",
       "399 LateAircraftDelay 71    0.01322538 0.2537994 0.8704391 \n",
       "400 DayOfWeek         71    0.08921531 0.2537994 0.8704391 \n",
       "401 Month             71   -0.07346837 0.2537994 0.8704391 \n",
       "402 (Intercept)       72    1.71328982 0.2312525 0.8704513 \n",
       "403 DepDelayMinutes   72    0.89607973 0.2312525 0.8704513 \n",
       "404 CarrierDelay      72    0.03866133 0.2312525 0.8704513 \n",
       "405 WeatherDelay      72    0.39588382 0.2312525 0.8704513 \n",
       "406 NASDelay          72    0.44009044 0.2312525 0.8704513 \n",
       "407 SecurityDelay     72   -0.04160024 0.2312525 0.8704513 \n",
       "408 LateAircraftDelay 72    0.01229143 0.2312525 0.8704513 \n",
       "409 DayOfWeek         72    0.09075233 0.2312525 0.8704513 \n",
       "410 Month             72   -0.07442037 0.2312525 0.8704513 \n",
       "411 (Intercept)       73    1.70591922 0.2107087 0.8704616 \n",
       "412 DepDelayMinutes   73    0.89721703 0.2107087 0.8704616 \n",
       "413 CarrierDelay      73    0.03766031 0.2107087 0.8704616 \n",
       "414 WeatherDelay      73    0.39789686 0.2107087 0.8704616 \n",
       "415 NASDelay          73    0.43992670 0.2107087 0.8704616 \n",
       "416 SecurityDelay     73   -0.04399248 0.2107087 0.8704616 \n",
       "417 LateAircraftDelay 73    0.01142349 0.2107087 0.8704616 \n",
       "418 DayOfWeek         73    0.09214362 0.2107087 0.8704616 \n",
       "419 Month             73   -0.07528481 0.2107087 0.8704616 \n",
       "420 (Intercept)       74    1.69917676 0.1919899 0.8704701 \n",
       "421 DepDelayMinutes   74    0.89826120 0.1919899 0.8704701 \n",
       "422 CarrierDelay      74    0.03673924 0.1919899 0.8704701 \n",
       "423 WeatherDelay      74    0.39972979 0.1919899 0.8704701 \n",
       "424 NASDelay          74    0.43977335 0.1919899 0.8704701 \n",
       "425 SecurityDelay     74   -0.04618294 0.1919899 0.8704701 \n",
       "426 LateAircraftDelay 74    0.01062380 0.1919899 0.8704701 \n",
       "427 DayOfWeek         74    0.09340708 0.1919899 0.8704701 \n",
       "428 Month             74   -0.07607116 0.1919899 0.8704701 "
      ]
     },
     "metadata": {},
     "output_type": "display_data"
    }
   ],
   "source": [
    "# Write your code below and press Shift+Enter to execute \n",
    "flight_recipe <-\n",
    "  recipe(ArrDelayMinutes ~ ., data = train_data)\n",
    "\n",
    "el_spec <- linear_reg(penalty = 0.5, mixture = 0.2) %>%\n",
    "  set_engine(\"glmnet\")\n",
    "\n",
    "el_wf <- workflow() %>%\n",
    "  add_recipe(flight_recipe)\n",
    "\n",
    "el_fit <- el_wf %>%\n",
    "  add_model(el_spec) %>%\n",
    "  fit(data = train_data)\n",
    "\n",
    "el_fit %>%\n",
    "  pull_workflow_fit() %>%\n",
    "  tidy()"
   ]
  },
  {
   "cell_type": "markdown",
   "metadata": {},
   "source": [
    "<details>\n",
    "    <summary>Click here for the solution.</summary>\n",
    "\n",
    "```r\n",
    "flight_recipe <-\n",
    "  recipe(ArrDelayMinutes ~ ., data = train_data)\n",
    "\n",
    "el_spec <- linear_reg(penalty = 0.5, mixture = 0.2) %>%\n",
    "  set_engine(\"glmnet\")\n",
    "\n",
    "el_wf <- workflow() %>%\n",
    "  add_recipe(flight_recipe)\n",
    "\n",
    "el_fit <- el_wf %>%\n",
    "  add_model(el_spec) %>%\n",
    "  fit(data = train_data)\n",
    "\n",
    "el_fit %>%\n",
    "  pull_workflow_fit() %>%\n",
    "  tidy()\n",
    "```\n",
    "\n",
    "</details>\n"
   ]
  },
  {
   "cell_type": "markdown",
   "metadata": {},
   "source": [
    "### Comparing Regularization Types\n",
    "\n",
    "Now that you know more about regularization, it is also good to understand when you would use a techinque over the other. \n",
    "\n",
    "* **Lasso (L1)**: \n",
    "    * Pros: Lasso is primarily used for variable selection, that is, reducing the number of variables/features used in a model by shrinking the coefficients to zero. You would use this if you have many variables and think just a select few would will be useful in a final model. \n",
    "    * Cons: The downside of Lasso is that its variable selection is unstable, as in, for correlated variables it will arbitrarily select one. Additionally, if the number of data point (n) is less than the number of features (p), then Lasso can select at most n of the features.\n",
    "\n",
    "* **Ridge (L2)**: \n",
    "    * Pros: If you don’t want to reduce the number of variables, you can use this. Ridge also works well when there is multicollinearity in the features because it reduces the variance while increasing bias.\n",
    "    * Cons: Will not reduce the number of variables if that is your goal. Also, the bias in the model may be high.\n",
    "\n",
    "* **Elastic net (L1/L2)**: \n",
    "    * Pros: Elastic net combines the benefits of Lasso and Ridge. It solves some of the issues that Lasso has when doing variable selection because it works well when the variables are highly correlated and it can work when the number of variables is greater than the number of samples.\n",
    "    * Cons: May be computationally more expensive than Lasso or Ridge because it computes both L1 and L2 penalties.\n"
   ]
  },
  {
   "cell_type": "markdown",
   "metadata": {},
   "source": [
    "<a class=\"anchor\" id=\"grid\"></a>\n",
    "## Part 4: Grid Search\n",
    "\n",
    "The goal of grid search is to find the values of the hyperparameters that results in the best model. This is known as tuning hyperparameters. Hyperparameters are parameters that are not derived from training the model. For example: 𝜆 (or lambda) in ridge/lasso is a hyperparameter.\n",
    "\n",
    "Grid search takes a list of values for each hyperparameter it is tuning and iterates through each combination. It then uses every combination of parameters to produce a model. For each model, a metric like RMSE is calculated. You then determine the best value of the hyperparameters by choosing the model with the best RMSE. In R, you can use functions in tidymodels to run grid search.\n"
   ]
  },
  {
   "cell_type": "markdown",
   "metadata": {},
   "source": [
    "First, define the lasso model. In this example, we will be tuning a lasso model so `mixture = 1`. We will tune lambda, which is `penalty` in the function.\n"
   ]
  },
  {
   "cell_type": "code",
   "execution_count": 30,
   "metadata": {
    "tags": []
   },
   "outputs": [],
   "source": [
    "tune_spec <- linear_reg(penalty = tune(), mixture = 1) %>% \n",
    "  set_engine(\"glmnet\")\n",
    "\n",
    "lasso_wf <- workflow() %>%\n",
    "  add_recipe(flight_recipe)"
   ]
  },
  {
   "cell_type": "markdown",
   "metadata": {},
   "source": [
    "Next, define cross validation to resample the data:\n"
   ]
  },
  {
   "cell_type": "code",
   "execution_count": 31,
   "metadata": {
    "tags": []
   },
   "outputs": [],
   "source": [
    "flight_cvfolds <- vfold_cv(train_data)"
   ]
  },
  {
   "cell_type": "markdown",
   "metadata": {},
   "source": [
    "Now, you can set up the grid using `grid_regular()`. The `levels` are how many values to use and in `penalty()` you can specify the range of values to use. By default, the range values are inverse log transformed. This means that $-3$ is really $10^{-3}$ and $0.3$ is really $10^{0.3}$.\n"
   ]
  },
  {
   "cell_type": "code",
   "execution_count": 32,
   "metadata": {
    "tags": []
   },
   "outputs": [],
   "source": [
    "lambda_grid <- grid_regular(levels = 50,\n",
    "  penalty(range = c(-3, 0.3)))"
   ]
  },
  {
   "cell_type": "markdown",
   "metadata": {},
   "source": [
    "To tune the grid, use `tune_grid()` and include the lambda grid just specified.\n"
   ]
  },
  {
   "cell_type": "code",
   "execution_count": 33,
   "metadata": {
    "tags": []
   },
   "outputs": [],
   "source": [
    "lasso_grid <- tune_grid(\n",
    "    lasso_wf %>% add_model(tune_spec), \n",
    "    resamples = flight_cvfolds, \n",
    "    grid = lambda_grid)"
   ]
  },
  {
   "cell_type": "markdown",
   "metadata": {},
   "source": [
    "Finally, to view best results:\n"
   ]
  },
  {
   "cell_type": "code",
   "execution_count": 34,
   "metadata": {
    "tags": []
   },
   "outputs": [
    {
     "data": {
      "text/html": [
       "<table>\n",
       "<caption>A tibble: 5 × 6</caption>\n",
       "<thead>\n",
       "\t<tr><th scope=col>penalty</th><th scope=col>.metric</th><th scope=col>.estimator</th><th scope=col>mean</th><th scope=col>n</th><th scope=col>std_err</th></tr>\n",
       "\t<tr><th scope=col>&lt;dbl&gt;</th><th scope=col>&lt;chr&gt;</th><th scope=col>&lt;chr&gt;</th><th scope=col>&lt;dbl&gt;</th><th scope=col>&lt;int&gt;</th><th scope=col>&lt;dbl&gt;</th></tr>\n",
       "</thead>\n",
       "<tbody>\n",
       "\t<tr><td>1.708650</td><td>rmse</td><td>standard</td><td>13.39759</td><td>10</td><td>1.544575</td></tr>\n",
       "\t<tr><td>1.463208</td><td>rmse</td><td>standard</td><td>13.39985</td><td>10</td><td>1.562461</td></tr>\n",
       "\t<tr><td>1.253023</td><td>rmse</td><td>standard</td><td>13.40856</td><td>10</td><td>1.578315</td></tr>\n",
       "\t<tr><td>1.995262</td><td>rmse</td><td>standard</td><td>13.42091</td><td>10</td><td>1.539151</td></tr>\n",
       "\t<tr><td>1.073031</td><td>rmse</td><td>standard</td><td>13.42110</td><td>10</td><td>1.592327</td></tr>\n",
       "</tbody>\n",
       "</table>\n"
      ],
      "text/latex": [
       "A tibble: 5 × 6\n",
       "\\begin{tabular}{llllll}\n",
       " penalty & .metric & .estimator & mean & n & std\\_err\\\\\n",
       " <dbl> & <chr> & <chr> & <dbl> & <int> & <dbl>\\\\\n",
       "\\hline\n",
       "\t 1.708650 & rmse & standard & 13.39759 & 10 & 1.544575\\\\\n",
       "\t 1.463208 & rmse & standard & 13.39985 & 10 & 1.562461\\\\\n",
       "\t 1.253023 & rmse & standard & 13.40856 & 10 & 1.578315\\\\\n",
       "\t 1.995262 & rmse & standard & 13.42091 & 10 & 1.539151\\\\\n",
       "\t 1.073031 & rmse & standard & 13.42110 & 10 & 1.592327\\\\\n",
       "\\end{tabular}\n"
      ],
      "text/markdown": [
       "\n",
       "A tibble: 5 × 6\n",
       "\n",
       "| penalty &lt;dbl&gt; | .metric &lt;chr&gt; | .estimator &lt;chr&gt; | mean &lt;dbl&gt; | n &lt;int&gt; | std_err &lt;dbl&gt; |\n",
       "|---|---|---|---|---|---|\n",
       "| 1.708650 | rmse | standard | 13.39759 | 10 | 1.544575 |\n",
       "| 1.463208 | rmse | standard | 13.39985 | 10 | 1.562461 |\n",
       "| 1.253023 | rmse | standard | 13.40856 | 10 | 1.578315 |\n",
       "| 1.995262 | rmse | standard | 13.42091 | 10 | 1.539151 |\n",
       "| 1.073031 | rmse | standard | 13.42110 | 10 | 1.592327 |\n",
       "\n"
      ],
      "text/plain": [
       "  penalty  .metric .estimator mean     n  std_err \n",
       "1 1.708650 rmse    standard   13.39759 10 1.544575\n",
       "2 1.463208 rmse    standard   13.39985 10 1.562461\n",
       "3 1.253023 rmse    standard   13.40856 10 1.578315\n",
       "4 1.995262 rmse    standard   13.42091 10 1.539151\n",
       "5 1.073031 rmse    standard   13.42110 10 1.592327"
      ]
     },
     "metadata": {},
     "output_type": "display_data"
    }
   ],
   "source": [
    "show_best(lasso_grid, metric = \"rmse\")"
   ]
  },
  {
   "cell_type": "markdown",
   "metadata": {},
   "source": [
    "From the table and using RMSE as the metric, using lambda (penalty) equal to 1.46 gives the best result.\n",
    "\n",
    "Additionally, to visualize the RMSE results:\n"
   ]
  },
  {
   "cell_type": "code",
   "execution_count": 35,
   "metadata": {
    "tags": []
   },
   "outputs": [
    {
     "data": {},
     "metadata": {},
     "output_type": "display_data"
    },
    {
     "data": {
      "image/png": "[encoded data removed]",
      "text/plain": [
       "plot without title"
      ]
     },
     "metadata": {},
     "output_type": "display_data",
     "source": "R display func"
    }
   ],
   "source": [
    "lasso_grid %>%\n",
    "  collect_metrics() %>%\n",
    "  filter(.metric == \"rmse\") %>%\n",
    "  ggplot(aes(penalty, mean)) +\n",
    "  geom_line(size=1, color=\"red\") +\n",
    "  scale_x_log10() +\n",
    "  ggtitle(\"RMSE\")"
   ]
  },
  {
   "cell_type": "markdown",
   "metadata": {},
   "source": [
    "The dip in the RMSE graph corresponds to the best value for lambda. So again, we see that using lambda (penalty) of about 1.46 gives the best result.\n"
   ]
  },
  {
   "cell_type": "markdown",
   "metadata": {},
   "source": [
    "<div class=\"alert alert-danger alertdanger\" style=\"margin-top: 20px\">\n",
    "<h1> Question  #5): </h1>\n",
    "Perform a grid search for the lambda (penalty) parameter on ridge regression, then find the best values of the parameter.\n",
    "</div>\n"
   ]
  },
  {
   "cell_type": "code",
   "execution_count": 36,
   "metadata": {
    "tags": []
   },
   "outputs": [
    {
     "data": {
      "text/html": [
       "<table>\n",
       "<caption>A tibble: 5 × 6</caption>\n",
       "<thead>\n",
       "\t<tr><th scope=col>penalty</th><th scope=col>.metric</th><th scope=col>.estimator</th><th scope=col>mean</th><th scope=col>n</th><th scope=col>std_err</th></tr>\n",
       "\t<tr><th scope=col>&lt;dbl&gt;</th><th scope=col>&lt;chr&gt;</th><th scope=col>&lt;chr&gt;</th><th scope=col>&lt;dbl&gt;</th><th scope=col>&lt;int&gt;</th><th scope=col>&lt;dbl&gt;</th></tr>\n",
       "</thead>\n",
       "<tbody>\n",
       "\t<tr><td>0.001000000</td><td>rmse</td><td>standard</td><td>13.36074</td><td>10</td><td>2.063548</td></tr>\n",
       "\t<tr><td>0.001167742</td><td>rmse</td><td>standard</td><td>13.36074</td><td>10</td><td>2.063548</td></tr>\n",
       "\t<tr><td>0.001363622</td><td>rmse</td><td>standard</td><td>13.36074</td><td>10</td><td>2.063548</td></tr>\n",
       "\t<tr><td>0.001592358</td><td>rmse</td><td>standard</td><td>13.36074</td><td>10</td><td>2.063548</td></tr>\n",
       "\t<tr><td>0.001859464</td><td>rmse</td><td>standard</td><td>13.36074</td><td>10</td><td>2.063548</td></tr>\n",
       "</tbody>\n",
       "</table>\n"
      ],
      "text/latex": [
       "A tibble: 5 × 6\n",
       "\\begin{tabular}{llllll}\n",
       " penalty & .metric & .estimator & mean & n & std\\_err\\\\\n",
       " <dbl> & <chr> & <chr> & <dbl> & <int> & <dbl>\\\\\n",
       "\\hline\n",
       "\t 0.001000000 & rmse & standard & 13.36074 & 10 & 2.063548\\\\\n",
       "\t 0.001167742 & rmse & standard & 13.36074 & 10 & 2.063548\\\\\n",
       "\t 0.001363622 & rmse & standard & 13.36074 & 10 & 2.063548\\\\\n",
       "\t 0.001592358 & rmse & standard & 13.36074 & 10 & 2.063548\\\\\n",
       "\t 0.001859464 & rmse & standard & 13.36074 & 10 & 2.063548\\\\\n",
       "\\end{tabular}\n"
      ],
      "text/markdown": [
       "\n",
       "A tibble: 5 × 6\n",
       "\n",
       "| penalty &lt;dbl&gt; | .metric &lt;chr&gt; | .estimator &lt;chr&gt; | mean &lt;dbl&gt; | n &lt;int&gt; | std_err &lt;dbl&gt; |\n",
       "|---|---|---|---|---|---|\n",
       "| 0.001000000 | rmse | standard | 13.36074 | 10 | 2.063548 |\n",
       "| 0.001167742 | rmse | standard | 13.36074 | 10 | 2.063548 |\n",
       "| 0.001363622 | rmse | standard | 13.36074 | 10 | 2.063548 |\n",
       "| 0.001592358 | rmse | standard | 13.36074 | 10 | 2.063548 |\n",
       "| 0.001859464 | rmse | standard | 13.36074 | 10 | 2.063548 |\n",
       "\n"
      ],
      "text/plain": [
       "  penalty     .metric .estimator mean     n  std_err \n",
       "1 0.001000000 rmse    standard   13.36074 10 2.063548\n",
       "2 0.001167742 rmse    standard   13.36074 10 2.063548\n",
       "3 0.001363622 rmse    standard   13.36074 10 2.063548\n",
       "4 0.001592358 rmse    standard   13.36074 10 2.063548\n",
       "5 0.001859464 rmse    standard   13.36074 10 2.063548"
      ]
     },
     "metadata": {},
     "output_type": "display_data"
    }
   ],
   "source": [
    "# Write your code below and press Shift+Enter to execute \n",
    "tune_spec <- linear_reg(\n",
    "             penalty = tune(), \n",
    "             mixture = 0) %>% \n",
    "  set_engine(\"glmnet\")\n",
    "\n",
    "ridge_grid <- tune_grid(ridge_wf %>% \n",
    "    add_model(tune_spec), \n",
    "    resamples = flight_cvfolds, \n",
    "    grid = lambda_grid)\n",
    "\n",
    "show_best(ridge_grid, metric = \"rmse\")"
   ]
  },
  {
   "cell_type": "markdown",
   "metadata": {},
   "source": [
    "<details>\n",
    "    <summary>Click here for the solution.</summary>\n",
    "\n",
    "```r\n",
    "tune_spec <- linear_reg(\n",
    "             penalty = tune(), \n",
    "             mixture = 0) %>% \n",
    "  set_engine(\"glmnet\")\n",
    "\n",
    "ridge_grid <- tune_grid(ridge_wf %>% \n",
    "    add_model(tune_spec), \n",
    "    resamples = flight_cvfolds, \n",
    "    grid = lambda_grid)\n",
    "\n",
    "show_best(ridge_grid, metric = \"rmse\")\n",
    "```\n",
    "\n",
    "</details>\n"
   ]
  },
  {
   "cell_type": "markdown",
   "metadata": {},
   "source": [
    "<h1>Thank you for completing this notebook!</h1>\n",
    "\n",
    "Checkout the documentation here: https://www.tidymodels.org/.\n"
   ]
  },
  {
   "cell_type": "markdown",
   "metadata": {},
   "source": [
    "<h3>About the Authors:</h3>\n",
    "\n",
    "This notebook was written by <a href=\"https://www.linkedin.com/in/yiwen-li-47a019119/?utm_medium=Exinfluencer&utm_source=Exinfluencer&utm_content=000026UJ&utm_term=10006555&utm_id=NA-SkillsNetwork-Channel-SkillsNetworkCoursesIBMDA0151ENSkillsNetwork926-2023-01-01\">Yiwen Li</a> and <a href=\"https://www.linkedin.com/in/gabrieladequeiroz/?utm_medium=Exinfluencer&utm_source=Exinfluencer&utm_content=000026UJ&utm_term=10006555&utm_id=NA-SkillsNetwork-Channel-SkillsNetworkCoursesIBMDA0151ENSkillsNetwork926-2023-01-01\">Gabriela de Queiroz</a>.\n",
    "\n",
    "<p><a href=\"https://www.linkedin.com/in/yiwen-li-47a019119/?utm_medium=Exinfluencer&utm_source=Exinfluencer&utm_content=000026UJ&utm_term=10006555&utm_id=NA-SkillsNetwork-Channel-SkillsNetworkCoursesIBMDA0151ENSkillsNetwork926-2023-01-01\">Yiwen Li</a> has approximately three year experiences in big tech industry. Currently, she is a developer advocate, a data scientist, a product manager at IBM, where she designs and develops data science solutions and Machine Learning models to solve real world problems. She has delivered talks this year in JupyterCon, PyCon, Pyjamas, CrowdCast.ai, Global AI on Tour 2020 and Belpy 2021 with hundreds of attendants per talk. \n",
    "    \n",
    "<a href=\"https://www.linkedin.com/in/gabrieladequeiroz/?utm_medium=Exinfluencer&utm_source=Exinfluencer&utm_content=000026UJ&utm_term=10006555&utm_id=NA-SkillsNetwork-Channel-SkillsNetworkCoursesIBMDA0151ENSkillsNetwork926-2023-01-01\">Gabriela de Queiroz</a> is a Sr. Engineering & Data Science Manager at IBM where she manages and leads a team of developers working on Data & AI Open Source projects. She works to democratize AI by building tools and launching new open source projects.\n",
    "She is the founder of AI Inclusive, a global organization that is helping increase the representation and participation of gender minorities in Artificial Intelligence. She is also the founder of R-Ladies, a worldwide organization for promoting diversity in the R community with more than 190 chapters in 50+ countries.\n",
    "She has worked in several startups and where she built teams, developed statistical models, and employed a variety of techniques to derive insights and drive data-centric decisions\n"
   ]
  },
  {
   "cell_type": "markdown",
   "metadata": {},
   "source": [
    "<hr>\n",
    "<p>Copyright &copy; 2021 IBM Corporation. All rights reserved.</p>\n"
   ]
  }
 ],
 "metadata": {
  "kernelspec": {
   "display_name": "R",
   "language": "R",
   "name": "ir"
  },
  "language_info": {
   "codemirror_mode": "r",
   "file_extension": ".r",
   "mimetype": "text/x-r-source",
   "name": "R",
   "pygments_lexer": "r",
   "version": "4.2.1"
  }
 },
 "nbformat": 4,
 "nbformat_minor": 4
}
