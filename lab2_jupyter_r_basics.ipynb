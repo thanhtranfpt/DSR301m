{
 "cells": [
  {
   "cell_type": "markdown",
   "id": "59d16507-615b-4ad3-b112-ef30603328c4",
   "metadata": {},
   "source": [
    "<center>\n",
    "<img src=\"https://cf-courses-data.s3.us.cloud-object-storage.appdomain.cloud/IBMDeveloperSkillsNetwork-RP0101EN-Coursera/v2/M1_R_Basics/images/SN_web_lightmode.png\" width=\"300\"> \n",
    "<center/>\n"
   ]
  },
  {
   "cell_type": "markdown",
   "id": "1a65f6b1-95fb-4356-b996-86651ef5c15c",
   "metadata": {},
   "source": [
    "<h1>R Basics with Jupyter Notebook</h1>\n",
    "\n",
    "Estimated time needed: **15** minutes\n",
    "\n",
    "## Objectives\n",
    "\n",
    "After completing this lab you will be able to:\n",
    "\n",
    "-   Understand the sample dataset\n",
    "-   Create variables and perform basic math operations\n",
    "-   Perform basic strings operations\n"
   ]
  },
  {
   "cell_type": "markdown",
   "id": "d897874f-89c1-4046-9563-261cf7e2d315",
   "metadata": {},
   "source": [
    "## Table of Contents\n",
    "\n",
    "\n",
    "<ul>\n",
    "<li><a href=\"#About-the-Dataset\">About the Dataset</a></li>\n",
    "<li><a href=\"#Simple-Math-in-R\">Simple Math in R</a></li>\n",
    "<li><a href=\"#Variables-in-R\">Variables in R</a></li>\n",
    "<li><a href=\"#Strings-in-R\">Strings in R</a></li>\n",
    "</ul>\n",
    "\n",
    "<hr>\n"
   ]
  },
  {
   "cell_type": "markdown",
   "id": "d9f11805-8ef2-4b74-a1b6-1db5ffb6f048",
   "metadata": {},
   "source": [
    "<a id=\"ref0\"></a>\n",
    "<h2 align=center>About the Dataset</h2>\n"
   ]
  },
  {
   "cell_type": "markdown",
   "id": "34262979-092b-4bd7-9328-ccd509aa931b",
   "metadata": {},
   "source": [
    "Which movie should you watch next? \n",
    "\n",
    "Let's say each of your friends tells you their favorite movies. You do some research on the movies and put it all into a table. Now you can begin exploring the dataset, and asking questions about the movies. For example, you can check if movies from some certain genres tend to get better ratings. You can check how the production cost for movies changes across years, and much more. \n"
   ]
  },
  {
   "cell_type": "markdown",
   "id": "ffcd9b19-d572-4d2a-b7f1-0941b104b378",
   "metadata": {},
   "source": [
    "**Movies dataset**\n",
    "\n",
    "The table gathered includes one row for each movie, with several columns for each movie characteristic:\n",
    "\n",
    "- **name** - Name of the movie\n",
    "- **year** - Year the movie was released\n",
    "- **length_min** - Length of the movie (minutes)\n",
    "- **genre** - Genre of the movie\n",
    "- **average_rating** - Average rating on [IMDB](http://www.imdb.com/?utm_medium=Exinfluencer&utm_source=Exinfluencer&utm_content=000026UJ&utm_term=10006555&utm_id=NA-SkillsNetwork-Channel-SkillsNetworkCoursesIBMDeveloperSkillsNetworkRP0101ENCoursera889-2022-01-01)\n",
    "- **cost_millions** - Movie's production cost (millions in USD)\n",
    "- **foreign** - Is the movie foreign (1) or domestic (0)?\n",
    "- **age_restriction** - Age restriction for the movie\n",
    "<br>\n"
   ]
  },
  {
   "cell_type": "markdown",
   "id": "69f34390-c4b2-45da-b751-738fa1355bd2",
   "metadata": {},
   "source": [
    "<img src=\"https://ibm.box.com/shared/static/6kr8sg0n6pc40zd1xn6hjhtvy3k7cmeq.png\" width=\"90%\" align=\"left\">\n"
   ]
  },
  {
   "cell_type": "markdown",
   "id": "83257af5-fa63-4b9e-ba27-626b79d1240d",
   "metadata": {},
   "source": [
    "### We can use R to help us explore the dataset\n",
    "But to begin, we'll need to start from the basics, so let's get started!\n"
   ]
  },
  {
   "cell_type": "markdown",
   "id": "53e3c047-1ac8-42ea-b8e1-53277df4d7f5",
   "metadata": {},
   "source": [
    "<hr>\n"
   ]
  },
  {
   "cell_type": "markdown",
   "id": "d56825b2-f683-4001-a453-679f52c636f9",
   "metadata": {},
   "source": [
    "<a id=\"ref1\"></a>\n",
    "<h2 align=center> Simple Math in R </h2>\n"
   ]
  },
  {
   "cell_type": "markdown",
   "id": "8e2c93b1-c8b9-4398-906f-96f2f911b583",
   "metadata": {},
   "source": [
    "Let's say you want to watch *Fight Club* and *Star Wars: Episode IV (1977)*, back-to-back. Do you have enough time to **watch both movies in 4 hours?** Let's try using simple math in R.  \n"
   ]
  },
  {
   "cell_type": "markdown",
   "id": "bae762d3-8c9b-46f1-8f1a-68b0fd2472cc",
   "metadata": {},
   "source": [
    "What is the **total movie length** for Fight Club and Star Wars (1977)?\n",
    "- **Fight Club**: 139 min\n",
    "- **Star Wars: Episode IV**: 121 min\n"
   ]
  },
  {
   "cell_type": "markdown",
   "id": "0db81086-8ff5-4501-8a5c-f5748506ef8b",
   "metadata": {},
   "source": [
    "<div class=\"alert alert-success alertsuccess\" style=\"margin-top: 20px\">\n",
    "Tip: To run the grey code cell below, click on it, and press Shift + Enter.\n",
    "</div>\n"
   ]
  },
  {
   "cell_type": "code",
   "execution_count": 1,
   "id": "6b92070d-c556-4ee8-a0cc-dcbd64168fd2",
   "metadata": {},
   "outputs": [
    {
     "data": {
      "text/html": [
       "260"
      ],
      "text/latex": [
       "260"
      ],
      "text/markdown": [
       "260"
      ],
      "text/plain": [
       "[1] 260"
      ]
     },
     "metadata": {},
     "output_type": "display_data"
    }
   ],
   "source": [
    "139 + 121 "
   ]
  },
  {
   "cell_type": "markdown",
   "id": "1f12580b-ea4a-4157-b704-2ae18743b397",
   "metadata": {},
   "source": [
    "Great! You've determined that the total number of movie play time is **260 min**.  \n"
   ]
  },
  {
   "cell_type": "markdown",
   "id": "ba01bed2-f6a0-46e8-857b-37c92e43d475",
   "metadata": {},
   "source": [
    "**What is 260 min in hours?**\n"
   ]
  },
  {
   "cell_type": "code",
   "execution_count": 2,
   "id": "84c14410-451b-44c8-b472-15f76f38e035",
   "metadata": {},
   "outputs": [
    {
     "data": {
      "text/html": [
       "4.33333333333333"
      ],
      "text/latex": [
       "4.33333333333333"
      ],
      "text/markdown": [
       "4.33333333333333"
      ],
      "text/plain": [
       "[1] 4.333333"
      ]
     },
     "metadata": {},
     "output_type": "display_data"
    }
   ],
   "source": [
    "260 / 60"
   ]
  },
  {
   "cell_type": "markdown",
   "id": "81724e41-793d-49fb-817a-d574a7643bd0",
   "metadata": {},
   "source": [
    "Well, it looks like it's **over 4 hours**, which means you can't watch *Fight Club* and *Star Wars (1977)* back-to-back if you only have 4 hours available!\n"
   ]
  },
  {
   "cell_type": "markdown",
   "id": "4dcdc133-1d83-4836-87b3-78b172b09b75",
   "metadata": {},
   "source": [
    "<hr></hr>\n",
    "<div class=\"alert alert-success alertsuccess\" style=\"margin-top: 20px\">\n",
    "<h4> [Tip] Simple math in R </h4>\n",
    "<p></p>\n",
    "You can do a variety of mathematical operations in R including:  \n",
    "<li> addition: $2 + 2$ </li>\n",
    "<li> subtraction: $5 - 2$ </li>\n",
    "<li> multiplication: $3*2$ </li>\n",
    "<li> division: $4 / 2$ </li>\n",
    "<li> exponentiation: $4 ** 2$ or $4 ^ 2$ </li>\n",
    "</div>\n"
   ]
  },
  {
   "cell_type": "markdown",
   "id": "86e6a801-2f1f-4a5a-975d-2a3d27272534",
   "metadata": {},
   "source": [
    "<a id=\"ref2\"></a>\n",
    "<h2 align=center> Variables in R </h2>\n"
   ]
  },
  {
   "cell_type": "markdown",
   "id": "e9aac929-fbe9-4935-9005-1094ba6f2d91",
   "metadata": {},
   "source": [
    "We can also **store** our output in **variables**, so we can use them later on. For example:\n"
   ]
  },
  {
   "cell_type": "code",
   "execution_count": 3,
   "id": "07a60a67-99a4-4ecf-aafe-f4de5f954134",
   "metadata": {},
   "outputs": [],
   "source": [
    "x <- 139 + 121"
   ]
  },
  {
   "cell_type": "markdown",
   "id": "c4e35059-4c74-4d40-902e-98dfb902b176",
   "metadata": {},
   "source": [
    "To return the value of **`x`**, we can simply run the variable as a command:\n"
   ]
  },
  {
   "cell_type": "code",
   "execution_count": 4,
   "id": "a7673ea7-0956-41c4-b598-178b99eb4b35",
   "metadata": {},
   "outputs": [
    {
     "data": {
      "text/html": [
       "260"
      ],
      "text/latex": [
       "260"
      ],
      "text/markdown": [
       "260"
      ],
      "text/plain": [
       "[1] 260"
      ]
     },
     "metadata": {},
     "output_type": "display_data"
    }
   ],
   "source": [
    "x"
   ]
  },
  {
   "cell_type": "markdown",
   "id": "6336b939-f930-474a-83e6-b26bb8036776",
   "metadata": {},
   "source": [
    "You can check its variable type using `class()` function\n"
   ]
  },
  {
   "cell_type": "code",
   "execution_count": 5,
   "id": "a1f6b5bf-61a5-4aab-8cf9-b703488136f3",
   "metadata": {},
   "outputs": [
    {
     "data": {
      "text/html": [
       "'numeric'"
      ],
      "text/latex": [
       "'numeric'"
      ],
      "text/markdown": [
       "'numeric'"
      ],
      "text/plain": [
       "[1] \"numeric\""
      ]
     },
     "metadata": {},
     "output_type": "display_data"
    }
   ],
   "source": [
    "class(x)"
   ]
  },
  {
   "cell_type": "markdown",
   "id": "ebee4204-12c5-4eac-b3e0-51809a7fdaa1",
   "metadata": {},
   "source": [
    "And cast the type of `x` to character\n"
   ]
  },
  {
   "cell_type": "code",
   "execution_count": 6,
   "id": "a511d476-2698-41bb-888a-4a106daf460d",
   "metadata": {},
   "outputs": [
    {
     "data": {
      "text/html": [
       "'character'"
      ],
      "text/latex": [
       "'character'"
      ],
      "text/markdown": [
       "'character'"
      ],
      "text/plain": [
       "[1] \"character\""
      ]
     },
     "metadata": {},
     "output_type": "display_data"
    }
   ],
   "source": [
    "x_char <- as.character(x)\n",
    "class(x_char)"
   ]
  },
  {
   "cell_type": "markdown",
   "id": "c2c236c7-142c-43b6-9e3c-8a0cbb1b8a43",
   "metadata": {},
   "source": [
    "And cast it back to numeric\n"
   ]
  },
  {
   "cell_type": "code",
   "execution_count": 7,
   "id": "6f8ce807-a3c1-4948-a2b1-7e69b1fa70a7",
   "metadata": {},
   "outputs": [
    {
     "data": {
      "text/html": [
       "'numeric'"
      ],
      "text/latex": [
       "'numeric'"
      ],
      "text/markdown": [
       "'numeric'"
      ],
      "text/plain": [
       "[1] \"numeric\""
      ]
     },
     "metadata": {},
     "output_type": "display_data"
    }
   ],
   "source": [
    "x_num <- as.numeric(x_char)\n",
    "class(x_num)"
   ]
  },
  {
   "cell_type": "markdown",
   "id": "00a1f94b-85cd-48e1-bb62-246d0c63efb9",
   "metadata": {},
   "source": [
    "We can also perform operations on **`x`** and save the result to a **new variable**:\n"
   ]
  },
  {
   "cell_type": "code",
   "execution_count": 8,
   "id": "00625f2a-35f9-486e-8ed7-6ffad45ecd21",
   "metadata": {},
   "outputs": [
    {
     "data": {
      "text/html": [
       "4.33333333333333"
      ],
      "text/latex": [
       "4.33333333333333"
      ],
      "text/markdown": [
       "4.33333333333333"
      ],
      "text/plain": [
       "[1] 4.333333"
      ]
     },
     "metadata": {},
     "output_type": "display_data"
    }
   ],
   "source": [
    "y <- x / 60\n",
    "y"
   ]
  },
  {
   "cell_type": "markdown",
   "id": "9a327152-0372-4be9-bd2a-d0f182cc0d84",
   "metadata": {},
   "source": [
    "If we save something to an **existing variable**, it will **overwrite** the previous value:\n"
   ]
  },
  {
   "cell_type": "code",
   "execution_count": 9,
   "id": "b89dd843-02e5-43a0-b1a4-d026a417db8b",
   "metadata": {},
   "outputs": [
    {
     "data": {
      "text/html": [
       "4.33333333333333"
      ],
      "text/latex": [
       "4.33333333333333"
      ],
      "text/markdown": [
       "4.33333333333333"
      ],
      "text/plain": [
       "[1] 4.333333"
      ]
     },
     "metadata": {},
     "output_type": "display_data"
    }
   ],
   "source": [
    "x <- x / 60\n",
    "x"
   ]
  },
  {
   "cell_type": "markdown",
   "id": "a0b69728-6d03-4fca-a5eb-e690c8921ced",
   "metadata": {},
   "source": [
    "It's good practice to use **meaningful variable names**, so you don't have to keep track of what variable is what:\n"
   ]
  },
  {
   "cell_type": "code",
   "execution_count": 10,
   "id": "9d01b4f3-4a37-4167-b292-418164d7b401",
   "metadata": {},
   "outputs": [
    {
     "data": {
      "text/html": [
       "260"
      ],
      "text/latex": [
       "260"
      ],
      "text/markdown": [
       "260"
      ],
      "text/plain": [
       "[1] 260"
      ]
     },
     "metadata": {},
     "output_type": "display_data"
    }
   ],
   "source": [
    "total <- 139 + 121\n",
    "total"
   ]
  },
  {
   "cell_type": "code",
   "execution_count": 11,
   "id": "0bce325d-8deb-4ede-bdb7-d59dbdcef268",
   "metadata": {},
   "outputs": [
    {
     "data": {
      "text/html": [
       "4.33333333333333"
      ],
      "text/latex": [
       "4.33333333333333"
      ],
      "text/markdown": [
       "4.33333333333333"
      ],
      "text/plain": [
       "[1] 4.333333"
      ]
     },
     "metadata": {},
     "output_type": "display_data"
    }
   ],
   "source": [
    "total_hr <- total / 60\n",
    "total_hr"
   ]
  },
  {
   "cell_type": "markdown",
   "id": "28d06de6-3246-4d84-a769-c71c06079926",
   "metadata": {},
   "source": [
    "You can put this all into a single expression, but remember to use **round brackets** to add together the movie lengths first, before dividing by 60.\n"
   ]
  },
  {
   "cell_type": "code",
   "execution_count": 12,
   "id": "9c0f83db-1ccb-4b1c-bb7f-59dac18d78a0",
   "metadata": {},
   "outputs": [
    {
     "data": {
      "text/html": [
       "4.33333333333333"
      ],
      "text/latex": [
       "4.33333333333333"
      ],
      "text/markdown": [
       "4.33333333333333"
      ],
      "text/plain": [
       "[1] 4.333333"
      ]
     },
     "metadata": {},
     "output_type": "display_data"
    }
   ],
   "source": [
    "total_hr <- (139 + 121) / 60\n",
    "total_hr"
   ]
  },
  {
   "cell_type": "markdown",
   "id": "3313cefb-936a-4e5b-9ff7-dcaf602c86e2",
   "metadata": {},
   "source": [
    "<hr></hr>\n",
    "<div class=\"alert alert-success alertsuccess\" style=\"margin-top: 0px\">\n",
    "<h4> [Tip] Variables in R </h4>\n",
    "<p></p>\n",
    "As you just learned, you can use variables to store values for repeated use. Here are some more characteristics of variables in R:\n",
    "<li>variables store the output of a block of code </li>\n",
    "<li>variables are typically assigned using $<-$, but can also be assigned using $=$, as in x $<-$ 1 or $x = 1$ </li>\n",
    "<li>once created, variables can be removed from memory using `rm(my_variable)`  </li>\n",
    "<p></p>\n",
    "</div>\n"
   ]
  },
  {
   "cell_type": "markdown",
   "id": "d84cb0e2-bae2-45f3-854d-907145607a1f",
   "metadata": {},
   "source": [
    "<hr>\n",
    "\n",
    "**Coding Exercise:** in the code cell below, calculate how much longer is 139 minutes comparing to 121 minutes, in seconds\n"
   ]
  },
  {
   "cell_type": "code",
   "execution_count": 13,
   "id": "9f8902d7-1360-4829-9653-87bc5c3fd81a",
   "metadata": {},
   "outputs": [
    {
     "data": {
      "text/html": [
       "18"
      ],
      "text/latex": [
       "18"
      ],
      "text/markdown": [
       "18"
      ],
      "text/plain": [
       "[1] 18"
      ]
     },
     "metadata": {},
     "output_type": "display_data"
    }
   ],
   "source": [
    "# Write your code below. Don't forget to press Shift+Enter to execute the cell\n",
    "139-121"
   ]
  },
  {
   "cell_type": "markdown",
   "id": "8b341716-0509-407b-a3d6-e80962bac3a8",
   "metadata": {},
   "source": [
    "<details><summary>Click here for the solution</summary>\n",
    "\n",
    "```R\n",
    "(139 - 121) * 60\n",
    "\n",
    "```\n",
    "\n",
    "</details>\n",
    "\n",
    "<hr>\n"
   ]
  },
  {
   "cell_type": "markdown",
   "id": "9d0ffe19-da34-488d-835d-5a525703d759",
   "metadata": {},
   "source": [
    "<a id=\"ref4\"></a>\n",
    "<h2 align=center>Strings in R</h2>\n"
   ]
  },
  {
   "cell_type": "markdown",
   "id": "d0715281-639c-4a50-bf21-07fdbfb48c1f",
   "metadata": {},
   "source": [
    "R isn't just about numbers -- we can also have strings too. For example:\n"
   ]
  },
  {
   "cell_type": "code",
   "execution_count": 14,
   "id": "95f871d4-6c39-4d91-b79d-76410dd3fc01",
   "metadata": {},
   "outputs": [
    {
     "data": {
      "text/html": [
       "'Toy Story'"
      ],
      "text/latex": [
       "'Toy Story'"
      ],
      "text/markdown": [
       "'Toy Story'"
      ],
      "text/plain": [
       "[1] \"Toy Story\""
      ]
     },
     "metadata": {},
     "output_type": "display_data"
    }
   ],
   "source": [
    "movie <- \"Toy Story\"\n",
    "movie"
   ]
  },
  {
   "cell_type": "markdown",
   "id": "2b13f4f7-cd41-478f-87bc-c00392cfed41",
   "metadata": {},
   "source": [
    "In R, you can identify **character strings** when they are wrapped with **matching double (\") or single (') quotes**.\n"
   ]
  },
  {
   "cell_type": "markdown",
   "id": "5498aeee-8103-42f7-b793-d8d5e86cfa14",
   "metadata": {},
   "source": [
    "You can also check its class using `class()` function\n"
   ]
  },
  {
   "cell_type": "code",
   "execution_count": 15,
   "id": "0854de20-715b-4b07-b28e-039021de9523",
   "metadata": {},
   "outputs": [
    {
     "data": {
      "text/html": [
       "'character'"
      ],
      "text/latex": [
       "'character'"
      ],
      "text/markdown": [
       "'character'"
      ],
      "text/plain": [
       "[1] \"character\""
      ]
     },
     "metadata": {},
     "output_type": "display_data"
    }
   ],
   "source": [
    "class(movie)"
   ]
  },
  {
   "cell_type": "markdown",
   "id": "049c1561-3604-48d8-9cb4-b5cf2997e5ef",
   "metadata": {},
   "source": [
    "If you try to cast it into numeric, R will give you an error because 'Toy Story' is not number\n"
   ]
  },
  {
   "cell_type": "code",
   "execution_count": 16,
   "id": "47b7b467-a33a-4f6f-93c1-9c65e1ff750a",
   "metadata": {},
   "outputs": [
    {
     "name": "stderr",
     "output_type": "stream",
     "text": [
      "Warning message in eval(expr, envir, enclos):\n",
      "\"NAs introduced by coercion\"\n"
     ]
    },
    {
     "data": {
      "text/html": [
       "&lt;NA&gt;"
      ],
      "text/latex": [
       "<NA>"
      ],
      "text/markdown": [
       "&lt;NA&gt;"
      ],
      "text/plain": [
       "[1] NA"
      ]
     },
     "metadata": {},
     "output_type": "display_data"
    }
   ],
   "source": [
    "as.numeric(movie)"
   ]
  },
  {
   "cell_type": "markdown",
   "id": "b0073db5-9112-4902-bb20-774c4a40d91d",
   "metadata": {},
   "source": [
    "#### Scaling R with big data\n"
   ]
  },
  {
   "cell_type": "markdown",
   "id": "169dbdb5-8be6-4ac1-a5e9-d0e30bb2a61b",
   "metadata": {},
   "source": [
    "As you learn more about R, if you are interested in exploring platforms that can help you run analyses at scale, you might want to sign up for a free account on [IBM Watson Studio](http://cocl.us/dsx_rp0101en), which allows you to run analyses in R with two Spark executors for free.\n"
   ]
  },
  {
   "cell_type": "markdown",
   "id": "9952c8af-0616-4a2d-a6a5-852885836a3a",
   "metadata": {},
   "source": [
    "<hr>\n"
   ]
  },
  {
   "cell_type": "markdown",
   "id": "e2e854af-d8a4-43a0-9364-ef2dd9eca029",
   "metadata": {},
   "source": [
    "### Excellent! You have just completed the R basics notebook! \n"
   ]
  },
  {
   "cell_type": "markdown",
   "id": "1d9b57fa-7316-4b21-980e-ef3067a972fd",
   "metadata": {},
   "source": [
    "## Authors\n",
    "Hi! It's [Marta Aghili](https://ca.linkedin.com/in/marta-aghili-2b184b71?utm_medium=Exinfluencer&utm_source=Exinfluencer&utm_content=000026UJ&utm_term=10006555&utm_id=NA-SkillsNetwork-Channel-SkillsNetworkCoursesIBMDeveloperSkillsNetworkRP0101ENCoursera889-2022-01-01), the author of this notebook. I hope you found R easy to learn! There's lots more to learn about R but you're well on your way. Feel free to connect with me if you have any questions.\n"
   ]
  },
  {
   "cell_type": "markdown",
   "id": "5718d833-8f80-40d9-a49b-84f74eee5cef",
   "metadata": {},
   "source": [
    "### Other Contributors\n",
    "\n",
    "<a href=\"https://www.linkedin.com/in/yan-luo-96288783/?utm_medium=Exinfluencer&utm_source=Exinfluencer&utm_content=000026UJ&utm_term=10006555&utm_id=NA-SkillsNetwork-Channel-SkillsNetworkCoursesIBMDeveloperSkillsNetworkRP0101ENCoursera889-2022-01-01\">Yan Luo</a>\n"
   ]
  },
  {
   "cell_type": "markdown",
   "id": "10c46609-bde3-4319-accb-3d21aa955d4a",
   "metadata": {},
   "source": [
    "## Change Log\n",
    "\n",
    "| Date (YYYY-MM-DD) | Version | Changed By | Change Description           |\n",
    "| ----------------- | ------- | ---------- | ---------------------------- |\n",
    "| 2021-03-02        | 2.0     | Yan        | Added coding tasks           |\n",
    "|                   |         |            |                              |\n",
    "|                   |         |            |                              |\n",
    "\n",
    "## <h3 align=\"center\"> © IBM Corporation 2021. All rights reserved. <h3/>\n"
   ]
  }
 ],
 "metadata": {
  "kernelspec": {
   "display_name": "R",
   "language": "R",
   "name": "ir"
  },
  "language_info": {
   "codemirror_mode": "r",
   "file_extension": ".r",
   "mimetype": "text/x-r-source",
   "name": "R",
   "pygments_lexer": "r",
   "version": "4.2.1"
  }
 },
 "nbformat": 4,
 "nbformat_minor": 4
}
