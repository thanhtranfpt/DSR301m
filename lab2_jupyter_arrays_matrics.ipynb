{
 "cells": [
  {
   "cell_type": "markdown",
   "id": "f3593300-aa1f-4757-84cc-509728a61969",
   "metadata": {},
   "source": [
    "<center>\n",
    "<img src=\"https://cf-courses-data.s3.us.cloud-object-storage.appdomain.cloud/IBMDeveloperSkillsNetwork-RP0101EN-Coursera/v2/M1_R_Basics/images/SN_web_lightmode.png\" width=\"300\"> \n",
    "<center/>\n"
   ]
  },
  {
   "cell_type": "markdown",
   "id": "b96acaf2-f7cb-4df6-907c-d2ceb97401c6",
   "metadata": {},
   "source": [
    "<h1>Arrays and Matrices</h1>\n",
    "\n",
    "Estimated time needed: **20** minutes\n",
    "\n",
    "## Objectives\n",
    "\n",
    "After completing this lab you will be able to:\n",
    "\n",
    "-   Understand what is an array by coding practices\n",
    "-   Operate on arrays\n",
    "-   Understand what is a matrix by coding practices\n",
    "-   Operate on matrices\n"
   ]
  },
  {
   "cell_type": "markdown",
   "id": "f7de10f3-81f8-478a-bbd8-8f6ed9d78588",
   "metadata": {},
   "source": [
    "## Table of Contents\n",
    "\n",
    "<strong>This lesson will cover some basics concepts about vector and factors in R:</strong>\n",
    "\n",
    "<ul>\n",
    "<li> <a href=\"#What-is-an-Array?\">What is an Array?</a> </li>\n",
    "<li> <a href=\"#Array-Indexing\">Array Indexing</a> </li>\n",
    "<li> <a href=\"#What-is-a-Matrix?\">What is a Matrix?</a> </li>\n",
    "<li> <a href=\"#Concatenation-Function\">Concatenation Function</a> </li>\n",
    "\n",
    "</ul>\n",
    "<br>\n"
   ]
  },
  {
   "cell_type": "markdown",
   "id": "e0b064d1-8c44-41e7-a912-6eba50f65c84",
   "metadata": {},
   "source": [
    "<a id=\"ref0\"></a>\n",
    "\n",
    "# About the Dataset\n",
    "\n",
    "Imagine you got many movie recomendations from your friends and compiled all of the recomendations in a table, with specific info about each movie.\n",
    "\n",
    "The table has one row for each movie and several columns\n",
    "\n",
    "-   **name** - The name of the movie\n",
    "-   **year** - The year the movie was released\n",
    "-   **length_min** - The lenght of the movie in minutes\n",
    "-   **genre** - The genre of the movie\n",
    "-   **average_rating** - Average rating on Imdb\n",
    "-   **cost_millions** - The movie's production cost in millions\n",
    "-   **sequences** - The amount of sequences\n",
    "-   **foreign** - Indicative of whether the movie is foreign (1) or domestic (0)\n",
    "-   **age_restriction** - The age restriction for the movie\n",
    "    <br>\n",
    "\n",
    "You can see part of the dataset below\n",
    "\n",
    "<img src=\"https://ibm.box.com/shared/static/6kr8sg0n6pc40zd1xn6hjhtvy3k7cmeq.png\" align=\"center\">\n"
   ]
  },
  {
   "cell_type": "markdown",
   "id": "a44d1789-8c3f-47b5-b93b-e6acb425b1b5",
   "metadata": {},
   "source": [
    "<h2>What is an Array?</h2>\n",
    "<br>\n",
    "\n",
    "An array is a data structure that holds values grouped together, like a 2 x 2 table of 2 rows and 2 columns. Arrays can also be **multidimensional**, such as a 2 x 2 x 2 array.\n"
   ]
  },
  {
   "cell_type": "markdown",
   "id": "88795963-a58e-4e05-9356-2cf04d759c3a",
   "metadata": {},
   "source": [
    "#### What is the difference between an array and a vector?\n",
    "\n",
    "Vectors are always one dimensional like a single row of data. On the other hand, an array can be multidimensional (stored as rows and columns). The \"dimension\" indicates how many rows of data there are.\n"
   ]
  },
  {
   "cell_type": "markdown",
   "id": "bcfed98d-66ba-413f-a220-a12386ac57a2",
   "metadata": {},
   "source": [
    "#### Let's create a 4 x 3 array (4 rows, 3 columns)\n",
    "\n",
    "The example below is a vector of 9 movie names, hence the data type is the same for all the elements.\n"
   ]
  },
  {
   "cell_type": "code",
   "execution_count": 1,
   "id": "7217371f-c752-4b86-a101-2fc58aabc3ec",
   "metadata": {},
   "outputs": [
    {
     "data": {
      "text/html": [
       "<style>\n",
       ".list-inline {list-style: none; margin:0; padding: 0}\n",
       ".list-inline>li {display: inline-block}\n",
       ".list-inline>li:not(:last-child)::after {content: \"\\00b7\"; padding: 0 .5ex}\n",
       "</style>\n",
       "<ol class=list-inline><li>'Akira'</li><li>'Toy Story'</li><li>'Room'</li><li>'The Wave'</li><li>'Whiplash'</li><li>'Star Wars'</li><li>'The Ring'</li><li>'The Artist'</li><li>'Jumanji'</li></ol>\n"
      ],
      "text/latex": [
       "\\begin{enumerate*}\n",
       "\\item 'Akira'\n",
       "\\item 'Toy Story'\n",
       "\\item 'Room'\n",
       "\\item 'The Wave'\n",
       "\\item 'Whiplash'\n",
       "\\item 'Star Wars'\n",
       "\\item 'The Ring'\n",
       "\\item 'The Artist'\n",
       "\\item 'Jumanji'\n",
       "\\end{enumerate*}\n"
      ],
      "text/markdown": [
       "1. 'Akira'\n",
       "2. 'Toy Story'\n",
       "3. 'Room'\n",
       "4. 'The Wave'\n",
       "5. 'Whiplash'\n",
       "6. 'Star Wars'\n",
       "7. 'The Ring'\n",
       "8. 'The Artist'\n",
       "9. 'Jumanji'\n",
       "\n",
       "\n"
      ],
      "text/plain": [
       "[1] \"Akira\"      \"Toy Story\"  \"Room\"       \"The Wave\"   \"Whiplash\"  \n",
       "[6] \"Star Wars\"  \"The Ring\"   \"The Artist\" \"Jumanji\"   "
      ]
     },
     "metadata": {},
     "output_type": "display_data"
    }
   ],
   "source": [
    "#lets first create a vector of nine movies\n",
    "movie_vector <- c(\"Akira\", \"Toy Story\", \"Room\", \"The Wave\", \"Whiplash\",\n",
    "                  \"Star Wars\", \"The Ring\", \"The Artist\", \"Jumanji\")\n",
    "movie_vector"
   ]
  },
  {
   "cell_type": "markdown",
   "id": "0a9c3fee-5f93-4ecc-9fa6-3d8b19bab032",
   "metadata": {},
   "source": [
    "To create an array, we can use the **array()** function.\n"
   ]
  },
  {
   "cell_type": "code",
   "execution_count": 2,
   "id": "4c47cd98-c9dc-4e61-b666-a94ae36367b3",
   "metadata": {},
   "outputs": [
    {
     "data": {
      "text/html": [
       "<table class=\"dataframe\">\n",
       "<caption>A matrix: 4 × 3 of type chr</caption>\n",
       "<tbody>\n",
       "\t<tr><td>Akira    </td><td>Whiplash  </td><td>Jumanji  </td></tr>\n",
       "\t<tr><td>Toy Story</td><td>Star Wars </td><td>Akira    </td></tr>\n",
       "\t<tr><td>Room     </td><td>The Ring  </td><td>Toy Story</td></tr>\n",
       "\t<tr><td>The Wave </td><td>The Artist</td><td>Room     </td></tr>\n",
       "</tbody>\n",
       "</table>\n"
      ],
      "text/latex": [
       "A matrix: 4 × 3 of type chr\n",
       "\\begin{tabular}{lll}\n",
       "\t Akira     & Whiplash   & Jumanji  \\\\\n",
       "\t Toy Story & Star Wars  & Akira    \\\\\n",
       "\t Room      & The Ring   & Toy Story\\\\\n",
       "\t The Wave  & The Artist & Room     \\\\\n",
       "\\end{tabular}\n"
      ],
      "text/markdown": [
       "\n",
       "A matrix: 4 × 3 of type chr\n",
       "\n",
       "| Akira     | Whiplash   | Jumanji   |\n",
       "| Toy Story | Star Wars  | Akira     |\n",
       "| Room      | The Ring   | Toy Story |\n",
       "| The Wave  | The Artist | Room      |\n",
       "\n"
      ],
      "text/plain": [
       "     [,1]      [,2]       [,3]     \n",
       "[1,] Akira     Whiplash   Jumanji  \n",
       "[2,] Toy Story Star Wars  Akira    \n",
       "[3,] Room      The Ring   Toy Story\n",
       "[4,] The Wave  The Artist Room     "
      ]
     },
     "metadata": {},
     "output_type": "display_data"
    }
   ],
   "source": [
    "movie_array <- array(movie_vector, dim = c(4,3))\n",
    "movie_array"
   ]
  },
  {
   "cell_type": "markdown",
   "id": "48e88699-ce05-4964-a356-6eb385cb4784",
   "metadata": {},
   "source": [
    "Note that **arrays are created column-wise**. Did you also notice that there were only 9 movie names, but the array was 4 x 3? The original **vector doesn't have enough elements** to fill the entire array (that should have 3 x 4 = 12 elements). So R simply fills rest of the empty values by going back to the beginning of the vector and starting again (\"Akira\", \"Toy story\", \"Room\" in this case).\n"
   ]
  },
  {
   "cell_type": "markdown",
   "id": "52334869-e807-49c5-b652-83d27fb1cee7",
   "metadata": {},
   "source": [
    "We also needed to provide **`c(4,3)`** as a second _argument_ to specify the number of rows (4) and columns (3) that we wanted.\n"
   ]
  },
  {
   "cell_type": "markdown",
   "id": "12053c25-33a1-428f-b2ca-07974920aa86",
   "metadata": {},
   "source": [
    "<div class=\"alert alert-success alertsuccess\" style=\"margin-top: 20px\">\n",
    "[Tip] What is an \"argument\"? How are \"arguments\" different from \"parameters\"?   \n",
    "    \n",
    "<br>\n",
    "Arguments and parameters are terms you will hear constantly when talking about \"functions\".  \n",
    "- The \"parameters\" are the input variables used in a function, like \"dim\" in the function \"array()\".   \n",
    "- The \"arguments\" refer to the \"values\" for those parameters that a function takes as inputs, like \"c(4,3)\"  \n",
    "<br>\n",
    "We actually don't need to write out the name of the parameter (dim) each time, as in:  \n",
    "`array(movie_vector, c(4,3))`  \n",
    "As long as we write the arguments out in the correct order, R can interpret the code.  \n",
    "\n",
    "<br>\n",
    "Arguments in a function may sometimes need to be of a \"specific type\". For more information on each function, you can open up the help file by running the function name with a ? beforehand, as in:  \n",
    "`?array`\n",
    "<p></p>\n",
    "\n",
    "</div>\n"
   ]
  },
  {
   "cell_type": "markdown",
   "id": "edcf6024-30e2-48af-ac21-7552428a018b",
   "metadata": {},
   "source": [
    "<h2 align=center>Array Indexing</h2>\n"
   ]
  },
  {
   "cell_type": "markdown",
   "id": "4b4361e4-e459-45a1-b63d-425702b026cb",
   "metadata": {},
   "source": [
    "Let's look at our array again:\n"
   ]
  },
  {
   "cell_type": "code",
   "execution_count": 3,
   "id": "e59512bb-f931-4658-ae5f-f797ee12f674",
   "metadata": {},
   "outputs": [
    {
     "data": {
      "text/html": [
       "<table class=\"dataframe\">\n",
       "<caption>A matrix: 4 × 3 of type chr</caption>\n",
       "<tbody>\n",
       "\t<tr><td>Akira    </td><td>Whiplash  </td><td>Jumanji  </td></tr>\n",
       "\t<tr><td>Toy Story</td><td>Star Wars </td><td>Akira    </td></tr>\n",
       "\t<tr><td>Room     </td><td>The Ring  </td><td>Toy Story</td></tr>\n",
       "\t<tr><td>The Wave </td><td>The Artist</td><td>Room     </td></tr>\n",
       "</tbody>\n",
       "</table>\n"
      ],
      "text/latex": [
       "A matrix: 4 × 3 of type chr\n",
       "\\begin{tabular}{lll}\n",
       "\t Akira     & Whiplash   & Jumanji  \\\\\n",
       "\t Toy Story & Star Wars  & Akira    \\\\\n",
       "\t Room      & The Ring   & Toy Story\\\\\n",
       "\t The Wave  & The Artist & Room     \\\\\n",
       "\\end{tabular}\n"
      ],
      "text/markdown": [
       "\n",
       "A matrix: 4 × 3 of type chr\n",
       "\n",
       "| Akira     | Whiplash   | Jumanji   |\n",
       "| Toy Story | Star Wars  | Akira     |\n",
       "| Room      | The Ring   | Toy Story |\n",
       "| The Wave  | The Artist | Room      |\n",
       "\n"
      ],
      "text/plain": [
       "     [,1]      [,2]       [,3]     \n",
       "[1,] Akira     Whiplash   Jumanji  \n",
       "[2,] Toy Story Star Wars  Akira    \n",
       "[3,] Room      The Ring   Toy Story\n",
       "[4,] The Wave  The Artist Room     "
      ]
     },
     "metadata": {},
     "output_type": "display_data"
    }
   ],
   "source": [
    "movie_array"
   ]
  },
  {
   "cell_type": "markdown",
   "id": "7e1ee901-0007-4e9c-bd90-33e3065d3afe",
   "metadata": {},
   "source": [
    "To access an element of an array, we should pass in **[row, column]** as the row and column number of that element.  \n",
    "For example, here we retrieve **Whiplash** from row 1 and column 2:\n"
   ]
  },
  {
   "cell_type": "code",
   "execution_count": 4,
   "id": "2cad291c-3b3d-4fdb-b437-edb361f815bf",
   "metadata": {},
   "outputs": [
    {
     "data": {
      "text/html": [
       "'Whiplash'"
      ],
      "text/latex": [
       "'Whiplash'"
      ],
      "text/markdown": [
       "'Whiplash'"
      ],
      "text/plain": [
       "[1] \"Whiplash\""
      ]
     },
     "metadata": {},
     "output_type": "display_data"
    }
   ],
   "source": [
    "movie_array[1,2] #[row, column]"
   ]
  },
  {
   "cell_type": "markdown",
   "id": "216ccf30-4fbe-4e9a-8a59-3b744dc08022",
   "metadata": {},
   "source": [
    "To display all the elements of the first row, we should put 1 in the row and nothing in the column part. Be sure to keep in the comma after the `1`.\n"
   ]
  },
  {
   "cell_type": "code",
   "execution_count": 5,
   "id": "d831aa64-3adb-4254-9d4f-b129c49cf46c",
   "metadata": {},
   "outputs": [
    {
     "data": {
      "text/html": [
       "<style>\n",
       ".list-inline {list-style: none; margin:0; padding: 0}\n",
       ".list-inline>li {display: inline-block}\n",
       ".list-inline>li:not(:last-child)::after {content: \"\\00b7\"; padding: 0 .5ex}\n",
       "</style>\n",
       "<ol class=list-inline><li>'Akira'</li><li>'Whiplash'</li><li>'Jumanji'</li></ol>\n"
      ],
      "text/latex": [
       "\\begin{enumerate*}\n",
       "\\item 'Akira'\n",
       "\\item 'Whiplash'\n",
       "\\item 'Jumanji'\n",
       "\\end{enumerate*}\n"
      ],
      "text/markdown": [
       "1. 'Akira'\n",
       "2. 'Whiplash'\n",
       "3. 'Jumanji'\n",
       "\n",
       "\n"
      ],
      "text/plain": [
       "[1] \"Akira\"    \"Whiplash\" \"Jumanji\" "
      ]
     },
     "metadata": {},
     "output_type": "display_data"
    }
   ],
   "source": [
    "movie_array[1,]"
   ]
  },
  {
   "cell_type": "markdown",
   "id": "4334be64-499e-449f-8a65-22ed862d9989",
   "metadata": {},
   "source": [
    "Likewise, you can get the elements by column as below.\n"
   ]
  },
  {
   "cell_type": "code",
   "execution_count": 6,
   "id": "0f4ee60f-aa55-49e3-a9ec-ad5f99cfc2ab",
   "metadata": {},
   "outputs": [
    {
     "data": {
      "text/html": [
       "<style>\n",
       ".list-inline {list-style: none; margin:0; padding: 0}\n",
       ".list-inline>li {display: inline-block}\n",
       ".list-inline>li:not(:last-child)::after {content: \"\\00b7\"; padding: 0 .5ex}\n",
       "</style>\n",
       "<ol class=list-inline><li>'Whiplash'</li><li>'Star Wars'</li><li>'The Ring'</li><li>'The Artist'</li></ol>\n"
      ],
      "text/latex": [
       "\\begin{enumerate*}\n",
       "\\item 'Whiplash'\n",
       "\\item 'Star Wars'\n",
       "\\item 'The Ring'\n",
       "\\item 'The Artist'\n",
       "\\end{enumerate*}\n"
      ],
      "text/markdown": [
       "1. 'Whiplash'\n",
       "2. 'Star Wars'\n",
       "3. 'The Ring'\n",
       "4. 'The Artist'\n",
       "\n",
       "\n"
      ],
      "text/plain": [
       "[1] \"Whiplash\"   \"Star Wars\"  \"The Ring\"   \"The Artist\""
      ]
     },
     "metadata": {},
     "output_type": "display_data"
    }
   ],
   "source": [
    "movie_array[,2]"
   ]
  },
  {
   "cell_type": "markdown",
   "id": "50142615-60c3-4303-a9b4-50d7c6c7ac81",
   "metadata": {},
   "source": [
    "To get the dimension of the array, **dim()** should be used.\n"
   ]
  },
  {
   "cell_type": "code",
   "execution_count": 7,
   "id": "7738b7df-c21a-4ed2-bb79-eaba3f86b63c",
   "metadata": {},
   "outputs": [
    {
     "data": {
      "text/html": [
       "<style>\n",
       ".list-inline {list-style: none; margin:0; padding: 0}\n",
       ".list-inline>li {display: inline-block}\n",
       ".list-inline>li:not(:last-child)::after {content: \"\\00b7\"; padding: 0 .5ex}\n",
       "</style>\n",
       "<ol class=list-inline><li>4</li><li>3</li></ol>\n"
      ],
      "text/latex": [
       "\\begin{enumerate*}\n",
       "\\item 4\n",
       "\\item 3\n",
       "\\end{enumerate*}\n"
      ],
      "text/markdown": [
       "1. 4\n",
       "2. 3\n",
       "\n",
       "\n"
      ],
      "text/plain": [
       "[1] 4 3"
      ]
     },
     "metadata": {},
     "output_type": "display_data"
    }
   ],
   "source": [
    "dim(movie_array)"
   ]
  },
  {
   "cell_type": "markdown",
   "id": "4f26606c-557e-47f4-82ff-72d6ce73f7dc",
   "metadata": {},
   "source": [
    "We can also do math on arrays. Let's create an array of the lengths of each of the nine movies used earlier.\n"
   ]
  },
  {
   "cell_type": "code",
   "execution_count": 8,
   "id": "c78322fb-9473-45a4-9806-57fb0cd8f711",
   "metadata": {},
   "outputs": [
    {
     "data": {
      "text/html": [
       "<table class=\"dataframe\">\n",
       "<caption>A matrix: 3 × 3 of type dbl</caption>\n",
       "<tbody>\n",
       "\t<tr><td>125</td><td> 81</td><td> 95</td></tr>\n",
       "\t<tr><td> 81</td><td>106</td><td>100</td></tr>\n",
       "\t<tr><td>118</td><td>121</td><td>104</td></tr>\n",
       "</tbody>\n",
       "</table>\n"
      ],
      "text/latex": [
       "A matrix: 3 × 3 of type dbl\n",
       "\\begin{tabular}{lll}\n",
       "\t 125 &  81 &  95\\\\\n",
       "\t  81 & 106 & 100\\\\\n",
       "\t 118 & 121 & 104\\\\\n",
       "\\end{tabular}\n"
      ],
      "text/markdown": [
       "\n",
       "A matrix: 3 × 3 of type dbl\n",
       "\n",
       "| 125 |  81 |  95 |\n",
       "|  81 | 106 | 100 |\n",
       "| 118 | 121 | 104 |\n",
       "\n"
      ],
      "text/plain": [
       "     [,1] [,2] [,3]\n",
       "[1,] 125   81   95 \n",
       "[2,]  81  106  100 \n",
       "[3,] 118  121  104 "
      ]
     },
     "metadata": {},
     "output_type": "display_data"
    }
   ],
   "source": [
    "length_vector <- c(125, 81, 118, 81, 106, 121, 95, 100, 104)\n",
    "length_array <- array(length_vector, dim = c(3,3))\n",
    "length_array"
   ]
  },
  {
   "cell_type": "markdown",
   "id": "c53af9a2-1a5b-4ed9-8a4c-2c88650792dd",
   "metadata": {},
   "source": [
    "Let's add 5 to the array, to account for a 5-min bathroom break:\n"
   ]
  },
  {
   "cell_type": "code",
   "execution_count": 9,
   "id": "54439832-5287-493e-a6e3-e3b282d1864a",
   "metadata": {},
   "outputs": [
    {
     "data": {
      "text/html": [
       "<table class=\"dataframe\">\n",
       "<caption>A matrix: 3 × 3 of type dbl</caption>\n",
       "<tbody>\n",
       "\t<tr><td>130</td><td> 86</td><td>100</td></tr>\n",
       "\t<tr><td> 86</td><td>111</td><td>105</td></tr>\n",
       "\t<tr><td>123</td><td>126</td><td>109</td></tr>\n",
       "</tbody>\n",
       "</table>\n"
      ],
      "text/latex": [
       "A matrix: 3 × 3 of type dbl\n",
       "\\begin{tabular}{lll}\n",
       "\t 130 &  86 & 100\\\\\n",
       "\t  86 & 111 & 105\\\\\n",
       "\t 123 & 126 & 109\\\\\n",
       "\\end{tabular}\n"
      ],
      "text/markdown": [
       "\n",
       "A matrix: 3 × 3 of type dbl\n",
       "\n",
       "| 130 |  86 | 100 |\n",
       "|  86 | 111 | 105 |\n",
       "| 123 | 126 | 109 |\n",
       "\n"
      ],
      "text/plain": [
       "     [,1] [,2] [,3]\n",
       "[1,] 130   86  100 \n",
       "[2,]  86  111  105 \n",
       "[3,] 123  126  109 "
      ]
     },
     "metadata": {},
     "output_type": "display_data"
    }
   ],
   "source": [
    "length_array + 5"
   ]
  },
  {
   "cell_type": "markdown",
   "id": "6767b05a-9cc5-43c8-8f69-9b6ed6e95dd2",
   "metadata": {},
   "source": [
    "**Coding Exercise:** in the code cell below, create a new length vector with 12 elements and create a 4 x 3 array from it\n"
   ]
  },
  {
   "cell_type": "code",
   "execution_count": 11,
   "id": "c5713c22-a9d3-4f00-806a-2e280e511ff3",
   "metadata": {},
   "outputs": [
    {
     "data": {
      "text/html": [
       "<table class=\"dataframe\">\n",
       "<caption>A matrix: 4 × 3 of type dbl</caption>\n",
       "<tbody>\n",
       "\t<tr><td>125</td><td>106</td><td>104</td></tr>\n",
       "\t<tr><td> 81</td><td>121</td><td> 85</td></tr>\n",
       "\t<tr><td>118</td><td> 95</td><td> 64</td></tr>\n",
       "\t<tr><td> 81</td><td>100</td><td> 83</td></tr>\n",
       "</tbody>\n",
       "</table>\n"
      ],
      "text/latex": [
       "A matrix: 4 × 3 of type dbl\n",
       "\\begin{tabular}{lll}\n",
       "\t 125 & 106 & 104\\\\\n",
       "\t  81 & 121 &  85\\\\\n",
       "\t 118 &  95 &  64\\\\\n",
       "\t  81 & 100 &  83\\\\\n",
       "\\end{tabular}\n"
      ],
      "text/markdown": [
       "\n",
       "A matrix: 4 × 3 of type dbl\n",
       "\n",
       "| 125 | 106 | 104 |\n",
       "|  81 | 121 |  85 |\n",
       "| 118 |  95 |  64 |\n",
       "|  81 | 100 |  83 |\n",
       "\n"
      ],
      "text/plain": [
       "     [,1] [,2] [,3]\n",
       "[1,] 125  106  104 \n",
       "[2,]  81  121   85 \n",
       "[3,] 118   95   64 \n",
       "[4,]  81  100   83 "
      ]
     },
     "metadata": {},
     "output_type": "display_data"
    }
   ],
   "source": [
    "# Write your code below. Don't forget to press Shift+Enter to execute the cell\n",
    "new_length_vector <- c(125, 81, 118, 81, 106, 121, 95, 100, 104, 85, 64, 83)\n",
    "new_length_array <- array(new_length_vector, dim = c(4,3))\n",
    "new_length_array"
   ]
  },
  {
   "cell_type": "markdown",
   "id": "7c8aaada-bb7c-48ff-b199-1a64db8f5dbe",
   "metadata": {},
   "source": [
    "<details><summary>Click here for the solution</summary>\n",
    "\n",
    "```R\n",
    "new_length_vector <- c(125, 81, 118, 81, 106, 121, 95, 100, 104, 85, 64, 83)\n",
    "new_length_array <- array(new_length_vector, dim = c(4,3))\n",
    "new_length_array\n",
    "\n",
    "```\n",
    "\n",
    "</details>\n"
   ]
  },
  {
   "cell_type": "markdown",
   "id": "df726fbd-96a9-4336-8944-aaf8215528e2",
   "metadata": {},
   "source": [
    "<div class=\"alert alert-success alertsuccess\" style=\"margin-top: 20px\">\n",
    "Tip: Performing operations on objects, like adding 5 to an array, does not change the object.To change the object, we would need to assign the new result to itself.\n",
    "</div>\n"
   ]
  },
  {
   "cell_type": "markdown",
   "id": "8c55c1bc-718e-48a4-9125-da040b6e78dd",
   "metadata": {},
   "source": [
    "<a id=\"ref3\"></a>\n",
    "\n",
    "<h2 align=center>Using Logical Conditions to Subset Arrays</h2>\n"
   ]
  },
  {
   "cell_type": "markdown",
   "id": "39f46869-e72b-460a-9199-cdf4c8ec6851",
   "metadata": {},
   "source": [
    "Which movies can I finish watching in two hours? Using a logical condition, we can check which movies are less than 2 hours long.\n"
   ]
  },
  {
   "cell_type": "code",
   "execution_count": 12,
   "id": "6c05f635-096c-4f2c-8491-1cb1380d2ec5",
   "metadata": {},
   "outputs": [
    {
     "data": {
      "text/html": [
       "<table class=\"dataframe\">\n",
       "<caption>A matrix: 3 × 3 of type lgl</caption>\n",
       "<tbody>\n",
       "\t<tr><td>FALSE</td><td> TRUE</td><td>TRUE</td></tr>\n",
       "\t<tr><td> TRUE</td><td> TRUE</td><td>TRUE</td></tr>\n",
       "\t<tr><td> TRUE</td><td>FALSE</td><td>TRUE</td></tr>\n",
       "</tbody>\n",
       "</table>\n"
      ],
      "text/latex": [
       "A matrix: 3 × 3 of type lgl\n",
       "\\begin{tabular}{lll}\n",
       "\t FALSE &  TRUE & TRUE\\\\\n",
       "\t  TRUE &  TRUE & TRUE\\\\\n",
       "\t  TRUE & FALSE & TRUE\\\\\n",
       "\\end{tabular}\n"
      ],
      "text/markdown": [
       "\n",
       "A matrix: 3 × 3 of type lgl\n",
       "\n",
       "| FALSE |  TRUE | TRUE |\n",
       "|  TRUE |  TRUE | TRUE |\n",
       "|  TRUE | FALSE | TRUE |\n",
       "\n"
      ],
      "text/plain": [
       "     [,1]  [,2]  [,3]\n",
       "[1,] FALSE  TRUE TRUE\n",
       "[2,]  TRUE  TRUE TRUE\n",
       "[3,]  TRUE FALSE TRUE"
      ]
     },
     "metadata": {},
     "output_type": "display_data"
    }
   ],
   "source": [
    "mask_array <- length_array < 120\n",
    "mask_array"
   ]
  },
  {
   "cell_type": "markdown",
   "id": "ccf9ee30-0ca7-4f58-92a7-472203f820dd",
   "metadata": {},
   "source": [
    "Using this array of TRUEs and FALSEs, we can subset the array of movie names:\n"
   ]
  },
  {
   "cell_type": "code",
   "execution_count": 13,
   "id": "dfc3ead3-dc6a-4221-8534-b85c3f2d55b2",
   "metadata": {},
   "outputs": [
    {
     "data": {
      "text/html": [
       "<style>\n",
       ".list-inline {list-style: none; margin:0; padding: 0}\n",
       ".list-inline>li {display: inline-block}\n",
       ".list-inline>li:not(:last-child)::after {content: \"\\00b7\"; padding: 0 .5ex}\n",
       "</style>\n",
       "<ol class=list-inline><li>'Toy Story'</li><li>'Room'</li><li>'The Wave'</li><li>'Whiplash'</li><li>'The Ring'</li><li>'The Artist'</li><li>'Jumanji'</li></ol>\n"
      ],
      "text/latex": [
       "\\begin{enumerate*}\n",
       "\\item 'Toy Story'\n",
       "\\item 'Room'\n",
       "\\item 'The Wave'\n",
       "\\item 'Whiplash'\n",
       "\\item 'The Ring'\n",
       "\\item 'The Artist'\n",
       "\\item 'Jumanji'\n",
       "\\end{enumerate*}\n"
      ],
      "text/markdown": [
       "1. 'Toy Story'\n",
       "2. 'Room'\n",
       "3. 'The Wave'\n",
       "4. 'Whiplash'\n",
       "5. 'The Ring'\n",
       "6. 'The Artist'\n",
       "7. 'Jumanji'\n",
       "\n",
       "\n"
      ],
      "text/plain": [
       "[1] \"Toy Story\"  \"Room\"       \"The Wave\"   \"Whiplash\"   \"The Ring\"  \n",
       "[6] \"The Artist\" \"Jumanji\"   "
      ]
     },
     "metadata": {},
     "output_type": "display_data"
    }
   ],
   "source": [
    "x_vector <- c(\"Akira\", \"Toy Story\", \"Room\", \"The Wave\", \"Whiplash\",\n",
    "              \"Star Wars\", \"The Ring\", \"The Artist\", \"Jumanji\")\n",
    "x_array <- array(x_vector, dim = c(3,3))\n",
    "\n",
    "x_array[mask_array]"
   ]
  },
  {
   "cell_type": "markdown",
   "id": "7f61aa7c-610c-4a8a-9e5a-ddebc20a7fdb",
   "metadata": {},
   "source": [
    "<hr>\n",
    "\n",
    "**Coding Exercise:** in the code cell below, find all movie titles with length less than or equal to 90 minutes\n"
   ]
  },
  {
   "cell_type": "code",
   "execution_count": 20,
   "id": "2464a444-80ba-4b0b-b1b0-b37f69876932",
   "metadata": {},
   "outputs": [
    {
     "data": {
      "text/html": [
       "<style>\n",
       ".list-inline {list-style: none; margin:0; padding: 0}\n",
       ".list-inline>li {display: inline-block}\n",
       ".list-inline>li:not(:last-child)::after {content: \"\\00b7\"; padding: 0 .5ex}\n",
       "</style>\n",
       "<ol class=list-inline><li>'Toy Story'</li><li>'The Wave'</li></ol>\n"
      ],
      "text/latex": [
       "\\begin{enumerate*}\n",
       "\\item 'Toy Story'\n",
       "\\item 'The Wave'\n",
       "\\end{enumerate*}\n"
      ],
      "text/markdown": [
       "1. 'Toy Story'\n",
       "2. 'The Wave'\n",
       "\n",
       "\n"
      ],
      "text/plain": [
       "[1] \"Toy Story\" \"The Wave\" "
      ]
     },
     "metadata": {},
     "output_type": "display_data"
    }
   ],
   "source": [
    "# Write your code below. Don't forget to press Shift+Enter to execute the cell\n",
    "mask_array <- length_array <= 90\n",
    "x_array[mask_array]"
   ]
  },
  {
   "cell_type": "markdown",
   "id": "1bbe491e-d7d8-43b5-96bf-dda0673dfd4d",
   "metadata": {},
   "source": [
    "<details><summary>Click here for the solution</summary>\n",
    "\n",
    "```R\n",
    "mask_array <- length_array <= 90\n",
    "x_array[mask_array]\n",
    "```\n",
    "\n",
    "</details>\n",
    "\n",
    "<hr>\n"
   ]
  },
  {
   "cell_type": "markdown",
   "id": "e996487b-b38f-472c-866d-6d358446cb3c",
   "metadata": {},
   "source": [
    "<h2 align=center>What is a Matrix?</h2>\n",
    "\n",
    "Matrices are a subtype of arrays. A matrix **must** have 2 dimensions, whereas arrays are more flexible and can have, one, two, or more dimensions.  \n",
    "\n",
    "To create a matrix out of a vector , you can use **matrix()**, which takes in an argument for the vector, an argument for the number of rows and another for the number of columns.\n"
   ]
  },
  {
   "cell_type": "code",
   "execution_count": 21,
   "id": "f1c04d76-16ba-427d-85ff-401098aac869",
   "metadata": {},
   "outputs": [],
   "source": [
    "movie_matrix <- matrix(movie_vector, nrow = 3, ncol = 3)"
   ]
  },
  {
   "cell_type": "code",
   "execution_count": 22,
   "id": "c02b748c-00a0-4aa4-9d37-0eca73730fa3",
   "metadata": {},
   "outputs": [
    {
     "data": {
      "text/html": [
       "<table class=\"dataframe\">\n",
       "<caption>A matrix: 3 × 3 of type chr</caption>\n",
       "<tbody>\n",
       "\t<tr><td>Akira    </td><td>The Wave </td><td>The Ring  </td></tr>\n",
       "\t<tr><td>Toy Story</td><td>Whiplash </td><td>The Artist</td></tr>\n",
       "\t<tr><td>Room     </td><td>Star Wars</td><td>Jumanji   </td></tr>\n",
       "</tbody>\n",
       "</table>\n"
      ],
      "text/latex": [
       "A matrix: 3 × 3 of type chr\n",
       "\\begin{tabular}{lll}\n",
       "\t Akira     & The Wave  & The Ring  \\\\\n",
       "\t Toy Story & Whiplash  & The Artist\\\\\n",
       "\t Room      & Star Wars & Jumanji   \\\\\n",
       "\\end{tabular}\n"
      ],
      "text/markdown": [
       "\n",
       "A matrix: 3 × 3 of type chr\n",
       "\n",
       "| Akira     | The Wave  | The Ring   |\n",
       "| Toy Story | Whiplash  | The Artist |\n",
       "| Room      | Star Wars | Jumanji    |\n",
       "\n"
      ],
      "text/plain": [
       "     [,1]      [,2]      [,3]      \n",
       "[1,] Akira     The Wave  The Ring  \n",
       "[2,] Toy Story Whiplash  The Artist\n",
       "[3,] Room      Star Wars Jumanji   "
      ]
     },
     "metadata": {},
     "output_type": "display_data"
    }
   ],
   "source": [
    "movie_matrix"
   ]
  },
  {
   "cell_type": "markdown",
   "id": "8498a940-3264-4084-82c3-dd507d427c97",
   "metadata": {},
   "source": [
    "<hr>\n",
    "\n",
    "**Coding Exercise:** in the code cell below, create a new length vector with 12 elements and create a 4 x 3 matrix from it\n"
   ]
  },
  {
   "cell_type": "code",
   "execution_count": 23,
   "id": "315703f7-6deb-4ba7-a089-025548ad7fa6",
   "metadata": {},
   "outputs": [
    {
     "data": {
      "text/html": [
       "<table class=\"dataframe\">\n",
       "<caption>A matrix: 4 × 3 of type dbl</caption>\n",
       "<tbody>\n",
       "\t<tr><td>125</td><td>106</td><td>104</td></tr>\n",
       "\t<tr><td> 81</td><td>121</td><td> 85</td></tr>\n",
       "\t<tr><td>118</td><td> 95</td><td> 64</td></tr>\n",
       "\t<tr><td> 81</td><td>100</td><td> 83</td></tr>\n",
       "</tbody>\n",
       "</table>\n"
      ],
      "text/latex": [
       "A matrix: 4 × 3 of type dbl\n",
       "\\begin{tabular}{lll}\n",
       "\t 125 & 106 & 104\\\\\n",
       "\t  81 & 121 &  85\\\\\n",
       "\t 118 &  95 &  64\\\\\n",
       "\t  81 & 100 &  83\\\\\n",
       "\\end{tabular}\n"
      ],
      "text/markdown": [
       "\n",
       "A matrix: 4 × 3 of type dbl\n",
       "\n",
       "| 125 | 106 | 104 |\n",
       "|  81 | 121 |  85 |\n",
       "| 118 |  95 |  64 |\n",
       "|  81 | 100 |  83 |\n",
       "\n"
      ],
      "text/plain": [
       "     [,1] [,2] [,3]\n",
       "[1,] 125  106  104 \n",
       "[2,]  81  121   85 \n",
       "[3,] 118   95   64 \n",
       "[4,]  81  100   83 "
      ]
     },
     "metadata": {},
     "output_type": "display_data"
    }
   ],
   "source": [
    "# Write your code below. Don't forget to press Shift+Enter to execute the cell\n",
    "length_vector <- c(125, 81, 118, 81, 106, 121, 95, 100, 104, 85, 64, 83)\n",
    "length_matrix <- matrix(length_vector,nrow=4,ncol=3)\n",
    "length_matrix"
   ]
  },
  {
   "cell_type": "markdown",
   "id": "13cb2b00-3d97-48a9-bb42-176888bee0b3",
   "metadata": {},
   "source": [
    "<details><summary>Click here for the solution</summary>\n",
    "\n",
    "```R\n",
    "new_length_vector <- c(125, 81, 118, 81, 106, 121, 95, 100, 104, 85, 64, 80)\n",
    "new_movie_matrix <- matrix(new_length_vector, nrow = 4, ncol = 3)\n",
    "new_movie_matrix\n",
    "\n",
    "```\n",
    "\n",
    "</details>\n",
    "\n",
    "<hr>\n"
   ]
  },
  {
   "cell_type": "markdown",
   "id": "cb45a1e4-292a-45f0-9468-6c735919dc60",
   "metadata": {},
   "source": [
    "### Accessing elements of a matrix\n"
   ]
  },
  {
   "cell_type": "markdown",
   "id": "bd81b033-fbd2-44de-b530-a77ea9072e84",
   "metadata": {},
   "source": [
    "As with arrays, you can use **[row, column]** to access elements of a matrix. To retrieve \"Akira\", you should use [1,1] as it lies in the first row and first column.\n"
   ]
  },
  {
   "cell_type": "code",
   "execution_count": 24,
   "id": "2890af2f-42fb-41a8-b552-54f48f36b5ca",
   "metadata": {},
   "outputs": [
    {
     "data": {
      "text/html": [
       "'Akira'"
      ],
      "text/latex": [
       "'Akira'"
      ],
      "text/markdown": [
       "'Akira'"
      ],
      "text/plain": [
       "[1] \"Akira\""
      ]
     },
     "metadata": {},
     "output_type": "display_data"
    }
   ],
   "source": [
    "movie_matrix[1,1]"
   ]
  },
  {
   "cell_type": "markdown",
   "id": "6db0a274-1248-4db6-97c8-54c0c4744532",
   "metadata": {},
   "source": [
    "To get data from a certain range, the folowing code can help. This takes the elements from rows 2 to 3, and from columns 1 to 2.\n"
   ]
  },
  {
   "cell_type": "code",
   "execution_count": 25,
   "id": "5d6bed79-44b5-4793-9e89-95480694f7c4",
   "metadata": {},
   "outputs": [
    {
     "data": {
      "text/html": [
       "<table class=\"dataframe\">\n",
       "<caption>A matrix: 2 × 2 of type chr</caption>\n",
       "<tbody>\n",
       "\t<tr><td>Toy Story</td><td>Whiplash </td></tr>\n",
       "\t<tr><td>Room     </td><td>Star Wars</td></tr>\n",
       "</tbody>\n",
       "</table>\n"
      ],
      "text/latex": [
       "A matrix: 2 × 2 of type chr\n",
       "\\begin{tabular}{ll}\n",
       "\t Toy Story & Whiplash \\\\\n",
       "\t Room      & Star Wars\\\\\n",
       "\\end{tabular}\n"
      ],
      "text/markdown": [
       "\n",
       "A matrix: 2 × 2 of type chr\n",
       "\n",
       "| Toy Story | Whiplash  |\n",
       "| Room      | Star Wars |\n",
       "\n"
      ],
      "text/plain": [
       "     [,1]      [,2]     \n",
       "[1,] Toy Story Whiplash \n",
       "[2,] Room      Star Wars"
      ]
     },
     "metadata": {},
     "output_type": "display_data"
    }
   ],
   "source": [
    "movie_matrix[2:3, 1:2]"
   ]
  },
  {
   "cell_type": "markdown",
   "id": "dc1c0db6-aba8-45f3-89b0-72e8b1283010",
   "metadata": {},
   "source": [
    "<hr>\n",
    "\n",
    "**Coding Exercise:** in the code cell below, get the second row of the matrix\n"
   ]
  },
  {
   "cell_type": "code",
   "execution_count": 27,
   "id": "ee3a066c-ea25-426b-9a16-bd2567f8a463",
   "metadata": {},
   "outputs": [
    {
     "data": {
      "text/html": [
       "<style>\n",
       ".list-inline {list-style: none; margin:0; padding: 0}\n",
       ".list-inline>li {display: inline-block}\n",
       ".list-inline>li:not(:last-child)::after {content: \"\\00b7\"; padding: 0 .5ex}\n",
       "</style>\n",
       "<ol class=list-inline><li>'Toy Story'</li><li>'Whiplash'</li><li>'The Artist'</li></ol>\n"
      ],
      "text/latex": [
       "\\begin{enumerate*}\n",
       "\\item 'Toy Story'\n",
       "\\item 'Whiplash'\n",
       "\\item 'The Artist'\n",
       "\\end{enumerate*}\n"
      ],
      "text/markdown": [
       "1. 'Toy Story'\n",
       "2. 'Whiplash'\n",
       "3. 'The Artist'\n",
       "\n",
       "\n"
      ],
      "text/plain": [
       "[1] \"Toy Story\"  \"Whiplash\"   \"The Artist\""
      ]
     },
     "metadata": {},
     "output_type": "display_data"
    }
   ],
   "source": [
    "# Write your code below. Don't forget to press Shift+Enter to execute the cell\n",
    "movie_matrix[2,]"
   ]
  },
  {
   "cell_type": "markdown",
   "id": "fd157faa-ad01-474a-8bd7-3eafb6f2af0e",
   "metadata": {},
   "source": [
    "<details><summary>Click here for the solution</summary>\n",
    "\n",
    "```R\n",
    "movie_matrix[2,]\n",
    "\n",
    "```\n",
    "\n",
    "</details>\n",
    "\n",
    "<hr>\n"
   ]
  },
  {
   "cell_type": "markdown",
   "id": "c847be6c-a642-4ab5-9fa3-a192f5d41f50",
   "metadata": {},
   "source": [
    "**Coding Exercise:** in the code cell below, get the second column of the matrix\n"
   ]
  },
  {
   "cell_type": "code",
   "execution_count": 28,
   "id": "6ffd1c84-2962-456b-bfb9-d540f1948bc2",
   "metadata": {},
   "outputs": [
    {
     "data": {
      "text/html": [
       "<style>\n",
       ".list-inline {list-style: none; margin:0; padding: 0}\n",
       ".list-inline>li {display: inline-block}\n",
       ".list-inline>li:not(:last-child)::after {content: \"\\00b7\"; padding: 0 .5ex}\n",
       "</style>\n",
       "<ol class=list-inline><li>'The Wave'</li><li>'Whiplash'</li><li>'Star Wars'</li></ol>\n"
      ],
      "text/latex": [
       "\\begin{enumerate*}\n",
       "\\item 'The Wave'\n",
       "\\item 'Whiplash'\n",
       "\\item 'Star Wars'\n",
       "\\end{enumerate*}\n"
      ],
      "text/markdown": [
       "1. 'The Wave'\n",
       "2. 'Whiplash'\n",
       "3. 'Star Wars'\n",
       "\n",
       "\n"
      ],
      "text/plain": [
       "[1] \"The Wave\"  \"Whiplash\"  \"Star Wars\""
      ]
     },
     "metadata": {},
     "output_type": "display_data"
    }
   ],
   "source": [
    "# Write your code below. Don't forget to press Shift+Enter to execute the cell\n",
    "movie_matrix[,2]"
   ]
  },
  {
   "cell_type": "markdown",
   "id": "9da91424-2ee7-44cb-b89f-c87263f33f38",
   "metadata": {},
   "source": [
    "<details><summary>Click here for the solution</summary>\n",
    "\n",
    "```R\n",
    "movie_matrix[,2]\n",
    "\n",
    "```\n",
    "\n",
    "</details>\n",
    "\n",
    "<hr>\n"
   ]
  },
  {
   "cell_type": "markdown",
   "id": "9869f850-6ab2-46b2-afce-cc3576847297",
   "metadata": {},
   "source": [
    "<h2>Concatenation function</h2>\n",
    "\n",
    "A concatenation function is used to combine two vectors into one vector. It combines values of both vectors.<br>\n",
    "Lets create a new vector for the upcoming movies as a `upcoming_movie` variable and add them to the `movie_vector` variable to create a `new_vector` of movies.\n"
   ]
  },
  {
   "cell_type": "code",
   "execution_count": 29,
   "id": "e87a4495-fe8e-4c99-a707-8c2295592473",
   "metadata": {},
   "outputs": [],
   "source": [
    "upcoming_movie <- c(\"Fast and Furious 8\", \"xXx: Return of Xander Cage\", \"Suicide Squad\")"
   ]
  },
  {
   "cell_type": "code",
   "execution_count": 30,
   "id": "7824a4ff-fd2f-4ff9-8c0b-5b66fcaa8d01",
   "metadata": {},
   "outputs": [],
   "source": [
    "new_vector <- c(movie_vector, upcoming_movie)"
   ]
  },
  {
   "cell_type": "code",
   "execution_count": 31,
   "id": "e91d3a6c-b7d8-4259-9152-bf1fe95c250d",
   "metadata": {},
   "outputs": [
    {
     "data": {
      "text/html": [
       "<style>\n",
       ".list-inline {list-style: none; margin:0; padding: 0}\n",
       ".list-inline>li {display: inline-block}\n",
       ".list-inline>li:not(:last-child)::after {content: \"\\00b7\"; padding: 0 .5ex}\n",
       "</style>\n",
       "<ol class=list-inline><li>'Akira'</li><li>'Toy Story'</li><li>'Room'</li><li>'The Wave'</li><li>'Whiplash'</li><li>'Star Wars'</li><li>'The Ring'</li><li>'The Artist'</li><li>'Jumanji'</li><li>'Fast and Furious 8'</li><li>'xXx: Return of Xander Cage'</li><li>'Suicide Squad'</li></ol>\n"
      ],
      "text/latex": [
       "\\begin{enumerate*}\n",
       "\\item 'Akira'\n",
       "\\item 'Toy Story'\n",
       "\\item 'Room'\n",
       "\\item 'The Wave'\n",
       "\\item 'Whiplash'\n",
       "\\item 'Star Wars'\n",
       "\\item 'The Ring'\n",
       "\\item 'The Artist'\n",
       "\\item 'Jumanji'\n",
       "\\item 'Fast and Furious 8'\n",
       "\\item 'xXx: Return of Xander Cage'\n",
       "\\item 'Suicide Squad'\n",
       "\\end{enumerate*}\n"
      ],
      "text/markdown": [
       "1. 'Akira'\n",
       "2. 'Toy Story'\n",
       "3. 'Room'\n",
       "4. 'The Wave'\n",
       "5. 'Whiplash'\n",
       "6. 'Star Wars'\n",
       "7. 'The Ring'\n",
       "8. 'The Artist'\n",
       "9. 'Jumanji'\n",
       "10. 'Fast and Furious 8'\n",
       "11. 'xXx: Return of Xander Cage'\n",
       "12. 'Suicide Squad'\n",
       "\n",
       "\n"
      ],
      "text/plain": [
       " [1] \"Akira\"                      \"Toy Story\"                 \n",
       " [3] \"Room\"                       \"The Wave\"                  \n",
       " [5] \"Whiplash\"                   \"Star Wars\"                 \n",
       " [7] \"The Ring\"                   \"The Artist\"                \n",
       " [9] \"Jumanji\"                    \"Fast and Furious 8\"        \n",
       "[11] \"xXx: Return of Xander Cage\" \"Suicide Squad\"             "
      ]
     },
     "metadata": {},
     "output_type": "display_data"
    }
   ],
   "source": [
    "new_vector"
   ]
  },
  {
   "cell_type": "markdown",
   "id": "efc50795-65f5-43db-9f4c-e6976b20e3bb",
   "metadata": {},
   "source": [
    "<hr>\n",
    "Scaling R with big data\n",
    "\n",
    "As you learn more about R, if you are interested in exploring platforms that can help you run analyses at scale, you might want to sign up for a free account on [IBM Watson Studio](http://cocl.us/dsx_rp0101en), which allows you to run analyses in R with two Spark executors for free.\n"
   ]
  },
  {
   "cell_type": "markdown",
   "id": "4717a23a-0cc3-4711-83d1-1a2a01f13ec3",
   "metadata": {},
   "source": [
    "\n",
    "## Authors\n",
    "Hi! It's [Hiten Patel](https://ca.linkedin.com/in/hitenpatel161289?utm_medium=Exinfluencer&utm_source=Exinfluencer&utm_content=000026UJ&utm_term=10006555&utm_id=NA-SkillsNetwork-Channel-SkillsNetworkCoursesIBMDeveloperSkillsNetworkRP0101ENCoursera889-2022-01-01), the author of this notebook. I hope you found arrays and matrices easy to learn! As you start learning the foundations of R, feel free to connect with me if you have any questions.\n"
   ]
  },
  {
   "cell_type": "markdown",
   "id": "bacf9be6-4448-4b87-8284-1391eeefeeda",
   "metadata": {},
   "source": [
    "### Other Contributors\n",
    "\n",
    "<a href=\"https://www.linkedin.com/in/yan-luo-96288783/?utm_medium=Exinfluencer&utm_source=Exinfluencer&utm_content=000026UJ&utm_term=10006555&utm_id=NA-SkillsNetwork-Channel-SkillsNetworkCoursesIBMDeveloperSkillsNetworkRP0101ENCoursera889-2022-01-01\">Yan Luo</a>\n"
   ]
  },
  {
   "cell_type": "markdown",
   "id": "ceae66d7-d5c0-4c16-b4b5-b0571642c631",
   "metadata": {},
   "source": [
    "## Change Log\n",
    "\n",
    "| Date (YYYY-MM-DD) | Version | Changed By | Change Description           |\n",
    "| ----------------- | ------- | ---------- | ---------------------------- |\n",
    "| 2021-03-03        | 2.0     | Yan        | Added coding tasks           |\n",
    "|                   |         |            |                              |\n",
    "|                   |         |            |                              |\n",
    "\n",
    "## <h3 align=\"center\"> © IBM Corporation 2021. All rights reserved. <h3/>\n"
   ]
  }
 ],
 "metadata": {
  "kernelspec": {
   "display_name": "R",
   "language": "R",
   "name": "ir"
  },
  "language_info": {
   "codemirror_mode": "r",
   "file_extension": ".r",
   "mimetype": "text/x-r-source",
   "name": "R",
   "pygments_lexer": "r",
   "version": "4.2.1"
  }
 },
 "nbformat": 4,
 "nbformat_minor": 4
}
