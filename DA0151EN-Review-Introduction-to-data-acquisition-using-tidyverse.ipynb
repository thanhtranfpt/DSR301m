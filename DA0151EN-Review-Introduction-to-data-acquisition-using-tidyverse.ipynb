{
 "cells": [
  {
   "cell_type": "markdown",
   "id": "353e11d9-1137-40f6-b939-f26454de3026",
   "metadata": {},
   "source": [
    "<center><img src=\"https://cf-courses-data.s3.us.cloud-object-storage.appdomain.cloud/assets/logos/SN_web_lightmode.png\" width=\"300\"></center>\n"
   ]
  },
  {
   "cell_type": "markdown",
   "id": "52e8ec71-5c4b-46de-b4cf-21ccebe20cd8",
   "metadata": {},
   "source": [
    "<h1>Introduction to Data Acquisition using Tidyverse</h1>\n",
    "\n",
    "Estimated Time Needed: <strong>30 min</strong>\n",
    "\n",
    "<h3>Welcome!</h3>\n",
    "\n",
    "<p>\n",
    "In this section, you will learn how to approach data acquisition in various ways, and obtain necessary information about the dataset. By the end of this lab, you will successfully load the data into Jupyter Notebook, and gain some fundamental insights via the Tidyverse library.\n",
    "</p>\n"
   ]
  },
  {
   "cell_type": "markdown",
   "id": "fac08f1e-6f2e-4793-a228-63dafe1c73d5",
   "metadata": {},
   "source": [
    "### Table of Contents:\n",
    "* [1. Data Acquisition](#cell1)\n",
    "* [2. Basic Insights of the Dataset](#cell2)\n"
   ]
  },
  {
   "cell_type": "markdown",
   "id": "e48cb1ea-247c-4c81-9a9e-1b14cdc7fb09",
   "metadata": {},
   "source": [
    "<a id=\"cell1\"></a>\n",
    "<h1 id=\"data_acquisition\">1. Data Acquisition</h1>\n",
    "<p>\n",
    "There are various formats for a dataset like .csv, .json, .xlsx, etc. The dataset can be stored in different places, on your local machine or sometimes online. In this section, you will learn how to load a dataset into our Jupyter Notebook.<br>\n",
    "\n",
    "In our case, the <a href=\"https://developer.ibm.com/exchanges/data/all/airline/?utm_medium=Exinfluencer&utm_source=Exinfluencer&utm_content=000026UJ&utm_term=10006555&utm_id=NA-SkillsNetwork-Channel-SkillsNetworkCoursesIBMDA0151ENSkillsNetwork926-2022-01-01\">Airline Dataset</a> is an online source, and it is in CSV (comma separated value) format. Let's use a smaller subset of the original dataset as an example to practice data reading.\n",
    "<ul>\n",
    "    <li>data source: <a href=\"https://dax-cdn.cdn.appdomain.cloud/dax-airline/1.0.1/lax_to_jfk.tar.gz\" target=\"_blank\">https://dax-cdn.cdn.appdomain.cloud/dax-airline/1.0.1/lax_to_jfk.tar.gz</a></li>\n",
    "    <li>data type: csv</li>\n",
    "</ul>\n",
    "\n",
    "The Tidyverse library is a useful tool that enables us to read various datasets into a data frame; our Jupyter notebook platforms have a built-in <b>Tidyverse library</b> so that all we need to do is import Tidyverse without installing. \n",
    "</p>\n",
    "\n",
    "However, if you decide to run this on your local machine, you can use the below line of code to install Tidyverse before loading.\n"
   ]
  },
  {
   "cell_type": "code",
   "execution_count": null,
   "id": "4fe51420-9c07-498e-9a9a-98eb24d94d8b",
   "metadata": {},
   "outputs": [
    {
     "name": "stderr",
     "output_type": "stream",
     "text": [
      "also installing the dependencies 'colorspace', 'ps', 'sass', 'farver', 'labeling', 'munsell', 'RColorBrewer', 'viridisLite', 'rappdirs', 'processx', 'highr', 'xfun', 'yaml', 'bslib', 'fontawesome', 'jquerylib', 'tinytex', 'backports', 'generics', 'tidyselect', 'data.table', 'gtable', 'isoband', 'scales', 'gargle', 'ids', 'rematch2', 'timechange', 'systemfonts', 'textshaping', 'clipr', 'vroom', 'tzdb', 'callr', 'fs', 'knitr', 'rmarkdown', 'broom', 'conflicted', 'dbplyr', 'dplyr', 'dtplyr', 'forcats', 'ggplot2', 'googledrive', 'googlesheets4', 'haven', 'lubridate', 'modelr', 'purrr', 'ragg', 'readr', 'reprex', 'rstudioapi', 'tidyr'\n",
      "\n",
      "\n",
      "Warning message in download.file(url, destfile, method, mode = \"wb\", ...):\n",
      "\"downloaded length 1720320 != reported length 5243732\"\n",
      "Warning message in download.file(url, destfile, method, mode = \"wb\", ...):\n",
      "\"URL 'https://cran.r-project.org/bin/windows/contrib/4.2/bslib_0.5.0.zip': Timeout of 60 seconds was reached\"\n"
     ]
    },
    {
     "name": "stdout",
     "output_type": "stream",
     "text": [
      "Error in download.file(url, destfile, method, mode = \"wb\", ...) : \n",
      "  download from 'https://cran.r-project.org/bin/windows/contrib/4.2/bslib_0.5.0.zip' failed\n"
     ]
    },
    {
     "name": "stderr",
     "output_type": "stream",
     "text": [
      "Warning message in download.packages(pkgs, destdir = tmpd, available = available, :\n",
      "\"download of package 'bslib' failed\"\n",
      "Warning message in download.file(url, destfile, method, mode = \"wb\", ...):\n",
      "\"downloaded length 884736 != reported length 1353272\"\n",
      "Warning message in download.file(url, destfile, method, mode = \"wb\", ...):\n",
      "\"URL 'https://cran.r-project.org/bin/windows/contrib/4.2/fontawesome_0.5.1.zip': Timeout of 60 seconds was reached\"\n"
     ]
    },
    {
     "name": "stdout",
     "output_type": "stream",
     "text": [
      "Error in download.file(url, destfile, method, mode = \"wb\", ...) : \n",
      "  download from 'https://cran.r-project.org/bin/windows/contrib/4.2/fontawesome_0.5.1.zip' failed\n"
     ]
    },
    {
     "name": "stderr",
     "output_type": "stream",
     "text": [
      "Warning message in download.packages(pkgs, destdir = tmpd, available = available, :\n",
      "\"download of package 'fontawesome' failed\"\n",
      "Warning message in download.file(url, destfile, method, mode = \"wb\", ...):\n",
      "\"downloaded length 1261568 != reported length 2277035\"\n",
      "Warning message in download.file(url, destfile, method, mode = \"wb\", ...):\n",
      "\"URL 'https://cran.r-project.org/bin/windows/contrib/4.2/data.table_1.14.8.zip': Timeout of 60 seconds was reached\"\n"
     ]
    },
    {
     "name": "stdout",
     "output_type": "stream",
     "text": [
      "Error in download.file(url, destfile, method, mode = \"wb\", ...) : \n",
      "  download from 'https://cran.r-project.org/bin/windows/contrib/4.2/data.table_1.14.8.zip' failed\n"
     ]
    },
    {
     "name": "stderr",
     "output_type": "stream",
     "text": [
      "Warning message in download.packages(pkgs, destdir = tmpd, available = available, :\n",
      "\"download of package 'data.table' failed\"\n",
      "Warning message in download.file(url, destfile, method, mode = \"wb\", ...):\n",
      "\"downloaded length 1064960 != reported length 1960652\"\n",
      "Warning message in download.file(url, destfile, method, mode = \"wb\", ...):\n",
      "\"URL 'https://cran.r-project.org/bin/windows/contrib/4.2/isoband_0.2.7.zip': Timeout of 60 seconds was reached\"\n"
     ]
    },
    {
     "name": "stdout",
     "output_type": "stream",
     "text": [
      "Error in download.file(url, destfile, method, mode = \"wb\", ...) : \n",
      "  download from 'https://cran.r-project.org/bin/windows/contrib/4.2/isoband_0.2.7.zip' failed\n"
     ]
    },
    {
     "name": "stderr",
     "output_type": "stream",
     "text": [
      "Warning message in download.packages(pkgs, destdir = tmpd, available = available, :\n",
      "\"download of package 'isoband' failed\"\n",
      "Warning message in download.file(url, destfile, method, mode = \"wb\", ...):\n",
      "\"downloaded length 704512 != reported length 793015\"\n",
      "Warning message in download.file(url, destfile, method, mode = \"wb\", ...):\n",
      "\"URL 'https://cran.r-project.org/bin/windows/contrib/4.2/gargle_1.5.0.zip': Timeout of 60 seconds was reached\"\n"
     ]
    },
    {
     "name": "stdout",
     "output_type": "stream",
     "text": [
      "Error in download.file(url, destfile, method, mode = \"wb\", ...) : \n",
      "  download from 'https://cran.r-project.org/bin/windows/contrib/4.2/gargle_1.5.0.zip' failed\n"
     ]
    },
    {
     "name": "stderr",
     "output_type": "stream",
     "text": [
      "Warning message in download.packages(pkgs, destdir = tmpd, available = available, :\n",
      "\"download of package 'gargle' failed\"\n"
     ]
    }
   ],
   "source": [
    "# Uncomment to install tidyverse if running locally\n",
    "install.packages(\"tidyverse\")"
   ]
  },
  {
   "cell_type": "code",
   "execution_count": null,
   "id": "4fbddc61-8121-4731-bb07-694ac6ef4e49",
   "metadata": {},
   "outputs": [],
   "source": [
    "# Load tidyverse\n",
    "library(tidyverse)"
   ]
  },
  {
   "cell_type": "markdown",
   "id": "f6cba1c7-0c28-4245-b0b3-8a2b10f9de47",
   "metadata": {},
   "source": [
    "The Tidyverse library has a suite of packages that all work together well, namely:\n",
    "* tidyr: helps create tidy data\n",
    "* dplyr: manipulates and transforms data\n",
    "* readr: easily read different types of datasets\n",
    "* purrr: functional programming toolkit\n",
    "* ggplot2: create plots and visualizations\n",
    "\n",
    "In this notebook, we will mainly use functions from readr and dplyr. However, don't worry about memorizing which function is from which library, just know that all are included in Tidyverse.\n"
   ]
  },
  {
   "cell_type": "markdown",
   "id": "2cf8f878-36a0-4d84-ba60-0983785c7663",
   "metadata": {},
   "source": [
    "<h2>Read Data</h2>\n",
    "<p>\n",
    "We use the function <code>readr::read_csv()</code> to read csv files. The <code>::</code> tells you which package the function is from, so <code>read_csv()</code> is from library <code>readr</code> (which is automatically loaded with Tidyverse). There are a few parts to the function to go over:\n",
    "</p>\n",
    "\n",
    "* `file` (or the first parameter): this is file path along with quotation marks, so that `read_csv()` will read the file into a data frame from that address. The file path can be either an URL or your local file address.\n",
    "* `col_names`: by deafult this is set to `col_names = TRUE`. If this is TRUE then the first row is set as the headers (which is correct in this dataset).\n",
    "* `col_types`: used to specify what types columns are. By default, `read_csv()` will guess the type of the columns but if there are columns you want to specify you can do so as well. \n",
    "    * Posible types you could use are `col_logical()`, `col_integer()`, `col_number()`, `col_character()`. You can look at the documentation of `readr::cols` for more.\n",
    "    \n",
    "You can assign the loaded dataset to any variable name, here it is `sub_airline`.\n"
   ]
  },
  {
   "cell_type": "code",
   "execution_count": null,
   "metadata": {},
   "outputs": [],
   "source": [
    "folder = \"K:\\\\LEARN AI FPT\\\\TERM 5\\\\DSR301m\\\\DSR301m\\\\\""
   ]
  },
  {
   "cell_type": "code",
   "execution_count": null,
   "id": "48fd33f7-c8aa-4096-bdbe-845544882a51",
   "metadata": {},
   "outputs": [],
   "source": [
    "# url where the data is located\n",
    "url <- \"https://dax-cdn.cdn.appdomain.cloud/dax-airline/1.0.1/lax_to_jfk.tar.gz\"\n",
    "# download the file\n",
    "download.file(url, destfile = paste(folder,\"lax_to_jfk.tar.gz\",sep=''))\n",
    "# untar the file so we can get the csv only\n",
    "untar(\"lax_to_jfk.tar.gz\", tar = \"internal\")\n",
    "# read_csv only \n",
    "sub_airline <- read_csv(\"lax_to_jfk/lax_to_jfk.csv\",\n",
    "                     col_types = cols(\n",
    "                      'DivDistance' = col_number(),\n",
    "                      'DivArrDelay' = col_number()\n",
    "                      ))"
   ]
  },
  {
   "cell_type": "markdown",
   "id": "b2261dc7-a51c-4638-b4e3-4116c6c2be92",
   "metadata": {},
   "source": [
    "After reading the dataset, there are a few functions you can use to get some initial information about the dataframe:\n",
    "* `head(dataframe, n)`: returns the first *n* rows of the dataframe, if *n* is not specified, then by default the first 6 rows (not including the column headers) are returned\n",
    "* `tail(dataframe, n)`: returns the last *n* rows of the dataframe, if *n* is not specified, then by default the last 6 rows are returned.\n",
    "* `colnames(dataframe)`: retrieves the column names of the dataframe\n",
    "* `dim(dataframe)`: retrieves the dimension (number of rows and columns) of the dataframe\n"
   ]
  },
  {
   "cell_type": "code",
   "execution_count": null,
   "id": "69e92c9e-9756-457a-b569-e797c3f72b48",
   "metadata": {},
   "outputs": [],
   "source": [
    "# show the first n = 3 rows\n",
    "head(sub_airline, 3)"
   ]
  },
  {
   "cell_type": "markdown",
   "id": "cf8f6b26-e7e5-42f9-b424-012ad39e383c",
   "metadata": {},
   "source": [
    "Or, you can choose to not input `n`, then it will show the first or the last 6 rows as default.\n"
   ]
  },
  {
   "cell_type": "code",
   "execution_count": null,
   "id": "443420b9-af59-42ea-8ca4-af3a78401b49",
   "metadata": {},
   "outputs": [],
   "source": [
    "# show the first 6 rows\n",
    "head(sub_airline)"
   ]
  },
  {
   "cell_type": "code",
   "execution_count": null,
   "id": "eaad45e1-0db3-466b-9875-b97fe9905b3d",
   "metadata": {},
   "outputs": [],
   "source": [
    "# show the last 6 rows\n",
    "tail(sub_airline)"
   ]
  },
  {
   "cell_type": "markdown",
   "id": "048d9b5e-d7ac-4d24-b4c2-ae2370ef4e5f",
   "metadata": {},
   "source": [
    "<div class=\"alert alert-danger alertdanger\" style=\"margin-top: 20px\">\n",
    "<h1> Question #1: </h1>\n",
    "<b>Check the last 10 rows of data frame \"sub_airline\".</b>\n",
    "</div>\n"
   ]
  },
  {
   "cell_type": "code",
   "execution_count": null,
   "id": "1b98630f-95d8-4e15-b278-2cc3ee855d8e",
   "metadata": {},
   "outputs": [],
   "source": [
    "# Write your code below and press Shift+Enter to execute \n"
   ]
  },
  {
   "cell_type": "markdown",
   "id": "4e0fe083-6ac9-4807-86ab-976f6c9a649b",
   "metadata": {},
   "source": [
    "<details>\n",
    "    <summary>Click here for the solution.</summary>\n",
    "\n",
    "```r\n",
    "tail(sub_airline, 10)\n",
    "```\n",
    "    \n",
    "</details>\n"
   ]
  },
  {
   "cell_type": "markdown",
   "id": "1cc875a4-808f-4a5b-977b-78a85fd18323",
   "metadata": {},
   "source": [
    "## Preprocess Data\n",
    "\n",
    "Throughout this course, we are going to be focusing on flights from  LAX to JFK and predict the possibility of Amy's flight delays. So we also exclude flights that got cancelled or diverted. The previous example uses the final subset dataset `sub_airline`. However, there was some preprocessing done on the original dataset to get there. You can find the full dataset here: https://developer.ibm.com/technologies/artificial-intelligence/data/airline/. \n",
    "\n",
    "From this original dataset, we will show you how we got the `sub_airline` dataset. After downloading the original data with `download.file()` and reading the file with `read_csv()`:\n",
    "\n",
    "1. Firstly, we use `dplyr::filter()` to filter out all flights from `LAX` to `JFK`, and filter out the cancelled and diverted flights.\n",
    "2. Then, we use `dplyr::select()` to select the columns by a pre-determined headers list. The original dataset contains more than 100 columns, so we are only going to use a few of the columns such as `Month`, `DaysOfWeek`, `FlightDate`, `Reporting_Airline`, and so on.\n",
    "\n",
    "The below code is to show you how to subset a big dataset. The code is here for your reference. Feel free to play around with it and modify the columns. Remember **not** to run the below code in Skills Network Labs. The data size too big and it is better run to run locally so that Skills Network Labs does not freeze or lag.\n"
   ]
  },
  {
   "cell_type": "raw",
   "id": "b9fa176d-b469-4711-8468-58aba05589bb",
   "metadata": {},
   "source": [
    "# THIS CELL TAKES LONGER TO RUN\n",
    "# PLEASE RUN THIS LOCALLY, OR IT MAY FREEZE YOUR SKILLS NETWORK LABS KERNEL\n",
    "# Download 2 million dataset\n",
    "\n",
    "# url where the data is located\n",
    "url <- \"https://dax-cdn.cdn.appdomain.cloud/dax-airline/1.0.1/airline_2m.tar.gz\"\n",
    "\n",
    "# download the file\n",
    "download.file(url, destfile = \"airline_2m.tar.gz\")\n",
    "\n",
    "# untar the file so we can get the csv only\n",
    "untar(\"airline_2m.tar.gz\")\n",
    "\n",
    "# read_csv only \n",
    "airlines <- read_csv(\"airline_2m.csv\",\n",
    "                     col_types = cols(\n",
    "                      'DivDistance' = col_number(),\n",
    "                      'Div1Airport' = col_character(),\n",
    "                      'Div1AirportID' = col_character(),\n",
    "                      'Div1AirportSeqID' = col_character(),\n",
    "                      'Div1WheelsOn' = col_character(),\n",
    "                      'Div1TotalGTime' = col_number(),\n",
    "                      'Div1LongestGTime' = col_number(),\n",
    "                      'DivReachedDest' = col_number(),\n",
    "                      'DivActualElapsedTime' = col_number(),\n",
    "                      'DivArrDelay' = col_number(),\n",
    "                      'Div1WheelsOff'= col_character(),\n",
    "                      'Div1TailNum' = col_character(),\n",
    "                      'Div2Airport' = col_character(),\n",
    "                      'Div2AirportID' = col_character(),\n",
    "                      'Div2AirportSeqID' = col_character(),\n",
    "                      'Div2WheelsOn' = col_character(),\n",
    "                      'Div2TotalGTime' = col_number(),\n",
    "                      'Div2LongestGTime' = col_number(),\n",
    "                      'Div2WheelsOff' = col_character(),\n",
    "                      'Div2TailNum' = col_character()\n",
    "                      ))\n",
    "# We are going to be focusing on flights from  LAX to JFK and we will exclude\n",
    "# flights that got cancelled or diverted\n",
    "# we are also going to get only useful columns\n",
    "sub_airline <- airlines %>% \n",
    "  filter(Origin == \"LAX\", Dest == \"JFK\", \n",
    "         Cancelled != 1, Diverted != 1) %>% \n",
    "  select(Month, DayOfWeek, FlightDate, \n",
    "         Reporting_Airline, Origin, Dest, \n",
    "         CRSDepTime, CRSArrTime, DepTime, \n",
    "         ArrTime, ArrDelay, ArrDelayMinutes, \n",
    "         CarrierDelay, WeatherDelay, NASDelay,\n",
    "         SecurityDelay, LateAircraftDelay, DepDelay, \n",
    "         DepDelayMinutes, DivDistance, DivArrDelay)"
   ]
  },
  {
   "cell_type": "markdown",
   "id": "ec29218d-468b-44f0-b0a1-a13b2d5c0fee",
   "metadata": {},
   "source": [
    "Print and recheck our subset airline data using `dim()` on `sub_airline`.\n"
   ]
  },
  {
   "cell_type": "markdown",
   "id": "a040d9d3-89ec-4ce8-8aa9-3a62ca756e4b",
   "metadata": {},
   "source": [
    "This subset dataframe should include 2855 rows and 21 columns.\n"
   ]
  },
  {
   "cell_type": "code",
   "execution_count": null,
   "id": "5006f442-ebff-49f9-bdba-998a57fd67d1",
   "metadata": {},
   "outputs": [],
   "source": [
    "# Check dimensions of the dataset\n",
    "dim(sub_airline)"
   ]
  },
  {
   "cell_type": "markdown",
   "id": "7bfdcbfc-4b86-4b54-8a50-9d01fed38a27",
   "metadata": {},
   "source": [
    " <div class=\"alert alert-danger alertdanger\" style=\"margin-top: 20px\">\n",
    "<h1> Question #2: </h1>\n",
    "<b>Find the name of the columns of the dataframe</b>\n",
    "</div>\n"
   ]
  },
  {
   "cell_type": "code",
   "execution_count": null,
   "id": "6288be61-47e3-4ee2-941d-7245bb1a7c3e",
   "metadata": {},
   "outputs": [],
   "source": [
    "# Write your code below and press Shift+Enter to execute \n"
   ]
  },
  {
   "cell_type": "markdown",
   "id": "91ec782e-5648-4ae3-843b-a70be0183758",
   "metadata": {},
   "source": [
    "<details>\n",
    "    <summary>Click here for the solution.</summary>\n",
    "    \n",
    "```r\n",
    "colnames(sub_airline)\n",
    "```\n",
    "    \n",
    "</details>\n"
   ]
  },
  {
   "cell_type": "markdown",
   "id": "18826573-26b6-4bee-8dd5-1a3567bb9f50",
   "metadata": {},
   "source": [
    "<h2>Save Dataset</h2>\n",
    "<p>\n",
    "Correspondingly, \"readr\" enables us to save the dataset to csv by using the <code>write_csv()</code> method, you can add the file path and name along with quotation marks in the brackets.\n",
    "</p>\n",
    "<p>\n",
    "For example, if you wanted to save the dataframe <b>sub_airline</b> as <b>lax_to_jfk.csv</b> to your local machine in the current directory, you can use the syntax below:\n",
    "</p>\n"
   ]
  },
  {
   "cell_type": "code",
   "execution_count": null,
   "id": "3bb1d264-9756-4a4f-bb70-5ea4f3920720",
   "metadata": {},
   "outputs": [],
   "source": [
    "write_csv(sub_airline, \"lax_to_jfk.csv\")"
   ]
  },
  {
   "cell_type": "markdown",
   "id": "d8ff1edd-694f-4ed7-805a-5f7dd91c7803",
   "metadata": {},
   "source": [
    "<h2>Read/Save Other Data Formats</h2>\n",
    "\n",
    "We can also read and save other file formats, we can use similar functions to **`read_csv()`** and **`write_csv()`** for other data formats, the functions are listed in the following table:\n"
   ]
  },
  {
   "cell_type": "markdown",
   "id": "c9971698-c0cb-4f3d-8c6b-d5ddbdc0fcf4",
   "metadata": {},
   "source": [
    "| Data Format  | Read           | Save             |\n",
    "| ------------- |:--------------:| ----------------:|\n",
    "| csv           | `read_csv()`  |`write_csv()`     |\n",
    "| tsv           | `read_tsv()`  |`write_tsv()`     |\n",
    "| delimiter     |`read_delim()` |`write_delim()`   |\n",
    "| ...           |   ...          |       ...        |\n",
    "\n",
    "You can find more functions from the \"readr\" documentation [here](https://readr.tidyverse.org/?utm_medium=Exinfluencer&utm_source=Exinfluencer&utm_content=000026UJ&utm_term=10006555&utm_id=NA-SkillsNetwork-Channel-SkillsNetworkCoursesIBMDA0151ENSkillsNetwork926-2022-01-01). \n"
   ]
  },
  {
   "cell_type": "markdown",
   "id": "aa9f72f0-9122-49d5-b778-5bd57975d180",
   "metadata": {},
   "source": [
    "<a id=\"cell2\"></a>\n",
    "<h1 id=\"basic_insight\">2. Basic Insights of the Dataset</h1>\n",
    "<p>\n",
    "After reading data into a dataframe, it is time for us to explore the dataset a little more.<br>\n",
    "There are several ways to obtain essential insights of the data to help us better understand our dataset.\n",
    "</p>\n"
   ]
  },
  {
   "cell_type": "markdown",
   "id": "92ba8a41-fae9-49e8-ad70-dce8fb7e49a7",
   "metadata": {},
   "source": [
    "## Data Types\n",
    "\n",
    "Data has a variety of types.\n",
    "\n",
    "The main types stored in R are: `numeric`, `integer`, `complex`, `logical`, `character`. In order to better learn about each attribute, it is always good for us to know the data type of each column. \n",
    "\n",
    "Let's check by using `sapply()` to apply  `typeof` to every column in the dataframe `sub_airline`:\n"
   ]
  },
  {
   "cell_type": "code",
   "execution_count": null,
   "id": "93584ec6-3995-4b2e-b03b-8da9eefdab40",
   "metadata": {},
   "outputs": [],
   "source": [
    "sapply(sub_airline, typeof) "
   ]
  },
  {
   "cell_type": "markdown",
   "id": "54a1e9c2-93e1-4564-80e5-103fcb93f7fc",
   "metadata": {},
   "source": [
    "**Numeric and Integer Types**\n",
    "\n",
    "Decimal values are called `numeric` in R. It is the default computational data type. If we assign a decimal value to a variable x as follows, x will be of numeric type.\n"
   ]
  },
  {
   "cell_type": "code",
   "execution_count": null,
   "id": "6718867c-476f-4bb0-a1eb-119c62588717",
   "metadata": {},
   "outputs": [],
   "source": [
    "x = 10.5       # assign a decimal value \n",
    "class(x)       # print the class name of x, which should be numeric"
   ]
  },
  {
   "cell_type": "markdown",
   "id": "0e71d1c2-fedc-4f55-a6be-1cc922cfaf9f",
   "metadata": {},
   "source": [
    "Furthermore, even if we assign an integer to a variable k, it is still being saved as a numeric value.\n"
   ]
  },
  {
   "cell_type": "code",
   "execution_count": null,
   "id": "ca667855-c13b-49c6-bf7b-877a81c7b7ad",
   "metadata": {},
   "outputs": [],
   "source": [
    "k = 1          # assign an integer value \n",
    "class(x)       # print the class name of x, which should be numeric"
   ]
  },
  {
   "cell_type": "markdown",
   "id": "7f373cd2-0808-4e69-9a64-1e77c27aee0a",
   "metadata": {},
   "source": [
    "In order to create an integer variable in R, we invoke the integer function. We can be assured that y is indeed an integer by applying the is.integer function.\n"
   ]
  },
  {
   "cell_type": "code",
   "execution_count": null,
   "id": "238fdf6b-38e4-4527-b659-8bf5a2a40436",
   "metadata": {},
   "outputs": [],
   "source": [
    "y = as.integer(3)        # assign a integer value \n",
    "class(y)                 # print the class name of y, which should be integer"
   ]
  },
  {
   "cell_type": "markdown",
   "id": "f287d07e-0f23-4192-8e02-dbada9437bea",
   "metadata": {},
   "source": [
    "**Complex Type**\n",
    "\n",
    "A complex value in R is defined via the pure imaginary value $i$ (`0i` in R). \n"
   ]
  },
  {
   "cell_type": "code",
   "execution_count": null,
   "id": "dbcb18ae-dfb9-4484-8fc5-1606bc82a216",
   "metadata": {},
   "outputs": [],
   "source": [
    "z = 0i\n",
    "class(z)"
   ]
  },
  {
   "cell_type": "markdown",
   "id": "1d0b585b-7311-495b-86d5-b9d8941c6a5f",
   "metadata": {},
   "source": [
    "**Logical Type**\n",
    "\n",
    "A logical value is often created via comparison between variables, such as True, False. \n"
   ]
  },
  {
   "cell_type": "code",
   "execution_count": null,
   "id": "c661f4ba-50de-435f-8020-0329243b2afc",
   "metadata": {},
   "outputs": [],
   "source": [
    "logical_values = c(TRUE, T, FALSE, F)\n",
    "class(logical_values)"
   ]
  },
  {
   "cell_type": "markdown",
   "id": "4c65aba5-7be0-4e52-810f-f4751a1c2e8c",
   "metadata": {},
   "source": [
    "**Character Type**\n",
    "\n",
    "A character object is used to represent string values in R.\n"
   ]
  },
  {
   "cell_type": "code",
   "execution_count": null,
   "id": "4b9207c6-2bd8-4a7e-a7a9-5639b907a46a",
   "metadata": {},
   "outputs": [],
   "source": [
    "class('this is a character')"
   ]
  },
  {
   "cell_type": "markdown",
   "id": "361c8f10-7400-449d-aec0-0571348108f3",
   "metadata": {},
   "source": [
    "## Dplyr for Data Wrangling and Transformation\n",
    "\n",
    "The dplyr package is very useful to transform data and get basic insights from the dataset. The most important functions are:\n",
    "* `select()`\n",
    "* `filter()`\n",
    "* `summarize()`\n",
    "* `arrange()`\n",
    "* `mutate()`\n",
    "* `group_by()`\n"
   ]
  },
  {
   "cell_type": "markdown",
   "id": "fbace745-d918-4bea-99d8-8f4a48d6ae02",
   "metadata": {},
   "source": [
    "### Pipe\n",
    "Before we dive deeper into using some of the functions of dyplr, we first introduce the **pipe** operator **`%>%`**. The pipe operator allows us to chain together dplyr data wrangling functions.\n",
    "\n",
    "An advantage of using pipe is that it replaces having messy nested functions that can be difficult to interpret like:\n"
   ]
  },
  {
   "cell_type": "raw",
   "id": "b0a0568d-cf51-4c3a-bc27-73c88041ef3b",
   "metadata": {},
   "source": [
    "summarize(group_by(filter(sub_airline, Month == 1), Reporting_Airline), avg_carrier_delay = mean(CarrierDelay, na.rm = TRUE))"
   ]
  },
  {
   "cell_type": "markdown",
   "id": "f7d28555-64f3-426a-99e8-d99e038107b5",
   "metadata": {},
   "source": [
    "The same code can be written using pipe and makes it much easier to understand:\n"
   ]
  },
  {
   "cell_type": "raw",
   "id": "ac9a6577-8e62-4056-95b1-ba1b5b3ecb8d",
   "metadata": {},
   "source": [
    "sub_airline %>% \n",
    "  filter(Month == 1) %>%\n",
    "  group_by(Reporting_Airline) %>%\n",
    "  summarize(avg_carrier_delay = mean(CarrierDelay, na.rm = TRUE))"
   ]
  },
  {
   "cell_type": "markdown",
   "id": "004a77a6-64b6-4413-b5ae-8ca851eb73b9",
   "metadata": {},
   "source": [
    "When interpreting the above lines of code, the pipe operator can be read as “then”. \n",
    "The **`%>%`** operator allows us to go from one step in dplyr to the next easily, so the above example can clearily be interpreted as:\n",
    "* **`filter`** our data frame for month 1 *then*\n",
    "* **`group_by`** the reporting airline types *then*\n",
    "* **`summarize`** the average `CarrierDelay` for each airline. The final output is the average `CarrierDelay` for each `Reporting_Airline` in month 1.\n"
   ]
  },
  {
   "cell_type": "markdown",
   "id": "1e4f883f-849d-4bbd-9dc7-14afee28968a",
   "metadata": {},
   "source": [
    "### Summarize \n",
    "\n",
    "Now, let's go over some examples using basic dplyr functions with pipe.\n",
    "If we would like to get a statistical summary of a column, such as count, column mean value, column standard deviation, etc., we can use the `summarize()` method (can also use `summarise()`).\n"
   ]
  },
  {
   "cell_type": "markdown",
   "id": "149e0093-04f8-4c0f-9097-7090e0f93a8d",
   "metadata": {},
   "source": [
    "This method will provide various summary statistics, excluding `NA` (Not Available) values.\n"
   ]
  },
  {
   "cell_type": "code",
   "execution_count": null,
   "id": "78bbc321-1762-45c7-a0bc-57c9e8aa7faa",
   "metadata": {},
   "outputs": [],
   "source": [
    "# group_by / summarize workflow example\n",
    "sub_airline %>%\n",
    "  group_by(Reporting_Airline) %>%\n",
    "  summarize(avg_carrier_delay = mean(CarrierDelay, na.rm = TRUE)) # use mean value"
   ]
  },
  {
   "cell_type": "markdown",
   "id": "791f4206-1ecd-456d-97d0-160ac30c3fca",
   "metadata": {},
   "source": [
    "The statistical metrics can tell the data scientist if there are mathematical issues that may exist in a particular column, such as extreme outliers and large deviations. The data scientist may have to address these issues later. The above example used `mean()` to return the mean value of arrival delay, you may also use `sd` for standard deviation, `median`, etc.\n"
   ]
  },
  {
   "cell_type": "code",
   "execution_count": null,
   "id": "cfcb2aee-0cb9-4da0-8d49-7383da598f11",
   "metadata": {},
   "outputs": [],
   "source": [
    "# group_by / summarise workflow example\n",
    "sub_airline %>%\n",
    "  group_by(Reporting_Airline) %>%\n",
    "  summarize(sd_carrier_delay = sd(CarrierDelay, na.rm = TRUE)) # use standard deviation"
   ]
  },
  {
   "cell_type": "markdown",
   "id": "8358045b-4e5a-40bc-a0c7-32a02bdb2347",
   "metadata": {},
   "source": [
    "<div class=\"alert alert-danger alertdanger\" style=\"margin-top: 20px\">\n",
    "<h1> Question #3: </h1>\n",
    "\n",
    "Using `sub_airline`, get the mean of `ArrDelay` for each `Reporting_Airline`. \n",
    "In other words, group by `Reporting_Airline` and summarize the mean of `ArrDelay` of each reporting airline. Remember to use `na.rm = TRUE`.\n",
    "</div>\n"
   ]
  },
  {
   "cell_type": "markdown",
   "id": "6fb27ce3-74be-4263-acfe-e7cf47e6fad5",
   "metadata": {},
   "source": [
    "<details>\n",
    "    <summary>Click here for the solution.</summary>\n",
    "\n",
    "```r\n",
    "sub_airline %>%\n",
    "  group_by(Reporting_Airline) %>%\n",
    "  summarize(airline_Delay = mean(ArrDelay, na.rm = TRUE))\n",
    "```\n",
    "    \n",
    "</details>\n"
   ]
  },
  {
   "cell_type": "markdown",
   "id": "75169574-8093-46d7-ac7e-8059584d17f7",
   "metadata": {},
   "source": [
    "### Glimpse\n",
    "Another method you can use to check your dataset is:\n"
   ]
  },
  {
   "cell_type": "raw",
   "id": "6711fe63-b1ca-4aa2-9290-4ca0b3894a68",
   "metadata": {},
   "source": [
    "glimpse()"
   ]
  },
  {
   "cell_type": "markdown",
   "id": "273c7b22-6e8b-43ec-9c02-3151f87342f5",
   "metadata": {},
   "source": [
    "It provide a concise summary of your DataFrame.\n"
   ]
  },
  {
   "cell_type": "code",
   "execution_count": null,
   "id": "37285ee4-7408-41a8-9a29-8ae3f763d447",
   "metadata": {},
   "outputs": [],
   "source": [
    "# look at the info of airline dataset\n",
    "glimpse(sub_airline)"
   ]
  },
  {
   "cell_type": "markdown",
   "id": "73a96397-712f-4ecf-9169-b7903aaae000",
   "metadata": {},
   "source": [
    "<p>\n",
    "Here we are able to see the information of our dataframe, it prints out column names, column types, and first few values for brief data previews. It also shows us this subset dataset has 2,855 rows and 21 columns. \n",
    "</p>\n",
    "\n",
    "This subset dataset `sub_airline` (\"lax_to_jfk.csv\") will be used throughout the course.\n"
   ]
  },
  {
   "cell_type": "markdown",
   "id": "53fc6dc4-94d6-4091-abde-b4370bbb99c6",
   "metadata": {},
   "source": [
    "<h1>Excellent! You have just completed the  Introduction  Notebook!</h1>\n"
   ]
  },
  {
   "cell_type": "markdown",
   "id": "5a06eb00-6d5c-4660-864f-077db01da2d6",
   "metadata": {},
   "source": [
    "### About the Authors:\n",
    "\n",
    "This notebook was written by [Yiwen Li](https://developer.ibm.com/profiles/yiwen.li/?utm_medium=Exinfluencer&utm_source=Exinfluencer&utm_content=000026UJ&utm_term=10006555&utm_id=NA-SkillsNetwork-Channel-SkillsNetworkCoursesIBMDA0151ENSkillsNetwork926-2022-01-01) and [Gabriela De Queiroz](https://developer.ibm.com/profiles/gdq/?utm_medium=Exinfluencer&utm_source=Exinfluencer&utm_content=000026UJ&utm_term=10006555&utm_id=NA-SkillsNetwork-Channel-SkillsNetworkCoursesIBMDA0151ENSkillsNetwork926-2022-01-01).\n",
    "\n",
    "<p><a href=\"https://www.linkedin.com/in/yiwen-li-47a019119/?utm_medium=Exinfluencer&utm_source=Exinfluencer&utm_content=000026UJ&utm_term=10006555&utm_id=NA-SkillsNetwork-Channel-SkillsNetworkCoursesIBMDA0151ENSkillsNetwork926-2022-01-01\" target=\"_blank\">Yiwen Li</a> has approximately three year experiences in big tech industry. Currently, she is a developer advocate, a data scientist, a product manager at IBM, where she designs and develops data science solutions and Machine Learning models to solve real world problems. She has delivered talks this year in JupyterCon, PyCon, Pyjamas, CrowdCast.ai, Global AI on Tour 2020 and Belpy 2021 with hundreds of attendants per talk. \n",
    "        \n",
    "<a href=\"https://www.linkedin.com/in/gabrieladequeiroz/?utm_medium=Exinfluencer&utm_source=Exinfluencer&utm_content=000026UJ&utm_term=10006555&utm_id=NA-SkillsNetwork-Channel-SkillsNetworkCoursesIBMDA0151ENSkillsNetwork926-2022-01-01\" target=\"_blank\">Gabriela de Queiroz</a> is a Sr. Engineering & Data Science Manager at IBM where she manages and leads a team of developers working on Data & AI Open Source projects. She works to democratize AI by building tools and launching new open source projects.\n",
    "She is the founder of AI Inclusive, a global organization that is helping increase the representation and participation of gender minorities in Artificial Intelligence. She is also the founder of R-Ladies, a worldwide organization for promoting diversity in the R community with more than 190 chapters in 50+ countries.\n",
    "She has worked in several startups and where she built teams, developed statistical models, and employed a variety of techniques to derive insights and drive data-centric decisions\n"
   ]
  },
  {
   "cell_type": "markdown",
   "id": "2303e385-3536-4d62-8e98-2ada2899103c",
   "metadata": {},
   "source": [
    "Copyright © 2021 IBM Corporation. All rights reserved.\n"
   ]
  }
 ],
 "metadata": {
  "kernelspec": {
   "display_name": "R",
   "language": "R",
   "name": "ir"
  }
 },
 "nbformat": 4,
 "nbformat_minor": 4
}
