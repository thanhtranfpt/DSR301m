{
 "cells": [
  {
   "cell_type": "markdown",
   "id": "c05e0201-4827-4416-9484-8d3d1e3f119e",
   "metadata": {},
   "source": [
    "<center>\n",
    "<img src=\"https://cf-courses-data.s3.us.cloud-object-storage.appdomain.cloud/IBMDeveloperSkillsNetwork-RP0101EN-Coursera/v2/M3_R_Foundamentals/images/SN_web_lightmode.png\" width=\"300\"> \n",
    "<center/>\n"
   ]
  },
  {
   "cell_type": "markdown",
   "id": "4b881bf8-1cd7-4f12-9fd4-92e0d79f260f",
   "metadata": {},
   "source": [
    "<h1>Webscraping in R</h1>\n",
    "\n",
    "Estimated time needed: **15** minutes\n",
    "\n",
    "## Objectives\n",
    "\n",
    "After completing this lab you will be able to:\n",
    "\n",
    "-   Understand HTML via coding practice\n",
    "-   Perform basic webscraping using rvest\n"
   ]
  },
  {
   "cell_type": "markdown",
   "id": "24429df9-edd9-476f-a584-f3ce6a2066b0",
   "metadata": {},
   "source": [
    "<h2>Table of Contents</h2>\n",
    "\n",
    "<div class=\"alert alert-block alert-info\" style=\"margin-top: 20px\">\n",
    "    <ul>\n",
    "        <li><a href=\"#Overview-of-HTML\">Overview of HTML</a></li>\n",
    "        <li><a href=\"#The-rvest-library\">The rvest library</a></li> \n",
    "</div>\n",
    "\n",
    "<hr>\n"
   ]
  },
  {
   "cell_type": "markdown",
   "id": "7b74792b-12f4-42f8-a748-fc739ded868c",
   "metadata": {},
   "source": [
    "<a id=\"ref0\"></a>\n",
    "\n",
    "<h2 id=\"#html\">Overview of HTML</h2>\n"
   ]
  },
  {
   "cell_type": "markdown",
   "id": "3aa97a8d-3e87-425c-9ce3-d0ecacef66bc",
   "metadata": {},
   "source": [
    "- HTML stands for Hypertext Markup Language and it is used mainly for writing web pages.\n",
    "\n",
    "- An HTML page consists of many organized HTML nodes or elements that tell a browser how to render its content.  \n",
    "\n",
    "- Each node or element has a start tag and an end tag with the same name and wraps some textual content.\n"
   ]
  },
  {
   "cell_type": "markdown",
   "id": "f1e1c8f9-d7f6-42c1-a08a-23fd3b8c4202",
   "metadata": {},
   "source": [
    "One key feature of HTML is that nodes can be nested within other nodes, organizing into a tree-like structure like the folders in a file system. Below is a basic HTML node structure:\n",
    "\n",
    "- `<html>` node is the root node, \n",
    "\n",
    "- `<html>` node has two children: `<head>` and `<body>`.\n",
    "\n",
    "- Since the `<head>` and `<body>` nodes have the same parent `<html>` node they are siblings to each other.\n",
    "\n",
    "- Similarly, the `<body>` node has two child nodes, the `<h1>` and `<p>` nodes.\n",
    "\n",
    "It is important to understand this tree-structure when writing a new HTML page or extracting data from an existing HTML page.\n"
   ]
  },
  {
   "cell_type": "markdown",
   "id": "78928cb8-d7aa-4dc3-a06b-e253f8937edd",
   "metadata": {},
   "source": [
    "<img src=\"https://cf-courses-data.s3.us.cloud-object-storage.appdomain.cloud/IBMDeveloperSkillsNetwork-RP0101EN-Coursera/v2/M4_Working_With_Data/images/html.png\" width=\"600\" align=\"center\">\n"
   ]
  },
  {
   "cell_type": "markdown",
   "id": "780100ec-9297-4cde-87a9-fa8b795c66eb",
   "metadata": {},
   "source": [
    "<a id=\"ref1\"></a>\n",
    "\n",
    "<h2 id=\"#revest\">The `revest` library</h2>\n"
   ]
  },
  {
   "cell_type": "markdown",
   "id": "c6f7fbc2-11ad-450f-9cdd-b96626b08098",
   "metadata": {},
   "source": [
    "The `rvest` package is a popular web scraping package for R. After rvest reads an HTML page, you can use the tag names to find the child nodes of the current node.\n"
   ]
  },
  {
   "cell_type": "code",
   "execution_count": 1,
   "id": "b12a342c-373e-4d6c-b2b3-36569691ab07",
   "metadata": {},
   "outputs": [
    {
     "name": "stderr",
     "output_type": "stream",
     "text": [
      "Warning message:\n",
      "\"package 'rvest' was built under R version 4.2.3\"\n"
     ]
    }
   ],
   "source": [
    "library(rvest)"
   ]
  },
  {
   "cell_type": "markdown",
   "id": "957804e1-8fe6-4867-b259-4a96e2a1d9a0",
   "metadata": {},
   "source": [
    "We also need to import httr library to get some HTML pages by sending HTTP GET request\n"
   ]
  },
  {
   "cell_type": "code",
   "execution_count": 2,
   "id": "514cab47-04ae-4b32-a267-7cb9a422f1f5",
   "metadata": {},
   "outputs": [
    {
     "name": "stderr",
     "output_type": "stream",
     "text": [
      "Warning message:\n",
      "\"package 'httr' was built under R version 4.2.3\"\n"
     ]
    }
   ],
   "source": [
    "library(httr)"
   ]
  },
  {
   "cell_type": "markdown",
   "id": "f4fed04d-c76f-4a60-8a0a-91e0277b780c",
   "metadata": {},
   "source": [
    "First let's warm-up by reading HTML from the following character variable `simple_html_text`\n"
   ]
  },
  {
   "cell_type": "code",
   "execution_count": 3,
   "id": "d5fdcc83-1fcd-45be-b7cd-5bb82d6db099",
   "metadata": {},
   "outputs": [],
   "source": [
    "# A simple HTML document in a character variable\n",
    "simple_html_text <- \"\n",
    "<html>\n",
    "    <body>\n",
    "        <p>This is a test html page</p>\n",
    "    </body>\n",
    "</html>\""
   ]
  },
  {
   "cell_type": "markdown",
   "id": "0118c836-e689-4a98-9796-312b4bf00eba",
   "metadata": {},
   "source": [
    "Then use the read_html function to create the HTML root node, i.e., the html node by loading the `simple_html_text`\n"
   ]
  },
  {
   "cell_type": "code",
   "execution_count": 4,
   "id": "e1995361-1c79-480d-ac8f-5fe88544c667",
   "metadata": {},
   "outputs": [
    {
     "data": {
      "text/plain": [
       "{html_document}\n",
       "<html>\n",
       "[1] <body>\\n        <p>This is a test html page</p>\\n    </body>"
      ]
     },
     "metadata": {},
     "output_type": "display_data"
    }
   ],
   "source": [
    "# Create the root html node by reading the simple HTML string\n",
    "root_node <- read_html(simple_html_text)\n",
    "root_node"
   ]
  },
  {
   "cell_type": "markdown",
   "id": "93a7b0fd-2343-4b4b-9a39-0261722c495d",
   "metadata": {},
   "source": [
    "You can also check the type of `root_node`\n"
   ]
  },
  {
   "cell_type": "code",
   "execution_count": 5,
   "id": "5b4a194c-790b-43ef-9fb5-b63a630b095b",
   "metadata": {},
   "outputs": [
    {
     "data": {
      "text/html": [
       "<style>\n",
       ".list-inline {list-style: none; margin:0; padding: 0}\n",
       ".list-inline>li {display: inline-block}\n",
       ".list-inline>li:not(:last-child)::after {content: \"\\00b7\"; padding: 0 .5ex}\n",
       "</style>\n",
       "<ol class=list-inline><li>'xml_document'</li><li>'xml_node'</li></ol>\n"
      ],
      "text/latex": [
       "\\begin{enumerate*}\n",
       "\\item 'xml\\_document'\n",
       "\\item 'xml\\_node'\n",
       "\\end{enumerate*}\n"
      ],
      "text/markdown": [
       "1. 'xml_document'\n",
       "2. 'xml_node'\n",
       "\n",
       "\n"
      ],
      "text/plain": [
       "[1] \"xml_document\" \"xml_node\"    "
      ]
     },
     "metadata": {},
     "output_type": "display_data"
    }
   ],
   "source": [
    "class(root_node)"
   ]
  },
  {
   "cell_type": "markdown",
   "id": "f1eb9a3f-efaa-4ed8-9edc-fd0f3970c4b1",
   "metadata": {},
   "source": [
    "You can see the class is `xml_node` because rvest load HTML pages and convert them using XML format internally. XML has similar parent-child tree structure but more suitable for storing and tranporting data than HTML.\n"
   ]
  },
  {
   "cell_type": "markdown",
   "id": "af5c5d95-4115-422d-a131-66f1485b0720",
   "metadata": {},
   "source": [
    "Next, let's try to create a HTML node by loading a remote HTML page given a URL\n"
   ]
  },
  {
   "cell_type": "code",
   "execution_count": 6,
   "id": "25377549-1d4d-448d-a8fa-975dedb72d4c",
   "metadata": {},
   "outputs": [
    {
     "data": {
      "text/plain": [
       "{html_document}\n",
       "<html lang=\"en-US\">\n",
       "[1] <head>\\n<meta http-equiv=\"Content-Type\" content=\"text/html; charset=UTF-8 ...\n",
       "[2] <body>\\n<div id=\"__next\">\\n<div><div class=\"bx--dotcom-shell\">\\n<main cla ..."
      ]
     },
     "metadata": {},
     "output_type": "display_data"
    }
   ],
   "source": [
    "ibm_html_node <- read_html(\"http://www.ibm.com\")\n",
    "ibm_html_node"
   ]
  },
  {
   "cell_type": "markdown",
   "id": "423c685c-7036-4850-97e2-6dfc9e04d75b",
   "metadata": {},
   "source": [
    "Sometimes you want to download some HTML pages and analyze them offline, you could use `download.file` to do so:\n"
   ]
  },
  {
   "cell_type": "code",
   "execution_count": 7,
   "id": "f1caf0e9-9d93-4992-bb7b-9e46db58d093",
   "metadata": {},
   "outputs": [],
   "source": [
    "# download the R home page and save it to an HTML file locally called r.html\n",
    "download.file('https://www.r-project.org', destfile = 'r.html')"
   ]
  },
  {
   "cell_type": "code",
   "execution_count": 8,
   "id": "826a55b0-9dd8-4716-bedb-381bd5087098",
   "metadata": {},
   "outputs": [
    {
     "data": {
      "text/plain": [
       "{html_document}\n",
       "<html lang=\"en\">\n",
       "[1] <head>\\n<meta http-equiv=\"Content-Type\" content=\"text/html; charset=UTF-8 ...\n",
       "[2] <body>\\r\\n    <div class=\"container page\">\\r\\n      <div class=\"row\">\\r\\n ..."
      ]
     },
     "metadata": {},
     "output_type": "display_data"
    }
   ],
   "source": [
    "# Create a html_node from the local r.html file\n",
    "html_node <- read_html('r.html')\n",
    "html_node"
   ]
  },
  {
   "cell_type": "markdown",
   "id": "ae077b61-6d88-48e8-ade9-ff8656bb505a",
   "metadata": {},
   "source": [
    "<hr>\n",
    "\n",
    "**Coding Exercise:** in the code cell below, download a html node using any URL you like.\n"
   ]
  },
  {
   "cell_type": "code",
   "execution_count": 13,
   "id": "efe6dd87-a673-4e35-8c1f-69e673af5c55",
   "metadata": {},
   "outputs": [
    {
     "data": {
      "text/plain": [
       "{html_document}\n",
       "<html lang=\"vi\" id=\"facebook\" class=\"no_js\">\n",
       "[1] <head>\\n<meta http-equiv=\"Content-Type\" content=\"text/html; charset=UTF-8 ...\n",
       "[2] <body class=\"unsupportedBrowser x1 Locale_vi_VN\" dir=\"ltr\">\\n<script type ..."
      ]
     },
     "metadata": {},
     "output_type": "display_data"
    }
   ],
   "source": [
    "# Write your code below. Don't forget to press Shift+Enter to execute the cell\n",
    "url <- \"www.facebook.com/TXTPTTB\"\n",
    "download.file(url,destfile='fbtxt.html')\n",
    "html_node <- read_html('fbtxt.html')\n",
    "html_node"
   ]
  },
  {
   "cell_type": "markdown",
   "id": "ae7cfc4a-cabc-4236-b44b-e814fdfe53d7",
   "metadata": {},
   "source": [
    "<hr>\n"
   ]
  },
  {
   "cell_type": "markdown",
   "id": "0babec56-96c0-4289-a8c1-e3f92bc31472",
   "metadata": {},
   "source": [
    "Now you know how to read an HTML page from a character variable, a URL, or a local HTML file. Next let's see how to parse and extract \n",
    "data from a specific node(s) starting from the root node\n"
   ]
  },
  {
   "cell_type": "code",
   "execution_count": 14,
   "id": "c32f594a-5a15-4af1-b456-e41e7a31ca01",
   "metadata": {},
   "outputs": [
    {
     "data": {
      "text/plain": [
       "{html_document}\n",
       "<html>\n",
       "[1] <body>\\n        <p style=\"color:red;\">This is a test html page</p>\\n    < ..."
      ]
     },
     "metadata": {},
     "output_type": "display_data"
    }
   ],
   "source": [
    "simple_html_text <- \"\n",
    "<html>\n",
    "    <body>\n",
    "        <p style=\\\"color:red;\\\">This is a test html page</p>\n",
    "    </body>\n",
    "</html>\"\n",
    "\n",
    "root_node <- read_html(simple_html_text)\n",
    "root_node"
   ]
  },
  {
   "cell_type": "markdown",
   "id": "5ced5c30-508b-439f-96ab-fa7edd360eb6",
   "metadata": {},
   "source": [
    "Get the `<body>` node by using its parent node `<html>`\n"
   ]
  },
  {
   "cell_type": "code",
   "execution_count": 15,
   "id": "13167ba3-ffb5-4da5-8437-42dff18c9d89",
   "metadata": {},
   "outputs": [
    {
     "data": {
      "text/plain": [
       "{html_node}\n",
       "<body>\n",
       "[1] <p style=\"color:red;\">This is a test html page</p>"
      ]
     },
     "metadata": {},
     "output_type": "display_data"
    }
   ],
   "source": [
    "# Get the child <body> node from <html> root_node\n",
    "body_node <- html_node(root_node, \"body\")\n",
    "body_node"
   ]
  },
  {
   "cell_type": "markdown",
   "id": "bf654c22-36e0-4f8a-a8ef-7fa7779e87ba",
   "metadata": {},
   "source": [
    "You can see it has a child node paragraph `<p>`\n"
   ]
  },
  {
   "cell_type": "markdown",
   "id": "e281b2cc-afce-4bb0-94b7-5fa05fbe7d95",
   "metadata": {},
   "source": [
    "Let's get the content of the `<p>`\n"
   ]
  },
  {
   "cell_type": "code",
   "execution_count": 16,
   "id": "163ff9f8-246a-438f-ab7c-d47cf362e3d5",
   "metadata": {},
   "outputs": [
    {
     "data": {
      "text/html": [
       "'This is a test html page'"
      ],
      "text/latex": [
       "'This is a test html page'"
      ],
      "text/markdown": [
       "'This is a test html page'"
      ],
      "text/plain": [
       "[1] \"This is a test html page\""
      ]
     },
     "metadata": {},
     "output_type": "display_data"
    }
   ],
   "source": [
    "# Get the child <p> node from its <body> node\n",
    "p_node <- html_node(body_node, \"p\")\n",
    "p_content<-html_text(p_node)\n",
    "p_content"
   ]
  },
  {
   "cell_type": "markdown",
   "id": "2160c556-ac38-434b-bbf5-e80b7de099bf",
   "metadata": {},
   "source": [
    "The `<p>` node also has `style` attribute with value `color:red;`, which means we want the browser to render its text using red color. To get an attribute of a node, we can use a function called `html_attr(\"attribute name\")`\n"
   ]
  },
  {
   "cell_type": "code",
   "execution_count": 17,
   "id": "8117313b-ddbc-4402-86c2-5dc0bb321dd8",
   "metadata": {},
   "outputs": [
    {
     "data": {
      "text/html": [
       "'color:red;'"
      ],
      "text/latex": [
       "'color:red;'"
      ],
      "text/markdown": [
       "'color:red;'"
      ],
      "text/plain": [
       "[1] \"color:red;\""
      ]
     },
     "metadata": {},
     "output_type": "display_data"
    }
   ],
   "source": [
    "# Use the p_node as the first argument to get its attribute\n",
    "style_attr <- html_attr(p_node, \"style\")\n",
    "style_attr"
   ]
  },
  {
   "cell_type": "markdown",
   "id": "07796f83-199c-4c08-9cc7-228da82d6a93",
   "metadata": {},
   "source": [
    "\n",
    "In the code cell below, the downloaded `r.html` file (from `https://www.r-project.org`) has an `<img>` node representing an image URL to R logo image (a relative path on its web server), let's try to find the image URL and download it. \n",
    "\n",
    "Your need to paste the relative path in `<img>` with the the `https://www.r-project.org` to get the full URL of the image, and use the `GET` function to request the image as bytes in the response\n"
   ]
  },
  {
   "cell_type": "code",
   "execution_count": 18,
   "id": "23c5c5a8-c01b-4b25-b229-bc6847afe639",
   "metadata": {},
   "outputs": [
    {
     "data": {
      "text/html": [
       "'/Rlogo.png'"
      ],
      "text/latex": [
       "'/Rlogo.png'"
      ],
      "text/markdown": [
       "'/Rlogo.png'"
      ],
      "text/plain": [
       "[1] \"/Rlogo.png\""
      ]
     },
     "metadata": {},
     "output_type": "display_data"
    }
   ],
   "source": [
    "# Write your code below. Don't forget to press Shift+Enter to execute the cell\n",
    "url <- 'https://www.r-project.org'\n",
    "html_node <- read_html('r.html')\n",
    "\n",
    "# Get the image node using its root node\n",
    "img_node <- html_node(html_node, \"img\")\n",
    "# Get the \"src\" attribute of img node, representing the image location\n",
    "img_relative_path <- html_attr(img_node, \"src\")\n",
    "img_relative_path\n",
    "\n",
    "# Paste img_relative_path with 'https://www.r-project.org'\n",
    "image_path <- paste(url, img_relative_path, sep=\"\")\n",
    "# Use GET request to get the image\n",
    "image_response<-GET(image_path)"
   ]
  },
  {
   "cell_type": "markdown",
   "id": "4cd4bbe0-03bc-4de1-ba58-34c25506cf2d",
   "metadata": {},
   "source": [
    "Then use `writeBin()` function to save the returned bytes into an image file.\n"
   ]
  },
  {
   "cell_type": "code",
   "execution_count": 19,
   "id": "4e8f35a0-f0f9-44d6-8156-6671c85fd7b4",
   "metadata": {},
   "outputs": [],
   "source": [
    "# Parse the body from the response as bytes\n",
    "image <- content(image_response, \"raw\")\n",
    "# Write the bytes to a png file\n",
    "writeBin(image, \"r.png\")"
   ]
  },
  {
   "cell_type": "markdown",
   "id": "883639c7-66c1-4929-b2cb-da1dd8b0850f",
   "metadata": {},
   "source": [
    "Now, from the file list on the left, you should be able to find a saved r.png file.\n"
   ]
  },
  {
   "cell_type": "markdown",
   "id": "0e482156-34be-4070-9067-579ff4b0f6e4",
   "metadata": {},
   "source": [
    "In HTML, many tabluar data are stored in `<table>` nodes. Thus, it is very important to be \n",
    "able to extract data from `<table>` nodes and preferably convert them into R data frames.\n"
   ]
  },
  {
   "cell_type": "markdown",
   "id": "45de1be0-f3ad-46c1-9311-c89d5269ff01",
   "metadata": {},
   "source": [
    "Below is a sample HTML page contains a color table showing the supported HTML colors, \n",
    "and we want to load it as a R data frame so we can analyze it using data frame-related operations.\n"
   ]
  },
  {
   "cell_type": "code",
   "execution_count": 20,
   "id": "10a3a3f6-5fad-4f1c-8311-c8eb612c2c1f",
   "metadata": {},
   "outputs": [],
   "source": [
    "table_url <- \"https://cf-courses-data.s3.us.cloud-object-storage.appdomain.cloud/IBM-DA0321EN-SkillsNetwork/labs/datasets/HTMLColorCodes.html\""
   ]
  },
  {
   "cell_type": "markdown",
   "id": "f31a44bb-8f7a-405d-9e9f-529c31b0d2c9",
   "metadata": {},
   "source": [
    "Like other HTML nodes, let's first get the `<table>` node using `html_node` function\n"
   ]
  },
  {
   "cell_type": "code",
   "execution_count": 21,
   "id": "32b114e3-3915-495c-a1e1-d0c8a515c258",
   "metadata": {},
   "outputs": [
    {
     "data": {
      "text/plain": [
       "{html_node}\n",
       "<table border=\"1\" class=\"main-table\">\n",
       " [1] <tr>\\n<td>Number </td>\\n      <td>Color</td>\\n      <td>Color Name</td>\\ ...\n",
       " [2] <tr>\\n<td>1</td>\\n      <td style=\"background:lightsalmon;\"> </td>\\n     ...\n",
       " [3] <tr>\\n<td>2</td>\\n      <td style=\"background:salmon;\"> </td>\\n      <td ...\n",
       " [4] <tr>\\n<td>3</td>\\n      <td style=\"background:darksalmon;\"> </td>\\n      ...\n",
       " [5] <tr>\\n<td>4</td>\\n      <td style=\"background:lightcoral;\"> </td>\\n      ...\n",
       " [6] <tr>\\n<td>5</td>\\n      <td style=\"background:coral;\"> </td>\\n      <td> ...\n",
       " [7] <tr>\\n<td>6</td>\\n      <td style=\"background:tomato;\"> </td>\\n      <td ...\n",
       " [8] <tr>\\n<td>7</td>\\n      <td style=\"background:orangered;\"> </td>\\n       ...\n",
       " [9] <tr>\\n<td>8</td>\\n      <td style=\"background:gold;\"> </td>\\n      <td>g ...\n",
       "[10] <tr>\\n<td>9</td>\\n      <td style=\"background:orange;\"> </td>\\n      <td ...\n",
       "[11] <tr>\\n<td>10</td>\\n      <td style=\"background:darkorange;\"> </td>\\n     ...\n",
       "[12] <tr>\\n<td>11</td>\\n      <td style=\"background:lightyellow;\"> </td>\\n    ...\n",
       "[13] <tr>\\n<td>12</td>\\n      <td style=\"background:lemonchiffon;\"> </td>\\n   ...\n",
       "[14] <tr>\\n<td>13</td>\\n      <td style=\"background:papayawhip;\"> </td>\\n     ...\n",
       "[15] <tr>\\n<td>14</td>\\n      <td style=\"background:moccasin;\"> </td>\\n       ...\n",
       "[16] <tr>\\n<td>15</td>\\n      <td style=\"background:peachpuff;\"> </td>\\n      ...\n",
       "[17] <tr>\\n<td>16</td>\\n      <td style=\"background:palegoldenrod;\"> </td>\\n  ...\n",
       "[18] <tr>\\n<td>17</td>\\n      <td style=\"background:khaki;\"> </td>\\n      <td ...\n",
       "[19] <tr>\\n<td>18</td>\\n      <td style=\"background:darkkhaki;\"> </td>\\n      ...\n",
       "[20] <tr>\\n<td>19</td>\\n      <td style=\"background:yellow;\"> </td>\\n      <t ...\n",
       "..."
      ]
     },
     "metadata": {},
     "output_type": "display_data"
    }
   ],
   "source": [
    "root_node <-read_html(table_url)\n",
    "table_node <- html_node(root_node, \"table\")\n",
    "table_node"
   ]
  },
  {
   "cell_type": "markdown",
   "id": "cb40cefb-6468-469b-9bf3-ea40d83693fa",
   "metadata": {},
   "source": [
    "You can see the table node in a messy HTML format. Fortunately, you dont need to parse it by yourself, `rvest` provides a handy function called `html_table()` to convert `<table>` node into R dataframe\n"
   ]
  },
  {
   "cell_type": "code",
   "execution_count": 22,
   "id": "5a8121b8-3b6a-40b0-981e-73d4a1c9e6e9",
   "metadata": {},
   "outputs": [
    {
     "data": {
      "text/html": [
       "<table class=\"dataframe\">\n",
       "<caption>A tibble: 6 × 5</caption>\n",
       "<thead>\n",
       "\t<tr><th scope=col>X1</th><th scope=col>X2</th><th scope=col>X3</th><th scope=col>X4</th><th scope=col>X5</th></tr>\n",
       "\t<tr><th scope=col>&lt;chr&gt;</th><th scope=col>&lt;chr&gt;</th><th scope=col>&lt;chr&gt;</th><th scope=col>&lt;chr&gt;</th><th scope=col>&lt;chr&gt;</th></tr>\n",
       "</thead>\n",
       "<tbody>\n",
       "\t<tr><td>Number</td><td>Color</td><td>Color Name </td><td>Hex Code#RRGGBB</td><td>Decimal Code(R,G,B)</td></tr>\n",
       "\t<tr><td>1     </td><td>     </td><td>lightsalmon</td><td>#FFA07A        </td><td>rgb(255,160,122)   </td></tr>\n",
       "\t<tr><td>2     </td><td>     </td><td>salmon     </td><td>#FA8072        </td><td>rgb(250,128,114)   </td></tr>\n",
       "\t<tr><td>3     </td><td>     </td><td>darksalmon </td><td>#E9967A        </td><td>rgb(233,150,122)   </td></tr>\n",
       "\t<tr><td>4     </td><td>     </td><td>lightcoral </td><td>#F08080        </td><td>rgb(240,128,128)   </td></tr>\n",
       "\t<tr><td>5     </td><td>     </td><td>coral      </td><td>#FF7F50        </td><td>rgb(255,127,80)    </td></tr>\n",
       "</tbody>\n",
       "</table>\n"
      ],
      "text/latex": [
       "A tibble: 6 × 5\n",
       "\\begin{tabular}{lllll}\n",
       " X1 & X2 & X3 & X4 & X5\\\\\n",
       " <chr> & <chr> & <chr> & <chr> & <chr>\\\\\n",
       "\\hline\n",
       "\t Number & Color & Color Name  & Hex Code\\#RRGGBB & Decimal Code(R,G,B)\\\\\n",
       "\t 1      &       & lightsalmon & \\#FFA07A         & rgb(255,160,122)   \\\\\n",
       "\t 2      &       & salmon      & \\#FA8072         & rgb(250,128,114)   \\\\\n",
       "\t 3      &       & darksalmon  & \\#E9967A         & rgb(233,150,122)   \\\\\n",
       "\t 4      &       & lightcoral  & \\#F08080         & rgb(240,128,128)   \\\\\n",
       "\t 5      &       & coral       & \\#FF7F50         & rgb(255,127,80)    \\\\\n",
       "\\end{tabular}\n"
      ],
      "text/markdown": [
       "\n",
       "A tibble: 6 × 5\n",
       "\n",
       "| X1 &lt;chr&gt; | X2 &lt;chr&gt; | X3 &lt;chr&gt; | X4 &lt;chr&gt; | X5 &lt;chr&gt; |\n",
       "|---|---|---|---|---|\n",
       "| Number | Color | Color Name  | Hex Code#RRGGBB | Decimal Code(R,G,B) |\n",
       "| 1      | <!----> | lightsalmon | #FFA07A         | rgb(255,160,122)    |\n",
       "| 2      | <!----> | salmon      | #FA8072         | rgb(250,128,114)    |\n",
       "| 3      | <!----> | darksalmon  | #E9967A         | rgb(233,150,122)    |\n",
       "| 4      | <!----> | lightcoral  | #F08080         | rgb(240,128,128)    |\n",
       "| 5      | <!----> | coral       | #FF7F50         | rgb(255,127,80)     |\n",
       "\n"
      ],
      "text/plain": [
       "  X1     X2    X3          X4              X5                 \n",
       "1 Number Color Color Name  Hex Code#RRGGBB Decimal Code(R,G,B)\n",
       "2 1            lightsalmon #FFA07A         rgb(255,160,122)   \n",
       "3 2            salmon      #FA8072         rgb(250,128,114)   \n",
       "4 3            darksalmon  #E9967A         rgb(233,150,122)   \n",
       "5 4            lightcoral  #F08080         rgb(240,128,128)   \n",
       "6 5            coral       #FF7F50         rgb(255,127,80)    "
      ]
     },
     "metadata": {},
     "output_type": "display_data"
    }
   ],
   "source": [
    "# Extract content from table_node and convert the data into a dataframe\n",
    "color_data_frame <- html_table(table_node)\n",
    "head(color_data_frame)"
   ]
  },
  {
   "cell_type": "markdown",
   "id": "7e53949b-35ca-43d7-a949-4165b8278746",
   "metadata": {},
   "source": [
    "But you could see the table headers were parsed as the first row, no worries, we could manually fix that\n"
   ]
  },
  {
   "cell_type": "code",
   "execution_count": 23,
   "id": "bb9d8ceb-b1d2-4f1a-aeae-b7da4c93c7d3",
   "metadata": {},
   "outputs": [
    {
     "data": {
      "text/html": [
       "<style>\n",
       ".list-inline {list-style: none; margin:0; padding: 0}\n",
       ".list-inline>li {display: inline-block}\n",
       ".list-inline>li:not(:last-child)::after {content: \"\\00b7\"; padding: 0 .5ex}\n",
       "</style>\n",
       "<ol class=list-inline><li>'X1'</li><li>'X2'</li><li>'X3'</li><li>'X4'</li><li>'X5'</li></ol>\n"
      ],
      "text/latex": [
       "\\begin{enumerate*}\n",
       "\\item 'X1'\n",
       "\\item 'X2'\n",
       "\\item 'X3'\n",
       "\\item 'X4'\n",
       "\\item 'X5'\n",
       "\\end{enumerate*}\n"
      ],
      "text/markdown": [
       "1. 'X1'\n",
       "2. 'X2'\n",
       "3. 'X3'\n",
       "4. 'X4'\n",
       "5. 'X5'\n",
       "\n",
       "\n"
      ],
      "text/plain": [
       "[1] \"X1\" \"X2\" \"X3\" \"X4\" \"X5\""
      ]
     },
     "metadata": {},
     "output_type": "display_data"
    }
   ],
   "source": [
    "names(color_data_frame)"
   ]
  },
  {
   "cell_type": "code",
   "execution_count": 24,
   "id": "1f7c5f33-ca4f-41ea-8892-f79853e43822",
   "metadata": {},
   "outputs": [
    {
     "data": {
      "text/html": [
       "<table class=\"dataframe\">\n",
       "<caption>A tibble: 6 × 5</caption>\n",
       "<thead>\n",
       "\t<tr><th scope=col>Number</th><th scope=col>Color</th><th scope=col>Color Name</th><th scope=col>Hex Code#RRGGBB</th><th scope=col>Decimal Code(R,G,B)</th></tr>\n",
       "\t<tr><th scope=col>&lt;chr&gt;</th><th scope=col>&lt;chr&gt;</th><th scope=col>&lt;chr&gt;</th><th scope=col>&lt;chr&gt;</th><th scope=col>&lt;chr&gt;</th></tr>\n",
       "</thead>\n",
       "<tbody>\n",
       "\t<tr><td>1</td><td></td><td>lightsalmon</td><td>#FFA07A</td><td>rgb(255,160,122)</td></tr>\n",
       "\t<tr><td>2</td><td></td><td>salmon     </td><td>#FA8072</td><td>rgb(250,128,114)</td></tr>\n",
       "\t<tr><td>3</td><td></td><td>darksalmon </td><td>#E9967A</td><td>rgb(233,150,122)</td></tr>\n",
       "\t<tr><td>4</td><td></td><td>lightcoral </td><td>#F08080</td><td>rgb(240,128,128)</td></tr>\n",
       "\t<tr><td>5</td><td></td><td>coral      </td><td>#FF7F50</td><td>rgb(255,127,80) </td></tr>\n",
       "\t<tr><td>6</td><td></td><td>tomato     </td><td>#FF6347</td><td>rgb(255,99,71)  </td></tr>\n",
       "</tbody>\n",
       "</table>\n"
      ],
      "text/latex": [
       "A tibble: 6 × 5\n",
       "\\begin{tabular}{lllll}\n",
       " Number & Color & Color Name & Hex Code\\#RRGGBB & Decimal Code(R,G,B)\\\\\n",
       " <chr> & <chr> & <chr> & <chr> & <chr>\\\\\n",
       "\\hline\n",
       "\t 1 &  & lightsalmon & \\#FFA07A & rgb(255,160,122)\\\\\n",
       "\t 2 &  & salmon      & \\#FA8072 & rgb(250,128,114)\\\\\n",
       "\t 3 &  & darksalmon  & \\#E9967A & rgb(233,150,122)\\\\\n",
       "\t 4 &  & lightcoral  & \\#F08080 & rgb(240,128,128)\\\\\n",
       "\t 5 &  & coral       & \\#FF7F50 & rgb(255,127,80) \\\\\n",
       "\t 6 &  & tomato      & \\#FF6347 & rgb(255,99,71)  \\\\\n",
       "\\end{tabular}\n"
      ],
      "text/markdown": [
       "\n",
       "A tibble: 6 × 5\n",
       "\n",
       "| Number &lt;chr&gt; | Color &lt;chr&gt; | Color Name &lt;chr&gt; | Hex Code#RRGGBB &lt;chr&gt; | Decimal Code(R,G,B) &lt;chr&gt; |\n",
       "|---|---|---|---|---|\n",
       "| 1 | <!----> | lightsalmon | #FFA07A | rgb(255,160,122) |\n",
       "| 2 | <!----> | salmon      | #FA8072 | rgb(250,128,114) |\n",
       "| 3 | <!----> | darksalmon  | #E9967A | rgb(233,150,122) |\n",
       "| 4 | <!----> | lightcoral  | #F08080 | rgb(240,128,128) |\n",
       "| 5 | <!----> | coral       | #FF7F50 | rgb(255,127,80)  |\n",
       "| 6 | <!----> | tomato      | #FF6347 | rgb(255,99,71)   |\n",
       "\n"
      ],
      "text/plain": [
       "  Number Color Color Name  Hex Code#RRGGBB Decimal Code(R,G,B)\n",
       "1 1            lightsalmon #FFA07A         rgb(255,160,122)   \n",
       "2 2            salmon      #FA8072         rgb(250,128,114)   \n",
       "3 3            darksalmon  #E9967A         rgb(233,150,122)   \n",
       "4 4            lightcoral  #F08080         rgb(240,128,128)   \n",
       "5 5            coral       #FF7F50         rgb(255,127,80)    \n",
       "6 6            tomato      #FF6347         rgb(255,99,71)     "
      ]
     },
     "metadata": {},
     "output_type": "display_data"
    },
    {
     "data": {
      "text/html": [
       "<style>\n",
       ".list-inline {list-style: none; margin:0; padding: 0}\n",
       ".list-inline>li {display: inline-block}\n",
       ".list-inline>li:not(:last-child)::after {content: \"\\00b7\"; padding: 0 .5ex}\n",
       "</style>\n",
       "<ol class=list-inline><li>'Number'</li><li>'Color'</li><li>'Color Name'</li><li>'Hex Code#RRGGBB'</li><li>'Decimal Code(R,G,B)'</li></ol>\n"
      ],
      "text/latex": [
       "\\begin{enumerate*}\n",
       "\\item 'Number'\n",
       "\\item 'Color'\n",
       "\\item 'Color Name'\n",
       "\\item 'Hex Code\\#RRGGBB'\n",
       "\\item 'Decimal Code(R,G,B)'\n",
       "\\end{enumerate*}\n"
      ],
      "text/markdown": [
       "1. 'Number'\n",
       "2. 'Color'\n",
       "3. 'Color Name'\n",
       "4. 'Hex Code#RRGGBB'\n",
       "5. 'Decimal Code(R,G,B)'\n",
       "\n",
       "\n"
      ],
      "text/plain": [
       "[1] \"Number\"              \"Color\"               \"Color Name\"         \n",
       "[4] \"Hex Code#RRGGBB\"     \"Decimal Code(R,G,B)\""
      ]
     },
     "metadata": {},
     "output_type": "display_data"
    }
   ],
   "source": [
    "# Convert the first row as column names\n",
    "names(color_data_frame) <- as.matrix(color_data_frame[1, ])\n",
    "# Then remove the first row\n",
    "data_frame <- color_data_frame[-1, ]\n",
    "\n",
    "head(data_frame)\n",
    "names(color_data_frame)"
   ]
  },
  {
   "cell_type": "markdown",
   "id": "b3ff9473-d272-42c3-87e1-ab8b9c864c4a",
   "metadata": {},
   "source": [
    "That's it for `webscraping` in R, there is a lot more you can do check out <a href=\"https://cran.r-project.org/web/packages/rvest/rvest.pdf?utm_medium=Exinfluencer&utm_source=Exinfluencer&utm_content=000026UJ&utm_term=10006555&utm_id=NA-SkillsNetwork-Channel-SkillsNetworkCoursesIBMDeveloperSkillsNetworkRP0101ENCoursera889-2022-01-01\">rvest</a>.\n"
   ]
  },
  {
   "cell_type": "markdown",
   "id": "2d971a5f-58b0-4f57-beae-5b2b8e7059e3",
   "metadata": {},
   "source": [
    "<hr>\n"
   ]
  },
  {
   "cell_type": "markdown",
   "id": "60f29adc-f6a2-4ab5-9191-4c4a56ab24f4",
   "metadata": {},
   "source": [
    "## Authors\n",
    "\n",
    "Hi, this is <a href=\"https://www.linkedin.com/in/yan-luo-96288783/?utm_medium=Exinfluencer&utm_source=Exinfluencer&utm_content=000026UJ&utm_term=10006555&utm_id=NA-SkillsNetwork-Channel-SkillsNetworkCoursesIBMDeveloperSkillsNetworkRP0101ENCoursera889-2022-01-01\" target=\"_blank\">Yan Luo</a> the author of this notebook. \n",
    "\n",
    "I hope you found it easy to learn how to do webscraping in R! Feel free to connect with us if you have any questions.\n"
   ]
  },
  {
   "cell_type": "markdown",
   "id": "de2d8851-0325-4169-9cc4-34971ec0055c",
   "metadata": {},
   "source": [
    "### Other Contributors\n"
   ]
  },
  {
   "cell_type": "markdown",
   "id": "188b26df-060f-484b-ad48-448600b7e236",
   "metadata": {},
   "source": [
    "## Change Log\n",
    "\n",
    "| Date (YYYY-MM-DD) | Version | Changed By | Change Description           |\n",
    "| ----------------- | ------- | ---------- | ---------------------------- |\n",
    "| 2021-03-05        | 1.0     | Yan        | Initial version created      |\n",
    "|                   |         |            |                              |\n",
    "|                   |         |            |                              |\n",
    "\n",
    "## <h3 align=\"center\"> © IBM Corporation 2021. All rights reserved. <h3/>\n"
   ]
  }
 ],
 "metadata": {
  "kernelspec": {
   "display_name": "R",
   "language": "R",
   "name": "ir"
  },
  "language_info": {
   "codemirror_mode": "r",
   "file_extension": ".r",
   "mimetype": "text/x-r-source",
   "name": "R",
   "pygments_lexer": "r",
   "version": "4.2.1"
  }
 },
 "nbformat": 4,
 "nbformat_minor": 4
}
