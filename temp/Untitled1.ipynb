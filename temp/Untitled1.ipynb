{
 "cells": [
  {
   "cell_type": "code",
   "execution_count": 8,
   "id": "922eac98",
   "metadata": {},
   "outputs": [
    {
     "name": "stdout",
     "output_type": "stream",
     "text": [
      "[1] 1\n",
      "[1] 2\n",
      "[1] 3\n",
      "[1] 4\n",
      "[1] 5\n",
      "[1] 6\n"
     ]
    }
   ],
   "source": [
    "for ( c in matrix(c(1,2,3,4,5,6),nrow=2,ncol=3) ) {\n",
    "    print(c)\n",
    "}"
   ]
  },
  {
   "cell_type": "code",
   "execution_count": 9,
   "id": "5442e253",
   "metadata": {},
   "outputs": [
    {
     "ename": "ERROR",
     "evalue": "Error in parse(text = x, srcfile = src): <text>:4:1: unexpected 'else'\n3: }\n4: else\n   ^\n",
     "output_type": "error",
     "traceback": [
      "Error in parse(text = x, srcfile = src): <text>:4:1: unexpected 'else'\n3: }\n4: else\n   ^\nTraceback:\n"
     ]
    }
   ],
   "source": [
    "if (1>2) {\n",
    "    print('a')\n",
    "}\n",
    "else {\n",
    "    if \n",
    "}"
   ]
  },
  {
   "cell_type": "code",
   "execution_count": 12,
   "id": "d291973f",
   "metadata": {},
   "outputs": [],
   "source": [
    "x <- function() {\n",
    "    y = 1+2\n",
    "    z = 6+7\n",
    "}"
   ]
  },
  {
   "cell_type": "code",
   "execution_count": 13,
   "id": "c5693b1e",
   "metadata": {},
   "outputs": [
    {
     "data": {
      "text/html": [
       "13"
      ],
      "text/latex": [
       "13"
      ],
      "text/markdown": [
       "13"
      ],
      "text/plain": [
       "[1] 13"
      ]
     },
     "metadata": {},
     "output_type": "display_data"
    }
   ],
   "source": [
    "a = x()\n",
    "a"
   ]
  },
  {
   "cell_type": "code",
   "execution_count": 14,
   "id": "a865fdfe",
   "metadata": {},
   "outputs": [
    {
     "data": {
      "text/html": [
       "'bjffl'"
      ],
      "text/latex": [
       "'bjffl'"
      ],
      "text/markdown": [
       "'bjffl'"
      ],
      "text/plain": [
       "[1] \"bjffl\""
      ]
     },
     "metadata": {},
     "output_type": "display_data"
    }
   ],
   "source": [
    "x = \"bjffl\"\n",
    "x"
   ]
  },
  {
   "cell_type": "code",
   "execution_count": 15,
   "id": "30b3402b",
   "metadata": {},
   "outputs": [
    {
     "data": {
      "text/html": [
       "'bjffl'"
      ],
      "text/latex": [
       "'bjffl'"
      ],
      "text/markdown": [
       "'bjffl'"
      ],
      "text/plain": [
       "[1] \"bjffl\""
      ]
     },
     "metadata": {},
     "output_type": "display_data"
    }
   ],
   "source": [
    "sort(x)"
   ]
  },
  {
   "cell_type": "code",
   "execution_count": null,
   "id": "5928ffd7",
   "metadata": {},
   "outputs": [],
   "source": [
    "\"abxxz\""
   ]
  }
 ],
 "metadata": {
  "kernelspec": {
   "display_name": "R",
   "language": "R",
   "name": "ir"
  },
  "language_info": {
   "codemirror_mode": "r",
   "file_extension": ".r",
   "mimetype": "text/x-r-source",
   "name": "R",
   "pygments_lexer": "r",
   "version": "4.2.1"
  }
 },
 "nbformat": 4,
 "nbformat_minor": 5
}
