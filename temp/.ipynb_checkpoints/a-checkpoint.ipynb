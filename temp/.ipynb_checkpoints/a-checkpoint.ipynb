{
 "cells": [
  {
   "cell_type": "markdown",
   "metadata": {},
   "source": [
    "if"
   ]
  },
  {
   "cell_type": "code",
   "execution_count": 2,
   "metadata": {
    "vscode": {
     "languageId": "plaintext"
    }
   },
   "outputs": [
    {
     "ename": "ERROR",
     "evalue": "Error in parse(text = x, srcfile = src): <text>:7:1: unexpected 'else'\n6:   }\n7: else\n   ^\n",
     "output_type": "error",
     "traceback": [
      "Error in parse(text = x, srcfile = src): <text>:7:1: unexpected 'else'\n6:   }\n7: else\n   ^\nTraceback:\n"
     ]
    }
   ],
   "source": [
    "x <- 5\n",
    "\n",
    "if (x > 0) \n",
    "  {\n",
    "  print(\"Số nguyên lớn hơn 0\")\n",
    "  }\n",
    "else \n",
    "  {\n",
    "  print(\"Số nguyên không lớn hơn 0\")\n",
    "  }"
   ]
  },
  {
   "cell_type": "code",
   "execution_count": null,
   "metadata": {
    "vscode": {
     "languageId": "plaintext"
    }
   },
   "outputs": [],
   "source": [
    "x <- 10\n",
    "\n",
    "if (x > 0 && x < 5) \n",
    "  {\n",
    "  print(\"Số nguyên lớn hơn 0 và nhỏ hơn 5\")\n",
    "  }\n",
    "else if (x >= 5 && x < 10) \n",
    "  {\n",
    "  print(\"Số nguyên lớn hơn hoặc bằng 5 và nhỏ hơn 10\")\n",
    "  }\n",
    "else \n",
    "  {\n",
    "  print(\"Số nguyên không thỏa mãn các điều kiện trên\")\n",
    "}"
   ]
  },
  {
   "cell_type": "markdown",
   "metadata": {},
   "source": [
    "#while"
   ]
  },
  {
   "cell_type": "code",
   "execution_count": null,
   "metadata": {
    "vscode": {
     "languageId": "plaintext"
    }
   },
   "outputs": [],
   "source": [
    "i <- 1\n",
    "\n",
    "while (i <= 5) \n",
    "  {\n",
    "  print(i)\n",
    "  i <- i + 1\n",
    "  }"
   ]
  },
  {
   "cell_type": "markdown",
   "metadata": {},
   "source": [
    "#Functions\n",
    "#tên_hàm <- function(argument_1, argument_2, ...) {\n",
    "## Mã thực thi của hàm\n",
    "## Các xử lý và tính toán\n",
    "## Kết quả trả về (nếu có)\n",
    "#}"
   ]
  },
  {
   "cell_type": "code",
   "execution_count": null,
   "metadata": {
    "vscode": {
     "languageId": "plaintext"
    }
   },
   "outputs": [],
   "source": [
    "tong <- function(a, b) \n",
    "  {\n",
    "  sum <- a + b\n",
    "  return(sum)\n",
    "}\n",
    "result <- tong(3, 5)\n",
    "print(result)\n"
   ]
  },
  {
   "cell_type": "markdown",
   "metadata": {},
   "source": [
    "#cour\n"
   ]
  },
  {
   "cell_type": "code",
   "execution_count": null,
   "metadata": {
    "vscode": {
     "languageId": "plaintext"
    }
   },
   "outputs": [],
   "source": [
    "a <- c(8.7,6.9,8.5)\n",
    "mean(a) # trung bình\n",
    "sort(a) # bé - lớn\n",
    "sort(a, decreasing = TRUE)  #lớn - bé\n",
    "sort(a, decreasing = FALSE) #bé - lớn\n"
   ]
  },
  {
   "cell_type": "markdown",
   "metadata": {},
   "source": [
    "#for"
   ]
  },
  {
   "cell_type": "code",
   "execution_count": null,
   "metadata": {
    "vscode": {
     "languageId": "plaintext"
    }
   },
   "outputs": [],
   "source": [
    "for (i in 1:5) \n",
    "  {\n",
    "  print(i)\n",
    "}"
   ]
  },
  {
   "cell_type": "code",
   "execution_count": null,
   "metadata": {
    "vscode": {
     "languageId": "plaintext"
    }
   },
   "outputs": [],
   "source": [
    "fruits <- c(\"A\", \"B\", \"C\")\n",
    "\n",
    "for (fruit in fruits) \n",
    "  {\n",
    "  print(fruit)\n",
    "}"
   ]
  }
 ],
 "metadata": {
  "kernelspec": {
   "display_name": "R",
   "language": "R",
   "name": "ir"
  }
 },
 "nbformat": 4,
 "nbformat_minor": 2
}
