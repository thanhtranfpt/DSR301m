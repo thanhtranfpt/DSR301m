{
 "cells": [
  {
   "cell_type": "markdown",
   "id": "e65f3d6d-04f5-408d-9a6d-a1fba4f42925",
   "metadata": {},
   "source": [
    "<p style=\"text-align:center\">\n",
    "    <a href=\"https://skills.network/?utm_medium=Exinfluencer&utm_source=Exinfluencer&utm_content=000026UJ&utm_term=10006555&utm_id=NA-SkillsNetwork-Channel-SkillsNetworkCoursesIBMDeveloperSkillsNetworkRP0103ENSkillsNetwork896-2023-01-01\">\n",
    "    <img src=\"https://cf-courses-data.s3.us.cloud-object-storage.appdomain.cloud/assets/logos/SN_web_lightmode.png\" width=\"200\" alt=\"Skills Network Logo\"  />\n",
    "    </a>\n",
    "</p>\n",
    "\n",
    "<h1 align=center> <font size = 6>Hands-on Lab: Accessing Your Database using RJDBC</font></h1>\n"
   ]
  },
  {
   "cell_type": "markdown",
   "id": "e3c6352f-0527-4230-85c0-90634a925f17",
   "metadata": {},
   "source": [
    "### Welcome!\n",
    "\n",
    "In this hands-on lab, we will discover how to connect and query data from database servers with R using RJDBC.\n"
   ]
  },
  {
   "cell_type": "markdown",
   "id": "fea32910-ca4d-479c-b236-0e65250d9975",
   "metadata": {},
   "source": [
    "<div class=\"alert alert-block alert-info\" style=\"margin-top: 20px\">\n",
    "<h3>Tasks</h3>\n",
    "<ol><ol><ol>\n",
    "<li><a href=\"#refa\">Load the RJDBC library</a></li>\n",
    "<li><a href=\"#refb\">Provide database credentials</a></li>\n",
    "<li><a href=\"#refc\">Connect to the database</a></li>\n",
    "<li><a href=\"#refd\">Execute a Query (and retrieve results)</a></li>\n",
    "<li><a href=\"#refe\">Dis-connect</a></li>\n",
    "</ol></ol></ol>\n",
    "<p></p>\n",
    "Estimated Time Needed: <strong>10 min</strong>\n",
    "</div>\n"
   ]
  },
  {
   "cell_type": "markdown",
   "id": "b9fbbf4e-f957-4e66-8c4b-3268478808b8",
   "metadata": {},
   "source": [
    "**Pre-requisite**: In this lab we will use Jupyter Notebooks within SN Labs to access data in a Db2 on Cloud database using RJDBC.  Information about Jupyter notebooks, SN Labs, and Db2 services is provided in the previous labs.\n"
   ]
  },
  {
   "cell_type": "markdown",
   "id": "48e89781-6c74-4da0-be13-88560d942d18",
   "metadata": {},
   "source": [
    "<a id=\"refa\"></a>\n",
    "\n",
    "### a. Load the RJDBC library\n",
    "\n",
    "The RJDBC package is pre-installed in SN Labs. Let’s load the RJDBC package by clicking on the following cell and executing it (Shift+Enter):\n",
    "\n",
    "> Note: If you want to execute the lab in your local system you need to install RJDBC and required libraries using the code **install.packages(libraryname)**\n"
   ]
  },
  {
   "cell_type": "code",
   "execution_count": 15,
   "metadata": {},
   "outputs": [
    {
     "name": "stdout",
     "output_type": "stream",
     "text": [
      "package 'rJava' successfully unpacked and MD5 sums checked\n",
      "\n",
      "The downloaded binary packages are in\n",
      "\tC:\\Users\\Thanh Tran\\AppData\\Local\\Temp\\RtmpyqTiQ3\\downloaded_packages\n"
     ]
    }
   ],
   "source": [
    "install.packages('rJava')"
   ]
  },
  {
   "cell_type": "code",
   "execution_count": 16,
   "id": "d8b45a48-ff45-484b-a5cc-2ab7c38d0e1e",
   "metadata": {},
   "outputs": [
    {
     "name": "stderr",
     "output_type": "stream",
     "text": [
      "Warning message:\n",
      "\"package 'rJava' was built under R version 4.2.3\"\n"
     ]
    },
    {
     "ename": "ERROR",
     "evalue": "Error: package or namespace load failed for 'rJava':\n .onLoad failed in loadNamespace() for 'rJava', details:\n  call: inDL(x, as.logical(local), as.logical(now), ...)\n  error: unable to load shared object 'T:/R-4.2.1/library/rJava/libs/x64/rJava.dll':\n  LoadLibrary failure:  The specified module could not be found.\n\n",
     "output_type": "error",
     "traceback": [
      "Error: package or namespace load failed for 'rJava':\n .onLoad failed in loadNamespace() for 'rJava', details:\n  call: inDL(x, as.logical(local), as.logical(now), ...)\n  error: unable to load shared object 'T:/R-4.2.1/library/rJava/libs/x64/rJava.dll':\n  LoadLibrary failure:  The specified module could not be found.\n\nTraceback:\n",
      "1. library(rJava)",
      "2. tryCatch({\n .     attr(package, \"LibPath\") <- which.lib.loc\n .     ns <- loadNamespace(package, lib.loc)\n .     env <- attachNamespace(ns, pos = pos, deps, exclude, include.only)\n . }, error = function(e) {\n .     P <- if (!is.null(cc <- conditionCall(e))) \n .         paste(\" in\", deparse(cc)[1L])\n .     else \"\"\n .     msg <- gettextf(\"package or namespace load failed for %s%s:\\n %s\", \n .         sQuote(package), P, conditionMessage(e))\n .     if (logical.return && !quietly) \n .         message(paste(\"Error:\", msg), domain = NA)\n .     else stop(msg, call. = FALSE, domain = NA)\n . })",
      "3. tryCatchList(expr, classes, parentenv, handlers)",
      "4. tryCatchOne(expr, names, parentenv, handlers[[1L]])",
      "5. value[[3L]](cond)",
      "6. stop(msg, call. = FALSE, domain = NA)"
     ]
    }
   ],
   "source": [
    "library(DBI);\n",
    "library(rJava);\n",
    "\n",
    "library(RJDBC);"
   ]
  },
  {
   "cell_type": "code",
   "execution_count": 10,
   "metadata": {},
   "outputs": [],
   "source": [
    "Sys.setenv(JAVA_HOME = \"C:\\\\Users\\\\Thanh Tran\\\\AppData\\\\Local\\\\Temp\\\\RtmpyqTiQ3\\\\downloaded_packages\")"
   ]
  },
  {
   "cell_type": "markdown",
   "id": "22e90457-4251-469c-8f16-a48db8fc06d0",
   "metadata": {},
   "source": [
    "### b. Provide database credentials\n",
    "\n",
    "To connect to your Db2 instance, you require the following details:\n",
    "* Driver class\n",
    "* Database name\n",
    "* Hostname\n",
    "* Port number\n",
    "* Protocol\n",
    "* Username\n",
    "* Password\n",
    "\n",
    "We will be using different variables to store this information, so that we can use these values at a later point of time when required.\n",
    "\n",
    "Replace the values for **hostname, port number, username and password** by copying them from Service Credentials in your DB2 instance. \n",
    "\n",
    "For instructions on accessing **Db2 Service Credentials**, go to <a href=\"https://cf-courses-data.s3.us.cloud-object-storage.appdomain.cloud/IBMDeveloperSkillsNetwork-DB0201EN-SkillsNetwork/labs/Module%205/LAB-0v6_Create_Database_Credentials.md.html?origin=www.coursera.org\">Hands-on Lab: Create Db2 Service Credentials.</a>\n",
    "\n",
    ">Note:This is just an example screenshot of service credentials. However these values will vary with respect to the DB2 instance which you create.\n",
    "\n",
    "\n",
    "\n",
    "\n"
   ]
  },
  {
   "cell_type": "markdown",
   "id": "281de3a7-9609-4d4a-be37-82d4e00efe88",
   "metadata": {},
   "source": [
    "<details>\n",
    "<summary>Click here to view/hide hint</summary>\n",
    "<p>\n",
    "\n",
    "\n",
    "<img src=\"https://cf-courses-data.s3.us.cloud-object-storage.appdomain.cloud/IBMDeveloperSkillsNetwork-RP0103EN-SkillsNetwork/labs/Lab%20-%20Accessing%20Your%20Database%20using%20RJDBC/images/servicecredentials.png\">\n",
    "    \n",
    "    \n",
    "    \n",
    "</details>\n"
   ]
  },
  {
   "cell_type": "code",
   "execution_count": 11,
   "id": "be8bdf90-36ec-4035-8369-ec0b440686b6",
   "metadata": {},
   "outputs": [],
   "source": [
    "#Enter the values for you database connection\n",
    "dsn_driver = \"com.ibm.db2.jcc.DB2Driver\"\n",
    "dsn_database = \"bludb\"            \n",
    "dsn_hostname = \"fbd88901-ebdb-4a4f-a32e-9822b9fb237b.c1ogj3sd0tgtu0lqde00.databases.appdomain.cloud\"   #replace <yourhostname> with your hostname from the Service credentials\n",
    "dsn_port = \"32731\"                     #replace with the port number from Service Credentials \n",
    "dsn_protocol = \"TCPIP\"            \n",
    "dsn_uid = \"rhf80803\"            #replace <username> with your username from Service Credentials\n",
    "dsn_pwd = \"7mXFONnLhUmwMhjm\"            #replace <password> with your password from Service Credentials"
   ]
  },
  {
   "cell_type": "markdown",
   "id": "923944b2-7b18-40e9-90b2-ad3bf2e0d564",
   "metadata": {},
   "source": [
    "### c. Connect to the database\n",
    "\n",
    "The next step is to:\n",
    "* **Specify the database driver to be used:** Here, you will use the function **JDBC()** which takes 2 arguments i.e. the **driver classname** and the **classpath to the driver file**\n",
    "* **Create a JDBC connection string:** Here, you will create the connection string to Db2 using details such as hostname, port and database name.\n",
    "\n",
    "We will load the DB2 JDBC type 4 driver and create a driver object\n",
    "\n",
    ">Note: You can download the db2jcc4.jar from the following  <a href =\"https://www.ibm.com/support/pages/db2-jdbc-driver-versions-and-downloads\">link</a> if you want to use it on your local system.\n"
   ]
  },
  {
   "cell_type": "code",
   "execution_count": 12,
   "id": "e39da910-596f-461f-b920-8bae5ed41509",
   "metadata": {},
   "outputs": [
    {
     "ename": "ERROR",
     "evalue": "Error in JDBC(\"com.ibm.db2.jcc.DB2Driver\", \"/home/jupyterlab/.rlang/db2jcc-db2jcc4.jar\"): could not find function \"JDBC\"\n",
     "output_type": "error",
     "traceback": [
      "Error in JDBC(\"com.ibm.db2.jcc.DB2Driver\", \"/home/jupyterlab/.rlang/db2jcc-db2jcc4.jar\"): could not find function \"JDBC\"\nTraceback:\n"
     ]
    }
   ],
   "source": [
    "\n",
    "jcc = JDBC(\"com.ibm.db2.jcc.DB2Driver\", \"/home/jupyterlab/.rlang/db2jcc-db2jcc4.jar\");         #Specifying the Db2 JDBC Type 4 driver  \n",
    "jdbc_path = paste(\"jdbc:db2://\",  dsn_hostname, \":\", dsn_port, \"/\", dsn_database, sep=\"\");"
   ]
  },
  {
   "cell_type": "code",
   "execution_count": null,
   "id": "6c3f8dfd-3815-4357-b18c-bd27c6b7ac4d",
   "metadata": {},
   "outputs": [],
   "source": [
    "conn = dbConnect(jcc, jdbc_path, user=dsn_uid, password=dsn_pwd,sslConnection='true')"
   ]
  },
  {
   "cell_type": "markdown",
   "id": "2ddb9d1e-a8ce-48a3-9e36-aba01d375123",
   "metadata": {},
   "source": [
    "### d. Execute a Query\n",
    "\n",
    "Here, you will:\n",
    "* **Create a sample query:** Here, you will define a **select** statement to select rows from the Db2 system catalog table **SYSIBM.SYSSCHEMATA**\n",
    "* **Use the function dbSendQuery() to query the table:** dbSendQuery() is a function available in the DBI library. dbSendQuery() function takes 2 arguments: **connection object and the SQL query** defined earlier. It returns the resultset from the database.\n",
    "* **Use the function fetch() to get the results as a dataframe:** fetch() is a function available in the DBI library. This function takes 2 arguments: the **resultset** and the **number of records(n)**. Here, for example if n=2, we are retrieving 2 records from the table. \n",
    "* Here, n=-1 is used to retrieve all pending records.\n"
   ]
  },
  {
   "cell_type": "code",
   "execution_count": null,
   "id": "1636c74c-bedf-4f8c-ba17-aa96897c25bc",
   "metadata": {},
   "outputs": [],
   "source": [
    "query = \"SELECT * FROM SYSIBM.SYSSCHEMATA\";\n",
    "rs = dbSendQuery(conn, query);\n",
    "df = fetch(rs, -1);"
   ]
  },
  {
   "cell_type": "markdown",
   "id": "a33f1207-b8d9-4fda-8f83-c4a8b28d874a",
   "metadata": {},
   "source": [
    "Let’s examine the contents of the dataframe by looking at the first few rows: \n"
   ]
  },
  {
   "cell_type": "code",
   "execution_count": null,
   "id": "abe74e7d-41be-4e17-a323-c1359c3fca53",
   "metadata": {},
   "outputs": [],
   "source": [
    "head(df)"
   ]
  },
  {
   "cell_type": "markdown",
   "id": "7263146b-c14c-4fb7-be6d-7e5f7787fa61",
   "metadata": {},
   "source": [
    "<a id=\"refe\"></a>\n",
    "\n",
    "### e. Dis-connect\n",
    "\n",
    "Finally, as a best practice we should close the database connection once we're done with it.\n"
   ]
  },
  {
   "cell_type": "code",
   "execution_count": null,
   "id": "b2ed709e-df6b-4d4b-9465-ff464bd1859c",
   "metadata": {},
   "outputs": [],
   "source": [
    "dbDisconnect(conn)"
   ]
  },
  {
   "cell_type": "markdown",
   "id": "f526408f-cff8-4fd3-8fb5-c24e5e5fe32d",
   "metadata": {},
   "source": [
    "### Practice exercises\n"
   ]
  },
  {
   "cell_type": "markdown",
   "id": "80e817ca-261c-4203-9022-01163acbcadf",
   "metadata": {},
   "source": [
    "##### 1. Provide the database credentials for your instance of **Db2**\n"
   ]
  },
  {
   "cell_type": "code",
   "execution_count": null,
   "id": "f649c791-be0f-4bbd-849b-9a8ac4deb47c",
   "metadata": {},
   "outputs": [],
   "source": [
    "#write your code here"
   ]
  },
  {
   "cell_type": "markdown",
   "id": "54de5900-4c3f-4506-919c-ca87056b90cd",
   "metadata": {},
   "source": [
    "<details>\n",
    "<summary>Click here to view/hide hint</summary>\n",
    "<p>\n",
    "\n",
    "```\n",
    "# Fill in the following details\n",
    "dsn_driver = \"com.ibm.db2.jcc.DB2Driver\"\n",
    "dsn_database = \"...\"            \n",
    "dsn_hostname = \"<yourhostname>\"  \n",
    "dsn_port = \"...\"               \n",
    "dsn_protocol = \"...\"           \n",
    "dsn_uid = \"<username>\"        \n",
    "dsn_pwd = \"<password>\"      \n",
    "```\n",
    "\n",
    "</details>\n"
   ]
  },
  {
   "cell_type": "markdown",
   "id": "63d32a17-8595-46e6-a6fb-41d321caa4ae",
   "metadata": {},
   "source": [
    "<details>\n",
    "<summary>Click here to view/hide solution</summary>\n",
    "<p>\n",
    "\n",
    "```\n",
    "#Enter the values for you database connection\n",
    "dsn_driver = \"com.ibm.db2.jcc.DB2Driver\"\n",
    "dsn_database = \"bludb\"            # e.g. \"bludb\"\n",
    "dsn_hostname = \"<yourhostname>\"   # e.g. replace <yourhostname> with your hostname\n",
    "dsn_port = \"\"                # e.g. \"3273\" \n",
    "dsn_protocol = \"TCPIP\"            # i.e. \"TCPIP\"\n",
    "dsn_uid = \"<username>\"              # e.g. replace <username> with your userid\n",
    "dsn_pwd = \"<password>\"            # e.g. replace <password> with your password\n",
    "```\n",
    "\n",
    "</details>\n"
   ]
  },
  {
   "cell_type": "markdown",
   "id": "43aad19f-c2fe-46a5-9820-3ca398cb6db2",
   "metadata": {},
   "source": [
    "##### 2. Specify the database driver and then create a JDBC connection string.\n"
   ]
  },
  {
   "cell_type": "code",
   "execution_count": null,
   "id": "832bf9e8-ff88-45ae-a72f-664d3e2ed96d",
   "metadata": {},
   "outputs": [],
   "source": [
    "#write your code here"
   ]
  },
  {
   "cell_type": "markdown",
   "id": "d779f557-08cb-4183-a879-50c4386edd87",
   "metadata": {},
   "source": [
    "<details>\n",
    "<summary>Click here to view/hide hint</summary>\n",
    "<p>\n",
    "\n",
    "```\n",
    "# Fill in the following details\n",
    "jcc = JDBC(\"com.ibm.db2.jcc....r\", \"/home/jupyterlab/.rlang/db2jcc-db2jcc4.jar\");\n",
    "jdbc_path = paste(\"jdbc:db2://\",  dsn_port, \":\", ..., \"/\", dsn_database, ...);\n",
    "```\n",
    "\n",
    "</details>\n"
   ]
  },
  {
   "cell_type": "markdown",
   "id": "914c7bde-5dff-41d1-956d-a31f268b64bd",
   "metadata": {},
   "source": [
    "<details>\n",
    "<summary>Click here to view/hide solution</summary>\n",
    "<p>\n",
    "\n",
    "```\n",
    "jcc = JDBC(\"com.ibm.db2.jcc.DB2Driver\", \"/home/jupyterlab/.rlang/db2jcc-db2jcc4.jar\");\n",
    "jdbc_path = paste(\"jdbc:db2://\",  dsn_hostname, \":\", dsn_port, \"/\", dsn_database, sep=\"\");\n",
    "```\n",
    "\n",
    "</details>\n"
   ]
  },
  {
   "cell_type": "markdown",
   "id": "b4a80c3b-ae89-47e7-9cab-8426142726f0",
   "metadata": {},
   "source": [
    "##### 3. Connect to the database\n"
   ]
  },
  {
   "cell_type": "code",
   "execution_count": null,
   "id": "c137cf54-7585-43a8-88df-375e1dd03c82",
   "metadata": {},
   "outputs": [],
   "source": [
    "#write your code here"
   ]
  },
  {
   "cell_type": "markdown",
   "id": "ac8caa62-4c40-43b6-bd3c-65db4d684859",
   "metadata": {},
   "source": [
    "<details>\n",
    "<summary>Click here to view/hide hint</summary>\n",
    "<p>\n",
    "\n",
    "```\n",
    "# Fill in the ...\n",
    "conn = dbConnect(..., ..., user=..., password=...,sslConnection='true')\n",
    "```\n",
    "\n",
    "</details>\n"
   ]
  },
  {
   "cell_type": "markdown",
   "id": "296250ee-fcc1-4866-8ed0-2f3482bd4c30",
   "metadata": {},
   "source": [
    "<details>\n",
    "<summary>Click here to view/hide solution</summary>\n",
    "<p>\n",
    "\n",
    "```\n",
    "conn = dbConnect(jcc, jdbc_path, user=dsn_uid, password=dsn_pwd,sslConnection='true')\n",
    "```\n",
    "\n",
    "</details>\n"
   ]
  },
  {
   "cell_type": "markdown",
   "id": "4d4f18a5-f1ae-4d18-b6f3-f5822403968a",
   "metadata": {},
   "source": [
    "##### 4. There are many Db2 System Catalog tables. SYSTABLES has got metadata of the system tables. This table can be accessed using table name SYSIBM.SYSTABLES. Execute a query to select all columns from the Db2 system catalog table SYSIBM.SYSTABLES and fetch the first 20 results into an R dataframe\n"
   ]
  },
  {
   "cell_type": "code",
   "execution_count": null,
   "id": "661de231-358a-4581-b379-d70ccd7364fc",
   "metadata": {},
   "outputs": [],
   "source": [
    "#write your code here"
   ]
  },
  {
   "cell_type": "markdown",
   "id": "134f6400-3919-4104-8a2e-b93d3896bea2",
   "metadata": {},
   "source": [
    "<details>\n",
    "<summary>Click here to view/hide hint</summary>\n",
    "<p>\n",
    "\n",
    "```\n",
    "Fill in the ...\n",
    "query = \"SELECT * FROM ...\";\n",
    "rs = dbSendQuery(...);\n",
    "df = fetch(...);\n",
    "```\n",
    "\n",
    "</details>\n"
   ]
  },
  {
   "cell_type": "markdown",
   "id": "21b7469c-0712-47ba-b7a8-67f742115c7e",
   "metadata": {},
   "source": [
    "<details>\n",
    "<summary>Click here to view/hide solution</summary>\n",
    "<p>\n",
    "\n",
    "```\n",
    "query = \"SELECT * FROM SYSIBM.SYSTABLES\";\n",
    "rs = dbSendQuery(conn,query);\n",
    "df = fetch(rs,20);\n",
    "```\n",
    "</p>\n",
    "</details>\n"
   ]
  },
  {
   "cell_type": "markdown",
   "id": "972afc3e-c40d-4b3b-829c-04e1f98e81de",
   "metadata": {},
   "source": [
    "##### 5. Disconnect from the database\n"
   ]
  },
  {
   "cell_type": "code",
   "execution_count": null,
   "id": "6a8e5b5e-cc92-460f-a3c9-a715c905d1dc",
   "metadata": {},
   "outputs": [],
   "source": [
    "#write your code here"
   ]
  },
  {
   "cell_type": "markdown",
   "id": "ba0e44e4-fa0b-445f-b56a-48032b71ae25",
   "metadata": {},
   "source": [
    "<details>\n",
    "<summary>Click here to view/hide hint</summary>\n",
    "<p>\n",
    "\n",
    "```\n",
    "# Fill in the ...\n",
    "dbDisconnect(...)\n",
    "```\n",
    "\n",
    "</details>\n"
   ]
  },
  {
   "cell_type": "markdown",
   "id": "8c524afd-5986-4429-a3c2-7c04a915755f",
   "metadata": {},
   "source": [
    "<details>\n",
    "<summary>Click here to view/hide solution</summary>\n",
    "<p>\n",
    "\n",
    "```\n",
    "dbDisconnect(conn)\n",
    "```\n",
    "\n",
    "</details>\n"
   ]
  },
  {
   "cell_type": "markdown",
   "id": "8a2bf635-4198-4808-8475-43d108c06157",
   "metadata": {},
   "source": [
    "<a id=\"ref4g\"></a>\n",
    "\n",
    "### Summary\n",
    "\n",
    "In this lab you accessed data in a Db2 on Cloud database using RJDBC connection from a R notebook in Jupyter, and fetched the results of a query for analysis in a R dataframe.\n"
   ]
  },
  {
   "cell_type": "markdown",
   "id": "c90778a1-7bf1-4513-9f03-29ca37649442",
   "metadata": {},
   "source": [
    "<HR>\n"
   ]
  },
  {
   "cell_type": "markdown",
   "id": "f99e7e66-920c-42c7-bfe3-5ba66107ee8e",
   "metadata": {},
   "source": [
    "#### Thank you for completing this lab on getting connected and querying databases using RJDBC.\n"
   ]
  },
  {
   "cell_type": "markdown",
   "id": "e3f53a85-13f7-4971-b2de-19cf16a9103a",
   "metadata": {},
   "source": [
    "<hr>\n",
    "\n",
    "## Authors\n",
    "\n",
    "*   [Rav Ahuja](https://ca.linkedin.com/in/rav-ahuja-8aa4562a?utm_medium=Exinfluencer&utm_source=Exinfluencer&utm_content=000026UJ&utm_term=10006555&utm_id=NA-SkillsNetwork-Channel-SkillsNetworkCoursesIBMDeveloperSkillsNetworkRP0103ENSkillsNetwork23619267-2022-01-01&cm_mmc=Email_Newsletter-_-Developer_Ed%2BTech-_-WW_WW-_-SkillsNetwork-Courses-IBMDeveloperSkillsNetwork-RP0103EN-SkillsNetwork-23619267&cm_mmca1=000026UJ&cm_mmca2=10006555&cm_mmca3=M12345678&cvosrc=email.Newsletter.M12345678&cvo_campaign=000026UJ)\n",
    "*   [Agatha Colangelo](https://www.linkedin.com/in/agathacolangelo?utm_medium=Exinfluencer&utm_source=Exinfluencer&utm_content=000026UJ&utm_term=10006555&utm_id=NA-SkillsNetwork-Channel-SkillsNetworkCoursesIBMDeveloperSkillsNetworkRP0103ENSkillsNetwork23619267-2022-01-01&cm_mmc=Email_Newsletter-_-Developer_Ed%2BTech-_-WW_WW-_-SkillsNetwork-Courses-IBMDeveloperSkillsNetwork-RP0103EN-SkillsNetwork-23619267&cm_mmca1=000026UJ&cm_mmca2=10006555&cm_mmca3=M12345678&cvosrc=email.Newsletter.M12345678&cvo_campaign=000026UJ)\n",
    "*   [Sandip Saha Joy](https://www.linkedin.com/in/sandipsahajoy?utm_medium=Exinfluencer&utm_source=Exinfluencer&utm_content=000026UJ&utm_term=10006555&utm_id=NA-SkillsNetwork-Channel-SkillsNetworkCoursesIBMDeveloperSkillsNetworkRP0103ENSkillsNetwork23619267-2022-01-01&cm_mmc=Email_Newsletter-_-Developer_Ed%2BTech-_-WW_WW-_-SkillsNetwork-Courses-IBMDeveloperSkillsNetwork-RP0103EN-SkillsNetwork-23619267&cm_mmca1=000026UJ&cm_mmca2=10006555&cm_mmca3=M12345678&cvosrc=email.Newsletter.M12345678&cvo_campaign=000026UJ)\n",
    "* [Shreya Khurana](https://www.linkedin.com/in/shreya-khurana-437211237/?utm_medium=Exinfluencer&utm_source=Exinfluencer&utm_content=000026UJ&utm_term=10006555&utm_id=NA-SkillsNetwork-Channel-SkillsNetworkCoursesIBMDeveloperSkillsNetworkRP0103ENSkillsNetwork896-2023-01-01)\n",
    "\n",
    "## Changelog\n",
    "\n",
    "| Date (YYYY-MM-DD) | Version | Changed By | Change Description |\n",
    "| ----------------- | ------- | ---------- | ------------------ |\n",
    "| 2023-03-27   | 2.2     | Shreya Khurana        | Created revised version of the lab|\n",
    "| 2021-07-14   | 2.1     | Lakshmi Holla        | Added ssl information to connection string|\n",
    "| 2021-01-22        | 2.0     | Sandip Saha Joy              | Created revised version of the lab |\n",
    "| 2017              | 1.0     | Rav Ahuja & Agatha Colangelo | Created initial version of the lab |\n",
    "\n",
    "<hr>\n",
    "\n",
    "<h2 align=center><font size = 5>Copyright &copy; IBM Corporation 2017-2021. All rights reserved.</h2>\n"
   ]
  }
 ],
 "metadata": {
  "kernelspec": {
   "display_name": "R",
   "language": "R",
   "name": "ir"
  },
  "language_info": {
   "codemirror_mode": "r",
   "file_extension": ".r",
   "mimetype": "text/x-r-source",
   "name": "R",
   "pygments_lexer": "r",
   "version": "4.2.1"
  }
 },
 "nbformat": 4,
 "nbformat_minor": 4
}
