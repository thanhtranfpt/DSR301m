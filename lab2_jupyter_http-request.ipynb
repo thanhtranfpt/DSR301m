{
 "cells": [
  {
   "cell_type": "markdown",
<<<<<<< HEAD
   "id": "17145c0d-591e-4da9-a2d2-8f73463d5479",
=======
>>>>>>> abe518e9c75bfbd56e1d4970cdeac31254a96a89
   "metadata": {},
   "source": [
    "<center>\n",
    "<img src=\"https://cf-courses-data.s3.us.cloud-object-storage.appdomain.cloud/IBMDeveloperSkillsNetwork-RP0101EN-Coursera/v2/M3_R_Foundamentals/images/SN_web_lightmode.png\" width=\"300\"> \n",
    "<center/>\n"
   ]
  },
  {
   "cell_type": "markdown",
<<<<<<< HEAD
   "id": "0b85450d-2d4a-4923-b028-d1d33073734b",
=======
>>>>>>> abe518e9c75bfbd56e1d4970cdeac31254a96a89
   "metadata": {},
   "source": [
    "<h1> HTTP Requests in R</h1>\n",
    "\n",
    "Estimated time needed: **30** minutes\n",
    "\n",
    "## Objectives\n",
    "\n",
    "After completing this lab you will be able to:\n",
    "\n",
    "-   Understand HTTP    \n",
    "-   Handle the HTTP Requests and response using R\n"
   ]
  },
  {
   "cell_type": "markdown",
<<<<<<< HEAD
   "id": "51755653-3b23-46f0-9a3c-d3d0979c6810",
=======
>>>>>>> abe518e9c75bfbd56e1d4970cdeac31254a96a89
   "metadata": {},
   "source": [
    "<h2>Table of Contents</h2>\n",
    "\n",
    "<div class=\"alert alert-block alert-info\" style=\"margin-top: 20px\">\n",
    "    <ul>\n",
    "        <li><a href=\"#Overview-of-HTTP\">Overview of HTTP</a></li>\n",
    "        <li><a href=\"#The-httr-library\">The httr library</a></li> \n",
    "</div>\n",
    "\n",
    "<hr>\n"
   ]
  },
  {
   "cell_type": "markdown",
<<<<<<< HEAD
   "id": "be408cd8-e047-4f7a-bb5e-7c039eae9920",
=======
>>>>>>> abe518e9c75bfbd56e1d4970cdeac31254a96a89
   "metadata": {},
   "source": [
    "<a id=\"ref0\"></a>\n",
    "\n",
    "<h2 id=\"http\">Overview of HTTP</h2>\n"
   ]
  },
  {
   "cell_type": "markdown",
<<<<<<< HEAD
   "id": "b250919e-77eb-4219-84b2-59f555327def",
=======
>>>>>>> abe518e9c75bfbd56e1d4970cdeac31254a96a89
   "metadata": {},
   "source": [
    "When the **client** uses a web page your browser sends an **HTTP** request to the **server** where the page is hosted. The server tries to find the desired **resource** such as the home page (index.html). \n",
    "\n",
    "If your request is successful, the server will send the resource to the client in an **HTTP response**; this includes information like the type of the **resource**, the length of the **resource**, and other information.   \n",
    "\n",
    "<p>\n",
    "The figure below represents the process; the circle on the left represents the client, the circle on the right represents the  Web server.  The table under the Web server represents a list of resources stored in the web server. In  this case an <code>HTML</code> file, <code>png</code> image, and <code>txt</code> file .\n",
    "</p>\n",
    "<p>\n",
    "The <b>HTTP</b> protocol allows you to send and receive information through the web including webpages, images, and other web resources.\n",
    "</p\n"
   ]
  },
  {
   "cell_type": "markdown",
<<<<<<< HEAD
   "id": "2721e97b-43ea-4e54-b304-4a94d551e212",
=======
>>>>>>> abe518e9c75bfbd56e1d4970cdeac31254a96a89
   "metadata": {},
   "source": [
    "<div class=\"alert alert-block alert-info\" style=\"margin-top: 20px\">\n",
    "         <img src=\"https://s3-api.us-geo.objectstorage.softlayer.net/cf-courses-data/CognitiveClass/PY0101EN/images/reqest_basics.png\" width=\"750\" align=\"center\">\n",
    "   \n",
    "</div>\n"
   ]
  },
  {
   "cell_type": "markdown",
<<<<<<< HEAD
   "id": "c21e831a-bc44-41d3-af1f-148d5f766c3d",
=======
>>>>>>> abe518e9c75bfbd56e1d4970cdeac31254a96a89
   "metadata": {},
   "source": [
    "<h2 id=\"URL\">Uniform Resource Locator:URL</h2>\n"
   ]
  },
  {
   "cell_type": "markdown",
<<<<<<< HEAD
   "id": "96cf2d27-f2ed-4938-9d6c-2f4d38cdeb4c",
=======
>>>>>>> abe518e9c75bfbd56e1d4970cdeac31254a96a89
   "metadata": {},
   "source": [
    "Uniform resource locator (URL) is the most popular way to find resources on the web.  We can break the URL into four parts. \n",
    "\n",
    "<ul>\n",
    "    <li><b>scheme</b> this is this protocol, for this lab it will always be <code>http://</code>  </li>\n",
    "    <li><b>Internet address or  Base URL </b> this will be used to find the location here are some examples: <code>www.ibm.com</code> and  <code> www.gitlab.com </code> </li>\n",
    "    <li><b>route</b> location on the web server for example: <code>/images/IDSNlogo.png</code> </li>\n",
    "    <li><b>URL parameters</b> parameters included in an URL for example: <code>?userid=1</code> </li>\n",
    "\n",
    "</ul>\n"
   ]
  },
  {
   "cell_type": "markdown",
<<<<<<< HEAD
   "id": "0ca2604e-1979-433d-be7e-9b66a720c5fa",
=======
>>>>>>> abe518e9c75bfbd56e1d4970cdeac31254a96a89
   "metadata": {},
   "source": [
    "You may also here the term uniform resource identifier (URI), URL are actually a subset of URIs. Another popular term is endpoint, this is the URL of an operation provided by a Web server.\n"
   ]
  },
  {
   "cell_type": "markdown",
<<<<<<< HEAD
   "id": "8fb5edd1-2f7b-4b6e-9fd8-2e24720becc0",
=======
>>>>>>> abe518e9c75bfbd56e1d4970cdeac31254a96a89
   "metadata": {},
   "source": [
    "<h2 id=\"RE\">Request </h2>\n"
   ]
  },
  {
   "cell_type": "markdown",
<<<<<<< HEAD
   "id": "c72ae2a1-2bad-443d-9477-7263c3a7e39e",
=======
>>>>>>> abe518e9c75bfbd56e1d4970cdeac31254a96a89
   "metadata": {},
   "source": [
    "The process can be broken into the <b>request</b> and <b>response </b> process.  \n",
    "\n",
    "The request using the get method is partially illustrated below. In the start line we have the <code>GET</code> method, this is an <code>HTTP</code> method. Also the location of the resource <code>/index.html</code> and the <code>HTTP</code> version.\n",
    "\n",
    "The Request header passes additional information with an <code>HTTP</code> request:\n"
   ]
  },
  {
   "cell_type": "markdown",
<<<<<<< HEAD
   "id": "bb051cf6-f82a-4b1d-a798-9db440387488",
=======
>>>>>>> abe518e9c75bfbd56e1d4970cdeac31254a96a89
   "metadata": {},
   "source": [
    "<div class=\"alert alert-block alert-info\" style=\"margin-top: 20px\">\n",
    "         <img src=\"https://s3-api.us-geo.objectstorage.softlayer.net/cf-courses-data/CognitiveClass/PY0101EN/images/reqest_messege.png\" width=\"400\" align=\"center\">\n",
    "</div>\n"
   ]
  },
  {
   "cell_type": "markdown",
<<<<<<< HEAD
   "id": "67ae8a01-798e-476d-af57-8ef30d986785",
=======
>>>>>>> abe518e9c75bfbd56e1d4970cdeac31254a96a89
   "metadata": {},
   "source": [
    "When an <code>HTTP</code> request is made, an <code>HTTP</code> method is sent, this tells the server what action to perform.  \n",
    "\n",
    "A list of several <code>HTTP</code> methods is shown below.\n"
   ]
  },
  {
   "cell_type": "markdown",
<<<<<<< HEAD
   "id": "1112a917-14a9-4e39-b075-62cb820c5644",
=======
>>>>>>> abe518e9c75bfbd56e1d4970cdeac31254a96a89
   "metadata": {},
   "source": [
    "<div class=\"alert alert-block alert-info\" style=\"margin-top: 20px\">\n",
    "         <img src=\"https://s3-api.us-geo.objectstorage.softlayer.net/cf-courses-data/CognitiveClass/PY0101EN/images/http_methods.png\" width=\"400\" align=\"center\">\n",
    "</div>\n"
   ]
  },
  {
   "cell_type": "markdown",
<<<<<<< HEAD
   "id": "abda493e-4fc0-450b-aee1-b23e21f7b65a",
=======
>>>>>>> abe518e9c75bfbd56e1d4970cdeac31254a96a89
   "metadata": {},
   "source": [
    "<h2 id=\"RES\">Response</h2>\n"
   ]
  },
  {
   "cell_type": "markdown",
<<<<<<< HEAD
   "id": "e3f32452-d88a-49f2-b4c9-be4ea78698f1",
=======
>>>>>>> abe518e9c75bfbd56e1d4970cdeac31254a96a89
   "metadata": {},
   "source": [
    "The figure below represents the response; the response start line contains the version number <code>HTTP/1.0</code>, a status code (200)  meaning success, followed by a descriptive phrase (OK). \n",
    "\n",
    "The response header contains useful meta information. \n",
    "\n",
    "Finally, we have the response body containing the requested file an <code> HTML </code> document. It should be noted that some request have headers.\n"
   ]
  },
  {
   "cell_type": "markdown",
<<<<<<< HEAD
   "id": "6d2ec665-dd04-44e5-9444-25d4fc789737",
=======
>>>>>>> abe518e9c75bfbd56e1d4970cdeac31254a96a89
   "metadata": {},
   "source": [
    "<div class=\"alert alert-block alert-info\" style=\"margin-top: 20px\">\n",
    "         <img src=\"https://s3-api.us-geo.objectstorage.softlayer.net/cf-courses-data/CognitiveClass/PY0101EN/images/response_message.png\" width=\"400\" align=\"center\">\n",
    "</div>\n"
   ]
  },
  {
   "cell_type": "markdown",
<<<<<<< HEAD
   "id": "ac93b662-041f-4a1c-8461-5dcf9b4b1532",
=======
>>>>>>> abe518e9c75bfbd56e1d4970cdeac31254a96a89
   "metadata": {},
   "source": [
    "Some status code examples are shown in the table below, the prefix indicates the class; these are shown in yellow, with actual status codes shown in  white. Check out the following  <a href=\"https://developer.mozilla.org/en-US/docs/Web/HTTP/Status?utm_medium=Exinfluencer&utm_source=Exinfluencer&utm_content=000026UJ&utm_term=10006555&utm_id=NA-SkillsNetwork-Channel-SkillsNetworkCoursesIBMDeveloperSkillsNetworkRP0101ENCoursera889-2022-01-01\">link </a>  for more descriptions.\n"
   ]
  },
  {
   "cell_type": "markdown",
<<<<<<< HEAD
   "id": "2450bc9c-c008-4b19-904f-0bece36845a5",
=======
>>>>>>> abe518e9c75bfbd56e1d4970cdeac31254a96a89
   "metadata": {},
   "source": [
    "<div class=\"alert alert-block alert-info\" style=\"margin-top: 20px\">\n",
    "         <img src=\"https://s3-api.us-geo.objectstorage.softlayer.net/cf-courses-data/CognitiveClass/PY0101EN/images/status_code.png\" width=\"300\" align=\"center\">\n",
    "</div>\n"
   ]
  },
  {
   "cell_type": "markdown",
<<<<<<< HEAD
   "id": "083165b5-ccf0-4bff-934e-6caf443b3232",
=======
>>>>>>> abe518e9c75bfbd56e1d4970cdeac31254a96a89
   "metadata": {},
   "source": [
    "<a id=\"ref1\"></a>\n",
    "\n",
    "<h2 id=\"#httr\">The httr library</h2>\n"
   ]
  },
  {
   "cell_type": "markdown",
<<<<<<< HEAD
   "id": "a68cab03-f2a9-49ec-bbc7-5664655ff99c",
=======
>>>>>>> abe518e9c75bfbd56e1d4970cdeac31254a96a89
   "metadata": {},
   "source": [
    "`httr` is a R library that allows you to build and send <code>HTTP</code> requests, as well as process <code>HTTP</code> requests easily.  We can import the package as follows (may take less than minute to import):\n"
   ]
  },
  {
   "cell_type": "code",
<<<<<<< HEAD
   "execution_count": 7,
   "metadata": {},
   "outputs": [
    {
     "name": "stderr",
     "output_type": "stream",
     "text": [
      "Warning message:\n",
      "\"package 'httr' is in use and will not be installed\"\n"
     ]
    }
   ],
   "source": [
    "install.packages(\"httr\")"
   ]
  },
  {
   "cell_type": "code",
   "execution_count": 8,
   "id": "359a079c-aa53-4cc5-9208-dcc4c69fb448",
   "metadata": {},
=======
   "execution_count": 2,
   "metadata": {
    "tags": []
   },
>>>>>>> abe518e9c75bfbd56e1d4970cdeac31254a96a89
   "outputs": [],
   "source": [
    "library(httr)"
   ]
  },
  {
   "cell_type": "markdown",
<<<<<<< HEAD
   "id": "2f27d8c0-0b17-4eed-9132-9f68f7e2ac61",
=======
>>>>>>> abe518e9c75bfbd56e1d4970cdeac31254a96a89
   "metadata": {},
   "source": [
    " You can make a <code>GET</code> request via the method <code>get</code> to [www.ibm.com](http://www.ibm.com?cm_mmc=Email_Newsletter-_-Developer_Ed%2BTech-_-WW_WW-_-SkillsNetwork-Courses-IBMDeveloperSkillsNetwork-PY0101EN-SkillsNetwork-19487395&cm_mmca1=000026UJ&cm_mmca2=10006555&cm_mmca3=M12345678&cvosrc=email.Newsletter.M12345678&cvo_campaign=000026UJ&cm_mmc=Email_Newsletter-_-Developer_Ed%2BTech-_-WW_WW-_-SkillsNetwork-Courses-IBMDeveloperSkillsNetwork-PY0101EN-SkillsNetwork-19487395&cm_mmca1=000026UJ&cm_mmca2=10006555&cm_mmca3=M12345678&cvosrc=email.Newsletter.M12345678&cvo_campaign=000026UJ&cm_mmc=Email_Newsletter-_-Developer_Ed%2BTech-_-WW_WW-_-SkillsNetwork-Courses-IBMDeveloperSkillsNetwork-PY0101EN-SkillsNetwork-19487395&cm_mmca1=000026UJ&cm_mmca2=10006555&cm_mmca3=M12345678&cvosrc=email.Newsletter.M12345678&cvo_campaign=000026UJ&cm_mmc=Email_Newsletter-_-Developer_Ed%2BTech-_-WW_WW-_-SkillsNetwork-Courses-IBMDeveloperSkillsNetwork-PY0101EN-SkillsNetwork-19487395&cm_mmca1=000026UJ&cm_mmca2=10006555&cm_mmca3=M12345678&cvosrc=email.Newsletter.M12345678&cvo_campaign=000026UJ&cm_mmc=Email_Newsletter-_-Developer_Ed%2BTech-_-WW_WW-_-SkillsNetwork-Courses-IBMDeveloperSkillsNetwork-PY0101EN-SkillsNetwork-19487395&cm_mmca1=000026UJ&cm_mmca2=10006555&cm_mmca3=M12345678&cvosrc=email.Newsletter.M12345678&cvo_campaign=000026UJ&cm_mmc=Email_Newsletter-_-Developer_Ed%2BTech-_-WW_WW-_-SkillsNetwork-Courses-IBMDeveloperSkillsNetwork-PY0101EN-SkillsNetwork-19487395&cm_mmca1=000026UJ&cm_mmca2=10006555&cm_mmca3=M12345678&cvosrc=email.Newsletter.M12345678&cvo_campaign=000026UJ&cm_mmc=Email_Newsletter-_-Developer_Ed%2BTech-_-WW_WW-_-SkillsNetwork-Courses-IBMDeveloperSkillsNetwork-PY0101EN-SkillsNetwork-19487395&cm_mmca1=000026UJ&cm_mmca2=10006555&cm_mmca3=M12345678&cvosrc=email.Newsletter.M12345678&cvo_campaign=000026UJ&cm_mmc=Email_Newsletter-_-Developer_Ed%2BTech-_-WW_WW-_-SkillsNetwork-Courses-IBMDeveloperSkillsNetwork-PY0101EN-SkillsNetwork-19487395&cm_mmca1=000026UJ&cm_mmca2=10006555&cm_mmca3=M12345678&cvosrc=email.Newsletter.M12345678&cvo_campaign=000026UJ&cm_mmc=Email_Newsletter-_-Developer_Ed%2BTech-_-WW_WW-_-SkillsNetwork-Courses-IBMDeveloperSkillsNetwork-PY0101EN-SkillsNetwork-19487395&cm_mmca1=000026UJ&cm_mmca2=10006555&cm_mmca3=M12345678&cvosrc=email.Newsletter.M12345678&cvo_campaign=000026UJ&cm_mmc=Email_Newsletter-_-Developer_Ed%2BTech-_-WW_WW-_-SkillsNetwork-Courses-IBMDeveloperSkillsNetwork-PY0101EN-SkillsNetwork-19487395&cm_mmca1=000026UJ&cm_mmca2=10006555&cm_mmca3=M12345678&cvosrc=email.Newsletter.M12345678&cvo_campaign=000026UJ): \n"
   ]
  },
  {
   "cell_type": "code",
<<<<<<< HEAD
   "execution_count": 15,
   "metadata": {},
   "outputs": [
    {
     "name": "stderr",
     "output_type": "stream",
     "text": [
      "Warning message in download.file(url, destfile, method, mode = \"wb\", ...):\n",
      "\"downloaded length 1900544 != reported length 2621236\"\n",
      "Warning message in download.file(url, destfile, method, mode = \"wb\", ...):\n",
      "\"URL 'https://cran.r-project.org/bin/windows/contrib/4.2/curl_5.0.0.zip': Timeout of 60 seconds was reached\"\n"
     ]
    },
    {
     "name": "stdout",
     "output_type": "stream",
     "text": [
      "Error in download.file(url, destfile, method, mode = \"wb\", ...) : \n",
      "  download from 'https://cran.r-project.org/bin/windows/contrib/4.2/curl_5.0.0.zip' failed\n"
     ]
    },
    {
     "name": "stderr",
     "output_type": "stream",
     "text": [
      "Warning message in download.packages(pkgs, destdir = tmpd, available = available, :\n",
      "\"download of package 'curl' failed\"\n"
     ]
    }
   ],
   "source": [
    "install.packages(\"curl\")"
   ]
  },
  {
   "cell_type": "code",
   "execution_count": 14,
   "metadata": {},
   "outputs": [
    {
     "ename": "ERROR",
     "evalue": "Error in library(curl): there is no package called 'curl'\n",
     "output_type": "error",
     "traceback": [
      "Error in library(curl): there is no package called 'curl'\nTraceback:\n",
      "1. library(curl)"
     ]
    }
   ],
   "source": [
    "library(curl)"
   ]
  },
  {
   "cell_type": "code",
   "execution_count": 17,
   "id": "7b6ec5b0-80b9-441d-a2ee-5e9c1381b8d5",
   "metadata": {},
=======
   "execution_count": 3,
   "metadata": {
    "tags": []
   },
>>>>>>> abe518e9c75bfbd56e1d4970cdeac31254a96a89
   "outputs": [
    {
     "data": {
      "text/plain": [
<<<<<<< HEAD
       "Response [https://www.ibm.com/us-en/]\n",
       "  Date: 2023-05-25 13:49\n",
=======
       "Response [https://www.ibm.com/us-en/?ar=1]\n",
       "  Date: 2023-05-29 01:06\n",
>>>>>>> abe518e9c75bfbd56e1d4970cdeac31254a96a89
       "  Status: 200\n",
       "  Content-Type: text/html\n",
       "  Size: 81.8 kB\n",
       "<!DOCTYPE html><html lang=\"en-US\"><head><meta name=\"viewport\" content=\"width=...\n",
       "            window.hj=window.hj||function(){(hj.q=hj.q||[]).push(arguments)};\n",
       "            window.hj('tagRecording', ['hjLoaded']);\n",
       "            document.addEventListener('onMegaMenuToggle', e => {\n",
       "              if(e.target.getAttribute(\"data-title\") == 'products-solutions') {\n",
       "                window.hj('trigger', 'MM_products-solutions');\n",
       "              }\n",
       "              if(e.target.getAttribute(\"data-title\") == 'services-consulting') {\n",
       "                window.hj('trigger', 'MM_services-consulting');\n",
       "              }\n",
       "..."
      ]
     },
     "metadata": {},
     "output_type": "display_data"
    }
   ],
   "source": [
    "url<-'https://www.ibm.com/'\n",
    "response<-GET(url)\n",
    "response"
   ]
  },
  {
   "cell_type": "markdown",
<<<<<<< HEAD
   "id": "faacf54d-9110-4dd7-bc75-33b0be3795ad",
=======
>>>>>>> abe518e9c75bfbd56e1d4970cdeac31254a96a89
   "metadata": {},
   "source": [
    "We have the response object <code>response</code> , this has information about the response, like the status of the request. We can view the status code using the attribute <code>status</code>\n"
   ]
  },
  {
   "cell_type": "code",
<<<<<<< HEAD
   "execution_count": 18,
   "id": "1b6ce93f-349f-4d7a-b8be-29e94a37ef81",
   "metadata": {},
=======
   "execution_count": 4,
   "metadata": {
    "tags": []
   },
>>>>>>> abe518e9c75bfbd56e1d4970cdeac31254a96a89
   "outputs": [
    {
     "data": {
      "text/html": [
       "200"
      ],
      "text/latex": [
       "200"
      ],
      "text/markdown": [
       "200"
      ],
      "text/plain": [
       "[1] 200"
      ]
     },
     "metadata": {},
     "output_type": "display_data"
    }
   ],
   "source": [
    "response$status"
   ]
  },
  {
   "cell_type": "markdown",
<<<<<<< HEAD
   "id": "d20c8617-c098-4a36-816a-01bde8575179",
=======
>>>>>>> abe518e9c75bfbd56e1d4970cdeac31254a96a89
   "metadata": {},
   "source": [
    "You can also check the headers of the response\n"
   ]
  },
  {
   "cell_type": "code",
<<<<<<< HEAD
   "execution_count": 19,
   "id": "1273da30-b116-438f-8ee2-1a20869b8ae4",
   "metadata": {},
=======
   "execution_count": 5,
   "metadata": {
    "tags": []
   },
>>>>>>> abe518e9c75bfbd56e1d4970cdeac31254a96a89
   "outputs": [
    {
     "data": {
      "text/html": [
       "<dl>\n",
       "\t<dt>$`accept-ranges`</dt>\n",
       "\t\t<dd>'bytes'</dd>\n",
       "\t<dt>$`content-type`</dt>\n",
       "\t\t<dd>'text/html'</dd>\n",
       "\t<dt>$etag</dt>\n",
       "\t\t<dd>'\"50bf7407d406720d846641d0b27a97a1:1684763703.875081\"'</dd>\n",
       "\t<dt>$`last-modified`</dt>\n",
       "\t\t<dd>'Fri, 19 May 2023 19:33:13 GMT'</dd>\n",
       "\t<dt>$server</dt>\n",
       "\t\t<dd>'AkamaiNetStorage'</dd>\n",
       "\t<dt>$`cache-control`</dt>\n",
       "\t\t<dd>'max-age=3600'</dd>\n",
       "\t<dt>$expires</dt>\n",
<<<<<<< HEAD
       "\t\t<dd>'Thu, 25 May 2023 14:49:01 GMT'</dd>\n",
=======
       "\t\t<dd>'Mon, 29 May 2023 02:06:42 GMT'</dd>\n",
>>>>>>> abe518e9c75bfbd56e1d4970cdeac31254a96a89
       "\t<dt>$`x-akamai-transformed`</dt>\n",
       "\t\t<dd>'9 17180 0 pmb=mTOE,2'</dd>\n",
       "\t<dt>$`content-encoding`</dt>\n",
       "\t\t<dd>'gzip'</dd>\n",
       "\t<dt>$date</dt>\n",
<<<<<<< HEAD
       "\t\t<dd>'Thu, 25 May 2023 13:49:01 GMT'</dd>\n",
       "\t<dt>$`content-length`</dt>\n",
       "\t\t<dd>'17373'</dd>\n",
=======
       "\t\t<dd>'Mon, 29 May 2023 01:06:42 GMT'</dd>\n",
       "\t<dt>$`content-length`</dt>\n",
       "\t\t<dd>'17374'</dd>\n",
>>>>>>> abe518e9c75bfbd56e1d4970cdeac31254a96a89
       "\t<dt>$connection</dt>\n",
       "\t\t<dd>'keep-alive'</dd>\n",
       "\t<dt>$vary</dt>\n",
       "\t\t<dd>'Accept-Encoding'</dd>\n",
       "\t<dt>$`x-content-type-options`</dt>\n",
       "\t\t<dd>'nosniff'</dd>\n",
       "\t<dt>$`x-xss-protection`</dt>\n",
       "\t\t<dd>'1; mode=block'</dd>\n",
       "\t<dt>$`content-security-policy`</dt>\n",
       "\t\t<dd>'upgrade-insecure-requests'</dd>\n",
       "\t<dt>$`strict-transport-security`</dt>\n",
       "\t\t<dd>'max-age=31536000'</dd>\n",
       "</dl>\n"
      ],
      "text/latex": [
       "\\begin{description}\n",
       "\\item[\\$`accept-ranges`] 'bytes'\n",
       "\\item[\\$`content-type`] 'text/html'\n",
       "\\item[\\$etag] '\"50bf7407d406720d846641d0b27a97a1:1684763703.875081\"'\n",
       "\\item[\\$`last-modified`] 'Fri, 19 May 2023 19:33:13 GMT'\n",
       "\\item[\\$server] 'AkamaiNetStorage'\n",
       "\\item[\\$`cache-control`] 'max-age=3600'\n",
<<<<<<< HEAD
       "\\item[\\$expires] 'Thu, 25 May 2023 14:49:01 GMT'\n",
       "\\item[\\$`x-akamai-transformed`] '9 17180 0 pmb=mTOE,2'\n",
       "\\item[\\$`content-encoding`] 'gzip'\n",
       "\\item[\\$date] 'Thu, 25 May 2023 13:49:01 GMT'\n",
       "\\item[\\$`content-length`] '17373'\n",
=======
       "\\item[\\$expires] 'Mon, 29 May 2023 02:06:42 GMT'\n",
       "\\item[\\$`x-akamai-transformed`] '9 17180 0 pmb=mTOE,2'\n",
       "\\item[\\$`content-encoding`] 'gzip'\n",
       "\\item[\\$date] 'Mon, 29 May 2023 01:06:42 GMT'\n",
       "\\item[\\$`content-length`] '17374'\n",
>>>>>>> abe518e9c75bfbd56e1d4970cdeac31254a96a89
       "\\item[\\$connection] 'keep-alive'\n",
       "\\item[\\$vary] 'Accept-Encoding'\n",
       "\\item[\\$`x-content-type-options`] 'nosniff'\n",
       "\\item[\\$`x-xss-protection`] '1; mode=block'\n",
       "\\item[\\$`content-security-policy`] 'upgrade-insecure-requests'\n",
       "\\item[\\$`strict-transport-security`] 'max-age=31536000'\n",
       "\\end{description}\n"
      ],
      "text/markdown": [
       "$`accept-ranges`\n",
       ":   'bytes'\n",
       "$`content-type`\n",
       ":   'text/html'\n",
       "$etag\n",
       ":   '\"50bf7407d406720d846641d0b27a97a1:1684763703.875081\"'\n",
       "$`last-modified`\n",
       ":   'Fri, 19 May 2023 19:33:13 GMT'\n",
       "$server\n",
       ":   'AkamaiNetStorage'\n",
       "$`cache-control`\n",
       ":   'max-age=3600'\n",
       "$expires\n",
<<<<<<< HEAD
       ":   'Thu, 25 May 2023 14:49:01 GMT'\n",
=======
       ":   'Mon, 29 May 2023 02:06:42 GMT'\n",
>>>>>>> abe518e9c75bfbd56e1d4970cdeac31254a96a89
       "$`x-akamai-transformed`\n",
       ":   '9 17180 0 pmb=mTOE,2'\n",
       "$`content-encoding`\n",
       ":   'gzip'\n",
       "$date\n",
<<<<<<< HEAD
       ":   'Thu, 25 May 2023 13:49:01 GMT'\n",
       "$`content-length`\n",
       ":   '17373'\n",
=======
       ":   'Mon, 29 May 2023 01:06:42 GMT'\n",
       "$`content-length`\n",
       ":   '17374'\n",
>>>>>>> abe518e9c75bfbd56e1d4970cdeac31254a96a89
       "$connection\n",
       ":   'keep-alive'\n",
       "$vary\n",
       ":   'Accept-Encoding'\n",
       "$`x-content-type-options`\n",
       ":   'nosniff'\n",
       "$`x-xss-protection`\n",
       ":   '1; mode=block'\n",
       "$`content-security-policy`\n",
       ":   'upgrade-insecure-requests'\n",
       "$`strict-transport-security`\n",
       ":   'max-age=31536000'\n",
       "\n",
       "\n"
      ],
      "text/plain": [
       "$`accept-ranges`\n",
       "[1] \"bytes\"\n",
       "\n",
       "$`content-type`\n",
       "[1] \"text/html\"\n",
       "\n",
       "$etag\n",
       "[1] \"\\\"50bf7407d406720d846641d0b27a97a1:1684763703.875081\\\"\"\n",
       "\n",
       "$`last-modified`\n",
       "[1] \"Fri, 19 May 2023 19:33:13 GMT\"\n",
       "\n",
       "$server\n",
       "[1] \"AkamaiNetStorage\"\n",
       "\n",
       "$`cache-control`\n",
       "[1] \"max-age=3600\"\n",
       "\n",
       "$expires\n",
<<<<<<< HEAD
       "[1] \"Thu, 25 May 2023 14:49:01 GMT\"\n",
=======
       "[1] \"Mon, 29 May 2023 02:06:42 GMT\"\n",
>>>>>>> abe518e9c75bfbd56e1d4970cdeac31254a96a89
       "\n",
       "$`x-akamai-transformed`\n",
       "[1] \"9 17180 0 pmb=mTOE,2\"\n",
       "\n",
       "$`content-encoding`\n",
       "[1] \"gzip\"\n",
       "\n",
       "$date\n",
<<<<<<< HEAD
       "[1] \"Thu, 25 May 2023 13:49:01 GMT\"\n",
       "\n",
       "$`content-length`\n",
       "[1] \"17373\"\n",
=======
       "[1] \"Mon, 29 May 2023 01:06:42 GMT\"\n",
       "\n",
       "$`content-length`\n",
       "[1] \"17374\"\n",
>>>>>>> abe518e9c75bfbd56e1d4970cdeac31254a96a89
       "\n",
       "$connection\n",
       "[1] \"keep-alive\"\n",
       "\n",
       "$vary\n",
       "[1] \"Accept-Encoding\"\n",
       "\n",
       "$`x-content-type-options`\n",
       "[1] \"nosniff\"\n",
       "\n",
       "$`x-xss-protection`\n",
       "[1] \"1; mode=block\"\n",
       "\n",
       "$`content-security-policy`\n",
       "[1] \"upgrade-insecure-requests\"\n",
       "\n",
       "$`strict-transport-security`\n",
       "[1] \"max-age=31536000\"\n",
       "\n",
       "attr(,\"class\")\n",
       "[1] \"insensitive\" \"list\"       "
      ]
     },
     "metadata": {},
     "output_type": "display_data"
    }
   ],
   "source": [
    "response_headers <- headers(response)\n",
    "response_headers"
   ]
  },
  {
   "cell_type": "markdown",
<<<<<<< HEAD
   "id": "63d47348-fe36-4bf2-b6d8-9721d69179e2",
=======
>>>>>>> abe518e9c75bfbd56e1d4970cdeac31254a96a89
   "metadata": {},
   "source": [
    "We can obtain the date the request was sent using the key <code>Date</code>\n"
   ]
  },
  {
   "cell_type": "code",
<<<<<<< HEAD
   "execution_count": 20,
   "id": "fd2fbf5d-7c97-4e9e-b7a0-6dbdc47a745a",
   "metadata": {},
=======
   "execution_count": 9,
   "metadata": {
    "tags": []
   },
>>>>>>> abe518e9c75bfbd56e1d4970cdeac31254a96a89
   "outputs": [
    {
     "data": {
      "text/html": [
<<<<<<< HEAD
       "<strong>$date</strong> = 'Thu, 25 May 2023 13:49:01 GMT'"
      ],
      "text/latex": [
       "\\textbf{\\$date} = 'Thu, 25 May 2023 13:49:01 GMT'"
      ],
      "text/markdown": [
       "**$date** = 'Thu, 25 May 2023 13:49:01 GMT'"
      ],
      "text/plain": [
       "$date\n",
       "[1] \"Thu, 25 May 2023 13:49:01 GMT\"\n"
=======
       "<strong>$date</strong> = 'Mon, 29 May 2023 01:06:42 GMT'"
      ],
      "text/latex": [
       "\\textbf{\\$date} = 'Mon, 29 May 2023 01:06:42 GMT'"
      ],
      "text/markdown": [
       "**$date** = 'Mon, 29 May 2023 01:06:42 GMT'"
      ],
      "text/plain": [
       "$date\n",
       "[1] \"Mon, 29 May 2023 01:06:42 GMT\"\n"
>>>>>>> abe518e9c75bfbd56e1d4970cdeac31254a96a89
      ]
     },
     "metadata": {},
     "output_type": "display_data"
    }
   ],
   "source": [
    "response_headers['date']"
   ]
  },
  {
   "cell_type": "markdown",
<<<<<<< HEAD
   "id": "bbba96a3-5552-40e9-8bd9-c24b4153b455",
=======
>>>>>>> abe518e9c75bfbd56e1d4970cdeac31254a96a89
   "metadata": {},
   "source": [
    "<code>Content-Type</code> indicates the type of data:\n"
   ]
  },
  {
   "cell_type": "code",
<<<<<<< HEAD
   "execution_count": 21,
   "id": "fedb5a30-2c32-4441-a105-4c7ab6f532a9",
   "metadata": {},
=======
   "execution_count": 7,
   "metadata": {
    "tags": []
   },
>>>>>>> abe518e9c75bfbd56e1d4970cdeac31254a96a89
   "outputs": [
    {
     "data": {
      "text/html": [
       "<strong>$`content-type`</strong> = 'text/html'"
      ],
      "text/latex": [
       "\\textbf{\\$`content-type`} = 'text/html'"
      ],
      "text/markdown": [
       "**$`content-type`** = 'text/html'"
      ],
      "text/plain": [
       "$`content-type`\n",
       "[1] \"text/html\"\n"
      ]
     },
     "metadata": {},
     "output_type": "display_data"
    }
   ],
   "source": [
    "response_headers['content-type']"
   ]
  },
  {
   "cell_type": "markdown",
<<<<<<< HEAD
   "id": "2d957880-5d93-4266-b5dc-c81f93570b36",
=======
>>>>>>> abe518e9c75bfbd56e1d4970cdeac31254a96a89
   "metadata": {},
   "source": [
    "To obtain the original request, you can view it via response object:\n"
   ]
  },
  {
   "cell_type": "code",
<<<<<<< HEAD
   "execution_count": 22,
   "id": "c1a40923-c86b-4f3d-a2ab-e23e5689714b",
   "metadata": {},
=======
   "execution_count": 10,
   "metadata": {
    "tags": []
   },
>>>>>>> abe518e9c75bfbd56e1d4970cdeac31254a96a89
   "outputs": [
    {
     "data": {
      "text/html": [
       "<strong>Accept:</strong> 'application/json, text/xml, application/xml, */*'"
      ],
      "text/latex": [
       "\\textbf{Accept:} 'application/json, text/xml, application/xml, */*'"
      ],
      "text/markdown": [
       "**Accept:** 'application/json, text/xml, application/xml, */*'"
      ],
      "text/plain": [
       "                                            Accept \n",
       "\"application/json, text/xml, application/xml, */*\" "
      ]
     },
     "metadata": {},
     "output_type": "display_data"
    }
   ],
   "source": [
    "response$request$headers"
   ]
  },
  {
   "cell_type": "markdown",
<<<<<<< HEAD
   "id": "faec562e-4cb5-40df-add1-9f26a399ba2b",
=======
>>>>>>> abe518e9c75bfbd56e1d4970cdeac31254a96a89
   "metadata": {},
   "source": [
    "<hr>\n",
    "\n",
    "**Coding Exercise:** in the code cell below, find the content-length attribute in the response header\n"
   ]
  },
  {
   "cell_type": "code",
<<<<<<< HEAD
   "execution_count": 24,
   "id": "27962037-16ac-4669-823a-c0944199ccde",
   "metadata": {},
=======
   "execution_count": 11,
   "metadata": {
    "tags": []
   },
>>>>>>> abe518e9c75bfbd56e1d4970cdeac31254a96a89
   "outputs": [
    {
     "data": {
      "text/html": [
<<<<<<< HEAD
       "<strong>$`content-length`</strong> = '17373'"
      ],
      "text/latex": [
       "\\textbf{\\$`content-length`} = '17373'"
      ],
      "text/markdown": [
       "**$`content-length`** = '17373'"
      ],
      "text/plain": [
       "$`content-length`\n",
       "[1] \"17373\"\n"
=======
       "<strong>$`content-length`</strong> = '17374'"
      ],
      "text/latex": [
       "\\textbf{\\$`content-length`} = '17374'"
      ],
      "text/markdown": [
       "**$`content-length`** = '17374'"
      ],
      "text/plain": [
       "$`content-length`\n",
       "[1] \"17374\"\n"
>>>>>>> abe518e9c75bfbd56e1d4970cdeac31254a96a89
      ]
     },
     "metadata": {},
     "output_type": "display_data"
    }
   ],
   "source": [
<<<<<<< HEAD
    "# Write your code below. Don't forget to press Shift+Enter to execute the cell\n",
    "response_headers['content-length']"
=======
    "response_headers['content-length']\n"
>>>>>>> abe518e9c75bfbd56e1d4970cdeac31254a96a89
   ]
  },
  {
   "cell_type": "markdown",
<<<<<<< HEAD
   "id": "335c3e1a-ef9a-4ffc-a651-60a4c674cfe9",
=======
>>>>>>> abe518e9c75bfbd56e1d4970cdeac31254a96a89
   "metadata": {},
   "source": [
    "<details><summary>Click here for the solution</summary>\n",
    "\n",
    "```R\n",
    "response_headers['content-length']\n",
    "\n",
    "```\n",
    "\n",
    "</details>\n",
    "\n",
    "<hr>\n"
   ]
  },
  {
   "cell_type": "markdown",
<<<<<<< HEAD
   "id": "c0a12967-84a0-432e-b3d1-da83f4759db2",
=======
>>>>>>> abe518e9c75bfbd56e1d4970cdeac31254a96a89
   "metadata": {},
   "source": [
    "Now, let's get the content of HTTP response\n"
   ]
  },
  {
   "cell_type": "code",
<<<<<<< HEAD
   "execution_count": 25,
   "id": "1bd7d177-3bfa-4279-a07b-fa077d015b46",
   "metadata": {},
=======
   "execution_count": 22,
   "metadata": {
    "tags": []
   },
>>>>>>> abe518e9c75bfbd56e1d4970cdeac31254a96a89
   "outputs": [
    {
     "name": "stderr",
     "output_type": "stream",
     "text": [
<<<<<<< HEAD
      "No encoding supplied: defaulting to UTF-8.\n",
      "\n"
=======
      "No encoding supplied: defaulting to UTF-8.\n"
>>>>>>> abe518e9c75bfbd56e1d4970cdeac31254a96a89
     ]
    },
    {
     "data": {
      "text/plain": [
       "{html_document}\n",
       "<html lang=\"en-US\">\n",
       "[1] <head>\\n<meta http-equiv=\"Content-Type\" content=\"text/html; charset=UTF-8 ...\n",
       "[2] <body>\\n<div id=\"__next\">\\n<div><div class=\"bx--dotcom-shell\">\\n<main cla ..."
      ]
     },
     "metadata": {},
     "output_type": "display_data"
    }
   ],
   "source": [
    "content(response)"
   ]
  },
  {
   "cell_type": "markdown",
<<<<<<< HEAD
   "id": "31239f7a-1ac5-481d-8fda-be131267e1bc",
=======
>>>>>>> abe518e9c75bfbd56e1d4970cdeac31254a96a89
   "metadata": {},
   "source": [
    "which is the IBM home page (in fact, HTML page which you will learn later in this course) \n"
   ]
  },
  {
   "cell_type": "markdown",
<<<<<<< HEAD
   "id": "4024f08b-9f45-40e0-9872-25d76a1f14f6",
=======
>>>>>>> abe518e9c75bfbd56e1d4970cdeac31254a96a89
   "metadata": {},
   "source": [
    "You can load other types of data for non-text requests like images, consider the URL of the following image:\n"
   ]
  },
  {
   "cell_type": "code",
<<<<<<< HEAD
   "execution_count": 26,
   "id": "25bdec54-f7d2-462b-b309-38b5ad86855b",
   "metadata": {},
   "outputs": [],
   "source": [
    "image_url<-'https://gitlab.com/ibm/skills-network/courses/placeholder101/-/raw/master/labs/module%201/images/IDSNlogo.png'"
=======
   "execution_count": 28,
   "metadata": {
    "tags": []
   },
   "outputs": [],
   "source": [
    "image_url<-'https://i.pinimg.com/736x/80/5c/84/805c84621841fb724201a17d50d6a769--iphone-wallpaper-backgrounds.jpg'"
>>>>>>> abe518e9c75bfbd56e1d4970cdeac31254a96a89
   ]
  },
  {
   "cell_type": "markdown",
<<<<<<< HEAD
   "id": "d835cc4d-4409-42e5-a596-df14a76c1980",
=======
>>>>>>> abe518e9c75bfbd56e1d4970cdeac31254a96a89
   "metadata": {},
   "source": [
    "We can make a get request:\n"
   ]
  },
  {
   "cell_type": "code",
<<<<<<< HEAD
   "execution_count": 27,
   "id": "55bc47f2-ebc9-496e-a6eb-aa3d3507ff61",
   "metadata": {},
=======
   "execution_count": 29,
   "metadata": {
    "tags": []
   },
>>>>>>> abe518e9c75bfbd56e1d4970cdeac31254a96a89
   "outputs": [],
   "source": [
    "image_response<-GET(image_url)"
   ]
  },
  {
   "cell_type": "markdown",
<<<<<<< HEAD
   "id": "e43c9b9c-0d60-467b-8c6d-9912076ea84e",
=======
>>>>>>> abe518e9c75bfbd56e1d4970cdeac31254a96a89
   "metadata": {},
   "source": [
    "We can look at the response  header:\n"
   ]
  },
  {
   "cell_type": "code",
<<<<<<< HEAD
   "execution_count": 28,
   "id": "edf48131-e580-4da5-99a6-1dff7593b035",
   "metadata": {},
=======
   "execution_count": 30,
   "metadata": {
    "tags": []
   },
>>>>>>> abe518e9c75bfbd56e1d4970cdeac31254a96a89
   "outputs": [],
   "source": [
    "image_headers <- headers(image_response)"
   ]
  },
  {
   "cell_type": "markdown",
<<<<<<< HEAD
   "id": "56141cf7-c258-4ebd-83e5-315870b2477b",
=======
>>>>>>> abe518e9c75bfbd56e1d4970cdeac31254a96a89
   "metadata": {},
   "source": [
    "We can we can see the <code>'Content-Type'</code>, which is an image\n"
   ]
  },
  {
   "cell_type": "code",
<<<<<<< HEAD
   "execution_count": 29,
   "id": "c8acc08a-e930-47d5-9bf8-12f5fcf7b96f",
   "metadata": {},
   "outputs": [
    {
     "data": {
      "text/html": [
       "<strong>$`content-type`</strong> = 'text/html; charset=utf-8'"
      ],
      "text/latex": [
       "\\textbf{\\$`content-type`} = 'text/html; charset=utf-8'"
      ],
      "text/markdown": [
       "**$`content-type`** = 'text/html; charset=utf-8'"
      ],
      "text/plain": [
       "$`content-type`\n",
       "[1] \"text/html; charset=utf-8\"\n"
      ]
     },
     "metadata": {},
     "output_type": "display_data"
    }
   ],
   "source": [
    "image_headers['content-type']"
   ]
  },
  {
   "cell_type": "markdown",
   "id": "4c85c75f-5d9a-4697-8373-fe48f4762df2",
   "metadata": {},
   "source": [
    "An image is a response object that contains the image as a  <a href=\"https://docs.python.org/3/glossary.html?utm_medium=Exinfluencer&utm_source=Exinfluencer&utm_content=000026UJ&utm_term=10006555&utm_id=NA-SkillsNetwork-Channel-SkillsNetworkCoursesIBMDeveloperSkillsNetworkRP0101ENCoursera889-2022-01-01#term-bytes-like-object\">bytes-like object</a>. As a result, we must save it using a file object. First, we specify the file path and\n",
    "name \n"
   ]
  },
  {
   "cell_type": "code",
   "execution_count": 30,
   "id": "cd66f64d-1b42-45e8-8d6f-532fbc24b0a7",
   "metadata": {},
   "outputs": [],
   "source": [
    "image <- content(image_response, \"raw\")\n",
    "writeBin(image, \"logo.png\")"
   ]
  },
  {
   "cell_type": "markdown",
   "id": "e96ba1d9-042b-43b8-a3a2-92b386367c85",
   "metadata": {},
   "source": [
    "Then you should be able to find the `log.png` at the file explorer on the left\n"
   ]
  },
  {
   "cell_type": "markdown",
   "id": "f33aad54-6421-47c7-9cf2-89dcc82e7b12",
   "metadata": {},
   "source": [
    "<hr>\n",
    "\n",
    "**Coding Exercise:** in the code cell below, find another image url and use above code to request and download the image\n",
    "\n",
    "<hr>\n"
   ]
  },
  {
   "cell_type": "code",
   "execution_count": null,
   "metadata": {},
   "outputs": [],
   "source": []
  },
  {
   "cell_type": "code",
   "execution_count": 34,
   "id": "d96f1653-fcb4-4e1b-a8c9-c55048f4ddf0",
   "metadata": {},
   "outputs": [],
   "source": [
    "# Find another image URL you are interested, and download the image using above example\n",
    "image_url = \"https://daihoc.fpt.edu.vn/wp-content/uploads/2021/06/IMG_9371-910x1214.jpeg\"\n",
    "image_response <- GET(image_url)\n",
    "image_headers <- headers(image_response)\n"
   ]
  },
  {
   "cell_type": "code",
   "execution_count": 35,
   "metadata": {},
=======
   "execution_count": 31,
   "metadata": {
    "tags": []
   },
>>>>>>> abe518e9c75bfbd56e1d4970cdeac31254a96a89
   "outputs": [
    {
     "data": {
      "text/html": [
       "<strong>$`content-type`</strong> = 'image/jpeg'"
      ],
      "text/latex": [
       "\\textbf{\\$`content-type`} = 'image/jpeg'"
      ],
      "text/markdown": [
       "**$`content-type`** = 'image/jpeg'"
      ],
      "text/plain": [
       "$`content-type`\n",
       "[1] \"image/jpeg\"\n"
      ]
     },
     "metadata": {},
     "output_type": "display_data"
    }
   ],
   "source": [
    "image_headers['content-type']"
   ]
  },
  {
<<<<<<< HEAD
   "cell_type": "code",
   "execution_count": 38,
   "metadata": {},
   "outputs": [],
   "source": [
    "image <- content(image_response, \"raw\")\n",
    "writeBin(image, \"txt.png\")"
=======
   "cell_type": "markdown",
   "metadata": {},
   "source": [
    "An image is a response object that contains the image as a  <a href=\"https://docs.python.org/3/glossary.html?utm_medium=Exinfluencer&utm_source=Exinfluencer&utm_content=000026UJ&utm_term=10006555&utm_id=NA-SkillsNetwork-Channel-SkillsNetworkCoursesIBMDeveloperSkillsNetworkRP0101ENCoursera889-2022-01-01#term-bytes-like-object\">bytes-like object</a>. As a result, we must save it using a file object. First, we specify the file path and\n",
    "name \n"
   ]
  },
  {
   "cell_type": "code",
   "execution_count": 32,
   "metadata": {
    "tags": []
   },
   "outputs": [],
   "source": [
    "image <- content(image_response, \"raw\")\n",
    "writeBin(image, \"logo.png\")"
   ]
  },
  {
   "cell_type": "markdown",
   "metadata": {},
   "source": [
    "Then you should be able to find the `log.png` at the file explorer on the left\n"
   ]
  },
  {
   "cell_type": "markdown",
   "metadata": {},
   "source": [
    "<hr>\n",
    "\n",
    "**Coding Exercise:** in the code cell below, find another image url and use above code to request and download the image\n",
    "\n",
    "<hr>\n"
   ]
  },
  {
   "cell_type": "code",
   "execution_count": 33,
   "metadata": {
    "tags": []
   },
   "outputs": [],
   "source": [
    "# Find another image URL you are interested, and download the image using above example\n",
    "image_url<-'https://i.pinimg.com/736x/80/5c/84/805c84621841fb724201a17d50d6a769--iphone-wallpaper-backgrounds.jpg'\n",
    "image_response<-GET(image_url)\n",
    "image <- content(image_response, \"raw\")\n",
    "writeBin(image, \"logo.png\")"
>>>>>>> abe518e9c75bfbd56e1d4970cdeac31254a96a89
   ]
  },
  {
   "cell_type": "markdown",
<<<<<<< HEAD
   "id": "0ffc9597-61e8-44c4-9e91-17b22dcaa22c",
=======
>>>>>>> abe518e9c75bfbd56e1d4970cdeac31254a96a89
   "metadata": {},
   "source": [
    "<h2 id=\"URL_P\">Get Request with URL Parameters </h2>\n"
   ]
  },
  {
   "cell_type": "markdown",
<<<<<<< HEAD
   "id": "c9755dbe-46b1-4365-b2c1-f9b6c9aa25f1",
=======
>>>>>>> abe518e9c75bfbd56e1d4970cdeac31254a96a89
   "metadata": {},
   "source": [
    "You can also add URL parameters to HTTP GET request to filter resources. For example, instead of return all users from an API, I only want to get the user with id 1. To do so, I can add a URL parameter like `userid = 1` in my GET request.\n"
   ]
  },
  {
   "cell_type": "markdown",
<<<<<<< HEAD
   "id": "1c4c9e2a-c1d3-480c-a304-2c82232b25bc",
=======
>>>>>>> abe518e9c75bfbd56e1d4970cdeac31254a96a89
   "metadata": {},
   "source": [
    "Let's see an GET example with URL parameters:\n"
   ]
  },
  {
   "cell_type": "markdown",
<<<<<<< HEAD
   "id": "8faa8a72-58ec-4745-af3c-7f73ed646eae",
=======
>>>>>>> abe518e9c75bfbd56e1d4970cdeac31254a96a89
   "metadata": {},
   "source": [
    "Suppose we have a simple GET API with base URL for <code>[http://httpbin.org/](http://httpbin.org?cm_mmc=Email_Newsletter-_-Developer_Ed%2BTech-_-WW_WW-_-SkillsNetwork-Courses-IBMDeveloperSkillsNetwork-PY0101EN-SkillsNetwork-19487395&cm_mmca1=000026UJ&cm_mmca2=10006555&cm_mmca3=M12345678&cvosrc=email.Newsletter.M12345678&cvo_campaign=000026UJ&cm_mmc=Email_Newsletter-_-Developer_Ed%2BTech-_-WW_WW-_-SkillsNetwork-Courses-IBMDeveloperSkillsNetwork-PY0101EN-SkillsNetwork-19487395&cm_mmca1=000026UJ&cm_mmca2=10006555&cm_mmca3=M12345678&cvosrc=email.Newsletter.M12345678&cvo_campaign=000026UJ&cm_mmc=Email_Newsletter-_-Developer_Ed%2BTech-_-WW_WW-_-SkillsNetwork-Courses-IBMDeveloperSkillsNetwork-PY0101EN-SkillsNetwork-19487395&cm_mmca1=000026UJ&cm_mmca2=10006555&cm_mmca3=M12345678&cvosrc=email.Newsletter.M12345678&cvo_campaign=000026UJ)</code> \n"
   ]
  },
  {
   "cell_type": "code",
<<<<<<< HEAD
   "execution_count": 39,
   "id": "ea0aae8f-1883-44a4-bd66-3c15f7308494",
=======
   "execution_count": null,
>>>>>>> abe518e9c75bfbd56e1d4970cdeac31254a96a89
   "metadata": {},
   "outputs": [],
   "source": [
    "url_get <- 'http://httpbin.org/get'"
   ]
  },
  {
   "cell_type": "markdown",
<<<<<<< HEAD
   "id": "37717747-bb59-43bc-8e3d-5fc9b6f63c38",
=======
>>>>>>> abe518e9c75bfbd56e1d4970cdeac31254a96a89
   "metadata": {},
   "source": [
    "and we want to add some URL parameters to above GET API. To do so, we simply create a named list with parameter names and values:\n"
   ]
  },
  {
   "cell_type": "code",
<<<<<<< HEAD
   "execution_count": 40,
   "id": "1a322f3c-de81-4ce5-bce4-cbc38a5d937d",
=======
   "execution_count": null,
>>>>>>> abe518e9c75bfbd56e1d4970cdeac31254a96a89
   "metadata": {},
   "outputs": [],
   "source": [
    "query_params <- list(name = \"Yan\", ID = \"123\")"
   ]
  },
  {
   "cell_type": "markdown",
<<<<<<< HEAD
   "id": "06e6ecba-749d-46b8-b060-f172da546ef1",
=======
>>>>>>> abe518e9c75bfbd56e1d4970cdeac31254a96a89
   "metadata": {},
   "source": [
    "Then passing the list <code>query_params</code> to the <code>query</code> argument of the <code> GET()</code> function. \n",
    "\n",
    "It basically tells the GET API I only want to get resources with name equals `Yan` and id equals `123`.\n",
    "\n",
    "OK, let's make the GET request to 'http://httpbin.org/get' with the two arameters\n"
   ]
  },
  {
   "cell_type": "code",
<<<<<<< HEAD
   "execution_count": 41,
   "id": "36f28096-5fa5-463e-ace6-b0459fe09905",
=======
   "execution_count": null,
>>>>>>> abe518e9c75bfbd56e1d4970cdeac31254a96a89
   "metadata": {},
   "outputs": [],
   "source": [
    "response <- GET(url_get, query=query_params)"
   ]
  },
  {
   "cell_type": "markdown",
<<<<<<< HEAD
   "id": "873bb107-fbae-4bd1-bb3e-c995d1c94bdc",
=======
>>>>>>> abe518e9c75bfbd56e1d4970cdeac31254a96a89
   "metadata": {},
   "source": [
    "We can print out the updated <code>URL</code> and see the attached URL parameters.\n"
   ]
  },
  {
   "cell_type": "code",
<<<<<<< HEAD
   "execution_count": 42,
   "id": "b1489c1b-957b-44bf-8628-744038618425",
   "metadata": {},
   "outputs": [
    {
     "data": {
      "text/html": [
       "'http://httpbin.org/get?name=Yan&amp;ID=123'"
      ],
      "text/latex": [
       "'http://httpbin.org/get?name=Yan\\&ID=123'"
      ],
      "text/markdown": [
       "'http://httpbin.org/get?name=Yan&amp;ID=123'"
      ],
      "text/plain": [
       "[1] \"http://httpbin.org/get?name=Yan&ID=123\""
      ]
     },
     "metadata": {},
     "output_type": "display_data"
    }
   ],
=======
   "execution_count": null,
   "metadata": {},
   "outputs": [],
>>>>>>> abe518e9c75bfbd56e1d4970cdeac31254a96a89
   "source": [
    "response$request$url"
   ]
  },
  {
   "cell_type": "markdown",
<<<<<<< HEAD
   "id": "e69748e0-8d88-4461-b836-ad602e8bc77f",
=======
>>>>>>> abe518e9c75bfbd56e1d4970cdeac31254a96a89
   "metadata": {},
   "source": [
    "After the base URL http://httpbin.org/get, you can see the URL parameters `name=Yan&ID=123` are seperated by `?`\n"
   ]
  },
  {
   "cell_type": "markdown",
<<<<<<< HEAD
   "id": "ff4bd6bf-6abe-4ff3-bb05-8c1a9a75ddd7",
=======
>>>>>>> abe518e9c75bfbd56e1d4970cdeac31254a96a89
   "metadata": {},
   "source": [
    "The attribute <code>args</code> of the response had the name and values:\n"
   ]
  },
  {
   "cell_type": "code",
<<<<<<< HEAD
   "execution_count": 43,
   "id": "d9827e4e-1c73-4972-b1d9-930deb6bf414",
   "metadata": {},
   "outputs": [
    {
     "data": {
      "text/html": [
       "<dl>\n",
       "\t<dt>$ID</dt>\n",
       "\t\t<dd>'123'</dd>\n",
       "\t<dt>$name</dt>\n",
       "\t\t<dd>'Yan'</dd>\n",
       "</dl>\n"
      ],
      "text/latex": [
       "\\begin{description}\n",
       "\\item[\\$ID] '123'\n",
       "\\item[\\$name] 'Yan'\n",
       "\\end{description}\n"
      ],
      "text/markdown": [
       "$ID\n",
       ":   '123'\n",
       "$name\n",
       ":   'Yan'\n",
       "\n",
       "\n"
      ],
      "text/plain": [
       "$ID\n",
       "[1] \"123\"\n",
       "\n",
       "$name\n",
       "[1] \"Yan\"\n"
      ]
     },
     "metadata": {},
     "output_type": "display_data"
    }
   ],
=======
   "execution_count": null,
   "metadata": {},
   "outputs": [],
>>>>>>> abe518e9c75bfbd56e1d4970cdeac31254a96a89
   "source": [
    "content(response)$args"
   ]
  },
  {
   "cell_type": "markdown",
<<<<<<< HEAD
   "id": "bc64be95-af33-489a-95a8-e2488295a17d",
=======
>>>>>>> abe518e9c75bfbd56e1d4970cdeac31254a96a89
   "metadata": {},
   "source": [
    "<h2 id=\"POST\">Post Requests  </h2>\n"
   ]
  },
  {
   "cell_type": "markdown",
<<<<<<< HEAD
   "id": "0bb7cee0-827b-4717-805f-cd2c0a30e43f",
=======
>>>>>>> abe518e9c75bfbd56e1d4970cdeac31254a96a89
   "metadata": {},
   "source": [
    "Like a <code>GET</code> request a <code>POST</code> is used to send data to a server in a request body. In order to send the Post Request in Python in the <code>URL</code> we change the route to <code>POST</code>:\n"
   ]
  },
  {
   "cell_type": "code",
<<<<<<< HEAD
   "execution_count": 44,
   "id": "612fabfc-6999-41df-a9dc-e4cfabe9f8a9",
=======
   "execution_count": null,
>>>>>>> abe518e9c75bfbd56e1d4970cdeac31254a96a89
   "metadata": {},
   "outputs": [],
   "source": [
    "url_post <- 'http://httpbin.org/post'"
   ]
  },
  {
   "cell_type": "markdown",
<<<<<<< HEAD
   "id": "f9af6c54-b048-4c0b-851b-c7ca7fdc278c",
=======
>>>>>>> abe518e9c75bfbd56e1d4970cdeac31254a96a89
   "metadata": {},
   "source": [
    "This endpoint will expect data as a file or as a form, a from is convenient way to configure an HTTP request to send data to a server.\n"
   ]
  },
  {
   "cell_type": "markdown",
<<<<<<< HEAD
   "id": "dd3a4287-21b6-439a-bb5c-fa73fb008bc2",
=======
>>>>>>> abe518e9c75bfbd56e1d4970cdeac31254a96a89
   "metadata": {},
   "source": [
    "To make a <code>POST</code> request we use the <code>POST()</code> function, the list <code>body</code>  is passed to the parameter <code> body </code>:\n"
   ]
  },
  {
   "cell_type": "code",
<<<<<<< HEAD
   "execution_count": 47,
   "id": "23fb3f24-3274-489b-a5cc-744b07fc9293",
   "metadata": {},
   "outputs": [
    {
     "data": {
      "text/plain": [
       "Response [http://httpbin.org/post]\n",
       "  Date: 2023-05-25 14:00\n",
       "  Status: 504\n",
       "  Content-Type: text/html\n",
       "  Size: 132 B\n",
       "<html>\r\n",
       "<head><title>504 Gateway Time-out</title></head>\r\n",
       "<body>\r\n",
       "<center><h1>504 Gateway Time-out</h1></center>\r\n",
       "</body>\r\n",
       "</html>\r"
      ]
     },
     "metadata": {},
     "output_type": "display_data"
    }
   ],
   "source": [
    "body<- list(course_name='Introduction to R 123', instructor='Yan')\n",
=======
   "execution_count": null,
   "metadata": {},
   "outputs": [],
   "source": [
    "body<- list(course_name='Introduction to R', instructor='Yan')\n",
>>>>>>> abe518e9c75bfbd56e1d4970cdeac31254a96a89
    "response<-POST('http://httpbin.org/post', body = body)\n",
    "response"
   ]
  },
  {
   "cell_type": "markdown",
<<<<<<< HEAD
   "id": "a7d813c6-4e6a-4e0e-b4c9-62a17211894c",
=======
>>>>>>> abe518e9c75bfbd56e1d4970cdeac31254a96a89
   "metadata": {},
   "source": [
    "We can see POST request has a body stored in fields attribute\n"
   ]
  },
  {
   "cell_type": "code",
<<<<<<< HEAD
   "execution_count": 48,
   "id": "724b8944-2f30-4bcb-b065-eac78579db75",
   "metadata": {},
   "outputs": [
    {
     "data": {
      "text/html": [
       "<dl>\n",
       "\t<dt>$course_name</dt>\n",
       "\t\t<dd>'Introduction to R 123'</dd>\n",
       "\t<dt>$instructor</dt>\n",
       "\t\t<dd>'Yan'</dd>\n",
       "</dl>\n"
      ],
      "text/latex": [
       "\\begin{description}\n",
       "\\item[\\$course\\_name] 'Introduction to R 123'\n",
       "\\item[\\$instructor] 'Yan'\n",
       "\\end{description}\n"
      ],
      "text/markdown": [
       "$course_name\n",
       ":   'Introduction to R 123'\n",
       "$instructor\n",
       ":   'Yan'\n",
       "\n",
       "\n"
      ],
      "text/plain": [
       "$course_name\n",
       "[1] \"Introduction to R 123\"\n",
       "\n",
       "$instructor\n",
       "[1] \"Yan\"\n"
      ]
     },
     "metadata": {},
     "output_type": "display_data"
    }
   ],
=======
   "execution_count": null,
   "metadata": {},
   "outputs": [],
>>>>>>> abe518e9c75bfbd56e1d4970cdeac31254a96a89
   "source": [
    "response$request$fields"
   ]
  },
  {
<<<<<<< HEAD
   "cell_type": "code",
   "execution_count": 50,
   "metadata": {},
   "outputs": [
    {
     "data": {
      "text/plain": [
       "Response [http://httpbin.org/get?name=Yan&ID=123]\n",
       "  Date: 2023-05-25 14:01\n",
       "  Status: 200\n",
       "  Content-Type: application/json\n",
       "  Size: 421 B\n",
       "{\n",
       "  \"args\": {\n",
       "    \"ID\": \"123\", \n",
       "    \"name\": \"Yan\"\n",
       "  }, \n",
       "  \"headers\": {\n",
       "    \"Accept\": \"application/json, text/xml, application/xml, */*\", \n",
       "    \"Accept-Encoding\": \"deflate, gzip\", \n",
       "    \"Host\": \"httpbin.org\", \n",
       "    \"User-Agent\": \"libcurl/7.84.0 r-curl/5.0.0 httr/1.4.6\", \n",
       "..."
      ]
     },
     "metadata": {},
     "output_type": "display_data"
    }
   ],
   "source": [
    "response<-GET('http://httpbin.org/get?name=Yan&ID=123')\n",
    "response"
   ]
  },
  {
   "cell_type": "markdown",
   "id": "6e2f31f2-8632-4753-b0fc-3e411eeae6cc",
=======
   "cell_type": "markdown",
>>>>>>> abe518e9c75bfbd56e1d4970cdeac31254a96a89
   "metadata": {},
   "source": [
    "There is a lot more you can do check out <a href=\"https://cran.r-project.org/web/packages/httr/vignettes/quickstart.html?utm_medium=Exinfluencer&utm_source=Exinfluencer&utm_content=000026UJ&utm_term=10006555&utm_id=NA-SkillsNetwork-Channel-SkillsNetworkCoursesIBMDeveloperSkillsNetworkRP0101ENCoursera889-2022-01-01\">httr </a> here.\n"
   ]
  },
  {
   "cell_type": "markdown",
<<<<<<< HEAD
   "id": "6ae06b88-ea32-42a1-bc8e-089f305ef5e2",
=======
>>>>>>> abe518e9c75bfbd56e1d4970cdeac31254a96a89
   "metadata": {},
   "source": [
    "<hr>\n"
   ]
  },
  {
   "cell_type": "markdown",
<<<<<<< HEAD
   "id": "b9006fef-949d-46ae-9337-43fdb25ba168",
=======
>>>>>>> abe518e9c75bfbd56e1d4970cdeac31254a96a89
   "metadata": {},
   "source": [
    "## Authors\n",
    "\n",
    "Hi, this is <a href=\"https://www.linkedin.com/in/yan-luo-96288783/?utm_medium=Exinfluencer&utm_source=Exinfluencer&utm_content=000026UJ&utm_term=10006555&utm_id=NA-SkillsNetwork-Channel-SkillsNetworkCoursesIBMDeveloperSkillsNetworkRP0101ENCoursera889-2022-01-01\" target=\"_blank\">Yan Luo</a> the author of this notebook. \n",
    "\n",
    "I hope you found it easy to learn how to HTTP requests in R! Feel free to connect with us if you have any questions.\n"
   ]
  },
  {
   "cell_type": "markdown",
<<<<<<< HEAD
   "id": "83c1be15-85a1-4d13-bac5-2a27b099826f",
=======
>>>>>>> abe518e9c75bfbd56e1d4970cdeac31254a96a89
   "metadata": {},
   "source": [
    "### Other Contributors\n"
   ]
  },
  {
   "cell_type": "markdown",
<<<<<<< HEAD
   "id": "08494587-fd75-432b-8e7e-4e0b5006f1bb",
=======
>>>>>>> abe518e9c75bfbd56e1d4970cdeac31254a96a89
   "metadata": {},
   "source": [
    "## Change Log\n",
    "\n",
    "| Date (YYYY-MM-DD) | Version | Changed By | Change Description           |\n",
    "| ----------------- | ------- | ---------- | ---------------------------- |\n",
    "| 2021-03-05        | 1.0     | Yan        | Initial version created      |\n",
    "|                   |         |            |                              |\n",
    "|                   |         |            |                              |\n",
    "\n",
    "## <h3 align=\"center\"> © IBM Corporation 2021. All rights reserved. <h3/>\n"
   ]
  }
 ],
 "metadata": {
  "kernelspec": {
   "display_name": "R",
   "language": "R",
<<<<<<< HEAD
   "name": "ir"
=======
   "name": "conda-env-r-r"
>>>>>>> abe518e9c75bfbd56e1d4970cdeac31254a96a89
  },
  "language_info": {
   "codemirror_mode": "r",
   "file_extension": ".r",
   "mimetype": "text/x-r-source",
   "name": "R",
   "pygments_lexer": "r",
<<<<<<< HEAD
   "version": "4.2.1"
=======
   "version": "3.5.1"
>>>>>>> abe518e9c75bfbd56e1d4970cdeac31254a96a89
  }
 },
 "nbformat": 4,
 "nbformat_minor": 4
}
